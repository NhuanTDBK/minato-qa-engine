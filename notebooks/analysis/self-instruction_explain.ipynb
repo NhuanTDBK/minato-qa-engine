{
 "cells": [
  {
   "cell_type": "code",
   "execution_count": 5,
   "metadata": {},
   "outputs": [],
   "source": [
    "from openai import OpenAI\n",
    "from typing import List, Optional, Any\n",
    "from typing import List, Tuple, Dict, Any, Union\n",
    "from enum import Enum\n",
    "import json\n",
    "import jinja2\n",
    "import random\n",
    "import re\n",
    "from tqdm import trange, tqdm\n",
    "from pydantic import BaseModel, Field, TypeAdapter, RootModel, ValidationError"
   ]
  },
  {
   "cell_type": "code",
   "execution_count": 6,
   "metadata": {},
   "outputs": [],
   "source": [
    "default_guideline = \"\"\"\n",
    "- Both contents are at most 50 words\n",
    "- Do not use this or that in the response, instead use the name of the entity\n",
    "- Be creative, factfulness \\n\n",
    "\"\"\"\n",
    "default_prompt_template = \"\"\"\n",
    "### Instruction\n",
    "{instruction}\n",
    "### Guideline\n",
    "{guideline}\n",
    "\n",
    "### Input\n",
    "{input}\n",
    "### Response\n",
    "{response}\n",
    "\"\"\"\n",
    "\n",
    "\n",
    "class QuestionAnswering(BaseModel):\n",
    "    instruction: str = Field(..., title=\"Instruction\")\n",
    "    output: Optional[str] = Field(\n",
    "        None, title=\"Output\", description=\"Output of the instruction\"\n",
    "    )\n",
    "\n",
    "\n",
    "class InstructionOutput(BaseModel):\n",
    "    instruction: str = Field(..., title=\"Instruction\")\n",
    "    output: Optional[str] = Field(\n",
    "        None, title=\"Output\", description=\"Output of the instruction\"\n",
    "    )\n",
    "\n",
    "\n",
    "class InstructionInputOuput(BaseModel):\n",
    "    instruction: str = Field(..., title=\"Instruction\")\n",
    "    input: str = Field(..., title=\"Input\", description=\"Input to the instruction\")\n",
    "    output: Optional[str] = Field(\n",
    "        None, title=\"Output\", description=\"Output of the instruction\"\n",
    "    )\n",
    "\n",
    "\n",
    "class QuestionAnswering(BaseModel):\n",
    "    question: str = Field()\n",
    "    answer: str = Field()\n",
    "\n",
    "\n",
    "class MultipleChoiceQuestionAnswering(BaseModel):\n",
    "    question: str = Field()\n",
    "    choices: str = Field(\n",
    "        description=\"Multiple choices for the question with structure: A. Choice 1\\n B. Choice 2\\n C. Choice 3\\n D. Choice 4, etc.\"\n",
    "    )\n",
    "    # choices: List[Choices] = Field()\n",
    "    answer: str = Field(\n",
    "        description=\"Answer to the question, value should be single letter such as A, B, C, D, etc.\"\n",
    "    )\n",
    "\n",
    "\n",
    "class EntityKeyValue(BaseModel):\n",
    "    entity_name: str = Field(..., title=\"Entity Name\", description=\"Name of the entity\")\n",
    "    entity_value: str = Field(\n",
    "        ..., title=\"Entity Value\", description=\"Value of the entity\"\n",
    "    )\n",
    "\n",
    "\n",
    "class EntityExtractionOutput(BaseModel):\n",
    "    instruction: str = Field(\n",
    "        ...,\n",
    "        title=\"Instruction\",\n",
    "    )\n",
    "    output: List[EntityKeyValue] = Field(\n",
    "        ..., title=\"Output\", description=\"Output of the instruction\"\n",
    "    )\n",
    "\n",
    "\n",
    "class PromptMeta(BaseModel):\n",
    "    name: Optional[str] = Field(\n",
    "        default=None, title=\"Name\", description=\"Name of the prompt\"\n",
    "    )\n",
    "    instruction: str = Field(title=\"Instruction\")\n",
    "    guideline: Optional[str] = Field(\n",
    "        default=default_guideline,\n",
    "        title=\"Guideline\",\n",
    "        description=\"Guideline to be followed\",\n",
    "    )\n",
    "    input: Optional[str] = Field(\n",
    "        default=None, title=\"Input\", description=\"Input to the instruction\"\n",
    "    )\n",
    "    response: Optional[str] = Field(\n",
    "        default=None, title=\"Response\", description=\"Response to the instruction\"\n",
    "    )\n",
    "    expected_output: Optional[Any] = Field(\n",
    "        default=None,\n",
    "        title=\"Expected Output\",\n",
    "        description=\"Expected output of the instruction\",\n",
    "    )\n",
    "\n",
    "    def to_prompt(self) -> str:\n",
    "        return default_prompt_template.format(\n",
    "            instruction=self.instruction,\n",
    "            guideline=self.guideline,\n",
    "            input=self.input,\n",
    "            response=self.response,\n",
    "        )\n",
    "\n",
    "\n",
    "ListQuestionAnswering = RootModel[List[QuestionAnswering]]\n",
    "ListMultipleChoiceQuestionAnswering = RootModel[List[MultipleChoiceQuestionAnswering]]\n",
    "\n",
    "YAML_FORMAT_INSTRUCTIONS = jinja2.Template(\n",
    "    \"\"\"The output should be formatted as a YAML instance that conforms to the given JSON schema below.\n",
    "\n",
    "# Examples\n",
    "## Schema\n",
    "```\n",
    "{\"properties\": {\"habit\": { \"description\": \"A common daily habit\", \"type\": \"string\" }, \"sustainable_alternative\": { \"description\": \"An environmentally friendly alternative to the habit\", \"type\": \"string\"}}}, \"required\": [\"habit\", \"sustainable_alternative\"]}}\n",
    "```\n",
    "## Well formatted instance\n",
    "```\n",
    "habit: Using disposable water bottles for daily hydration\n",
    "sustainable_alternative: |\n",
    "    Fire Style: Majestic Flame Destroyer\n",
    "``` \n",
    "Please follow the standard YAML formatting conventions with correct indentations, and make sure that the data types adhere strictly to the following JSON schema: \n",
    "```\n",
    "{{schema}}\n",
    "```\n",
    "Always use block scalar literal style '|' in YAML if answers include special characters such as colons, dashs\n",
    "Make sure to always enclose the YAML output in triple backticks (```). Please do not add anything other than valid YAML output!\"\"\"\n",
    ")\n",
    "\n",
    "JSON_FORMAT_INSTRUCTIONS = jinja2.Template(\n",
    "    \"\"\"The output should be formatted as a JSON instance that conforms to the given JSON schema below.\n",
    "                                           \n",
    "# Examples\n",
    "## Schema\n",
    "```\n",
    "{\"properties\": {\"habit\": { \"description\": \"A common daily habit\", \"type\": \"string\" }, \"sustainable_alternative\": { \"description\": \"An environmentally friendly alternative to the habit\", \"type\": \"string\"}}}, \"required\": [\"habit\", \"sustainable_alternative\"]}}\n",
    "```\n",
    "## Well formatted instance\n",
    "```\n",
    "{\n",
    "    \"habit\": \"Using disposable water bottles for daily hydration\",\n",
    "    \"sustainable_alternative\": \"Fire Style: Majestic Flame Destroyer\"\n",
    "}\n",
    "```\n",
    "Please follow the standard JSON formatting conventions with correct indentations, and make sure that the data types adhere strictly to the following JSON schema:\n",
    "```\n",
    "{{schema}}\n",
    "```\n",
    "Use escape double quotes in a string is by using backslashes (\\)\n",
    "Make sure to always enclose the JSON output in triple backticks (```). Please do not add anything other than valid JSON output!\"\"\"\n",
    ")\n",
    "\n",
    "\n",
    "def get_format_instructions(cls: BaseModel) -> str:\n",
    "    schema = cls.model_json_schema()\n",
    "\n",
    "    # Remove extraneous fields.\n",
    "    reduced_schema = schema\n",
    "    if \"title\" in reduced_schema:\n",
    "        del reduced_schema[\"title\"]\n",
    "    if \"type\" in reduced_schema:\n",
    "        del reduced_schema[\"type\"]\n",
    "    # Ensure yaml in context is well-formed with double quotes.\n",
    "    schema_str = json.dumps(reduced_schema)\n",
    "    return JSON_FORMAT_INSTRUCTIONS.render(schema=schema_str)"
   ]
  },
  {
   "cell_type": "code",
   "execution_count": 7,
   "metadata": {},
   "outputs": [],
   "source": [
    "model_name = \"meta-llama/Llama-3.3-70B-Instruct-Turbo\"\n",
    "api_key = \"M8lfE1LIxpckoMXmMi2uW1tzPW2kZAwI\"\n",
    "base_url = \"https://api.deepinfra.com/v1/openai\"\n",
    "\n",
    "# Assume openai>=1.0.0\n",
    "from openai import OpenAI\n",
    "\n",
    "# Create an OpenAI client with your deepinfra token and endpoint\n",
    "chat_openai_client = OpenAI(\n",
    "    api_key=api_key,\n",
    "    base_url=base_url,\n",
    ")"
   ]
  },
  {
   "cell_type": "code",
   "execution_count": 8,
   "metadata": {},
   "outputs": [],
   "source": [
    "# Assume openai>=1.0.0\n",
    "from openai import OpenAI\n",
    "\n",
    "# Create an OpenAI client with your deepinfra token and endpoint\n",
    "chat_openai_client = OpenAI(\n",
    "    api_key=api_key,\n",
    "    base_url=base_url,\n",
    ")\n",
    "\n",
    "# chat_completion = chat_openai_client.beta.chat.completions.parse(\n",
    "#     model=model_name,\n",
    "#     messages=[{\"role\": \"user\", \"content\": \"Hello\"}],\n",
    "#     response_format=QuestionAnswering\n",
    "# )\n",
    "\n",
    "# print(chat_completion.choices[0].message.content)\n",
    "# print(chat_completion.usage.prompt_tokens, chat_completion.usage.completion_tokens)"
   ]
  },
  {
   "cell_type": "code",
   "execution_count": 9,
   "metadata": {},
   "outputs": [],
   "source": [
    "# # meta_instructions = [\n",
    "# #     {\n",
    "# #         \"name\": \"Information Extraction : Extracting people, location, events from text\",\n",
    "# #         \"instruction\": \"Generate an instruction and a output related to Information Extraction : Extracting people, location, events from text, in the context of Naruto manga, return in YAML format\",\n",
    "# #         \"level\": 1,\n",
    "# #         \"expected_output\": EntityExtractionOutput,\n",
    "# #         \"guideline\": \"\\nIgnore entity value empty\",\n",
    "# #     },\n",
    "# #     {\n",
    "# #         \"name\": \"Relation Extraction : Discovering and categorizing relationships between entities within a text\",\n",
    "# #         \"instruction\": \"Generate an instruction and a output related to Relation Extraction : Discovering and categorizing relationships between entities within a text, in the context of Naruto manga return in YAML format\",\n",
    "# #         \"level\": 1,\n",
    "# #         \"expected_output\": QuestionAnswering,\n",
    "# #     },\n",
    "# #     {\n",
    "# #         \"name\": \"Give me the definition of the words in this context about Naruto manga. Focus on noun term. Naruto manga has some influences from Buddhist and Japan culture of ninja, samurai\",\n",
    "# #         \"instruction\": \"Generate an instruction and a output related to Give me the definition of the words in this context about Naruto manga. Focus on noun term. Naruto manga has some influences from Buddhist and Japan culture of ninja, samurai, return in YAML format\",\n",
    "# #         \"level\": 1,\n",
    "# #         \"expected_output\": InstructionOutput,\n",
    "# #     },\n",
    "# #     {\n",
    "# #         \"name\": \"Replace the <mask> token in the text with proper words that are consistent with the context. You can use multiple words for each <mask> token\",\n",
    "# #         \"instruction\": \"Generate an instruction, a input and a output related to Replace the MASK token in the text with proper words that are consistent with the context, return in YAML format\",\n",
    "# #         \"level\": 1,\n",
    "# #         \"expected_output\": QuestionAnswering,\n",
    "# #         \"guideline\": \"Both contents contain at most 3 sentences, tokens are at most 100 words\\nBe creative, factfulness\",\n",
    "# #     },\n",
    "# #     {\n",
    "# #         \"name\": \"Verify if the claim is true or false based on provided context. It is false, explain why\",\n",
    "# #         \"instruction\": \"Generate an instruction and a output related to Verify if the claim is true or false based on provided context. It is false, explain why, return in YAML format\",\n",
    "# #         \"expected_output\": QuestionAnswering,\n",
    "# #     },\n",
    "# #     {\n",
    "# #         \"name\": \"Intent Recognition : Determining the author's intention or goal behind a given text\",\n",
    "# #         \"instruction\": \"Generate an instruction and a output related to Intent Recognition : Determining the author's intention or goal behind a given text based on a given text. Background: Naruto is fictional manga written by Japanese artist, which has some influences from Buddhist and Japan culture of ninja, samurai, return in YAML format\",\n",
    "# #         \"level\": 1,\n",
    "# #         \"expected_output\": QuestionAnswering,\n",
    "# #     },\n",
    "# # ]\n",
    "# meta_instructions = [\n",
    "#     {\n",
    "#         \"name\": \"Character Analysis\",\n",
    "#         \"instruction\": \"Generate an instruction and output related to analyzing character traits, development, and motivations in Naruto\",\n",
    "#         \"level\": 2,\n",
    "#         \"expected_output\": QuestionAnswering,\n",
    "#         \"examples\": [\n",
    "#             {\n",
    "#                 \"instruction\": \"Analyze how Naruto's childhood experiences shaped his dream of becoming Hokage\",\n",
    "#                 \"output_format\": \"essay\",\n",
    "#                 \"complexity\": \"high\",\n",
    "#             }\n",
    "#         ],\n",
    "#         \"guideline\": \"Focus on psychological depth and character development arcs\",\n",
    "#     },\n",
    "#     {\n",
    "#         \"name\": \"Power System Analysis\",\n",
    "#         \"instruction\": \"Generate questions and answers about chakra, jutsu, and ninja techniques\",\n",
    "#         \"level\": 2,\n",
    "#         \"expected_output\": QuestionAnswering,\n",
    "#         \"examples\": [\n",
    "#             {\n",
    "#                 \"instruction\": \"Explain the different types of chakra nature transformations and their relationships\",\n",
    "#                 \"output_format\": \"structured_explanation\",\n",
    "#                 \"complexity\": \"medium\",\n",
    "#             }\n",
    "#         ],\n",
    "#         \"guideline\": \"Include technical details and specific examples from the manga/anime\",\n",
    "#     },\n",
    "#     {\n",
    "#         \"name\": \"Event Timeline Construction\",\n",
    "#         \"instruction\": \"Create questions about the chronological order of major events in the Naruto universe\",\n",
    "#         \"level\": 3,\n",
    "#         \"expected_output\": QuestionAnswering,\n",
    "#         \"examples\": [\n",
    "#             {\n",
    "#                 \"instruction\": \"Order these events chronologically: Fourth Shinobi War, Pain's Assault, Uchiha Massacre\",\n",
    "#                 \"output_format\": \"multiple_choice\",\n",
    "#                 \"complexity\": \"medium\",\n",
    "#             }\n",
    "#         ],\n",
    "#         \"guideline\": \"Ensure historical accuracy and causal relationships between events\",\n",
    "#     },\n",
    "#     {\n",
    "#         \"name\": \"World Building Comprehension\",\n",
    "#         \"instruction\": \"Generate questions about the political structure, village systems, and ninja world organization\",\n",
    "#         \"level\": 2,\n",
    "#         \"expected_output\": QuestionAnswering,\n",
    "#         \"examples\": [\n",
    "#             {\n",
    "#                 \"instruction\": \"Describe the relationship between the Five Great Ninja Villages and their respective Kage\",\n",
    "#                 \"output_format\": \"structured_analysis\",\n",
    "#                 \"complexity\": \"high\",\n",
    "#             }\n",
    "#         ],\n",
    "#         \"guideline\": \"Include political, economic, and social aspects of the ninja world\",\n",
    "#     },\n",
    "#     {\n",
    "#         \"name\": \"Battle Analysis\",\n",
    "#         \"instruction\": \"Create detailed analysis of significant battles, strategies, and fighting techniques\",\n",
    "#         \"level\": 3,\n",
    "#         \"expected_output\": QuestionAnswering,\n",
    "#         \"examples\": [\n",
    "#             {\n",
    "#                 \"instruction\": \"Analyze the strategic elements in the battle between Naruto and Pain\",\n",
    "#                 \"output_format\": \"detailed_analysis\",\n",
    "#                 \"complexity\": \"high\",\n",
    "#             }\n",
    "#         ],\n",
    "#         \"guideline\": \"Focus on tactical decisions, jutsu usage, and battle outcomes\",\n",
    "#     },\n",
    "#     {\n",
    "#         \"name\": \"Theme Exploration\",\n",
    "#         \"instruction\": \"Generate questions exploring major themes like friendship, sacrifice, and cycle of hatred\",\n",
    "#         \"level\": 3,\n",
    "#         \"expected_output\": QuestionAnswering,\n",
    "#         \"examples\": [\n",
    "#             {\n",
    "#                 \"instruction\": \"How does the series explore the theme of breaking the cycle of hatred?\",\n",
    "#                 \"output_format\": \"essay\",\n",
    "#                 \"complexity\": \"high\",\n",
    "#             }\n",
    "#         ],\n",
    "#         \"guideline\": \"Connect themes to specific story events and character developments\",\n",
    "#     },\n",
    "#     {\n",
    "#         \"name\": \"Cross-Reference Analysis\",\n",
    "#         \"instruction\": \"Create questions that require connecting information from different story arcs or time periods\",\n",
    "#         \"level\": 4,\n",
    "#         \"expected_output\": InstructionOutput,\n",
    "#         \"examples\": [\n",
    "#             {\n",
    "#                 \"instruction\": \"Compare the similarities between the Sage of Six Paths' story and Naruto's journey\",\n",
    "#                 \"output_format\": \"comparative_analysis\",\n",
    "#                 \"complexity\": \"high\",\n",
    "#             }\n",
    "#         ],\n",
    "#         \"guideline\": \"Focus on connecting seemingly unrelated elements of the story\",\n",
    "#     },\n",
    "# ]\n",
    "\n",
    "# number_of_instances = 10\n",
    "# qa_instructions = [\n",
    "#     {\n",
    "#         \"name\": \"Reading Comprehension : Understanding and answering questions based on a given text\",\n",
    "#         \"level\": 1,\n",
    "#         \"instruction\": f\"Generate {number_of_instances} question and answer pairs related to Reading Comprehension : Understanding and answering questions based on a given text\",\n",
    "#         \"expected_output\": QuestionAnsweringOutput,\n",
    "#         \"guideline\": \"\"\"\n",
    "# - Question about who, what, when, where, why and how questions about the given text\n",
    "# - Question and answer tokens are at most 50 words\n",
    "# - Do not use this or that in the question, use the explicit name of the entity\n",
    "# - Difficulty level: easy. Definition of easy: The answer is directly in the text\n",
    "# \"\"\",\n",
    "#     },\n",
    "#     {\n",
    "#         \"name\": \"Reading Comprehension : Understanding and answering questions based on a given text\",\n",
    "#         \"level\": 1,\n",
    "#         \"instruction\": f\"Generate {number_of_instances} question and answer pairs related to Reading Comprehension : Understanding and answering questions based on a given text\",\n",
    "#         \"expected_output\": QuestionAnsweringOutput,\n",
    "#         \"guideline\": \"\"\"\n",
    "# - Questions cover cover a range of topics, including character motivations, plot twists, specific dialogues, who, what, when, where, why and how questions about the given text\n",
    "# - Question and answer tokens are at most 100 words\n",
    "# - Do not use this or that in the question, use the explicit name of the entity\n",
    "# - Draft questions that require in-depth knowledge and critical thinking, Avoid straightforward questions. Instead, focus on nuanced and detailed aspects of the manga\n",
    "# - Consider aspects like character backgrounds, hidden abilities, and lesser-known facts.\n",
    "# - Difficulty level: medium. Definition of medium: The answer is not directly in the text, but can be inferred from the text. For example, relationship between two people, or the cause of an event\n",
    "# \"\"\"\n",
    "#     },\n",
    "#     {\n",
    "#         \"name\": \"Reading Comprehension : Understanding and answering questions based on a given text\",\n",
    "#         \"level\": 1,\n",
    "#         \"instruction\": f\"Using the following paragraph, write {number_of_instances} multiple-choices question-answer pairs\",\n",
    "#         \"expected_output\": MultipleChoiceQuestionAnsweringOutput,\n",
    "#         \"guideline\": \"\"\"\n",
    "# - Questions cover cover a range of topics, including character motivations, plot twists, specific dialogues, who, what, when, where, why and how questions about the given text\n",
    "# - Question and answer tokens are at most 100 words\n",
    "# - Do not use this or that in the question, use the explicit name of the entity\n",
    "# - Difficulty level: hard. Definition of hard: The answer is not directly in the text, but can be inferred from the text and reasoning is required. There are at most 6 choices, and only one is correct, include None of the above are correct\n",
    "# - Incorporate specific details from the context that require careful reading and recall\n",
    "# - Include questions about the cultural and mythological references used in the context if possible\n",
    "# - Pose questions that require the reader to connect different parts\n",
    "#         \"\"\",\n",
    "\n",
    "#     },\n",
    "# ]"
   ]
  },
  {
   "cell_type": "code",
   "execution_count": null,
   "metadata": {},
   "outputs": [],
   "source": []
  },
  {
   "cell_type": "code",
   "execution_count": 10,
   "metadata": {},
   "outputs": [
    {
     "data": {
      "text/markdown": [
       "# Generate synthetic dataset\n",
       "- Classify data into characters, clans, jutsu, and villages\n",
       "- Each class has meta synthetic prompts to generate questions and answers, long-form answers, and multiple-choice questions\n",
       "- Generate 10 instances for each class\n"
      ],
      "text/plain": [
       "<IPython.core.display.Markdown object>"
      ]
     },
     "metadata": {},
     "output_type": "display_data"
    }
   ],
   "source": [
    "%%markdown\n",
    "# Generate synthetic dataset\n",
    "- Classify data into characters, clans, jutsu, and villages\n",
    "- Each class has meta synthetic prompts to generate questions and answers, long-form answers, and multiple-choice questions\n",
    "- Generate 10 instances for each class"
   ]
  },
  {
   "cell_type": "code",
   "execution_count": 11,
   "metadata": {},
   "outputs": [],
   "source": [
    "class GroupType(Enum):\n",
    "    CHARACTERS = \"characters\"\n",
    "    CLANS = \"clans\"\n",
    "    JUTSU = \"jutsu\"\n",
    "    VILLAGES = \"villages\"\n",
    "    CHAKRA = \"chakra\"\n",
    "    PLOT = \"plot\"\n",
    "    BUDDHIST = \"buddhist\"\n",
    "meta_instructions = [\n",
    "    {\n",
    "        \"name\": \"Character Analysis\",\n",
    "        \"instruction\": \"Generate an instruction and output related to analyzing character traits, development, and motivations in Naruto\",\n",
    "        \"level\": 2,\n",
    "        \"expected_output\": InstructionOutput,\n",
    "        \"examples\": [\n",
    "            {\n",
    "                \"instruction\": \"Analyze how Naruto's childhood experiences shaped his dream of becoming Hokage\",\n",
    "                \"output_format\": \"essay\",\n",
    "                \"complexity\": \"high\",\n",
    "            }\n",
    "        ],\n",
    "        \"guideline\": \"Focus on psychological depth and character development arcs\",\n",
    "        \"group\": GroupType.CHARACTERS,\n",
    "    },\n",
    "    {\n",
    "        \"name\": \"Power System Analysis\",\n",
    "        \"instruction\": \"Generate an instruction and output about chakra\",\n",
    "        \"level\": 2,\n",
    "        \"expected_output\": InstructionOutput,\n",
    "        \"examples\": [\n",
    "            {\n",
    "                \"instruction\": \"Explain the different types of chakra nature transformations and their relationships\",\n",
    "                \"output_format\": \"structured_explanation\",\n",
    "                \"complexity\": \"medium\",\n",
    "            }\n",
    "        ],\n",
    "        \"guideline\": \"Include technical details and specific examples from the manga/anime\",\n",
    "        \"group\": GroupType.CHAKRA\n",
    "    },\n",
    "    {\n",
    "        \"name\": \"Power System Analysis\",\n",
    "        \"instruction\": \"Generate an instruction and output about jutsu and ninja techniques\",\n",
    "        \"level\": 2,\n",
    "        \"expected_output\": InstructionOutput,\n",
    "        \"examples\": [\n",
    "            {\n",
    "                \"instruction\": \"Explain the different types of chakra nature transformations and their relationships\",\n",
    "                \"output_format\": \"structured_explanation\",\n",
    "                \"complexity\": \"medium\",\n",
    "            }\n",
    "        ],\n",
    "        \"guideline\": \"Include technical details and specific examples from the manga/anime\",\n",
    "        \"group\": GroupType.JUTSU\n",
    "    },\n",
    "    {\n",
    "        \"name\": \"Event Timeline Construction\",\n",
    "        \"instruction\": \"Generate an instruction and output about the chronological order of major events in the Naruto universe\",\n",
    "        \"level\": 3,\n",
    "        \"expected_output\": InstructionOutput,\n",
    "        \"examples\": [\n",
    "            {\n",
    "                \"instruction\": \"Order these events chronologically: Fourth Shinobi War, Pain's Assault, Uchiha Massacre\",\n",
    "                \"output_format\": \"multiple_choice\",\n",
    "                \"complexity\": \"medium\",\n",
    "            }\n",
    "        ],\n",
    "        \"guideline\": \"Ensure historical accuracy and causal relationships between events\",\n",
    "        \"group\": GroupType.PLOT\n",
    "    },\n",
    "    {\n",
    "        \"name\": \"World Building Comprehension\",\n",
    "        \"instruction\": \"Generate an instruction and output about the political structure, village systems, and ninja world organization\",\n",
    "        \"level\": 2,\n",
    "        \"expected_output\": InstructionOutput,\n",
    "        \"examples\": [\n",
    "            {\n",
    "                \"instruction\": \"Describe the relationship between the Five Great Ninja Villages and their respective Kage\",\n",
    "                \"output_format\": \"structured_analysis\",\n",
    "                \"complexity\": \"high\",\n",
    "            }\n",
    "        ],\n",
    "        \"guideline\": \"Include political, economic, and social aspects of the ninja world\",\n",
    "        \"group\": GroupType.VILLAGES\n",
    "    },\n",
    "    {\n",
    "        \"name\": \"Battle Analysis\",\n",
    "        \"instruction\": \"Generate an instruction and output of significant battles, strategies, and fighting techniques\",\n",
    "        \"level\": 3,\n",
    "        \"expected_output\": InstructionOutput,\n",
    "        \"examples\": [\n",
    "            {\n",
    "                \"instruction\": \"Analyze the strategic elements in the battle between Naruto and Pain\",\n",
    "                \"output_format\": \"detailed_analysis\",\n",
    "                \"complexity\": \"high\",\n",
    "            }\n",
    "        ],\n",
    "        \"guideline\": \"Focus on tactical decisions, jutsu usage, and battle outcomes. Return at most 6 sentences\",\n",
    "        \"group\": GroupType.PLOT\n",
    "    },\n",
    "    {\n",
    "        \"name\": \"Theme Exploration\",\n",
    "        \"instruction\": \"Generate an instruction and output exploring major themes like friendship, sacrifice, and cycle of hatred\",\n",
    "        \"level\": 3,\n",
    "        \"expected_output\": InstructionOutput,\n",
    "        \"examples\": [\n",
    "            {\n",
    "                \"instruction\": \"How does the series explore the theme of breaking the cycle of hatred?\",\n",
    "                \"output_format\": \"essay\",\n",
    "                \"complexity\": \"high\",\n",
    "            }\n",
    "        ],\n",
    "        \"guideline\": \"Connect themes to specific story events and character developments\",\n",
    "        \"group\": GroupType.PLOT\n",
    "    },\n",
    "    {\n",
    "        \"name\": \"Cross-Reference Analysis\",\n",
    "        \"instruction\": \"Generate an instruction and output that require connecting information from different story arcs or time periods\",\n",
    "        \"level\": 4,\n",
    "        \"expected_output\": InstructionOutput,\n",
    "        \"examples\": [\n",
    "            {\n",
    "                \"instruction\": \"Compare the similarities between the Sage of Six Paths' story and Naruto's journey\",\n",
    "                \"output_format\": \"comparative_analysis\",\n",
    "                \"complexity\": \"high\",\n",
    "            }\n",
    "        ],\n",
    "        \"guideline\": \"Focus on connecting seemingly unrelated elements of the story\",\n",
    "        \"group\": GroupType.PLOT\n",
    "    },\n",
    "    {\n",
    "        \"name\": \"Jutsu Classification\",\n",
    "        \"instruction\": \"Generate an instruction and output about categorizing different types of jutsu\",\n",
    "        \"level\": 1,\n",
    "        \"expected_output\": InstructionOutput,\n",
    "        \"example\": {\n",
    "            \"instruction\": \"Classify these jutsu by type: Chidori, Shadow Clone, Gentle Fist\",\n",
    "            \"categories\": [\"Ninjutsu\", \"Taijutsu\"],\n",
    "        },\n",
    "        \"group\": GroupType.JUTSU\n",
    "    },\n",
    "    {\n",
    "        \"name\": \"Multiple-Choice Character Abilities\",\n",
    "        \"instruction\": \"Generate an instruction and output about character abilities/jutsu at least 4 choices, at most 8 choices, only one correct answer\",\n",
    "        \"level\": 1,\n",
    "        \"expected_output\": InstructionOutput,\n",
    "        \"example\": {\n",
    "            \"question\": \"What type of chakra nature is Naruto's Rasengan?\",\n",
    "            \"choices\": [\"Wind\", \"Lightning\", \"No nature\", \"Fire\"],\n",
    "            \"correct\": 2,\n",
    "        },\n",
    "        \"group\": GroupType.CHARACTERS\n",
    "    },    \n",
    "        {\n",
    "        \"name\": \"Cause-Effect Analysis\",\n",
    "        \"instruction\": \"Generate an instruction and output about cause-effect relationships in major plot points\",\n",
    "        \"level\": 3,\n",
    "        \"expected_output\": InstructionOutput,\n",
    "        \"example\": {\n",
    "            \"instruction\": \"How did Pain's attack on Konoha ultimately affect Naruto's development as a character?\",\n",
    "            \"expected_elements\": [\n",
    "                \"personal growth\",\n",
    "                \"village recognition\",\n",
    "                \"understanding pain\",\n",
    "            ],\n",
    "        },\n",
    "        \"group\": GroupType.PLOT\n",
    "    },\n",
    "    {\n",
    "        \"name\": \"Cultural Reference Identification\",\n",
    "        \"instruction\": \"Generate an instruction and output about Japanese cultural and Buddhist references in Naruto\",\n",
    "        \"level\": 2,\n",
    "        \"expected_output\": InstructionOutput,\n",
    "        \"example\": {\n",
    "            \"instruction\": \"Which Buddhist concept is reflected in Pain's philosophy?\",\n",
    "            \"choices\": [\"Karma\", \"Samsara\", \"Nirvana\", \"Dharma\"],\n",
    "        },\n",
    "        \"group\": GroupType.BUDDHIST\n",
    "    },    \n",
    "    {\n",
    "        \"name\": \"Plot Hole Resolution\",\n",
    "        \"instruction\": \"Generate an instruction and output that address apparent plot inconsistencies\",\n",
    "        \"level\": 4,\n",
    "        \"expected_output\": InstructionOutput,\n",
    "        \"example\": {\n",
    "            \"instruction\": \"Explain how Kakashi still had Sharingan abilities after giving his eye to Obito\",\n",
    "            \"key_points\": [\"temporary power\", \"chakra residue\"],\n",
    "        },\n",
    "        \"group\": GroupType.PLOT\n",
    "    },    \n",
    "    {\n",
    "        \"name\": \"Inter-Village Relations\",\n",
    "        \"instruction\": \"Generate an instruction and output about diplomatic relationships between ninja villages\",\n",
    "        \"level\": 3,\n",
    "        \"expected_output\": InstructionOutput,\n",
    "        \"example\": {\n",
    "            \"instruction\": \"How did the alliance system change from pre-war to post-war ninja world?\",\n",
    "            \"aspects\": [\"treaties\", \"trade\", \"military cooperation\"],\n",
    "        },\n",
    "        \"group\": GroupType.VILLAGES\n",
    "    },    \n",
    "    {\n",
    "        \"name\": \"Clan Politics\",\n",
    "        \"instruction\": \"Generate an instruction and output about political influence of major clans\",\n",
    "        \"level\": 2,\n",
    "        \"expected_output\": InstructionOutput,\n",
    "        \"example\": {\n",
    "            \"instruction\": \"Compare the political influence of the Uchiha and Hyuga clans in Konoha\",\n",
    "            \"focus_areas\": [\n",
    "                \"village authority\",\n",
    "                \"internal autonomy\",\n",
    "                \"political restrictions\",\n",
    "            ],\n",
    "        },\n",
    "        \"group\": GroupType.CLANS\n",
    "    },    \n",
    "    {\n",
    "        \"name\": \"Military Hierarchy\",\n",
    "        \"instruction\": \"Generate an instruction and output about the ninja rank system and its political implications\",\n",
    "        \"level\": 2,\n",
    "        \"expected_output\": InstructionOutput,\n",
    "        \"example\": {\n",
    "            \"instruction\": \"Analyze how the ANBU's role affects village political structure\",\n",
    "            \"elements\": [\"black ops\", \"hokage loyalty\", \"political balance\"],\n",
    "        },\n",
    "        \"group\": GroupType.VILLAGES\n",
    "    },\n",
    "    {\n",
    "        \"name\": \"Emptiness and Illusion\",\n",
    "        \"instruction\": \"Generate an instruction and output about genjutsu and reality perception\",\n",
    "        \"level\": 4,\n",
    "        \"expected_output\": InstructionOutput,\n",
    "        \"example\": {\n",
    "            \"instruction\": \"How does the Infinite Tsukuyomi reflect Buddhist concepts of Maya (illusion)?\",\n",
    "            \"elements\": [\"reality\", \"perception\", \"truth\"],\n",
    "        },\n",
    "        \"group\": GroupType.BUDDHIST\n",
    "    }, \n",
    "]"
   ]
  },
  {
   "cell_type": "code",
   "execution_count": 12,
   "metadata": {},
   "outputs": [],
   "source": [
    "# qa_instructions = [\n",
    "#     {\n",
    "#         \"name\": \"Cause-Effect Analysis\",\n",
    "#         \"instruction\": \"Generate a question and an answer about cause-effect relationships in major plot points\",\n",
    "#         \"level\": 3,\n",
    "#         \"expected_output\": QuestionAnswering,\n",
    "#         \"example\": {\n",
    "#             \"instruction\": \"How did Pain's attack on Konoha ultimately affect Naruto's development as a character?\",\n",
    "#             \"expected_elements\": [\n",
    "#                 \"personal growth\",\n",
    "#                 \"village recognition\",\n",
    "#                 \"understanding pain\",\n",
    "#             ],\n",
    "#         },\n",
    "#     },\n",
    "\n",
    "#     {\n",
    "#         \"name\": \"Power System Comparison\",\n",
    "#         \"instruction\": \"Create a question and an answer comparing different ninja techniques or power systems\",\n",
    "#         \"level\": 2,\n",
    "#         \"expected_output\": QuestionAnswering,\n",
    "#         \"example\": {\n",
    "#             \"instruction\": \"Compare and contrast Sage Mode and Six Paths Mode\",\n",
    "#             \"aspects\": [\"power source\", \"limitations\", \"abilities\"],\n",
    "#         },\n",
    "#     },\n",
    "#     {\n",
    "#         \"name\": \"Cultural Reference Identification\",\n",
    "#         \"instruction\": \"Generate questions and answers about Japanese cultural and Buddhist references in Naruto\",\n",
    "#         \"level\": 2,\n",
    "#         \"expected_output\": QuestionAnswering,\n",
    "#         \"example\": {\n",
    "#             \"instruction\": \"Which Buddhist concept is reflected in Pain's philosophy?\",\n",
    "#             \"choices\": [\"Karma\", \"Samsara\", \"Nirvana\", \"Dharma\"],\n",
    "#         },\n",
    "#     },\n",
    "#     {\n",
    "#         \"name\": \"Battle Strategy Analysis\",\n",
    "#         \"instruction\": \"Create question and an answer about battle tactics and strategy used in key fights\",\n",
    "#         \"level\": 3,\n",
    "#         \"expected_output\": QuestionAnswering,\n",
    "#         \"example\": {\n",
    "#             \"instruction\": \"Analyze the strategy Shikamaru used to defeat Hidan\",\n",
    "#             \"key_elements\": [\"preparation\", \"deception\", \"terrain usage\"],\n",
    "#         },\n",
    "#     },\n",
    "#     {\n",
    "#         \"name\": \"Character Relationship Web\",\n",
    "#         \"instruction\": \"Generate questions and answers about complex character relationships and their development\",\n",
    "#         \"level\": 2,\n",
    "#         \"expected_output\": QuestionAnswering,\n",
    "#         \"example\": {\n",
    "#             \"instruction\": \"Explain the evolution of Team 7's relationships throughout the series\",\n",
    "#             \"focus_points\": [\"bonds\", \"conflicts\", \"reconciliation\"],\n",
    "#         },\n",
    "#     },\n",
    "#     {\n",
    "#         \"name\": \"Theme Identification\",\n",
    "#         \"instruction\": \"Create questions and answers about major themes and their manifestation in the story\",\n",
    "#         \"level\": 3,\n",
    "#         \"expected_output\": QuestionAnswering,\n",
    "#         \"example\": {\n",
    "#             \"instruction\": \"How is the theme of 'cycle of hatred' portrayed through different generations?\",\n",
    "#             \"key_themes\": [\"revenge\", \"understanding\", \"peace\"],\n",
    "#         },\n",
    "#     },\n",
    "#     {\n",
    "#         \"name\": \"Jutsu Classification\",\n",
    "#         \"instruction\": \"Generate questions and answers about categorizing different types of jutsu\",\n",
    "#         \"level\": 1,\n",
    "#         \"expected_output\": QuestionAnswering,\n",
    "#         \"example\": {\n",
    "#             \"instruction\": \"Classify these jutsu by type: Chidori, Shadow Clone, Gentle Fist\",\n",
    "#             \"categories\": [\"Ninjutsu\", \"Taijutsu\"],\n",
    "#         },\n",
    "#     },\n",
    "#     {\n",
    "#         \"name\": \"Plot Hole Resolution\",\n",
    "#         \"instruction\": \"Create questions and answers that address apparent plot inconsistencies\",\n",
    "#         \"level\": 4,\n",
    "#         \"expected_output\": QuestionAnswering,\n",
    "#         \"example\": {\n",
    "#             \"instruction\": \"Explain how Kakashi still had Sharingan abilities after giving his eye to Obito\",\n",
    "#             \"key_points\": [\"temporary power\", \"chakra residue\"],\n",
    "#         },\n",
    "#     },\n",
    "#     {\n",
    "#         \"name\": \"Village Power Structure\",\n",
    "#         \"instruction\": \"Generate questions and answers about the political hierarchy and power dynamics within ninja villages\",\n",
    "#         \"level\": 2,\n",
    "#         \"expected_output\": QuestionAnswering,\n",
    "#         \"example\": {\n",
    "#             \"instruction\": \"Explain the balance of power between the Hokage, village council, and clan heads in Konoha\",\n",
    "#             \"key_points\": [\"decision making\", \"checks and balances\", \"clan autonomy\"],\n",
    "#         },\n",
    "#     },\n",
    "#     {\n",
    "#         \"name\": \"Inter-Village Relations\",\n",
    "#         \"instruction\": \"Create questions and answers about diplomatic relationships between ninja villages\",\n",
    "#         \"level\": 3,\n",
    "#         \"expected_output\": QuestionAnswering,\n",
    "#         \"example\": {\n",
    "#             \"instruction\": \"How did the alliance system change from pre-war to post-war ninja world?\",\n",
    "#             \"aspects\": [\"treaties\", \"trade\", \"military cooperation\"],\n",
    "#         },\n",
    "#     },\n",
    "#     {\n",
    "#         \"name\": \"Clan Politics\",\n",
    "#         \"instruction\": \"Generate questions and answers about political influence of major clans\",\n",
    "#         \"level\": 2,\n",
    "#         \"expected_output\": QuestionAnswering,\n",
    "#         \"example\": {\n",
    "#             \"instruction\": \"Compare the political influence of the Uchiha and Hyuga clans in Konoha\",\n",
    "#             \"focus_areas\": [\n",
    "#                 \"village authority\",\n",
    "#                 \"internal autonomy\",\n",
    "#                 \"political restrictions\",\n",
    "#             ],\n",
    "#         },\n",
    "#     },\n",
    "#     {\n",
    "#         \"name\": \"Military Hierarchy\",\n",
    "#         \"instruction\": \"Create questions and answers about the ninja rank system and its political implications\",\n",
    "#         \"level\": 2,\n",
    "#         \"expected_output\": QuestionAnswering,\n",
    "#         \"example\": {\n",
    "#             \"instruction\": \"Analyze how the ANBU's role affects village political structure\",\n",
    "#             \"elements\": [\"black ops\", \"hokage loyalty\", \"political balance\"],\n",
    "#         },\n",
    "#     },\n",
    "#     {\n",
    "#         \"name\": \"Cycle of Reincarnation\",\n",
    "#         \"instruction\": \"Generate questions and answers about karmic cycles in Naruto's narrative\",\n",
    "#         \"level\": 3,\n",
    "#         \"expected_output\": QuestionAnswering,\n",
    "#         \"example\": {\n",
    "#             \"instruction\": \"How does Indra and Ashura's reincarnation cycle reflect Buddhist concepts?\",\n",
    "#             \"aspects\": [\"karma\", \"dualism\", \"spiritual inheritance\"],\n",
    "#         },\n",
    "#     },\n",
    "#     {\n",
    "#         \"name\": \"Path of Pain Philosophy\",\n",
    "#         \"instruction\": \"Create questions and answers about Pain's philosophy and its Buddhist foundations\",\n",
    "#         \"level\": 3,\n",
    "#         \"expected_output\": QuestionAnswering,\n",
    "#         \"example\": {\n",
    "#             \"instruction\": \"Compare Pain's Six Paths to Buddhist concepts of suffering\",\n",
    "#             \"elements\": [\"noble truths\", \"paths of existence\", \"cycle of pain\"],\n",
    "#         },\n",
    "#     },\n",
    "#     {\n",
    "#         \"name\": \"Enlightenment Journey\",\n",
    "#         \"instruction\": \"Generate questions and answers about character enlightenment paths\",\n",
    "#         \"level\": 3,\n",
    "#         \"expected_output\": QuestionAnswering,\n",
    "#         \"example\": {\n",
    "#             \"instruction\": \"How does Naruto's sage training parallel Buddhist enlightenment concepts?\",\n",
    "#             \"key_concepts\": [\"meditation\", \"natural energy\", \"spiritual balance\"],\n",
    "#         },\n",
    "#     },\n",
    "#     {\n",
    "#         \"name\": \"Moral Dualism\",\n",
    "#         \"instruction\": \"Create questions and answers about the series' treatment of good and evil\",\n",
    "#         \"level\": 3,\n",
    "#         \"expected_output\": QuestionAnswering,\n",
    "#         \"example\": {\n",
    "#             \"instruction\": \"Analyze how Naruto's treatment of villains reflects Buddhist teachings about duality\",\n",
    "#             \"concepts\": [\"non-dualism\", \"understanding\", \"forgiveness\"],\n",
    "#         },\n",
    "#     },\n",
    "#     {\n",
    "#         \"name\": \"Four Noble Truths Parallel\",\n",
    "#         \"instruction\": \"Generate questions connecting plot elements to Buddhist Four Noble Truths\",\n",
    "#         \"level\": 4,\n",
    "#         \"expected_output\": QuestionAnswering,\n",
    "#         \"example\": {\n",
    "#             \"instruction\": \"How do the ninja world's cycles of war reflect Buddhist concepts of suffering?\",\n",
    "#             \"elements\": [\"cause of suffering\", \"path to peace\", \"understanding truth\"],\n",
    "#         },\n",
    "#     },\n",
    "#     {\n",
    "#         \"name\": \"Spiritual Power Systems\",\n",
    "#         \"instruction\": \"Create questions and answers about chakra system's Buddhist origins\",\n",
    "#         \"level\": 2,\n",
    "#         \"expected_output\": QuestionAnswering,\n",
    "#         \"example\": {\n",
    "#             \"instruction\": \"Compare Naruto's chakra system with Buddhist concepts of spiritual energy\",\n",
    "#             \"aspects\": [\"energy centers\", \"spiritual flow\", \"life force\"],\n",
    "#         },\n",
    "#     },\n",
    "#     {\n",
    "#         \"name\": \"Middle Path Philosophy\",\n",
    "#         \"instruction\": \"Generate questions and answers about balanced approaches in conflict resolution\",\n",
    "#         \"level\": 3,\n",
    "#         \"expected_output\": QuestionAnswering,\n",
    "#         \"example\": {\n",
    "#             \"instruction\": \"How does Naruto's approach to peace reflect Buddhist Middle Path teaching?\",\n",
    "#             \"concepts\": [\"balance\", \"moderation\", \"understanding\"],\n",
    "#         },\n",
    "#     },\n",
    "#     {\n",
    "#         \"name\": \"Emptiness and Illusion\",\n",
    "#         \"instruction\": \"Create questions and answers about genjutsu and reality perception\",\n",
    "#         \"level\": 4,\n",
    "#         \"expected_output\": QuestionAnswering,\n",
    "#         \"example\": {\n",
    "#             \"instruction\": \"How does the Infinite Tsukuyomi reflect Buddhist concepts of Maya (illusion)?\",\n",
    "#             \"elements\": [\"reality\", \"perception\", \"truth\"],\n",
    "#         },\n",
    "#     },\n",
    "# ]"
   ]
  },
  {
   "cell_type": "code",
   "execution_count": 13,
   "metadata": {},
   "outputs": [],
   "source": [
    "# random_instructions = 2\n",
    "# multiple_samples = 1\n",
    "\n",
    "\n",
    "# def generate_and_write_synthetic_meta_prompts(\n",
    "#     client: OpenAI,\n",
    "#     model_name: str,\n",
    "#     data: List[PromptMeta],\n",
    "#     meta_instructions: List[dict],\n",
    "#     output_file_name: str,\n",
    "#     multiple_samples: int,\n",
    "#     random_instructions: int,\n",
    "# ):\n",
    "#     count = 0\n",
    "#     all_synthetic_prompts = []\n",
    "#     for idx in trange(len(data)):\n",
    "#         response = create_synthetic_meta_instructions_from_passage(\n",
    "#             chat_client=client,\n",
    "#             model_name=model_name,\n",
    "#             content=data[idx].input,\n",
    "#             prompts=meta_instructions,\n",
    "#             random_instructions=random_instructions,\n",
    "#             multiple_samples=multiple_samples,\n",
    "#             llm_config={\n",
    "#                 \"temperature\": 0.5,\n",
    "#             },\n",
    "#         )\n",
    "#         synthetic_prompts = create_synthetic_prompts(response)\n",
    "#         with open(output_file_name, \"a+\") as f:\n",
    "#             for prompt in synthetic_prompts:\n",
    "#                 f.write(prompt.json() + \"\\n\")\n",
    "#                 all_synthetic_prompts.append(prompt)\n",
    "#                 count += 1\n",
    "\n",
    "#     return count"
   ]
  },
  {
   "cell_type": "code",
   "execution_count": 14,
   "metadata": {},
   "outputs": [],
   "source": [
    "def auto_format_yaml(yaml_string):\n",
    "    corrected_yaml_string = yaml_string.replace(\"```yaml\", \"\").replace(\"```\", \"\")\n",
    "    return corrected_yaml_string\n",
    "\n",
    "\n",
    "def auto_format_json(json_string):\n",
    "    corrected_json_string = json_string.replace(\"```json\", \"\").replace(\"```\", \"\")\n",
    "    return corrected_json_string\n",
    "\n",
    "\n",
    "def truncate_content(content, max_length=126_000):\n",
    "    tokens = content.split()\n",
    "    if len(tokens) * 1.2 > max_length:\n",
    "        tokens = tokens[:max_length]\n",
    "        return \" \".join(tokens)\n",
    "\n",
    "    return content\n",
    "\n",
    "\n",
    "def call_llm(\n",
    "    chat_client: OpenAI,\n",
    "    model_name: str,\n",
    "    prompt,\n",
    "    structure_output=None,\n",
    "    raise_exception: bool = False,\n",
    "    **kwargs,\n",
    "):\n",
    "    messages = [\n",
    "        {\"role\": \"system\", \"content\": \"You are a helpful assistant\"},\n",
    "        {\"role\": \"user\", \"content\": prompt},\n",
    "    ]\n",
    "    for retry in range(getattr(chat_client, \"max_retries\", 3)):\n",
    "        try:\n",
    "            if structure_output:\n",
    "                response = chat_client.beta.chat.completions.parse(\n",
    "                    model=model_name,\n",
    "                    messages=messages,\n",
    "                    response_format=structure_output,\n",
    "                    **kwargs,\n",
    "                )\n",
    "                return response.choices[0].message.parsed\n",
    "            else:\n",
    "                response = chat_client.chat.completions.create(\n",
    "                    model=model_name,\n",
    "                    messages=messages,\n",
    "                    **kwargs,\n",
    "                )\n",
    "                return response.choices[0].message.content\n",
    "        except Exception as e:\n",
    "            print(f\"Retry {retry}: {str(e)}\")\n",
    "            if raise_exception:\n",
    "                raise e\n",
    "            continue\n",
    "\n",
    "\n",
    "def create_meta_prompts_from_instruction(meta_instruction, input_content: str):\n",
    "    guideline = meta_instruction.get(\"guideline\", default_guideline)\n",
    "    if \"examples\" in meta_instruction:\n",
    "        guideline += \"\\n ### Instruction Examples: \\n\"\n",
    "        for example in meta_instruction[\"examples\"]:\n",
    "            guideline += example[\"instruction\"] + \"\\n\"\n",
    "\n",
    "    guideline += \"\\n\" + get_format_instructions(meta_instruction[\"expected_output\"])\n",
    "    return PromptMeta(\n",
    "        name=meta_instruction[\"name\"],\n",
    "        instruction=meta_instruction[\"instruction\"],\n",
    "        guideline=guideline,\n",
    "        input=input_content,\n",
    "        response=meta_instruction.get(\"response\", \"\"),\n",
    "        expected_output=meta_instruction[\"expected_output\"],\n",
    "    )\n",
    "\n",
    "\n",
    "def get_instruction_output_from_meta_prompt(\n",
    "    chat_client: OpenAI,\n",
    "    model_name: str,\n",
    "    prompt: PromptMeta,\n",
    "    raise_exception: bool = False,\n",
    "    llm_config: dict = {},\n",
    "    multiple_samples=3,\n",
    "):\n",
    "    results = []\n",
    "    for _ in range(multiple_samples):\n",
    "        response = call_llm(\n",
    "            chat_client=chat_client,\n",
    "            model_name=model_name,\n",
    "            prompt=prompt.to_prompt(),\n",
    "            raise_exception=raise_exception,\n",
    "            structure_output=prompt.expected_output,\n",
    "            **llm_config,\n",
    "        )\n",
    "        new_prompt = PromptMeta(**prompt.model_dump())\n",
    "        new_prompt.response = response\n",
    "        results.append(new_prompt)\n",
    "\n",
    "    return results\n",
    "\n",
    "\n",
    "def create_synthetic_prompts(\n",
    "    synthetic_instructions: List[PromptMeta],\n",
    ") -> List[BaseModel]:\n",
    "    res = []\n",
    "    for synthetic_instruction in synthetic_instructions:\n",
    "        try:\n",
    "            cls_dict = synthetic_instruction.response.model_dump()\n",
    "            response = cls_dict[\"output\"]\n",
    "\n",
    "            res.append(\n",
    "                PromptMeta(\n",
    "                    instruction=cls_dict[\"instruction\"],\n",
    "                    guideline=\"\",\n",
    "                    input=cls_dict.get(\"input\", synthetic_instruction.input),\n",
    "                    response=response,\n",
    "                )\n",
    "            )\n",
    "        except ValidationError as e:\n",
    "            print(e)\n",
    "            continue\n",
    "    return res\n",
    "\n",
    "\n",
    "def create_synthetic_qa_prompts(\n",
    "    qa_response_prompts: List[PromptMeta], instruction: str = \"Answer the question\"\n",
    "):\n",
    "    res = []\n",
    "    for qa_response_prompt in qa_response_prompts:\n",
    "        try:\n",
    "            cls_output: BaseModel = qa_response_prompt.expected_output\n",
    "            list_of_qa_obj: list = cls_output.model_validate(\n",
    "                qa_response_prompt.response\n",
    "            )\n",
    "            list_of_qa = list_of_qa_obj.dict()\n",
    "\n",
    "            for qa_obj in list_of_qa:\n",
    "                response = qa_obj[\"answer\"].strip()\n",
    "                input_content = (\n",
    "                    qa_obj[\"question\"].strip() + \"\\n\" + qa_obj.get(\"choices\", \"\")\n",
    "                )\n",
    "                res.append(\n",
    "                    PromptMeta(\n",
    "                        instruction=instruction,\n",
    "                        guideline=\"\",\n",
    "                        input=input_content,\n",
    "                        response=response,\n",
    "                    )\n",
    "                )\n",
    "        except ValidationError as e:\n",
    "            print(e, qa_response_prompt.response)\n",
    "            continue\n",
    "\n",
    "    return res"
   ]
  },
  {
   "cell_type": "markdown",
   "metadata": {},
   "source": [
    "# Load from sportseekeda"
   ]
  },
  {
   "cell_type": "code",
   "execution_count": 15,
   "metadata": {},
   "outputs": [],
   "source": [
    "output = []\n",
    "with open(\"../data/sportseeker/all_pages.json\") as f:\n",
    "    for line in f:\n",
    "        output.append(json.loads(line.strip()))"
   ]
  },
  {
   "cell_type": "code",
   "execution_count": 16,
   "metadata": {},
   "outputs": [
    {
     "data": {
      "text/plain": [
       "{'characters', 'clans', 'jutsu', 'teams'}"
      ]
     },
     "execution_count": 16,
     "metadata": {},
     "output_type": "execute_result"
    }
   ],
   "source": [
    "# Get unique tags\n",
    "tags = set([item[\"tag\"] for item in output])\n",
    "tags"
   ]
  },
  {
   "cell_type": "code",
   "execution_count": 17,
   "metadata": {},
   "outputs": [],
   "source": [
    "mapper_types = {\n",
    "    \"characters\": [GroupType.CHARACTERS, GroupType.PLOT],\n",
    "    \"clans\": [GroupType.CLANS, GroupType.VILLAGES,],\n",
    "    \"jutsu\": [GroupType.JUTSU, GroupType.CHAKRA, GroupType.BUDDHIST],\n",
    "    \"teams\": [GroupType.CLANS, GroupType.CHARACTERS],\n",
    "}"
   ]
  },
  {
   "cell_type": "code",
   "execution_count": 18,
   "metadata": {},
   "outputs": [],
   "source": [
    "# Cluster data by mapper_type\n",
    "clustered_data = {}\n",
    "for row in output:\n",
    "    tag = row[\"tag\"]\n",
    "    for mapper_type in mapper_types.get(tag, []):\n",
    "        if mapper_type not in clustered_data:\n",
    "            clustered_data[mapper_type] = []\n",
    "        clustered_data[mapper_type].append(row)"
   ]
  },
  {
   "cell_type": "code",
   "execution_count": 19,
   "metadata": {},
   "outputs": [
    {
     "name": "stdout",
     "output_type": "stream",
     "text": [
      "GroupType.JUTSU 51\n",
      "[{'text': 'Adamantine Sealing Chains is a form of Fuinjutsu, also known as a Sealing Jutsu. This technique belongs to the Uzumaki and is a Hiden Technique..While casting this Jutsu, the opponent is chained down by the user using chains which appear out of their torso. The chain which leaves the opponent’s body is fully controlled by the user and not only that, these chains wrap the enemy and entangle them in those chains..Apart from binding the targets down, these chains also neutralise the opponent’s chakra. It can also form an incredibly strong barrier, which almost seems impregnable. Even Hiruzen Sarutobi could not pierce it..Adamantine Sealing Chains is a Hiden Jutsu, which means that it is a Jutsu that is exclusive to a clan that has been passed down orally through tradition. It is kept secret and is not allowed to be taught to people outside the clan..In this case, the Adamantine Sealing Chains is a Hiden Jutsu belonging to the Uzumaki Clan. Even though this technique is a Hiden Jutsu of the Uzumaki clan, it feels more like Kushina Uzumaki’s signature Jutsu\\\\ which is proven when Kurama almost instantly recognizes her presence despite her not being physically present..Karin Uzumaki is also seen performing this Jutsu, but with her own variation of it called the Adamantine Attacking Chains. She uses it to destroy a wooden statue created by Tobi and many of its hands. She did not have the ability to use this technique before and awakened it during the war..This Jutsu is used in historical moments in the anime. Before Naruto’s parents died, Kushina used the Adamantine Sealing Chains to hold the Nine-tails in order to stop it from rampaging. Later on, when Naruto attempts to take control of the Nine-tails’ Chakra, Kushina appears once again to help him with these sealing chains..Karin awakens her Uzumaki strength during the war, unlocking the Adamantine Sealing Chains. However, she uses it for a different purpose; to attack the wooden statue..Naruto is almost overwhelmed by Kurama’s hatred but is saved by Kushina. She uses her Adamantine Sealing Chains to nullify Kurama and his Chakra. Naruto meets his mother for the first time..Kushina uses the Adamantine Sealing Chains to hold the Nine-tails down. She also uses her chains in the form of a shield, keeping the opponents as far away as possible..A. Despite being an Uzumaki, Naruto can not use the Adamantine Sealing Chains as of now. This is because it is a Hiden Jutsu and it probably requires someone to teach the Jutsu to Naruto in order to activate it..A. As of the information available now, it is impossible to break out of the Adamantine Sealing Chains. However, it is unknown what the response would be towards someone like an Otsutsuki, but it could chain down the Nine-tails with ease..A. Karin can not use a complete Adamantine Sealing Chains, making hers an incomplete version called Adamantine Attacking Chains. This version can not seal opponents, but rather attacks them.', 'img_links': ['https://staticg.sportskeeda.com/editor/2022/06/6abea-16553753152660.png', 'data:image/svg+xml,<svg%20xmlns=%22http://www.w3.org/2000/svg%22%20viewBox=%220%200%20602%20341%22></svg>', 'https://staticg.sportskeeda.com/editor/2022/06/14298-16553753149703.png', 'data:image/svg+xml,<svg%20xmlns=%22http://www.w3.org/2000/svg%22%20viewBox=%220%200%20602%20339%22></svg>', 'https://staticg.sportskeeda.com/editor/2022/06/13a38-16553753152780.png', 'data:image/svg+xml,<svg%20xmlns=%22http://www.w3.org/2000/svg%22%20viewBox=%220%200%20602%20339%22></svg>', 'https://staticg.sportskeeda.com/editor/2022/06/b8f5e-16553753149803.png', 'data:image/svg+xml,<svg%20xmlns=%22http://www.w3.org/2000/svg%22%20viewBox=%220%200%20512%20288%22></svg>', 'https://staticg.sportskeeda.com/editor/2022/06/2ec7a-16553753149491.png', 'data:image/svg+xml,<svg%20xmlns=%22http://www.w3.org/2000/svg%22%20viewBox=%220%200%20250%20141%22></svg>'], 'title': 'Adamantine Sealing Chains', 'tag': 'jutsu', 'link': 'https://wiki.sportskeeda.com/naruto/adamantine-sealing-chains'}, {'text': \"A shinobi in the Naruto series can employ one of the five primary chakra natures: FireRelease, Water Release, Earth Release, Wind Release, or Lightning Release. Only a few shinobi possess the ability to use all five chakra natures. Because they can cause great harm, fire release techniques are regarded as among the most dangerous..Most fire-style jutsus involve a stream of flames coming from the user's mouth. It may appear as a massive wall of flames, or in rare instances, as a dragon. Fire-StyleJutsu can only be used by shinobi who have the Fire Release chakra nature..Disclaimer: This article will contain spoilers for the popular series Naruto and Naruto Shippuden. Readers are advised to read at their discretion..The ability to emit fire using Fire Style Jutsu stretches back to the Ancient Era. IndraOtsutsuki was observed employing fire release techniques when he first created hand signs. After hand signals became extensively used, numerous people were able to use different fire release techniques. Numerous potent fire-release jutsu were developed over time..Shinobi of the Hidden Leaf Village frequently use fire release jutsu. One of the Three Legendary Sannin of the Hidden Leaf, Jiraya, often used fire-style jutsu. Fire Style: Toad Oil Bomb was one of his signature jutsus..The legendary Uchiha clan of the Hidden Leaf was well-known for its proficiency with fire-style jutsu methods. Members of this clan were primarily adept at fire-style jutsu and possessed fire release. Madara Uchiha, also referred to as The Ghost of the Uchiha, was capable of building a large firewall that took the combined water-style jutsu of more than a dozen shinobi to overcome in his battle against the Allied Shinobi Forces in the FourthGreat Ninja War. Itachi Uchiha, Sasuke Uchiha, and Obito Uchiha are the other renowned Uchiha clan members with an unparalleled skill set in Fire Style Jutsus..Fire Style: Great Fireball Jutsu is the signature jutsu of the Uchiha clan. In this technique, the user infuses chakra into their chest and then releases it from their body, turning the chakra into a great fireball. The destructive power and range of the jutsu differs from user to user. The more the chakra used, the greater the size and destructive power of the fireball..Fire Style: Burning Ash was one of the signature moves of Asuma Sarutobi, a Jonin of the Hidden Leaf Village. The user of this jutsu engulfs the area in chakra-infused gunpowder combined with ash by spewing it from their mouth. The user can then ignite the ash with a spark causing an explosion which in turn burns its target surrounded by the ash. The spewed ash also serves as a smokescreen as it hinders the target visually. Although very useful, it is also very dangerous as the user must be capable of judging the air current, otherwise they could engulf their allies in the ash..Sage Art: Goemon is one of Jiraya’s most powerful jutsus. It is a combination attack that is performed by Jiraiya with the help of Lord Fukasaku and Lady Shima when he is in Honoured Sage Mode. All three work in sync to perform this jutsu. Jiraiya releases a large amount of toad oil and Lord Fukasaku unleashes a Wind Release. At the same moment, Lady Shima uses a Fire Release jutsu which ignites the oil, and the Wind Release technique enrages the flames to a greater extent. Within moments, the surrounding area is engulfed in boiling oil, creating an inferno that reduces everything to cinders..It is a technique used by Jiraiya with Gamabunta. Gamabunta spews a large amount of toad oil aimed at the enemy which Jiraiya then ignites with his Fire Style: Flame Bullet, boosting its range and destructive power..Amaterasu is a legendary Uchiha technique that Itachi and Sasuke Uchiha often used in their battles. Amaterasu is a Fire Style Jutsu that creates ever-burning black flames that do not extinguish until their target is turned into ashes. Itachi and Sasuke acquired this technique after they awakened their Mangekyo Sharingan. It is said that one who possesses the Mangekyo Sharingan can use this jutsu, but Itachi and Sasuke are the only characters who have used this technique..Inferno Style is a variation of the Fire Style unique to Sasuke. Inferno Style: Honoikazuchi is a technique used by Sasuke against Naruto Uzumaki. He pulled Naruto using UniversalPull and then attacked him with a burst of black flames, knocking him down and causing great damage..Inferno Style: Susanoo Flame Control is a high-ranking Fire Style jutsu. It is an application of Inferno Style: Flame Control with Susanoo. In this, Sasuke uses Flame Control to forge various weapons with black flames which can be wielded by the Susanoo..Fire Style: Majestic Destroyer Flame was one of the most powerful Fire Style Jutsus possessed by Madara Uchiha. Madara creates a wall of fire so large that it engulfs everything in its path, leaving nothing but ashes. During the Fourth Great Ninja War, a combined Water Style jutsu of more than a dozen Allied Force shinobi was required to counter this jutsu..A. Fire release is one of the five basic chakra natures in the popular Naruto series. Shinobi who possess fire-release chakra nature can perform fire-style jutsu..A. Madara Uchiha uses Fire Style: Majestic Flame Destroyer, also known as Katon: Goka Mekkyaku, against the Allied Shinobi Forces after being brought back to life by Kabuto Yakushi using Reanimation Jutsu.\", 'img_links': ['https://staticg.sportskeeda.com/editor/2022/07/3bc1c-16575329632368.png', 'data:image/svg+xml,<svg%20xmlns=%22http://www.w3.org/2000/svg%22%20viewBox=%220%200%20602%20301%22></svg>', 'https://staticg.sportskeeda.com/editor/2022/07/2092b-16575329630351.png', 'data:image/svg+xml,<svg%20xmlns=%22http://www.w3.org/2000/svg%22%20viewBox=%220%200%20602%20339%22></svg>', 'https://staticg.sportskeeda.com/editor/2022/07/bc19e-16575329630206.png', 'data:image/svg+xml,<svg%20xmlns=%22http://www.w3.org/2000/svg%22%20viewBox=%220%200%20602%20343%22></svg>', 'https://staticg.sportskeeda.com/editor/2022/07/11586-16575329630035.png', 'data:image/svg+xml,<svg%20xmlns=%22http://www.w3.org/2000/svg%22%20viewBox=%220%200%20602%20451%22></svg>', 'https://staticg.sportskeeda.com/editor/2022/07/1a37a-16575329629826.png', 'data:image/svg+xml,<svg%20xmlns=%22http://www.w3.org/2000/svg%22%20viewBox=%220%200%20602%20334%22></svg>', 'https://staticg.sportskeeda.com/editor/2022/07/19a55-16575329632813.png', 'data:image/svg+xml,<svg%20xmlns=%22http://www.w3.org/2000/svg%22%20viewBox=%220%200%20602%20339%22></svg>', 'https://staticg.sportskeeda.com/editor/2022/07/14ffa-16575329633006.png', 'data:image/svg+xml,<svg%20xmlns=%22http://www.w3.org/2000/svg%22%20viewBox=%220%200%20602%20451%22></svg>', 'https://staticg.sportskeeda.com/editor/2022/07/9804b-16575329630145.png', 'data:image/svg+xml,<svg%20xmlns=%22http://www.w3.org/2000/svg%22%20viewBox=%220%200%20602%20339%22></svg>', 'https://staticg.sportskeeda.com/editor/2022/07/0caa7-16575329629942.png', 'data:image/svg+xml,<svg%20xmlns=%22http://www.w3.org/2000/svg%22%20viewBox=%220%200%20602%20301%22></svg>', 'https://staticg.sportskeeda.com/editor/2022/07/d4021-16575329632932.png', 'data:image/svg+xml,<svg%20xmlns=%22http://www.w3.org/2000/svg%22%20viewBox=%220%200%20602%20339%22></svg>', 'https://staticg.sportskeeda.com/editor/2022/07/69ff6-16575329630267.png', 'data:image/svg+xml,<svg%20xmlns=%22http://www.w3.org/2000/svg%22%20viewBox=%220%200%20602%20340%22></svg>'], 'title': 'All Fire Style Jutsu in Naruto', 'tag': 'jutsu', 'link': 'https://wiki.sportskeeda.com/naruto/all-fire-style-jutsu'}]\n",
      "GroupType.CHAKRA 51\n",
      "[{'text': 'Adamantine Sealing Chains is a form of Fuinjutsu, also known as a Sealing Jutsu. This technique belongs to the Uzumaki and is a Hiden Technique..While casting this Jutsu, the opponent is chained down by the user using chains which appear out of their torso. The chain which leaves the opponent’s body is fully controlled by the user and not only that, these chains wrap the enemy and entangle them in those chains..Apart from binding the targets down, these chains also neutralise the opponent’s chakra. It can also form an incredibly strong barrier, which almost seems impregnable. Even Hiruzen Sarutobi could not pierce it..Adamantine Sealing Chains is a Hiden Jutsu, which means that it is a Jutsu that is exclusive to a clan that has been passed down orally through tradition. It is kept secret and is not allowed to be taught to people outside the clan..In this case, the Adamantine Sealing Chains is a Hiden Jutsu belonging to the Uzumaki Clan. Even though this technique is a Hiden Jutsu of the Uzumaki clan, it feels more like Kushina Uzumaki’s signature Jutsu\\\\ which is proven when Kurama almost instantly recognizes her presence despite her not being physically present..Karin Uzumaki is also seen performing this Jutsu, but with her own variation of it called the Adamantine Attacking Chains. She uses it to destroy a wooden statue created by Tobi and many of its hands. She did not have the ability to use this technique before and awakened it during the war..This Jutsu is used in historical moments in the anime. Before Naruto’s parents died, Kushina used the Adamantine Sealing Chains to hold the Nine-tails in order to stop it from rampaging. Later on, when Naruto attempts to take control of the Nine-tails’ Chakra, Kushina appears once again to help him with these sealing chains..Karin awakens her Uzumaki strength during the war, unlocking the Adamantine Sealing Chains. However, she uses it for a different purpose; to attack the wooden statue..Naruto is almost overwhelmed by Kurama’s hatred but is saved by Kushina. She uses her Adamantine Sealing Chains to nullify Kurama and his Chakra. Naruto meets his mother for the first time..Kushina uses the Adamantine Sealing Chains to hold the Nine-tails down. She also uses her chains in the form of a shield, keeping the opponents as far away as possible..A. Despite being an Uzumaki, Naruto can not use the Adamantine Sealing Chains as of now. This is because it is a Hiden Jutsu and it probably requires someone to teach the Jutsu to Naruto in order to activate it..A. As of the information available now, it is impossible to break out of the Adamantine Sealing Chains. However, it is unknown what the response would be towards someone like an Otsutsuki, but it could chain down the Nine-tails with ease..A. Karin can not use a complete Adamantine Sealing Chains, making hers an incomplete version called Adamantine Attacking Chains. This version can not seal opponents, but rather attacks them.', 'img_links': ['https://staticg.sportskeeda.com/editor/2022/06/6abea-16553753152660.png', 'data:image/svg+xml,<svg%20xmlns=%22http://www.w3.org/2000/svg%22%20viewBox=%220%200%20602%20341%22></svg>', 'https://staticg.sportskeeda.com/editor/2022/06/14298-16553753149703.png', 'data:image/svg+xml,<svg%20xmlns=%22http://www.w3.org/2000/svg%22%20viewBox=%220%200%20602%20339%22></svg>', 'https://staticg.sportskeeda.com/editor/2022/06/13a38-16553753152780.png', 'data:image/svg+xml,<svg%20xmlns=%22http://www.w3.org/2000/svg%22%20viewBox=%220%200%20602%20339%22></svg>', 'https://staticg.sportskeeda.com/editor/2022/06/b8f5e-16553753149803.png', 'data:image/svg+xml,<svg%20xmlns=%22http://www.w3.org/2000/svg%22%20viewBox=%220%200%20512%20288%22></svg>', 'https://staticg.sportskeeda.com/editor/2022/06/2ec7a-16553753149491.png', 'data:image/svg+xml,<svg%20xmlns=%22http://www.w3.org/2000/svg%22%20viewBox=%220%200%20250%20141%22></svg>'], 'title': 'Adamantine Sealing Chains', 'tag': 'jutsu', 'link': 'https://wiki.sportskeeda.com/naruto/adamantine-sealing-chains'}, {'text': \"A shinobi in the Naruto series can employ one of the five primary chakra natures: FireRelease, Water Release, Earth Release, Wind Release, or Lightning Release. Only a few shinobi possess the ability to use all five chakra natures. Because they can cause great harm, fire release techniques are regarded as among the most dangerous..Most fire-style jutsus involve a stream of flames coming from the user's mouth. It may appear as a massive wall of flames, or in rare instances, as a dragon. Fire-StyleJutsu can only be used by shinobi who have the Fire Release chakra nature..Disclaimer: This article will contain spoilers for the popular series Naruto and Naruto Shippuden. Readers are advised to read at their discretion..The ability to emit fire using Fire Style Jutsu stretches back to the Ancient Era. IndraOtsutsuki was observed employing fire release techniques when he first created hand signs. After hand signals became extensively used, numerous people were able to use different fire release techniques. Numerous potent fire-release jutsu were developed over time..Shinobi of the Hidden Leaf Village frequently use fire release jutsu. One of the Three Legendary Sannin of the Hidden Leaf, Jiraya, often used fire-style jutsu. Fire Style: Toad Oil Bomb was one of his signature jutsus..The legendary Uchiha clan of the Hidden Leaf was well-known for its proficiency with fire-style jutsu methods. Members of this clan were primarily adept at fire-style jutsu and possessed fire release. Madara Uchiha, also referred to as The Ghost of the Uchiha, was capable of building a large firewall that took the combined water-style jutsu of more than a dozen shinobi to overcome in his battle against the Allied Shinobi Forces in the FourthGreat Ninja War. Itachi Uchiha, Sasuke Uchiha, and Obito Uchiha are the other renowned Uchiha clan members with an unparalleled skill set in Fire Style Jutsus..Fire Style: Great Fireball Jutsu is the signature jutsu of the Uchiha clan. In this technique, the user infuses chakra into their chest and then releases it from their body, turning the chakra into a great fireball. The destructive power and range of the jutsu differs from user to user. The more the chakra used, the greater the size and destructive power of the fireball..Fire Style: Burning Ash was one of the signature moves of Asuma Sarutobi, a Jonin of the Hidden Leaf Village. The user of this jutsu engulfs the area in chakra-infused gunpowder combined with ash by spewing it from their mouth. The user can then ignite the ash with a spark causing an explosion which in turn burns its target surrounded by the ash. The spewed ash also serves as a smokescreen as it hinders the target visually. Although very useful, it is also very dangerous as the user must be capable of judging the air current, otherwise they could engulf their allies in the ash..Sage Art: Goemon is one of Jiraya’s most powerful jutsus. It is a combination attack that is performed by Jiraiya with the help of Lord Fukasaku and Lady Shima when he is in Honoured Sage Mode. All three work in sync to perform this jutsu. Jiraiya releases a large amount of toad oil and Lord Fukasaku unleashes a Wind Release. At the same moment, Lady Shima uses a Fire Release jutsu which ignites the oil, and the Wind Release technique enrages the flames to a greater extent. Within moments, the surrounding area is engulfed in boiling oil, creating an inferno that reduces everything to cinders..It is a technique used by Jiraiya with Gamabunta. Gamabunta spews a large amount of toad oil aimed at the enemy which Jiraiya then ignites with his Fire Style: Flame Bullet, boosting its range and destructive power..Amaterasu is a legendary Uchiha technique that Itachi and Sasuke Uchiha often used in their battles. Amaterasu is a Fire Style Jutsu that creates ever-burning black flames that do not extinguish until their target is turned into ashes. Itachi and Sasuke acquired this technique after they awakened their Mangekyo Sharingan. It is said that one who possesses the Mangekyo Sharingan can use this jutsu, but Itachi and Sasuke are the only characters who have used this technique..Inferno Style is a variation of the Fire Style unique to Sasuke. Inferno Style: Honoikazuchi is a technique used by Sasuke against Naruto Uzumaki. He pulled Naruto using UniversalPull and then attacked him with a burst of black flames, knocking him down and causing great damage..Inferno Style: Susanoo Flame Control is a high-ranking Fire Style jutsu. It is an application of Inferno Style: Flame Control with Susanoo. In this, Sasuke uses Flame Control to forge various weapons with black flames which can be wielded by the Susanoo..Fire Style: Majestic Destroyer Flame was one of the most powerful Fire Style Jutsus possessed by Madara Uchiha. Madara creates a wall of fire so large that it engulfs everything in its path, leaving nothing but ashes. During the Fourth Great Ninja War, a combined Water Style jutsu of more than a dozen Allied Force shinobi was required to counter this jutsu..A. Fire release is one of the five basic chakra natures in the popular Naruto series. Shinobi who possess fire-release chakra nature can perform fire-style jutsu..A. Madara Uchiha uses Fire Style: Majestic Flame Destroyer, also known as Katon: Goka Mekkyaku, against the Allied Shinobi Forces after being brought back to life by Kabuto Yakushi using Reanimation Jutsu.\", 'img_links': ['https://staticg.sportskeeda.com/editor/2022/07/3bc1c-16575329632368.png', 'data:image/svg+xml,<svg%20xmlns=%22http://www.w3.org/2000/svg%22%20viewBox=%220%200%20602%20301%22></svg>', 'https://staticg.sportskeeda.com/editor/2022/07/2092b-16575329630351.png', 'data:image/svg+xml,<svg%20xmlns=%22http://www.w3.org/2000/svg%22%20viewBox=%220%200%20602%20339%22></svg>', 'https://staticg.sportskeeda.com/editor/2022/07/bc19e-16575329630206.png', 'data:image/svg+xml,<svg%20xmlns=%22http://www.w3.org/2000/svg%22%20viewBox=%220%200%20602%20343%22></svg>', 'https://staticg.sportskeeda.com/editor/2022/07/11586-16575329630035.png', 'data:image/svg+xml,<svg%20xmlns=%22http://www.w3.org/2000/svg%22%20viewBox=%220%200%20602%20451%22></svg>', 'https://staticg.sportskeeda.com/editor/2022/07/1a37a-16575329629826.png', 'data:image/svg+xml,<svg%20xmlns=%22http://www.w3.org/2000/svg%22%20viewBox=%220%200%20602%20334%22></svg>', 'https://staticg.sportskeeda.com/editor/2022/07/19a55-16575329632813.png', 'data:image/svg+xml,<svg%20xmlns=%22http://www.w3.org/2000/svg%22%20viewBox=%220%200%20602%20339%22></svg>', 'https://staticg.sportskeeda.com/editor/2022/07/14ffa-16575329633006.png', 'data:image/svg+xml,<svg%20xmlns=%22http://www.w3.org/2000/svg%22%20viewBox=%220%200%20602%20451%22></svg>', 'https://staticg.sportskeeda.com/editor/2022/07/9804b-16575329630145.png', 'data:image/svg+xml,<svg%20xmlns=%22http://www.w3.org/2000/svg%22%20viewBox=%220%200%20602%20339%22></svg>', 'https://staticg.sportskeeda.com/editor/2022/07/0caa7-16575329629942.png', 'data:image/svg+xml,<svg%20xmlns=%22http://www.w3.org/2000/svg%22%20viewBox=%220%200%20602%20301%22></svg>', 'https://staticg.sportskeeda.com/editor/2022/07/d4021-16575329632932.png', 'data:image/svg+xml,<svg%20xmlns=%22http://www.w3.org/2000/svg%22%20viewBox=%220%200%20602%20339%22></svg>', 'https://staticg.sportskeeda.com/editor/2022/07/69ff6-16575329630267.png', 'data:image/svg+xml,<svg%20xmlns=%22http://www.w3.org/2000/svg%22%20viewBox=%220%200%20602%20340%22></svg>'], 'title': 'All Fire Style Jutsu in Naruto', 'tag': 'jutsu', 'link': 'https://wiki.sportskeeda.com/naruto/all-fire-style-jutsu'}]\n",
      "GroupType.BUDDHIST 51\n",
      "[{'text': 'Adamantine Sealing Chains is a form of Fuinjutsu, also known as a Sealing Jutsu. This technique belongs to the Uzumaki and is a Hiden Technique..While casting this Jutsu, the opponent is chained down by the user using chains which appear out of their torso. The chain which leaves the opponent’s body is fully controlled by the user and not only that, these chains wrap the enemy and entangle them in those chains..Apart from binding the targets down, these chains also neutralise the opponent’s chakra. It can also form an incredibly strong barrier, which almost seems impregnable. Even Hiruzen Sarutobi could not pierce it..Adamantine Sealing Chains is a Hiden Jutsu, which means that it is a Jutsu that is exclusive to a clan that has been passed down orally through tradition. It is kept secret and is not allowed to be taught to people outside the clan..In this case, the Adamantine Sealing Chains is a Hiden Jutsu belonging to the Uzumaki Clan. Even though this technique is a Hiden Jutsu of the Uzumaki clan, it feels more like Kushina Uzumaki’s signature Jutsu\\\\ which is proven when Kurama almost instantly recognizes her presence despite her not being physically present..Karin Uzumaki is also seen performing this Jutsu, but with her own variation of it called the Adamantine Attacking Chains. She uses it to destroy a wooden statue created by Tobi and many of its hands. She did not have the ability to use this technique before and awakened it during the war..This Jutsu is used in historical moments in the anime. Before Naruto’s parents died, Kushina used the Adamantine Sealing Chains to hold the Nine-tails in order to stop it from rampaging. Later on, when Naruto attempts to take control of the Nine-tails’ Chakra, Kushina appears once again to help him with these sealing chains..Karin awakens her Uzumaki strength during the war, unlocking the Adamantine Sealing Chains. However, she uses it for a different purpose; to attack the wooden statue..Naruto is almost overwhelmed by Kurama’s hatred but is saved by Kushina. She uses her Adamantine Sealing Chains to nullify Kurama and his Chakra. Naruto meets his mother for the first time..Kushina uses the Adamantine Sealing Chains to hold the Nine-tails down. She also uses her chains in the form of a shield, keeping the opponents as far away as possible..A. Despite being an Uzumaki, Naruto can not use the Adamantine Sealing Chains as of now. This is because it is a Hiden Jutsu and it probably requires someone to teach the Jutsu to Naruto in order to activate it..A. As of the information available now, it is impossible to break out of the Adamantine Sealing Chains. However, it is unknown what the response would be towards someone like an Otsutsuki, but it could chain down the Nine-tails with ease..A. Karin can not use a complete Adamantine Sealing Chains, making hers an incomplete version called Adamantine Attacking Chains. This version can not seal opponents, but rather attacks them.', 'img_links': ['https://staticg.sportskeeda.com/editor/2022/06/6abea-16553753152660.png', 'data:image/svg+xml,<svg%20xmlns=%22http://www.w3.org/2000/svg%22%20viewBox=%220%200%20602%20341%22></svg>', 'https://staticg.sportskeeda.com/editor/2022/06/14298-16553753149703.png', 'data:image/svg+xml,<svg%20xmlns=%22http://www.w3.org/2000/svg%22%20viewBox=%220%200%20602%20339%22></svg>', 'https://staticg.sportskeeda.com/editor/2022/06/13a38-16553753152780.png', 'data:image/svg+xml,<svg%20xmlns=%22http://www.w3.org/2000/svg%22%20viewBox=%220%200%20602%20339%22></svg>', 'https://staticg.sportskeeda.com/editor/2022/06/b8f5e-16553753149803.png', 'data:image/svg+xml,<svg%20xmlns=%22http://www.w3.org/2000/svg%22%20viewBox=%220%200%20512%20288%22></svg>', 'https://staticg.sportskeeda.com/editor/2022/06/2ec7a-16553753149491.png', 'data:image/svg+xml,<svg%20xmlns=%22http://www.w3.org/2000/svg%22%20viewBox=%220%200%20250%20141%22></svg>'], 'title': 'Adamantine Sealing Chains', 'tag': 'jutsu', 'link': 'https://wiki.sportskeeda.com/naruto/adamantine-sealing-chains'}, {'text': \"A shinobi in the Naruto series can employ one of the five primary chakra natures: FireRelease, Water Release, Earth Release, Wind Release, or Lightning Release. Only a few shinobi possess the ability to use all five chakra natures. Because they can cause great harm, fire release techniques are regarded as among the most dangerous..Most fire-style jutsus involve a stream of flames coming from the user's mouth. It may appear as a massive wall of flames, or in rare instances, as a dragon. Fire-StyleJutsu can only be used by shinobi who have the Fire Release chakra nature..Disclaimer: This article will contain spoilers for the popular series Naruto and Naruto Shippuden. Readers are advised to read at their discretion..The ability to emit fire using Fire Style Jutsu stretches back to the Ancient Era. IndraOtsutsuki was observed employing fire release techniques when he first created hand signs. After hand signals became extensively used, numerous people were able to use different fire release techniques. Numerous potent fire-release jutsu were developed over time..Shinobi of the Hidden Leaf Village frequently use fire release jutsu. One of the Three Legendary Sannin of the Hidden Leaf, Jiraya, often used fire-style jutsu. Fire Style: Toad Oil Bomb was one of his signature jutsus..The legendary Uchiha clan of the Hidden Leaf was well-known for its proficiency with fire-style jutsu methods. Members of this clan were primarily adept at fire-style jutsu and possessed fire release. Madara Uchiha, also referred to as The Ghost of the Uchiha, was capable of building a large firewall that took the combined water-style jutsu of more than a dozen shinobi to overcome in his battle against the Allied Shinobi Forces in the FourthGreat Ninja War. Itachi Uchiha, Sasuke Uchiha, and Obito Uchiha are the other renowned Uchiha clan members with an unparalleled skill set in Fire Style Jutsus..Fire Style: Great Fireball Jutsu is the signature jutsu of the Uchiha clan. In this technique, the user infuses chakra into their chest and then releases it from their body, turning the chakra into a great fireball. The destructive power and range of the jutsu differs from user to user. The more the chakra used, the greater the size and destructive power of the fireball..Fire Style: Burning Ash was one of the signature moves of Asuma Sarutobi, a Jonin of the Hidden Leaf Village. The user of this jutsu engulfs the area in chakra-infused gunpowder combined with ash by spewing it from their mouth. The user can then ignite the ash with a spark causing an explosion which in turn burns its target surrounded by the ash. The spewed ash also serves as a smokescreen as it hinders the target visually. Although very useful, it is also very dangerous as the user must be capable of judging the air current, otherwise they could engulf their allies in the ash..Sage Art: Goemon is one of Jiraya’s most powerful jutsus. It is a combination attack that is performed by Jiraiya with the help of Lord Fukasaku and Lady Shima when he is in Honoured Sage Mode. All three work in sync to perform this jutsu. Jiraiya releases a large amount of toad oil and Lord Fukasaku unleashes a Wind Release. At the same moment, Lady Shima uses a Fire Release jutsu which ignites the oil, and the Wind Release technique enrages the flames to a greater extent. Within moments, the surrounding area is engulfed in boiling oil, creating an inferno that reduces everything to cinders..It is a technique used by Jiraiya with Gamabunta. Gamabunta spews a large amount of toad oil aimed at the enemy which Jiraiya then ignites with his Fire Style: Flame Bullet, boosting its range and destructive power..Amaterasu is a legendary Uchiha technique that Itachi and Sasuke Uchiha often used in their battles. Amaterasu is a Fire Style Jutsu that creates ever-burning black flames that do not extinguish until their target is turned into ashes. Itachi and Sasuke acquired this technique after they awakened their Mangekyo Sharingan. It is said that one who possesses the Mangekyo Sharingan can use this jutsu, but Itachi and Sasuke are the only characters who have used this technique..Inferno Style is a variation of the Fire Style unique to Sasuke. Inferno Style: Honoikazuchi is a technique used by Sasuke against Naruto Uzumaki. He pulled Naruto using UniversalPull and then attacked him with a burst of black flames, knocking him down and causing great damage..Inferno Style: Susanoo Flame Control is a high-ranking Fire Style jutsu. It is an application of Inferno Style: Flame Control with Susanoo. In this, Sasuke uses Flame Control to forge various weapons with black flames which can be wielded by the Susanoo..Fire Style: Majestic Destroyer Flame was one of the most powerful Fire Style Jutsus possessed by Madara Uchiha. Madara creates a wall of fire so large that it engulfs everything in its path, leaving nothing but ashes. During the Fourth Great Ninja War, a combined Water Style jutsu of more than a dozen Allied Force shinobi was required to counter this jutsu..A. Fire release is one of the five basic chakra natures in the popular Naruto series. Shinobi who possess fire-release chakra nature can perform fire-style jutsu..A. Madara Uchiha uses Fire Style: Majestic Flame Destroyer, also known as Katon: Goka Mekkyaku, against the Allied Shinobi Forces after being brought back to life by Kabuto Yakushi using Reanimation Jutsu.\", 'img_links': ['https://staticg.sportskeeda.com/editor/2022/07/3bc1c-16575329632368.png', 'data:image/svg+xml,<svg%20xmlns=%22http://www.w3.org/2000/svg%22%20viewBox=%220%200%20602%20301%22></svg>', 'https://staticg.sportskeeda.com/editor/2022/07/2092b-16575329630351.png', 'data:image/svg+xml,<svg%20xmlns=%22http://www.w3.org/2000/svg%22%20viewBox=%220%200%20602%20339%22></svg>', 'https://staticg.sportskeeda.com/editor/2022/07/bc19e-16575329630206.png', 'data:image/svg+xml,<svg%20xmlns=%22http://www.w3.org/2000/svg%22%20viewBox=%220%200%20602%20343%22></svg>', 'https://staticg.sportskeeda.com/editor/2022/07/11586-16575329630035.png', 'data:image/svg+xml,<svg%20xmlns=%22http://www.w3.org/2000/svg%22%20viewBox=%220%200%20602%20451%22></svg>', 'https://staticg.sportskeeda.com/editor/2022/07/1a37a-16575329629826.png', 'data:image/svg+xml,<svg%20xmlns=%22http://www.w3.org/2000/svg%22%20viewBox=%220%200%20602%20334%22></svg>', 'https://staticg.sportskeeda.com/editor/2022/07/19a55-16575329632813.png', 'data:image/svg+xml,<svg%20xmlns=%22http://www.w3.org/2000/svg%22%20viewBox=%220%200%20602%20339%22></svg>', 'https://staticg.sportskeeda.com/editor/2022/07/14ffa-16575329633006.png', 'data:image/svg+xml,<svg%20xmlns=%22http://www.w3.org/2000/svg%22%20viewBox=%220%200%20602%20451%22></svg>', 'https://staticg.sportskeeda.com/editor/2022/07/9804b-16575329630145.png', 'data:image/svg+xml,<svg%20xmlns=%22http://www.w3.org/2000/svg%22%20viewBox=%220%200%20602%20339%22></svg>', 'https://staticg.sportskeeda.com/editor/2022/07/0caa7-16575329629942.png', 'data:image/svg+xml,<svg%20xmlns=%22http://www.w3.org/2000/svg%22%20viewBox=%220%200%20602%20301%22></svg>', 'https://staticg.sportskeeda.com/editor/2022/07/d4021-16575329632932.png', 'data:image/svg+xml,<svg%20xmlns=%22http://www.w3.org/2000/svg%22%20viewBox=%220%200%20602%20339%22></svg>', 'https://staticg.sportskeeda.com/editor/2022/07/69ff6-16575329630267.png', 'data:image/svg+xml,<svg%20xmlns=%22http://www.w3.org/2000/svg%22%20viewBox=%220%200%20602%20340%22></svg>'], 'title': 'All Fire Style Jutsu in Naruto', 'tag': 'jutsu', 'link': 'https://wiki.sportskeeda.com/naruto/all-fire-style-jutsu'}]\n",
      "GroupType.CHARACTERS 823\n",
      "[{'text': 'A was Kumogakure’s First Raikage, who founded the Land of Lightning after the Warring states period. He gave land to the Yotsuki Clan in the Valley of Clouds, in return for their loyalty..During A’s leadership after the Warring States Period, he probably sent the Gold and Silver Brothers to capture the Nine-Tails, a task they ultimately failed at..He was accompanied by the future Second Raikage, his long-time bodyguard, during the inaugural gathering of the five Kage. He sat next to the other Kage and reminded Hashirama that bowing to the other Kage was not a hallmark of a long-lasting leader. He expresses displeasure when the Kazekage demanded 30% of whatever they would pay for a tailed beast from Konoha after asking the First Kazekage to give voice to his alternate desire because Sunagakure already had one. He watched closely as infighting erupted and Hashirama Senju pleaded with them to protect their children’s futures by uniting..A left a significant moral mark relating to his desire to defend Kumogakure in his bodyguard, whose lengthy service and dedication gained him the nomination as his successor before his death during the war..A appeared much later after his death during the conclusion of the Fourth Shinobi World War, when he was summoned by Hagoromo Ōtsutsuki along with the other deceased Kage from the Pure Land to assist him and the Hokage in summoning Team 7, the tailed beasts and Madara Uchiha from Kaguya’s realm. He later commented on the situation before his and other Kage’s souls returned to the Pure Land..Not much of A’s personality was shown but he did appear to have a vocal tic, including his statements with “yo”. He also had the tendency of folding his arms. He was a proud man who believed that shinobi should not drop their heads so lightly. He had a deep desire to defend Kumogakure, which he passed on to his heir..A had a dark complexion and pronounced lines beneath his eyes, as well as a mop of shaggy black hair that partially concealed his forehead protector. He donned a kimono shirt with a high collar, dark slacks linked by a sash, and a light colored scarf around his neck. He was also wearing little stud earrings. His outfit consisted of a cream coat with a high collar, a white forehead protector, zōri, and a purple scarf around his neck..A’s abilities have not been demonstrated, though being the Raikage and the Founder of Kumogakure, he was undoubtedly a strong shinobi..A. A, the future Second Raikage, was the First Raikage’s bodyguard who accompanied him to various places..A. The Third Raikge was known to be the strongest ever to hold the leadership position in Kumogakure.', 'img_links': ['https://staticg.sportskeeda.com/editor/2022/10/4ae9c-16667923756686.png', 'data:image/svg+xml,<svg%20xmlns=%22http://www.w3.org/2000/svg%22%20viewBox=%220%200%20624%20437%22></svg>', 'https://staticg.sportskeeda.com/editor/2022/10/f2d95-16667923762130.png', 'data:image/svg+xml,<svg%20xmlns=%22http://www.w3.org/2000/svg%22%20viewBox=%220%200%20624%20352%22></svg>', 'https://staticg.sportskeeda.com/editor/2022/10/d208b-16667923768132.png', 'data:image/svg+xml,<svg%20xmlns=%22http://www.w3.org/2000/svg%22%20viewBox=%220%200%20624%20352%22></svg>', 'https://staticg.sportskeeda.com/editor/2022/10/8050e-16667923756216.png', 'data:image/svg+xml,<svg%20xmlns=%22http://www.w3.org/2000/svg%22%20viewBox=%220%200%20624%20576%22></svg>'], 'title': 'A (First Raikage) in Naruto', 'tag': 'characters', 'link': 'https://wiki.sportskeeda.com/naruto/a-first-raikage-in-naruto'}, {'text': 'A was the Second Raikage of Kumogakure. He was also known as the Nidaime Raikage (literally, Second Lightning Shadow). He put a lot of effort into establishing harmony with the other secret communities throughout his rule..A was a longtime bodyguard to the First Raikage before he became the Second Raikage. He went with him to the first Five Kage Summit when he was serving. He stood behind the First and carefully observed the events as they took place..He was appointed Second Raikage after years of hard work and lengthy service. During his rule, A entered Kumogakure into a formal alliance with Konohagakure; however, the Gold and Silver Brothers, who were preparing to launch a coup d’état, ambushed him and the Second Hokage during the ceremony. A’s fate is unknown, but the Hokage is said to have narrowly escaped with his life. Overall, A’s activities greatly aided Kumogakure in establishing peace..A reappeared during the conclusion of the Fourth Shinobi World War when Hagoromo Ōtsutsuki summoned him along with other deceased Kage from the Pure Land to help him and the Hokage call Team 7, the tailed beasts, and Madara Uchiha from Kaguya’s realm. Later, the souls of the other Kage and he were transferred back to the Pure Land..A inherited the strong will of his predecessor to protect Kumogakure. He was also known to be friendly and intelligent, as seen by his well-versed knowledge in politics..A had a dark complexion, a flat and broad nose, and dark eyes with marks underneath. His black shoulder-length hair was styled in an odd way, and he also sported a goatee-shaped stylized beard. Just below his eyes, he also possessed curved-inside sideburns. He was dressed in the Kumo-nin uniform, which consisted of a high-collared shirt with mesh armor underneath and a white forehead protector. Over all this, he was dressed in a somewhat modified version of Kumogakure’s current flak jacket, which appeared to be embellished with medals of some sort. He also wore metal armor that resembled samurai armor and covered his right shoulder. He also had a rectangular, gold-colored mark on his nose..Before becoming the Second Raikage, he wore a long-sleeved dark shirt that could be opened to expose a mesh-armor shirt underneath, coupled with dark-colored leggings, a simple headband, and a scarf that hung around his neck..Not much of A’s skills have been revealed, but the fact that he was chosen to be the Second Raikage suggests he was unquestionably a skilled shinobi. His abilities were such that, even before becoming a Kage, he was chosen to serve as his predecessor’s guard, for which he became well known. He was also said to be knowledgeable about political matters, which suggests that he was intelligent..A. Throughout the history of Kumogakure, the first four Raikage each had a given name A, which is a coincidence. Each A had a tag team partner named “B”, who was responsible for defending the Raikage and bringing out the Raikage’s full power..A. A’s other name hasn’t been known. He was known as the Nidaime Raikage (Second Lightning Shadow).', 'img_links': ['https://staticg.sportskeeda.com/editor/2022/10/73bae-16672248397230.png', 'data:image/svg+xml,<svg%20xmlns=%22http://www.w3.org/2000/svg%22%20viewBox=%220%200%20624%20468%22></svg>', 'https://staticg.sportskeeda.com/editor/2022/10/db956-16672248402403.png', 'data:image/svg+xml,<svg%20xmlns=%22http://www.w3.org/2000/svg%22%20viewBox=%220%200%20624%20352%22></svg>', 'https://staticg.sportskeeda.com/editor/2022/10/6b0d1-16672248408686.png', 'data:image/svg+xml,<svg%20xmlns=%22http://www.w3.org/2000/svg%22%20viewBox=%220%200%20624%20352%22></svg>', 'https://staticg.sportskeeda.com/editor/2022/10/f1ff1-16672248396403.png', 'data:image/svg+xml,<svg%20xmlns=%22http://www.w3.org/2000/svg%22%20viewBox=%220%200%20624%20759%22></svg>'], 'title': 'A (Second Raikage) in Naruto', 'tag': 'characters', 'link': 'https://wiki.sportskeeda.com/naruto/a-second-raikage-in-naruto'}]\n",
      "GroupType.PLOT 809\n",
      "[{'text': 'A was Kumogakure’s First Raikage, who founded the Land of Lightning after the Warring states period. He gave land to the Yotsuki Clan in the Valley of Clouds, in return for their loyalty..During A’s leadership after the Warring States Period, he probably sent the Gold and Silver Brothers to capture the Nine-Tails, a task they ultimately failed at..He was accompanied by the future Second Raikage, his long-time bodyguard, during the inaugural gathering of the five Kage. He sat next to the other Kage and reminded Hashirama that bowing to the other Kage was not a hallmark of a long-lasting leader. He expresses displeasure when the Kazekage demanded 30% of whatever they would pay for a tailed beast from Konoha after asking the First Kazekage to give voice to his alternate desire because Sunagakure already had one. He watched closely as infighting erupted and Hashirama Senju pleaded with them to protect their children’s futures by uniting..A left a significant moral mark relating to his desire to defend Kumogakure in his bodyguard, whose lengthy service and dedication gained him the nomination as his successor before his death during the war..A appeared much later after his death during the conclusion of the Fourth Shinobi World War, when he was summoned by Hagoromo Ōtsutsuki along with the other deceased Kage from the Pure Land to assist him and the Hokage in summoning Team 7, the tailed beasts and Madara Uchiha from Kaguya’s realm. He later commented on the situation before his and other Kage’s souls returned to the Pure Land..Not much of A’s personality was shown but he did appear to have a vocal tic, including his statements with “yo”. He also had the tendency of folding his arms. He was a proud man who believed that shinobi should not drop their heads so lightly. He had a deep desire to defend Kumogakure, which he passed on to his heir..A had a dark complexion and pronounced lines beneath his eyes, as well as a mop of shaggy black hair that partially concealed his forehead protector. He donned a kimono shirt with a high collar, dark slacks linked by a sash, and a light colored scarf around his neck. He was also wearing little stud earrings. His outfit consisted of a cream coat with a high collar, a white forehead protector, zōri, and a purple scarf around his neck..A’s abilities have not been demonstrated, though being the Raikage and the Founder of Kumogakure, he was undoubtedly a strong shinobi..A. A, the future Second Raikage, was the First Raikage’s bodyguard who accompanied him to various places..A. The Third Raikge was known to be the strongest ever to hold the leadership position in Kumogakure.', 'img_links': ['https://staticg.sportskeeda.com/editor/2022/10/4ae9c-16667923756686.png', 'data:image/svg+xml,<svg%20xmlns=%22http://www.w3.org/2000/svg%22%20viewBox=%220%200%20624%20437%22></svg>', 'https://staticg.sportskeeda.com/editor/2022/10/f2d95-16667923762130.png', 'data:image/svg+xml,<svg%20xmlns=%22http://www.w3.org/2000/svg%22%20viewBox=%220%200%20624%20352%22></svg>', 'https://staticg.sportskeeda.com/editor/2022/10/d208b-16667923768132.png', 'data:image/svg+xml,<svg%20xmlns=%22http://www.w3.org/2000/svg%22%20viewBox=%220%200%20624%20352%22></svg>', 'https://staticg.sportskeeda.com/editor/2022/10/8050e-16667923756216.png', 'data:image/svg+xml,<svg%20xmlns=%22http://www.w3.org/2000/svg%22%20viewBox=%220%200%20624%20576%22></svg>'], 'title': 'A (First Raikage) in Naruto', 'tag': 'characters', 'link': 'https://wiki.sportskeeda.com/naruto/a-first-raikage-in-naruto'}, {'text': 'A was the Second Raikage of Kumogakure. He was also known as the Nidaime Raikage (literally, Second Lightning Shadow). He put a lot of effort into establishing harmony with the other secret communities throughout his rule..A was a longtime bodyguard to the First Raikage before he became the Second Raikage. He went with him to the first Five Kage Summit when he was serving. He stood behind the First and carefully observed the events as they took place..He was appointed Second Raikage after years of hard work and lengthy service. During his rule, A entered Kumogakure into a formal alliance with Konohagakure; however, the Gold and Silver Brothers, who were preparing to launch a coup d’état, ambushed him and the Second Hokage during the ceremony. A’s fate is unknown, but the Hokage is said to have narrowly escaped with his life. Overall, A’s activities greatly aided Kumogakure in establishing peace..A reappeared during the conclusion of the Fourth Shinobi World War when Hagoromo Ōtsutsuki summoned him along with other deceased Kage from the Pure Land to help him and the Hokage call Team 7, the tailed beasts, and Madara Uchiha from Kaguya’s realm. Later, the souls of the other Kage and he were transferred back to the Pure Land..A inherited the strong will of his predecessor to protect Kumogakure. He was also known to be friendly and intelligent, as seen by his well-versed knowledge in politics..A had a dark complexion, a flat and broad nose, and dark eyes with marks underneath. His black shoulder-length hair was styled in an odd way, and he also sported a goatee-shaped stylized beard. Just below his eyes, he also possessed curved-inside sideburns. He was dressed in the Kumo-nin uniform, which consisted of a high-collared shirt with mesh armor underneath and a white forehead protector. Over all this, he was dressed in a somewhat modified version of Kumogakure’s current flak jacket, which appeared to be embellished with medals of some sort. He also wore metal armor that resembled samurai armor and covered his right shoulder. He also had a rectangular, gold-colored mark on his nose..Before becoming the Second Raikage, he wore a long-sleeved dark shirt that could be opened to expose a mesh-armor shirt underneath, coupled with dark-colored leggings, a simple headband, and a scarf that hung around his neck..Not much of A’s skills have been revealed, but the fact that he was chosen to be the Second Raikage suggests he was unquestionably a skilled shinobi. His abilities were such that, even before becoming a Kage, he was chosen to serve as his predecessor’s guard, for which he became well known. He was also said to be knowledgeable about political matters, which suggests that he was intelligent..A. Throughout the history of Kumogakure, the first four Raikage each had a given name A, which is a coincidence. Each A had a tag team partner named “B”, who was responsible for defending the Raikage and bringing out the Raikage’s full power..A. A’s other name hasn’t been known. He was known as the Nidaime Raikage (Second Lightning Shadow).', 'img_links': ['https://staticg.sportskeeda.com/editor/2022/10/73bae-16672248397230.png', 'data:image/svg+xml,<svg%20xmlns=%22http://www.w3.org/2000/svg%22%20viewBox=%220%200%20624%20468%22></svg>', 'https://staticg.sportskeeda.com/editor/2022/10/db956-16672248402403.png', 'data:image/svg+xml,<svg%20xmlns=%22http://www.w3.org/2000/svg%22%20viewBox=%220%200%20624%20352%22></svg>', 'https://staticg.sportskeeda.com/editor/2022/10/6b0d1-16672248408686.png', 'data:image/svg+xml,<svg%20xmlns=%22http://www.w3.org/2000/svg%22%20viewBox=%220%200%20624%20352%22></svg>', 'https://staticg.sportskeeda.com/editor/2022/10/f1ff1-16672248396403.png', 'data:image/svg+xml,<svg%20xmlns=%22http://www.w3.org/2000/svg%22%20viewBox=%220%200%20624%20759%22></svg>'], 'title': 'A (Second Raikage) in Naruto', 'tag': 'characters', 'link': 'https://wiki.sportskeeda.com/naruto/a-second-raikage-in-naruto'}]\n"
     ]
    }
   ],
   "source": [
    "# Preview data\n",
    "for k in list(clustered_data.keys())[:5]:\n",
    "    print(k, len(clustered_data[k]))\n",
    "    print(clustered_data[k][:2])"
   ]
  },
  {
   "cell_type": "code",
   "execution_count": 20,
   "metadata": {},
   "outputs": [],
   "source": [
    "# with open(\"./prompt_sportseeker_v4.jsonl\") as f:\n",
    "#     sportseekda_prompts = [PromptMeta.model_validate_json(line) for line in f]"
   ]
  },
  {
   "cell_type": "code",
   "execution_count": 21,
   "metadata": {},
   "outputs": [],
   "source": [
    "meta_instructions_by_group = {}\n",
    "for meta_instruction in meta_instructions:\n",
    "    group = meta_instruction[\"group\"]\n",
    "    if group not in meta_instructions_by_group:\n",
    "        meta_instructions_by_group[group] = []\n",
    "    meta_instructions_by_group[group].append(meta_instruction)"
   ]
  },
  {
   "cell_type": "code",
   "execution_count": 22,
   "metadata": {},
   "outputs": [],
   "source": [
    "sportseekda_meta_prompts_by_group: Dict[GroupType, List[PromptMeta]] = {}\n",
    "for group, data in clustered_data.items():\n",
    "    sportseekda_meta_prompts_by_group[group] = []\n",
    "    for row in data:\n",
    "        for meta_instruction in meta_instructions_by_group[group]:\n",
    "            sportseekda_meta_prompts_by_group[group].append(\n",
    "                create_meta_prompts_from_instruction(\n",
    "                    meta_instruction=meta_instruction,\n",
    "                    input_content=\"{}\\n{}\".format(row[\"title\"], row[\"text\"]),\n",
    "                )\n",
    "            )"
   ]
  },
  {
   "cell_type": "code",
   "execution_count": 23,
   "metadata": {},
   "outputs": [
    {
     "name": "stdout",
     "output_type": "stream",
     "text": [
      "Total meta prompts: 6837\n",
      "Average meta prompts length: 1012.6581834137779\n",
      "Min meta prompts length: 319\n",
      "Max meta prompts length: 10354\n"
     ]
    }
   ],
   "source": [
    "# Calculate total input tokens from qa_instruction and meta_instruction on all sportseekda_prompts\n",
    "total_meta_prompts = []\n",
    "for k, v in sportseekda_meta_prompts_by_group.items():\n",
    "    for i in range(len(v)):\n",
    "       total_meta_prompts.append(v[i].to_prompt())\n",
    "\n",
    "# Calculate stats about input length (average, min, max) for meta_prompts\n",
    "total_meta_prompts_length = [len(p.split()) for p in total_meta_prompts]\n",
    "average_meta_prompts_length = sum(total_meta_prompts_length)/len(total_meta_prompts)\n",
    "min_meta_prompts_length = min(total_meta_prompts_length)\n",
    "max_meta_prompts_length = max(total_meta_prompts_length)\n",
    "\n",
    "print(f\"Total meta prompts: {len(total_meta_prompts)}\")\n",
    "print(f\"Average meta prompts length: {average_meta_prompts_length}\")\n",
    "print(f\"Min meta prompts length: {min_meta_prompts_length}\")\n",
    "print(f\"Max meta prompts length: {max_meta_prompts_length}\")"
   ]
  },
  {
   "cell_type": "code",
   "execution_count": 24,
   "metadata": {},
   "outputs": [
    {
     "data": {
      "text/plain": [
       "9.583321199999999"
      ]
     },
     "execution_count": 24,
     "metadata": {},
     "output_type": "execute_result"
    }
   ],
   "source": [
    "import tiktoken\n",
    "encoding = tiktoken.encoding_for_model(\"gpt-4-turbo\")\n",
    "input_tokens = [len(encoding.encode(p)) for p in total_meta_prompts]\n",
    "pricing = {\n",
    "    \"gpt-turbo\": {\n",
    "        \"input_price_per_million\": 0.75,\n",
    "        \"output_price_per_million\": 1\n",
    "    },\n",
    "    \"deepinfra_llama3-70b\": {\n",
    "        \"input_price_per_million\": 0.12,\n",
    "        \"output_price_per_million\": 0.3\n",
    "    },\n",
    "    \"deepinfra_llama3-405b\": {\n",
    "        \"input_price_per_million\": 0.8,\n",
    "        \"output_price_per_million\": 0.8\n",
    "    }    \n",
    "}\n",
    "\n",
    "total_input_tokens = sum(input_tokens)\n",
    "average_output_tokens = 4096\n",
    "total_output_tokens = average_output_tokens * len(total_meta_prompts)\n",
    "model_name = \"deepinfra_llama3-70b\"\n",
    "# model_name = \"deepinfra_llama3-405b\"\n",
    "pricing[model_name][\"input_price_per_million\"] * total_input_tokens / 1e6 + pricing[model_name][\"output_price_per_million\"] * total_output_tokens / 1e6"
   ]
  },
  {
   "cell_type": "code",
   "execution_count": 25,
   "metadata": {},
   "outputs": [],
   "source": [
    "import time\n",
    "from pathlib import Path\n",
    "\n",
    "\n",
    "def generate_and_write_synthetic_meta_prompts_with_checkpoint(\n",
    "    client: OpenAI,\n",
    "    model_name: str,\n",
    "    data: List[PromptMeta],\n",
    "    output_file_name: str,\n",
    "    multiple_samples: int,\n",
    "    chunk_size: int = 512,\n",
    "    wait_time: int = 60,\n",
    "    max_retries: int = 3,\n",
    "    llm_config: dict = {},\n",
    "):\n",
    "    # Load checkpoint if exists\n",
    "    checkpoint_file = Path(output_file_name + \".checkpoint\")\n",
    "    start_idx = 0\n",
    "    if checkpoint_file.exists():\n",
    "        start_idx = int(checkpoint_file.read_text())\n",
    "        print(f\"Resuming from checkpoint at index {start_idx}\")\n",
    "\n",
    "    count = 0\n",
    "    for chunk_start in trange(start_idx, len(data), chunk_size):\n",
    "        chunk_end = min(chunk_start + chunk_size, len(data))\n",
    "        data_chunk = data[chunk_start:chunk_end]\n",
    "\n",
    "        retries = 0\n",
    "        while retries < max_retries:\n",
    "            try:\n",
    "                for idx in range(len(data_chunk)):\n",
    "                    response = get_instruction_output_from_meta_prompt(\n",
    "                        chat_client=client,\n",
    "                        model_name=model_name,\n",
    "                        prompt=data_chunk[idx],\n",
    "                        multiple_samples=multiple_samples,\n",
    "                        raise_exception=False,\n",
    "                        llm_config=llm_config,\n",
    "                    )\n",
    "                    synthetic_prompts = create_synthetic_prompts(response)\n",
    "                    with open(output_file_name, \"a+\") as f:\n",
    "                        for prompt in synthetic_prompts:\n",
    "                            f.write(prompt.model_dump_json() + \"\\n\")\n",
    "                            count += 1\n",
    "\n",
    "                # Save checkpoint after successful chunk\n",
    "                checkpoint_file.write_text(str(chunk_end))\n",
    "                break  # Break retry loop if successful\n",
    "\n",
    "            except Exception as e:\n",
    "                retries += 1\n",
    "                print(f\"Error processing chunk {chunk_start}-{chunk_end}: {str(e)}\")\n",
    "                if retries < max_retries:\n",
    "                    print(\n",
    "                        f\"Waiting {wait_time} seconds before retry {retries + 1}/{max_retries}\"\n",
    "                    )\n",
    "                    time.sleep(wait_time)\n",
    "                else:\n",
    "                    print(f\"Max retries reached for chunk {chunk_start}-{chunk_end}\")\n",
    "                    print(\"Data index: {}\".format(idx))\n",
    "                    raise e\n",
    "\n",
    "    # Remove checkpoint file after successful completion\n",
    "    checkpoint_file.unlink(missing_ok=True)\n",
    "    return count"
   ]
  },
  {
   "cell_type": "code",
   "execution_count": 26,
   "metadata": {},
   "outputs": [],
   "source": [
    "model_name = \"meta-llama/Llama-3.3-70B-Instruct-Turbo\"\n",
    "api_key = \"M8lfE1LIxpckoMXmMi2uW1tzPW2kZAwI\"\n",
    "base_url = \"https://api.deepinfra.com/v1/openai\"\n",
    "\n",
    "# Assume openai>=1.0.0\n",
    "from openai import OpenAI\n",
    "\n",
    "# Create an OpenAI client with your deepinfra token and endpoint\n",
    "chat_openai_client = OpenAI(\n",
    "    api_key=api_key,\n",
    "    base_url=base_url,\n",
    ")"
   ]
  },
  {
   "cell_type": "code",
   "execution_count": 27,
   "metadata": {},
   "outputs": [],
   "source": [
    "p = get_instruction_output_from_meta_prompt(\n",
    "    chat_client=chat_openai_client,\n",
    "    model_name=model_name,\n",
    "    prompt=sportseekda_meta_prompts_by_group[GroupType.CHARACTERS][100],\n",
    "    raise_exception=True,\n",
    "    llm_config={\"temperature\": 0.6},\n",
    "    multiple_samples=1\n",
    ")"
   ]
  },
  {
   "cell_type": "code",
   "execution_count": 28,
   "metadata": {},
   "outputs": [
    {
     "name": "stdout",
     "output_type": "stream",
     "text": [
      "Azami is portrayed as a cheerful, kind, and loving young woman, demonstrated by her daily visits to her grandfather's graveyard with riceballs, showcasing her devotion and belief in his survival. Her personality is deduced from limited interactions, primarily with Rock Lee, Naruto Uzumaki, and Tenten, highlighting her innocence and genuine nature. However, due to her non-canonical status and minimal screen time, Azami's character development and motivations remain largely unexplored, leaving her psychological depth somewhat one-dimensional and undefined.\n"
     ]
    }
   ],
   "source": [
    "print(p[0].response.output)"
   ]
  },
  {
   "cell_type": "code",
   "execution_count": 42,
   "metadata": {},
   "outputs": [
    {
     "name": "stdout",
     "output_type": "stream",
     "text": [
      "Resuming from checkpoint at index 758\n"
     ]
    },
    {
     "name": "stderr",
     "output_type": "stream",
     "text": [
      "  0%|          | 6/2048 [00:47<4:18:43,  7.60s/it]"
     ]
    },
    {
     "name": "stdout",
     "output_type": "stream",
     "text": [
      "Retry 0: 1 validation error for InstructionOutput\n",
      "  Input should be an object [type=model_type, input_value=[{'instruction': 'Compare...ir respective groups.\"}], input_type=list]\n",
      "    For further information visit https://errors.pydantic.dev/2.10/v/model_type\n"
     ]
    },
    {
     "name": "stderr",
     "output_type": "stream",
     "text": [
      "  1%|          | 16/2048 [02:17<4:42:24,  8.34s/it]"
     ]
    },
    {
     "name": "stdout",
     "output_type": "stream",
     "text": [
      "Retry 0: 1 validation error for InstructionOutput\n",
      "output\n",
      "  Input should be a valid string [type=string_type, input_value={'cause': \"Fūka's abilit...ss to various ninjutsu'}, input_type=dict]\n",
      "    For further information visit https://errors.pydantic.dev/2.10/v/string_type\n"
     ]
    },
    {
     "name": "stderr",
     "output_type": "stream",
     "text": [
      "  2%|▏         | 39/2048 [04:22<2:49:40,  5.07s/it]"
     ]
    },
    {
     "name": "stdout",
     "output_type": "stream",
     "text": [
      "Retry 0: 1 validation error for InstructionOutput\n",
      "  Input should be an object [type=model_type, input_value=[{'instruction': \"How doe...ness and cooperation.\"}], input_type=list]\n",
      "    For further information visit https://errors.pydantic.dev/2.10/v/model_type\n"
     ]
    },
    {
     "name": "stderr",
     "output_type": "stream",
     "text": [
      "  2%|▏         | 48/2048 [05:29<3:35:18,  6.46s/it]"
     ]
    },
    {
     "name": "stdout",
     "output_type": "stream",
     "text": [
      "Retry 0: 1 validation error for InstructionOutput\n",
      "  Input should be an object [type=model_type, input_value=[{'instruction': \"How doe...fluence in the story.\"}], input_type=list]\n",
      "    For further information visit https://errors.pydantic.dev/2.10/v/model_type\n",
      "Retry 1: 1 validation error for InstructionOutput\n",
      "  Input should be an object [type=model_type, input_value=[{'instruction': 'How doe...eness, or friendship.'}], input_type=list]\n",
      "    For further information visit https://errors.pydantic.dev/2.10/v/model_type\n",
      "Error processing chunk 854-856: 'NoneType' object has no attribute 'model_dump'\n",
      "Waiting 60 seconds before retry 2/4\n",
      "Retry 0: 1 validation error for InstructionOutput\n",
      "  Input should be an object [type=model_type, input_value=[{'instruction': \"How doe... violence and hatred.\"}], input_type=list]\n",
      "    For further information visit https://errors.pydantic.dev/2.10/v/model_type\n"
     ]
    },
    {
     "name": "stderr",
     "output_type": "stream",
     "text": [
      "  3%|▎         | 54/2048 [07:38<6:10:40, 11.15s/it] "
     ]
    },
    {
     "name": "stdout",
     "output_type": "stream",
     "text": [
      "Retry 0: 1 validation error for InstructionOutput\n",
      "  Input should be an object [type=model_type, input_value=[{'instruction': \"How doe...sitive relationships.\"}], input_type=list]\n",
      "    For further information visit https://errors.pydantic.dev/2.10/v/model_type\n"
     ]
    },
    {
     "name": "stderr",
     "output_type": "stream",
     "text": [
      "  4%|▍         | 90/2048 [12:11<3:46:12,  6.93s/it]"
     ]
    },
    {
     "name": "stdout",
     "output_type": "stream",
     "text": [
      "Retry 0: 1 validation error for InstructionOutput\n",
      "  Input should be an object [type=model_type, input_value=[{'instruction': \"How doe...nflicts and mistakes.\"}], input_type=list]\n",
      "    For further information visit https://errors.pydantic.dev/2.10/v/model_type\n"
     ]
    },
    {
     "name": "stderr",
     "output_type": "stream",
     "text": [
      "  4%|▍         | 91/2048 [12:42<7:38:07, 14.05s/it]"
     ]
    },
    {
     "name": "stdout",
     "output_type": "stream",
     "text": [
      "Retry 0: 1 validation error for InstructionOutput\n",
      "  Input should be an object [type=model_type, input_value=[{'instruction': \"Gantets...d forgiveness prevail\"}], input_type=list]\n",
      "    For further information visit https://errors.pydantic.dev/2.10/v/model_type\n"
     ]
    },
    {
     "name": "stderr",
     "output_type": "stream",
     "text": [
      "  5%|▌         | 111/2048 [15:03<2:50:26,  5.28s/it]"
     ]
    },
    {
     "name": "stdout",
     "output_type": "stream",
     "text": [
      "Retry 0: 1 validation error for InstructionOutput\n",
      "  Input should be an object [type=model_type, input_value=[{'instruction': \"Compare...to become the Hokage.'}], input_type=list]\n",
      "    For further information visit https://errors.pydantic.dev/2.10/v/model_type\n"
     ]
    },
    {
     "name": "stderr",
     "output_type": "stream",
     "text": [
      "  6%|▌         | 124/2048 [16:41<4:16:31,  8.00s/it]"
     ]
    },
    {
     "name": "stdout",
     "output_type": "stream",
     "text": [
      "Retry 0: 1 validation error for InstructionOutput\n",
      "output\n",
      "  Input should be a valid string [type=string_type, input_value={'cause': \"Genma's teamwo... Swordsmen of the Mist'}, input_type=dict]\n",
      "    For further information visit https://errors.pydantic.dev/2.10/v/string_type\n"
     ]
    },
    {
     "name": "stderr",
     "output_type": "stream",
     "text": [
      "  7%|▋         | 136/2048 [18:03<4:25:42,  8.34s/it]"
     ]
    },
    {
     "name": "stdout",
     "output_type": "stream",
     "text": [
      "Retry 0: 1 validation error for InstructionOutput\n",
      "  Input should be an object [type=model_type, input_value=[{'instruction': \"Analyze...eractions with Naruto\"}], input_type=list]\n",
      "    For further information visit https://errors.pydantic.dev/2.10/v/model_type\n"
     ]
    },
    {
     "name": "stderr",
     "output_type": "stream",
     "text": [
      "  7%|▋         | 137/2048 [18:07<3:42:33,  6.99s/it]"
     ]
    },
    {
     "name": "stdout",
     "output_type": "stream",
     "text": [
      "Retry 0: 1 validation error for InstructionOutput\n",
      "  Input should be an object [type=model_type, input_value=[{'instruction': \"Order t... Gen’yūmaru's body\"}], input_type=list]\n",
      "    For further information visit https://errors.pydantic.dev/2.10/v/model_type\n"
     ]
    },
    {
     "name": "stderr",
     "output_type": "stream",
     "text": [
      "  7%|▋         | 138/2048 [18:17<4:07:31,  7.78s/it]"
     ]
    },
    {
     "name": "stdout",
     "output_type": "stream",
     "text": [
      "Retry 0: 1 validation error for InstructionOutput\n",
      "  Input should be an object [type=model_type, input_value=[{'instruction': \"How doe...in their interaction.\"}], input_type=list]\n",
      "    For further information visit https://errors.pydantic.dev/2.10/v/model_type\n"
     ]
    },
    {
     "name": "stderr",
     "output_type": "stream",
     "text": [
      "  7%|▋         | 145/2048 [19:14<3:56:04,  7.44s/it]"
     ]
    },
    {
     "name": "stdout",
     "output_type": "stream",
     "text": [
      "Retry 0: 1 validation error for InstructionOutput\n",
      "  Input should be an object [type=model_type, input_value=[{'instruction': \"Analyze...gainst Kotetsu's team\"}], input_type=list]\n",
      "    For further information visit https://errors.pydantic.dev/2.10/v/model_type\n"
     ]
    },
    {
     "name": "stderr",
     "output_type": "stream",
     "text": [
      "  7%|▋         | 147/2048 [19:23<3:09:25,  5.98s/it]"
     ]
    },
    {
     "name": "stdout",
     "output_type": "stream",
     "text": [
      "Retry 0: 1 validation error for InstructionOutput\n",
      "  Input should be an object [type=model_type, input_value=[{'instruction': 'How doe...nges and adversaries.'}], input_type=list]\n",
      "    For further information visit https://errors.pydantic.dev/2.10/v/model_type\n"
     ]
    },
    {
     "name": "stderr",
     "output_type": "stream",
     "text": [
      "  7%|▋         | 151/2048 [19:55<3:49:54,  7.27s/it]"
     ]
    },
    {
     "name": "stdout",
     "output_type": "stream",
     "text": [
      "Retry 0: 1 validation error for InstructionOutput\n",
      "  Input should be an object [type=model_type, input_value=[{'instruction': \"Reconci...r\", 'output': 'Nagato'}], input_type=list]\n",
      "    For further information visit https://errors.pydantic.dev/2.10/v/model_type\n"
     ]
    },
    {
     "name": "stderr",
     "output_type": "stream",
     "text": [
      "  9%|▉         | 180/2048 [22:45<2:35:57,  5.01s/it]"
     ]
    },
    {
     "name": "stdout",
     "output_type": "stream",
     "text": [
      "Retry 0: 1 validation error for InstructionOutput\n",
      "  Input should be an object [type=model_type, input_value=[{'instruction': 'How doe...aderie in the series.'}], input_type=list]\n",
      "    For further information visit https://errors.pydantic.dev/2.10/v/model_type\n"
     ]
    },
    {
     "name": "stderr",
     "output_type": "stream",
     "text": [
      " 12%|█▏        | 238/2048 [28:24<3:25:09,  6.80s/it]"
     ]
    },
    {
     "name": "stdout",
     "output_type": "stream",
     "text": [
      "Retry 0: 1 validation error for InstructionOutput\n",
      "  Input should be an object [type=model_type, input_value=[{'instruction': \"Reconci... who defended himself\"}], input_type=list]\n",
      "    For further information visit https://errors.pydantic.dev/2.10/v/model_type\n"
     ]
    },
    {
     "name": "stderr",
     "output_type": "stream",
     "text": [
      " 13%|█▎        | 273/2048 [32:00<2:38:04,  5.34s/it]"
     ]
    },
    {
     "name": "stdout",
     "output_type": "stream",
     "text": [
      "Retry 0: 1 validation error for InstructionOutput\n",
      "  Input should be an object [type=model_type, input_value=[{'instruction': 'How doe...force in their lives.\"}], input_type=list]\n",
      "    For further information visit https://errors.pydantic.dev/2.10/v/model_type\n"
     ]
    },
    {
     "name": "stderr",
     "output_type": "stream",
     "text": [
      " 14%|█▍        | 285/2048 [33:40<3:37:09,  7.39s/it]"
     ]
    },
    {
     "name": "stdout",
     "output_type": "stream",
     "text": [
      "Retry 0: 1 validation error for InstructionOutput\n",
      "  Input should be an object [type=model_type, input_value=[{'instruction': 'Compare...su like the Byakugan.'}], input_type=list]\n",
      "    For further information visit https://errors.pydantic.dev/2.10/v/model_type\n"
     ]
    },
    {
     "name": "stderr",
     "output_type": "stream",
     "text": [
      " 14%|█▍        | 291/2048 [34:24<2:58:50,  6.11s/it]"
     ]
    },
    {
     "name": "stdout",
     "output_type": "stream",
     "text": [
      "Retry 0: 1 validation error for InstructionOutput\n",
      "  Input should be an object [type=model_type, input_value=[{'instruction': \"How doe...nships in the series.\"}], input_type=list]\n",
      "    For further information visit https://errors.pydantic.dev/2.10/v/model_type\n"
     ]
    },
    {
     "name": "stderr",
     "output_type": "stream",
     "text": [
      " 15%|█▍        | 298/2048 [35:23<4:28:51,  9.22s/it]"
     ]
    },
    {
     "name": "stdout",
     "output_type": "stream",
     "text": [
      "Retry 0: 1 validation error for InstructionOutput\n",
      "  Input should be an object [type=model_type, input_value=[{'instruction': \"Analyze...on of the Hyūga clan\"}], input_type=list]\n",
      "    For further information visit https://errors.pydantic.dev/2.10/v/model_type\n"
     ]
    },
    {
     "name": "stderr",
     "output_type": "stream",
     "text": [
      " 16%|█▌        | 324/2048 [38:03<2:33:14,  5.33s/it]"
     ]
    },
    {
     "name": "stdout",
     "output_type": "stream",
     "text": [
      "Retry 0: 1 validation error for InstructionOutput\n",
      "  Input should be an object [type=model_type, input_value=[{'instruction': \"How doe... hatred and violence.\"}], input_type=list]\n",
      "    For further information visit https://errors.pydantic.dev/2.10/v/model_type\n"
     ]
    },
    {
     "name": "stderr",
     "output_type": "stream",
     "text": [
      " 16%|█▋        | 333/2048 [38:51<2:19:50,  4.89s/it]"
     ]
    },
    {
     "name": "stdout",
     "output_type": "stream",
     "text": [
      "Retry 0: 1 validation error for InstructionOutput\n",
      "  Input should be an object [type=model_type, input_value=[{'instruction': 'Compare...f Itachi's backstory.\"}], input_type=list]\n",
      "    For further information visit https://errors.pydantic.dev/2.10/v/model_type\n"
     ]
    },
    {
     "name": "stderr",
     "output_type": "stream",
     "text": [
      " 17%|█▋        | 349/2048 [40:30<3:01:44,  6.42s/it]"
     ]
    },
    {
     "name": "stdout",
     "output_type": "stream",
     "text": [
      "Retry 0: 1 validation error for InstructionOutput\n",
      "  Input should be an object [type=model_type, input_value=[{'instruction': \"Analyze...it Beast's possession\"}], input_type=list]\n",
      "    For further information visit https://errors.pydantic.dev/2.10/v/model_type\n"
     ]
    },
    {
     "name": "stderr",
     "output_type": "stream",
     "text": [
      " 17%|█▋        | 354/2048 [40:57<2:34:39,  5.48s/it]"
     ]
    },
    {
     "name": "stdout",
     "output_type": "stream",
     "text": [
      "Retry 0: 1 validation error for InstructionOutput\n",
      "  Input should be an object [type=model_type, input_value=[{'instruction': \"How doe...nections with others.\"}], input_type=list]\n",
      "    For further information visit https://errors.pydantic.dev/2.10/v/model_type\n"
     ]
    },
    {
     "name": "stderr",
     "output_type": "stream",
     "text": [
      " 18%|█▊        | 368/2048 [42:43<3:24:26,  7.30s/it]"
     ]
    },
    {
     "name": "stdout",
     "output_type": "stream",
     "text": [
      "Retry 0: 1 validation error for InstructionOutput\n",
      "  Input should be an object [type=model_type, input_value=[{'instruction': \"Order t... leader of Takigakure\"}], input_type=list]\n",
      "    For further information visit https://errors.pydantic.dev/2.10/v/model_type\n"
     ]
    },
    {
     "name": "stderr",
     "output_type": "stream",
     "text": [
      " 18%|█▊        | 373/2048 [43:26<4:08:00,  8.88s/it]"
     ]
    },
    {
     "name": "stdout",
     "output_type": "stream",
     "text": [
      "Retry 0: 1 validation error for InstructionOutput\n",
      "  Input should be an object [type=model_type, input_value=[{'instruction': \"Reconci...the giant corpse crab\"}], input_type=list]\n",
      "    For further information visit https://errors.pydantic.dev/2.10/v/model_type\n"
     ]
    },
    {
     "name": "stderr",
     "output_type": "stream",
     "text": [
      " 19%|█▊        | 382/2048 [44:28<3:48:34,  8.23s/it]"
     ]
    },
    {
     "name": "stdout",
     "output_type": "stream",
     "text": [
      "Retry 0: 1 validation error for InstructionOutput\n",
      "output\n",
      "  Input should be a valid string [type=string_type, input_value={'cause': \"Homura's decis...act on Konoha's safety\"}, input_type=dict]\n",
      "    For further information visit https://errors.pydantic.dev/2.10/v/string_type\n"
     ]
    },
    {
     "name": "stderr",
     "output_type": "stream",
     "text": [
      " 19%|█▉        | 399/2048 [46:11<2:34:12,  5.61s/it]"
     ]
    },
    {
     "name": "stdout",
     "output_type": "stream",
     "text": [
      "Retry 0: 1 validation error for InstructionOutput\n",
      "  Input should be an object [type=model_type, input_value=[{'instruction': \"How doe...immediately apparent.\"}], input_type=list]\n",
      "    For further information visit https://errors.pydantic.dev/2.10/v/model_type\n"
     ]
    },
    {
     "name": "stderr",
     "output_type": "stream",
     "text": [
      " 20%|█▉        | 402/2048 [46:37<3:24:24,  7.45s/it]"
     ]
    },
    {
     "name": "stdout",
     "output_type": "stream",
     "text": [
      "Retry 0: 1 validation error for InstructionOutput\n",
      "  Input should be an object [type=model_type, input_value=[{'instruction': \"How doe...vercoming challenges.\"}], input_type=list]\n",
      "    For further information visit https://errors.pydantic.dev/2.10/v/model_type\n",
      "Retry 1: 1 validation error for InstructionOutput\n",
      "  Input should be an object [type=model_type, input_value=[{'instruction': \"How doe...ship and cooperation.\"}], input_type=list]\n",
      "    For further information visit https://errors.pydantic.dev/2.10/v/model_type\n",
      "Error processing chunk 1562-1564: 'NoneType' object has no attribute 'model_dump'\n",
      "Waiting 60 seconds before retry 2/4\n",
      "Retry 0: 1 validation error for InstructionOutput\n",
      "  Input should be an object [type=model_type, input_value=[{'instruction': \"How doe...sitive relationships.\"}], input_type=list]\n",
      "    For further information visit https://errors.pydantic.dev/2.10/v/model_type\n"
     ]
    },
    {
     "name": "stderr",
     "output_type": "stream",
     "text": [
      " 20%|█▉        | 405/2048 [48:28<8:57:53, 19.64s/it] "
     ]
    },
    {
     "name": "stdout",
     "output_type": "stream",
     "text": [
      "Retry 0: 1 validation error for InstructionOutput\n",
      "  Input should be an object [type=model_type, input_value=[{'instruction': \"How doe...nding and acceptance.\"}], input_type=list]\n",
      "    For further information visit https://errors.pydantic.dev/2.10/v/model_type\n"
     ]
    },
    {
     "name": "stderr",
     "output_type": "stream",
     "text": [
      " 20%|█▉        | 409/2048 [49:03<5:17:02, 11.61s/it]"
     ]
    },
    {
     "name": "stdout",
     "output_type": "stream",
     "text": [
      "Retry 0: 1 validation error for InstructionOutput\n",
      "output\n",
      "  Input should be a valid string [type=string_type, input_value={\"Ibiki's past experience...d sadistic personality'}, input_type=dict]\n",
      "    For further information visit https://errors.pydantic.dev/2.10/v/string_type\n",
      "Retry 1: 1 validation error for InstructionOutput\n",
      "output\n",
      "  Input should be a valid string [type=string_type, input_value={\"Ibiki's past experience...terrogation techniques'}, input_type=dict]\n",
      "    For further information visit https://errors.pydantic.dev/2.10/v/string_type\n",
      "Error processing chunk 1576-1578: 'NoneType' object has no attribute 'model_dump'\n",
      "Waiting 60 seconds before retry 2/4\n",
      "Retry 0: 1 validation error for InstructionOutput\n",
      "output\n",
      "  Input should be a valid string [type=string_type, input_value={'cause': \"Ibiki's interr...ormation from suspects'}, input_type=dict]\n",
      "    For further information visit https://errors.pydantic.dev/2.10/v/string_type\n"
     ]
    },
    {
     "name": "stderr",
     "output_type": "stream",
     "text": [
      " 21%|██        | 420/2048 [51:20<3:19:55,  7.37s/it] "
     ]
    },
    {
     "name": "stdout",
     "output_type": "stream",
     "text": [
      "Retry 0: 1 validation error for InstructionOutput\n",
      "  Input should be an object [type=model_type, input_value=[{'instruction': \"How doe... hatred and violence.\"}], input_type=list]\n",
      "    For further information visit https://errors.pydantic.dev/2.10/v/model_type\n"
     ]
    },
    {
     "name": "stderr",
     "output_type": "stream",
     "text": [
      " 21%|██▏       | 436/2048 [53:00<3:08:00,  7.00s/it]"
     ]
    },
    {
     "name": "stdout",
     "output_type": "stream",
     "text": [
      "Retry 0: 1 validation error for InstructionOutput\n",
      "output\n",
      "  Input should be a valid string [type=string_type, input_value={'character': 'Ino Yamana... 'Increased confidence'}, input_type=dict]\n",
      "    For further information visit https://errors.pydantic.dev/2.10/v/string_type\n"
     ]
    },
    {
     "name": "stderr",
     "output_type": "stream",
     "text": [
      " 21%|██▏       | 439/2048 [53:23<3:32:48,  7.94s/it]"
     ]
    },
    {
     "name": "stdout",
     "output_type": "stream",
     "text": [
      "Retry 0: 1 validation error for InstructionOutput\n",
      "  Input should be an object [type=model_type, input_value=[{'instruction': \"Analyze...'s strong personality\"}], input_type=list]\n",
      "    For further information visit https://errors.pydantic.dev/2.10/v/model_type\n"
     ]
    },
    {
     "name": "stderr",
     "output_type": "stream",
     "text": [
      " 24%|██▍       | 492/2048 [59:07<2:43:56,  6.32s/it]"
     ]
    },
    {
     "name": "stdout",
     "output_type": "stream",
     "text": [
      "Retry 0: 1 validation error for InstructionOutput\n",
      "  Input should be an object [type=model_type, input_value=[{'instruction': \"How doe...for the greater good.'}], input_type=list]\n",
      "    For further information visit https://errors.pydantic.dev/2.10/v/model_type\n"
     ]
    },
    {
     "name": "stderr",
     "output_type": "stream",
     "text": [
      " 24%|██▍       | 495/2048 [59:33<2:58:24,  6.89s/it]"
     ]
    },
    {
     "name": "stdout",
     "output_type": "stream",
     "text": [
      "Retry 0: 1 validation error for InstructionOutput\n",
      "  Input should be an object [type=model_type, input_value=[{'instruction': \"Compare...ze earth-based jutsu.\"}], input_type=list]\n",
      "    For further information visit https://errors.pydantic.dev/2.10/v/model_type\n"
     ]
    },
    {
     "name": "stderr",
     "output_type": "stream",
     "text": [
      " 24%|██▍       | 498/2048 [59:50<2:22:30,  5.52s/it]"
     ]
    },
    {
     "name": "stdout",
     "output_type": "stream",
     "text": [
      "Retry 0: 1 validation error for InstructionOutput\n",
      "  Input should be an object [type=model_type, input_value=[{'instruction': \"Explore... the cycle of hatred.\"}], input_type=list]\n",
      "    For further information visit https://errors.pydantic.dev/2.10/v/model_type\n",
      "Retry 1: 1 validation error for InstructionOutput\n",
      "  Input should be an object [type=model_type, input_value=[{'instruction': 'How doe...reaking free from it.\"}], input_type=list]\n",
      "    For further information visit https://errors.pydantic.dev/2.10/v/model_type\n",
      "Error processing chunk 1754-1756: 'NoneType' object has no attribute 'model_dump'\n",
      "Waiting 60 seconds before retry 2/4\n"
     ]
    },
    {
     "name": "stderr",
     "output_type": "stream",
     "text": [
      " 25%|██▌       | 516/2048 [1:02:52<2:00:38,  4.72s/it] "
     ]
    },
    {
     "name": "stdout",
     "output_type": "stream",
     "text": [
      "Retry 0: 1 validation error for InstructionOutput\n",
      "  Input should be an object [type=model_type, input_value=[{'instruction': \"Compare...ckground information.'}], input_type=list]\n",
      "    For further information visit https://errors.pydantic.dev/2.10/v/model_type\n"
     ]
    },
    {
     "name": "stderr",
     "output_type": "stream",
     "text": [
      " 26%|██▌       | 525/2048 [1:03:37<1:52:04,  4.42s/it]"
     ]
    },
    {
     "name": "stdout",
     "output_type": "stream",
     "text": [
      "Retry 0: 1 validation error for InstructionOutput\n",
      "  Input should be an object [type=model_type, input_value=[{'instruction': 'How doe...ce and understanding.'}], input_type=list]\n",
      "    For further information visit https://errors.pydantic.dev/2.10/v/model_type\n"
     ]
    },
    {
     "name": "stderr",
     "output_type": "stream",
     "text": [
      " 26%|██▌       | 526/2048 [1:03:51<3:10:17,  7.50s/it]"
     ]
    },
    {
     "name": "stdout",
     "output_type": "stream",
     "text": [
      "Retry 0: 1 validation error for InstructionOutput\n",
      "  Input should be an object [type=model_type, input_value=[{'instruction': \"Analyze...Genin of Konohagakure'}], input_type=list]\n",
      "    For further information visit https://errors.pydantic.dev/2.10/v/model_type\n"
     ]
    },
    {
     "name": "stderr",
     "output_type": "stream",
     "text": [
      " 27%|██▋       | 552/2048 [1:06:28<2:09:00,  5.17s/it]"
     ]
    },
    {
     "name": "stdout",
     "output_type": "stream",
     "text": [
      "Retry 0: 1 validation error for InstructionOutput\n",
      "  Input should be an object [type=model_type, input_value=[{'instruction': 'How doe...endships in her life.\"}], input_type=list]\n",
      "    For further information visit https://errors.pydantic.dev/2.10/v/model_type\n"
     ]
    },
    {
     "name": "stderr",
     "output_type": "stream",
     "text": [
      " 28%|██▊       | 564/2048 [1:07:45<2:21:35,  5.72s/it]"
     ]
    },
    {
     "name": "stdout",
     "output_type": "stream",
     "text": [
      "Retry 0: 1 validation error for InstructionOutput\n",
      "  Input should be an object [type=model_type, input_value=[{'instruction': \"How doe...he characters' lives.\"}], input_type=list]\n",
      "    For further information visit https://errors.pydantic.dev/2.10/v/model_type\n"
     ]
    },
    {
     "name": "stderr",
     "output_type": "stream",
     "text": [
      " 29%|██▉       | 589/2048 [1:10:23<2:26:41,  6.03s/it]"
     ]
    },
    {
     "name": "stdout",
     "output_type": "stream",
     "text": [
      "Retry 0: 1 validation error for InstructionOutput\n",
      "  Input should be an object [type=model_type, input_value=[{'instruction': \"Analyze...e with a violent past'}], input_type=list]\n",
      "    For further information visit https://errors.pydantic.dev/2.10/v/model_type\n"
     ]
    },
    {
     "name": "stderr",
     "output_type": "stream",
     "text": [
      " 30%|██▉       | 606/2048 [1:11:57<2:06:39,  5.27s/it]"
     ]
    },
    {
     "name": "stdout",
     "output_type": "stream",
     "text": [
      "Retry 0: 1 validation error for InstructionOutput\n",
      "  Input should be an object [type=model_type, input_value=[{'instruction': \"How doe...ation and its leader.\"}], input_type=list]\n",
      "    For further information visit https://errors.pydantic.dev/2.10/v/model_type\n"
     ]
    },
    {
     "name": "stderr",
     "output_type": "stream",
     "text": [
      " 30%|██▉       | 612/2048 [1:12:36<2:08:48,  5.38s/it]"
     ]
    },
    {
     "name": "stdout",
     "output_type": "stream",
     "text": [
      "Retry 0: 1 validation error for InstructionOutput\n",
      "  Input should be an object [type=model_type, input_value=[{'instruction': \"How doe...rowth and well-being.\"}], input_type=list]\n",
      "    For further information visit https://errors.pydantic.dev/2.10/v/model_type\n"
     ]
    },
    {
     "name": "stderr",
     "output_type": "stream",
     "text": [
      " 30%|███       | 624/2048 [1:13:52<2:11:09,  5.53s/it]"
     ]
    },
    {
     "name": "stdout",
     "output_type": "stream",
     "text": [
      "Retry 0: 1 validation error for InstructionOutput\n",
      "  Input should be an object [type=model_type, input_value=[{'instruction': \"Compare...t or weaker than him.\"}], input_type=list]\n",
      "    For further information visit https://errors.pydantic.dev/2.10/v/model_type\n"
     ]
    },
    {
     "name": "stderr",
     "output_type": "stream",
     "text": [
      " 31%|███       | 625/2048 [1:14:04<2:55:53,  7.42s/it]"
     ]
    },
    {
     "name": "stdout",
     "output_type": "stream",
     "text": [
      "Retry 0: 1 validation error for InstructionOutput\n",
      "  Input should be an object [type=model_type, input_value=[{'instruction': \"Analyze...ike's fear and trauma\"}], input_type=list]\n",
      "    For further information visit https://errors.pydantic.dev/2.10/v/model_type\n"
     ]
    },
    {
     "name": "stderr",
     "output_type": "stream",
     "text": [
      " 31%|███       | 636/2048 [1:15:06<2:02:35,  5.21s/it]"
     ]
    },
    {
     "name": "stdout",
     "output_type": "stream",
     "text": [
      "Retry 0: 1 validation error for InstructionOutput\n",
      "  Input should be an object [type=model_type, input_value=[{'instruction': \"How doe...he cycle of violence.\"}], input_type=list]\n",
      "    For further information visit https://errors.pydantic.dev/2.10/v/model_type\n"
     ]
    },
    {
     "name": "stderr",
     "output_type": "stream",
     "text": [
      " 31%|███▏      | 642/2048 [1:15:47<2:18:59,  5.93s/it]"
     ]
    },
    {
     "name": "stdout",
     "output_type": "stream",
     "text": [
      "Retry 0: 1 validation error for InstructionOutput\n",
      "  Input should be an object [type=model_type, input_value=[{'instruction': \"How doe...acters in the series.\"}], input_type=list]\n",
      "    For further information visit https://errors.pydantic.dev/2.10/v/model_type\n"
     ]
    },
    {
     "name": "stderr",
     "output_type": "stream",
     "text": [
      " 32%|███▏      | 651/2048 [1:16:36<1:44:24,  4.48s/it]"
     ]
    },
    {
     "name": "stdout",
     "output_type": "stream",
     "text": [
      "Retry 0: 1 validation error for InstructionOutput\n",
      "  Input should be an object [type=model_type, input_value=[{'instruction': \"How doe...lliances with others.\"}], input_type=list]\n",
      "    For further information visit https://errors.pydantic.dev/2.10/v/model_type\n"
     ]
    },
    {
     "name": "stderr",
     "output_type": "stream",
     "text": [
      " 33%|███▎      | 678/2048 [1:19:09<1:52:54,  4.94s/it]"
     ]
    },
    {
     "name": "stdout",
     "output_type": "stream",
     "text": [
      "Retry 0: 1 validation error for InstructionOutput\n",
      "  Input should be an object [type=model_type, input_value=[{'instruction': \"How doe...lenges and adversity.\"}], input_type=list]\n",
      "    For further information visit https://errors.pydantic.dev/2.10/v/model_type\n"
     ]
    },
    {
     "name": "stderr",
     "output_type": "stream",
     "text": [
      " 34%|███▎      | 687/2048 [1:20:09<2:18:41,  6.11s/it]"
     ]
    },
    {
     "name": "stdout",
     "output_type": "stream",
     "text": [
      "Retry 0: 1 validation error for InstructionOutput\n",
      "  Input should be an object [type=model_type, input_value=[{'instruction': \"How doe...t of the ninja world.\"}], input_type=list]\n",
      "    For further information visit https://errors.pydantic.dev/2.10/v/model_type\n"
     ]
    },
    {
     "name": "stderr",
     "output_type": "stream",
     "text": [
      " 37%|███▋      | 756/2048 [1:26:26<1:35:46,  4.45s/it]"
     ]
    },
    {
     "name": "stdout",
     "output_type": "stream",
     "text": [
      "Retry 0: 1 validation error for InstructionOutput\n",
      "  Input should be an object [type=model_type, input_value=[{'instruction': 'How doe...as learned from them.\"}], input_type=list]\n",
      "    For further information visit https://errors.pydantic.dev/2.10/v/model_type\n"
     ]
    },
    {
     "name": "stderr",
     "output_type": "stream",
     "text": [
      " 37%|███▋      | 758/2048 [1:26:52<2:48:25,  7.83s/it]"
     ]
    },
    {
     "name": "stdout",
     "output_type": "stream",
     "text": [
      "Retry 0: 1 validation error for InstructionOutput\n",
      "  Input should be an object [type=model_type, input_value=[{'instruction': \"Order t... lived in Sunagakure.'}], input_type=list]\n",
      "    For further information visit https://errors.pydantic.dev/2.10/v/model_type\n"
     ]
    },
    {
     "name": "stderr",
     "output_type": "stream",
     "text": [
      " 38%|███▊      | 780/2048 [1:29:29<2:32:13,  7.20s/it]"
     ]
    },
    {
     "name": "stdout",
     "output_type": "stream",
     "text": [
      "Retry 0: 1 validation error for InstructionOutput\n",
      "  Input should be an object [type=model_type, input_value=[{'instruction': \"How doe... of loyalty and duty.\"}], input_type=list]\n",
      "    For further information visit https://errors.pydantic.dev/2.10/v/model_type\n"
     ]
    },
    {
     "name": "stderr",
     "output_type": "stream",
     "text": [
      " 40%|███▉      | 813/2048 [1:33:24<2:04:43,  6.06s/it]"
     ]
    },
    {
     "name": "stdout",
     "output_type": "stream",
     "text": [
      "Retry 0: 1 validation error for InstructionOutput\n",
      "  Input should be an object [type=model_type, input_value=[{'instruction': \"How doe... peace and belonging.'}], input_type=list]\n",
      "    For further information visit https://errors.pydantic.dev/2.10/v/model_type\n"
     ]
    },
    {
     "name": "stderr",
     "output_type": "stream",
     "text": [
      " 40%|████      | 829/2048 [1:35:02<2:05:04,  6.16s/it]"
     ]
    },
    {
     "name": "stdout",
     "output_type": "stream",
     "text": [
      "Retry 0: 1 validation error for InstructionOutput\n",
      "output\n",
      "  Input should be a valid string [type=string_type, input_value={'cause': \"Madara's desir... of Infinite Tsukuyomi'}, input_type=dict]\n",
      "    For further information visit https://errors.pydantic.dev/2.10/v/string_type\n"
     ]
    },
    {
     "name": "stderr",
     "output_type": "stream",
     "text": [
      " 42%|████▏     | 856/2048 [1:37:47<2:31:04,  7.60s/it]"
     ]
    },
    {
     "name": "stdout",
     "output_type": "stream",
     "text": [
      "Retry 0: 1 validation error for InstructionOutput\n",
      "  Input should be an object [type=model_type, input_value=[{'instruction': \"Analyze... to brief appearances'}], input_type=list]\n",
      "    For further information visit https://errors.pydantic.dev/2.10/v/model_type\n"
     ]
    },
    {
     "name": "stderr",
     "output_type": "stream",
     "text": [
      " 42%|████▏     | 861/2048 [1:38:16<2:05:04,  6.32s/it]"
     ]
    },
    {
     "name": "stdout",
     "output_type": "stream",
     "text": [
      "Retry 0: 1 validation error for InstructionOutput\n",
      "  Input should be an object [type=model_type, input_value=[{'instruction': \"How doe... and its motivations.\"}], input_type=list]\n",
      "    For further information visit https://errors.pydantic.dev/2.10/v/model_type\n"
     ]
    },
    {
     "name": "stderr",
     "output_type": "stream",
     "text": [
      " 42%|████▏     | 865/2048 [1:38:49<2:11:58,  6.69s/it]"
     ]
    },
    {
     "name": "stdout",
     "output_type": "stream",
     "text": [
      "Retry 0: 1 validation error for InstructionOutput\n",
      "  Input should be an object [type=model_type, input_value=[{'instruction': \"Reconci... him a formidable foe\"}], input_type=list]\n",
      "    For further information visit https://errors.pydantic.dev/2.10/v/model_type\n"
     ]
    },
    {
     "name": "stderr",
     "output_type": "stream",
     "text": [
      " 43%|████▎     | 882/2048 [1:40:33<1:54:17,  5.88s/it]"
     ]
    },
    {
     "name": "stdout",
     "output_type": "stream",
     "text": [
      "Retry 0: 1 validation error for InstructionOutput\n",
      "  Input should be an object [type=model_type, input_value=[{'instruction': \"Analyze...e Shadow Clone Jutsu.\"}], input_type=list]\n",
      "    For further information visit https://errors.pydantic.dev/2.10/v/model_type\n"
     ]
    },
    {
     "name": "stderr",
     "output_type": "stream",
     "text": [
      " 44%|████▎     | 891/2048 [1:41:26<1:33:51,  4.87s/it]"
     ]
    },
    {
     "name": "stdout",
     "output_type": "stream",
     "text": [
      "Retry 0: 1 validation error for InstructionOutput\n",
      "  Input should be an object [type=model_type, input_value=[{'instruction': 'How doe...iendship and loyalty.\"}], input_type=list]\n",
      "    For further information visit https://errors.pydantic.dev/2.10/v/model_type\n"
     ]
    },
    {
     "name": "stderr",
     "output_type": "stream",
     "text": [
      " 44%|████▎     | 894/2048 [1:41:47<1:45:52,  5.50s/it]"
     ]
    },
    {
     "name": "stdout",
     "output_type": "stream",
     "text": [
      "Retry 0: 1 validation error for InstructionOutput\n",
      "  Input should be an object [type=model_type, input_value=[{'instruction': \"How doe...of healing and peace.\"}], input_type=list]\n",
      "    For further information visit https://errors.pydantic.dev/2.10/v/model_type\n"
     ]
    },
    {
     "name": "stderr",
     "output_type": "stream",
     "text": [
      " 44%|████▍     | 909/2048 [1:43:25<2:29:47,  7.89s/it]"
     ]
    },
    {
     "name": "stdout",
     "output_type": "stream",
     "text": [
      "Retry 0: 1 validation error for InstructionOutput\n",
      "  Input should be an object [type=model_type, input_value=[{'instruction': \"How doe...ist between siblings.\"}], input_type=list]\n",
      "    For further information visit https://errors.pydantic.dev/2.10/v/model_type\n"
     ]
    },
    {
     "name": "stderr",
     "output_type": "stream",
     "text": [
      " 48%|████▊     | 986/2048 [1:51:31<1:43:05,  5.82s/it]"
     ]
    },
    {
     "name": "stdout",
     "output_type": "stream",
     "text": [
      "Retry 0: 1 validation error for InstructionOutput\n",
      "  Input should be an object [type=model_type, input_value=[{'instruction': \"Order t...rth Shinobi World War\"}], input_type=list]\n",
      "    For further information visit https://errors.pydantic.dev/2.10/v/model_type\n"
     ]
    },
    {
     "name": "stderr",
     "output_type": "stream",
     "text": [
      " 49%|████▉     | 1002/2048 [1:53:11<1:43:11,  5.92s/it]"
     ]
    },
    {
     "name": "stdout",
     "output_type": "stream",
     "text": [
      "Retry 0: 1 validation error for InstructionOutput\n",
      "  Input should be an object [type=model_type, input_value=[{'instruction': \"How doe...for the greater good.\"}], input_type=list]\n",
      "    For further information visit https://errors.pydantic.dev/2.10/v/model_type\n"
     ]
    },
    {
     "name": "stderr",
     "output_type": "stream",
     "text": [
      " 49%|████▉     | 1003/2048 [1:53:31<2:59:23, 10.30s/it]"
     ]
    },
    {
     "name": "stdout",
     "output_type": "stream",
     "text": [
      "Retry 0: 1 validation error for InstructionOutput\n",
      "  Input should be an object [type=model_type, input_value=[{'instruction': \"Identif...ention, saving Nonota\"}], input_type=list]\n",
      "    For further information visit https://errors.pydantic.dev/2.10/v/model_type\n"
     ]
    },
    {
     "name": "stderr",
     "output_type": "stream",
     "text": [
      " 50%|████▉     | 1020/2048 [1:55:11<1:30:09,  5.26s/it]"
     ]
    },
    {
     "name": "stdout",
     "output_type": "stream",
     "text": [
      "Retry 0: 1 validation error for InstructionOutput\n",
      "  Input should be an object [type=model_type, input_value=[{'instruction': \"How doe...ieving a common goal.'}], input_type=list]\n",
      "    For further information visit https://errors.pydantic.dev/2.10/v/model_type\n"
     ]
    },
    {
     "name": "stderr",
     "output_type": "stream",
     "text": [
      " 50%|█████     | 1031/2048 [1:56:22<1:17:58,  4.60s/it]"
     ]
    },
    {
     "name": "stdout",
     "output_type": "stream",
     "text": [
      "Retry 0: 1 validation error for InstructionOutput\n",
      "  Input should be an object [type=model_type, input_value=[{'instruction': \"Order t...t, Fourth Shinobi War\"}], input_type=list]\n",
      "    For further information visit https://errors.pydantic.dev/2.10/v/model_type\n"
     ]
    },
    {
     "name": "stderr",
     "output_type": "stream",
     "text": [
      " 51%|█████     | 1035/2048 [1:56:49<1:34:00,  5.57s/it]"
     ]
    },
    {
     "name": "stdout",
     "output_type": "stream",
     "text": [
      "Retry 0: 1 validation error for InstructionOutput\n",
      "  Input should be an object [type=model_type, input_value=[{'instruction': \"How doe...raderie and teamwork.\"}], input_type=list]\n",
      "    For further information visit https://errors.pydantic.dev/2.10/v/model_type\n"
     ]
    },
    {
     "name": "stderr",
     "output_type": "stream",
     "text": [
      " 53%|█████▎    | 1077/2048 [2:00:55<1:35:07,  5.88s/it]"
     ]
    },
    {
     "name": "stdout",
     "output_type": "stream",
     "text": [
      "Retry 0: 1 validation error for InstructionOutput\n",
      "  Input should be an object [type=model_type, input_value=[{'instruction': \"How doe...orgive one's enemies.\"}], input_type=list]\n",
      "    For further information visit https://errors.pydantic.dev/2.10/v/model_type\n"
     ]
    },
    {
     "name": "stderr",
     "output_type": "stream",
     "text": [
      " 53%|█████▎    | 1095/2048 [2:03:02<1:29:16,  5.62s/it]"
     ]
    },
    {
     "name": "stdout",
     "output_type": "stream",
     "text": [
      "Retry 0: 1 validation error for InstructionOutput\n",
      "  Input should be an object [type=model_type, input_value=[{'instruction': \"How doe...t exist between them.\"}], input_type=list]\n",
      "    For further information visit https://errors.pydantic.dev/2.10/v/model_type\n"
     ]
    },
    {
     "name": "stderr",
     "output_type": "stream",
     "text": [
      " 54%|█████▍    | 1113/2048 [2:05:08<1:30:46,  5.83s/it]"
     ]
    },
    {
     "name": "stdout",
     "output_type": "stream",
     "text": [
      "Retry 0: 1 validation error for InstructionOutput\n",
      "  Input should be an object [type=model_type, input_value=[{'instruction': \"How doe...lty and selflessness.\"}], input_type=list]\n",
      "    For further information visit https://errors.pydantic.dev/2.10/v/model_type\n"
     ]
    },
    {
     "name": "stderr",
     "output_type": "stream",
     "text": [
      " 56%|█████▌    | 1138/2048 [2:07:48<1:59:09,  7.86s/it]"
     ]
    },
    {
     "name": "stdout",
     "output_type": "stream",
     "text": [
      "Retry 0: 1 validation error for InstructionOutput\n",
      "  Input should be an object [type=model_type, input_value=[{'instruction': \"Reconci...pancies in narrative.\"}], input_type=list]\n",
      "    For further information visit https://errors.pydantic.dev/2.10/v/model_type\n"
     ]
    },
    {
     "name": "stderr",
     "output_type": "stream",
     "text": [
      " 56%|█████▌    | 1141/2048 [2:08:07<1:51:10,  7.35s/it]"
     ]
    },
    {
     "name": "stdout",
     "output_type": "stream",
     "text": [
      "Retry 0: 1 validation error for InstructionOutput\n",
      "  Input should be an object [type=model_type, input_value=[{'instruction': \"Review ... Land of Fire village'}], input_type=list]\n",
      "    For further information visit https://errors.pydantic.dev/2.10/v/model_type\n"
     ]
    },
    {
     "name": "stderr",
     "output_type": "stream",
     "text": [
      " 56%|█████▋    | 1152/2048 [2:09:06<1:10:38,  4.73s/it]"
     ]
    },
    {
     "name": "stdout",
     "output_type": "stream",
     "text": [
      "Retry 0: 1 validation error for InstructionOutput\n",
      "  Input should be an object [type=model_type, input_value=[{'instruction': 'Analyze...ion and perseverance.\"}], input_type=list]\n",
      "    For further information visit https://errors.pydantic.dev/2.10/v/model_type\n"
     ]
    },
    {
     "name": "stderr",
     "output_type": "stream",
     "text": [
      " 58%|█████▊    | 1188/2048 [2:12:53<1:22:26,  5.75s/it]"
     ]
    },
    {
     "name": "stdout",
     "output_type": "stream",
     "text": [
      "Retry 0: 1 validation error for InstructionOutput\n",
      "  Input should be an object [type=model_type, input_value=[{'instruction': 'How doe... hatred and violence.\"}], input_type=list]\n",
      "    For further information visit https://errors.pydantic.dev/2.10/v/model_type\n",
      "Retry 0: 1 validation error for InstructionOutput\n",
      "  Input should be an object [type=model_type, input_value=[{'instruction': \"Compare... friends and village.'}], input_type=list]\n",
      "    For further information visit https://errors.pydantic.dev/2.10/v/model_type\n"
     ]
    },
    {
     "name": "stderr",
     "output_type": "stream",
     "text": [
      " 58%|█████▊    | 1189/2048 [2:13:19<2:50:37, 11.92s/it]"
     ]
    },
    {
     "name": "stdout",
     "output_type": "stream",
     "text": [
      "Retry 0: 1 validation error for InstructionOutput\n",
      "  Input should be an object [type=model_type, input_value=[{'instruction': \"Reconci...for Shizuka's actions\"}], input_type=list]\n",
      "    For further information visit https://errors.pydantic.dev/2.10/v/model_type\n"
     ]
    },
    {
     "name": "stderr",
     "output_type": "stream",
     "text": [
      " 60%|██████    | 1232/2048 [2:18:58<2:05:16,  9.21s/it]"
     ]
    },
    {
     "name": "stdout",
     "output_type": "stream",
     "text": [
      "Retry 0: 1 validation error for InstructionOutput\n",
      "  Input should be an object [type=model_type, input_value=[{'instruction': 'Analyze...rmal combat training.'}], input_type=list]\n",
      "    For further information visit https://errors.pydantic.dev/2.10/v/model_type\n"
     ]
    },
    {
     "name": "stderr",
     "output_type": "stream",
     "text": [
      " 61%|██████    | 1242/2048 [2:20:25<1:48:32,  8.08s/it]"
     ]
    },
    {
     "name": "stdout",
     "output_type": "stream",
     "text": [
      "Retry 0: 1 validation error for InstructionOutput\n",
      "  Input should be an object [type=model_type, input_value=[{'instruction': \"How doe...sake of his ambition.\"}], input_type=list]\n",
      "    For further information visit https://errors.pydantic.dev/2.10/v/model_type\n"
     ]
    },
    {
     "name": "stderr",
     "output_type": "stream",
     "text": [
      " 63%|██████▎   | 1284/2048 [2:26:10<1:20:59,  6.36s/it]"
     ]
    },
    {
     "name": "stdout",
     "output_type": "stream",
     "text": [
      "Retry 0: 1 validation error for InstructionOutput\n",
      "  Input should be an object [type=model_type, input_value=[{'instruction': \"How doe... in the Naruto world.\"}], input_type=list]\n",
      "    For further information visit https://errors.pydantic.dev/2.10/v/model_type\n"
     ]
    },
    {
     "name": "stderr",
     "output_type": "stream",
     "text": [
      " 66%|██████▌   | 1351/2048 [2:35:04<1:53:25,  9.76s/it]"
     ]
    },
    {
     "name": "stdout",
     "output_type": "stream",
     "text": [
      "Retry 0: 1 validation error for InstructionOutput\n",
      "  Input should be an object [type=model_type, input_value=[{'instruction': \"Analyze...to sparse appearances'}], input_type=list]\n",
      "    For further information visit https://errors.pydantic.dev/2.10/v/model_type\n"
     ]
    },
    {
     "name": "stderr",
     "output_type": "stream",
     "text": [
      " 66%|██████▌   | 1353/2048 [2:35:15<1:30:58,  7.85s/it]"
     ]
    },
    {
     "name": "stdout",
     "output_type": "stream",
     "text": [
      "Retry 0: 1 validation error for InstructionOutput\n",
      "  Input should be an object [type=model_type, input_value=[{'instruction': \"How doe...ndship in the series.\"}], input_type=list]\n",
      "    For further information visit https://errors.pydantic.dev/2.10/v/model_type\n",
      "Retry 0: 1 validation error for InstructionOutput\n",
      "  Input should be an object [type=model_type, input_value=[{'instruction': \"Compare...hroughout the series.\"}], input_type=list]\n",
      "    For further information visit https://errors.pydantic.dev/2.10/v/model_type\n"
     ]
    },
    {
     "name": "stderr",
     "output_type": "stream",
     "text": [
      " 68%|██████▊   | 1389/2048 [2:40:20<1:32:25,  8.42s/it]"
     ]
    },
    {
     "name": "stdout",
     "output_type": "stream",
     "text": [
      "Retry 0: 1 validation error for InstructionOutput\n",
      "  Input should be an object [type=model_type, input_value=[{'instruction': \"How doe... the cycle of hatred.\"}], input_type=list]\n",
      "    For further information visit https://errors.pydantic.dev/2.10/v/model_type\n"
     ]
    },
    {
     "name": "stderr",
     "output_type": "stream",
     "text": [
      " 69%|██████▊   | 1405/2048 [2:42:51<1:32:07,  8.60s/it]"
     ]
    },
    {
     "name": "stdout",
     "output_type": "stream",
     "text": [
      "Retry 0: 1 validation error for InstructionOutput\n",
      "  Input should be an object [type=model_type, input_value=[{'instruction': \"Analyze...y leads to his defeat\"}], input_type=list]\n",
      "    For further information visit https://errors.pydantic.dev/2.10/v/model_type\n"
     ]
    },
    {
     "name": "stderr",
     "output_type": "stream",
     "text": [
      " 70%|███████   | 1434/2048 [2:46:13<59:36,  5.82s/it]  "
     ]
    },
    {
     "name": "stdout",
     "output_type": "stream",
     "text": [
      "Retry 0: 1 validation error for InstructionOutput\n",
      "  Input should be an object [type=model_type, input_value=[{'instruction': \"How doe... violence and hatred.\"}], input_type=list]\n",
      "    For further information visit https://errors.pydantic.dev/2.10/v/model_type\n"
     ]
    },
    {
     "name": "stderr",
     "output_type": "stream",
     "text": [
      " 71%|███████▏  | 1464/2048 [2:51:36<1:55:38, 11.88s/it]"
     ]
    },
    {
     "name": "stdout",
     "output_type": "stream",
     "text": [
      "Retry 0: 1 validation error for InstructionOutput\n",
      "  Input should be an object [type=model_type, input_value=[{'instruction': \"How doe...vercoming challenges.\"}], input_type=list]\n",
      "    For further information visit https://errors.pydantic.dev/2.10/v/model_type\n"
     ]
    },
    {
     "name": "stderr",
     "output_type": "stream",
     "text": [
      " 72%|███████▏  | 1467/2048 [2:52:04<1:30:56,  9.39s/it]"
     ]
    },
    {
     "name": "stdout",
     "output_type": "stream",
     "text": [
      "Retry 0: 1 validation error for InstructionOutput\n",
      "  Input should be an object [type=model_type, input_value=[{'instruction': \"How doe... the next generation.\"}], input_type=list]\n",
      "    For further information visit https://errors.pydantic.dev/2.10/v/model_type\n"
     ]
    },
    {
     "name": "stderr",
     "output_type": "stream",
     "text": [
      " 73%|███████▎  | 1491/2048 [2:54:39<52:33,  5.66s/it]  "
     ]
    },
    {
     "name": "stdout",
     "output_type": "stream",
     "text": [
      "Retry 0: 1 validation error for InstructionOutput\n",
      "  Input should be an object [type=model_type, input_value=[{'instruction': \"How doe...for the greater good.\"}], input_type=list]\n",
      "    For further information visit https://errors.pydantic.dev/2.10/v/model_type\n"
     ]
    },
    {
     "name": "stderr",
     "output_type": "stream",
     "text": [
      " 74%|███████▎  | 1509/2048 [2:56:49<1:00:23,  6.72s/it]"
     ]
    },
    {
     "name": "stdout",
     "output_type": "stream",
     "text": [
      "Retry 0: 1 validation error for InstructionOutput\n",
      "  Input should be an object [type=model_type, input_value=[{'instruction': \"Compare...r of the Uchiha clan.'}], input_type=list]\n",
      "    For further information visit https://errors.pydantic.dev/2.10/v/model_type\n"
     ]
    },
    {
     "name": "stderr",
     "output_type": "stream",
     "text": [
      " 74%|███████▍  | 1513/2048 [2:57:43<1:45:20, 11.81s/it]"
     ]
    },
    {
     "name": "stdout",
     "output_type": "stream",
     "text": [
      "Retry 0: 1 validation error for InstructionOutput\n",
      "output\n",
      "  Input should be a valid string [type=string_type, input_value={'cause': \"Temari's tough... side around Shikamaru'}, input_type=dict]\n",
      "    For further information visit https://errors.pydantic.dev/2.10/v/string_type\n"
     ]
    },
    {
     "name": "stderr",
     "output_type": "stream",
     "text": [
      " 75%|███████▌  | 1539/2048 [3:00:58<57:48,  6.81s/it]  "
     ]
    },
    {
     "name": "stdout",
     "output_type": "stream",
     "text": [
      "Retry 0: 1 validation error for InstructionOutput\n",
      "  Input should be an object [type=model_type, input_value=[{'instruction': \"How doe...ded by the orphanage.'}], input_type=list]\n",
      "    For further information visit https://errors.pydantic.dev/2.10/v/model_type\n",
      "Retry 0: 1 validation error for InstructionOutput\n",
      "  Input should be an object [type=model_type, input_value=[{'instruction': 'Compare...lings of superiority.\"}], input_type=list]\n",
      "    For further information visit https://errors.pydantic.dev/2.10/v/model_type\n"
     ]
    },
    {
     "name": "stderr",
     "output_type": "stream",
     "text": [
      " 75%|███████▌  | 1540/2048 [3:01:26<1:50:52, 13.09s/it]"
     ]
    },
    {
     "name": "stdout",
     "output_type": "stream",
     "text": [
      "Retry 0: 1 validation error for InstructionOutput\n",
      "  Input should be an object [type=model_type, input_value=[{'instruction': \"Explain...ssed by simple things'}], input_type=list]\n",
      "    For further information visit https://errors.pydantic.dev/2.10/v/model_type\n"
     ]
    },
    {
     "name": "stderr",
     "output_type": "stream",
     "text": [
      " 78%|███████▊  | 1592/2048 [3:07:37<49:41,  6.54s/it]  "
     ]
    },
    {
     "name": "stdout",
     "output_type": "stream",
     "text": [
      "Retry 0: 1 validation error for InstructionOutput\n",
      "  Input should be an object [type=model_type, input_value=[{'instruction': 'Analyze...cks around the canal.'}], input_type=list]\n",
      "    For further information visit https://errors.pydantic.dev/2.10/v/model_type\n"
     ]
    },
    {
     "name": "stderr",
     "output_type": "stream",
     "text": [
      " 78%|███████▊  | 1605/2048 [3:09:17<50:11,  6.80s/it]  "
     ]
    },
    {
     "name": "stdout",
     "output_type": "stream",
     "text": [
      "Retry 0: 1 validation error for InstructionOutput\n",
      "  Input should be an object [type=model_type, input_value=[{'instruction': \"How doe...ith other characters.\"}], input_type=list]\n",
      "    For further information visit https://errors.pydantic.dev/2.10/v/model_type\n",
      "Retry 1: 1 validation error for InstructionOutput\n",
      "  Input should be an object [type=model_type, input_value=[{'instruction': \"How doe...nderstanding instead.\"}], input_type=list]\n",
      "    For further information visit https://errors.pydantic.dev/2.10/v/model_type\n",
      "Error processing chunk 3968-3970: 'NoneType' object has no attribute 'model_dump'\n",
      "Waiting 60 seconds before retry 2/4\n",
      "Retry 0: 1 validation error for InstructionOutput\n",
      "  Input should be an object [type=model_type, input_value=[{'instruction': 'How doe...le and achieve peace.'}], input_type=list]\n",
      "    For further information visit https://errors.pydantic.dev/2.10/v/model_type\n"
     ]
    },
    {
     "name": "stderr",
     "output_type": "stream",
     "text": [
      " 79%|███████▉  | 1614/2048 [3:11:59<1:05:19,  9.03s/it]"
     ]
    },
    {
     "name": "stdout",
     "output_type": "stream",
     "text": [
      "Retry 0: 1 validation error for InstructionOutput\n",
      "  Input should be an object [type=model_type, input_value=[{'instruction': 'Compare...ape and gain freedom.\"}], input_type=list]\n",
      "    For further information visit https://errors.pydantic.dev/2.10/v/model_type\n"
     ]
    },
    {
     "name": "stderr",
     "output_type": "stream",
     "text": [
      " 79%|███████▉  | 1618/2048 [3:12:35<58:55,  8.22s/it]  "
     ]
    },
    {
     "name": "stdout",
     "output_type": "stream",
     "text": [
      "Retry 0: 1 validation error for InstructionOutput\n",
      "  Input should be an object [type=model_type, input_value=[{'instruction': \"Analyze...d to village survival\"}], input_type=list]\n",
      "    For further information visit https://errors.pydantic.dev/2.10/v/model_type\n"
     ]
    },
    {
     "name": "stderr",
     "output_type": "stream",
     "text": [
      " 79%|███████▉  | 1624/2048 [3:13:29<1:17:13, 10.93s/it]"
     ]
    },
    {
     "name": "stdout",
     "output_type": "stream",
     "text": [
      "Retry 0: 1 validation error for InstructionOutput\n",
      "  Input should be an object [type=model_type, input_value=[{'instruction': \"Reconci...auses inconsistencies\"}], input_type=list]\n",
      "    For further information visit https://errors.pydantic.dev/2.10/v/model_type\n"
     ]
    },
    {
     "name": "stderr",
     "output_type": "stream",
     "text": [
      " 81%|████████  | 1655/2048 [3:16:42<40:05,  6.12s/it]  "
     ]
    },
    {
     "name": "stdout",
     "output_type": "stream",
     "text": [
      "Retry 0: 1 validation error for InstructionOutput\n",
      "  Input should be an object [type=model_type, input_value=[{'instruction': 'Analyze...wo-Tails from Yugito.'}], input_type=list]\n",
      "    For further information visit https://errors.pydantic.dev/2.10/v/model_type\n"
     ]
    },
    {
     "name": "stderr",
     "output_type": "stream",
     "text": [
      " 82%|████████▏ | 1673/2048 [3:19:21<42:12,  6.75s/it]  "
     ]
    },
    {
     "name": "stdout",
     "output_type": "stream",
     "text": [
      "Retry 0: 1 validation error for InstructionOutput\n",
      "  Input should be an object [type=model_type, input_value=[{'instruction': \"Order t...’s threat to Konoha\"}], input_type=list]\n",
      "    For further information visit https://errors.pydantic.dev/2.10/v/model_type\n"
     ]
    },
    {
     "name": "stderr",
     "output_type": "stream",
     "text": [
      " 85%|████████▌ | 1747/2048 [3:28:55<55:28, 11.06s/it]  "
     ]
    },
    {
     "name": "stdout",
     "output_type": "stream",
     "text": [
      "Retry 0: 1 validation error for InstructionOutput\n",
      "  Input should be an object [type=model_type, input_value=[{'instruction': \"Analyze...aiken killed Harusame'}], input_type=list]\n",
      "    For further information visit https://errors.pydantic.dev/2.10/v/model_type\n"
     ]
    },
    {
     "name": "stderr",
     "output_type": "stream",
     "text": [
      " 88%|████████▊ | 1800/2048 [3:36:35<28:50,  6.98s/it]  "
     ]
    },
    {
     "name": "stdout",
     "output_type": "stream",
     "text": [
      "Retry 0: 1 validation error for InstructionOutput\n",
      "  Input should be an object [type=model_type, input_value=[{'instruction': 'How doe...at perpetuate hatred.\"}], input_type=list]\n",
      "    For further information visit https://errors.pydantic.dev/2.10/v/model_type\n"
     ]
    },
    {
     "name": "stderr",
     "output_type": "stream",
     "text": [
      " 91%|█████████ | 1857/2048 [3:44:27<22:42,  7.13s/it]"
     ]
    },
    {
     "name": "stdout",
     "output_type": "stream",
     "text": [
      "Retry 0: 1 validation error for InstructionOutput\n",
      "  Input should be an object [type=model_type, input_value=[{'instruction': 'How doe...bout positive change.'}], input_type=list]\n",
      "    For further information visit https://errors.pydantic.dev/2.10/v/model_type\n"
     ]
    },
    {
     "name": "stderr",
     "output_type": "stream",
     "text": [
      " 93%|█████████▎| 1914/2048 [3:52:35<13:39,  6.11s/it]"
     ]
    },
    {
     "name": "stdout",
     "output_type": "stream",
     "text": [
      "Retry 0: 1 validation error for InstructionOutput\n",
      "  Input should be an object [type=model_type, input_value=[{'instruction': \"Compare... friends and village.\"}], input_type=list]\n",
      "    For further information visit https://errors.pydantic.dev/2.10/v/model_type\n"
     ]
    },
    {
     "name": "stderr",
     "output_type": "stream",
     "text": [
      " 94%|█████████▍| 1926/2048 [3:54:05<15:06,  7.43s/it]"
     ]
    },
    {
     "name": "stdout",
     "output_type": "stream",
     "text": [
      "Retry 0: 1 validation error for InstructionOutput\n",
      "  Input should be an object [type=model_type, input_value=[{'instruction': \"How doe...or revenge and power.\"}], input_type=list]\n",
      "    For further information visit https://errors.pydantic.dev/2.10/v/model_type\n",
      "Retry 0: 1 validation error for InstructionOutput\n",
      "  Input should be an object [type=model_type, input_value=[{'instruction': \"Compare... determined demeanor.'}], input_type=list]\n",
      "    For further information visit https://errors.pydantic.dev/2.10/v/model_type\n",
      "Retry 1: 1 validation error for InstructionOutput\n",
      "  Input should be an object [type=model_type, input_value=[{'instruction': \"Compare... the main characters.\"}], input_type=list]\n",
      "    For further information visit https://errors.pydantic.dev/2.10/v/model_type\n",
      "Error processing chunk 4610-4612: 'NoneType' object has no attribute 'model_dump'\n",
      "Waiting 60 seconds before retry 2/4\n"
     ]
    },
    {
     "name": "stderr",
     "output_type": "stream",
     "text": [
      " 94%|█████████▍| 1929/2048 [3:55:54<38:41, 19.51s/it]  "
     ]
    },
    {
     "name": "stdout",
     "output_type": "stream",
     "text": [
      "Retry 0: 1 validation error for InstructionOutput\n",
      "  Input should be an object [type=model_type, input_value=[{'instruction': \"How doe...explored in his case.\"}], input_type=list]\n",
      "    For further information visit https://errors.pydantic.dev/2.10/v/model_type\n"
     ]
    },
    {
     "name": "stderr",
     "output_type": "stream",
     "text": [
      " 96%|█████████▌| 1959/2048 [3:59:59<13:54,  9.38s/it]"
     ]
    },
    {
     "name": "stdout",
     "output_type": "stream",
     "text": [
      "Retry 0: 1 validation error for InstructionOutput\n",
      "  Input should be an object [type=model_type, input_value=[{'instruction': \"Compare...Uchiha set him apart.\"}], input_type=list]\n",
      "    For further information visit https://errors.pydantic.dev/2.10/v/model_type\n"
     ]
    },
    {
     "name": "stderr",
     "output_type": "stream",
     "text": [
      " 96%|█████████▌| 1960/2048 [4:00:19<18:10, 12.39s/it]"
     ]
    },
    {
     "name": "stdout",
     "output_type": "stream",
     "text": [
      "Retry 0: 1 validation error for InstructionOutput\n",
      "  Input should be an object [type=model_type, input_value=[{'instruction': \"Reconci...ll, leading to defeat\"}], input_type=list]\n",
      "    For further information visit https://errors.pydantic.dev/2.10/v/model_type\n"
     ]
    },
    {
     "name": "stderr",
     "output_type": "stream",
     "text": [
      " 97%|█████████▋| 1981/2048 [4:03:14<09:00,  8.07s/it]"
     ]
    },
    {
     "name": "stdout",
     "output_type": "stream",
     "text": [
      "Retry 0: 1 validation error for InstructionOutput\n",
      "output\n",
      "  Input should be a valid string [type=string_type, input_value={'cause': \"Orochimaru's e...maru's bond with Guren\"}, input_type=dict]\n",
      "    For further information visit https://errors.pydantic.dev/2.10/v/string_type\n"
     ]
    },
    {
     "name": "stderr",
     "output_type": "stream",
     "text": [
      " 97%|█████████▋| 1984/2048 [4:03:34<08:00,  7.50s/it]"
     ]
    },
    {
     "name": "stdout",
     "output_type": "stream",
     "text": [
      "Retry 0: 1 validation error for InstructionOutput\n",
      "  Input should be an object [type=model_type, input_value=[{'instruction': \"Reconci...n Orochimaru's orders\"}], input_type=list]\n",
      "    For further information visit https://errors.pydantic.dev/2.10/v/model_type\n"
     ]
    },
    {
     "name": "stderr",
     "output_type": "stream",
     "text": [
      " 98%|█████████▊| 2011/2048 [4:06:31<03:56,  6.38s/it]"
     ]
    },
    {
     "name": "stdout",
     "output_type": "stream",
     "text": [
      "Retry 0: 1 validation error for InstructionOutput\n",
      "  Input should be an object [type=model_type, input_value=[{'instruction': \"Review ...y fellow monks' death\"}], input_type=list]\n",
      "    For further information visit https://errors.pydantic.dev/2.10/v/model_type\n"
     ]
    },
    {
     "name": "stderr",
     "output_type": "stream",
     "text": [
      " 99%|█████████▊| 2019/2048 [4:07:26<03:12,  6.63s/it]"
     ]
    },
    {
     "name": "stdout",
     "output_type": "stream",
     "text": [
      "Retry 0: 1 validation error for InstructionOutput\n",
      "  Input should be an object [type=model_type, input_value=[{'instruction': \"How doe...athy and cooperation.\"}], input_type=list]\n",
      "    For further information visit https://errors.pydantic.dev/2.10/v/model_type\n"
     ]
    },
    {
     "name": "stderr",
     "output_type": "stream",
     "text": [
      " 99%|█████████▊| 2022/2048 [4:07:53<03:10,  7.34s/it]"
     ]
    },
    {
     "name": "stdout",
     "output_type": "stream",
     "text": [
      "Retry 0: 1 validation error for InstructionOutput\n",
      "  Input should be an object [type=model_type, input_value=[{'instruction': \"Compare...rom behind the scenes'}], input_type=list]\n",
      "    For further information visit https://errors.pydantic.dev/2.10/v/model_type\n"
     ]
    },
    {
     "name": "stderr",
     "output_type": "stream",
     "text": [
      "100%|██████████| 2048/2048 [4:11:06<00:00,  7.36s/it]\n"
     ]
    }
   ],
   "source": [
    "base_file_name = \"./sportseeker_v4_synthetic_{}.jsonl\"\n",
    "turbo_model_name = \"meta-llama/Llama-3.3-70B-Instruct-Turbo\"\n",
    "for k in sportseekda_meta_prompts_by_group.keys():\n",
    "    # print(k.value)\n",
    "    if k == GroupType.PLOT:\n",
    "        generate_and_write_synthetic_meta_prompts_with_checkpoint(\n",
    "            client=chat_openai_client,\n",
    "            model_name=turbo_model_name,\n",
    "            data=sportseekda_meta_prompts_by_group[k],\n",
    "            output_file_name=base_file_name.format(str(k.value)),\n",
    "            chunk_size=2,\n",
    "            wait_time=60,\n",
    "            multiple_samples=1,\n",
    "            max_retries=4,\n",
    "            llm_config={\"temperature\": 0.7},\n",
    "        )"
   ]
  },
  {
   "cell_type": "code",
   "execution_count": 43,
   "metadata": {},
   "outputs": [
    {
     "data": {
      "text/plain": [
       "dict_keys([<GroupType.JUTSU: 'jutsu'>, <GroupType.CHAKRA: 'chakra'>, <GroupType.BUDDHIST: 'buddhist'>, <GroupType.CHARACTERS: 'characters'>, <GroupType.PLOT: 'plot'>, <GroupType.CLANS: 'clans'>, <GroupType.VILLAGES: 'villages'>])"
      ]
     },
     "execution_count": 43,
     "metadata": {},
     "output_type": "execute_result"
    }
   ],
   "source": [
    "sportseekda_meta_prompts_by_group.keys()"
   ]
  },
  {
   "cell_type": "markdown",
   "metadata": {},
   "source": [
    "# Verify by reward modelling and duplication detection"
   ]
  },
  {
   "cell_type": "code",
   "execution_count": 44,
   "metadata": {},
   "outputs": [],
   "source": [
    "import sys\n",
    "sys.path.append(\"..\")\n",
    "\n",
    "from src.dedup import deduplicated_contents"
   ]
  },
  {
   "cell_type": "code",
   "execution_count": 45,
   "metadata": {},
   "outputs": [
    {
     "name": "stdout",
     "output_type": "stream",
     "text": [
      "1646\n",
      "796\n"
     ]
    }
   ],
   "source": [
    "with open(\"sportseeker_v4_synthetic_characters.jsonl\", \"r\") as f:\n",
    "    prompts = [json.loads(l) for l in f.readlines()]\n",
    "input_prompts = [prompt[\"input\"] for prompt in prompts]\n",
    "print(len(prompts))\n",
    "deduplicated_indices = deduplicated_contents(input_prompts, return_indices=True, ngrams=10, num_perm=64)\n",
    "deduplicated_prompts = [prompts[i] for i in deduplicated_indices]\n",
    "print(len(deduplicated_prompts))"
   ]
  },
  {
   "cell_type": "code",
   "execution_count": 54,
   "metadata": {},
   "outputs": [
    {
     "name": "stdout",
     "output_type": "stream",
     "text": [
      "sportseeker_v4_synthetic_characters.jsonl\n",
      "Before deduplication: 1646\n",
      "After deduplication: 966\n",
      "sportseeker_v4_synthetic_chakra.jsonl\n",
      "Before deduplication: 55\n",
      "After deduplication: 55\n",
      "sportseeker_v4_synthetic_jutsu.jsonl\n",
      "Before deduplication: 105\n",
      "After deduplication: 74\n",
      "sportseeker_v4_synthetic_plot.jsonl\n",
      "Before deduplication: 4858\n",
      "After deduplication: 4337\n",
      "sportseeker_v4_synthetic_buddhist.jsonl\n",
      "Before deduplication: 102\n",
      "After deduplication: 70\n",
      "sportseeker_v4_synthetic_plot.jsonl\n",
      "Before deduplication: 4858\n",
      "After deduplication: 4337\n",
      "sportseeker_v4_synthetic_villages.jsonl\n",
      "Before deduplication: 51\n",
      "After deduplication: 49\n",
      "sportseeker_v4_synthetic_clans.jsonl\n",
      "Before deduplication: 31\n",
      "After deduplication: 27\n"
     ]
    }
   ],
   "source": [
    "import json\n",
    "\n",
    "fpaths = [\n",
    "    \"sportseeker_v4_synthetic_characters.jsonl\",\n",
    "    \"sportseeker_v4_synthetic_chakra.jsonl\",\n",
    "    \"sportseeker_v4_synthetic_jutsu.jsonl\",\n",
    "    \"sportseeker_v4_synthetic_plot.jsonl\",\n",
    "    \"sportseeker_v4_synthetic_buddhist.jsonl\",\n",
    "    \"sportseeker_v4_synthetic_plot.jsonl\",\n",
    "    \"sportseeker_v4_synthetic_villages.jsonl\",\n",
    "    \"sportseeker_v4_synthetic_clans.jsonl\",\n",
    "    # \"sportseeker_v4_synthetic_characters.jsonl\",\n",
    "]\n",
    "\n",
    "for fpath in fpaths:\n",
    "    with open(fpath) as f:\n",
    "        prompts = [json.loads(l) for l in f.readlines()]\n",
    "\n",
    "    input_prompts = [prompt[\"instruction\"] + \"\\n\" + prompt[\"response\"] for prompt in prompts]\n",
    "    deduplicated_indices = deduplicated_contents(input_prompts, return_indices=True, ngrams=10, threshold=0.7, num_perm=256)\n",
    "    deduplicated_prompts = [prompts[i] for i in deduplicated_indices]\n",
    "    print(fpath)\n",
    "    print(\"Before deduplication:\", len(prompts))\n",
    "    print(\"After deduplication:\", len(deduplicated_prompts))\n",
    "    with open(f\"deduplicated_{fpath}\", \"w\") as f:\n",
    "        for prompt in deduplicated_prompts:\n",
    "            prompt.pop(\"input\")\n",
    "            f.write(json.dumps(prompt) + \"\\n\")"
   ]
  },
  {
   "cell_type": "code",
   "execution_count": 53,
   "metadata": {},
   "outputs": [
    {
     "data": {
      "text/plain": [
       "{'name': None,\n",
       " 'instruction': \"Analyze Team 10's political influence\",\n",
       " 'guideline': '',\n",
       " 'input': \"Team 10 Naruto\\nTeam 10 consisted of Shikamaru Nara, Ino Yamanaka and Choji Akamichi. They are the 16th generation of Ino–Shika–Chō (Boar–Deer–Butterfly) team, a name commonly given to the trios from the Yamanaka, Nara and Akimichi clans. They were led by the Jonin named Asuma Sarutobi, who was the grandson of third Hokage and Team Asuma are known for their exceptional team work and camaraderie. After Asuma’s death, the team was led by Hatake Kakashi briefly to avenge his death. Though not active, they are assumed to be working together..Team 10 or also known as the Ino-Shika-Cho trio is a team known for its exceptional teamwork even though they tend to argue sometimes. They were read at stalling their opponents and were led by Asuma Sarutobi..During the two and half years, the second chunnin exams took place and Sakura temporarily joined team 10 as her teammates weren’t there and a team of three is required. Asuma had kept Shikamaru in charge as he was already a chunin..They lost Asuma while fighting an Akatsuki member and after Asuma's death, Kakashi led Team 10 temporarily to help them avenge Asuma's death and they were successful in doing so. They were also a part of the whole plan to go and personally kill Sasuke after he had attacked Kumogakure and to prevent any international war between the nation. Naruto tried to talk to them to let him persuade Sasuke to which they agreed..The team is assumed to be active without a permanent leader..This was a joint mission with team 7 and they were sent to rescue the daughter of the village head who was taken hostage by a bandit leader known as Baji. They were successful due to Shikamaru's intelligence and strategy skills and rescued the girl..Team 10 was sent to help Kosuke Marubaosgu who was being hunted by a group of shinobis. With the help of their teamwork and tactics, they managed to defeat the shinobis and saved Kosuke..When Asuma was killed by Hidan, team 10 swore that they would avenge their master. Tsunade forbade them from going and objected to Shikamaru's reckless revenge plan and refused to let them take the mission as they weren't a four-man cell. However, Kakashi stepped up and led them to go and fight Hidan and Kakuzu again. They were later on aided by team Yamato too. With the help of Shikamaru's elaborate and great plan, they managed to defeat and kill both Hidan and Kakuzu..A. Sakura calls her that for fun or teasing purposes because Ino’s name means boar..A. Karui is Choji’s wife in Boruto and she belongs to Kumogakure. After marrying Choji she immigrates to Konohagakure..A. In Boruto the current age of Shikamaru is 33. He is the Hokage’s(Naruto) advisor and also like his right-hand man.\",\n",
       " 'response': \"Team 10 wields significant influence through Shikamaru's advisory role to Hokage Naruto\",\n",
       " 'expected_output': None}"
      ]
     },
     "execution_count": 53,
     "metadata": {},
     "output_type": "execute_result"
    }
   ],
   "source": [
    "deduplicated_prompts[2]"
   ]
  },
  {
   "cell_type": "code",
   "execution_count": 26,
   "metadata": {},
   "outputs": [],
   "source": [
    "import json\n",
    "deduplicated_prompts = [json.loads(l.strip()) for l in open(\"deduplicated_sportseeker_v4_all.jsonl\")]\n",
    "for i in range(len(deduplicated_prompts)):\n",
    "    deduplicated_prompts[i].pop(\"expected_output\")\n",
    "    deduplicated_prompts[i].pop(\"name\")\n",
    "    deduplicated_prompts[i].pop(\"guideline\")\n",
    "    deduplicated_prompts[i][\"input\"] = \"\""
   ]
  },
  {
   "cell_type": "code",
   "execution_count": 27,
   "metadata": {},
   "outputs": [
    {
     "data": {
      "text/plain": [
       "{'instruction': 'Explain Adamantine Sealing Chains',\n",
       " 'response': 'Ninja technique inspired by Buddhist concept of binding and sealing evil spirits',\n",
       " 'input': ''}"
      ]
     },
     "execution_count": 27,
     "metadata": {},
     "output_type": "execute_result"
    }
   ],
   "source": [
    "deduplicated_prompts[0]"
   ]
  },
  {
   "cell_type": "code",
   "execution_count": 28,
   "metadata": {},
   "outputs": [],
   "source": [
    "all_prompts = [json.loads(l.strip()) for l in open(\"cft_v6_2048.jsonl\")]"
   ]
  },
  {
   "cell_type": "code",
   "execution_count": 29,
   "metadata": {},
   "outputs": [],
   "source": [
    "import datasets"
   ]
  },
  {
   "cell_type": "code",
   "execution_count": 30,
   "metadata": {},
   "outputs": [],
   "source": [
    "dedup_ds = datasets.Dataset.from_list(deduplicated_prompts)\n",
    "cft_ds = datasets.Dataset.from_list(all_prompts)"
   ]
  },
  {
   "cell_type": "code",
   "execution_count": 31,
   "metadata": {},
   "outputs": [],
   "source": [
    "all_ds = datasets.DatasetDict({\"analyze\": dedup_ds, \"wiki\": cft_ds})"
   ]
  },
  {
   "cell_type": "code",
   "execution_count": 38,
   "metadata": {},
   "outputs": [],
   "source": [
    "import json\n",
    "binary_choices = json.load(open(\"../data/binary_choices_v2.json\"))\n",
    "binary_choices_synthetic = json.load(open(\"../data/binary_choices_from_synthetic.json\"))"
   ]
  },
  {
   "cell_type": "code",
   "execution_count": 39,
   "metadata": {},
   "outputs": [],
   "source": [
    "b_ds = datasets.Dataset.from_list(binary_choices)\n",
    "b_s_ds = datasets.Dataset.from_list(binary_choices_synthetic)\n",
    "all_ds = datasets.DatasetDict({\"handcraft\": b_ds, \"synthetic\": b_s_ds})"
   ]
  },
  {
   "cell_type": "code",
   "execution_count": 43,
   "metadata": {},
   "outputs": [
    {
     "data": {
      "text/plain": [
       "{'question': 'Who is the main protagonist of the “Naruto” series?',\n",
       " 'choices': [{'answer': 'Naruto Uzumaki', 'choice': 'A'},\n",
       "  {'answer': 'Sasuke Uchiha', 'choice': 'B'}],\n",
       " 'answer': 'A',\n",
       " 'heading': 'Naruto Trivia Questions For Kids'}"
      ]
     },
     "execution_count": 43,
     "metadata": {},
     "output_type": "execute_result"
    }
   ],
   "source": [
    "b_ds[0]"
   ]
  }
 ],
 "metadata": {
  "kernelspec": {
   "display_name": "naruto_qa",
   "language": "python",
   "name": "python3"
  },
  "language_info": {
   "codemirror_mode": {
    "name": "ipython",
    "version": 3
   },
   "file_extension": ".py",
   "mimetype": "text/x-python",
   "name": "python",
   "nbconvert_exporter": "python",
   "pygments_lexer": "ipython3",
   "version": "3.9.21"
  }
 },
 "nbformat": 4,
 "nbformat_minor": 2
}
