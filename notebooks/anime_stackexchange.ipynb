{
 "cells": [
  {
   "cell_type": "code",
   "execution_count": 2,
   "metadata": {},
   "outputs": [],
   "source": [
    "# Write functions to parse XML data formats\n",
    "# Example data\n",
    "# <?xml version=\"1.0\" encoding=\"utf-8\"?>\n",
    "# <posts>\n",
    "#   <row Id=\"1\" PostTypeId=\"1\" AcceptedAnswerId=\"8\" CreationDate=\"2012-12-11T20:37:08.823\" Score=\"83\" ViewCount=\"98859\" Body=\"&lt;p&gt;Assuming the world in the One Piece universe is round, then there is not really a beginning or an end of the Grand Line.&lt;/p&gt;&#xA;&#xA;&lt;p&gt;The Straw Hats started out from the first half and are now sailing across the second half.&lt;/p&gt;&#xA;&#xA;&lt;p&gt;Wouldn't it have been quicker to set sail in the opposite direction from where they started?     &lt;/p&gt;&#xA;\" OwnerUserId=\"21\" LastEditorUserId=\"1398\" LastEditDate=\"2015-04-17T19:06:38.957\" LastActivityDate=\"2022-05-12T10:37:24.403\" Title=\"The treasure in One Piece is at the end of the Grand Line. But isn't that the same as the beginning?\" Tags=\"|one-piece|\" AnswerCount=\"6\" CommentCount=\"0\" ContentLicense=\"CC BY-SA 3.0\" />\n",
    "#   <row Id=\"2\" PostTypeId=\"1\" AcceptedAnswerId=\"33\" CreationDate=\"2012-12-11T20:39:40.780\" Score=\"14\" ViewCount=\"2772\" Body=\"&lt;p&gt;In the middle of &lt;em&gt;The Dark Tournament&lt;/em&gt;, Yusuke Urameshi gets to fully inherit Genkai's power of the &lt;em&gt;Spirit Wave&lt;/em&gt; by absorbing a ball of energy from her.&lt;/p&gt;&#xA;&#xA;&lt;p&gt;However, this process turns into an excruciating trial for Yusuke, almost killing him, and keeping him doubled over in extreme pain for a long period of time, so much so that his Spirit Animal, Poo, is also in pain and flies to him to try to help.&lt;/p&gt;&#xA;&#xA;&lt;p&gt;My question is, why is it such a painful procedure to learn and absorb this power?&lt;/p&gt;&#xA;\" OwnerUserId=\"26\" LastEditorUserId=\"247\" LastEditDate=\"2013-02-26T17:02:31.570\" LastActivityDate=\"2013-06-20T03:31:39.187\" Title=\"Why does absorbing the Spirit Wave from Genkai involve such a painful process?\" Tags=\"|yu-yu-hakusho|\" AnswerCount=\"1\" CommentCount=\"0\" ContentLicense=\"CC BY-SA 3.0\" />\n",
    "# </posts>\n",
    "# Extract post data from XML and return a list of dictionaries"
   ]
  },
  {
   "cell_type": "code",
   "execution_count": 17,
   "metadata": {},
   "outputs": [],
   "source": [
    "import json\n",
    "from tqdm import tqdm\n",
    "from glob import glob\n",
    "\n",
    "import py7zr\n",
    "import pandas as pd\n",
    "import xml.etree.ElementTree as ET\n",
    "\n",
    "def parse_xml(xml_string):\n",
    "    # Parse the XML string\n",
    "    root = ET.fromstring(xml_string)\n",
    "\n",
    "    # Initialize an empty list to hold the posts\n",
    "    posts = []\n",
    "\n",
    "    # Iterate over each 'row' element in the 'posts' element\n",
    "    for row in root.findall('row'):\n",
    "        # Get the attributes of the 'row' element as a dictionary\n",
    "        post = row.attrib\n",
    "\n",
    "        # Append the post dictionary to the list of posts\n",
    "        posts.append(post)\n",
    "\n",
    "    return posts\n"
   ]
  },
  {
   "cell_type": "code",
   "execution_count": 6,
   "metadata": {},
   "outputs": [],
   "source": [
    "files = glob(\"../data/anime_stackexchange/*.7z\")"
   ]
  },
  {
   "cell_type": "code",
   "execution_count": 18,
   "metadata": {},
   "outputs": [
    {
     "name": "stderr",
     "output_type": "stream",
     "text": [
      " 53%|█████▎    | 9/17 [00:20<00:18,  2.25s/it]\n"
     ]
    },
    {
     "ename": "ParseError",
     "evalue": "encoding specified in XML declaration is incorrect: line 1, column 31 (<string>)",
     "output_type": "error",
     "traceback": [
      "Traceback \u001b[0;36m(most recent call last)\u001b[0m:\n",
      "\u001b[0m  File \u001b[1;32m/opt/homebrew/Caskroom/miniconda/base/envs/semantic_search/lib/python3.10/site-packages/IPython/core/interactiveshell.py:3577\u001b[0m in \u001b[1;35mrun_code\u001b[0m\n    exec(code_obj, self.user_global_ns, self.user_ns)\u001b[0m\n",
      "\u001b[0m  Cell \u001b[1;32mIn[18], line 7\u001b[0m\n    posts = parse_xml(content)\u001b[0m\n",
      "\u001b[0m  Cell \u001b[1;32mIn[17], line 11\u001b[0m in \u001b[1;35mparse_xml\u001b[0m\n    root = ET.fromstring(xml_string)\u001b[0m\n",
      "\u001b[0;36m  File \u001b[0;32m/opt/homebrew/Caskroom/miniconda/base/envs/semantic_search/lib/python3.10/xml/etree/ElementTree.py:1347\u001b[0;36m in \u001b[0;35mXML\u001b[0;36m\n\u001b[0;31m    parser.feed(text)\u001b[0;36m\n",
      "\u001b[0;36m  File \u001b[0;32m<string>\u001b[0;36m\u001b[0m\n\u001b[0;31mParseError\u001b[0m\u001b[0;31m:\u001b[0m encoding specified in XML declaration is incorrect: line 1, column 31\n"
     ]
    }
   ],
   "source": [
    "df = []\n",
    "target_file_name = \"Posts.xml\"\n",
    "for file in tqdm(files):\n",
    "    with py7zr.SevenZipFile(file, mode='r') as z:\n",
    "        list_of_files = z.readall()\n",
    "        content = list_of_files[target_file_name].read()\n",
    "        try:\n",
    "            posts = parse_xml(content)\n",
    "            df.append(pd.DataFrame(posts))\n",
    "        except Exception as e:\n",
    "            print(f\"Error {file}: {e}\")\n"
   ]
  },
  {
   "cell_type": "code",
   "execution_count": 8,
   "metadata": {},
   "outputs": [],
   "source": [
    "data_path = \"../data/anime_stackexchange/Anime Stack Exchange/Posts.xml\"\n",
    "posts = parse_xml(open(data_path).read())"
   ]
  },
  {
   "cell_type": "code",
   "execution_count": 9,
   "metadata": {},
   "outputs": [],
   "source": [
    "df_posts = pd.DataFrame(posts)"
   ]
  },
  {
   "cell_type": "code",
   "execution_count": 22,
   "metadata": {},
   "outputs": [
    {
     "data": {
      "text/html": [
       "<div>\n",
       "<style scoped>\n",
       "    .dataframe tbody tr th:only-of-type {\n",
       "        vertical-align: middle;\n",
       "    }\n",
       "\n",
       "    .dataframe tbody tr th {\n",
       "        vertical-align: top;\n",
       "    }\n",
       "\n",
       "    .dataframe thead th {\n",
       "        text-align: right;\n",
       "    }\n",
       "</style>\n",
       "<table border=\"1\" class=\"dataframe\">\n",
       "  <thead>\n",
       "    <tr style=\"text-align: right;\">\n",
       "      <th></th>\n",
       "      <th>Id</th>\n",
       "      <th>PostTypeId</th>\n",
       "      <th>AcceptedAnswerId</th>\n",
       "      <th>CreationDate</th>\n",
       "      <th>Score</th>\n",
       "      <th>ViewCount</th>\n",
       "      <th>Body</th>\n",
       "      <th>OwnerUserId</th>\n",
       "      <th>LastEditorUserId</th>\n",
       "      <th>LastEditDate</th>\n",
       "      <th>...</th>\n",
       "      <th>Tags</th>\n",
       "      <th>AnswerCount</th>\n",
       "      <th>CommentCount</th>\n",
       "      <th>ContentLicense</th>\n",
       "      <th>ParentId</th>\n",
       "      <th>ClosedDate</th>\n",
       "      <th>OwnerDisplayName</th>\n",
       "      <th>FavoriteCount</th>\n",
       "      <th>LastEditorDisplayName</th>\n",
       "      <th>CommunityOwnedDate</th>\n",
       "    </tr>\n",
       "  </thead>\n",
       "  <tbody>\n",
       "    <tr>\n",
       "      <th>0</th>\n",
       "      <td>1</td>\n",
       "      <td>1</td>\n",
       "      <td>8</td>\n",
       "      <td>2012-12-11T20:37:08.823</td>\n",
       "      <td>83</td>\n",
       "      <td>98859</td>\n",
       "      <td>&lt;p&gt;Assuming the world in the One Piece univers...</td>\n",
       "      <td>21</td>\n",
       "      <td>1398</td>\n",
       "      <td>2015-04-17T19:06:38.957</td>\n",
       "      <td>...</td>\n",
       "      <td>|one-piece|</td>\n",
       "      <td>6</td>\n",
       "      <td>0</td>\n",
       "      <td>CC BY-SA 3.0</td>\n",
       "      <td>NaN</td>\n",
       "      <td>NaN</td>\n",
       "      <td>NaN</td>\n",
       "      <td>NaN</td>\n",
       "      <td>NaN</td>\n",
       "      <td>NaN</td>\n",
       "    </tr>\n",
       "    <tr>\n",
       "      <th>1</th>\n",
       "      <td>2</td>\n",
       "      <td>1</td>\n",
       "      <td>33</td>\n",
       "      <td>2012-12-11T20:39:40.780</td>\n",
       "      <td>14</td>\n",
       "      <td>2772</td>\n",
       "      <td>&lt;p&gt;In the middle of &lt;em&gt;The Dark Tournament&lt;/e...</td>\n",
       "      <td>26</td>\n",
       "      <td>247</td>\n",
       "      <td>2013-02-26T17:02:31.570</td>\n",
       "      <td>...</td>\n",
       "      <td>|yu-yu-hakusho|</td>\n",
       "      <td>1</td>\n",
       "      <td>0</td>\n",
       "      <td>CC BY-SA 3.0</td>\n",
       "      <td>NaN</td>\n",
       "      <td>NaN</td>\n",
       "      <td>NaN</td>\n",
       "      <td>NaN</td>\n",
       "      <td>NaN</td>\n",
       "      <td>NaN</td>\n",
       "    </tr>\n",
       "    <tr>\n",
       "      <th>2</th>\n",
       "      <td>3</td>\n",
       "      <td>1</td>\n",
       "      <td>148</td>\n",
       "      <td>2012-12-11T20:42:47.447</td>\n",
       "      <td>12</td>\n",
       "      <td>4984</td>\n",
       "      <td>&lt;p&gt;In Sora no Otoshimono, Ikaros carries aroun...</td>\n",
       "      <td>29</td>\n",
       "      <td>NaN</td>\n",
       "      <td>NaN</td>\n",
       "      <td>...</td>\n",
       "      <td>|sora-no-otoshimono|</td>\n",
       "      <td>3</td>\n",
       "      <td>1</td>\n",
       "      <td>CC BY-SA 3.0</td>\n",
       "      <td>NaN</td>\n",
       "      <td>NaN</td>\n",
       "      <td>NaN</td>\n",
       "      <td>NaN</td>\n",
       "      <td>NaN</td>\n",
       "      <td>NaN</td>\n",
       "    </tr>\n",
       "    <tr>\n",
       "      <th>3</th>\n",
       "      <td>4</td>\n",
       "      <td>1</td>\n",
       "      <td>NaN</td>\n",
       "      <td>2012-12-11T20:44:46.870</td>\n",
       "      <td>12</td>\n",
       "      <td>20792</td>\n",
       "      <td>&lt;p&gt;Is there any particular software or softwar...</td>\n",
       "      <td>18</td>\n",
       "      <td>2516</td>\n",
       "      <td>2024-02-08T03:53:05.290</td>\n",
       "      <td>...</td>\n",
       "      <td>|anime-production|</td>\n",
       "      <td>1</td>\n",
       "      <td>7</td>\n",
       "      <td>CC BY-SA 4.0</td>\n",
       "      <td>NaN</td>\n",
       "      <td>NaN</td>\n",
       "      <td>NaN</td>\n",
       "      <td>NaN</td>\n",
       "      <td>NaN</td>\n",
       "      <td>NaN</td>\n",
       "    </tr>\n",
       "    <tr>\n",
       "      <th>4</th>\n",
       "      <td>6</td>\n",
       "      <td>1</td>\n",
       "      <td>11</td>\n",
       "      <td>2012-12-11T20:47:21.890</td>\n",
       "      <td>25</td>\n",
       "      <td>9212</td>\n",
       "      <td>&lt;p&gt;In several episodes of DB:Z and DB:GT, usin...</td>\n",
       "      <td>26</td>\n",
       "      <td>3028</td>\n",
       "      <td>2016-08-22T03:44:55.933</td>\n",
       "      <td>...</td>\n",
       "      <td>|dragon-ball-z|dragon-ball-series|dragon-ball-gt|</td>\n",
       "      <td>6</td>\n",
       "      <td>2</td>\n",
       "      <td>CC BY-SA 3.0</td>\n",
       "      <td>NaN</td>\n",
       "      <td>NaN</td>\n",
       "      <td>NaN</td>\n",
       "      <td>NaN</td>\n",
       "      <td>NaN</td>\n",
       "      <td>NaN</td>\n",
       "    </tr>\n",
       "  </tbody>\n",
       "</table>\n",
       "<p>5 rows × 22 columns</p>\n",
       "</div>"
      ],
      "text/plain": [
       "  Id PostTypeId AcceptedAnswerId             CreationDate Score ViewCount  \\\n",
       "0  1          1                8  2012-12-11T20:37:08.823    83     98859   \n",
       "1  2          1               33  2012-12-11T20:39:40.780    14      2772   \n",
       "2  3          1              148  2012-12-11T20:42:47.447    12      4984   \n",
       "3  4          1              NaN  2012-12-11T20:44:46.870    12     20792   \n",
       "4  6          1               11  2012-12-11T20:47:21.890    25      9212   \n",
       "\n",
       "                                                Body OwnerUserId  \\\n",
       "0  <p>Assuming the world in the One Piece univers...          21   \n",
       "1  <p>In the middle of <em>The Dark Tournament</e...          26   \n",
       "2  <p>In Sora no Otoshimono, Ikaros carries aroun...          29   \n",
       "3  <p>Is there any particular software or softwar...          18   \n",
       "4  <p>In several episodes of DB:Z and DB:GT, usin...          26   \n",
       "\n",
       "  LastEditorUserId             LastEditDate  ...  \\\n",
       "0             1398  2015-04-17T19:06:38.957  ...   \n",
       "1              247  2013-02-26T17:02:31.570  ...   \n",
       "2              NaN                      NaN  ...   \n",
       "3             2516  2024-02-08T03:53:05.290  ...   \n",
       "4             3028  2016-08-22T03:44:55.933  ...   \n",
       "\n",
       "                                                Tags AnswerCount CommentCount  \\\n",
       "0                                        |one-piece|           6            0   \n",
       "1                                    |yu-yu-hakusho|           1            0   \n",
       "2                               |sora-no-otoshimono|           3            1   \n",
       "3                                 |anime-production|           1            7   \n",
       "4  |dragon-ball-z|dragon-ball-series|dragon-ball-gt|           6            2   \n",
       "\n",
       "  ContentLicense ParentId ClosedDate OwnerDisplayName FavoriteCount  \\\n",
       "0   CC BY-SA 3.0      NaN        NaN              NaN           NaN   \n",
       "1   CC BY-SA 3.0      NaN        NaN              NaN           NaN   \n",
       "2   CC BY-SA 3.0      NaN        NaN              NaN           NaN   \n",
       "3   CC BY-SA 4.0      NaN        NaN              NaN           NaN   \n",
       "4   CC BY-SA 3.0      NaN        NaN              NaN           NaN   \n",
       "\n",
       "  LastEditorDisplayName CommunityOwnedDate  \n",
       "0                   NaN                NaN  \n",
       "1                   NaN                NaN  \n",
       "2                   NaN                NaN  \n",
       "3                   NaN                NaN  \n",
       "4                   NaN                NaN  \n",
       "\n",
       "[5 rows x 22 columns]"
      ]
     },
     "execution_count": 22,
     "metadata": {},
     "output_type": "execute_result"
    }
   ],
   "source": [
    "df_posts.head()"
   ]
  },
  {
   "cell_type": "code",
   "execution_count": 10,
   "metadata": {},
   "outputs": [],
   "source": [
    "# Extract tags into list of string\n",
    "df_posts['Tags'] = df_posts['Tags'].str.strip('|').str.split('|')"
   ]
  },
  {
   "cell_type": "code",
   "execution_count": 11,
   "metadata": {},
   "outputs": [],
   "source": [
    "df_naruto = df_posts[df_posts['Tags'].apply(lambda x: 'naruto' in x if isinstance(x, list) else False)]"
   ]
  },
  {
   "cell_type": "code",
   "execution_count": 12,
   "metadata": {},
   "outputs": [
    {
     "data": {
      "text/plain": [
       "(1497, 22)"
      ]
     },
     "execution_count": 12,
     "metadata": {},
     "output_type": "execute_result"
    }
   ],
   "source": [
    "df_naruto.shape"
   ]
  },
  {
   "cell_type": "code",
   "execution_count": 13,
   "metadata": {},
   "outputs": [],
   "source": [
    "df_posts_explode = df_posts.explode('Tags')"
   ]
  },
  {
   "cell_type": "code",
   "execution_count": 16,
   "metadata": {},
   "outputs": [
    {
     "data": {
      "text/plain": [
       "{'Id': '2',\n",
       " 'PostTypeId': '1',\n",
       " 'AcceptedAnswerId': '33',\n",
       " 'CreationDate': '2012-12-11T20:39:40.780',\n",
       " 'Score': '14',\n",
       " 'ViewCount': '2772',\n",
       " 'Body': \"<p>In the middle of <em>The Dark Tournament</em>, Yusuke Urameshi gets to fully inherit Genkai's power of the <em>Spirit Wave</em> by absorbing a ball of energy from her.</p>\\n\\n<p>However, this process turns into an excruciating trial for Yusuke, almost killing him, and keeping him doubled over in extreme pain for a long period of time, so much so that his Spirit Animal, Poo, is also in pain and flies to him to try to help.</p>\\n\\n<p>My question is, why is it such a painful procedure to learn and absorb this power?</p>\\n\",\n",
       " 'OwnerUserId': '26',\n",
       " 'LastEditorUserId': '247',\n",
       " 'LastEditDate': '2013-02-26T17:02:31.570',\n",
       " 'LastActivityDate': '2013-06-20T03:31:39.187',\n",
       " 'Title': 'Why does absorbing the Spirit Wave from Genkai involve such a painful process?',\n",
       " 'Tags': ['yu-yu-hakusho'],\n",
       " 'AnswerCount': '1',\n",
       " 'CommentCount': '0',\n",
       " 'ContentLicense': 'CC BY-SA 3.0',\n",
       " 'ParentId': nan,\n",
       " 'ClosedDate': nan,\n",
       " 'OwnerDisplayName': nan,\n",
       " 'FavoriteCount': nan,\n",
       " 'LastEditorDisplayName': nan,\n",
       " 'CommunityOwnedDate': nan}"
      ]
     },
     "execution_count": 16,
     "metadata": {},
     "output_type": "execute_result"
    }
   ],
   "source": [
    "df_posts.iloc[1].to_dict()"
   ]
  }
 ],
 "metadata": {
  "kernelspec": {
   "display_name": "semantic_search",
   "language": "python",
   "name": "python3"
  },
  "language_info": {
   "codemirror_mode": {
    "name": "ipython",
    "version": 3
   },
   "file_extension": ".py",
   "mimetype": "text/x-python",
   "name": "python",
   "nbconvert_exporter": "python",
   "pygments_lexer": "ipython3",
   "version": "3.10.0"
  }
 },
 "nbformat": 4,
 "nbformat_minor": 2
}
