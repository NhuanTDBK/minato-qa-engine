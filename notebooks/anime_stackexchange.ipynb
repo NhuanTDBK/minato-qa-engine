{
 "cells": [
  {
   "cell_type": "code",
   "execution_count": 2,
   "metadata": {},
   "outputs": [],
   "source": [
    "# Write functions to parse XML data formats\n",
    "# Example data\n",
    "# <?xml version=\"1.0\" encoding=\"utf-8\"?>\n",
    "# <posts>\n",
    "#   <row Id=\"1\" PostTypeId=\"1\" AcceptedAnswerId=\"8\" CreationDate=\"2012-12-11T20:37:08.823\" Score=\"83\" ViewCount=\"98859\" Body=\"&lt;p&gt;Assuming the world in the One Piece universe is round, then there is not really a beginning or an end of the Grand Line.&lt;/p&gt;&#xA;&#xA;&lt;p&gt;The Straw Hats started out from the first half and are now sailing across the second half.&lt;/p&gt;&#xA;&#xA;&lt;p&gt;Wouldn't it have been quicker to set sail in the opposite direction from where they started?     &lt;/p&gt;&#xA;\" OwnerUserId=\"21\" LastEditorUserId=\"1398\" LastEditDate=\"2015-04-17T19:06:38.957\" LastActivityDate=\"2022-05-12T10:37:24.403\" Title=\"The treasure in One Piece is at the end of the Grand Line. But isn't that the same as the beginning?\" Tags=\"|one-piece|\" AnswerCount=\"6\" CommentCount=\"0\" ContentLicense=\"CC BY-SA 3.0\" />\n",
    "#   <row Id=\"2\" PostTypeId=\"1\" AcceptedAnswerId=\"33\" CreationDate=\"2012-12-11T20:39:40.780\" Score=\"14\" ViewCount=\"2772\" Body=\"&lt;p&gt;In the middle of &lt;em&gt;The Dark Tournament&lt;/em&gt;, Yusuke Urameshi gets to fully inherit Genkai's power of the &lt;em&gt;Spirit Wave&lt;/em&gt; by absorbing a ball of energy from her.&lt;/p&gt;&#xA;&#xA;&lt;p&gt;However, this process turns into an excruciating trial for Yusuke, almost killing him, and keeping him doubled over in extreme pain for a long period of time, so much so that his Spirit Animal, Poo, is also in pain and flies to him to try to help.&lt;/p&gt;&#xA;&#xA;&lt;p&gt;My question is, why is it such a painful procedure to learn and absorb this power?&lt;/p&gt;&#xA;\" OwnerUserId=\"26\" LastEditorUserId=\"247\" LastEditDate=\"2013-02-26T17:02:31.570\" LastActivityDate=\"2013-06-20T03:31:39.187\" Title=\"Why does absorbing the Spirit Wave from Genkai involve such a painful process?\" Tags=\"|yu-yu-hakusho|\" AnswerCount=\"1\" CommentCount=\"0\" ContentLicense=\"CC BY-SA 3.0\" />\n",
    "# </posts>\n",
    "# Extract post data from XML and return a list of dictionaries"
   ]
  },
  {
   "cell_type": "code",
   "execution_count": 69,
   "metadata": {},
   "outputs": [],
   "source": [
    "import json\n",
    "import re\n",
    "from tqdm import tqdm, tqdm_notebook\n",
    "from glob import glob\n",
    "from bs4 import BeautifulSoup\n",
    "\n",
    "from langchain_text_splitters import RecursiveCharacterTextSplitter\n",
    "\n",
    "import py7zr\n",
    "import pandas as pd\n",
    "import xml.etree.ElementTree as ET\n",
    "\n",
    "def parse_xml(xml_string):\n",
    "    # Parse the XML string\n",
    "    root = ET.fromstring(xml_string)\n",
    "\n",
    "    # Initialize an empty list to hold the posts\n",
    "    posts = []\n",
    "\n",
    "    # Iterate over each 'row' element in the 'posts' element\n",
    "    for row in root.findall('row'):\n",
    "        # Get the attributes of the 'row' element as a dictionary\n",
    "        post = row.attrib\n",
    "\n",
    "        # Append the post dictionary to the list of posts\n",
    "        posts.append(post)\n",
    "\n",
    "    return posts\n",
    "\n",
    "def parse_xml_from_bytes(xml_bytes):\n",
    "    # Convert the bytes to a string\n",
    "    rows = []\n",
    "    for row in xml_bytes.split(b'\\n'):\n",
    "        try:\n",
    "            row = ET.fromstring(row.decode(\"utf-8\"))\n",
    "            rows.append(row.attrib)\n",
    "        except Exception as e:\n",
    "            pass\n",
    "\n",
    "    # Parse the XML string\n",
    "    return rows\n"
   ]
  },
  {
   "cell_type": "code",
   "execution_count": 13,
   "metadata": {},
   "outputs": [],
   "source": [
    "def get_contents_by_filename(filename: str):\n",
    "    df = []\n",
    "    files = glob(\"../data/anime_stackexchange/*.7z\")\n",
    "    for file in tqdm(files):\n",
    "        with py7zr.SevenZipFile(file, mode='r') as z:\n",
    "            list_of_files = z.readall()\n",
    "            content = list_of_files[filename].read()\n",
    "            try:\n",
    "                posts = parse_xml_from_bytes(content)\n",
    "                df.append(pd.DataFrame(posts))\n",
    "            except Exception as e:\n",
    "                print(f\"Error {file}: {e}\")\n",
    "    \n",
    "    return pd.concat(df)"
   ]
  },
  {
   "cell_type": "code",
   "execution_count": 32,
   "metadata": {},
   "outputs": [
    {
     "name": "stderr",
     "output_type": "stream",
     "text": [
      "100%|██████████| 16/16 [00:29<00:00,  1.84s/it]\n"
     ]
    }
   ],
   "source": [
    "target_file_name = \"Posts.xml\"\n",
    "df_posts = get_contents_by_filename(\"Posts.xml\")\n",
    "df_comments = get_contents_by_filename(\"Comments.xml\")"
   ]
  },
  {
   "cell_type": "code",
   "execution_count": 20,
   "metadata": {},
   "outputs": [
    {
     "name": "stdout",
     "output_type": "stream",
     "text": [
      "<class 'pandas.core.frame.DataFrame'>\n",
      "Index: 483277 entries, 0 to 31290\n",
      "Data columns (total 22 columns):\n",
      " #   Column                 Non-Null Count   Dtype \n",
      "---  ------                 --------------   ----- \n",
      " 0   Id                     483277 non-null  object\n",
      " 1   PostTypeId             483277 non-null  object\n",
      " 2   AcceptedAnswerId       95061 non-null   object\n",
      " 3   CreationDate           483277 non-null  object\n",
      " 4   Score                  483277 non-null  object\n",
      " 5   ViewCount              178388 non-null  object\n",
      " 6   Body                   483277 non-null  object\n",
      " 7   OwnerUserId            477851 non-null  object\n",
      " 8   LastEditorUserId       278034 non-null  object\n",
      " 9   LastEditDate           279426 non-null  object\n",
      " 10  LastActivityDate       483277 non-null  object\n",
      " 11  Title                  178388 non-null  object\n",
      " 12  Tags                   178388 non-null  object\n",
      " 13  AnswerCount            178388 non-null  object\n",
      " 14  CommentCount           483277 non-null  object\n",
      " 15  ContentLicense         459098 non-null  object\n",
      " 16  ClosedDate             16843 non-null   object\n",
      " 17  ParentId               275811 non-null  object\n",
      " 18  OwnerDisplayName       5623 non-null    object\n",
      " 19  FavoriteCount          32890 non-null   object\n",
      " 20  LastEditorDisplayName  1682 non-null    object\n",
      " 21  CommunityOwnedDate     1328 non-null    object\n",
      "dtypes: object(22)\n",
      "memory usage: 84.8+ MB\n",
      "None\n",
      "            Id PostTypeId AcceptedAnswerId             CreationDate   Score  \\\n",
      "count   483277     483277            95061                   483277  483277   \n",
      "unique   34768          6             6663                    33606     125   \n",
      "top          1          2                8  2016-02-02T11:17:02.053       0   \n",
      "freq        15     275811               15                       30   97869   \n",
      "\n",
      "       ViewCount    Body OwnerUserId LastEditorUserId  \\\n",
      "count     178388  483277      477851           278034   \n",
      "unique     30135   37797       10119             1614   \n",
      "top          108                1908             2516   \n",
      "freq         210    2969       15587            36359   \n",
      "\n",
      "                   LastEditDate  ...      Tags AnswerCount CommentCount  \\\n",
      "count                    279426  ...    178388      178388       483277   \n",
      "unique                    19344  ...      5459          16           24   \n",
      "top     2020-06-17T09:17:53.303  ...  <naruto>           1            0   \n",
      "freq                      12676  ...     17602       96448       280805   \n",
      "\n",
      "       ContentLicense               ClosedDate ParentId OwnerDisplayName  \\\n",
      "count          459098                    16843   275811             5623   \n",
      "unique              2                     1687    11238              169   \n",
      "top      CC BY-SA 3.0  2016-05-25T17:56:40.013     4615         user8802   \n",
      "freq           326776                       15      225              531   \n",
      "\n",
      "       FavoriteCount LastEditorDisplayName       CommunityOwnedDate  \n",
      "count          32890                  1682                     1328  \n",
      "unique            32                    53                       94  \n",
      "top                1              user8802  2018-07-26T19:42:57.193  \n",
      "freq           17983                   255                       18  \n",
      "\n",
      "[4 rows x 22 columns]\n"
     ]
    }
   ],
   "source": [
    "# print overview about dataframe\n",
    "# print(df_posts.head())\n",
    "print(df_posts.info())\n",
    "print(df_posts.describe())"
   ]
  },
  {
   "cell_type": "code",
   "execution_count": 21,
   "metadata": {},
   "outputs": [
    {
     "data": {
      "text/plain": [
       "Tags\n",
       "<naruto>                                                         17602\n",
       "<one-piece>                                                       8707\n",
       "<attack-on-titan>                                                 3847\n",
       "<fairy-tail>                                                      2956\n",
       "<death-note>                                                      2872\n",
       "<bleach>                                                          2625\n",
       "<my-hero-academia>                                                2554\n",
       "<anime-production>                                                2469\n",
       "<pokemon>                                                         2017\n",
       "<hunter-x-hunter>                                                 2013\n",
       "<tropes>                                                          1882\n",
       "<dragon-ball-series><dragon-ball-super>                           1782\n",
       "<sword-art-online>                                                1731\n",
       "<one-punch-man>                                                   1659\n",
       "naruto                                                            1497\n",
       "<tokyo-ghoul>                                                     1347\n",
       "<monogatari-series>                                               1210\n",
       "<dragon-ball-super>                                               1135\n",
       "<code-geass>                                                      1130\n",
       "<dragon-ball-series>                                              1097\n",
       "<seven-deadly-sins>                                               1045\n",
       "<madoka-magica>                                                   1008\n",
       "<fullmetal-alchemist-series><fullmetal-alchemist-brotherhood>     1003\n",
       "<naruto><music>                                                    970\n",
       "<music><my-hero-academia>                                          968\n",
       "<fullmetal-alchemist-series>                                       933\n",
       "<jojos-bizarre-adventure>                                          878\n",
       "<fate-stay-night>                                                  856\n",
       "<dragon-ball-z>                                                    820\n",
       "<naruto><boruto>                                                   799\n",
       "Name: count, dtype: int64"
      ]
     },
     "execution_count": 21,
     "metadata": {},
     "output_type": "execute_result"
    }
   ],
   "source": [
    "# Extract tags into list of string\n",
    "df_posts['Tags'] = df_posts['Tags'].str.strip('|').str.split('|')\n",
    "df_posts_explode = df_posts.explode('Tags')\n",
    "df_posts_explode[\"Tags\"].value_counts().head(30)"
   ]
  },
  {
   "cell_type": "code",
   "execution_count": 59,
   "metadata": {},
   "outputs": [],
   "source": [
    "desired_tags = set([\"naruto\", \"<naruto>\"])\n",
    "df_naruto_questions = df_posts[df_posts['Tags'].apply(lambda x: any([\"naruto\" in tag for tag in x]) if isinstance(x, list) else False)]\n",
    "df_naruto_questions = df_naruto_questions.drop_duplicates(subset=[\"Id\"])"
   ]
  },
  {
   "cell_type": "code",
   "execution_count": 60,
   "metadata": {},
   "outputs": [
    {
     "data": {
      "text/plain": [
       "{'Id': '12',\n",
       " 'PostTypeId': '1',\n",
       " 'AcceptedAnswerId': '22',\n",
       " 'CreationDate': '2012-12-11T20:56:15.090',\n",
       " 'Score': '14',\n",
       " 'ViewCount': '25271',\n",
       " 'Body': '<p>I originally thought that the only surviving members after the Uchiha massacre were Sasuke and Itachi, but more and more seem to be revealed.  Is there a canonical list of surviving members of the Uchiha clan after the massacre?</p>\\n',\n",
       " 'OwnerUserId': '22',\n",
       " 'LastEditorUserId': '22',\n",
       " 'LastEditDate': '2012-12-11T21:42:46.997',\n",
       " 'LastActivityDate': '2018-03-16T18:38:49.033',\n",
       " 'Title': 'List of surviving Uchiha',\n",
       " 'Tags': ['<naruto>'],\n",
       " 'AnswerCount': '3',\n",
       " 'CommentCount': '1',\n",
       " 'ContentLicense': 'CC BY-SA 3.0',\n",
       " 'ClosedDate': nan,\n",
       " 'ParentId': nan,\n",
       " 'OwnerDisplayName': nan,\n",
       " 'FavoriteCount': nan,\n",
       " 'LastEditorDisplayName': nan,\n",
       " 'CommunityOwnedDate': nan}"
      ]
     },
     "execution_count": 60,
     "metadata": {},
     "output_type": "execute_result"
    }
   ],
   "source": [
    "df_naruto_questions.iloc[1].to_dict()"
   ]
  },
  {
   "cell_type": "code",
   "execution_count": 102,
   "metadata": {},
   "outputs": [
    {
     "data": {
      "text/plain": [
       "1598"
      ]
     },
     "execution_count": 102,
     "metadata": {},
     "output_type": "execute_result"
    }
   ],
   "source": [
    "len(df_naruto_questions)"
   ]
  },
  {
   "cell_type": "code",
   "execution_count": 62,
   "metadata": {},
   "outputs": [],
   "source": [
    "df_naruto_questions.to_parquet(\"../data/anime_stackexchange/anime_questions.parquet\", index=False)"
   ]
  },
  {
   "cell_type": "code",
   "execution_count": 116,
   "metadata": {},
   "outputs": [
    {
     "name": "stdout",
     "output_type": "stream",
     "text": [
      "Fetch more page:  1\n",
      "Fetch more page:  2\n",
      "Fetch more page:  3\n",
      "Fetch more page:  4\n",
      "Fetch more page:  5\n",
      "Fetch more page:  6\n",
      "Fetch more page:  7\n",
      "Fetch more page:  8\n",
      "Fetch more page:  9\n",
      "Fetch more page:  10\n",
      "Fetch more page:  11\n",
      "Fetch more page:  12\n",
      "Fetch more page:  13\n",
      "Fetch more page:  14\n",
      "Fetch more page:  15\n",
      "Fetch more page:  16\n",
      "Fetch more page:  17\n",
      "Fetch more page:  18\n",
      "Fetch more page:  19\n",
      "Fetch more page:  20\n",
      "Fetch more page:  21\n",
      "Fetch more page:  22\n",
      "Fetch more page:  23\n",
      "Fetch more page:  24\n",
      "Fetch more page:  25\n",
      "Fetch more page:  26\n",
      "Fetch more page:  27\n",
      "Fetch more page:  28\n",
      "Fetch more page:  29\n",
      "Fetch more page:  30\n",
      "Fetch more page:  31\n",
      "Fetch more page:  32\n",
      "Fetch more page:  33\n",
      "Fetch more page:  34\n",
      "Fetch more page:  35\n",
      "Fetch more page:  36\n",
      "Fetch more page:  37\n",
      "Fetch more page:  38\n",
      "Fetch more page:  39\n",
      "Fetch more page:  40\n",
      "Fetch more page:  41\n",
      "Fetch more page:  42\n",
      "Fetch more page:  43\n",
      "Fetch more page:  44\n",
      "Fetch more page:  45\n",
      "Fetch more page:  46\n",
      "Fetch more page:  47\n",
      "Fetch more page:  48\n",
      "Fetch more page:  49\n",
      "Fetch more page:  50\n"
     ]
    }
   ],
   "source": [
    "# Scan more questions\n",
    "\n",
    "import requests\n",
    "from functools import lru_cache\n",
    "import time\n",
    "\n",
    "filter_template = \"!6WPIomoVB24Vu\"\n",
    "key = \"rl_G7gpPaxtnuYzX2QLSatB3fQGq\"\n",
    "url_template = \"https://api.stackexchange.com/2.3/search/advanced?order=desc&sort=activity&tagged=naruto&site=anime&page={page}&key={key}\"\n",
    "\n",
    "\n",
    "def get_answers_by_question(question_ids: list, page: int = 1):\n",
    "    question_ids_param = \";\".join([str(q) for q in question_ids])\n",
    "    url = url_template.format(question_id=question_ids_param, page=page, filter=filter_template, key=key)\n",
    "    response = requests.request(\"GET\", url)\n",
    "    if response.status_code != 200:\n",
    "        print(f\"Error: {response.text}\")\n",
    "        return []\n",
    "\n",
    "    res = response.json()\n",
    "    return res\n",
    "\n",
    "max_reqs_per_sec = 30\n",
    "questions = []\n",
    "page = 1\n",
    "while True:\n",
    "    url = url_template.format(page=page, key=key)\n",
    "    res = requests.request(\"GET\", url)\n",
    "    if res.status_code != 200:\n",
    "        print(f\"Error: {res.text}\")\n",
    "        break\n",
    "\n",
    "    res = res.json()\n",
    "    if len(res[\"items\"]) == 0:\n",
    "        break\n",
    "    \n",
    "    questions.extend(res[\"items\"])\n",
    "    time.sleep(1/max_reqs_per_sec)\n",
    "\n",
    "    if not res[\"has_more\"]:\n",
    "        break\n",
    "    \n",
    "    print(\"Fetch more page: \", page)\n",
    "    page += 1"
   ]
  },
  {
   "cell_type": "code",
   "execution_count": 118,
   "metadata": {},
   "outputs": [],
   "source": [
    "df_all_naruto_questions = pd.DataFrame(questions)"
   ]
  },
  {
   "cell_type": "code",
   "execution_count": 120,
   "metadata": {},
   "outputs": [],
   "source": [
    "df_all_naruto_questions.to_parquet(\"../data/anime_stackexchange/all_naruto_questions.parquet\", index=False)"
   ]
  },
  {
   "cell_type": "code",
   "execution_count": 130,
   "metadata": {},
   "outputs": [
    {
     "name": "stdout",
     "output_type": "stream",
     "text": [
      "{68744, 68810, 68819}\n",
      "{27651, 40969, 64012, 61967, 48146, 68636, 60959, 61985, 61986, 44584, 59434, 56876, 46140, 60989, 42564, 57936, 59476, 59477, 57433, 62041, 61024, 42593, 65635, 25714, 8311, 9850, 61054, 57995, 39565, 39569, 47761, 65691, 61608, 61611, 64173, 62640, 65716, 28341, 58042, 49344, 22735, 48851, 67804, 62688, 54009, 40715, 61716, 59676, 62242, 62768, 62773, 57141, 42811, 57660, 59710, 56126, 56650, 66384, 68433, 58203, 42850, 62820, 57701, 39784, 66418, 57717, 33654, 65404, 67453, 44926, 21377, 67461, 65415, 58248, 40330, 61326, 61839, 56729, 60834, 61858, 14754, 43433, 44982, 68024, 62911, 44992, 63937, 44485, 60873, 28639, 57314, 51171, 61412, 52716, 39405, 56305, 56308, 57336, 61947, 66047}\n"
     ]
    }
   ],
   "source": [
    "print(set(df_all_naruto_questions[\"question_id\"].astype(\"int\").unique()) - set(df_naruto_questions[\"Id\"].astype('int').unique()))\n",
    "print(set(df_naruto_questions[\"Id\"].astype('int').unique()) - set(df_all_naruto_questions[\"question_id\"].astype(\"int\").unique()))"
   ]
  },
  {
   "cell_type": "code",
   "execution_count": 124,
   "metadata": {},
   "outputs": [
    {
     "data": {
      "text/plain": [
       "(1598, 22)"
      ]
     },
     "execution_count": 124,
     "metadata": {},
     "output_type": "execute_result"
    }
   ],
   "source": [
    "df_naruto_questions.shape"
   ]
  },
  {
   "cell_type": "markdown",
   "metadata": {},
   "source": [
    "# Use StackOverflow API to fetch answers"
   ]
  },
  {
   "cell_type": "code",
   "execution_count": 70,
   "metadata": {},
   "outputs": [],
   "source": [
    "df_naruto_questions = pd.read_parquet(\"../data/anime_stackexchange/anime_questions.parquet\")"
   ]
  },
  {
   "cell_type": "code",
   "execution_count": 96,
   "metadata": {},
   "outputs": [],
   "source": [
    "tags = set()\n",
    "for tag in df_naruto_questions[\"Tags\"]:\n",
    "    tags.update(tag)"
   ]
  },
  {
   "cell_type": "code",
   "execution_count": 100,
   "metadata": {},
   "outputs": [
    {
     "data": {
      "text/html": [
       "<div>\n",
       "<style scoped>\n",
       "    .dataframe tbody tr th:only-of-type {\n",
       "        vertical-align: middle;\n",
       "    }\n",
       "\n",
       "    .dataframe tbody tr th {\n",
       "        vertical-align: top;\n",
       "    }\n",
       "\n",
       "    .dataframe thead th {\n",
       "        text-align: right;\n",
       "    }\n",
       "</style>\n",
       "<table border=\"1\" class=\"dataframe\">\n",
       "  <thead>\n",
       "    <tr style=\"text-align: right;\">\n",
       "      <th></th>\n",
       "      <th>Id</th>\n",
       "      <th>PostTypeId</th>\n",
       "      <th>AcceptedAnswerId</th>\n",
       "      <th>CreationDate</th>\n",
       "      <th>Score</th>\n",
       "      <th>ViewCount</th>\n",
       "      <th>Body</th>\n",
       "      <th>OwnerUserId</th>\n",
       "      <th>LastEditorUserId</th>\n",
       "      <th>LastEditDate</th>\n",
       "      <th>...</th>\n",
       "      <th>Tags</th>\n",
       "      <th>AnswerCount</th>\n",
       "      <th>CommentCount</th>\n",
       "      <th>ContentLicense</th>\n",
       "      <th>ClosedDate</th>\n",
       "      <th>ParentId</th>\n",
       "      <th>OwnerDisplayName</th>\n",
       "      <th>FavoriteCount</th>\n",
       "      <th>LastEditorDisplayName</th>\n",
       "      <th>CommunityOwnedDate</th>\n",
       "    </tr>\n",
       "  </thead>\n",
       "  <tbody>\n",
       "    <tr>\n",
       "      <th>1223</th>\n",
       "      <td>50172</td>\n",
       "      <td>1</td>\n",
       "      <td>None</td>\n",
       "      <td>2018-12-22T02:41:58.447</td>\n",
       "      <td>3</td>\n",
       "      <td>1086</td>\n",
       "      <td>&lt;p&gt;I recently got this shirt and I was wonderi...</td>\n",
       "      <td>44003</td>\n",
       "      <td>2516</td>\n",
       "      <td>2018-12-23T13:17:53.777</td>\n",
       "      <td>...</td>\n",
       "      <td>[&lt;naruto&gt;&lt;merchandise&gt;]</td>\n",
       "      <td>1</td>\n",
       "      <td>2</td>\n",
       "      <td>CC BY-SA 4.0</td>\n",
       "      <td>None</td>\n",
       "      <td>None</td>\n",
       "      <td>None</td>\n",
       "      <td>None</td>\n",
       "      <td>None</td>\n",
       "      <td>None</td>\n",
       "    </tr>\n",
       "  </tbody>\n",
       "</table>\n",
       "<p>1 rows × 22 columns</p>\n",
       "</div>"
      ],
      "text/plain": [
       "         Id PostTypeId AcceptedAnswerId             CreationDate Score  \\\n",
       "1223  50172          1             None  2018-12-22T02:41:58.447     3   \n",
       "\n",
       "     ViewCount                                               Body OwnerUserId  \\\n",
       "1223      1086  <p>I recently got this shirt and I was wonderi...       44003   \n",
       "\n",
       "     LastEditorUserId             LastEditDate  ...                     Tags  \\\n",
       "1223             2516  2018-12-23T13:17:53.777  ...  [<naruto><merchandise>]   \n",
       "\n",
       "     AnswerCount CommentCount ContentLicense ClosedDate ParentId  \\\n",
       "1223           1            2   CC BY-SA 4.0       None     None   \n",
       "\n",
       "     OwnerDisplayName FavoriteCount LastEditorDisplayName CommunityOwnedDate  \n",
       "1223             None          None                  None               None  \n",
       "\n",
       "[1 rows x 22 columns]"
      ]
     },
     "execution_count": 100,
     "metadata": {},
     "output_type": "execute_result"
    }
   ],
   "source": [
    "df_naruto_questions[df_naruto_questions[\"Id\"]==\"50172\"]"
   ]
  },
  {
   "cell_type": "code",
   "execution_count": 256,
   "metadata": {},
   "outputs": [],
   "source": [
    "import requests\n",
    "from functools import lru_cache\n",
    "import time\n",
    "\n",
    "filter_template = \"!BMb4rqMjWRTYbMk8F86wvTcI_ZGWR1\"\n",
    "key = \"rl_G7gpPaxtnuYzX2QLSatB3fQGq\"\n",
    "url_template = \"https://api.stackexchange.com/2.3/questions/{question_id}/answers?order=desc&sort=votes&site=anime&filter={filter}&key={key}&pagesize=100&page={page}\"\n",
    "\n",
    "\n",
    "def get_answers_by_question(question_ids: list, page: int = 1):\n",
    "    question_ids_param = \";\".join([str(q) for q in question_ids])\n",
    "    url = url_template.format(question_id=question_ids_param, page=page, filter=filter_template, key=key)\n",
    "    response = requests.request(\"GET\", url)\n",
    "    if response.status_code != 200:\n",
    "        print(f\"Error: {response.text}\")\n",
    "        return []\n",
    "\n",
    "    res = response.json()\n",
    "    return res"
   ]
  },
  {
   "cell_type": "code",
   "execution_count": 259,
   "metadata": {},
   "outputs": [
    {
     "name": "stderr",
     "output_type": "stream",
     "text": [
      " 94%|█████████▎| 748/799 [06:38<00:25,  1.98it/s]"
     ]
    },
    {
     "name": "stdout",
     "output_type": "stream",
     "text": [
      "No items found:  ['68433' '68435']\n"
     ]
    },
    {
     "name": "stderr",
     "output_type": "stream",
     "text": [
      " 94%|█████████▍| 750/799 [06:39<00:23,  2.07it/s]"
     ]
    },
    {
     "name": "stdout",
     "output_type": "stream",
     "text": [
      "No items found:  ['39565' '42850']\n"
     ]
    },
    {
     "name": "stderr",
     "output_type": "stream",
     "text": [
      " 94%|█████████▍| 751/799 [06:40<00:22,  2.13it/s]"
     ]
    },
    {
     "name": "stdout",
     "output_type": "stream",
     "text": [
      "No items found:  ['46140' '47761']\n"
     ]
    },
    {
     "name": "stderr",
     "output_type": "stream",
     "text": [
      " 94%|█████████▍| 752/799 [06:40<00:22,  2.11it/s]"
     ]
    },
    {
     "name": "stdout",
     "output_type": "stream",
     "text": [
      "No items found:  ['49344' '51171']\n"
     ]
    },
    {
     "name": "stderr",
     "output_type": "stream",
     "text": [
      " 94%|█████████▍| 753/799 [06:41<00:21,  2.14it/s]"
     ]
    },
    {
     "name": "stdout",
     "output_type": "stream",
     "text": [
      "No items found:  ['56308' '62640']\n"
     ]
    },
    {
     "name": "stderr",
     "output_type": "stream",
     "text": [
      " 94%|█████████▍| 754/799 [06:41<00:20,  2.16it/s]"
     ]
    },
    {
     "name": "stdout",
     "output_type": "stream",
     "text": [
      "No items found:  ['62911' '64173']\n"
     ]
    },
    {
     "name": "stderr",
     "output_type": "stream",
     "text": [
      " 94%|█████████▍| 755/799 [06:42<00:20,  2.14it/s]"
     ]
    },
    {
     "name": "stdout",
     "output_type": "stream",
     "text": [
      "No items found:  ['65415' '65635']\n"
     ]
    },
    {
     "name": "stderr",
     "output_type": "stream",
     "text": [
      " 95%|█████████▍| 756/799 [06:42<00:19,  2.17it/s]"
     ]
    },
    {
     "name": "stdout",
     "output_type": "stream",
     "text": [
      "No items found:  ['66047' '66384']\n"
     ]
    },
    {
     "name": "stderr",
     "output_type": "stream",
     "text": [
      " 95%|█████████▍| 759/799 [06:43<00:18,  2.11it/s]"
     ]
    },
    {
     "name": "stdout",
     "output_type": "stream",
     "text": [
      "No items found:  ['68636' '67461']\n"
     ]
    },
    {
     "name": "stderr",
     "output_type": "stream",
     "text": [
      " 95%|█████████▌| 760/799 [06:44<00:18,  2.16it/s]"
     ]
    },
    {
     "name": "stdout",
     "output_type": "stream",
     "text": [
      "No items found:  ['68024' '8311']\n"
     ]
    },
    {
     "name": "stderr",
     "output_type": "stream",
     "text": [
      " 95%|█████████▌| 761/799 [06:44<00:17,  2.14it/s]"
     ]
    },
    {
     "name": "stdout",
     "output_type": "stream",
     "text": [
      "No items found:  ['9850' '14754']\n"
     ]
    },
    {
     "name": "stderr",
     "output_type": "stream",
     "text": [
      " 95%|█████████▌| 762/799 [06:45<00:16,  2.21it/s]"
     ]
    },
    {
     "name": "stdout",
     "output_type": "stream",
     "text": [
      "No items found:  ['22735' '25714']\n"
     ]
    },
    {
     "name": "stderr",
     "output_type": "stream",
     "text": [
      " 95%|█████████▌| 763/799 [06:45<00:15,  2.26it/s]"
     ]
    },
    {
     "name": "stdout",
     "output_type": "stream",
     "text": [
      "No items found:  ['27651' '28341']\n"
     ]
    },
    {
     "name": "stderr",
     "output_type": "stream",
     "text": [
      " 96%|█████████▌| 764/799 [06:46<00:16,  2.17it/s]"
     ]
    },
    {
     "name": "stdout",
     "output_type": "stream",
     "text": [
      "No items found:  ['28639' '39405']\n"
     ]
    },
    {
     "name": "stderr",
     "output_type": "stream",
     "text": [
      " 96%|█████████▌| 765/799 [06:46<00:15,  2.18it/s]"
     ]
    },
    {
     "name": "stdout",
     "output_type": "stream",
     "text": [
      "No items found:  ['39784' '40330']\n"
     ]
    },
    {
     "name": "stderr",
     "output_type": "stream",
     "text": [
      " 96%|█████████▌| 766/799 [06:47<00:14,  2.21it/s]"
     ]
    },
    {
     "name": "stdout",
     "output_type": "stream",
     "text": [
      "No items found:  ['40715' '40969']\n"
     ]
    },
    {
     "name": "stderr",
     "output_type": "stream",
     "text": [
      " 96%|█████████▌| 767/799 [06:47<00:14,  2.20it/s]"
     ]
    },
    {
     "name": "stdout",
     "output_type": "stream",
     "text": [
      "No items found:  ['42564' '42811']\n"
     ]
    },
    {
     "name": "stderr",
     "output_type": "stream",
     "text": [
      " 96%|█████████▌| 768/799 [06:47<00:13,  2.24it/s]"
     ]
    },
    {
     "name": "stdout",
     "output_type": "stream",
     "text": [
      "No items found:  ['43433' '44485']\n"
     ]
    },
    {
     "name": "stderr",
     "output_type": "stream",
     "text": [
      " 96%|█████████▌| 769/799 [06:48<00:13,  2.18it/s]"
     ]
    },
    {
     "name": "stdout",
     "output_type": "stream",
     "text": [
      "No items found:  ['44584' '44926']\n"
     ]
    },
    {
     "name": "stderr",
     "output_type": "stream",
     "text": [
      " 96%|█████████▋| 770/799 [06:48<00:13,  2.09it/s]"
     ]
    },
    {
     "name": "stdout",
     "output_type": "stream",
     "text": [
      "No items found:  ['44982' '44992']\n"
     ]
    },
    {
     "name": "stderr",
     "output_type": "stream",
     "text": [
      " 96%|█████████▋| 771/799 [06:50<00:18,  1.49it/s]"
     ]
    },
    {
     "name": "stdout",
     "output_type": "stream",
     "text": [
      "No items found:  ['67804' '52716']\n"
     ]
    },
    {
     "name": "stderr",
     "output_type": "stream",
     "text": [
      " 97%|█████████▋| 772/799 [06:50<00:16,  1.60it/s]"
     ]
    },
    {
     "name": "stdout",
     "output_type": "stream",
     "text": [
      "No items found:  ['56305' '56729']\n"
     ]
    },
    {
     "name": "stderr",
     "output_type": "stream",
     "text": [
      " 97%|█████████▋| 773/799 [06:51<00:20,  1.27it/s]"
     ]
    },
    {
     "name": "stdout",
     "output_type": "stream",
     "text": [
      "No items found:  ['56876' '57995']\n"
     ]
    },
    {
     "name": "stderr",
     "output_type": "stream",
     "text": [
      " 97%|█████████▋| 774/799 [06:52<00:17,  1.46it/s]"
     ]
    },
    {
     "name": "stdout",
     "output_type": "stream",
     "text": [
      "No items found:  ['58203' '58248']\n"
     ]
    },
    {
     "name": "stderr",
     "output_type": "stream",
     "text": [
      " 97%|█████████▋| 775/799 [06:52<00:14,  1.61it/s]"
     ]
    },
    {
     "name": "stdout",
     "output_type": "stream",
     "text": [
      "No items found:  ['59676' '59710']\n"
     ]
    },
    {
     "name": "stderr",
     "output_type": "stream",
     "text": [
      " 97%|█████████▋| 776/799 [06:53<00:13,  1.74it/s]"
     ]
    },
    {
     "name": "stdout",
     "output_type": "stream",
     "text": [
      "No items found:  ['60989' '61326']\n"
     ]
    },
    {
     "name": "stderr",
     "output_type": "stream",
     "text": [
      " 97%|█████████▋| 777/799 [06:53<00:11,  1.87it/s]"
     ]
    },
    {
     "name": "stdout",
     "output_type": "stream",
     "text": [
      "No items found:  ['61412' '61608']\n"
     ]
    },
    {
     "name": "stderr",
     "output_type": "stream",
     "text": [
      " 97%|█████████▋| 778/799 [06:54<00:10,  1.93it/s]"
     ]
    },
    {
     "name": "stdout",
     "output_type": "stream",
     "text": [
      "No items found:  ['61839' '61858']\n"
     ]
    },
    {
     "name": "stderr",
     "output_type": "stream",
     "text": [
      " 97%|█████████▋| 779/799 [06:54<00:09,  2.03it/s]"
     ]
    },
    {
     "name": "stdout",
     "output_type": "stream",
     "text": [
      "No items found:  ['61947' '62242']\n"
     ]
    },
    {
     "name": "stderr",
     "output_type": "stream",
     "text": [
      " 98%|█████████▊| 780/799 [06:54<00:09,  2.06it/s]"
     ]
    },
    {
     "name": "stdout",
     "output_type": "stream",
     "text": [
      "No items found:  ['62768' '62820']\n"
     ]
    },
    {
     "name": "stderr",
     "output_type": "stream",
     "text": [
      " 98%|█████████▊| 781/799 [06:55<00:08,  2.13it/s]"
     ]
    },
    {
     "name": "stdout",
     "output_type": "stream",
     "text": [
      "No items found:  ['63937' '64012']\n"
     ]
    },
    {
     "name": "stderr",
     "output_type": "stream",
     "text": [
      " 98%|█████████▊| 782/799 [06:55<00:07,  2.16it/s]"
     ]
    },
    {
     "name": "stdout",
     "output_type": "stream",
     "text": [
      "No items found:  ['65691' '65716']\n"
     ]
    },
    {
     "name": "stderr",
     "output_type": "stream",
     "text": [
      " 98%|█████████▊| 783/799 [06:56<00:07,  2.16it/s]"
     ]
    },
    {
     "name": "stdout",
     "output_type": "stream",
     "text": [
      "No items found:  ['60834' '60873']\n"
     ]
    },
    {
     "name": "stderr",
     "output_type": "stream",
     "text": [
      " 98%|█████████▊| 784/799 [06:56<00:06,  2.17it/s]"
     ]
    },
    {
     "name": "stdout",
     "output_type": "stream",
     "text": [
      "No items found:  ['60959' '61054']\n"
     ]
    },
    {
     "name": "stderr",
     "output_type": "stream",
     "text": [
      " 98%|█████████▊| 786/799 [06:57<00:06,  2.13it/s]"
     ]
    },
    {
     "name": "stdout",
     "output_type": "stream",
     "text": [
      "No items found:  ['48146' '48851']\n"
     ]
    },
    {
     "name": "stderr",
     "output_type": "stream",
     "text": [
      " 98%|█████████▊| 787/799 [06:58<00:05,  2.16it/s]"
     ]
    },
    {
     "name": "stdout",
     "output_type": "stream",
     "text": [
      "No items found:  ['54009' '56126']\n"
     ]
    },
    {
     "name": "stderr",
     "output_type": "stream",
     "text": [
      " 99%|█████████▊| 788/799 [06:58<00:05,  2.10it/s]"
     ]
    },
    {
     "name": "stdout",
     "output_type": "stream",
     "text": [
      "No items found:  ['57936' '58042']\n"
     ]
    },
    {
     "name": "stderr",
     "output_type": "stream",
     "text": [
      " 99%|█████████▊| 789/799 [06:59<00:06,  1.49it/s]"
     ]
    },
    {
     "name": "stdout",
     "output_type": "stream",
     "text": [
      "No items found:  ['59434' '59476']\n"
     ]
    },
    {
     "name": "stderr",
     "output_type": "stream",
     "text": [
      " 99%|█████████▉| 790/799 [07:00<00:05,  1.66it/s]"
     ]
    },
    {
     "name": "stdout",
     "output_type": "stream",
     "text": [
      "No items found:  ['59477' '61024']\n"
     ]
    },
    {
     "name": "stderr",
     "output_type": "stream",
     "text": [
      " 99%|█████████▉| 791/799 [07:00<00:04,  1.80it/s]"
     ]
    },
    {
     "name": "stdout",
     "output_type": "stream",
     "text": [
      "No items found:  ['61611' '61716']\n"
     ]
    },
    {
     "name": "stderr",
     "output_type": "stream",
     "text": [
      " 99%|█████████▉| 792/799 [07:01<00:03,  1.80it/s]"
     ]
    },
    {
     "name": "stdout",
     "output_type": "stream",
     "text": [
      "No items found:  ['62688' '62773']\n"
     ]
    },
    {
     "name": "stderr",
     "output_type": "stream",
     "text": [
      " 99%|█████████▉| 793/799 [07:01<00:03,  1.92it/s]"
     ]
    },
    {
     "name": "stdout",
     "output_type": "stream",
     "text": [
      "No items found:  ['66418' '67453']\n"
     ]
    },
    {
     "name": "stderr",
     "output_type": "stream",
     "text": [
      " 99%|█████████▉| 794/799 [07:02<00:02,  2.00it/s]"
     ]
    },
    {
     "name": "stdout",
     "output_type": "stream",
     "text": [
      "No items found:  ['56650' '57141']\n"
     ]
    },
    {
     "name": "stderr",
     "output_type": "stream",
     "text": [
      " 99%|█████████▉| 795/799 [07:03<00:02,  1.45it/s]"
     ]
    },
    {
     "name": "stdout",
     "output_type": "stream",
     "text": [
      "No items found:  ['57314' '57336']\n"
     ]
    },
    {
     "name": "stderr",
     "output_type": "stream",
     "text": [
      "100%|█████████▉| 796/799 [07:03<00:01,  1.61it/s]"
     ]
    },
    {
     "name": "stdout",
     "output_type": "stream",
     "text": [
      "No items found:  ['57433' '57660']\n"
     ]
    },
    {
     "name": "stderr",
     "output_type": "stream",
     "text": [
      "100%|█████████▉| 797/799 [07:04<00:01,  1.76it/s]"
     ]
    },
    {
     "name": "stdout",
     "output_type": "stream",
     "text": [
      "No items found:  ['57701' '57717']\n"
     ]
    },
    {
     "name": "stderr",
     "output_type": "stream",
     "text": [
      "100%|█████████▉| 798/799 [07:04<00:00,  1.86it/s]"
     ]
    },
    {
     "name": "stdout",
     "output_type": "stream",
     "text": [
      "No items found:  ['61967' '61985']\n"
     ]
    },
    {
     "name": "stderr",
     "output_type": "stream",
     "text": [
      "100%|██████████| 799/799 [07:05<00:00,  1.88it/s]"
     ]
    },
    {
     "name": "stdout",
     "output_type": "stream",
     "text": [
      "No items found:  ['61986' '62041']\n"
     ]
    },
    {
     "name": "stderr",
     "output_type": "stream",
     "text": [
      "\n"
     ]
    }
   ],
   "source": [
    "post_ids = df_naruto_questions[\"Id\"].unique()\n",
    "batch_size = 2\n",
    "max_reqs_per_sec = 30\n",
    "batches = [post_ids[i:i + batch_size] for i in range(0, len(post_ids), batch_size)]\n",
    "answers = []\n",
    "for batch in tqdm(batches):\n",
    "    page = 1\n",
    "    while True:\n",
    "        res = get_answers_by_question(batch, page=page)\n",
    "        if len(res[\"items\"]) == 0:\n",
    "            print(\"No items found: \", batch)\n",
    "        \n",
    "        answers.extend(res[\"items\"])\n",
    "        time.sleep(1/max_reqs_per_sec)\n",
    "\n",
    "        if not res[\"has_more\"]:\n",
    "            break\n",
    "        \n",
    "        print(\"Fetch more page: \", page)\n",
    "        page += 1"
   ]
  },
  {
   "cell_type": "code",
   "execution_count": 262,
   "metadata": {},
   "outputs": [
    {
     "data": {
      "text/html": [
       "<div>\n",
       "<style scoped>\n",
       "    .dataframe tbody tr th:only-of-type {\n",
       "        vertical-align: middle;\n",
       "    }\n",
       "\n",
       "    .dataframe tbody tr th {\n",
       "        vertical-align: top;\n",
       "    }\n",
       "\n",
       "    .dataframe thead th {\n",
       "        text-align: right;\n",
       "    }\n",
       "</style>\n",
       "<table border=\"1\" class=\"dataframe\">\n",
       "  <thead>\n",
       "    <tr style=\"text-align: right;\">\n",
       "      <th></th>\n",
       "      <th>tags</th>\n",
       "      <th>down_vote_count</th>\n",
       "      <th>up_vote_count</th>\n",
       "      <th>is_accepted</th>\n",
       "      <th>score</th>\n",
       "      <th>last_activity_date</th>\n",
       "      <th>last_edit_date</th>\n",
       "      <th>creation_date</th>\n",
       "      <th>answer_id</th>\n",
       "      <th>question_id</th>\n",
       "      <th>content_license</th>\n",
       "      <th>title</th>\n",
       "      <th>body</th>\n",
       "      <th>community_owned_date</th>\n",
       "    </tr>\n",
       "  </thead>\n",
       "  <tbody>\n",
       "    <tr>\n",
       "      <th>0</th>\n",
       "      <td>[]</td>\n",
       "      <td>0</td>\n",
       "      <td>20</td>\n",
       "      <td>True</td>\n",
       "      <td>20</td>\n",
       "      <td>1421706122</td>\n",
       "      <td>1.421706e+09</td>\n",
       "      <td>2012-12-11 21:05:56</td>\n",
       "      <td>22</td>\n",
       "      <td>12</td>\n",
       "      <td>CC BY-SA 3.0</td>\n",
       "      <td>List of surviving Uchiha</td>\n",
       "      <td>&lt;p&gt;The following:&lt;/p&gt;\\n\\n&lt;ul&gt;\\n&lt;li&gt;&lt;strong&gt;Uch...</td>\n",
       "      <td>NaN</td>\n",
       "    </tr>\n",
       "    <tr>\n",
       "      <th>1</th>\n",
       "      <td>[]</td>\n",
       "      <td>0</td>\n",
       "      <td>14</td>\n",
       "      <td>False</td>\n",
       "      <td>14</td>\n",
       "      <td>1360849535</td>\n",
       "      <td>1.360850e+09</td>\n",
       "      <td>2013-02-14 13:40:16</td>\n",
       "      <td>2478</td>\n",
       "      <td>10</td>\n",
       "      <td>CC BY-SA 3.0</td>\n",
       "      <td>How can Madara still stick around even after t...</td>\n",
       "      <td>&lt;p&gt;When Edo Tensei ends, the summoned soul is ...</td>\n",
       "      <td>NaN</td>\n",
       "    </tr>\n",
       "    <tr>\n",
       "      <th>2</th>\n",
       "      <td>[]</td>\n",
       "      <td>1</td>\n",
       "      <td>15</td>\n",
       "      <td>True</td>\n",
       "      <td>14</td>\n",
       "      <td>1545329002</td>\n",
       "      <td>1.545329e+09</td>\n",
       "      <td>2013-12-20 18:17:50</td>\n",
       "      <td>6467</td>\n",
       "      <td>10</td>\n",
       "      <td>CC BY-SA 4.0</td>\n",
       "      <td>How can Madara still stick around even after t...</td>\n",
       "      <td>&lt;p&gt;Firstly, the most important thing to know i...</td>\n",
       "      <td>NaN</td>\n",
       "    </tr>\n",
       "    <tr>\n",
       "      <th>3</th>\n",
       "      <td>[]</td>\n",
       "      <td>1</td>\n",
       "      <td>13</td>\n",
       "      <td>False</td>\n",
       "      <td>12</td>\n",
       "      <td>1360851075</td>\n",
       "      <td>1.360851e+09</td>\n",
       "      <td>2012-12-11 20:58:12</td>\n",
       "      <td>15</td>\n",
       "      <td>10</td>\n",
       "      <td>CC BY-SA 3.0</td>\n",
       "      <td>How can Madara still stick around even after t...</td>\n",
       "      <td>&lt;p&gt;From what I understood, if you know the Edo...</td>\n",
       "      <td>NaN</td>\n",
       "    </tr>\n",
       "    <tr>\n",
       "      <th>4</th>\n",
       "      <td>[]</td>\n",
       "      <td>0</td>\n",
       "      <td>3</td>\n",
       "      <td>False</td>\n",
       "      <td>3</td>\n",
       "      <td>1355260808</td>\n",
       "      <td>1.355261e+09</td>\n",
       "      <td>2012-12-11 21:07:39</td>\n",
       "      <td>24</td>\n",
       "      <td>12</td>\n",
       "      <td>CC BY-SA 3.0</td>\n",
       "      <td>List of surviving Uchiha</td>\n",
       "      <td>&lt;p&gt;Itachi Uchiha&lt;br&gt;\\nSasuke Uchiha&lt;/p&gt;\\n\\n&lt;p&gt;...</td>\n",
       "      <td>NaN</td>\n",
       "    </tr>\n",
       "  </tbody>\n",
       "</table>\n",
       "</div>"
      ],
      "text/plain": [
       "  tags  down_vote_count  up_vote_count  is_accepted  score  \\\n",
       "0   []                0             20         True     20   \n",
       "1   []                0             14        False     14   \n",
       "2   []                1             15         True     14   \n",
       "3   []                1             13        False     12   \n",
       "4   []                0              3        False      3   \n",
       "\n",
       "   last_activity_date  last_edit_date       creation_date  answer_id  \\\n",
       "0          1421706122    1.421706e+09 2012-12-11 21:05:56         22   \n",
       "1          1360849535    1.360850e+09 2013-02-14 13:40:16       2478   \n",
       "2          1545329002    1.545329e+09 2013-12-20 18:17:50       6467   \n",
       "3          1360851075    1.360851e+09 2012-12-11 20:58:12         15   \n",
       "4          1355260808    1.355261e+09 2012-12-11 21:07:39         24   \n",
       "\n",
       "   question_id content_license  \\\n",
       "0           12    CC BY-SA 3.0   \n",
       "1           10    CC BY-SA 3.0   \n",
       "2           10    CC BY-SA 4.0   \n",
       "3           10    CC BY-SA 3.0   \n",
       "4           12    CC BY-SA 3.0   \n",
       "\n",
       "                                               title  \\\n",
       "0                           List of surviving Uchiha   \n",
       "1  How can Madara still stick around even after t...   \n",
       "2  How can Madara still stick around even after t...   \n",
       "3  How can Madara still stick around even after t...   \n",
       "4                           List of surviving Uchiha   \n",
       "\n",
       "                                                body  community_owned_date  \n",
       "0  <p>The following:</p>\\n\\n<ul>\\n<li><strong>Uch...                   NaN  \n",
       "1  <p>When Edo Tensei ends, the summoned soul is ...                   NaN  \n",
       "2  <p>Firstly, the most important thing to know i...                   NaN  \n",
       "3  <p>From what I understood, if you know the Edo...                   NaN  \n",
       "4  <p>Itachi Uchiha<br>\\nSasuke Uchiha</p>\\n\\n<p>...                   NaN  "
      ]
     },
     "execution_count": 262,
     "metadata": {},
     "output_type": "execute_result"
    }
   ],
   "source": [
    "df_answers = pd.DataFrame(answers)\n",
    "df_answers[\"creation_date\"] = pd.to_datetime(df_answers[\"creation_date\"], unit=\"s\")\n",
    "df_answers.head()"
   ]
  },
  {
   "cell_type": "code",
   "execution_count": 263,
   "metadata": {},
   "outputs": [
    {
     "data": {
      "text/html": [
       "<div>\n",
       "<style scoped>\n",
       "    .dataframe tbody tr th:only-of-type {\n",
       "        vertical-align: middle;\n",
       "    }\n",
       "\n",
       "    .dataframe tbody tr th {\n",
       "        vertical-align: top;\n",
       "    }\n",
       "\n",
       "    .dataframe thead th {\n",
       "        text-align: right;\n",
       "    }\n",
       "</style>\n",
       "<table border=\"1\" class=\"dataframe\">\n",
       "  <thead>\n",
       "    <tr style=\"text-align: right;\">\n",
       "      <th></th>\n",
       "      <th>tags</th>\n",
       "      <th>down_vote_count</th>\n",
       "      <th>up_vote_count</th>\n",
       "      <th>is_accepted</th>\n",
       "      <th>score</th>\n",
       "      <th>last_activity_date</th>\n",
       "      <th>last_edit_date</th>\n",
       "      <th>creation_date</th>\n",
       "      <th>answer_id</th>\n",
       "      <th>question_id</th>\n",
       "      <th>content_license</th>\n",
       "      <th>title</th>\n",
       "      <th>body</th>\n",
       "      <th>community_owned_date</th>\n",
       "    </tr>\n",
       "  </thead>\n",
       "  <tbody>\n",
       "    <tr>\n",
       "      <th>1</th>\n",
       "      <td>[]</td>\n",
       "      <td>0</td>\n",
       "      <td>14</td>\n",
       "      <td>False</td>\n",
       "      <td>14</td>\n",
       "      <td>1360849535</td>\n",
       "      <td>1.360850e+09</td>\n",
       "      <td>2013-02-14 13:40:16</td>\n",
       "      <td>2478</td>\n",
       "      <td>10</td>\n",
       "      <td>CC BY-SA 3.0</td>\n",
       "      <td>How can Madara still stick around even after t...</td>\n",
       "      <td>&lt;p&gt;When Edo Tensei ends, the summoned soul is ...</td>\n",
       "      <td>NaN</td>\n",
       "    </tr>\n",
       "    <tr>\n",
       "      <th>2</th>\n",
       "      <td>[]</td>\n",
       "      <td>1</td>\n",
       "      <td>15</td>\n",
       "      <td>True</td>\n",
       "      <td>14</td>\n",
       "      <td>1545329002</td>\n",
       "      <td>1.545329e+09</td>\n",
       "      <td>2013-12-20 18:17:50</td>\n",
       "      <td>6467</td>\n",
       "      <td>10</td>\n",
       "      <td>CC BY-SA 4.0</td>\n",
       "      <td>How can Madara still stick around even after t...</td>\n",
       "      <td>&lt;p&gt;Firstly, the most important thing to know i...</td>\n",
       "      <td>NaN</td>\n",
       "    </tr>\n",
       "    <tr>\n",
       "      <th>3</th>\n",
       "      <td>[]</td>\n",
       "      <td>1</td>\n",
       "      <td>13</td>\n",
       "      <td>False</td>\n",
       "      <td>12</td>\n",
       "      <td>1360851075</td>\n",
       "      <td>1.360851e+09</td>\n",
       "      <td>2012-12-11 20:58:12</td>\n",
       "      <td>15</td>\n",
       "      <td>10</td>\n",
       "      <td>CC BY-SA 3.0</td>\n",
       "      <td>How can Madara still stick around even after t...</td>\n",
       "      <td>&lt;p&gt;From what I understood, if you know the Edo...</td>\n",
       "      <td>NaN</td>\n",
       "    </tr>\n",
       "  </tbody>\n",
       "</table>\n",
       "</div>"
      ],
      "text/plain": [
       "  tags  down_vote_count  up_vote_count  is_accepted  score  \\\n",
       "1   []                0             14        False     14   \n",
       "2   []                1             15         True     14   \n",
       "3   []                1             13        False     12   \n",
       "\n",
       "   last_activity_date  last_edit_date       creation_date  answer_id  \\\n",
       "1          1360849535    1.360850e+09 2013-02-14 13:40:16       2478   \n",
       "2          1545329002    1.545329e+09 2013-12-20 18:17:50       6467   \n",
       "3          1360851075    1.360851e+09 2012-12-11 20:58:12         15   \n",
       "\n",
       "   question_id content_license  \\\n",
       "1           10    CC BY-SA 3.0   \n",
       "2           10    CC BY-SA 4.0   \n",
       "3           10    CC BY-SA 3.0   \n",
       "\n",
       "                                               title  \\\n",
       "1  How can Madara still stick around even after t...   \n",
       "2  How can Madara still stick around even after t...   \n",
       "3  How can Madara still stick around even after t...   \n",
       "\n",
       "                                                body  community_owned_date  \n",
       "1  <p>When Edo Tensei ends, the summoned soul is ...                   NaN  \n",
       "2  <p>Firstly, the most important thing to know i...                   NaN  \n",
       "3  <p>From what I understood, if you know the Edo...                   NaN  "
      ]
     },
     "execution_count": 263,
     "metadata": {},
     "output_type": "execute_result"
    }
   ],
   "source": [
    "df_answers[df_answers[\"question_id\"]==10]"
   ]
  },
  {
   "cell_type": "code",
   "execution_count": 266,
   "metadata": {},
   "outputs": [],
   "source": [
    "df_answers[\"question_id\"] = df_answers[\"question_id\"].astype('str')\n",
    "df_joint = df_answers.merge(df_naruto_questions, left_on=[\"question_id\"], right_on=[\"Id\"], suffixes=('_answer', '_question'))"
   ]
  },
  {
   "cell_type": "code",
   "execution_count": 267,
   "metadata": {},
   "outputs": [
    {
     "data": {
      "text/plain": [
       "142"
      ]
     },
     "execution_count": 267,
     "metadata": {},
     "output_type": "execute_result"
    }
   ],
   "source": [
    "len(set(df_naruto_questions[\"Id\"].unique()) - set(df_answers[\"question_id\"].unique()))"
   ]
  },
  {
   "cell_type": "code",
   "execution_count": 268,
   "metadata": {},
   "outputs": [
    {
     "data": {
      "text/html": [
       "<div>\n",
       "<style scoped>\n",
       "    .dataframe tbody tr th:only-of-type {\n",
       "        vertical-align: middle;\n",
       "    }\n",
       "\n",
       "    .dataframe tbody tr th {\n",
       "        vertical-align: top;\n",
       "    }\n",
       "\n",
       "    .dataframe thead th {\n",
       "        text-align: right;\n",
       "    }\n",
       "</style>\n",
       "<table border=\"1\" class=\"dataframe\">\n",
       "  <thead>\n",
       "    <tr style=\"text-align: right;\">\n",
       "      <th></th>\n",
       "      <th>Id</th>\n",
       "      <th>PostTypeId</th>\n",
       "      <th>AcceptedAnswerId</th>\n",
       "      <th>CreationDate</th>\n",
       "      <th>Score</th>\n",
       "      <th>ViewCount</th>\n",
       "      <th>Body</th>\n",
       "      <th>OwnerUserId</th>\n",
       "      <th>LastEditorUserId</th>\n",
       "      <th>LastEditDate</th>\n",
       "      <th>...</th>\n",
       "      <th>Tags</th>\n",
       "      <th>AnswerCount</th>\n",
       "      <th>CommentCount</th>\n",
       "      <th>ContentLicense</th>\n",
       "      <th>ClosedDate</th>\n",
       "      <th>ParentId</th>\n",
       "      <th>OwnerDisplayName</th>\n",
       "      <th>FavoriteCount</th>\n",
       "      <th>LastEditorDisplayName</th>\n",
       "      <th>CommunityOwnedDate</th>\n",
       "    </tr>\n",
       "  </thead>\n",
       "  <tbody>\n",
       "    <tr>\n",
       "      <th>0</th>\n",
       "      <td>10</td>\n",
       "      <td>1</td>\n",
       "      <td>6467</td>\n",
       "      <td>2012-12-11T20:51:17.307</td>\n",
       "      <td>18</td>\n",
       "      <td>92815</td>\n",
       "      <td>&lt;p&gt;Edo Tensei is a technique to revive the dea...</td>\n",
       "      <td>32</td>\n",
       "      <td>27</td>\n",
       "      <td>2013-12-20T18:09:17.177</td>\n",
       "      <td>...</td>\n",
       "      <td>[&lt;naruto&gt;]</td>\n",
       "      <td>3</td>\n",
       "      <td>2</td>\n",
       "      <td>CC BY-SA 3.0</td>\n",
       "      <td>None</td>\n",
       "      <td>None</td>\n",
       "      <td>None</td>\n",
       "      <td>None</td>\n",
       "      <td>None</td>\n",
       "      <td>None</td>\n",
       "    </tr>\n",
       "  </tbody>\n",
       "</table>\n",
       "<p>1 rows × 22 columns</p>\n",
       "</div>"
      ],
      "text/plain": [
       "   Id PostTypeId AcceptedAnswerId             CreationDate Score ViewCount  \\\n",
       "0  10          1             6467  2012-12-11T20:51:17.307    18     92815   \n",
       "\n",
       "                                                Body OwnerUserId  \\\n",
       "0  <p>Edo Tensei is a technique to revive the dea...          32   \n",
       "\n",
       "  LastEditorUserId             LastEditDate  ...        Tags AnswerCount  \\\n",
       "0               27  2013-12-20T18:09:17.177  ...  [<naruto>]           3   \n",
       "\n",
       "  CommentCount ContentLicense ClosedDate ParentId OwnerDisplayName  \\\n",
       "0            2   CC BY-SA 3.0       None     None             None   \n",
       "\n",
       "  FavoriteCount LastEditorDisplayName CommunityOwnedDate  \n",
       "0          None                  None               None  \n",
       "\n",
       "[1 rows x 22 columns]"
      ]
     },
     "execution_count": 268,
     "metadata": {},
     "output_type": "execute_result"
    }
   ],
   "source": [
    "df_naruto_questions[df_naruto_questions[\"Id\"]==\"10\"]"
   ]
  },
  {
   "cell_type": "code",
   "execution_count": 114,
   "metadata": {},
   "outputs": [
    {
     "data": {
      "text/html": [
       "<div>\n",
       "<style scoped>\n",
       "    .dataframe tbody tr th:only-of-type {\n",
       "        vertical-align: middle;\n",
       "    }\n",
       "\n",
       "    .dataframe tbody tr th {\n",
       "        vertical-align: top;\n",
       "    }\n",
       "\n",
       "    .dataframe thead th {\n",
       "        text-align: right;\n",
       "    }\n",
       "</style>\n",
       "<table border=\"1\" class=\"dataframe\">\n",
       "  <thead>\n",
       "    <tr style=\"text-align: right;\">\n",
       "      <th></th>\n",
       "      <th>owner</th>\n",
       "      <th>down_vote_count</th>\n",
       "      <th>up_vote_count</th>\n",
       "      <th>is_accepted</th>\n",
       "      <th>score</th>\n",
       "      <th>last_activity_date</th>\n",
       "      <th>last_edit_date</th>\n",
       "      <th>creation_date</th>\n",
       "      <th>answer_id</th>\n",
       "      <th>question_id</th>\n",
       "      <th>content_license</th>\n",
       "      <th>community_owned_date</th>\n",
       "    </tr>\n",
       "  </thead>\n",
       "  <tbody>\n",
       "  </tbody>\n",
       "</table>\n",
       "</div>"
      ],
      "text/plain": [
       "Empty DataFrame\n",
       "Columns: [owner, down_vote_count, up_vote_count, is_accepted, score, last_activity_date, last_edit_date, creation_date, answer_id, question_id, content_license, community_owned_date]\n",
       "Index: []"
      ]
     },
     "execution_count": 114,
     "metadata": {},
     "output_type": "execute_result"
    }
   ],
   "source": [
    "df_answers[df_answers[\"question_id\"]==\"39847\"]"
   ]
  },
  {
   "cell_type": "code",
   "execution_count": 265,
   "metadata": {},
   "outputs": [],
   "source": [
    "df_answers.to_parquet(\"../data/anime_stackexchange/anime_answers.parquet\", index=False)"
   ]
  },
  {
   "cell_type": "code",
   "execution_count": 269,
   "metadata": {},
   "outputs": [],
   "source": [
    "df_joint.to_parquet(\"../data/anime_stackexchange/anime_question_answers.parquet\", index=False)"
   ]
  },
  {
   "cell_type": "markdown",
   "metadata": {},
   "source": [
    "## Preprocessing"
   ]
  },
  {
   "cell_type": "code",
   "execution_count": 1,
   "metadata": {},
   "outputs": [
    {
     "name": "stderr",
     "output_type": "stream",
     "text": [
      "/opt/homebrew/Caskroom/miniconda/base/envs/semantic_search/lib/python3.10/site-packages/tqdm/auto.py:21: TqdmWarning: IProgress not found. Please update jupyter and ipywidgets. See https://ipywidgets.readthedocs.io/en/stable/user_install.html\n",
      "  from .autonotebook import tqdm as notebook_tqdm\n"
     ]
    }
   ],
   "source": [
    "import pandas as pd\n",
    "import numpy as np\n",
    "import datasets"
   ]
  },
  {
   "cell_type": "code",
   "execution_count": 2,
   "metadata": {},
   "outputs": [],
   "source": [
    "df = pd.read_parquet(\"../data/anime_stackexchange/anime_answers.parquet\").sort_values(by=[\"question_id\", \"score\", \"is_accepted\"], ascending=False).rename({\n",
    "    \"title\": \"question\",\n",
    "    \"body\": \"answer\"\n",
    "}, axis=1)"
   ]
  },
  {
   "cell_type": "code",
   "execution_count": 3,
   "metadata": {},
   "outputs": [
    {
     "data": {
      "text/html": [
       "<div>\n",
       "<style scoped>\n",
       "    .dataframe tbody tr th:only-of-type {\n",
       "        vertical-align: middle;\n",
       "    }\n",
       "\n",
       "    .dataframe tbody tr th {\n",
       "        vertical-align: top;\n",
       "    }\n",
       "\n",
       "    .dataframe thead th {\n",
       "        text-align: right;\n",
       "    }\n",
       "</style>\n",
       "<table border=\"1\" class=\"dataframe\">\n",
       "  <thead>\n",
       "    <tr style=\"text-align: right;\">\n",
       "      <th></th>\n",
       "      <th>tags</th>\n",
       "      <th>down_vote_count</th>\n",
       "      <th>up_vote_count</th>\n",
       "      <th>is_accepted</th>\n",
       "      <th>score</th>\n",
       "      <th>last_activity_date</th>\n",
       "      <th>last_edit_date</th>\n",
       "      <th>creation_date</th>\n",
       "      <th>answer_id</th>\n",
       "      <th>question_id</th>\n",
       "      <th>content_license</th>\n",
       "      <th>question</th>\n",
       "      <th>answer</th>\n",
       "      <th>community_owned_date</th>\n",
       "    </tr>\n",
       "  </thead>\n",
       "  <tbody>\n",
       "    <tr>\n",
       "      <th>469</th>\n",
       "      <td>[]</td>\n",
       "      <td>1</td>\n",
       "      <td>46</td>\n",
       "      <td>True</td>\n",
       "      <td>45</td>\n",
       "      <td>1380709644</td>\n",
       "      <td>1.380710e+09</td>\n",
       "      <td>2013-06-27 01:13:55</td>\n",
       "      <td>4238</td>\n",
       "      <td>4221</td>\n",
       "      <td>CC BY-SA 3.0</td>\n",
       "      <td>Why do ninjas run with their hands at the back?</td>\n",
       "      <td>&lt;p&gt;Based on research...\\n...Ninjas frequently ...</td>\n",
       "      <td>NaN</td>\n",
       "    </tr>\n",
       "    <tr>\n",
       "      <th>901</th>\n",
       "      <td>[]</td>\n",
       "      <td>0</td>\n",
       "      <td>1</td>\n",
       "      <td>False</td>\n",
       "      <td>1</td>\n",
       "      <td>1392891081</td>\n",
       "      <td>NaN</td>\n",
       "      <td>2014-02-20 10:11:21</td>\n",
       "      <td>7605</td>\n",
       "      <td>7593</td>\n",
       "      <td>CC BY-SA 3.0</td>\n",
       "      <td>Why are Kurenai&amp;#39;s eyes the way they are?</td>\n",
       "      <td>&lt;p&gt;They are not related to sharingan in any wa...</td>\n",
       "      <td>NaN</td>\n",
       "    </tr>\n",
       "    <tr>\n",
       "      <th>1100</th>\n",
       "      <td>[]</td>\n",
       "      <td>0</td>\n",
       "      <td>0</td>\n",
       "      <td>False</td>\n",
       "      <td>0</td>\n",
       "      <td>1407404173</td>\n",
       "      <td>1.407404e+09</td>\n",
       "      <td>2014-08-07 06:01:21</td>\n",
       "      <td>13293</td>\n",
       "      <td>13285</td>\n",
       "      <td>CC BY-SA 3.0</td>\n",
       "      <td>How far can the sharingan go?</td>\n",
       "      <td>&lt;p&gt;&lt;a href=\"http://naruto.wikia.com/wiki/Flyin...</td>\n",
       "      <td>NaN</td>\n",
       "    </tr>\n",
       "    <tr>\n",
       "      <th>159</th>\n",
       "      <td>[]</td>\n",
       "      <td>0</td>\n",
       "      <td>2</td>\n",
       "      <td>False</td>\n",
       "      <td>2</td>\n",
       "      <td>1416421333</td>\n",
       "      <td>1.416421e+09</td>\n",
       "      <td>2014-11-19 18:13:26</td>\n",
       "      <td>15184</td>\n",
       "      <td>846</td>\n",
       "      <td>CC BY-SA 3.0</td>\n",
       "      <td>Why do some Sharingan eyes have unique Mangeky...</td>\n",
       "      <td>&lt;p&gt;The abilities of the eyes are determined by...</td>\n",
       "      <td>NaN</td>\n",
       "    </tr>\n",
       "    <tr>\n",
       "      <th>3032</th>\n",
       "      <td>[]</td>\n",
       "      <td>0</td>\n",
       "      <td>1</td>\n",
       "      <td>True</td>\n",
       "      <td>1</td>\n",
       "      <td>1645961656</td>\n",
       "      <td>NaN</td>\n",
       "      <td>2022-02-27 11:34:16</td>\n",
       "      <td>66458</td>\n",
       "      <td>66456</td>\n",
       "      <td>CC BY-SA 4.0</td>\n",
       "      <td>Why wasn&amp;#39;t flying Raijin passed onto other...</td>\n",
       "      <td>&lt;p&gt;You have to understand that not all people ...</td>\n",
       "      <td>NaN</td>\n",
       "    </tr>\n",
       "    <tr>\n",
       "      <th>1418</th>\n",
       "      <td>[]</td>\n",
       "      <td>0</td>\n",
       "      <td>5</td>\n",
       "      <td>True</td>\n",
       "      <td>5</td>\n",
       "      <td>1434615590</td>\n",
       "      <td>1.434616e+09</td>\n",
       "      <td>2015-06-18 07:26:16</td>\n",
       "      <td>22547</td>\n",
       "      <td>22142</td>\n",
       "      <td>CC BY-SA 3.0</td>\n",
       "      <td>What happened to the tomoe in Sasuke&amp;#39;s Rin...</td>\n",
       "      <td>&lt;p&gt;The latest manga of &lt;a href=\"http://naruto....</td>\n",
       "      <td>NaN</td>\n",
       "    </tr>\n",
       "    <tr>\n",
       "      <th>1049</th>\n",
       "      <td>[]</td>\n",
       "      <td>1</td>\n",
       "      <td>0</td>\n",
       "      <td>False</td>\n",
       "      <td>-1</td>\n",
       "      <td>1406303795</td>\n",
       "      <td>NaN</td>\n",
       "      <td>2014-07-25 15:56:35</td>\n",
       "      <td>13049</td>\n",
       "      <td>11172</td>\n",
       "      <td>CC BY-SA 3.0</td>\n",
       "      <td>Who was Black Zetsu created by? (Manga Spoilers)</td>\n",
       "      <td>&lt;p&gt;Black Zetsu was created by Madara but it is...</td>\n",
       "      <td>NaN</td>\n",
       "    </tr>\n",
       "    <tr>\n",
       "      <th>1808</th>\n",
       "      <td>[]</td>\n",
       "      <td>0</td>\n",
       "      <td>0</td>\n",
       "      <td>False</td>\n",
       "      <td>0</td>\n",
       "      <td>1486825007</td>\n",
       "      <td>NaN</td>\n",
       "      <td>2017-02-11 14:56:47</td>\n",
       "      <td>38908</td>\n",
       "      <td>33896</td>\n",
       "      <td>CC BY-SA 3.0</td>\n",
       "      <td>Why can&amp;#39;t Naruto go into Bijuu mode like t...</td>\n",
       "      <td>&lt;p&gt;It's probably because half of the 9 tails i...</td>\n",
       "      <td>NaN</td>\n",
       "    </tr>\n",
       "    <tr>\n",
       "      <th>2709</th>\n",
       "      <td>[]</td>\n",
       "      <td>0</td>\n",
       "      <td>1</td>\n",
       "      <td>False</td>\n",
       "      <td>1</td>\n",
       "      <td>1552400565</td>\n",
       "      <td>1.552401e+09</td>\n",
       "      <td>2019-02-15 16:43:45</td>\n",
       "      <td>50844</td>\n",
       "      <td>50841</td>\n",
       "      <td>CC BY-SA 4.0</td>\n",
       "      <td>Given how Obito had acquired Bijuu in the past...</td>\n",
       "      <td>&lt;p&gt;Indeed his plan would be a success if he ke...</td>\n",
       "      <td>NaN</td>\n",
       "    </tr>\n",
       "    <tr>\n",
       "      <th>2425</th>\n",
       "      <td>[]</td>\n",
       "      <td>0</td>\n",
       "      <td>11</td>\n",
       "      <td>True</td>\n",
       "      <td>11</td>\n",
       "      <td>1513767802</td>\n",
       "      <td>NaN</td>\n",
       "      <td>2017-12-20 11:03:22</td>\n",
       "      <td>43859</td>\n",
       "      <td>43592</td>\n",
       "      <td>CC BY-SA 3.0</td>\n",
       "      <td>Why does Sasuke consider Naruto to be his best...</td>\n",
       "      <td>&lt;p&gt;Naruto is Sasuke's best friend because he i...</td>\n",
       "      <td>NaN</td>\n",
       "    </tr>\n",
       "  </tbody>\n",
       "</table>\n",
       "</div>"
      ],
      "text/plain": [
       "     tags  down_vote_count  up_vote_count  is_accepted  score  \\\n",
       "469    []                1             46         True     45   \n",
       "901    []                0              1        False      1   \n",
       "1100   []                0              0        False      0   \n",
       "159    []                0              2        False      2   \n",
       "3032   []                0              1         True      1   \n",
       "1418   []                0              5         True      5   \n",
       "1049   []                1              0        False     -1   \n",
       "1808   []                0              0        False      0   \n",
       "2709   []                0              1        False      1   \n",
       "2425   []                0             11         True     11   \n",
       "\n",
       "      last_activity_date  last_edit_date       creation_date  answer_id  \\\n",
       "469           1380709644    1.380710e+09 2013-06-27 01:13:55       4238   \n",
       "901           1392891081             NaN 2014-02-20 10:11:21       7605   \n",
       "1100          1407404173    1.407404e+09 2014-08-07 06:01:21      13293   \n",
       "159           1416421333    1.416421e+09 2014-11-19 18:13:26      15184   \n",
       "3032          1645961656             NaN 2022-02-27 11:34:16      66458   \n",
       "1418          1434615590    1.434616e+09 2015-06-18 07:26:16      22547   \n",
       "1049          1406303795             NaN 2014-07-25 15:56:35      13049   \n",
       "1808          1486825007             NaN 2017-02-11 14:56:47      38908   \n",
       "2709          1552400565    1.552401e+09 2019-02-15 16:43:45      50844   \n",
       "2425          1513767802             NaN 2017-12-20 11:03:22      43859   \n",
       "\n",
       "      question_id content_license  \\\n",
       "469          4221    CC BY-SA 3.0   \n",
       "901          7593    CC BY-SA 3.0   \n",
       "1100        13285    CC BY-SA 3.0   \n",
       "159           846    CC BY-SA 3.0   \n",
       "3032        66456    CC BY-SA 4.0   \n",
       "1418        22142    CC BY-SA 3.0   \n",
       "1049        11172    CC BY-SA 3.0   \n",
       "1808        33896    CC BY-SA 3.0   \n",
       "2709        50841    CC BY-SA 4.0   \n",
       "2425        43592    CC BY-SA 3.0   \n",
       "\n",
       "                                               question  \\\n",
       "469     Why do ninjas run with their hands at the back?   \n",
       "901        Why are Kurenai&#39;s eyes the way they are?   \n",
       "1100                      How far can the sharingan go?   \n",
       "159   Why do some Sharingan eyes have unique Mangeky...   \n",
       "3032  Why wasn&#39;t flying Raijin passed onto other...   \n",
       "1418  What happened to the tomoe in Sasuke&#39;s Rin...   \n",
       "1049   Who was Black Zetsu created by? (Manga Spoilers)   \n",
       "1808  Why can&#39;t Naruto go into Bijuu mode like t...   \n",
       "2709  Given how Obito had acquired Bijuu in the past...   \n",
       "2425  Why does Sasuke consider Naruto to be his best...   \n",
       "\n",
       "                                                 answer  community_owned_date  \n",
       "469   <p>Based on research...\\n...Ninjas frequently ...                   NaN  \n",
       "901   <p>They are not related to sharingan in any wa...                   NaN  \n",
       "1100  <p><a href=\"http://naruto.wikia.com/wiki/Flyin...                   NaN  \n",
       "159   <p>The abilities of the eyes are determined by...                   NaN  \n",
       "3032  <p>You have to understand that not all people ...                   NaN  \n",
       "1418  <p>The latest manga of <a href=\"http://naruto....                   NaN  \n",
       "1049  <p>Black Zetsu was created by Madara but it is...                   NaN  \n",
       "1808  <p>It's probably because half of the 9 tails i...                   NaN  \n",
       "2709  <p>Indeed his plan would be a success if he ke...                   NaN  \n",
       "2425  <p>Naruto is Sasuke's best friend because he i...                   NaN  "
      ]
     },
     "execution_count": 3,
     "metadata": {},
     "output_type": "execute_result"
    }
   ],
   "source": [
    "df.sample(10)"
   ]
  },
  {
   "cell_type": "code",
   "execution_count": 6,
   "metadata": {},
   "outputs": [
    {
     "data": {
      "text/plain": [
       "[{'tags': array([], dtype=object),\n",
       "  'down_vote_count': 1,\n",
       "  'up_vote_count': 46,\n",
       "  'is_accepted': True,\n",
       "  'score': 45,\n",
       "  'last_activity_date': 1380709644,\n",
       "  'last_edit_date': 1380709644.0,\n",
       "  'creation_date': Timestamp('2013-06-27 01:13:55'),\n",
       "  'answer_id': 4238,\n",
       "  'question_id': 4221,\n",
       "  'content_license': 'CC BY-SA 3.0',\n",
       "  'question': 'Why do ninjas run with their hands at the back?',\n",
       "  'answer': '<p>Based on research...\\n...Ninjas frequently were portrayed running with <a href=\"http://tvtropes.org/pmwiki/pmwiki.php/Main/AirplaneArms\">The Airplane Arms</a>.</p>\\n\\n<blockquote>\\n  <p>Ninja are also frequently portrayed running this way (with the arms swept farther back, like the wings on an F-14 Tomcat), though they now tend to prefer the Ninja Run. Samurai also run in a similar manner, usually while keeping one hand grasped onto their katana. <strong>In a more (apparently) realistic series this may have something to do with the runner having a reduced profile and thus being harder to hit with ranged weaponry, but it\\'s generally just the Rule Of Cool.</strong></p>\\n</blockquote>\\n\\n<p>Emphasis by me.</p>\\n',\n",
       "  'community_owned_date': nan},\n",
       " {'tags': array([], dtype=object),\n",
       "  'down_vote_count': 1,\n",
       "  'up_vote_count': 41,\n",
       "  'is_accepted': False,\n",
       "  'score': 40,\n",
       "  'last_activity_date': 1392917657,\n",
       "  'last_edit_date': 1392917657.0,\n",
       "  'creation_date': Timestamp('2013-06-26 03:16:34'),\n",
       "  'answer_id': 4223,\n",
       "  'question_id': 4221,\n",
       "  'content_license': 'CC BY-SA 3.0',\n",
       "  'question': 'Why do ninjas run with their hands at the back?',\n",
       "  'answer': '<p>The shortest and most <a href=\"http://tvtropes.org/pmwiki/pmwiki.php/Main/NinjaRun\">sensible answer</a> I could find is:</p>\\n\\n<blockquote>\\n  <p>The standard Ninja Run is this:</p>\\n  \\n  <ul>\\n  <li>Body tilted forward, low to the ground.</li>\\n  <li>One forearm crooked in front of the body, apparently to block attacks (two fingers held in front of the mouth\\n  optional but prevalent).</li>\\n  <li>The other arm behind the back, ready to pull out a bladed weapon.</li>\\n  </ul>\\n</blockquote>\\n\\n<p>Another speculative guess would be better aerodynamics. Also they move very quickly at times and it is said that <a href=\"http://running.about.com/od/howtorun/tp/runningform.htm\">swinging your arms</a> make you tire faster and give you bad form, so it could be to save energy.</p>\\n',\n",
       "  'community_owned_date': nan},\n",
       " {'tags': array([], dtype=object),\n",
       "  'down_vote_count': 0,\n",
       "  'up_vote_count': 11,\n",
       "  'is_accepted': False,\n",
       "  'score': 11,\n",
       "  'last_activity_date': 1393129475,\n",
       "  'last_edit_date': nan,\n",
       "  'creation_date': Timestamp('2014-02-23 04:24:35'),\n",
       "  'answer_id': 7649,\n",
       "  'question_id': 4221,\n",
       "  'content_license': 'CC BY-SA 3.0',\n",
       "  'question': 'Why do ninjas run with their hands at the back?',\n",
       "  'answer': '<p>Several reasons really that I can think of.</p>\\n\\n<ol>\\n<li>To reduce the profile, leaning forward the way they do and keeping the arms straight makes for a harder target to hit and lower to the ground so its more difficult to see moving from cover to cover, which is a Ninja\\'s main objective; to move stealthily.  </li>\\n</ol>\\n\\n<p>1.5 This also gives them the perfect posture to leap forward for whatever reason since most attacks from behind are hard to block compared to a forward attacks which will have a reasonable amount of time to see and intercept them.</p>\\n\\n<ol>\\n<li><p>An easier/quicker access to weapons, which are attached to the thighs and back.</p></li>\\n<li><p>Increased aerodynamics. Running at a fast speed like most Ninja do creates a lot of drag, the more aerodynamic the posture the better.  I can also think of several balance issues that come from running face first like that, the arms held behind the body fix these balance issues.</p></li>\\n<li><p>Can achieve a faster speed.  Technically...  With all the weight moving forward like that it acts like a lead weight on the front of a toy racecar. The force above and ahead of the main pivot of the legs increases the speed.  Inversely this makes things harder to control, but, given that Ninja are basically Jesus and can walk on water and vertical surfaces like walking on flat ground, it makes sense that they have amazing leg strength/balance and can stop on a dime relatively easily.</p></li>\\n<li><p>Improves correct sneaking posture.  Most Ninja are taught to be stealthy, but learning a toe heel posture that emphasizes stealth takes a lot of practice and is hard to maintain.  Leaning forward as they do while running forces the body into a toe heel posture.</p></li>\\n</ol>\\n\\n<p>5.5 This early academy training idea also has a good grounding on why most adult Ninja in later chapters use the \"one hand behind and one hand forward with a hand sign\" running style. They\\'ve already learned the correct posture to run and sneak with, now they can keep a hand forward, ready to cast the Jutsu they learned during their time as Genin, alongside their proper sneak/running posture.</p>\\n',\n",
       "  'community_owned_date': nan},\n",
       " {'tags': array([], dtype=object),\n",
       "  'down_vote_count': 1,\n",
       "  'up_vote_count': 10,\n",
       "  'is_accepted': False,\n",
       "  'score': 9,\n",
       "  'last_activity_date': 1380315541,\n",
       "  'last_edit_date': 1380315541.0,\n",
       "  'creation_date': Timestamp('2013-09-27 20:23:51'),\n",
       "  'answer_id': 5337,\n",
       "  'question_id': 4221,\n",
       "  'content_license': 'CC BY-SA 3.0',\n",
       "  'question': 'Why do ninjas run with their hands at the back?',\n",
       "  'answer': '<p>When they keep their arms behind, they are streamlined.\\nThey penetrate through air faster and air resistance is reduced, and hence it boosts their speed.\\nIt also provides easy accessibility to weapons.</p>\\n',\n",
       "  'community_owned_date': nan},\n",
       " {'tags': array([], dtype=object),\n",
       "  'down_vote_count': 0,\n",
       "  'up_vote_count': 8,\n",
       "  'is_accepted': False,\n",
       "  'score': 8,\n",
       "  'last_activity_date': 1391269551,\n",
       "  'last_edit_date': nan,\n",
       "  'creation_date': Timestamp('2014-02-01 15:45:51'),\n",
       "  'answer_id': 7257,\n",
       "  'question_id': 4221,\n",
       "  'content_license': 'CC BY-SA 3.0',\n",
       "  'question': 'Why do ninjas run with their hands at the back?',\n",
       "  'answer': '<p>Actually, I once saw a bit about this in a Japanese TV show.  It comes from the way samurai used to run before meeting the English.  Samurai ran into battle using only their legs, keeping the upper body stable and in a ready stance.  The arms back thing was, I believe, an extension of this having to do with a belief that it cut down on air resistance.  (like using the same technique to run through water)  But one thing that happened when the English arrived is that each saw how the other ran and, as men will do, competed.  The Western style of running is harder to do with a weapon in hand but is more efficient and therefor faster.  The eastern style has no swinging of the arms, which allows larger weapons (swords) to be carried safely, but also requires the shift in weight to occur in the body rather than the arms, making it less efficient and slower.</p>\\n',\n",
       "  'community_owned_date': nan},\n",
       " {'tags': array([], dtype=object),\n",
       "  'down_vote_count': 2,\n",
       "  'up_vote_count': 8,\n",
       "  'is_accepted': False,\n",
       "  'score': 6,\n",
       "  'last_activity_date': 1389283547,\n",
       "  'last_edit_date': 1389283547.0,\n",
       "  'creation_date': Timestamp('2013-10-05 22:20:01'),\n",
       "  'answer_id': 5406,\n",
       "  'question_id': 4221,\n",
       "  'content_license': 'CC BY-SA 3.0',\n",
       "  'question': 'Why do ninjas run with their hands at the back?',\n",
       "  'answer': '<p>The reason they do that is <a href=\"http://en.wikipedia.org/wiki/Aerodynamics\" rel=\"noreferrer\">Aerodynamics</a>.</p>\\n\\n<p>Less air resistance, faster speed. Used a lot when designing jets, planes, cars. You want something to be faster, you either make it more powerful or have the resistance against it cut. Speed was important to ninjas so wearing tight clothes and running in an aerodynamic position would make them faster. That is in addition to obvious benefits that people have stated (a hand at the ready to draw a blade...etc). </p>\\n\\n<p>Ever wonder about the shape of submarines or torpedoes? Its cause its hydrodynamic. Faster speed due to less resistance from the water. It works the same for air resistance. NASA used to have a great page on aerodynamics but obviously it is no longer available (can\\'t even be crawled due to robots.txt for the site).</p>\\n',\n",
       "  'community_owned_date': nan},\n",
       " {'tags': array([], dtype=object),\n",
       "  'down_vote_count': 0,\n",
       "  'up_vote_count': 6,\n",
       "  'is_accepted': False,\n",
       "  'score': 6,\n",
       "  'last_activity_date': 1382896978,\n",
       "  'last_edit_date': nan,\n",
       "  'creation_date': Timestamp('2013-10-27 18:02:58'),\n",
       "  'answer_id': 5612,\n",
       "  'question_id': 4221,\n",
       "  'content_license': 'CC BY-SA 3.0',\n",
       "  'question': 'Why do ninjas run with their hands at the back?',\n",
       "  'answer': \"<p>Perhaps it's because the weapons they'd use to handle an ambush are drawn from their thighs and behind their backs. I'd think it would also give them a uniform running profile so that there is no 'best moment' to attack them. If you run with your arms swinging there will be moments when your hands are completely out of position. Especially if you have, say, a left thigh shuriken holster and a right shoulder sword draw then you will constantly be creating a moment where you can easily draw neither weapon due to arm swing. Thirdly it allows you to draw and throw weapons hidden in your sleeve without the delay of needing to swing your arm back.</p>\\n\\n<p>I suppose it could also be an artifact of chakra assisted movement. A proper calisthenic running style might conflict with getting the best results from a run that relies more on sticking with chakra and explosively releasing it for a 'push' rather than the rounder motion of running based off pure athleticism. Perhaps it also helps their moment to moment balance by keeping their center of gravity near constant rather than allowing it to sway, that would theoretically allow for faster, tighter reactions and evasions.</p>\\n\",\n",
       "  'community_owned_date': nan},\n",
       " {'tags': array([], dtype=object),\n",
       "  'down_vote_count': 2,\n",
       "  'up_vote_count': 8,\n",
       "  'is_accepted': False,\n",
       "  'score': 6,\n",
       "  'last_activity_date': 1392911288,\n",
       "  'last_edit_date': nan,\n",
       "  'creation_date': Timestamp('2014-02-20 15:48:08'),\n",
       "  'answer_id': 7608,\n",
       "  'question_id': 4221,\n",
       "  'content_license': 'CC BY-SA 3.0',\n",
       "  'question': 'Why do ninjas run with their hands at the back?',\n",
       "  'answer': \"<p>It obviously doesn't ACTUALLY make you run faster.  If it did, you would see it in the Olympics.  </p>\\n\\n<p>Any additional aerodynamics isn't made up for by the loss of swinging momentum of the arms and the awkwardness that causes.</p>\\n\\n<p>There is a reason people swing their arms when they walk/run, even though it uses significantly more energy to do so.</p>\\n\\n<p>Indeed, I thought perhaps the reason you would see this run is that maybe it used less energy and helped for distance, but that is unlikely too, because it is probably more work to keep balance overall---and there are people who can basically run so long that what they have to stop for is sleep anyway.</p>\\n\",\n",
       "  'community_owned_date': nan},\n",
       " {'tags': array([], dtype=object),\n",
       "  'down_vote_count': 1,\n",
       "  'up_vote_count': 6,\n",
       "  'is_accepted': False,\n",
       "  'score': 5,\n",
       "  'last_activity_date': 1389283344,\n",
       "  'last_edit_date': 1389283344.0,\n",
       "  'creation_date': Timestamp('2013-11-05 00:10:31'),\n",
       "  'answer_id': 5733,\n",
       "  'question_id': 4221,\n",
       "  'content_license': 'CC BY-SA 3.0',\n",
       "  'question': 'Why do ninjas run with their hands at the back?',\n",
       "  'answer': \"<p>Because putting your hands behind your back while running makes you go faster. Because it's weighing you down in the back but your weighing yourself down in the front, So it's like your trying to keep your balance but the front has more weight than the back so when your running your also kind of leaning forward at the same time which makes you run faster giving you more speed. That's why ninja do this so they have more speed.</p>\\n\",\n",
       "  'community_owned_date': nan},\n",
       " {'tags': array([], dtype=object),\n",
       "  'down_vote_count': 1,\n",
       "  'up_vote_count': 5,\n",
       "  'is_accepted': False,\n",
       "  'score': 4,\n",
       "  'last_activity_date': 1397891003,\n",
       "  'last_edit_date': nan,\n",
       "  'creation_date': Timestamp('2014-04-19 07:03:23'),\n",
       "  'answer_id': 8773,\n",
       "  'question_id': 4221,\n",
       "  'content_license': 'CC BY-SA 3.0',\n",
       "  'question': 'Why do ninjas run with their hands at the back?',\n",
       "  'answer': '<p>The reasoning for this is most likely because it looks cool and fits what westerners thinks of when they think of ninjas. There may be some reasoning with weapons but I do not know of any. However it has nothing to do with aerodynamics, physics or speed. </p>\\n\\n<p>Sprinters use their arms because it makes them faster. Leaning forward while running does not make one faster it actually slows you down because you are in front of your bodies natural center of balance. </p>\\n\\n<p>It also does not aid in long distance running. Humans have evolved for bipedal movement because it is more energy saving and efficient way of moving because of the center of gravity and swinging of the arms while walking and running. This is why humans were able to prosper in our early developer because while other quadrupedal animals exhausted themselves while fleeing humans where able to run longer distance, though at a slower rate than other animals to tire them out. </p>\\n',\n",
       "  'community_owned_date': nan},\n",
       " {'tags': array([], dtype=object),\n",
       "  'down_vote_count': 0,\n",
       "  'up_vote_count': 0,\n",
       "  'is_accepted': False,\n",
       "  'score': 0,\n",
       "  'last_activity_date': 1685546821,\n",
       "  'last_edit_date': 1685546821.0,\n",
       "  'creation_date': Timestamp('2023-05-21 06:35:10'),\n",
       "  'answer_id': 68003,\n",
       "  'question_id': 4221,\n",
       "  'content_license': 'CC BY-SA 4.0',\n",
       "  'question': 'Why do ninjas run with their hands at the back?',\n",
       "  'answer': '<p>A mixture of obscuring your profile and having you hands closer to the branches on your side, should you have to pivot/swing away without wasting chakra on a shadow clone or substitution jutsu. I think.</p>\\n',\n",
       "  'community_owned_date': nan}]"
      ]
     },
     "execution_count": 6,
     "metadata": {},
     "output_type": "execute_result"
    }
   ],
   "source": [
    "df[df[\"question_id\"]==4221].to_dict(orient=\"records\")"
   ]
  },
  {
   "cell_type": "code",
   "execution_count": 305,
   "metadata": {},
   "outputs": [],
   "source": [
    "qids = set(df[\"question_id\"].astype(\"int\").unique())"
   ]
  },
  {
   "cell_type": "code",
   "execution_count": 306,
   "metadata": {},
   "outputs": [],
   "source": [
    "df[\"pm_score\"] = np.log2(df[\"up_vote_count\"]+1) + df[\"is_accepted\"].map(lambda d: 1 if d else -1)\n",
    "# df[\"pm_score\"] = df.apply(lambda x: x[\"pm_score\"] if x[\"up_vote_count\"] > 0 else -1, axis=1)"
   ]
  },
  {
   "cell_type": "code",
   "execution_count": 307,
   "metadata": {},
   "outputs": [
    {
     "data": {
      "text/plain": [
       "count    3066.000000\n",
       "mean        0.990992\n",
       "std         1.826143\n",
       "min        -1.000000\n",
       "25%        -1.000000\n",
       "50%         0.584963\n",
       "75%         2.169925\n",
       "max         6.554589\n",
       "Name: pm_score, dtype: float64"
      ]
     },
     "execution_count": 307,
     "metadata": {},
     "output_type": "execute_result"
    }
   ],
   "source": [
    "df[\"pm_score\"].describe()"
   ]
  },
  {
   "cell_type": "code",
   "execution_count": 308,
   "metadata": {},
   "outputs": [],
   "source": [
    "from bs4 import BeautifulSoup\n",
    "def binary_comparison(answers):\n",
    "    \"\"\"Returns tuples of answers, first always best\"\"\"\n",
    "    pairs = []\n",
    "    \n",
    "    for i in range(len(answers)-1):\n",
    "        for j in range(i+1, len(answers)):\n",
    "            if answers[i][\"pm_score\"]>answers[j][\"pm_score\"]:\n",
    "                pairs.append((answers[i][\"answer\"], answers[j][\"answer\"]))\n",
    "            elif answers[i][\"pm_score\"]<answers[j][\"pm_score\"]:\n",
    "                pairs.append((answers[j][\"answer\"], answers[i][\"answer\"]))\n",
    "    return pairs\n",
    "\n",
    "def preprocess(examples, MAX_PAIRS_PER_QUESTION=-1):\n",
    "    \"\"\"Cleans HTML and returns paired answers (j is better than k). Note that this returns more examples (one for each pair per question).\"\"\"\n",
    "    n_samples = len(examples[\"question_id\"])\n",
    "    \n",
    "    # initialize empty lists for new samples\n",
    "    new_examples = {\"question\": [], \"response_j\": [], \"response_k\": []}\n",
    "    for key in examples:\n",
    "        new_examples[key] = []\n",
    "    \n",
    "    for sample_id in range(n_samples):\n",
    "        # get pairs where first is always the better one\n",
    "        pairs = binary_comparison(examples[\"answers\"][sample_id])\n",
    "        n_answers = len(examples[\"answers\"][sample_id])\n",
    "        \n",
    "        # sample if we get more pairs than maximum\n",
    "        if MAX_PAIRS_PER_QUESTION > 0 and len(pairs) > MAX_PAIRS_PER_QUESTION:\n",
    "            indices = np.random.choice(list(range(len(pairs))), MAX_PAIRS_PER_QUESTION, replace=False)\n",
    "            pairs = [pairs[i] for i in indices]\n",
    "        \n",
    "        # construct the samples\n",
    "        for pair in pairs:\n",
    "            for key in examples:\n",
    "                if key==\"question\":\n",
    "                    new_examples[key].append(examples[key][sample_id])\n",
    "                else:\n",
    "                    new_examples[key].append(examples[key][sample_id])\n",
    "            new_examples[\"response_j\"].append(pair[0])\n",
    "            new_examples[\"response_k\"].append(pair[1])\n",
    "    \n",
    "    return new_examples"
   ]
  },
  {
   "cell_type": "code",
   "execution_count": 309,
   "metadata": {},
   "outputs": [],
   "source": [
    "# Aggregated by question id, each group contains a list of answers with answer id, text, score, and is_accepted. Column group is answer\n",
    "df[\"answer\"] = df[\"answer\"].map(lambda x: BeautifulSoup(x, \"html.parser\").get_text())\n",
    "df_answers_agg = df.groupby([\"question_id\", \"question\"]).apply(lambda x: x[[\"question_id\", \"answer_id\", \"pm_score\", \"answer\", \"is_accepted\"]].to_dict(orient=\"records\")).reset_index(name=\"answers\")"
   ]
  },
  {
   "cell_type": "code",
   "execution_count": 310,
   "metadata": {},
   "outputs": [
    {
     "name": "stderr",
     "output_type": "stream",
     "text": [
      "Map: 100%|██████████| 1456/1456 [00:00<00:00, 8617.16 examples/s]\n"
     ]
    }
   ],
   "source": [
    "ds = datasets.Dataset.from_pandas(df_answers_agg)\n",
    "ds_result = ds.map(lambda d: preprocess(d, -1), batch_size=1000, batched=True).remove_columns([\"answers\"])"
   ]
  },
  {
   "cell_type": "code",
   "execution_count": 311,
   "metadata": {},
   "outputs": [
    {
     "data": {
      "text/plain": [
       "2704"
      ]
     },
     "execution_count": 311,
     "metadata": {},
     "output_type": "execute_result"
    }
   ],
   "source": [
    "len(ds_result)"
   ]
  },
  {
   "cell_type": "code",
   "execution_count": 312,
   "metadata": {},
   "outputs": [
    {
     "name": "stderr",
     "output_type": "stream",
     "text": [
      "Saving the dataset (1/1 shards): 100%|██████████| 2704/2704 [00:00<00:00, 248960.55 examples/s]\n"
     ]
    }
   ],
   "source": [
    "ds_result.save_to_disk(\"../data/anime_stackexchange/anime_answers_pair\")"
   ]
  },
  {
   "cell_type": "code",
   "execution_count": null,
   "metadata": {},
   "outputs": [],
   "source": []
  },
  {
   "cell_type": "code",
   "execution_count": null,
   "metadata": {},
   "outputs": [],
   "source": []
  },
  {
   "cell_type": "code",
   "execution_count": null,
   "metadata": {},
   "outputs": [],
   "source": []
  },
  {
   "cell_type": "code",
   "execution_count": 1,
   "metadata": {},
   "outputs": [],
   "source": [
    "import cv2\n",
    "import numpy as np\n",
    "\n",
    "def segment_panels(image_path):\n",
    "    # Read the image\n",
    "    img = cv2.imread(image_path)\n",
    "    gray = cv2.cvtColor(img, cv2.COLOR_BGR2GRAY)\n",
    "    \n",
    "    # Apply thresholding to get binary image\n",
    "    _, binary = cv2.threshold(gray, 220, 255, cv2.THRESH_BINARY_INV)\n",
    "    \n",
    "    # Apply morphological operations to clean up the image\n",
    "    kernel = np.ones((3,3), np.uint8)\n",
    "    binary = cv2.morphologyEx(binary, cv2.MORPH_CLOSE, kernel)\n",
    "    \n",
    "    # Find contours\n",
    "    contours, _ = cv2.findContours(binary, cv2.RETR_EXTERNAL, cv2.CHAIN_APPROX_SIMPLE)\n",
    "    \n",
    "    # Filter contours based on area\n",
    "    min_area = 1000  # Adjust this value based on your image size\n",
    "    panels = []\n",
    "    for contour in contours:\n",
    "        area = cv2.contourArea(contour)\n",
    "        if area > min_area:\n",
    "            x, y, w, h = cv2.boundingRect(contour)\n",
    "            panels.append((x, y, w, h))\n",
    "    \n",
    "    # Draw rectangles around detected panels\n",
    "    for (x, y, w, h) in panels:\n",
    "        cv2.rectangle(img, (x, y), (x+w, y+h), (0, 255, 0), 2)\n",
    "    \n",
    "    # Display the result\n",
    "    cv2.imshow('Segmented Panels', img)\n",
    "    cv2.waitKey(0)\n",
    "    cv2.destroyAllWindows()\n",
    "\n",
    "# Usage\n",
    "image_path = '/Users/nhuantran/Documents/Mangas/Naruto/Vol.01 Ch.0004 - Какаші Хатаке! (uk)/10.png'\n",
    "segment_panels(image_path)"
   ]
  },
  {
   "cell_type": "code",
   "execution_count": null,
   "metadata": {},
   "outputs": [],
   "source": []
  }
 ],
 "metadata": {
  "kernelspec": {
   "display_name": "semantic_search",
   "language": "python",
   "name": "python3"
  },
  "language_info": {
   "codemirror_mode": {
    "name": "ipython",
    "version": 3
   },
   "file_extension": ".py",
   "mimetype": "text/x-python",
   "name": "python",
   "nbconvert_exporter": "python",
   "pygments_lexer": "ipython3",
   "version": "3.10.0"
  }
 },
 "nbformat": 4,
 "nbformat_minor": 2
}
