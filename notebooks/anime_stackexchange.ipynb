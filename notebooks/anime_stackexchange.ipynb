{
 "cells": [
  {
   "cell_type": "code",
   "execution_count": 2,
   "metadata": {},
   "outputs": [],
   "source": [
    "# Write functions to parse XML data formats\n",
    "# Example data\n",
    "# <?xml version=\"1.0\" encoding=\"utf-8\"?>\n",
    "# <posts>\n",
    "#   <row Id=\"1\" PostTypeId=\"1\" AcceptedAnswerId=\"8\" CreationDate=\"2012-12-11T20:37:08.823\" Score=\"83\" ViewCount=\"98859\" Body=\"&lt;p&gt;Assuming the world in the One Piece universe is round, then there is not really a beginning or an end of the Grand Line.&lt;/p&gt;&#xA;&#xA;&lt;p&gt;The Straw Hats started out from the first half and are now sailing across the second half.&lt;/p&gt;&#xA;&#xA;&lt;p&gt;Wouldn't it have been quicker to set sail in the opposite direction from where they started?     &lt;/p&gt;&#xA;\" OwnerUserId=\"21\" LastEditorUserId=\"1398\" LastEditDate=\"2015-04-17T19:06:38.957\" LastActivityDate=\"2022-05-12T10:37:24.403\" Title=\"The treasure in One Piece is at the end of the Grand Line. But isn't that the same as the beginning?\" Tags=\"|one-piece|\" AnswerCount=\"6\" CommentCount=\"0\" ContentLicense=\"CC BY-SA 3.0\" />\n",
    "#   <row Id=\"2\" PostTypeId=\"1\" AcceptedAnswerId=\"33\" CreationDate=\"2012-12-11T20:39:40.780\" Score=\"14\" ViewCount=\"2772\" Body=\"&lt;p&gt;In the middle of &lt;em&gt;The Dark Tournament&lt;/em&gt;, Yusuke Urameshi gets to fully inherit Genkai's power of the &lt;em&gt;Spirit Wave&lt;/em&gt; by absorbing a ball of energy from her.&lt;/p&gt;&#xA;&#xA;&lt;p&gt;However, this process turns into an excruciating trial for Yusuke, almost killing him, and keeping him doubled over in extreme pain for a long period of time, so much so that his Spirit Animal, Poo, is also in pain and flies to him to try to help.&lt;/p&gt;&#xA;&#xA;&lt;p&gt;My question is, why is it such a painful procedure to learn and absorb this power?&lt;/p&gt;&#xA;\" OwnerUserId=\"26\" LastEditorUserId=\"247\" LastEditDate=\"2013-02-26T17:02:31.570\" LastActivityDate=\"2013-06-20T03:31:39.187\" Title=\"Why does absorbing the Spirit Wave from Genkai involve such a painful process?\" Tags=\"|yu-yu-hakusho|\" AnswerCount=\"1\" CommentCount=\"0\" ContentLicense=\"CC BY-SA 3.0\" />\n",
    "# </posts>\n",
    "# Extract post data from XML and return a list of dictionaries"
   ]
  },
  {
   "cell_type": "code",
   "execution_count": 115,
   "metadata": {},
   "outputs": [],
   "source": [
    "import json\n",
    "import re\n",
    "from tqdm import tqdm, tqdm_notebook\n",
    "from glob import glob\n",
    "from bs4 import BeautifulSoup\n",
    "\n",
    "from langchain_text_splitters import RecursiveCharacterTextSplitter\n",
    "\n",
    "import py7zr\n",
    "import pandas as pd\n",
    "import xml.etree.ElementTree as ET\n",
    "\n",
    "def parse_xml(xml_string):\n",
    "    # Parse the XML string\n",
    "    root = ET.fromstring(xml_string)\n",
    "\n",
    "    # Initialize an empty list to hold the posts\n",
    "    posts = []\n",
    "\n",
    "    # Iterate over each 'row' element in the 'posts' element\n",
    "    for row in root.findall('row'):\n",
    "        # Get the attributes of the 'row' element as a dictionary\n",
    "        post = row.attrib\n",
    "\n",
    "        # Append the post dictionary to the list of posts\n",
    "        posts.append(post)\n",
    "\n",
    "    return posts\n",
    "\n",
    "def parse_xml_from_bytes(xml_bytes):\n",
    "    # Convert the bytes to a string\n",
    "    rows = []\n",
    "    for row in xml_bytes.split(b'\\n'):\n",
    "        try:\n",
    "            row = ET.fromstring(row.decode(\"utf-8\"))\n",
    "            rows.append(row.attrib)\n",
    "        except Exception as e:\n",
    "            pass\n",
    "\n",
    "    # Parse the XML string\n",
    "    return rows\n"
   ]
  },
  {
   "cell_type": "code",
   "execution_count": 13,
   "metadata": {},
   "outputs": [],
   "source": [
    "def get_contents_by_filename(filename: str):\n",
    "    df = []\n",
    "    files = glob(\"../data/anime_stackexchange/*.7z\")\n",
    "    for file in tqdm(files):\n",
    "        with py7zr.SevenZipFile(file, mode='r') as z:\n",
    "            list_of_files = z.readall()\n",
    "            content = list_of_files[filename].read()\n",
    "            try:\n",
    "                posts = parse_xml_from_bytes(content)\n",
    "                df.append(pd.DataFrame(posts))\n",
    "            except Exception as e:\n",
    "                print(f\"Error {file}: {e}\")\n",
    "    \n",
    "    return pd.concat(df)"
   ]
  },
  {
   "cell_type": "code",
   "execution_count": 32,
   "metadata": {},
   "outputs": [
    {
     "name": "stderr",
     "output_type": "stream",
     "text": [
      "100%|██████████| 16/16 [00:29<00:00,  1.84s/it]\n"
     ]
    }
   ],
   "source": [
    "target_file_name = \"Posts.xml\"\n",
    "df_posts = get_contents_by_filename(\"Posts.xml\")\n",
    "df_comments = get_contents_by_filename(\"Comments.xml\")"
   ]
  },
  {
   "cell_type": "code",
   "execution_count": 20,
   "metadata": {},
   "outputs": [
    {
     "name": "stdout",
     "output_type": "stream",
     "text": [
      "<class 'pandas.core.frame.DataFrame'>\n",
      "Index: 483277 entries, 0 to 31290\n",
      "Data columns (total 22 columns):\n",
      " #   Column                 Non-Null Count   Dtype \n",
      "---  ------                 --------------   ----- \n",
      " 0   Id                     483277 non-null  object\n",
      " 1   PostTypeId             483277 non-null  object\n",
      " 2   AcceptedAnswerId       95061 non-null   object\n",
      " 3   CreationDate           483277 non-null  object\n",
      " 4   Score                  483277 non-null  object\n",
      " 5   ViewCount              178388 non-null  object\n",
      " 6   Body                   483277 non-null  object\n",
      " 7   OwnerUserId            477851 non-null  object\n",
      " 8   LastEditorUserId       278034 non-null  object\n",
      " 9   LastEditDate           279426 non-null  object\n",
      " 10  LastActivityDate       483277 non-null  object\n",
      " 11  Title                  178388 non-null  object\n",
      " 12  Tags                   178388 non-null  object\n",
      " 13  AnswerCount            178388 non-null  object\n",
      " 14  CommentCount           483277 non-null  object\n",
      " 15  ContentLicense         459098 non-null  object\n",
      " 16  ClosedDate             16843 non-null   object\n",
      " 17  ParentId               275811 non-null  object\n",
      " 18  OwnerDisplayName       5623 non-null    object\n",
      " 19  FavoriteCount          32890 non-null   object\n",
      " 20  LastEditorDisplayName  1682 non-null    object\n",
      " 21  CommunityOwnedDate     1328 non-null    object\n",
      "dtypes: object(22)\n",
      "memory usage: 84.8+ MB\n",
      "None\n",
      "            Id PostTypeId AcceptedAnswerId             CreationDate   Score  \\\n",
      "count   483277     483277            95061                   483277  483277   \n",
      "unique   34768          6             6663                    33606     125   \n",
      "top          1          2                8  2016-02-02T11:17:02.053       0   \n",
      "freq        15     275811               15                       30   97869   \n",
      "\n",
      "       ViewCount    Body OwnerUserId LastEditorUserId  \\\n",
      "count     178388  483277      477851           278034   \n",
      "unique     30135   37797       10119             1614   \n",
      "top          108                1908             2516   \n",
      "freq         210    2969       15587            36359   \n",
      "\n",
      "                   LastEditDate  ...      Tags AnswerCount CommentCount  \\\n",
      "count                    279426  ...    178388      178388       483277   \n",
      "unique                    19344  ...      5459          16           24   \n",
      "top     2020-06-17T09:17:53.303  ...  <naruto>           1            0   \n",
      "freq                      12676  ...     17602       96448       280805   \n",
      "\n",
      "       ContentLicense               ClosedDate ParentId OwnerDisplayName  \\\n",
      "count          459098                    16843   275811             5623   \n",
      "unique              2                     1687    11238              169   \n",
      "top      CC BY-SA 3.0  2016-05-25T17:56:40.013     4615         user8802   \n",
      "freq           326776                       15      225              531   \n",
      "\n",
      "       FavoriteCount LastEditorDisplayName       CommunityOwnedDate  \n",
      "count          32890                  1682                     1328  \n",
      "unique            32                    53                       94  \n",
      "top                1              user8802  2018-07-26T19:42:57.193  \n",
      "freq           17983                   255                       18  \n",
      "\n",
      "[4 rows x 22 columns]\n"
     ]
    }
   ],
   "source": [
    "# print overview about dataframe\n",
    "# print(df_posts.head())\n",
    "print(df_posts.info())\n",
    "print(df_posts.describe())"
   ]
  },
  {
   "cell_type": "code",
   "execution_count": 21,
   "metadata": {},
   "outputs": [
    {
     "data": {
      "text/plain": [
       "Tags\n",
       "<naruto>                                                         17602\n",
       "<one-piece>                                                       8707\n",
       "<attack-on-titan>                                                 3847\n",
       "<fairy-tail>                                                      2956\n",
       "<death-note>                                                      2872\n",
       "<bleach>                                                          2625\n",
       "<my-hero-academia>                                                2554\n",
       "<anime-production>                                                2469\n",
       "<pokemon>                                                         2017\n",
       "<hunter-x-hunter>                                                 2013\n",
       "<tropes>                                                          1882\n",
       "<dragon-ball-series><dragon-ball-super>                           1782\n",
       "<sword-art-online>                                                1731\n",
       "<one-punch-man>                                                   1659\n",
       "naruto                                                            1497\n",
       "<tokyo-ghoul>                                                     1347\n",
       "<monogatari-series>                                               1210\n",
       "<dragon-ball-super>                                               1135\n",
       "<code-geass>                                                      1130\n",
       "<dragon-ball-series>                                              1097\n",
       "<seven-deadly-sins>                                               1045\n",
       "<madoka-magica>                                                   1008\n",
       "<fullmetal-alchemist-series><fullmetal-alchemist-brotherhood>     1003\n",
       "<naruto><music>                                                    970\n",
       "<music><my-hero-academia>                                          968\n",
       "<fullmetal-alchemist-series>                                       933\n",
       "<jojos-bizarre-adventure>                                          878\n",
       "<fate-stay-night>                                                  856\n",
       "<dragon-ball-z>                                                    820\n",
       "<naruto><boruto>                                                   799\n",
       "Name: count, dtype: int64"
      ]
     },
     "execution_count": 21,
     "metadata": {},
     "output_type": "execute_result"
    }
   ],
   "source": [
    "# Extract tags into list of string\n",
    "df_posts['Tags'] = df_posts['Tags'].str.strip('|').str.split('|')\n",
    "df_posts_explode = df_posts.explode('Tags')\n",
    "df_posts_explode[\"Tags\"].value_counts().head(30)"
   ]
  },
  {
   "cell_type": "code",
   "execution_count": 59,
   "metadata": {},
   "outputs": [],
   "source": [
    "desired_tags = set([\"naruto\", \"<naruto>\"])\n",
    "df_naruto_questions = df_posts[df_posts['Tags'].apply(lambda x: any([\"naruto\" in tag for tag in x]) if isinstance(x, list) else False)]\n",
    "df_naruto_questions = df_naruto_questions.drop_duplicates(subset=[\"Id\"])"
   ]
  },
  {
   "cell_type": "code",
   "execution_count": 60,
   "metadata": {},
   "outputs": [
    {
     "data": {
      "text/plain": [
       "{'Id': '12',\n",
       " 'PostTypeId': '1',\n",
       " 'AcceptedAnswerId': '22',\n",
       " 'CreationDate': '2012-12-11T20:56:15.090',\n",
       " 'Score': '14',\n",
       " 'ViewCount': '25271',\n",
       " 'Body': '<p>I originally thought that the only surviving members after the Uchiha massacre were Sasuke and Itachi, but more and more seem to be revealed.  Is there a canonical list of surviving members of the Uchiha clan after the massacre?</p>\\n',\n",
       " 'OwnerUserId': '22',\n",
       " 'LastEditorUserId': '22',\n",
       " 'LastEditDate': '2012-12-11T21:42:46.997',\n",
       " 'LastActivityDate': '2018-03-16T18:38:49.033',\n",
       " 'Title': 'List of surviving Uchiha',\n",
       " 'Tags': ['<naruto>'],\n",
       " 'AnswerCount': '3',\n",
       " 'CommentCount': '1',\n",
       " 'ContentLicense': 'CC BY-SA 3.0',\n",
       " 'ClosedDate': nan,\n",
       " 'ParentId': nan,\n",
       " 'OwnerDisplayName': nan,\n",
       " 'FavoriteCount': nan,\n",
       " 'LastEditorDisplayName': nan,\n",
       " 'CommunityOwnedDate': nan}"
      ]
     },
     "execution_count": 60,
     "metadata": {},
     "output_type": "execute_result"
    }
   ],
   "source": [
    "df_naruto_questions.iloc[1].to_dict()"
   ]
  },
  {
   "cell_type": "code",
   "execution_count": 102,
   "metadata": {},
   "outputs": [
    {
     "data": {
      "text/plain": [
       "1598"
      ]
     },
     "execution_count": 102,
     "metadata": {},
     "output_type": "execute_result"
    }
   ],
   "source": [
    "len(df_naruto_questions)"
   ]
  },
  {
   "cell_type": "code",
   "execution_count": 62,
   "metadata": {},
   "outputs": [],
   "source": [
    "df_naruto_questions.to_parquet(\"../data/anime_stackexchange/anime_questions.parquet\", index=False)"
   ]
  },
  {
   "cell_type": "markdown",
   "metadata": {},
   "source": [
    "# Use StackOverflow API to fetch answers"
   ]
  },
  {
   "cell_type": "code",
   "execution_count": 94,
   "metadata": {},
   "outputs": [],
   "source": [
    "import requests\n",
    "from functools import lru_cache\n",
    "import time\n",
    "\n",
    "url_template = \"https://api.stackexchange.com/2.3/questions/{question_id}/answers?order=desc&sort=votes&site=anime&filter=!6WPIomp1ahFmr&key=rl_G7gpPaxtnuYzX2QLSatB3fQGq&pagesize=100&page={page}\"\n",
    "def get_answers_by_question(question_ids: list, page: int = 1):\n",
    "  question_ids_param = \";\".join([str(q) for q in question_ids])\n",
    "  url = url_template.format(question_id=question_ids_param, page=page)\n",
    "  response = requests.request(\"GET\", url)\n",
    "  if response.status_code != 200:\n",
    "    print(f\"Error: {response.text}\")\n",
    "    return []\n",
    "  \n",
    "  res = response.json()\n",
    "  return res"
   ]
  },
  {
   "cell_type": "code",
   "execution_count": 130,
   "metadata": {},
   "outputs": [],
   "source": [
    "post_ids = df_naruto_questions[\"Id\"].unique()\n",
    "batch_size = 5\n",
    "max_reqs_per_sec = 30\n",
    "batches = [post_ids[i:i + batch_size] for i in range(0, len(post_ids), batch_size)]\n",
    "answers = []\n",
    "for batch in tqdm(batches):\n",
    "    page = 1\n",
    "    while True:\n",
    "        res = get_answers_by_question(batch, page=page)\n",
    "        if len(res[\"items\"]) == 0:\n",
    "            print(\"No items found: \", batch)\n",
    "        \n",
    "        answers.extend(res[\"items\"])\n",
    "        time.sleep(1/max_reqs_per_sec)\n",
    "\n",
    "        if not res[\"has_more\"]:\n",
    "            break\n",
    "        \n",
    "        print(\"Fetch more page: \", page)\n",
    "        page += 1"
   ]
  },
  {
   "cell_type": "code",
   "execution_count": 124,
   "metadata": {},
   "outputs": [
    {
     "data": {
      "text/plain": [
       "3066"
      ]
     },
     "execution_count": 124,
     "metadata": {},
     "output_type": "execute_result"
    }
   ],
   "source": [
    "len(answers)"
   ]
  },
  {
   "cell_type": "code",
   "execution_count": 125,
   "metadata": {},
   "outputs": [
    {
     "data": {
      "text/html": [
       "<div>\n",
       "<style scoped>\n",
       "    .dataframe tbody tr th:only-of-type {\n",
       "        vertical-align: middle;\n",
       "    }\n",
       "\n",
       "    .dataframe tbody tr th {\n",
       "        vertical-align: top;\n",
       "    }\n",
       "\n",
       "    .dataframe thead th {\n",
       "        text-align: right;\n",
       "    }\n",
       "</style>\n",
       "<table border=\"1\" class=\"dataframe\">\n",
       "  <thead>\n",
       "    <tr style=\"text-align: right;\">\n",
       "      <th></th>\n",
       "      <th>tags</th>\n",
       "      <th>owner</th>\n",
       "      <th>is_accepted</th>\n",
       "      <th>score</th>\n",
       "      <th>last_activity_date</th>\n",
       "      <th>last_edit_date</th>\n",
       "      <th>creation_date</th>\n",
       "      <th>answer_id</th>\n",
       "      <th>question_id</th>\n",
       "      <th>content_license</th>\n",
       "      <th>body_markdown</th>\n",
       "      <th>title</th>\n",
       "      <th>community_owned_date</th>\n",
       "    </tr>\n",
       "  </thead>\n",
       "  <tbody>\n",
       "    <tr>\n",
       "      <th>0</th>\n",
       "      <td>[]</td>\n",
       "      <td>{'account_id': 456935, 'reputation': 386, 'use...</td>\n",
       "      <td>True</td>\n",
       "      <td>27</td>\n",
       "      <td>1364337700</td>\n",
       "      <td>1.364338e+09</td>\n",
       "      <td>1364333863</td>\n",
       "      <td>3052</td>\n",
       "      <td>76</td>\n",
       "      <td>CC BY-SA 3.0</td>\n",
       "      <td>It does not seem like any of Madara&amp;#39;s new ...</td>\n",
       "      <td>What are Madara Uchiha&amp;#39;s weaknesses?</td>\n",
       "      <td>NaN</td>\n",
       "    </tr>\n",
       "    <tr>\n",
       "      <th>1</th>\n",
       "      <td>[]</td>\n",
       "      <td>{'account_id': 466356, 'reputation': 19244, 'u...</td>\n",
       "      <td>True</td>\n",
       "      <td>20</td>\n",
       "      <td>1421706122</td>\n",
       "      <td>1.421706e+09</td>\n",
       "      <td>1355259956</td>\n",
       "      <td>22</td>\n",
       "      <td>12</td>\n",
       "      <td>CC BY-SA 3.0</td>\n",
       "      <td>The following:\\r\\n\\r\\n - **Uchiha Itachi** - W...</td>\n",
       "      <td>List of surviving Uchiha</td>\n",
       "      <td>NaN</td>\n",
       "    </tr>\n",
       "    <tr>\n",
       "      <th>2</th>\n",
       "      <td>[]</td>\n",
       "      <td>{'account_id': 92100, 'reputation': 15315, 'us...</td>\n",
       "      <td>False</td>\n",
       "      <td>14</td>\n",
       "      <td>1360849535</td>\n",
       "      <td>1.360850e+09</td>\n",
       "      <td>1360849216</td>\n",
       "      <td>2478</td>\n",
       "      <td>10</td>\n",
       "      <td>CC BY-SA 3.0</td>\n",
       "      <td>When Edo Tensei ends, the summoned soul is fre...</td>\n",
       "      <td>How can Madara still stick around even after t...</td>\n",
       "      <td>NaN</td>\n",
       "    </tr>\n",
       "    <tr>\n",
       "      <th>3</th>\n",
       "      <td>[]</td>\n",
       "      <td>{'account_id': 483060, 'reputation': 5502, 'us...</td>\n",
       "      <td>True</td>\n",
       "      <td>14</td>\n",
       "      <td>1545329002</td>\n",
       "      <td>1.545329e+09</td>\n",
       "      <td>1387563470</td>\n",
       "      <td>6467</td>\n",
       "      <td>10</td>\n",
       "      <td>CC BY-SA 4.0</td>\n",
       "      <td>Firstly, the most important thing to know is t...</td>\n",
       "      <td>How can Madara still stick around even after t...</td>\n",
       "      <td>NaN</td>\n",
       "    </tr>\n",
       "    <tr>\n",
       "      <th>4</th>\n",
       "      <td>[]</td>\n",
       "      <td>{'account_id': 466356, 'reputation': 19244, 'u...</td>\n",
       "      <td>False</td>\n",
       "      <td>12</td>\n",
       "      <td>1360851075</td>\n",
       "      <td>1.360851e+09</td>\n",
       "      <td>1355259492</td>\n",
       "      <td>15</td>\n",
       "      <td>10</td>\n",
       "      <td>CC BY-SA 3.0</td>\n",
       "      <td>From what I understood, if you know the Edo Te...</td>\n",
       "      <td>How can Madara still stick around even after t...</td>\n",
       "      <td>NaN</td>\n",
       "    </tr>\n",
       "  </tbody>\n",
       "</table>\n",
       "</div>"
      ],
      "text/plain": [
       "  tags                                              owner  is_accepted  score  \\\n",
       "0   []  {'account_id': 456935, 'reputation': 386, 'use...         True     27   \n",
       "1   []  {'account_id': 466356, 'reputation': 19244, 'u...         True     20   \n",
       "2   []  {'account_id': 92100, 'reputation': 15315, 'us...        False     14   \n",
       "3   []  {'account_id': 483060, 'reputation': 5502, 'us...         True     14   \n",
       "4   []  {'account_id': 466356, 'reputation': 19244, 'u...        False     12   \n",
       "\n",
       "   last_activity_date  last_edit_date  creation_date  answer_id  question_id  \\\n",
       "0          1364337700    1.364338e+09     1364333863       3052           76   \n",
       "1          1421706122    1.421706e+09     1355259956         22           12   \n",
       "2          1360849535    1.360850e+09     1360849216       2478           10   \n",
       "3          1545329002    1.545329e+09     1387563470       6467           10   \n",
       "4          1360851075    1.360851e+09     1355259492         15           10   \n",
       "\n",
       "  content_license                                      body_markdown  \\\n",
       "0    CC BY-SA 3.0  It does not seem like any of Madara&#39;s new ...   \n",
       "1    CC BY-SA 3.0  The following:\\r\\n\\r\\n - **Uchiha Itachi** - W...   \n",
       "2    CC BY-SA 3.0  When Edo Tensei ends, the summoned soul is fre...   \n",
       "3    CC BY-SA 4.0  Firstly, the most important thing to know is t...   \n",
       "4    CC BY-SA 3.0  From what I understood, if you know the Edo Te...   \n",
       "\n",
       "                                               title  community_owned_date  \n",
       "0           What are Madara Uchiha&#39;s weaknesses?                   NaN  \n",
       "1                           List of surviving Uchiha                   NaN  \n",
       "2  How can Madara still stick around even after t...                   NaN  \n",
       "3  How can Madara still stick around even after t...                   NaN  \n",
       "4  How can Madara still stick around even after t...                   NaN  "
      ]
     },
     "execution_count": 125,
     "metadata": {},
     "output_type": "execute_result"
    }
   ],
   "source": [
    "df_answers = pd.DataFrame(answers)\n",
    "df_answers.head()"
   ]
  },
  {
   "cell_type": "code",
   "execution_count": 126,
   "metadata": {},
   "outputs": [],
   "source": [
    "df_answers[\"question_id\"] = df_answers[\"question_id\"].astype('str')\n",
    "df_joint = df_answers.merge(df_naruto_questions, left_on=[\"question_id\"], right_on=[\"Id\"], suffixes=('_answer', '_question'))"
   ]
  },
  {
   "cell_type": "code",
   "execution_count": 127,
   "metadata": {},
   "outputs": [
    {
     "data": {
      "text/plain": [
       "142"
      ]
     },
     "execution_count": 127,
     "metadata": {},
     "output_type": "execute_result"
    }
   ],
   "source": [
    "len(set(df_naruto_questions[\"Id\"].unique()) - set(df_answers[\"question_id\"].unique()))"
   ]
  },
  {
   "cell_type": "code",
   "execution_count": 128,
   "metadata": {},
   "outputs": [
    {
     "data": {
      "text/html": [
       "<div>\n",
       "<style scoped>\n",
       "    .dataframe tbody tr th:only-of-type {\n",
       "        vertical-align: middle;\n",
       "    }\n",
       "\n",
       "    .dataframe tbody tr th {\n",
       "        vertical-align: top;\n",
       "    }\n",
       "\n",
       "    .dataframe thead th {\n",
       "        text-align: right;\n",
       "    }\n",
       "</style>\n",
       "<table border=\"1\" class=\"dataframe\">\n",
       "  <thead>\n",
       "    <tr style=\"text-align: right;\">\n",
       "      <th></th>\n",
       "      <th>Id</th>\n",
       "      <th>PostTypeId</th>\n",
       "      <th>AcceptedAnswerId</th>\n",
       "      <th>CreationDate</th>\n",
       "      <th>Score</th>\n",
       "      <th>ViewCount</th>\n",
       "      <th>Body</th>\n",
       "      <th>OwnerUserId</th>\n",
       "      <th>LastEditorUserId</th>\n",
       "      <th>LastEditDate</th>\n",
       "      <th>...</th>\n",
       "      <th>Tags</th>\n",
       "      <th>AnswerCount</th>\n",
       "      <th>CommentCount</th>\n",
       "      <th>ContentLicense</th>\n",
       "      <th>ClosedDate</th>\n",
       "      <th>ParentId</th>\n",
       "      <th>OwnerDisplayName</th>\n",
       "      <th>FavoriteCount</th>\n",
       "      <th>LastEditorDisplayName</th>\n",
       "      <th>CommunityOwnedDate</th>\n",
       "    </tr>\n",
       "  </thead>\n",
       "  <tbody>\n",
       "    <tr>\n",
       "      <th>7</th>\n",
       "      <td>10</td>\n",
       "      <td>1</td>\n",
       "      <td>6467</td>\n",
       "      <td>2012-12-11T20:51:17.307</td>\n",
       "      <td>18</td>\n",
       "      <td>92815</td>\n",
       "      <td>&lt;p&gt;Edo Tensei is a technique to revive the dea...</td>\n",
       "      <td>32</td>\n",
       "      <td>27</td>\n",
       "      <td>2013-12-20T18:09:17.177</td>\n",
       "      <td>...</td>\n",
       "      <td>[&lt;naruto&gt;]</td>\n",
       "      <td>3</td>\n",
       "      <td>2</td>\n",
       "      <td>CC BY-SA 3.0</td>\n",
       "      <td>NaN</td>\n",
       "      <td>NaN</td>\n",
       "      <td>NaN</td>\n",
       "      <td>NaN</td>\n",
       "      <td>NaN</td>\n",
       "      <td>NaN</td>\n",
       "    </tr>\n",
       "  </tbody>\n",
       "</table>\n",
       "<p>1 rows × 22 columns</p>\n",
       "</div>"
      ],
      "text/plain": [
       "   Id PostTypeId AcceptedAnswerId             CreationDate Score ViewCount  \\\n",
       "7  10          1             6467  2012-12-11T20:51:17.307    18     92815   \n",
       "\n",
       "                                                Body OwnerUserId  \\\n",
       "7  <p>Edo Tensei is a technique to revive the dea...          32   \n",
       "\n",
       "  LastEditorUserId             LastEditDate  ...        Tags AnswerCount  \\\n",
       "7               27  2013-12-20T18:09:17.177  ...  [<naruto>]           3   \n",
       "\n",
       "  CommentCount ContentLicense ClosedDate ParentId OwnerDisplayName  \\\n",
       "7            2   CC BY-SA 3.0        NaN      NaN              NaN   \n",
       "\n",
       "  FavoriteCount LastEditorDisplayName CommunityOwnedDate  \n",
       "7           NaN                   NaN                NaN  \n",
       "\n",
       "[1 rows x 22 columns]"
      ]
     },
     "execution_count": 128,
     "metadata": {},
     "output_type": "execute_result"
    }
   ],
   "source": [
    "df_naruto_questions[df_naruto_questions[\"Id\"]==\"10\"]"
   ]
  },
  {
   "cell_type": "code",
   "execution_count": 129,
   "metadata": {},
   "outputs": [
    {
     "data": {
      "text/html": [
       "<div>\n",
       "<style scoped>\n",
       "    .dataframe tbody tr th:only-of-type {\n",
       "        vertical-align: middle;\n",
       "    }\n",
       "\n",
       "    .dataframe tbody tr th {\n",
       "        vertical-align: top;\n",
       "    }\n",
       "\n",
       "    .dataframe thead th {\n",
       "        text-align: right;\n",
       "    }\n",
       "</style>\n",
       "<table border=\"1\" class=\"dataframe\">\n",
       "  <thead>\n",
       "    <tr style=\"text-align: right;\">\n",
       "      <th></th>\n",
       "      <th>tags</th>\n",
       "      <th>owner</th>\n",
       "      <th>is_accepted</th>\n",
       "      <th>score</th>\n",
       "      <th>last_activity_date</th>\n",
       "      <th>last_edit_date</th>\n",
       "      <th>creation_date</th>\n",
       "      <th>answer_id</th>\n",
       "      <th>question_id</th>\n",
       "      <th>content_license</th>\n",
       "      <th>body_markdown</th>\n",
       "      <th>title</th>\n",
       "      <th>community_owned_date</th>\n",
       "    </tr>\n",
       "  </thead>\n",
       "  <tbody>\n",
       "    <tr>\n",
       "      <th>2</th>\n",
       "      <td>[]</td>\n",
       "      <td>{'account_id': 92100, 'reputation': 15315, 'us...</td>\n",
       "      <td>False</td>\n",
       "      <td>14</td>\n",
       "      <td>1360849535</td>\n",
       "      <td>1.360850e+09</td>\n",
       "      <td>1360849216</td>\n",
       "      <td>2478</td>\n",
       "      <td>10</td>\n",
       "      <td>CC BY-SA 3.0</td>\n",
       "      <td>When Edo Tensei ends, the summoned soul is fre...</td>\n",
       "      <td>How can Madara still stick around even after t...</td>\n",
       "      <td>NaN</td>\n",
       "    </tr>\n",
       "    <tr>\n",
       "      <th>3</th>\n",
       "      <td>[]</td>\n",
       "      <td>{'account_id': 483060, 'reputation': 5502, 'us...</td>\n",
       "      <td>True</td>\n",
       "      <td>14</td>\n",
       "      <td>1545329002</td>\n",
       "      <td>1.545329e+09</td>\n",
       "      <td>1387563470</td>\n",
       "      <td>6467</td>\n",
       "      <td>10</td>\n",
       "      <td>CC BY-SA 4.0</td>\n",
       "      <td>Firstly, the most important thing to know is t...</td>\n",
       "      <td>How can Madara still stick around even after t...</td>\n",
       "      <td>NaN</td>\n",
       "    </tr>\n",
       "    <tr>\n",
       "      <th>4</th>\n",
       "      <td>[]</td>\n",
       "      <td>{'account_id': 466356, 'reputation': 19244, 'u...</td>\n",
       "      <td>False</td>\n",
       "      <td>12</td>\n",
       "      <td>1360851075</td>\n",
       "      <td>1.360851e+09</td>\n",
       "      <td>1355259492</td>\n",
       "      <td>15</td>\n",
       "      <td>10</td>\n",
       "      <td>CC BY-SA 3.0</td>\n",
       "      <td>From what I understood, if you know the Edo Te...</td>\n",
       "      <td>How can Madara still stick around even after t...</td>\n",
       "      <td>NaN</td>\n",
       "    </tr>\n",
       "  </tbody>\n",
       "</table>\n",
       "</div>"
      ],
      "text/plain": [
       "  tags                                              owner  is_accepted  score  \\\n",
       "2   []  {'account_id': 92100, 'reputation': 15315, 'us...        False     14   \n",
       "3   []  {'account_id': 483060, 'reputation': 5502, 'us...         True     14   \n",
       "4   []  {'account_id': 466356, 'reputation': 19244, 'u...        False     12   \n",
       "\n",
       "   last_activity_date  last_edit_date  creation_date  answer_id question_id  \\\n",
       "2          1360849535    1.360850e+09     1360849216       2478          10   \n",
       "3          1545329002    1.545329e+09     1387563470       6467          10   \n",
       "4          1360851075    1.360851e+09     1355259492         15          10   \n",
       "\n",
       "  content_license                                      body_markdown  \\\n",
       "2    CC BY-SA 3.0  When Edo Tensei ends, the summoned soul is fre...   \n",
       "3    CC BY-SA 4.0  Firstly, the most important thing to know is t...   \n",
       "4    CC BY-SA 3.0  From what I understood, if you know the Edo Te...   \n",
       "\n",
       "                                               title  community_owned_date  \n",
       "2  How can Madara still stick around even after t...                   NaN  \n",
       "3  How can Madara still stick around even after t...                   NaN  \n",
       "4  How can Madara still stick around even after t...                   NaN  "
      ]
     },
     "execution_count": 129,
     "metadata": {},
     "output_type": "execute_result"
    }
   ],
   "source": [
    "df_answers[df_answers[\"question_id\"]==\"10\"]"
   ]
  },
  {
   "cell_type": "code",
   "execution_count": 131,
   "metadata": {},
   "outputs": [],
   "source": [
    "df_answers.to_parquet(\"../data/anime_stackexchange/anime_answers.parquet\", index=False)"
   ]
  },
  {
   "cell_type": "code",
   "execution_count": 132,
   "metadata": {},
   "outputs": [],
   "source": [
    "df_joint.to_parquet(\"../data/anime_stackexchange/anime_question_answers.parquet\", index=False)"
   ]
  },
  {
   "cell_type": "markdown",
   "metadata": {},
   "source": [
    "## Preprocessing"
   ]
  },
  {
   "cell_type": "code",
   "execution_count": 72,
   "metadata": {},
   "outputs": [
    {
     "name": "stdout",
     "output_type": "stream",
     "text": [
      "Question: How can Madara still stick around even after the Edo Tensei had been ended?\n",
      "Answer: Edo Tensei is a technique to revive the dead, and bind their souls into living bodies. However, after releasing the technique, all of the dead should get back into being dead.How can Madara still stick around even after the Edo Tensei had been ended? I am not sure if it was something that we needed to think about and figure out by ourselves or is it yet to be revealed?\n",
      "Tags: ['<naruto>']\n",
      "---\n",
      "Question: List of surviving Uchiha\n",
      "Answer: I originally thought that the only surviving members after the Uchiha massacre were Sasuke and Itachi, but more and more seem to be revealed.  Is there a canonical list of surviving members of the Uchiha clan after the massacre?\n",
      "Tags: ['<naruto>']\n",
      "---\n",
      "Question: What are Madara Uchiha's weaknesses?\n",
      "Answer: At his current state, how could Madara possibly be defeated?Any physical attack/Taijutsu would be easily deflected by either:  The Susano'o  The Gunbai (war fan, which proved to easily negate a Bijuudama)  Shinra Tensei (which wasn't seen yet, but we have to assume he's capable of it). And I'm not even starting to talk about the Rikudo mode.Any non-physical attack would be easily absorbed by the Preta Rinnegan path. There aren't many ultra-powerful genjutsu ninja who can hope to trap him in a genjutsu for more than 2 seconds. And in the offshoot that something does hurt him, he'd just regenerate. He's a zombie.What weakness does Madara have that could be exploited to harm him? They'd have to damage him badly to hope for a seal.\n",
      "Tags: ['<naruto>']\n",
      "---\n",
      "Question: How is it that a Sharingan can work when it's been transplanted?\n",
      "Answer: If the various \"superpower\" ninja traits are considered \"blood traits,\" how is it someone like Kakashi, who is in no way related to the Uchiha clan, can use the Sharingan Eye technique? More fully: would transplanting work on any bloodline trait power? If someone had a bloodline trait that worked on arms, could they just transplant their arm onto another person and then there would be two people with that technique?\n",
      "Tags: ['<naruto>']\n",
      "---\n",
      "Question: Do ninjas have extended lifespans?\n",
      "Answer: Most ninjas probably don't live very long by the nature of their work. They die on missions, in wars, in raids, while being ambushed by other ninjas, during testing, etc. However, the handful of ninjas we have seen (e.g. The Third Hokage, as well as Tsunade and Jiraiya) who've lived past the usual lifespan seem to be of very advanced age.Do ninjas have a longer natural lifespan that is simply cut short by the nature of their work?\n",
      "Tags: ['<naruto>']\n",
      "---\n"
     ]
    }
   ],
   "source": [
    "# Preview data by first n rows. The format row\n",
    "# Question: {Title}\n",
    "# Answer: {Body}\n",
    "# Tags: {Tags}\n",
    "def remove_thumb_substring(text):\n",
    "    while \"thumb\" in text:\n",
    "        start_thumb = text.find(\"thumb\")\n",
    "        end_thumb = start_thumb\n",
    "        while end_thumb < len(text) and end_thumb != -1 and text[end_thumb] != \"|\":\n",
    "            end_thumb += 1\n",
    "        text = text[:start_thumb] + text[end_thumb+1:]\n",
    "    return text\n",
    "\n",
    "def remove_by_regex(text, template, subst = \"\"):\n",
    "    return re.sub(template, subst, text, 0, re.MULTILINE)\n",
    "\n",
    "\n",
    "\n",
    "for index, row in df_naruto.head(5).iterrows():\n",
    "    print(f\"Question: {row['Title']}\")\n",
    "    soup = BeautifulSoup(row['Body'], 'html.parser')\n",
    "    txt = soup.text\n",
    "    txt = remove_by_regex(txt, r\"(\\w)+\\|\")\n",
    "    txt = remove_by_regex(txt, r\"\\n\\r|\\n|\\r\")\n",
    "    print(f\"Answer: {txt}\")\n",
    "    print(f\"Tags: {row['Tags']}\")\n",
    "    print(\"---\")"
   ]
  },
  {
   "cell_type": "code",
   "execution_count": 74,
   "metadata": {},
   "outputs": [],
   "source": [
    "new_chunk_data = []\n",
    "max_length = 4096\n",
    "chunk_overlap = 200\n",
    "text_splitter = RecursiveCharacterTextSplitter(\n",
    "    # Set a really small chunk size, just to show.\n",
    "    chunk_size=max_length,\n",
    "    chunk_overlap=chunk_overlap,\n",
    "    length_function=lambda d: len(d.split()),\n",
    "    is_separator_regex=False,\n",
    "    separators=[\"\\n\\n\", \"\\n\", \". \", \".\\n\", \"? \", \"?\\n\", \"! \", \"!\\n\", \".\"],\n",
    ")\n",
    "data = []\n",
    "for row in df_naruto.to_dict(orient=\"records\"):\n",
    "    soup = BeautifulSoup(row['Body'], 'html.parser')\n",
    "    txt = soup.text\n",
    "    txt = remove_by_regex(txt, r\"(\\w)+\\|\")\n",
    "    txt = remove_by_regex(txt, r\"\\n\\r|\\n|\\r\")\n",
    "    data.append({\n",
    "        \"instruction\": f\"Question: {row['Title']}\",\n",
    "        \"input\": \"\",\n",
    "        \"response\": txt,\n",
    "    })\n",
    "\n",
    "for i in range(len(data)):\n",
    "    texts = text_splitter.create_documents([data[i][\"response\"]])\n",
    "    for text in texts:\n",
    "        new_chunk_data.append({\n",
    "            \"instruction\": data[i][\"instruction\"],\n",
    "            \"input\": data[i][\"input\"],\n",
    "            \"response\": text.page_content,\n",
    "        })"
   ]
  },
  {
   "cell_type": "code",
   "execution_count": 76,
   "metadata": {},
   "outputs": [],
   "source": [
    "with open(\"prompt_anime_stackexchange.txt\", \"w\") as f:\n",
    "    for prompt in new_chunk_data:\n",
    "        f.write(json.dumps(prompt) + \"\\n\")"
   ]
  },
  {
   "cell_type": "code",
   "execution_count": 21,
   "metadata": {},
   "outputs": [],
   "source": [
    "import numpy as np\n",
    "from sentence_transformers import SentenceTransformer, util\n",
    "from optimum.onnxruntime import ORTModelForFeatureExtraction"
   ]
  },
  {
   "cell_type": "code",
   "execution_count": 3,
   "metadata": {},
   "outputs": [
    {
     "name": "stderr",
     "output_type": "stream",
     "text": [
      "/opt/homebrew/Caskroom/miniconda/base/envs/semantic_search/lib/python3.10/site-packages/huggingface_hub/file_download.py:1132: FutureWarning: `resume_download` is deprecated and will be removed in version 1.0.0. Downloads always resume when possible. If you want to force a new download, use `force_download=True`.\n",
      "  warnings.warn(\n",
      "<All keys matched successfully>\n"
     ]
    }
   ],
   "source": [
    "import numpy as np\n",
    "from sentence_transformers import SentenceTransformer, util\n",
    "from optimum.onnxruntime import ORTModelForFeatureExtraction\n",
    "model = SentenceTransformer(\"nomic-ai/nomic-embed-text-v1.5\", device=\"mps\", trust_remote_code=True)"
   ]
  },
  {
   "cell_type": "code",
   "execution_count": 5,
   "metadata": {},
   "outputs": [],
   "source": [
    "import json \n",
    "data = []\n",
    "with open(\"prompt_anime_stackexchange.txt\") as f:\n",
    "    for line in f:\n",
    "        data.append(json.loads(line))"
   ]
  },
  {
   "cell_type": "code",
   "execution_count": null,
   "metadata": {},
   "outputs": [],
   "source": []
  },
  {
   "cell_type": "code",
   "execution_count": 22,
   "metadata": {},
   "outputs": [],
   "source": [
    "document_template = \"search_document: {content}\"\n",
    "question_docs = np.array([document_template.format(content=doc[\"instruction\"]) for doc in data])\n",
    "response_docs = np.array([document_template.format(content=doc[\"response\"]) for doc in data])"
   ]
  },
  {
   "cell_type": "code",
   "execution_count": 13,
   "metadata": {},
   "outputs": [
    {
     "name": "stderr",
     "output_type": "stream",
     "text": [
      "Batches: 100%|██████████| 688/688 [00:50<00:00, 13.62it/s]\n",
      "Batches: 100%|██████████| 688/688 [04:04<00:00,  2.81it/s]\n"
     ]
    }
   ],
   "source": [
    "questions_embeddings = model.encode(question_docs, normalize_embeddings=True, convert_to_numpy=True, show_progress_bar=True)\n",
    "document_embeddings = model.encode(response_docs, normalize_embeddings=True, convert_to_numpy=True, show_progress_bar=True)"
   ]
  },
  {
   "cell_type": "code",
   "execution_count": 14,
   "metadata": {},
   "outputs": [],
   "source": [
    "import faiss"
   ]
  },
  {
   "cell_type": "code",
   "execution_count": 15,
   "metadata": {},
   "outputs": [],
   "source": [
    "question_index = faiss.IndexFlatIP(questions_embeddings.shape[1])\n",
    "question_index.add(questions_embeddings)\n",
    "\n",
    "document_index = faiss.IndexFlatIP(document_embeddings.shape[1])\n",
    "document_index.add(document_embeddings)"
   ]
  },
  {
   "cell_type": "code",
   "execution_count": 24,
   "metadata": {},
   "outputs": [],
   "source": [
    "def search_similar_question(question, top_k=5):\n",
    "    question_embedding = model.encode([question], convert_to_numpy=True, normalize_embeddings=True)\n",
    "    scores, question_indices = question_index.search(question_embedding, top_k)\n",
    "    return question_indices[0], scores[0]\n",
    "\n",
    "def search_similar_document(document, top_k=5):\n",
    "    document_embedding = model.encode([document], convert_to_numpy=True, normalize_embeddings=True)\n",
    "    scores, document_indices = document_index.search(document_embedding, top_k)\n",
    "    return document_indices[0], scores[0]"
   ]
  },
  {
   "cell_type": "code",
   "execution_count": 27,
   "metadata": {},
   "outputs": [],
   "source": [
    "def show_document(corpus, indices, scores):\n",
    "    for i, score in zip(indices, scores):\n",
    "        print(f\"Score: {score}\")\n",
    "        print(corpus[i])\n",
    "        print(score)\n",
    "        print(\"----\")"
   ]
  },
  {
   "cell_type": "code",
   "execution_count": 29,
   "metadata": {},
   "outputs": [
    {
     "name": "stdout",
     "output_type": "stream",
     "text": [
      "Score: 0.7615363001823425\n",
      "search_document: Question: Is Naruto still a Genin after becoming Hokage?\n",
      "0.7615363\n",
      "----\n",
      "Score: 0.7615363001823425\n",
      "search_document: Question: Is Naruto still a Genin after becoming Hokage?\n",
      "0.7615363\n",
      "----\n",
      "Score: 0.7615363001823425\n",
      "search_document: Question: Is Naruto still a Genin after becoming Hokage?\n",
      "0.7615363\n",
      "----\n",
      "Score: 0.7615363001823425\n",
      "search_document: Question: Is Naruto still a Genin after becoming Hokage?\n",
      "0.7615363\n",
      "----\n",
      "Score: 0.7615363001823425\n",
      "search_document: Question: Is Naruto still a Genin after becoming Hokage?\n",
      "0.7615363\n",
      "----\n"
     ]
    }
   ],
   "source": [
    "show_document(question_docs, *search_similar_question(\"How to become a Hokage in Naruto?\"))"
   ]
  },
  {
   "cell_type": "code",
   "execution_count": null,
   "metadata": {},
   "outputs": [],
   "source": []
  }
 ],
 "metadata": {
  "kernelspec": {
   "display_name": "semantic_search",
   "language": "python",
   "name": "python3"
  },
  "language_info": {
   "codemirror_mode": {
    "name": "ipython",
    "version": 3
   },
   "file_extension": ".py",
   "mimetype": "text/x-python",
   "name": "python",
   "nbconvert_exporter": "python",
   "pygments_lexer": "ipython3",
   "version": "3.10.0"
  }
 },
 "nbformat": 4,
 "nbformat_minor": 2
}
