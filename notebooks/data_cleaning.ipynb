{
 "cells": [
  {
   "cell_type": "code",
   "execution_count": 1,
   "metadata": {},
   "outputs": [
    {
     "name": "stdout",
     "output_type": "stream",
     "text": [
      "[2024-05-16 14:42:24,431] [INFO] [real_accelerator.py:133:get_accelerator] Setting ds_accelerator to cuda (auto detect)\n"
     ]
    },
    {
     "name": "stderr",
     "output_type": "stream",
     "text": [
      "NOTE: Redirects are currently not supported in Windows or MacOs.\n"
     ]
    }
   ],
   "source": [
    "from glob import glob\n",
    "import json\n",
    "import mwparserfromhell\n",
    "from tqdm import trange\n",
    "from transformers import AutoModel, AutoTokenizer, pipeline\n",
    "from optimum.onnxruntime import ORTModelForFeatureExtraction\n",
    "from sentence_transformers import SentenceTransformer\n",
    "import numpy as np"
   ]
  },
  {
   "cell_type": "code",
   "execution_count": 2,
   "metadata": {},
   "outputs": [],
   "source": [
    "data = []\n",
    "for filename in glob('../data/*/*.json'):\n",
    "    lines = json.load(open(filename))\n",
    "    data.extend(lines)"
   ]
  },
  {
   "cell_type": "code",
   "execution_count": 3,
   "metadata": {},
   "outputs": [
    {
     "name": "stderr",
     "output_type": "stream",
     "text": [
      "100%|██████████| 18739/18739 [00:30<00:00, 609.85it/s] \n"
     ]
    }
   ],
   "source": [
    "for i in trange(len(data)):\n",
    "    data[i][\"id\"] = i\n",
    "    if 'wikitext' in data[i]:\n",
    "        data[i]['content'] = mwparserfromhell.parse(data[i]['wikitext']).strip_code().strip()"
   ]
  },
  {
   "cell_type": "code",
   "execution_count": 4,
   "metadata": {},
   "outputs": [
    {
     "name": "stderr",
     "output_type": "stream",
     "text": [
      "100%|██████████| 18739/18739 [01:11<00:00, 261.25it/s]\n"
     ]
    }
   ],
   "source": [
    "# put into elastiscearch\n",
    "from elasticsearch import Elasticsearch\n",
    "es = Elasticsearch()\n",
    "# es.indices.create(index='wikipedia', ignore=400)\n",
    "for i in trange(len(data)):\n",
    "    es.index(index='naruto_wiki', id=i, body=data[i])\n"
   ]
  },
  {
   "cell_type": "code",
   "execution_count": 2,
   "metadata": {},
   "outputs": [
    {
     "data": {
      "application/vnd.jupyter.widget-view+json": {
       "model_id": "622eaabd0778420abaf41562ad000348",
       "version_major": 2,
       "version_minor": 0
      },
      "text/plain": [
       "modules.json:   0%|          | 0.00/229 [00:00<?, ?B/s]"
      ]
     },
     "metadata": {},
     "output_type": "display_data"
    },
    {
     "data": {
      "application/vnd.jupyter.widget-view+json": {
       "model_id": "241aa7fb6c094d73910b9a7602e4b699",
       "version_major": 2,
       "version_minor": 0
      },
      "text/plain": [
       "config_sentence_transformers.json:   0%|          | 0.00/171 [00:00<?, ?B/s]"
      ]
     },
     "metadata": {},
     "output_type": "display_data"
    },
    {
     "data": {
      "application/vnd.jupyter.widget-view+json": {
       "model_id": "af826fe31d444406b4fac18a2116b320",
       "version_major": 2,
       "version_minor": 0
      },
      "text/plain": [
       "README.md:   0%|          | 0.00/113k [00:00<?, ?B/s]"
      ]
     },
     "metadata": {},
     "output_type": "display_data"
    },
    {
     "data": {
      "application/vnd.jupyter.widget-view+json": {
       "model_id": "e876e207bdfa496c81a4d9b0c78fa8ff",
       "version_major": 2,
       "version_minor": 0
      },
      "text/plain": [
       "sentence_bert_config.json:   0%|          | 0.00/53.0 [00:00<?, ?B/s]"
      ]
     },
     "metadata": {},
     "output_type": "display_data"
    },
    {
     "data": {
      "application/vnd.jupyter.widget-view+json": {
       "model_id": "eee51d84b5534ea6b6eb1edd2855d60c",
       "version_major": 2,
       "version_minor": 0
      },
      "text/plain": [
       "1_Pooling/config.json:   0%|          | 0.00/297 [00:00<?, ?B/s]"
      ]
     },
     "metadata": {},
     "output_type": "display_data"
    }
   ],
   "source": [
    "# embeddings by nomic ai\n",
    "# Use a pipeline as a high-level helper\n",
    "model_name = \"mixedbread-ai/mxbai-embed-large-v1\"\n",
    "model = SentenceTransformer(model_name, device=\"mps\", )\n",
    "# tokenizer = AutoTokenizer.from_pretrained(model_name)\n",
    "# ort_model = ORTModelForFeatureExtraction.from_pretrained(model_name, file_name=\"onnx/model_quantized.onnx\")\n",
    "# onnx_pipeline = pipeline(\"feature-extraction\", model=ort_model, tokenizer=tokenizer)"
   ]
  },
  {
   "cell_type": "code",
   "execution_count": 5,
   "metadata": {},
   "outputs": [],
   "source": [
    "texts = [d['content'] for d in data]\n",
    "batch_size = 256\n",
    "# embeddings = np.zeros((len(texts), ort_model.config))"
   ]
  },
  {
   "cell_type": "code",
   "execution_count": 37,
   "metadata": {},
   "outputs": [
    {
     "name": "stderr",
     "output_type": "stream",
     "text": [
      " 37%|███▋      | 6960/18739 [30:08<20:28,  9.59it/s]    IOStream.flush timed out\n",
      " 56%|█████▌    | 10480/18739 [1:01:32<02:39, 51.94it/s]  "
     ]
    },
    {
     "ename": "",
     "evalue": "",
     "output_type": "error",
     "traceback": [
      "\u001b[1;31mThe Kernel crashed while executing code in the current cell or a previous cell. \n",
      "\u001b[1;31mPlease review the code in the cell(s) to identify a possible cause of the failure. \n",
      "\u001b[1;31mClick <a href='https://aka.ms/vscodeJupyterKernelCrash'>here</a> for more info. \n",
      "\u001b[1;31mView Jupyter <a href='command:jupyter.viewOutput'>log</a> for further details."
     ]
    }
   ],
   "source": [
    "max_length = 512\n",
    "# Split into chunks of max_length if length of input_ids is greater than max_length\n",
    "# we mark chunk with index. Each index will have at least one chunk\n",
    "\n",
    "chunks = []\n",
    "for i in trange(0, len(data)):\n",
    "    text = data[i]['content']\n",
    "    if not text:\n",
    "        continue\n",
    "    inputs = model.tokenize(text)\n",
    "    length = len(inputs[\"input_ids\"])\n",
    "    for j in range(length):\n",
    "        for chunk in range(0, len(inputs[\"input_ids\"][j]), max_length):\n",
    "            chunks.append(\n",
    "                (\n",
    "                    data[i][\"id\"],\n",
    "                    chunk,\n",
    "                    {\n",
    "                        \"input_ids\": inputs[\"input_ids\"][j][\n",
    "                            chunk : chunk + max_length\n",
    "                        ],\n",
    "                        \"attention_mask\": inputs[\"attention_mask\"][j][\n",
    "                            chunk : chunk + max_length\n",
    "                        ],\n",
    "                        \"token_type_ids\": inputs[\"token_type_ids\"][j][\n",
    "                            chunk : chunk + max_length\n",
    "                        ],\n",
    "                    },\n",
    "                )\n",
    "            )"
   ]
  },
  {
   "cell_type": "code",
   "execution_count": 29,
   "metadata": {},
   "outputs": [
    {
     "data": {
      "text/plain": [
       "18739"
      ]
     },
     "execution_count": 29,
     "metadata": {},
     "output_type": "execute_result"
    }
   ],
   "source": [
    "len(data)"
   ]
  },
  {
   "cell_type": "code",
   "execution_count": 35,
   "metadata": {},
   "outputs": [
    {
     "data": {
      "text/plain": [
       "{'input_ids': tensor([[  101,  1996,  2003,  2019,  6058,  4130,  6028,  2008,  4473,  1037,\n",
       "          15544, 10087,  5289,  5310,  2000, 17708,  2039,  2000,  2416,  4230,\n",
       "           2004,  2295,  2027,  2024,  2037,  2219,  1012,  8192,  1996,  5310,\n",
       "           7861,  8270,  2015,  2028,  2030,  2062,  2304, 19278,  2046,  1037,\n",
       "           2303,  1010,  4352,  2068,  2000,  3149,  2037, 15775, 22272,  2046,\n",
       "           2009,  2013,  2307, 12103,  1012,  2000,  2191,  2440,  2224,  1997,\n",
       "           1996,  2303,  1010,  1996,  5310, 28946, 19818,  2015,  2037, 15775,\n",
       "          22272,  2013,  1996,  3284,  1998,  7541,  2391,  2825,  2061,  2008,\n",
       "           2027,  2064,  2031,  1996,  2190,  2825,  2846,  1012,  6583, 22134,\n",
       "           2080,  3127,  4413,  2620,  1010,  5530,  2403,  1011,  2321,  2320,\n",
       "           2037, 15775, 22272,  8039,  1996,  2303,  1010,  2027,  2024,  2445,\n",
       "           3143,  2491,  1997,  2009,  1010,  4352,  2068,  2000,  5630,  2035,\n",
       "           1997,  2049,  4506,  1010,  2049,  2224,  1997, 18414, 10422,  1010,\n",
       "           1998,  2130,  3713,  2083,  2009,  1012,  2004,  1037,  6630,  1997,\n",
       "           2023,  2491,  1010,  1996,  4758,  4230,  1005,  2159,  2202,  2006,\n",
       "           1996,  2168,  3311,  2004,  1996,  5310,  1005,  1055,  1012,  6583,\n",
       "          22134,  2080,  3127,  5139,  2549,  1010,  5530,  2385,  1011,  2459,\n",
       "           1999, 19419,  4048,  8038, 24805,  2912,  4102,  2023,  6028,  2000,\n",
       "           1996,  8038, 24805,  2912,  6338,  1005,  1055,  2568,  2303,  6942,\n",
       "           6028,  1010, 12167,  2006,  1037,  3618,  4094,  1012,  7639,  1064,\n",
       "           2187,  1064,  1037,  2034,  1011,  2711,  7339,  1997,  1996, 15544,\n",
       "          10087,  5289,  1005,  1055,  4207,  4432,  1012,  2043,  3674,  4230,\n",
       "           2024,  4758,  2362,  1996,  5310,  2003,  2583,  2000,  2156,  2083,\n",
       "           2035,  1997,  2037,  2159,  1010,  2947, 25719,  2416,  3584,  4249,\n",
       "           1997,  4432,  2012,  1996,  2168,  2051,  1012,  2007,  2023,  4207,\n",
       "           4432,  1010,  1996,  5310,  2064, 13530,  2037,  4491,  1998,  3073,\n",
       "          16828,  2005,  2037,  6397,  7516,  1012,  2005,  2023,  3114,  1010,\n",
       "           1996,  2416, 10425,  1997,  3255,  2024, 10473,  2043,  2109,  2362,\n",
       "           1010, 15440,  5257,  9887,  1010,  1996,  5783,  1997,  4474,  1010,\n",
       "           1998,  1013,  2030, 11591, 10827,  2373,  2000,  4154,  2037,  6716,\n",
       "           1012,  1996,  6028,  2038,  1037,  4009,  5963,  1012,  2065,  1996,\n",
       "          14542,  2099,  1997,  1996,  6028,  2003,  7153,  1999,  2151,  2126,\n",
       "           2096, 23820, 15775, 22272,  2000,  1996,  4230,  2108,  2109,  2004,\n",
       "           2112,  1997,  1996,  6028,  1010,  2059,  2035,  1997,  1996,  4230,\n",
       "           2097,  2644,  3048,  1998,  2468,  2200,  8211,  2000,  2886,  1012,\n",
       "          26539,  3406,  1005,  1055, 10425,  7639,  1064,  2157,  1064, 26539,\n",
       "           3406,  1005,  1055,  2416, 10425,  1997,  3255,  1006,  2007,  1037,\n",
       "           2047,  4111,  4130,  1007,  1012, 26539,  3406,  2580,  1996,  2416,\n",
       "          10425,  1997,  3255,  2044,  2002,  2001,  2187, 24433,  2076,  1037,\n",
       "           2645,  2007,  7658,  6844,  1012,  4039,  2000,  2693,  2030,  2552,\n",
       "           2006,  2010,  2219,  1010,  2002,  4758,  2416, 18113,  2000,  4287,\n",
       "           2041,  2010,  2097,  2004,  2112,  1997,  2010,  1000,  3255,  1000,\n",
       "           4767,  1012,  6583, 22134,  2080,  3127,  4008,  2509,  1010,  3931,\n",
       "           1017,  1999,  1996,  8750,  1010,  1996,  2034,  2303,  2109,  1010,\n",
       "           6272,  2000,  2010,  5593,  2767,  8038, 22204,  1010,  6583, 22134,\n",
       "           2080,  1024,  2911, 14289,  4181,  2792,  4090,  2620,  2029,  2001,\n",
       "           2010,  8837,  1012,  2000,  2674,  2010,  2397,  2767,  1005,  1055,\n",
       "           2606,  6120,  1010,  2002,  2018,  1996,  2060, 10425,  1005,  2606,\n",
       "          28432,  2000,  1996,  2168,  6120,  1010,  2164,  8407,  1012, 26539,\n",
       "           3406,  1005,  1055,  2034,  2416, 10425,  1997,  3255,  2020,  3605,\n",
       "           1997,  3633,  2008, 10147, 14995,  3148,  2018,  2777,  2043,  2027,\n",
       "           2020,   102]]),\n",
       " 'token_type_ids': tensor([[0, 0, 0, 0, 0, 0, 0, 0, 0, 0, 0, 0, 0, 0, 0, 0, 0, 0, 0, 0, 0, 0, 0, 0,\n",
       "          0, 0, 0, 0, 0, 0, 0, 0, 0, 0, 0, 0, 0, 0, 0, 0, 0, 0, 0, 0, 0, 0, 0, 0,\n",
       "          0, 0, 0, 0, 0, 0, 0, 0, 0, 0, 0, 0, 0, 0, 0, 0, 0, 0, 0, 0, 0, 0, 0, 0,\n",
       "          0, 0, 0, 0, 0, 0, 0, 0, 0, 0, 0, 0, 0, 0, 0, 0, 0, 0, 0, 0, 0, 0, 0, 0,\n",
       "          0, 0, 0, 0, 0, 0, 0, 0, 0, 0, 0, 0, 0, 0, 0, 0, 0, 0, 0, 0, 0, 0, 0, 0,\n",
       "          0, 0, 0, 0, 0, 0, 0, 0, 0, 0, 0, 0, 0, 0, 0, 0, 0, 0, 0, 0, 0, 0, 0, 0,\n",
       "          0, 0, 0, 0, 0, 0, 0, 0, 0, 0, 0, 0, 0, 0, 0, 0, 0, 0, 0, 0, 0, 0, 0, 0,\n",
       "          0, 0, 0, 0, 0, 0, 0, 0, 0, 0, 0, 0, 0, 0, 0, 0, 0, 0, 0, 0, 0, 0, 0, 0,\n",
       "          0, 0, 0, 0, 0, 0, 0, 0, 0, 0, 0, 0, 0, 0, 0, 0, 0, 0, 0, 0, 0, 0, 0, 0,\n",
       "          0, 0, 0, 0, 0, 0, 0, 0, 0, 0, 0, 0, 0, 0, 0, 0, 0, 0, 0, 0, 0, 0, 0, 0,\n",
       "          0, 0, 0, 0, 0, 0, 0, 0, 0, 0, 0, 0, 0, 0, 0, 0, 0, 0, 0, 0, 0, 0, 0, 0,\n",
       "          0, 0, 0, 0, 0, 0, 0, 0, 0, 0, 0, 0, 0, 0, 0, 0, 0, 0, 0, 0, 0, 0, 0, 0,\n",
       "          0, 0, 0, 0, 0, 0, 0, 0, 0, 0, 0, 0, 0, 0, 0, 0, 0, 0, 0, 0, 0, 0, 0, 0,\n",
       "          0, 0, 0, 0, 0, 0, 0, 0, 0, 0, 0, 0, 0, 0, 0, 0, 0, 0, 0, 0, 0, 0, 0, 0,\n",
       "          0, 0, 0, 0, 0, 0, 0, 0, 0, 0, 0, 0, 0, 0, 0, 0, 0, 0, 0, 0, 0, 0, 0, 0,\n",
       "          0, 0, 0, 0, 0, 0, 0, 0, 0, 0, 0, 0, 0, 0, 0, 0, 0, 0, 0, 0, 0, 0, 0, 0,\n",
       "          0, 0, 0, 0, 0, 0, 0, 0, 0, 0, 0, 0, 0, 0, 0, 0, 0, 0, 0, 0, 0, 0, 0, 0,\n",
       "          0, 0, 0, 0, 0, 0, 0, 0, 0, 0, 0, 0, 0, 0, 0, 0, 0, 0, 0, 0, 0, 0, 0, 0,\n",
       "          0, 0, 0, 0, 0, 0, 0, 0, 0, 0, 0, 0, 0, 0, 0, 0, 0, 0, 0, 0, 0, 0, 0, 0,\n",
       "          0, 0, 0, 0, 0, 0, 0, 0, 0, 0, 0, 0, 0, 0, 0, 0, 0, 0, 0, 0, 0, 0, 0, 0,\n",
       "          0, 0, 0, 0, 0, 0, 0, 0, 0, 0, 0, 0, 0, 0, 0, 0, 0, 0, 0, 0, 0, 0, 0, 0,\n",
       "          0, 0, 0, 0, 0, 0, 0, 0]]),\n",
       " 'attention_mask': tensor([[1, 1, 1, 1, 1, 1, 1, 1, 1, 1, 1, 1, 1, 1, 1, 1, 1, 1, 1, 1, 1, 1, 1, 1,\n",
       "          1, 1, 1, 1, 1, 1, 1, 1, 1, 1, 1, 1, 1, 1, 1, 1, 1, 1, 1, 1, 1, 1, 1, 1,\n",
       "          1, 1, 1, 1, 1, 1, 1, 1, 1, 1, 1, 1, 1, 1, 1, 1, 1, 1, 1, 1, 1, 1, 1, 1,\n",
       "          1, 1, 1, 1, 1, 1, 1, 1, 1, 1, 1, 1, 1, 1, 1, 1, 1, 1, 1, 1, 1, 1, 1, 1,\n",
       "          1, 1, 1, 1, 1, 1, 1, 1, 1, 1, 1, 1, 1, 1, 1, 1, 1, 1, 1, 1, 1, 1, 1, 1,\n",
       "          1, 1, 1, 1, 1, 1, 1, 1, 1, 1, 1, 1, 1, 1, 1, 1, 1, 1, 1, 1, 1, 1, 1, 1,\n",
       "          1, 1, 1, 1, 1, 1, 1, 1, 1, 1, 1, 1, 1, 1, 1, 1, 1, 1, 1, 1, 1, 1, 1, 1,\n",
       "          1, 1, 1, 1, 1, 1, 1, 1, 1, 1, 1, 1, 1, 1, 1, 1, 1, 1, 1, 1, 1, 1, 1, 1,\n",
       "          1, 1, 1, 1, 1, 1, 1, 1, 1, 1, 1, 1, 1, 1, 1, 1, 1, 1, 1, 1, 1, 1, 1, 1,\n",
       "          1, 1, 1, 1, 1, 1, 1, 1, 1, 1, 1, 1, 1, 1, 1, 1, 1, 1, 1, 1, 1, 1, 1, 1,\n",
       "          1, 1, 1, 1, 1, 1, 1, 1, 1, 1, 1, 1, 1, 1, 1, 1, 1, 1, 1, 1, 1, 1, 1, 1,\n",
       "          1, 1, 1, 1, 1, 1, 1, 1, 1, 1, 1, 1, 1, 1, 1, 1, 1, 1, 1, 1, 1, 1, 1, 1,\n",
       "          1, 1, 1, 1, 1, 1, 1, 1, 1, 1, 1, 1, 1, 1, 1, 1, 1, 1, 1, 1, 1, 1, 1, 1,\n",
       "          1, 1, 1, 1, 1, 1, 1, 1, 1, 1, 1, 1, 1, 1, 1, 1, 1, 1, 1, 1, 1, 1, 1, 1,\n",
       "          1, 1, 1, 1, 1, 1, 1, 1, 1, 1, 1, 1, 1, 1, 1, 1, 1, 1, 1, 1, 1, 1, 1, 1,\n",
       "          1, 1, 1, 1, 1, 1, 1, 1, 1, 1, 1, 1, 1, 1, 1, 1, 1, 1, 1, 1, 1, 1, 1, 1,\n",
       "          1, 1, 1, 1, 1, 1, 1, 1, 1, 1, 1, 1, 1, 1, 1, 1, 1, 1, 1, 1, 1, 1, 1, 1,\n",
       "          1, 1, 1, 1, 1, 1, 1, 1, 1, 1, 1, 1, 1, 1, 1, 1, 1, 1, 1, 1, 1, 1, 1, 1,\n",
       "          1, 1, 1, 1, 1, 1, 1, 1, 1, 1, 1, 1, 1, 1, 1, 1, 1, 1, 1, 1, 1, 1, 1, 1,\n",
       "          1, 1, 1, 1, 1, 1, 1, 1, 1, 1, 1, 1, 1, 1, 1, 1, 1, 1, 1, 1, 1, 1, 1, 1,\n",
       "          1, 1, 1, 1, 1, 1, 1, 1, 1, 1, 1, 1, 1, 1, 1, 1, 1, 1, 1, 1, 1, 1, 1, 1,\n",
       "          1, 1, 1, 1, 1, 1, 1, 1]])}"
      ]
     },
     "execution_count": 35,
     "metadata": {},
     "output_type": "execute_result"
    }
   ],
   "source": [
    "model.tokenize([data[0][\"content\"]])"
   ]
  }
 ],
 "metadata": {
  "kernelspec": {
   "display_name": "semantic_search",
   "language": "python",
   "name": "python3"
  },
  "language_info": {
   "codemirror_mode": {
    "name": "ipython",
    "version": 3
   },
   "file_extension": ".py",
   "mimetype": "text/x-python",
   "name": "python",
   "nbconvert_exporter": "python",
   "pygments_lexer": "ipython3",
   "version": "3.8.16"
  }
 },
 "nbformat": 4,
 "nbformat_minor": 2
}
