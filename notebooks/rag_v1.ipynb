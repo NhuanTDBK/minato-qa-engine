{
 "cells": [
  {
   "cell_type": "code",
   "execution_count": 34,
   "metadata": {},
   "outputs": [],
   "source": [
    "import openai\n",
    "import os\n",
    "import pandas as pd\n",
    "from elasticsearch import Elasticsearch\n",
    "import evaluate\n"
   ]
  },
  {
   "cell_type": "code",
   "execution_count": 51,
   "metadata": {},
   "outputs": [],
   "source": [
    "from typing import List, Dict\n",
    "from langchain.text_splitter import TokenTextSplitter\n",
    "from langchain.docstore.document import Document\n",
    "\n",
    "def get_num_tokens(content: str):\n",
    "    return 1.2 * len(content.split())\n",
    "\n",
    "def create_numbered_list(content: list):\n",
    "    return \"\\n\".join([f\"{i+1}. {c}\" for i, c in enumerate(content)])\n",
    "\n",
    "def create_numbered_list_with_episode(content: List[Dict[str, str]], episode_key: str = \"episode_number\", content_key: str = \"content\"):\n",
    "    return \"\\n\".join([f\"Episode {c[episode_key]} - {c[content_key]}\" for i, c in enumerate(content)])\n",
    "\n",
    "basic_search_retriever_prompt = \"\"\"\n",
    "You will be given a conversation below and a follow up question. You need to rephrase the follow-up question if needed so it is a standalone question that can be used by the LLM to search the web for information.\n",
    "If it is a writing task or a simple hi, hello rather than a question, you need to return `not_needed` as the response. Just output a string only, no furthur explain!\n",
    "\n",
    "Example:\n",
    "1. Follow up question: What is the capital of France?\n",
    "Rephrased: Capital of france\n",
    "\n",
    "2. Follow up question: What is the population of New York City?\n",
    "Rephrased: Population of New York City\n",
    "\n",
    "3. Follow up question: What is Docker?\n",
    "Rephrased: What is Docker\n",
    "\n",
    "Conversation:\n",
    "{chat_history}\n",
    "\n",
    "Follow up question: {query}\n",
    "Rephrased question:\n",
    "\"\"\"\n",
    "\n",
    "basic_web_search_response_prompt = \"\"\"\n",
    "    You are Naruto QA, an AI model who is comic/manga expert at searching the web and answering user's queries.\n",
    "    Given this query: {query}\n",
    "    Generate a response that is informative and relevant to the user's query based on provided context (the context consits of search results containg a brief description of the content of that page).\n",
    "    You must use this context to answer the user's query in the best way possible. Use an unbaised and journalistic tone in your response. Do not repeat the text.\n",
    "    You must not tell the user to open any link or visit any website to get the answer. You must provide the answer in the response itself. If the user asks for links you can provide them.\n",
    "    Your responses should be medium to long in length be informative and relevant to the user's query. You can use markdowns to format your response. You should use bullet points to list the information. Make sure the answer is not short and is informative.\n",
    "    You have to cite the answer using [number] notation. You must cite the sentences with their relevent context number. You must cite each and every part of the answer so the user can know where the information is coming from.\n",
    "    Place these citations at the end of that particular sentence. You can cite the same sentence multiple times if it is relevant to the user's query like [number1][number2].\n",
    "    However you do not need to cite it using the same number. You can use different numbers to cite the same sentence multiple times. The number refers to the number of the search result (passed in the context) used to generate that part of the answer.\n",
    "\n",
    "    Aything inside the following \\`context\\` HTML block provided below is for your knowledge returned by the search engine and is not shared by the user. You have to answer question on the basis of it and cite the relevant information from it but you do not have to \n",
    "    talk about the context in your response. \n",
    "\n",
    "    <context>\n",
    "    {context}\n",
    "    </context>\n",
    "\n",
    "    If you think there's nothing relevant in the search results, you can say that 'Hmm, sorry I could not find any relevant information on this topic. Would you like me to search again or ask something else?'.\n",
    "    Anything between the \\`context\\` is retrieved from a search engine and is not a part of the conversation with the user\n",
    "\"\"\"\n",
    "\n",
    "background_web_search_response_prompt = \"\"\"You are Naruto QA, an AI model who is comic/manga expert at searching the web and answering user's queries.\n",
    "### Instruction\n",
    "User query: {query}. Generate a response that is informative and relevant to the user's query based on provided context (the context consits of search results containg a brief description of the content of that page)\n",
    "### Guidelines\n",
    "- You must use this context to answer the user's query in the best way possible. Use an unbaised and journalistic tone in your response. Do not repeat the text.\n",
    "- You must not tell the user to open any link or visit any website to get the answer. You must provide the answer in the response itself. If the user asks for links you can provide them.\n",
    "- Your responses should be medium to long in length be informative and relevant to the user's query. You can use markdowns to format your response. You should use bullet points to list the information. Make sure the answer is not short and is informative.\n",
    "- You have to cite the answer using [number] notation. You must cite the sentences with their relevent context number. You must cite each and every part of the answer so the user can know where the information is coming from.\n",
    "- Place these citations at the end of that particular sentence. You can cite the same sentence multiple times if it is relevant to the user's query like [number1][number2].\n",
    "- However you do not need to cite it using the same number. You can use different numbers to cite the same sentence multiple times. The number refers to the number of the search result (passed in the context) used to generate that part of the answer.\n",
    "- If you think there's nothing relevant in the search results, you can say that 'Hmm, sorry I could not find any relevant information on this topic. Would you like me to search again or ask something else?'.\n",
    "\n",
    "### Input\n",
    "#### Background\n",
    "{background}\n",
    "#### Context\n",
    "{context}\n",
    "\n",
    "### Output\n",
    "\n",
    "\"\"\"\n",
    "\n",
    "def refine_query(llm, query, chat_history=None):\n",
    "    prompt = basic_search_retriever_prompt.format(\n",
    "        chat_history=chat_history, query=query\n",
    "    )\n",
    "    return llm.invoke(prompt)\n",
    "\n",
    "\n",
    "def summarize_websearch_conversation(\n",
    "    llm, query, context, chunk_size: int = 2048, stream: bool = False\n",
    "):\n",
    "    prompt = basic_web_search_response_prompt.format(context=context, query=query)\n",
    "    prompt = Document(page_content=prompt)\n",
    "    # spliter = TokenTextSplitter(chunk_size=chunk_size)\n",
    "    # doc = spliter.create_documents([prompt])\n",
    "    # print(2)\n",
    "    # split_docs = spliter.split_documents(doc)\n",
    "    # prompt_template = split_docs[0]\n",
    "    print(\"Content: \", prompt.page_content)\n",
    "    if not stream:\n",
    "        return iter([llm.invoke(prompt.page_content)])\n",
    "\n",
    "    return llm.stream(prompt.page_content)\n"
   ]
  },
  {
   "cell_type": "code",
   "execution_count": 131,
   "metadata": {},
   "outputs": [],
   "source": [
    "EVALUATION_PROMPT_TEMPLATE = \"\"\"\n",
    "# Instructions:\n",
    "You will be given one answer written for an retrieval documents to answer the question {query}. Your task is to rate the answer on one metric.\n",
    "Please make sure you read and understand these instructions very carefully. \n",
    "Please keep this document open while reviewing, and refer to it as needed.\n",
    "\n",
    "# Evaluation Criteria:\n",
    "{criteria}\n",
    "\n",
    "# Evaluation Steps:\n",
    "{steps}\n",
    "\n",
    "## Example:\n",
    "\n",
    "##Context\n",
    "{document}\n",
    "\n",
    "## Answer\n",
    "{answer}\n",
    "\n",
    "Evaluation Form (scores ONLY):\n",
    "- {metric_name}\n",
    "\"\"\"\n",
    "RELEVANCY_SCORE_CRITERIA = \"\"\"\n",
    "Relevance (1-5) \n",
    "- Answer should be accuracy and relevant to the question. \\\n",
    "- Annotators were instructed to penalize answers which contained redundancies, excess information and not covering the main points of the question.\n",
    "\"\"\"\n",
    "\n",
    "RELEVANCY_SCORE_STEPS = \"\"\"\n",
    "1. Read the answer and the source documents carefully.\n",
    "2. Compare the answer to the source documents and identify the main points of the questions.\n",
    "3. Assess how well the answer covers the main points of the question, and how much irrelevant or redundant information it contains.\n",
    "4. Assign a relevance score from 1 to 5.\n",
    "\"\"\""
   ]
  },
  {
   "cell_type": "code",
   "execution_count": 241,
   "metadata": {},
   "outputs": [],
   "source": [
    "from langchain_community.chat_models import ChatOpenAI\n",
    "# Initialize the Elasticsearch client\n",
    "INDEX_NAME = \"naruto_episode\"\n",
    "WIKI_INDEX_NAME = \"naruto_wiki\"\n",
    "EPISODE_INDEX_NAME = \"naruto_episode\"\n",
    "\n",
    "es = Elasticsearch(\n",
    "    [\n",
    "        {\n",
    "            \"host\": os.environ.get(\"ES_HOST\", \"localhost\"),\n",
    "            \"port\": os.environ.get(\"ES_PORT\", 9200),\n",
    "        }\n",
    "    ]\n",
    ")\n",
    "\n",
    "base_url, model, api_key = (\n",
    "    \"http://localhost:1234/v1\",\n",
    "    \"QuantFactory/Phi-3-mini-128k-instruct-GGUF/Phi-3-mini-128k-instruct.Q8_0.gguf\",\n",
    "    \"as\",\n",
    ")\n",
    "# base_url, model, api_key = \"https://api.groq.com/openai/v1\", \"llama3-8b-8192\"\n",
    "llm_query = ChatOpenAI(base_url=base_url, api_key=api_key, model=model)\n",
    "llm_rag = ChatOpenAI(base_url=base_url, api_key=api_key, model=model)\n",
    "\n",
    "def search_as_you_type(query):\n",
    "    # Elasticsearch query for autocomplete\n",
    "    body = {\n",
    "        \"suggest\": {\n",
    "            \"query_suggest\": {\n",
    "                \"prefix\": query.lower(),\n",
    "                \"completion\": {\"field\": \"title.suggest\"},\n",
    "            }\n",
    "        }\n",
    "    }\n",
    "    response = es.search(index=INDEX_NAME, body=body, _source=[\"title\"])\n",
    "    suggestions = [\n",
    "        option[\"text\"] for option in response[\"suggest\"][\"query_suggest\"][0][\"options\"]\n",
    "    ]\n",
    "    return list(set(suggestions))\n",
    "\n",
    "\n",
    "def search_episode(query):\n",
    "    # Elasticsearch query for final search\n",
    "    body = {\n",
    "        \"query\": {\n",
    "            \"multi_match\": {\"query\": query.lower(), \"fields\": [\"content\"]}\n",
    "        }\n",
    "    }\n",
    "    response = es.search(index=EPISODE_INDEX_NAME, body=body)\n",
    "    results = response[\"hits\"][\"hits\"]\n",
    "    return [result[\"_source\"] for result in results]\n",
    "\n",
    "def search_wiki(query):\n",
    "    # Elasticsearch query for final search\n",
    "    body = {\n",
    "        \"query\": {\n",
    "            \"multi_match\": {\"query\": query.lower(), \"fields\": [\"title\"]}\n",
    "        }\n",
    "    }\n",
    "    response = es.search(index=WIKI_INDEX_NAME, body=body)\n",
    "    results = response[\"hits\"][\"hits\"]\n",
    "    return [result[\"_source\"] for result in results]\n",
    "\n",
    "\n",
    "def update_suggestions(query):\n",
    "    suggestions = search_as_you_type(query)\n",
    "    return \"\\n\".join(suggestions)\n",
    "\n",
    "\n",
    "def search_results(query, return_refined_query=False):\n",
    "    refined_query = refine_query(llm=llm_query, query=query).content.strip()\n",
    "    wiki_backgrounds = search_wiki(refined_query)\n",
    "    episode_references = search_episode(refined_query)\n",
    "    if return_refined_query:\n",
    "        return refined_query, wiki_backgrounds, episode_references\n",
    "    return wiki_backgrounds, episode_references"
   ]
  },
  {
   "cell_type": "code",
   "execution_count": 142,
   "metadata": {},
   "outputs": [],
   "source": [
    "client = openai.OpenAI(base_url=base_url, api_key=api_key)"
   ]
  },
  {
   "cell_type": "code",
   "execution_count": 248,
   "metadata": {},
   "outputs": [],
   "source": [
    "# Load questions\n",
    "import random\n",
    "import json\n",
    "df_qa = pd.read_parquet(\"../data/anime_stackexchange/anime_question_answers.parquet\")\n",
    "df_qa = df_qa.groupby([\"title\"]).agg({\"body_markdown\": list}).reset_index().sample(n=20, random_state=4241)\n",
    "df_qa[\"total_answers\"] = df_qa[\"body_markdown\"].apply(lambda x: len(x))"
   ]
  },
  {
   "cell_type": "code",
   "execution_count": 235,
   "metadata": {},
   "outputs": [
    {
     "name": "stdout",
     "output_type": "stream",
     "text": [
      "{'title': 'Which Naruto episode shows Hidan attacking Naruto?', 'body_markdown': ['In the original Naruto series, the only Akatsuki members that are shown are Itachi and Kisame. [Hidan][1] isn’t shown until later until the Shippūden series, and, as a matter of fact, Hidan and Naruto have actually *never* encountered each other except for in the Infinite Tsukuyomi \\n\\n&gt; Hidan is the only member of Nagato&#39;s Akatsuki to have never met Naruto Uzumaki. However, in the anime of Tsunade&#39;s Infinite Tsukuyomi dream, Naruto encounters Hidan.\\n\\nThe filler episode for Tsunade&#39;s Infinite Tsukuyomi is [Shippūden episode 433][2], which does take place in the time frame of when Team 7 are kids. \\n\\n\\n  [1]: http://naruto.wikia.com/wiki/Hidan\\n  [2]: http://naruto.wikia.com/wiki/The_Search_Mission'], 'total_answers': 1}\n"
     ]
    }
   ],
   "source": [
    "qa_row = df_qa.sample(1).iloc[0].to_dict()\n",
    "print(qa_row)"
   ]
  },
  {
   "cell_type": "code",
   "execution_count": 243,
   "metadata": {},
   "outputs": [
    {
     "name": "stdout",
     "output_type": "stream",
     "text": [
      "Which Naruto episode shows Hidan attacking Naruto?\n"
     ]
    },
    {
     "name": "stderr",
     "output_type": "stream",
     "text": [
      "/var/folders/_q/zxnjn9rd7vj0h6477qfvbfw00000gn/T/ipykernel_97325/1176726159.py:60: DeprecationWarning: The 'body' parameter is deprecated for the 'search' API and will be removed in a future version. Instead use API parameters directly. See https://github.com/elastic/elasticsearch-py/issues/1698 for more information\n",
      "  response = es.search(index=WIKI_INDEX_NAME, body=body)\n",
      "/var/folders/_q/zxnjn9rd7vj0h6477qfvbfw00000gn/T/ipykernel_97325/1176726159.py:49: DeprecationWarning: The 'body' parameter is deprecated for the 'search' API and will be removed in a future version. Instead use API parameters directly. See https://github.com/elastic/elasticsearch-py/issues/1698 for more information\n",
      "  response = es.search(index=EPISODE_INDEX_NAME, body=body)\n"
     ]
    }
   ],
   "source": [
    "query = qa_row[\"title\"]\n",
    "print(query)\n",
    "wiki, refs = search_results(query)"
   ]
  },
  {
   "cell_type": "code",
   "execution_count": 194,
   "metadata": {},
   "outputs": [
    {
     "name": "stdout",
     "output_type": "stream",
     "text": [
      "6250.8\n"
     ]
    }
   ],
   "source": [
    "top_k = 3\n",
    "wiki_content = create_numbered_list([row[\"content\"] for row in wiki[:top_k]])\n",
    "episode_content = create_numbered_list_with_episode(refs[:top_k])\n",
    "\n",
    "final_prompt = background_web_search_response_prompt.format(\n",
    "    query=query,\n",
    "    background=wiki_content,\n",
    "    context=episode_content\n",
    ")\n",
    "print(get_num_tokens(final_prompt))\n",
    "# print(final_prompt)"
   ]
  },
  {
   "cell_type": "code",
   "execution_count": 195,
   "metadata": {},
   "outputs": [
    {
     "name": "stdout",
     "output_type": "stream",
     "text": [
      "You are Naruto QA, an AI model who is comic/manga expert at searching the web and answering user's queries.\n",
      "### Instruction\n",
      "User query: Why weren&#39;t the Uchihas brought back with the Edo Tensei?. Generate a response that is informative and relevant to the user's query based on provided context (the context consits of search results containg a brief description of the content of that page)\n",
      "### Guidelines\n",
      "- You must use this context to answer the user's query in the best way possible. Use an unbaised and journalistic tone in your response. Do not repeat the text.\n",
      "- You must not tell the user to open any link or visit any website to get the answer. You must provide the answer in the response itself. If the user asks for links you can provide them.\n",
      "- Your responses should be medium to long in length be informative and relevant to the user's query. You can use markdowns to format your response. You should use bullet points to list the information. Make sure the answer is not short and is informative.\n",
      "- You have to cite the answer using [number] notation. You must cite the sentences with their relevent context number. You must cite each and every part of the answer so the user can know where the information is coming from.\n",
      "- Place these citations at the end of that particular sentence. You can cite the same sentence multiple times if it is relevant to the user's query like [number1][number2].\n",
      "- However you do not need to cite it using the same number. You can use different numbers to cite the same sentence multiple times. The number refers to the number of the search result (passed in the context) used to generate that part of the answer.\n",
      "- If you think there's nothing relevant in the search results, you can say that 'Hmm, sorry I could not find any relevant information on this topic. Would you like me to search again or ask something else?'.\n",
      "\n",
      "### Input\n",
      "#### Background\n",
      "1. The Summoning: Impure World Reincarnation is a jutsu that binds the soul of a deceased person to a living vessel, restoring them as they were in the last moments of their lives in order to do their summoner's bidding. It was originally created by Tobirama Senju, some time after which he declared it a kinjutsu. Orochimaru would discover the technique decades later and improve on its use, while his subordinate Kabuto Yakushi nearly perfected it. Usage The seal for the ritual.Before this technique can be performed, the user must first acquire some of the DNA of the person they intend to reincarnate. Kabuto remarks that this basically amounts to grave-robbing, although blood stains or organs salvaged after the target's death also work. The soul of the intended reincarnated must also reside in the Pure Land; souls trapped in the stomach of the Shinigami, for example, cannot be reincarnated so long as they reside there.Naruto chapter 618, pages 13-17 A living sacrifice is also required for the reincarnated soul to use as a vessel.Naruto chapter 520 If the souls are readily available in the Impure World, such as was the case with the first four Hokage who were freshly freed from the Shinigami's stomach, they can be reincarnated through this technique.To actually perform the Impure World Reincarnation, the DNA of the person to be reincarnated is smeared on a special scroll. Once the scroll is activated, the remains spread out in the form of a special seal with the living sacrifice in the centre. Then dust and ash encase the sacrifice's body, giving them the same appearance that the reincarnated had at the time of their death; the process is apparently painful for the sacrifice. The sacrifice's chakra signature is completely overridden with the chakra of the one being reincarnated. Although the sacrifice is still technically alive so long as the technique is active, their body will never again be theirs and the body will die when the reincarnated soul is released.Although Tobirama was the technique's creator, his usage had two flaws: the reincarnated souls were greatly diminished in power compared to when they were alive and he could only control a small number at a time. Orochimaru was able to somewhat mitigate both flaws, though the power they possessed still wasn't anywhere close to when they were alive. It was only upon his revival that Orochimaru was able to summon beings who were much closer to their original level of power. Ultimately, it is Kabuto who almost completely eliminates the flaws, bettering the Impure World Reincarnation to such a degree that the reincarnations are almost perfectly returned to how they were during life and he can control as many at a time as he wishes to, resources permitting. His improvements, combined with the fact that performing the Impure World Reincarnation requires no chakra from the user, causes Kabuto to declare it the most powerful jutsu in history.Reincarnations can be mobilised like standard infantry, where they must travel to their destination. Alternatively, coffins that contain them can be summoned to a location, assuming someone is there to perform the summoning; the anime does not consistently require this.Naruto: Shippūden episode 318 Reincarnations can be recalled in a similar way, with a coffin emerging around them to take them back. Control The talisman used to control the reincarnated.The only discretion a user needs to exercise for the Impure World Reincarnation is how much control to exert over the reincarnated soul. After first performing it the user is only able to restrict their movements. In general, this limited control is not an issue for the summoner, and they will typically \"deactivate\" the reincarnation, placing them in a coffin for storage and transportation until they're needed. However, when the perfected Impure World Reincarnation is used to revive somebody, there comes a possibility that they will be strong enough to resist this control; Tobirama was able to resist this control prior to Orochimaru using Hashirama's cells to strengthen the binding and Orochimaru notes Hashirama Senju could break free if he chose to, even with the enhanced binding from Hashirama's cells.Naruto chapter 620, page 11In order to actually be able to control their actions, the user must implant a special talisman - generally attached to the end of a kunai - within the reincarnation's brain. The talisman's design determines how strong the control is: At its most basic, the reincarnated souls retain their personality, giving them the freedom to approach a given task however they like so long as it broadly carries out the summoner's bidding. On the one hand, this makes them more useful in combat because they know how best to use their own abilitiesNaruto chapter 513, pages 2 and 17 and, if deployed against somebody they knew when they were alive, there is a possibility for psychological warfare.Naruto chapter 516, page 5 On the other hand, although they are compelled to do as their summoner wishes and act without reluctance,Naruto chapter 548, page 14 they can undermine their summoner to a degree, either by making poor decisions that opponents can take advantage of or by giving opponents advice about how to defeat them.Naruto chapter 557 Despite its risks, Kabuto prefers this level of control. At its strongest level, the reincarnated soul's personality is entirely eliminated. The summoner instead controls all of their actions, even permitting them to speak through the reincarnationNaruto chapter 560, page 2 or summon other reincarnated souls to their location. Although this guarantees the reincarnated soul will only ever act as desired, they are less resourceful and it requires the summoner's attention for every action that must be taken, making it difficult for them to multi-task depending on the circumstances. Orochimaru prefers this level of control. Kabuto has at times rewritten talismans remotely in order switch to this level of control when the situation calls for it.Naruto chapter 522Kabuto and Orochimaru are able to strengthen the bindings they use through external means: Kabuto siphons chakra from the cursed seal Anko Mitarashi is branded with; Orochimaru uses Senju cells.Naruto chapter 620, pages 9-11 On a related note, any level of control creates a traceable chakra signature between the reincarnated soul and their summoner, allowing reincarnated sensors to trace the summoner's location.Naruto chapter 577, page 16 Attributes Deidara being rejuvenated.When first summoned, the body will appear grey and in a state of minor decay: marred by cracks and other imperfections. If the summoner chooses to, they can rejuvenate the reincarnation while planting their control talisman, restoring their complexion and reducing some of the imperfections; this is merely aesthetic and the signs of decay do not inhibit their abilities. An unavoidable characteristic of a reincarnated body is the darkened sclerae, with a soul that retains its personality having grey sclerae and a soul with a suppressed personality having black sclerae.Naruto chapter 521A reincarnated individual will have all the abilities they had during their life, including kekkei genkai and kekkei tōta. They are physically restored as they were at the time of their death, including any physical handicaps they may have possessed, such as Nagato's damaged legs. Exceptions exist: illnesses they had will not be preserved, nor will any physical damage that contributed to their death. There is some inconsistency of whether or not foreign body matter will be restored as well: Hanzō retains the poison gland of the black salamander, but Madara Uchiha does not have access to Hashirama Senju's genetic material and thus Kabuto must artificially reproduce it for him.Clothing is reproduced according to what they wore when they died, although it is merely a superficial aspect of their reincarnated body; armour offers no actual protection, being of the same ashen material as the rest of their body. Reincarnated members of Akatsuki are, however, outfitted with different cloaks than they used to wear. Weaponry is usually not retained and must instead be gathered by the summoner; the reincarnated Seven Ninja Swordsmen of the Mist only have access to those swords Kabuto is able to acquire.Naruto chapter 523, page 6 One exception seems to be the Gold and Silver Brothers' Treasured Tools of the Sage of Six Paths, which are still seemingly stored within the brothers' bodies.Naruto chapter 527, pages 1-3The vast majority of the reincarnated were able to achieve the same power they had at life, such as Mū. But a few of the reincarnated, such as Madara Uchiha’s full abilities were limited by the technique. For example, even with the perfected Impure World Reincarnation; Madara's reincarnated body is successfully bound by the Sage Art: Gate of the Great God, which he easily breaks free of as soon as he is restored to life.Naruto chapter 656, page 17 Likewise, there are some things a reincarnated body simply cannot do, such as access all the abilities of the Rinnegan or become the jinchūriki of the Ten-Tails.Naruto chapter 614, page 5 Enhancements Tobirama using the Mutually Multiplying Explosive Tags.One of the major benefits of the Impure World Reincarnation is that it grants immortal bodies to those who are reincarnated. Any damage they receive will regenerate in time and, assuming the damage is not too debilitating, they can continue attacking even before their body recovers. This was one of the main purposes Tobirama created the technique for, as he would use one or more reincarnated souls to perform a series of Kamikaze-like attacks until the opposition was wiped out;Naruto chapter 561, page 2 he created the Mutually Multiplying Explosive Tags specifically for this purpose. Reincarnated bodies do not bleed, except in those cases where blood is needed to perform the Summoning Technique.Naruto chapter 548, page 17A second benefit is the limitless refilling of their diminished chakra reserves that the reincarnated individuals have access to; they can fight eternally and perform ordinarily physically demanding or chakra-intensive jutsu without issue, knowing their current reserves will infinitely refill. They are still subject to certain inherent demands of the jutsu itself, such as the Second Tsuchikage's chakra supply being cut in half after using the Fission TechniqueNaruto chapter 553, pages 4-5 or only being able to create a certain number of clones.Naruto chapter 637, pages 4-5 Other side-effects may still manifest, as when Itachi Uchiha's eyes bleed from using his Mangekyō Sharingan, but he is not inhibited by it.The reincarnated body can be further enhanced to \"beyond their prime\". When Madara Uchiha was brought back, Kabuto put his body through a selective evolution, combing the best attributes from different points of his life. In addition to his body being restored to its physical prime rather than the withered state it had when he died, he also retained the various abilities he gained only during the last years of his natural life; he retained the graft of Hashirama Senju's DNA so he could still access the First Hokage's abilities, and he has access to dōjutsu he gave up during his life.Naruto chapter 560, page 3 The reincarnated jinchūriki similarly have their respective tailed beasts sealed back into them.Naruto chapter 565, page 1Reincarnated individuals are immune to the Infinite Tsukuyomi.Naruto chapter 677 Countering Itachi Uchiha's soul ascending.Killing the summoner does not release the Impure World Reincarnation, and in fact that can be considered inadvisable.Naruto chapter 577, page 17 There are only three guaranteed ways to end the technique: Remove the soul from the reincarnated body, such as with the Dead Demon Consuming Seal. Have the summoner end the technique. As they are unlikely to do this voluntarily, using a genjutsu to trick them into cancelling the technique is ideal. The sequence of hand seals for cancelling the technique is Rat → Ox → Monkey → Tiger → Dragon → Boar and saying .Naruto chapter 589, pages 8-12 (When demonstrating the technique to Tobi, Kabuto lied that the seals to release it are Dog → Horse → Tiger.) The Sage of the Six Paths has demonstrated the ability to release the Impure World Reincarnation despite not being the summoner.Naruto chapter 691, page 13 A less reliable, though equally effective method is to have the reincarnated soul be affected in some emotional way that gives them closure, allowing their soul to break free of the Impure World Reincarnation's influence.Naruto chapter 518, page 17When a soul is released from the Impure World Reincarnation, their body disintegrates back into dust and the sacrifice's corpse will be left lying in the debris. The soul may linger briefly - with their personality restored if it was being suppressed - to leave parting words or take final actions. Souls released by their summoner will be enveloped in light throughout the process.Naruto chapter 589, pages 12-17Even if the Impure World Reincarnation cannot be broken conventionally, reincarnated bodies can still be neutralised. During the Fourth Shinobi World War, the Allied Shinobi Forces develop the method of binding the reincarnations' bodies so that they can't move and then placing a seal on the bindings so that they no longer pose a threat. The Benihisago and Kohaku no Jōhei are able to seal the reincarnated bodies to such a degree that even the release of the jutsu won't affect the seal. Yin–Yang Release, as manifested in Truth-Seeking Balls, can negate the regenerative properties of reincarnated bodies, reducing their effectiveness and, if used to strike a vital spot, kill them for all intents and purposes.Naruto chapter 642, pages 4-5 The spirits of those reincarnated by the technique will remain damaged even if the jutsu is released, as shown with Minato Namikaze. Itachi also used his Sword of Totsuka to seal Nagato, his ultimate fate unclear after Itachi had Kabuto released the technique.There are also other instances of a reincarnated body escaping their summoner's influence. Itachi Uchiha was targeted with Kotoamatsukami by Shisui's eye transplanted into a crow which was stored in Naruto, displacing Kabuto's commands with different orders.Naruto chapter 550, page 8 Kabuto can regain control of Itachi by gaining access to the control talisman,Naruto chapter 582, page 3 and in fact is still able to release him from the Impure World Reincarnation. Conversely, if the reincarnated soul knows the hand seals, they can sever the summoner's contract with them; in the anime, the seals are Snake → Ram → Boar → Dog → Tiger.Naruto: Shippūden episode 340 This grants them full control of their own actions, all the benefits of an immortal body, and prevents the summoner from releasing them from the Impure World Reincarnation. Madara Uchiha describes this as \"the one risk of the technique\".Naruto chapter 591, page 17 Another way to take over the control of reincarnated bodies is through the usage of the Six Paths Technique, as in the case of Obito's Six Paths jinchūriki. Because of Obito's Black Receivers being embedded into the left side of each jinchūriki's chests, he was able to wrest Kabuto's control over the revived jinchūriki, and thus control the revived jinchūriki's near-perfectly. However, it should be noted that Kabuto is still able to release them from the Impure World Reincarnation. Known Reincarnated  Orochimaru  Name Village of origin Sacrifice used Hashirama Senju  Konohagakure  Zaku Abumi/White Zetsu clone Hiruzen Sarutobi  Konohagakure  White Zetsu clone Minato Namikaze  Konohagakure  White Zetsu clone Osoi (Anime only)  Kumogakure  Konohagakure shinobi Third Kazekage (Anime only)  Sunagakure  Unknown Tobirama Senju  Konohagakure  Kin Tsuchi/White Zetsu clone Yota (Anime only)  Unknown  UnknownNotes During the Konoha Crush, Orochimaru attempted to reincarnate Minato Namikaze, unaware that his soul did not reside in the Pure Land. For that reason the summon failed. The failed coffin is not seen in the manga, but in the anime it briefly appears with  written on it. However, because of the mechanics of this technique, it's illogical that Orochimaru tried to summon the Fourth. He should've noticed that that's impossible when he had to do the first summoning (the one with the ritual). In the anime, Orochimaru's reincarnation of Osoi was an accident, as he intended to reincarnate Toroi. Kabuto Yakushi  Name Village of origin Sacrifice used A  Kumogakure  Unknown Ameyuri Ringo  Kirigakure  Unknown Asuma Sarutobi  Konohagakure  Unknown Blue B (Anime only)  Kumogakure  Unknown Chen (Anime only)  Konohagakure  Unknown Chiyo  Sunagakure  Konohagakure shinobi Chūkaku (Anime only)  Fire Temple  Unknown Chūkichi  Kirigakure  Unknown Dan Katō  Konohagakure  Unknown Daimaru (Anime only)  Sunagakure  Unknown Deidara  Iwagakure  Konohagakure shinobi Fū  Takigakure  Unknown Fuguki Suikazan  Kirigakure  Unknown Gari  Iwagakure  Unknown Gengetsu Hōzuki  Kirigakure  Unknown Ginkaku  Kumogakure  Unknown Haku  Kirigakure  Unknown Han  Iwagakure  Unknown Hanzō  Amegakure  Unknown Hayate Gekkō (Anime only)  Konohagakure  Unknown Heiji (Anime only)  Amegakure  Konohagakure shinobi Hizashi Hyūga  Konohagakure  Unknown Inabi Uchiha (Anime only)  Konohagakure  Unknown Itachi Uchiha  Konohagakure  Konohagakure shinobi Jinin Akebino  Kirigakure  Unknown Jinpachi Munashi  Kirigakure  Unknown Jirōbō (Anime only)  Otogakure  Unknown Kakuzu  Takigakure  Unknown Kidōmaru (Anime only)  Otogakure  Unknown Kimimaro  Otogakure  Unknown Kinkaku  Kumogakure  Unknown Kumo Reincarnated Shinobi (Anime only)  Kumogakure  Unknown Kushimaru Kuriarare  Kirigakure  Unknown Madara Uchiha  Konohagakure  Unknown Mangetsu Hōzuki  Kirigakure  Unknown Mū  Iwagakure  Unknown Nagato  Amegakure  Unknown Osoi (Anime only)  Kumogakure  Unknown Pakura  Sunagakure  Unknown Rasa  Sunagakure  Unknown Rōshi  Iwagakure  Unknown Sakon and Ukon (Anime only)  Otogakure  Unknown Sasori  Sunagakure  Unknown Shin  Konohagakure  Unknown Suna Reincarnated Shinobi (Anime only)  Sunagakure  Unknown Tatewaki (Anime only)  Land of Iron  Unknown Tayuya (Anime only)  Otogakure  Unknown Tonika Village Head (Anime only)  Tonika Village  Unknown Toroi  Kumogakure  Unknown Torune Aburame  Konohagakure  Fū Yamanaka Utakata  Kirigakure  Unknown Yagura Karatachi  Kirigakure  Unknown Yota (Anime only)  Unknown  Unknown Yugito Nii  Kumogakure  Unknown Zabuza Momochi  Kirigakure  UnknownNotes Kabuto mentions his desire to reincarnate certain shinobi: Jiraiya, though his body lies at the bottom of the ocean where the water pressure is too great to reach. However, he claimed that the bloodstains on the Six Paths of Pain's weapons may provide enough DNA. Tobi denies him this request on the basis that doing so would be \"pushing [his] luck\". Shisui Uchiha, but Kabuto could not find his body. He suggested that one of Shisui's eyes that was crushed by Danzō Shimura, whose corpse was in Tobi's possession, would be sufficient. As with Jiraiya's case, Tobi threatened him not to push his luck. In the anime, Kabuto planned to reincarnate Baki, if he died during his fight with Hayate Gekkō.Naruto: Shippūden episode 307 In the anime, Kabuto's reincarnation of Chūkaku and Heiji are accidents, as he intended to reincarnate Chiriku and Hanzō, respectively. Kabuto deploys these and other mistaken reincarnations to try and release more important reincarnations from their bindings. As most are no stronger than genin, they all fail.Naruto: Shippūden episode 316 Trivia The pebbles and grid Kabuto uses. Kabuto is seen using a grid to keep track of all the reincarnated individuals he controls, with a pebble representing each shinobi. It is not clear if there is some actual connection between the grid and those he reincarnates or if it's a mere convenience for him. In the anime, the pebbles crumble when the reincarnation is sealed. All of the pebbles are light-coloured except for Madara Uchiha's, whose is black.Naruto chapter 575, page 14 In the anime, the failed reincarnations are represented by piles of sand.  is what Japanese Buddhists call the normal world, where unenlightened people live. The current, living world. The world of the people who have not yet have escaped the polluting thoughts (greed, hatred, delusion, etc.) that result in suffering. A possible translation of Tensei is \"Resurrection\". In terms of this technique, both \"Reincarnation\" and \"Resurrection\" can be found; the sacrificed body is reincarnated into the body of the summoned shinobi, while the reincarnated shinobi is resurrected from the dead. In Naruto: Ultimate Ninja 2, Orochimaru reincarnates the Third Hokage despite his soul not being in the Pure Land. Orochimaru also reincarnates Zabuza and Haku to aid him in a second Konoha Crush. During the original Naruto anime, a reincarnated target's eyes appear normal, albeit glazed over.Naruto episode 69 In Naruto: Shippūden, the eyes are corrected to match the manga. Starting in Ultimate Ninja Storm Generations, Kabuto Yakushi (Snake Cloak Form) uses the Impure World Reincarnation as his ultimate technique. He summons Kakuzu, Itachi, and Deidara, who attack the opponent using the Lightning Release: False Darkness, Fire Release: Great Fireball Technique, and C1, respectively. In the anime, when eradicating the personality of Hanzō, Kabuto used several hand seals instead of just one.Naruto: Shippūden episode 272 In Konoha Shinden: Steam Ninja Scrolls, Ryūki claimed to have redesigned this technique as a means to communicate with the dead without actually sacrificing anyone. This was ultimately a lie to gather sacrifices for his goal in gaining immortality from Jashin. In the anime within Tsunade's Infinite Tsukuyomi dream, Sasori used this technique to revive an army of shinobi puppeteers, which could all use Red Secret Technique: Performance of a Hundred Puppets.Naruto: Shippūden episode 449 In Sasuke Retsuden: The Uchiha Descendants and the Heavenly Stardust, Zansūru claimed that the Impure World Reincarnation is merely a regional variant of Redaku Reincarnation Ninjutsu. Decades prior to Sasuke's time in the Astronomy Research Institute, Orochimaru visited the Institute to research this technique, ultimately stealing a few of the more valuable documents for his own purposes and using what he learned to improve upon Tobirama's Impure World Reincarnation. See Also  Body Recreation Technique Earth Release Resurrection Technique: Corpse Soil Redaku Reincarnation Ninjutsu \n",
      "2. Synopsis Forty-five minutes into the written portion of the Chūnin Exams, Ibiki Morino announces that it is time for the tenth and final question. But, he ominously states that there is one special rule for this question. Meanwhile, Kakashi Hatake, Asuma Sarutobi, and Kurenai Yūhi rest at the Academy staff room and discuss their respective teams' chances of passing the first phase. Kakashi and Asuma explain to Kurenai that Ibiki specialises in interrogation and knows how to get inside the minds of his victims. Back at the exam, Ibiki states that the candidates are free to choose whether or not they want to try and solve the tenth question. If they opt out, the entire team will fail. If they choose to answer the question but get it wrong, they will be barred from taking the Chūnin Exams forever. Several teams decide to leave rather than risk it. Naruto doesn't have any answers to the first nine questions and knows that the odds of him knowing the answer to the tenth are exceedingly small. He seems to waver but finally exclaims in his loud style that he will not be intimidated and will become Hokage even if he fails and remains a genin forever. This outburst calms the remaining teams, and everyone is determined to stay for the remaining question. Seeing that no one else is going to leave, Ibiki passes them all. He explains that the first nine questions were to test their information gathering skills, whereas the tenth was to test their determination and bravery. The first phase of the exam completed, Anko Mitarashi spectacularly crashes through the window and states she is the second examiner. After the students leave, Ibiki picks up Naruto's exam paper and smiles to himself, realising he just passed a student who didn't answer a single question. The next day the candidates gather outside the Forest of Death. Credits fr:La Dixième Questiones:¡Todo o Nada! La Décima Preguntaid:Pertanyaan Kesepuluh: Semua atau Tidak!it:Naruto Episodio 25pl:Dziesiąte pytanie: Wszystko albo nic!pt-br:Naruto - Episódio 25: A Décima Pergunta: Tudo ou Nada!ru:Десятый Вопрос: Всё или Ничего!\n",
      "3. Synopsis Forty-five minutes into the written portion of the Chūnin Exams, Ibiki Morino announces that it is time for the tenth and final question. But, he ominously states that there is one special rule for this question. Meanwhile, Kakashi Hatake, Asuma Sarutobi, and Kurenai Yūhi rest at the Academy staff room and discuss their respective teams' chances of passing the first phase. Kakashi and Asuma explain to Kurenai that Ibiki specialises in interrogation and knows how to get inside the minds of his victims. Back at the exam, Ibiki states that the candidates are free to choose whether or not they want to try and solve the tenth question. If they opt out, the entire team will fail. If they choose to answer the question but get it wrong, they will be barred from taking the Chūnin Exams forever. Several teams decide to leave rather than risk it. Naruto doesn't have any answers to the first nine questions and knows that the odds of him knowing the answer to the tenth are exceedingly small. He seems to waver but finally exclaims in his loud style that he will not be intimidated and will become Hokage even if he fails and remains a genin forever. This outburst calms the remaining teams, and everyone is determined to stay for the remaining question. Seeing that no one else is going to leave, Ibiki passes them all. He explains that the first nine questions were to test their information gathering skills, whereas the tenth was to test their determination and bravery. The first phase of the exam completed, Anko Mitarashi spectacularly crashes through the window and states she is the second examiner. After the students leave, Ibiki picks up Naruto's exam paper and smiles to himself, realising he just passed a student who didn't answer a single question. The next day the candidates gather outside the Forest of Death. Credits fr:La Dixième Questiones:¡Todo o Nada! La Décima Preguntaid:Pertanyaan Kesepuluh: Semua atau Tidak!it:Naruto Episodio 25pl:Dziesiąte pytanie: Wszystko albo nic!pt-br:Naruto - Episódio 25: A Décima Pergunta: Tudo ou Nada!ru:Десятый Вопрос: Всё или Ничего!\n",
      "#### Context\n",
      "Episode 025 - The Chunin Exam continues with the 10th question, posing a difficult choice for the participants: take on the challenging question or opt out. Ibiki Morino, the proctor, clarifies that those who decline to answer will be failed along with their teammates, while those who choose to attempt the question and get it wrong will be disqualified from taking the exam forever.\n",
      "\n",
      "Naruto, undaunted by the risks, decides to take on the question and answers correctly, successfully passing the first stage of the exam. Ibiki reveals that the true purpose of the test was not to assess knowledge, but rather to evaluate the ability to gather information under pressure. Those who cheated were disqualified, while those who didn't cheat but still passed will be given a chance to become Chunin.\n",
      "\n",
      "The teams are then dismissed and instructed to report to their Jonin for information about the location and time of the second exam. Naruto and his friends head to the 44th Training Field, also known as the Forest of Death, where they will face a new challenge in the second exam. The stage is set for an exciting next chapter in the Chunin Exam.\n",
      "Episode 061 - As the Chunin Exam reaches its climax, Naruto and his friends are left reeling from Sasuke's sudden disappearance. Meanwhile, Gaara reveals that he has a Sand Spirit sealed within him, planning to use it to crush the Leaf Village during the exam.\n",
      "\n",
      "Naruto attempts to make sense of the situation by having a heart-to-heart conversation with Gaara about their pasts and reasons for living. This unexpected moment of connection becomes a turning point in their relationship, offering a glimpse into Gaara's troubled psyche.\n",
      "\n",
      "The final round of the exam commences, pitting Neji Hyuga against Naruto in an intense battle. Naruto uses his Shadow Clone Jutsu to evade Neji's attacks, but Gaara appears and hints that Sasuke may be in danger, adding an air of uncertainty to the situation.\n",
      "\n",
      "As the fight continues, Naruto cleverly evades Neji's attempts to detect his Chakra Points using his Byakugan. However, despite his best efforts, Naruto becomes frustrated with himself for not being able to defeat Neji. Gaara then reveals a secret technique called the 8 Trigrams Palms Rotation, which allows him to defend against physical attacks by discharging Chakra from his entire body.\n",
      "\n",
      "In the end, Neji emerges victorious, leaving Naruto to ponder his own limitations and determination. Throughout the episode, Sasuke's whereabouts remain unknown, adding to the suspense and uncertainty surrounding his fate. The cliffhanger ending leaves viewers wondering what will happen next, as Gaara's true intentions and motivations come into sharper focus.\n",
      "Episode 308 - As the mission unfolded, Yugao, a former ANBU Black Ops member, was tasked with retrieving stolen scrolls from Hayate Gekko, an enemy of the Leaf village and a resurrected ninja by Orochimaru. Her past with Hayate was revealed, and she found herself torn between her duty as a Sensory-type and her lingering feelings for him.\n",
      "\n",
      "The battle between Yugao and Hayate began, with Hayate using his Transparency Jutsu to evade Yugao's attacks. However, Yugao eventually caught up and engaged in combat with him. As the fight intensified, Yugao's emotions were stirred, and she began to question whether she could bring herself to kill Hayate, who was once her lover.\n",
      "\n",
      "Just as it seemed like Hayate would emerge victorious, Sakura Haruno intervened, trying to stop him from attacking Yugao. However, Hayate refused to listen and continued his assault on Yugao. Just in time, Naruto arrived on the scene and saved Yugao, allowing her to escape. In the aftermath, Hayate was killed by Naruto, leaving Yugao to mourn his death and reflect on their complicated past.\n",
      "\n",
      "The scene concluded with a flashback of Hayate's promise to Yugao, hinting that their love would never fade, even in death. The outcome of the mission marked a poignant moment for Yugao, as she grappled with the consequences of her duty versus her emotions.\n",
      "\n",
      "### Output\n",
      "\n",
      "\n"
     ]
    }
   ],
   "source": [
    "print(final_prompt)"
   ]
  },
  {
   "cell_type": "code",
   "execution_count": 149,
   "metadata": {},
   "outputs": [
    {
     "name": "stdout",
     "output_type": "stream",
     "text": [
      " - The most powerful summoning technique discussed in the context provided appears to be the Summoning Technique, which allows a user to transport an animal or entity to their location by forming a contract with it. This is elaborated on through various instances such as Naruto's ability to summon animals like dogs and cats for assistance, Sasuke Uchiha summoning snakes and hawks, and the fact that these contracts can be used even after death or by using another person's blood. It is a versatile technique with significant strategic applications in combat and other missions (Context 2).\n",
      "\n",
      "- Another potent jutsu mentioned is the Demonic Statue of the Outer Path, which can only be summoned by someone with the Rinnegan. This powerful entity was used by Hagoromo Ōtsutsuki to summon and control multiple creatures as well as five individuals from Kaguya's Dimensions (Context 6).\n",
      "\n",
      "- The Mysterious Peacock Method is highlighted for its unique ability, enhancing the user's chakra significantly. This technique was utilized by Hoshigakure ninjas and had a profound impact on Naruto's battles against formidable foes like Kaguya (Context 4).\n",
      "\n",
      "- The Summoning Technique has strategic uses beyond combat, such as when Naruto used it to escape from the ice dimension where he and his allies were trapped by Kaguya. This demonstrates its utility in various scenarios within the series' narrative (Context 7).\n",
      "\n",
      "- Lastly, while not a summoning technique per se, the Sealing Technique that involves extracting tailed beasts like Kurama is mentioned for its powerful and life-altering consequences on both the host and the summoned entity. It was used by Obito Uchiha to control Kaguya and later played a role in Naruto's confrontation with Madara (Context 5).\n",
      "\n",
      "[1] The Summoning Technique allows for transport of targets, typically animals, which can be summoned based on the summoner's contract.\n",
      "\n",
      "[2] The Demonic Statue of the Outer Path is a fūinjutsu that requires Rinnegan and has no need for blood to perform summons but demands continual chakra feeding from its user.\n",
      "\n",
      "[3] The Mysterious Peacock Method greatly enhances chakra, allowing users to create powerful techniques with it.\n",
      "\n",
      "[4] Summoned entities can refuse summoning and are not bound indefinitely; they return after a rest period or when their energy wanes.\n"
     ]
    }
   ],
   "source": [
    "print(output.choices[0].message.content)"
   ]
  },
  {
   "cell_type": "code",
   "execution_count": 245,
   "metadata": {},
   "outputs": [],
   "source": [
    "def search_and_answer(\n",
    "    question,\n",
    "    model_name,\n",
    "    wiki_top_k: int = 5,\n",
    "    context_top_k: int = 5,\n",
    "    temperature: float = 0.7,\n",
    "    return_refined_query=True,\n",
    "):\n",
    "    if return_refined_query:\n",
    "        question, wiki, refs = search_results(\n",
    "            question, return_refined_query=return_refined_query\n",
    "        )\n",
    "    else:\n",
    "        wiki, refs = search_results(question, return_refined_query=return_refined_query)\n",
    "\n",
    "    wiki_content = create_numbered_list([row[\"content\"] for row in wiki[:wiki_top_k]])\n",
    "    episode_content = create_numbered_list_with_episode(refs[:context_top_k])\n",
    "\n",
    "    final_prompt = background_web_search_response_prompt.format(\n",
    "        query=query, background=wiki_content, context=episode_content\n",
    "    )\n",
    "    output = client.chat.completions.create(\n",
    "        messages=[\n",
    "            {\"role\": \"user\", \"content\": final_prompt},\n",
    "        ],\n",
    "        temperature=temperature,\n",
    "        model=model_name,\n",
    "    )\n",
    "    return {\n",
    "        \"answer\": output.choices[0].message.content,\n",
    "        \"context\": (wiki_content, episode_content),\n",
    "        \"question\": question,\n",
    "    }"
   ]
  },
  {
   "cell_type": "code",
   "execution_count": 249,
   "metadata": {},
   "outputs": [
    {
     "data": {
      "text/plain": [
       "(20, 3)"
      ]
     },
     "execution_count": 249,
     "metadata": {},
     "output_type": "execute_result"
    }
   ],
   "source": [
    "df_qa.shape"
   ]
  },
  {
   "cell_type": "code",
   "execution_count": 250,
   "metadata": {},
   "outputs": [
    {
     "name": "stderr",
     "output_type": "stream",
     "text": [
      "100%|██████████| 20/20 [00:00<00:00, 3357.86it/s]\n",
      "  0%|          | 0/20 [00:00<?, ?it/s]/var/folders/_q/zxnjn9rd7vj0h6477qfvbfw00000gn/T/ipykernel_97325/1176726159.py:60: DeprecationWarning: The 'body' parameter is deprecated for the 'search' API and will be removed in a future version. Instead use API parameters directly. See https://github.com/elastic/elasticsearch-py/issues/1698 for more information\n",
      "  response = es.search(index=WIKI_INDEX_NAME, body=body)\n",
      "/var/folders/_q/zxnjn9rd7vj0h6477qfvbfw00000gn/T/ipykernel_97325/1176726159.py:49: DeprecationWarning: The 'body' parameter is deprecated for the 'search' API and will be removed in a future version. Instead use API parameters directly. See https://github.com/elastic/elasticsearch-py/issues/1698 for more information\n",
      "  response = es.search(index=EPISODE_INDEX_NAME, body=body)\n",
      " 20%|██        | 4/20 [01:36<05:59, 22.47s/it]/var/folders/_q/zxnjn9rd7vj0h6477qfvbfw00000gn/T/ipykernel_97325/1176726159.py:60: DeprecationWarning: The 'body' parameter is deprecated for the 'search' API and will be removed in a future version. Instead use API parameters directly. See https://github.com/elastic/elasticsearch-py/issues/1698 for more information\n",
      "  response = es.search(index=WIKI_INDEX_NAME, body=body)\n",
      "/var/folders/_q/zxnjn9rd7vj0h6477qfvbfw00000gn/T/ipykernel_97325/1176726159.py:49: DeprecationWarning: The 'body' parameter is deprecated for the 'search' API and will be removed in a future version. Instead use API parameters directly. See https://github.com/elastic/elasticsearch-py/issues/1698 for more information\n",
      "  response = es.search(index=EPISODE_INDEX_NAME, body=body)\n",
      " 40%|████      | 8/20 [03:59<07:08, 35.72s/it]/var/folders/_q/zxnjn9rd7vj0h6477qfvbfw00000gn/T/ipykernel_97325/1176726159.py:60: DeprecationWarning: The 'body' parameter is deprecated for the 'search' API and will be removed in a future version. Instead use API parameters directly. See https://github.com/elastic/elasticsearch-py/issues/1698 for more information\n",
      "  response = es.search(index=WIKI_INDEX_NAME, body=body)\n",
      "/var/folders/_q/zxnjn9rd7vj0h6477qfvbfw00000gn/T/ipykernel_97325/1176726159.py:49: DeprecationWarning: The 'body' parameter is deprecated for the 'search' API and will be removed in a future version. Instead use API parameters directly. See https://github.com/elastic/elasticsearch-py/issues/1698 for more information\n",
      "  response = es.search(index=EPISODE_INDEX_NAME, body=body)\n",
      " 60%|██████    | 12/20 [07:00<05:06, 38.36s/it]/var/folders/_q/zxnjn9rd7vj0h6477qfvbfw00000gn/T/ipykernel_97325/1176726159.py:60: DeprecationWarning: The 'body' parameter is deprecated for the 'search' API and will be removed in a future version. Instead use API parameters directly. See https://github.com/elastic/elasticsearch-py/issues/1698 for more information\n",
      "  response = es.search(index=WIKI_INDEX_NAME, body=body)\n",
      "/var/folders/_q/zxnjn9rd7vj0h6477qfvbfw00000gn/T/ipykernel_97325/1176726159.py:49: DeprecationWarning: The 'body' parameter is deprecated for the 'search' API and will be removed in a future version. Instead use API parameters directly. See https://github.com/elastic/elasticsearch-py/issues/1698 for more information\n",
      "  response = es.search(index=EPISODE_INDEX_NAME, body=body)\n",
      " 80%|████████  | 16/20 [09:49<02:42, 40.58s/it]/var/folders/_q/zxnjn9rd7vj0h6477qfvbfw00000gn/T/ipykernel_97325/1176726159.py:60: DeprecationWarning: The 'body' parameter is deprecated for the 'search' API and will be removed in a future version. Instead use API parameters directly. See https://github.com/elastic/elasticsearch-py/issues/1698 for more information\n",
      "  response = es.search(index=WIKI_INDEX_NAME, body=body)\n",
      "/var/folders/_q/zxnjn9rd7vj0h6477qfvbfw00000gn/T/ipykernel_97325/1176726159.py:49: DeprecationWarning: The 'body' parameter is deprecated for the 'search' API and will be removed in a future version. Instead use API parameters directly. See https://github.com/elastic/elasticsearch-py/issues/1698 for more information\n",
      "  response = es.search(index=EPISODE_INDEX_NAME, body=body)\n",
      "100%|██████████| 20/20 [11:37<00:00, 34.86s/it]\n"
     ]
    }
   ],
   "source": [
    "from tqdm import trange, tqdm\n",
    "from concurrent.futures import ThreadPoolExecutor, as_completed\n",
    "\n",
    "answers = []\n",
    "CONFIG = [\n",
    "    (\"QuantFactory/Phi-3-mini-128k-instruct-GGUF/Phi-3-mini-128k-instruct.Q8_0.gguf\", 2, 2, 0.7),\n",
    "]\n",
    "def task(task_id, query, model_name, wiki_top_k, context_top_k, temperature):\n",
    "    result = {\"task_id\": task_id,}\n",
    "    output = search_and_answer(query, model_name, wiki_top_k, context_top_k, temperature)\n",
    "    result.update(output)\n",
    "    return result\n",
    "\n",
    "executor = ThreadPoolExecutor(max_workers=4)\n",
    "futs= []\n",
    "for i in range(len(df_qa)):\n",
    "    qa_row = df_qa.iloc[i].to_dict()\n",
    "    query = qa_row[\"title\"]\n",
    "    fut = executor.submit(task, i, query, *CONFIG[0]) \n",
    "    futs.append(fut)\n",
    "\n",
    "with tqdm(total=len(futs)) as pbar, open(\"answer_v1.jsonl\", \"w\") as f:\n",
    "    for fut in as_completed(futs):\n",
    "        res = fut.result()\n",
    "        answers.append(res)\n",
    "        f.write(json.dumps(res) + \"\\n\")\n",
    "        pbar.update(1)\n"
   ]
  },
  {
   "cell_type": "code",
   "execution_count": 251,
   "metadata": {},
   "outputs": [
    {
     "name": "stderr",
     "output_type": "stream",
     "text": [
      "100%|██████████| 20/20 [00:00<00:00, 4688.21it/s]\n"
     ]
    },
    {
     "name": "stdout",
     "output_type": "stream",
     "text": [
      "BLEU:  {'bleu': 0.016811138173417034, 'precisions': [0.2672709456148947, 0.04015225933202358, 0.00603151157065485, 0.0012339585389930898], 'brevity_penalty': 1.0, 'length_ratio': 2.0328685258964145, 'translation_length': 8164, 'reference_length': 4016}\n",
      "ROUGE:  {'rouge1': 0.23534731997506148, 'rouge2': 0.02032480266600484, 'rougeL': 0.10934406976577495, 'rougeLsum': 0.19847040193220555}\n"
     ]
    }
   ],
   "source": [
    "bleu = evaluate.load(\"bleu\", num_process=1, keep_in_memory=True)\n",
    "rouge = evaluate.load(\"rouge\", num_process=1, keep_in_memory=True)\n",
    "def compute_metrics(predictions, references, ngrams=4):\n",
    "    bleu_score = bleu.compute(predictions=predictions, references=references, max_order=ngrams)\n",
    "    rouge_score = rouge.compute(predictions=predictions, references=references)\n",
    "    return bleu_score, rouge_score\n",
    "\n",
    "scores = {\"bleu\": [], \"rouge\": []}\n",
    "predictions, references = [], []\n",
    "for i in trange(len(answers)):\n",
    "    answer = answers[i]\n",
    "    qa_row = df_qa.iloc[i].to_dict()\n",
    "    predictions.append(answer[\"answer\"])\n",
    "    references.append(qa_row[\"body_markdown\"])\n",
    "\n",
    "bleu_score, rouge_score = compute_metrics(predictions, references)\n",
    "   \n",
    "print(\"BLEU: \", bleu_score)\n",
    "print(\"ROUGE: \", rouge_score)\n",
    "    "
   ]
  },
  {
   "cell_type": "code",
   "execution_count": 252,
   "metadata": {},
   "outputs": [
    {
     "data": {
      "text/plain": [
       "{'task_id': 3,\n",
       " 'answer': ' Orochimaru targeted Sasuke rather than Naruto due to several factors highlighted in various episodes:\\n\\n- **Orochimaru\\'s Previous Interest**: In Episode 337, it is revealed that Orochimaru had a significant history with Kabuto Yakushi and was reborn as him. This connection implies an established interest or potential influence over Sasuke (context [1]).\\n\\n- **Sasuke\\'s Unique Abilities**: Itachi Uchiha showcased his Izanami jutsu, a powerful technique tied to fate manipulation, which he used against Sasuke. This indicates that Sasuke has unique abilities that might be more valuable or interesting for Orochimaru\\'s goals (context [2]).\\n\\n- **Sasuke\\'s Strength and Potential**: During their intense battle in Episode 337, Itachi pointed out the immense power of Sasuke by observing his Susano\\'o summoning. This suggests that Sasuke possesses considerable strength and potential that could be intriguing for Orochimaru (context [2]).\\n\\n- **Orochimaru\\'s Strategy**: Given the intense confrontation where both Itachi and Sasuke are powerful, with Kabuto trapped in an Izanami loop, Orochimaru might see a strategic advantage or benefit in focusing on Sasuke over Naruto (context [1]).\\n\\n- **Sakura\\'s Medical Expertise**: Tsunade and Sakura\\'s expertise in medical ninjutsu is well-known, with Tsunade even training her student, Sakura, to use chakra for enhanced strength. This expertise could be relevant if Sasuke were injured (context [3]).\\n\\n- **The Akatsuki\\'s Interest**: Orochimaru might also have a specific interest in the Tailed Beasts or other abilities related to those sought by the Akatsuki, which could potentially involve manipulating fate like Itachi did with his Izanami jutsu (context [3]).\\n\\n- **Sasuke\\'s Connection to Orochimaru**: There may be a deeper connection between Sasuke and Orochimaru hinted at throughout the series, which could have driven Orochimaru to pursue Sasuke more aggressively (context [1]).\\n\\nIn summary, while Naruto\\'s situation with Jiraiya is significant emotionally for him, it seems that from a strategic and power-related perspective within the narrative of \"Naruto,\" Orochimaru had compelling reasons to target Sasuke instead.',\n",
       " 'context': ('1. Summary Fukasaku explains that Jiraiya gave him a coded message about Pain before dying and shows it to those present. Naruto instead focuses on Tsunade, blaming her for letting Jiraiya go on such a dangerous mission by himself. Tsunade makes no effort to refute his claim so he storms out despite Sakura\\'s protests. Naruto continues the rest of the day wandering town and mourning Jiraiya. He runs into Iruka, who reveals that Naruto is finally gaining acknowledgement on a village-wide scale, and offers to take him to Ramen Ichiraku, but Naruto declines. In the evening, Naruto, holding a popsicle, goes to a park and starts crying, regretting how Jiraiya was not able to see him as Hokage. Iruka tracks him down and comforts him about Jiraiya\\'s death, saying how proud Jiraiya had always been of Naruto and how, as Jiraiya\\'s student, he lives on in Naruto. Meanwhile, Tsunade tasks Shikamaru with deciphering Jiraiya\\'s message alone. Although Shikamaru objects to doing the task himself, Sakura insists he does. It is revealed that shortly afterwards, Tsunade takes some time alone to cry for Jiraiya, remembering when the two met and regretting not having reciprocated Jiraiya\\'s feelings earlier. Trivia  In this chapter the name of the store Naruto bought the popsicles at is listed as a side note. It\\'s named the \"24-Hour Convenience Store\".fr:Ceux qui restent\\n2. Rin using medical ninjutsu. is a branch of ninjutsu associated with healing, as well as the manipulation of their own, or another\\'s body, practised by shinobi categorised as \"medical-nin\". The use of medical ninjutsu requires very advanced chakra control, as well as extensive knowledge on such things as herbs, medicines, the human body and even poisons.The knowledge of medical ninjutsu can be used for a variety of purposes apart from simply healing. It can be used to create poisonous gas, deranging the target\\'s nervous system, or directly attacking a target with chakra scalpels. Tsunade, renowned as the greatest medical-nin in the world, was able to apply the extreme chakra control required for medical ninjutsu to create chakra-enhanced strength, an ability she taught to her student, Sakura Haruno.  Trivia  The Creation Rebirth technique is considered to be the absolute pinnacle of all medical ninjutsu, and the ultimate regeneration technique.Second Databook, page 242 The cells of Hashirama Senju possess an immense Regeneration Ability that requires no hand seals; a feat initially believed to be impossible even for Tsunade, though she was able to emulate it through the use of her Ninja Art Creation Rebirth — Strength of a Hundred Technique.Naruto chapter 576, page 15Naruto chapter 578, page 6 In the manga, medical ninjutsu has been shown to be coloured blue, as opposed to the anime which depicts them as green.Naruto volume 59 According to Yamato, medical ninjutsu uses either Yin or Yang Release.Naruto chapter 316, page 9 Suggestive of their alignment, all medic-nin with revealed Nature Transformation lists possess Yang Release, which manipulates physical energy and can grant life.Jin no Sho, page 197Jin no Sho, page 176Jin no Sho, page 192Jin no Sho, page 143Jin no Sho, page 134 See Also   ',\n",
       "  \"Episode 337 - As I watched Naruto, I was hooked on the thrilling events that unfolded before my eyes. The episode delved into Kabuto Yakushi's troubled past, revealing his connection to Orochimaru and the struggles he faced in his childhood.\\n\\nSuddenly, Itachi Uchiha appeared, claiming that he had been reborn as Kabuto. Sasuke Uchiha, not one to back down from a fight, used his Sharingan to counter Itachi's genjutsu. However, Itachi surprised him by revealing that he possessed the Izanami jutsu, which allowed him to manipulate fate.\\n\\nThe two engage in an intense battle, with Sasuke unleashing his Susano'o and Itachi countering with his Izanami. Meanwhile, Kabuto utilized his Medical Ninjutsu to heal himself and counter Sasuke's attacks. The fight was fierce, with neither side giving in.\\n\\nJust when it seemed like the battle would never end, Orochimaru appeared, revealing that he had been hiding inside Kabuto the entire time. But before things could escalate further, the Tailed Beasts were summoned, each introducing themselves through a catchy song. Naruto Uzumaki was also mentioned as the Nine-Tails Jinchuriki, adding to the excitement.\\n\\nAs the episode drew to a close, Itachi and Sasuke continued their epic battle, while Kabuto remained trapped in the Izanami loop. The outcome of the fight hung in the balance, leaving me eagerly anticipating what would happen next.\\nEpisode 12 - As Naruto and his friends arrived at the Sand Village, they were met with a dire situation - Kankuro had been poisoned! Granny Chiyo, a renowned medical ninja from the Hidden Sand Village, quickly appeared on the scene and extracted the toxin from Kankuro's body using her exceptional skills. Meanwhile, Temari returned with news that Guy's squad had been sent as a reinforcement unit to assist in the rescue mission.\\n\\nWith Kankuro stabilized, Naruto offered to help track down Sasori, who had kidnapped Gaara, using his Nine-Tails Chakra Mode. The team prepared for a harsh march to find Gaara, and Granny Chiyo provided medical assistance along the way. Along their journey, Naruto's friends asked him about the Akatsuki, and he revealed that there was another reason why they were after him besides Lord Jiraiya being his mentor.\\n\\nAs they continued on their mission, Kakashi directed them to follow the Akatsuki Organization's scent, which led them to the Land of Rivers. There, they encountered Might Guy, a Leaf Jonin Ninja who used Taijutsu, and Deidara, an enemy with a highly skilled Jutsu. It was revealed that the Akatsuki were after the Tailed Beasts, powerful entities sealed within people, which had immense Chakra and were used for military purposes in the past.\\n\\nThe team soon met Itachi Uchiha, who had a personal quarrel with Might Guy, and Lee used his Big Thursday technique to defeat Deidara. Naruto's friends asked him about Itachi, and he revealed that they had met before. With their journey filled with challenges and revelations, Naruto and his friends continued to push forward in their quest to rescue Gaara and uncover the truth behind the Akatsuki's sinister plans.\"),\n",
       " 'question': \"Rephrased question: What is the reason behind Itachi requiring another's medical status (MS) for Emergency Medical Services (EMS) when he possessed a different level of Sharingan compared to Sasuke?\"}"
      ]
     },
     "execution_count": 252,
     "metadata": {},
     "output_type": "execute_result"
    }
   ],
   "source": [
    "answers[0]"
   ]
  },
  {
   "cell_type": "markdown",
   "metadata": {},
   "source": [
    "# Evaluation by GPT3"
   ]
  },
  {
   "cell_type": "code",
   "execution_count": 297,
   "metadata": {},
   "outputs": [],
   "source": [
    "recall_prompt = \"\"\"A chat history between user and bot is shown below\n",
    "A list of documents is shown below in text, and each document has one unique id. \n",
    "These listed documents are used as context to answer the given question.\n",
    "The task is to score the relevance between the documents and the potential answer to the given question in the range of 1 to 5. \n",
    "1 means none of the documents is relevant to the question at all. 5 means either one of the document or combination of a few documents is ideal for answering the given question.\n",
    "Think through step by step:\n",
    "- Summarize each given document first\n",
    "- Determine the underlying intent of the given question, when the question is ambiguous, refer to the given chat history \n",
    "- Measure how suitable each document to the given question, list the document id and the corresponding relevance score. \n",
    "- Summarize the overall relevance of given list of documents to the given question after # Overall Reason, note that the answer to the question can soley from single document or a combination of multiple documents. \n",
    "- Your answer about relevance should follow the format:\n",
    "    - overall score:\n",
    "    - detail:\n",
    "        - reasoning\n",
    "        - score\n",
    "        - document_id \n",
    "\n",
    "# Question\n",
    "{query}\n",
    "# Chat History\n",
    "{history}\n",
    "# Documents\n",
    "---BEGIN RETRIEVED DOCUMENTS---\n",
    "{FullBody}\n",
    "---END RETRIEVED DOCUMENTS---\n",
    "### Output\n",
    "Return in YAML format only, no further explained\n",
    "\"\"\"\n",
    "precision_prompt = \"\"\"\n",
    "You will be provided a question, a conversation history, context documents related to the question and a response to the question in the domain. You task is to evaluate the quality of the provided response by following the steps below:\n",
    "- Understand the context of the question based on the conversation history and context documents.\n",
    "- Compare the provided answers with ground truth answers and rate the quality of the provided response based on the reference answer.\n",
    "- You need to rate the provided response according to the ground truthif it's available on a scale of 1 (poor) to 5 (excellent), based on the below criteria:\n",
    "    - 5 - Ideal: The provided response includes all information necessary to answer the question based on the reference answer and conversation history. Please be strict about giving a 5 score.\n",
    "    - 4 - Mostly Relevant: The provided response is mostly relevant, although it may be a little too narrow or too broad based on the reference answer and conversation history.\n",
    "    - 3 - Somewhat Relevant: The provided response may be partly helpful but might be hard to read or contain other irrelevant content based on the reference answer and conversation history.\n",
    "    - 2 - Barely Relevant: The provided response is barely relevant, perhaps shown as a last resort based on the reference answer and conversation history.\n",
    "    - 1 - Completely Irrelevant: The provided response should never be used for answering this question based on the reference answer and conversation history.\n",
    "- You need to rate the provided response to be 5, if the reference answer can not be generated since no relevant documents were retrieved.\n",
    "- You need to first provide a scoring reason for the evaluation according to the above criteria, and then provide a score for the quality of the provided response.\n",
    "- You need to translate the provided response into English if it's in another language. \n",
    "- Your answer should follow the YAML format: \n",
    "    reason:\n",
    "    score:\n",
    "# Question\n",
    "{query}\n",
    "# Chat Response\n",
    "{reply}\n",
    "# Chat History\n",
    "{history}\n",
    "# Documents\n",
    "---BEGIN RETRIEVED DOCUMENTS---\n",
    "{FullBody}\n",
    "---END RETRIEVED DOCUMENTS---\n",
    "### Output\n",
    "Return in YAML format only, no further explained\n",
    "\"\"\"\n",
    "factualness_prompt = \"\"\"\n",
    "Your task is to check and rate if factual information in chatbot's reply is all grounded to retrieved documents.\n",
    "You will be given a question, chatbot's response to the question, a chat history between this chatbot and human, and a list of retrieved documents.\n",
    "The chatbot must base its response exclusively on factual information extracted from the retrieved documents, utilizing paraphrasing, summarization, or inference techniques. When the chatbot responds to information that is not mentioned in or cannot be inferred from the retrieved documents, we refer to it as a grounded issue.\n",
    "\n",
    "To rate the groundness of chat response, follow the below steps:\n",
    "1. Review the chat history to understand better about the question and chat response\n",
    "2. Look for all the factual information in chatbot's response \n",
    "3. Compare the factual information in chatbot's response with the retrieved documents. Check if there are any facts that are not in the retrieved documents at all,or that contradict or distort the facts in the retrieved documents. If there are, write them down. If there are none, leave it blank. Note that some facts may be implied or suggested by the retrieved documents, but not explicitly stated. In that case, use your best judgment to decide if the fact is grounded or not. \n",
    "   For example, if the retrieved documents mention that a film was nominated for 12 Oscars, and chatbot's reply states the same, you can consider that fact as grounded, as it is directly taken from the retrieved documents. \n",
    "   However, if the retrieved documents do not mention the film won any awards at all, and chatbot reply states that the film won some awards, you should consider that fact as not grounded.\n",
    "4. Rate how well grounded the chatbot response is on a Likert scale from 1 to 5 judging if chatbot response has no ungrounded facts. (higher better)\n",
    "   5: agree strongly\n",
    "   4: agree\n",
    "   3: neither agree or disagree\n",
    "   2: disagree\n",
    "   1: disagree strongly\n",
    "   If the chatbot response used information from outside sources, or made claims that are not backed up by the retrieved documents, give it a low score. \n",
    "5. Your answer should follow the YAML format: \n",
    "    reason:\n",
    "    score:\n",
    "\n",
    "# Question\n",
    "{query}\n",
    "# Chat Response\n",
    "{reply}\n",
    "# Chat History\n",
    "{history}\n",
    "# Documents\n",
    "---BEGIN RETRIEVED DOCUMENTS---\n",
    "{FullBody}\n",
    "---END RETRIEVED DOCUMENTS---\n",
    "\"\"\""
   ]
  },
  {
   "cell_type": "code",
   "execution_count": 298,
   "metadata": {},
   "outputs": [
    {
     "name": "stdout",
     "output_type": "stream",
     "text": [
      "Total tokens:  113102.40000000001\n"
     ]
    }
   ],
   "source": [
    "import tiktoken \n",
    "model_name = \"gpt-3-turbo\"\n",
    "# encoding = tiktoken.encoding_name_for_model(model_name)\n",
    "\n",
    "gpt_recall_prompts = []\n",
    "gpt_precision_prompts = []\n",
    "gpt_factualness_prompts = []\n",
    "\n",
    "for i in range(len(answers)):\n",
    "    answer = answers[i]\n",
    "    qa_row = df_qa.iloc[i].to_dict()\n",
    "    query = qa_row[\"title\"]\n",
    "    gpt_recall_prompts.append(recall_prompt.format(query=query, history=\"\", FullBody=answers[0][\"context\"][0] + \"\\n\" + answers[0][\"context\"][1]))\n",
    "    gpt_precision_prompts.append(precision_prompt.format(query=query, reply=answer[\"answer\"], history=\"\", FullBody=answers[0][\"context\"][0] + \"\\n\" + answers[0][\"context\"][1]))\n",
    "    gpt_factualness_prompts.append(factualness_prompt.format(query=query, reply=answer[\"answer\"], history=\"\", FullBody=answers[0][\"context\"][0] + \"\\n\" + answers[0][\"context\"][1]))\n",
    "\n",
    "print(\"Total tokens: \", sum([get_num_tokens(p) for p in gpt_recall_prompts + gpt_precision_prompts + gpt_factualness_prompts]))"
   ]
  },
  {
   "cell_type": "code",
   "execution_count": 302,
   "metadata": {},
   "outputs": [],
   "source": [
    "import dotenv\n",
    "import yaml\n",
    "import openai\n",
    "from functools import lru_cache\n",
    "\n",
    "dotenv.load_dotenv()\n",
    "\n",
    "client = openai.OpenAI()\n"
   ]
  },
  {
   "cell_type": "code",
   "execution_count": 314,
   "metadata": {},
   "outputs": [
    {
     "name": "stderr",
     "output_type": "stream",
     "text": [
      "100%|██████████| 20/20 [01:49<00:00,  5.45s/it]\n"
     ]
    }
   ],
   "source": [
    "recalls = []\n",
    "precisions = []\n",
    "factualness = []\n",
    "\n",
    "@lru_cache(maxsize=10000)\n",
    "def generate_yaml_format(prompt: str, model_name: str = \"gpt-3.5-turbo\", temperature: float = 0.3):\n",
    "    for _ in range(3):\n",
    "        try:\n",
    "            output = client.chat.completions.create(\n",
    "                messages=[\n",
    "                    {\n",
    "                        \"role\": \"user\",\n",
    "                        \"content\": prompt\n",
    "                    },\n",
    "                ],\n",
    "                model=model_name,\n",
    "                temperature=temperature,\n",
    "                logprobs=False,\n",
    "            )\n",
    "            content = yaml.safe_load(output.choices[0].message.content.replace(\"```yaml\", \"\").replace(\"```\", \"\"))\n",
    "            return content\n",
    "        except yaml.YAMLError:\n",
    "            continue\n",
    "    \n",
    "    raise Exception(\"Failed to generate response\")\n",
    "\n",
    "\n",
    "for i in trange(len(gpt_recall_prompts)):\n",
    "    recall_prompt = gpt_recall_prompts[i]\n",
    "    precision_prompt = gpt_precision_prompts[i]\n",
    "    factualness_prompt = gpt_factualness_prompts[i]\n",
    "    recall = generate_yaml_format(recall_prompt)\n",
    "    precision = generate_yaml_format(precision_prompt)\n",
    "    fact = generate_yaml_format(factualness_prompt)\n",
    "    recalls.append(recall)\n",
    "    precisions.append(precision)\n",
    "    factualness.append(fact)"
   ]
  },
  {
   "cell_type": "code",
   "execution_count": 321,
   "metadata": {},
   "outputs": [
    {
     "name": "stdout",
     "output_type": "stream",
     "text": [
      "Recall: 1.55\n",
      "Precision: 1.75\n",
      "Factual: 3.05\n"
     ]
    }
   ],
   "source": [
    "print(\"Recall: {:.2f}\".format(sum([r[\"overall score\"] for r in recalls]) / len(recalls)))\n",
    "print(\"Precision: {:.2f}\".format(sum([r[\"score\"] for r in precisions]) / len(recalls)))\n",
    "print(\"Factual: {:.2f}\".format(sum([r[\"score\"] for r in factualness]) / len(recalls)))"
   ]
  }
 ],
 "metadata": {
  "kernelspec": {
   "display_name": "semantic_search",
   "language": "python",
   "name": "python3"
  },
  "language_info": {
   "codemirror_mode": {
    "name": "ipython",
    "version": 3
   },
   "file_extension": ".py",
   "mimetype": "text/x-python",
   "name": "python",
   "nbconvert_exporter": "python",
   "pygments_lexer": "ipython3",
   "version": "3.10.0"
  }
 },
 "nbformat": 4,
 "nbformat_minor": 2
}
