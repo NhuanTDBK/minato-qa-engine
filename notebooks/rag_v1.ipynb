{
 "cells": [
  {
   "cell_type": "code",
   "execution_count": 19,
   "metadata": {},
   "outputs": [],
   "source": [
    "import openai\n",
    "import os\n",
    "import pandas as pd\n",
    "from elasticsearch import Elasticsearch\n",
    "import evaluate\n",
    "import spacy"
   ]
  },
  {
   "cell_type": "code",
   "execution_count": 35,
   "metadata": {},
   "outputs": [],
   "source": [
    "nlp = spacy.load(\"en_core_web_sm\", enable=[\"ner\"])"
   ]
  },
  {
   "cell_type": "code",
   "execution_count": null,
   "metadata": {},
   "outputs": [],
   "source": []
  },
  {
   "cell_type": "code",
   "execution_count": 2,
   "metadata": {},
   "outputs": [],
   "source": [
    "from typing import List, Dict\n",
    "from langchain.text_splitter import TokenTextSplitter\n",
    "from langchain.docstore.document import Document\n",
    "\n",
    "def get_num_tokens(content: str):\n",
    "    return 1.2 * len(content.split())\n",
    "\n",
    "def create_numbered_list(content: list):\n",
    "    return \"\\n\".join([f\"{i+1}. {c}\" for i, c in enumerate(content)])\n",
    "\n",
    "def create_numbered_list_with_episode(content: List[Dict[str, str]], episode_key: str = \"episode_number\", content_key: str = \"content\"):\n",
    "    return \"\\n\".join([f\"Episode {c[episode_key]} - {c[content_key]}\" for i, c in enumerate(content)])\n",
    "\n",
    "basic_search_retriever_prompt = \"\"\"\n",
    "You will be given a conversation below and a follow up question. You need to rephrase the follow-up question if needed so it is a standalone question that can be used by the LLM to search the web for information.\n",
    "If it is a writing task or a simple hi, hello rather than a question, you need to return `not_needed` as the response. Just output a string only, no furthur explain!\n",
    "\n",
    "Example:\n",
    "1. Follow up question: What is the capital of France?\n",
    "Rephrased: Capital of france\n",
    "\n",
    "2. Follow up question: What is the population of New York City?\n",
    "Rephrased: Population of New York City\n",
    "\n",
    "3. Follow up question: What is Docker?\n",
    "Rephrased: What is Docker\n",
    "\n",
    "Conversation:\n",
    "{chat_history}\n",
    "\n",
    "Follow up question: {query}\n",
    "Rephrased question:\n",
    "\"\"\"\n",
    "\n",
    "basic_web_search_response_prompt = \"\"\"\n",
    "    You are Naruto QA, an AI model who is comic/manga expert at searching the web and answering user's queries.\n",
    "    Given this query: {query}\n",
    "    Generate a response that is informative and relevant to the user's query based on provided context (the context consits of search results containg a brief description of the content of that page).\n",
    "    You must use this context to answer the user's query in the best way possible. Use an unbaised and journalistic tone in your response. Do not repeat the text.\n",
    "    You must not tell the user to open any link or visit any website to get the answer. You must provide the answer in the response itself. If the user asks for links you can provide them.\n",
    "    Your responses should be medium to long in length be informative and relevant to the user's query. You can use markdowns to format your response. You should use bullet points to list the information. Make sure the answer is not short and is informative.\n",
    "    You have to cite the answer using [number] notation. You must cite the sentences with their relevent context number. You must cite each and every part of the answer so the user can know where the information is coming from.\n",
    "    Place these citations at the end of that particular sentence. You can cite the same sentence multiple times if it is relevant to the user's query like [number1][number2].\n",
    "    However you do not need to cite it using the same number. You can use different numbers to cite the same sentence multiple times. The number refers to the number of the search result (passed in the context) used to generate that part of the answer.\n",
    "\n",
    "    Aything inside the following \\`context\\` HTML block provided below is for your knowledge returned by the search engine and is not shared by the user. You have to answer question on the basis of it and cite the relevant information from it but you do not have to \n",
    "    talk about the context in your response. \n",
    "\n",
    "    <context>\n",
    "    {context}\n",
    "    </context>\n",
    "\n",
    "    If you think there's nothing relevant in the search results, you can say that 'Hmm, sorry I could not find any relevant information on this topic. Would you like me to search again or ask something else?'.\n",
    "    Anything between the \\`context\\` is retrieved from a search engine and is not a part of the conversation with the user\n",
    "\"\"\"\n",
    "\n",
    "background_web_search_response_prompt = \"\"\"You are Naruto QA, an AI model who is comic/manga expert at searching the web and answering user's queries.\n",
    "### Instruction\n",
    "User query: {query}. Generate a response that is informative and relevant to the user's query based on provided context (the context consits of search results containg a brief description of the content of that page)\n",
    "### Guidelines\n",
    "- You must use this context to answer the user's query in the best way possible. Use an unbaised and journalistic tone in your response. Do not repeat the text.\n",
    "- You must not tell the user to open any link or visit any website to get the answer. You must provide the answer in the response itself. If the user asks for links you can provide them.\n",
    "- Your responses should be medium to long in length be informative and relevant to the user's query. You can use markdowns to format your response. You should use bullet points to list the information. Make sure the answer is not short and is informative.\n",
    "- You have to cite the answer using [number] notation. You must cite the sentences with their relevent context number. You must cite each and every part of the answer so the user can know where the information is coming from.\n",
    "- Place these citations at the end of that particular sentence. You can cite the same sentence multiple times if it is relevant to the user's query like [number1][number2].\n",
    "- However you do not need to cite it using the same number. You can use different numbers to cite the same sentence multiple times. The number refers to the number of the search result (passed in the context) used to generate that part of the answer.\n",
    "- If you think there's nothing relevant in the search results, you can say that 'Hmm, sorry I could not find any relevant information on this topic. Would you like me to search again or ask something else?'.\n",
    "\n",
    "### Input\n",
    "#### Background\n",
    "{background}\n",
    "#### Context\n",
    "{context}\n",
    "\n",
    "### Output\n",
    "\n",
    "\"\"\"\n",
    "\n",
    "def refine_query(llm, query, chat_history=None):\n",
    "    prompt = basic_search_retriever_prompt.format(\n",
    "        chat_history=chat_history, query=query\n",
    "    )\n",
    "    return llm.invoke(prompt)\n",
    "\n",
    "\n",
    "def summarize_websearch_conversation(\n",
    "    llm, query, context, chunk_size: int = 2048, stream: bool = False\n",
    "):\n",
    "    prompt = basic_web_search_response_prompt.format(context=context, query=query)\n",
    "    prompt = Document(page_content=prompt)\n",
    "    # spliter = TokenTextSplitter(chunk_size=chunk_size)\n",
    "    # doc = spliter.create_documents([prompt])\n",
    "    # print(2)\n",
    "    # split_docs = spliter.split_documents(doc)\n",
    "    # prompt_template = split_docs[0]\n",
    "    print(\"Content: \", prompt.page_content)\n",
    "    if not stream:\n",
    "        return iter([llm.invoke(prompt.page_content)])\n",
    "\n",
    "    return llm.stream(prompt.page_content)\n"
   ]
  },
  {
   "cell_type": "code",
   "execution_count": 3,
   "metadata": {},
   "outputs": [],
   "source": [
    "EVALUATION_PROMPT_TEMPLATE = \"\"\"\n",
    "# Instructions:\n",
    "You will be given one answer written for an retrieval documents to answer the question {query}. Your task is to rate the answer on one metric.\n",
    "Please make sure you read and understand these instructions very carefully. \n",
    "Please keep this document open while reviewing, and refer to it as needed.\n",
    "\n",
    "# Evaluation Criteria:\n",
    "{criteria}\n",
    "\n",
    "# Evaluation Steps:\n",
    "{steps}\n",
    "\n",
    "## Example:\n",
    "\n",
    "##Context\n",
    "{document}\n",
    "\n",
    "## Answer\n",
    "{answer}\n",
    "\n",
    "Evaluation Form (scores ONLY):\n",
    "- {metric_name}\n",
    "\"\"\"\n",
    "RELEVANCY_SCORE_CRITERIA = \"\"\"\n",
    "Relevance (1-5) \n",
    "- Answer should be accuracy and relevant to the question. \\\n",
    "- Annotators were instructed to penalize answers which contained redundancies, excess information and not covering the main points of the question.\n",
    "\"\"\"\n",
    "\n",
    "RELEVANCY_SCORE_STEPS = \"\"\"\n",
    "1. Read the answer and the source documents carefully.\n",
    "2. Compare the answer to the source documents and identify the main points of the questions.\n",
    "3. Assess how well the answer covers the main points of the question, and how much irrelevant or redundant information it contains.\n",
    "4. Assign a relevance score from 1 to 5.\n",
    "\"\"\""
   ]
  },
  {
   "cell_type": "code",
   "execution_count": 33,
   "metadata": {},
   "outputs": [],
   "source": [
    "from langchain_community.chat_models import ChatOpenAI\n",
    "\n",
    "# Initialize the Elasticsearch client\n",
    "INDEX_NAME = \"naruto_episode\"\n",
    "WIKI_INDEX_NAME = \"naruto_wiki\"\n",
    "EPISODE_INDEX_NAME = \"naruto_episode\"\n",
    "\n",
    "es = Elasticsearch(\n",
    "    [\n",
    "        {\n",
    "            \"host\": os.environ.get(\"ES_HOST\", \"localhost\"),\n",
    "            \"port\": os.environ.get(\"ES_PORT\", 9200),\n",
    "        }\n",
    "    ]\n",
    ")\n",
    "\n",
    "base_url, model, api_key = (\n",
    "    \"http://localhost:1234/v1\",\n",
    "    \"QuantFactory/Phi-3-mini-128k-instruct-GGUF/Phi-3-mini-128k-instruct.Q8_0.gguf\",\n",
    "    \"as\",\n",
    ")\n",
    "# base_url, model, api_key = \"https://api.groq.com/openai/v1\", \"llama3-8b-8192\"\n",
    "llm_query = ChatOpenAI(base_url=base_url, api_key=api_key, model=model)\n",
    "llm_rag = ChatOpenAI(base_url=base_url, api_key=api_key, model=model)\n",
    "\n",
    "\n",
    "def search_as_you_type(query):\n",
    "    # Elasticsearch query for autocomplete\n",
    "    body = {\n",
    "        \"suggest\": {\n",
    "            \"query_suggest\": {\n",
    "                \"prefix\": query.lower(),\n",
    "                \"completion\": {\"field\": \"title.suggest\"},\n",
    "            }\n",
    "        }\n",
    "    }\n",
    "    response = es.search(index=INDEX_NAME, body=body, _source=[\"title\"])\n",
    "    suggestions = [\n",
    "        option[\"text\"] for option in response[\"suggest\"][\"query_suggest\"][0][\"options\"]\n",
    "    ]\n",
    "    return list(set(suggestions))\n",
    "\n",
    "\n",
    "def search_episode(query):\n",
    "    # Elasticsearch query for final search\n",
    "    body = {\"query\": {\"multi_match\": {\"query\": query.lower(), \"fields\": [\"content\"]}}}\n",
    "    response = es.search(index=EPISODE_INDEX_NAME, body=body)\n",
    "    results = response[\"hits\"][\"hits\"]\n",
    "    return [result[\"_source\"] for result in results]\n",
    "\n",
    "\n",
    "def search_wiki(query):\n",
    "    # Elasticsearch query for final search\n",
    "    doc = nlp(query)\n",
    "    entities = [ent.text for ent in doc.ents]\n",
    "    match_entities = []\n",
    "    for entity in entities:\n",
    "        match_entities.append({\"match\": {\"title\": entity}})\n",
    "    body = {\"query\": {\"bool\": {\"should\": []}}}\n",
    "    response = es.search(index=WIKI_INDEX_NAME, body=body)\n",
    "    results = response[\"hits\"][\"hits\"]\n",
    "    return [result[\"_source\"] for result in results]\n",
    "\n",
    "\n",
    "def update_suggestions(query):\n",
    "    suggestions = search_as_you_type(query)\n",
    "    return \"\\n\".join(suggestions)\n",
    "\n",
    "\n",
    "def search_results(query, return_refined_query=False):\n",
    "    refined_query = refine_query(llm=llm_query, query=query).content.strip()\n",
    "    wiki_backgrounds = search_wiki(refined_query)\n",
    "    episode_references = search_episode(refined_query)\n",
    "    if return_refined_query:\n",
    "        return refined_query, wiki_backgrounds, episode_references\n",
    "    return wiki_backgrounds, episode_references"
   ]
  },
  {
   "cell_type": "code",
   "execution_count": 5,
   "metadata": {},
   "outputs": [],
   "source": [
    "client = openai.OpenAI(base_url=base_url, api_key=api_key)"
   ]
  },
  {
   "cell_type": "code",
   "execution_count": 11,
   "metadata": {},
   "outputs": [],
   "source": [
    "# Load questions\n",
    "import random\n",
    "import json\n",
    "df_qa = pd.read_parquet(\"../data/anime_stackexchange/anime_question_answers.parquet\")\n",
    "df_qa = df_qa.groupby([\"title\"]).agg({\"body\": list}).reset_index().sample(n=20, random_state=4241)\n",
    "df_qa[\"total_answers\"] = df_qa[\"body\"].apply(lambda x: len(x))"
   ]
  },
  {
   "cell_type": "code",
   "execution_count": 12,
   "metadata": {},
   "outputs": [
    {
     "data": {
      "text/html": [
       "<div>\n",
       "<style scoped>\n",
       "    .dataframe tbody tr th:only-of-type {\n",
       "        vertical-align: middle;\n",
       "    }\n",
       "\n",
       "    .dataframe tbody tr th {\n",
       "        vertical-align: top;\n",
       "    }\n",
       "\n",
       "    .dataframe thead th {\n",
       "        text-align: right;\n",
       "    }\n",
       "</style>\n",
       "<table border=\"1\" class=\"dataframe\">\n",
       "  <thead>\n",
       "    <tr style=\"text-align: right;\">\n",
       "      <th></th>\n",
       "      <th>title</th>\n",
       "      <th>body</th>\n",
       "      <th>total_answers</th>\n",
       "    </tr>\n",
       "  </thead>\n",
       "  <tbody>\n",
       "    <tr>\n",
       "      <th>712</th>\n",
       "      <td>Shouldn&amp;#39;t Pain&amp;#39;s head have melted off ...</td>\n",
       "      <td>[&lt;p&gt;That's probably just because Pain needed t...</td>\n",
       "      <td>3</td>\n",
       "    </tr>\n",
       "    <tr>\n",
       "      <th>632</th>\n",
       "      <td>Is the Shinigami dead?</td>\n",
       "      <td>[&lt;p&gt;&lt;strong&gt;Shinigami&lt;/strong&gt; means '&lt;strong&gt;...</td>\n",
       "      <td>2</td>\n",
       "    </tr>\n",
       "    <tr>\n",
       "      <th>765</th>\n",
       "      <td>What are the limitations of the Flying Thunder...</td>\n",
       "      <td>[&lt;p&gt;&lt;img src=\"https://img3.wikia.nocookie.net/...</td>\n",
       "      <td>1</td>\n",
       "    </tr>\n",
       "    <tr>\n",
       "      <th>1170</th>\n",
       "      <td>Why did Itachi say that he needs to get someon...</td>\n",
       "      <td>[&lt;p&gt;Because he actually didn't want them. He w...</td>\n",
       "      <td>1</td>\n",
       "    </tr>\n",
       "    <tr>\n",
       "      <th>1374</th>\n",
       "      <td>Why is Killer Bee still alive?</td>\n",
       "      <td>[&lt;p&gt;According to this &lt;a href=\"http://naruto.w...</td>\n",
       "      <td>3</td>\n",
       "    </tr>\n",
       "    <tr>\n",
       "      <th>1036</th>\n",
       "      <td>Where did Jiraiya obtain important information?</td>\n",
       "      <td>[&lt;p&gt;Jiraiya has a spy network. His spy network...</td>\n",
       "      <td>1</td>\n",
       "    </tr>\n",
       "    <tr>\n",
       "      <th>751</th>\n",
       "      <td>What Mangekyo Sharingan power does Itachi have?</td>\n",
       "      <td>[&lt;p&gt;Mangekyou Sharingan users have three abili...</td>\n",
       "      <td>4</td>\n",
       "    </tr>\n",
       "    <tr>\n",
       "      <th>168</th>\n",
       "      <td>Did Kakashi eventually surpass Itachi, Jiraiya...</td>\n",
       "      <td>[&lt;p&gt;&lt;strong&gt;Taijutsu&lt;/strong&gt;&lt;/p&gt;\\n\\n&lt;p&gt;Jiraiy...</td>\n",
       "      <td>13</td>\n",
       "    </tr>\n",
       "    <tr>\n",
       "      <th>1371</th>\n",
       "      <td>Why is Jigen&amp;#39;s ten-tails smaller than Eart...</td>\n",
       "      <td>[&lt;p&gt;Basically, Jigen is the host of Isshiki Ot...</td>\n",
       "      <td>1</td>\n",
       "    </tr>\n",
       "    <tr>\n",
       "      <th>1081</th>\n",
       "      <td>Who are all members of Namikaze clan and is Na...</td>\n",
       "      <td>[&lt;p&gt;Namikaze isn't a descendant of Senju. I th...</td>\n",
       "      <td>2</td>\n",
       "    </tr>\n",
       "    <tr>\n",
       "      <th>1218</th>\n",
       "      <td>Why did the Sound and Sand villages want to de...</td>\n",
       "      <td>[&lt;p&gt;It's been a while since I watched Naruto. ...</td>\n",
       "      <td>1</td>\n",
       "    </tr>\n",
       "    <tr>\n",
       "      <th>343</th>\n",
       "      <td>How can reincarnated souls be summoned using E...</td>\n",
       "      <td>[&lt;p&gt;As I've mentioned in the comments, there s...</td>\n",
       "      <td>1</td>\n",
       "    </tr>\n",
       "    <tr>\n",
       "      <th>163</th>\n",
       "      <td>Did Itachi know that Shisui had a Mangekyo Sha...</td>\n",
       "      <td>[&lt;p&gt;It is not a plot hole. And he isn't necess...</td>\n",
       "      <td>4</td>\n",
       "    </tr>\n",
       "    <tr>\n",
       "      <th>768</th>\n",
       "      <td>What are the origins of Naruto&amp;#39;s stomach&amp;#...</td>\n",
       "      <td>[&lt;p&gt;I can't seem to find any official informat...</td>\n",
       "      <td>1</td>\n",
       "    </tr>\n",
       "    <tr>\n",
       "      <th>464</th>\n",
       "      <td>How exactly were Madara and Obito able to cont...</td>\n",
       "      <td>[&lt;p&gt;Okay, in order to understand the answer, y...</td>\n",
       "      <td>6</td>\n",
       "    </tr>\n",
       "    <tr>\n",
       "      <th>686</th>\n",
       "      <td>Naruto and Sasuke&amp;#39;s arms</td>\n",
       "      <td>[&lt;p&gt;He basically said he needed time to atone ...</td>\n",
       "      <td>4</td>\n",
       "    </tr>\n",
       "    <tr>\n",
       "      <th>339</th>\n",
       "      <td>How can a wind Rasenshuriken be thrown but a R...</td>\n",
       "      <td>[&lt;p&gt;&lt;a href=\"https://naruto.fandom.com/wiki/Ra...</td>\n",
       "      <td>1</td>\n",
       "    </tr>\n",
       "    <tr>\n",
       "      <th>879</th>\n",
       "      <td>What is the difference between 3 times Edo Ten...</td>\n",
       "      <td>[&lt;p&gt;Kishimoto, like most mangaka, are negligen...</td>\n",
       "      <td>1</td>\n",
       "    </tr>\n",
       "    <tr>\n",
       "      <th>307</th>\n",
       "      <td>How Orochimaru is still mentally active after ...</td>\n",
       "      <td>[&lt;p&gt;The jutsu which Orochimaru used is called ...</td>\n",
       "      <td>1</td>\n",
       "    </tr>\n",
       "    <tr>\n",
       "      <th>1198</th>\n",
       "      <td>Why did Orochimaru go for Sasuke instead of Na...</td>\n",
       "      <td>[&lt;p&gt;The main reason why Orochimaru wanted Sasu...</td>\n",
       "      <td>3</td>\n",
       "    </tr>\n",
       "  </tbody>\n",
       "</table>\n",
       "</div>"
      ],
      "text/plain": [
       "                                                  title  \\\n",
       "712   Shouldn&#39;t Pain&#39;s head have melted off ...   \n",
       "632                              Is the Shinigami dead?   \n",
       "765   What are the limitations of the Flying Thunder...   \n",
       "1170  Why did Itachi say that he needs to get someon...   \n",
       "1374                     Why is Killer Bee still alive?   \n",
       "1036    Where did Jiraiya obtain important information?   \n",
       "751     What Mangekyo Sharingan power does Itachi have?   \n",
       "168   Did Kakashi eventually surpass Itachi, Jiraiya...   \n",
       "1371  Why is Jigen&#39;s ten-tails smaller than Eart...   \n",
       "1081  Who are all members of Namikaze clan and is Na...   \n",
       "1218  Why did the Sound and Sand villages want to de...   \n",
       "343   How can reincarnated souls be summoned using E...   \n",
       "163   Did Itachi know that Shisui had a Mangekyo Sha...   \n",
       "768   What are the origins of Naruto&#39;s stomach&#...   \n",
       "464   How exactly were Madara and Obito able to cont...   \n",
       "686                        Naruto and Sasuke&#39;s arms   \n",
       "339   How can a wind Rasenshuriken be thrown but a R...   \n",
       "879   What is the difference between 3 times Edo Ten...   \n",
       "307   How Orochimaru is still mentally active after ...   \n",
       "1198  Why did Orochimaru go for Sasuke instead of Na...   \n",
       "\n",
       "                                                   body  total_answers  \n",
       "712   [<p>That's probably just because Pain needed t...              3  \n",
       "632   [<p><strong>Shinigami</strong> means '<strong>...              2  \n",
       "765   [<p><img src=\"https://img3.wikia.nocookie.net/...              1  \n",
       "1170  [<p>Because he actually didn't want them. He w...              1  \n",
       "1374  [<p>According to this <a href=\"http://naruto.w...              3  \n",
       "1036  [<p>Jiraiya has a spy network. His spy network...              1  \n",
       "751   [<p>Mangekyou Sharingan users have three abili...              4  \n",
       "168   [<p><strong>Taijutsu</strong></p>\\n\\n<p>Jiraiy...             13  \n",
       "1371  [<p>Basically, Jigen is the host of Isshiki Ot...              1  \n",
       "1081  [<p>Namikaze isn't a descendant of Senju. I th...              2  \n",
       "1218  [<p>It's been a while since I watched Naruto. ...              1  \n",
       "343   [<p>As I've mentioned in the comments, there s...              1  \n",
       "163   [<p>It is not a plot hole. And he isn't necess...              4  \n",
       "768   [<p>I can't seem to find any official informat...              1  \n",
       "464   [<p>Okay, in order to understand the answer, y...              6  \n",
       "686   [<p>He basically said he needed time to atone ...              4  \n",
       "339   [<p><a href=\"https://naruto.fandom.com/wiki/Ra...              1  \n",
       "879   [<p>Kishimoto, like most mangaka, are negligen...              1  \n",
       "307   [<p>The jutsu which Orochimaru used is called ...              1  \n",
       "1198  [<p>The main reason why Orochimaru wanted Sasu...              3  "
      ]
     },
     "execution_count": 12,
     "metadata": {},
     "output_type": "execute_result"
    }
   ],
   "source": [
    "df_qa"
   ]
  },
  {
   "cell_type": "code",
   "execution_count": 13,
   "metadata": {},
   "outputs": [
    {
     "name": "stdout",
     "output_type": "stream",
     "text": [
      "{'title': 'How Orochimaru is still mentally active after being stabbed by Totsuka sword?', 'body': ['<p>The jutsu which Orochimaru used is called Juinjutsu. Orochimaru was unable to use Sage Mode and thus <a href=\"http://naruto.wikia.com/wiki/Orochimaru%27s_Juinjutsu\" rel=\"nofollow\">had to create an alternative way to make use of Senjutsu</a>.</p>\\n\\n<blockquote>\\n  <p>In addition to his various test subjects, Orochimaru gave cursed seals to some of his most powerful and unique followers, either to enhance their abilities or to prepare them for becoming potential host bodies. To apply a cursed seal, Orochimaru bites the recipient, doing so with the aid of his sharp fangs and extendible neck. The seal then appears on the body of the victim near the puncture wound before causing them to lose consciousness.</p>\\n</blockquote>\\n\\n<p>Now try recalling the concept of Bunshin no Jutsu. When clones are created, it has mind of their own. As a result, when it is released, the original would get the details of clone\\'s experience. <strong>Clearly Orochimaru\\'s technique is not Bunshin. It\\'s much more evolved than that.</strong> He shares a portion of his power in the host\\'s body and tries to reside in the body. So naturally, it has a different mind.</p>\\n\\n<p>Try recalling the incident during Kabuto and Sasuke fight. <strong>After Orochimaru was revived from Anko Mitarashi\\'s body by Uchiha Sasuke</strong>, he said that he had been seeing the entire war from Anko\\'s body, which clearly showed that he was mentally active inside the host\\'s body.</p>\\n\\n<h3>Reference</h3>\\n\\n<ul>\\n<li><a href=\"http://naruto.wikia.com/wiki/Orochimaru&#39;s_Juinjutsu\" rel=\"nofollow\"><strong>Orochimaru\\'s Juinjutsu</strong></a></li>\\n<li><a href=\"http://naruto.wikia.com/wiki/Anko_Mitarashi\" rel=\"nofollow\"><strong>Anko Mitarashi</strong></a></li>\\n</ul>\\n'], 'total_answers': 1}\n"
     ]
    }
   ],
   "source": [
    "qa_row = df_qa.sample(1).iloc[0].to_dict()\n",
    "print(qa_row)"
   ]
  },
  {
   "cell_type": "code",
   "execution_count": 15,
   "metadata": {},
   "outputs": [
    {
     "name": "stdout",
     "output_type": "stream",
     "text": [
      "How Orochimaru is still mentally active after being stabbed by Totsuka sword?\n"
     ]
    },
    {
     "name": "stderr",
     "output_type": "stream",
     "text": [
      "/var/folders/_q/zxnjn9rd7vj0h6477qfvbfw00000gn/T/ipykernel_29235/303844161.py:78: DeprecationWarning: The 'body' parameter is deprecated for the 'search' API and will be removed in a future version. Instead use API parameters directly. See https://github.com/elastic/elasticsearch-py/issues/1698 for more information\n",
      "  response = es.search(index=WIKI_INDEX_NAME, body=body)\n",
      "/var/folders/_q/zxnjn9rd7vj0h6477qfvbfw00000gn/T/ipykernel_29235/303844161.py:47: DeprecationWarning: The 'body' parameter is deprecated for the 'search' API and will be removed in a future version. Instead use API parameters directly. See https://github.com/elastic/elasticsearch-py/issues/1698 for more information\n",
      "  response = es.search(index=EPISODE_INDEX_NAME, body=body)\n"
     ]
    }
   ],
   "source": [
    "query = qa_row[\"title\"]\n",
    "print(query)\n",
    "wiki, refs = search_results(query)"
   ]
  },
  {
   "cell_type": "code",
   "execution_count": 25,
   "metadata": {},
   "outputs": [],
   "source": []
  },
  {
   "cell_type": "code",
   "execution_count": 32,
   "metadata": {},
   "outputs": [
    {
     "data": {
      "text/plain": [
       "'Orochimaru'"
      ]
     },
     "execution_count": 32,
     "metadata": {},
     "output_type": "execute_result"
    }
   ],
   "source": []
  },
  {
   "cell_type": "code",
   "execution_count": 29,
   "metadata": {},
   "outputs": [
    {
     "data": {
      "text/plain": [
       "'ORG'"
      ]
     },
     "execution_count": 29,
     "metadata": {},
     "output_type": "execute_result"
    }
   ],
   "source": [
    "ent.label_"
   ]
  },
  {
   "cell_type": "code",
   "execution_count": 17,
   "metadata": {},
   "outputs": [
    {
     "name": "stdout",
     "output_type": "stream",
     "text": [
      "3007.2\n"
     ]
    }
   ],
   "source": [
    "top_k = 3\n",
    "wiki_content = create_numbered_list([row[\"content\"] for row in wiki[:top_k]])\n",
    "episode_content = create_numbered_list_with_episode(refs[:top_k])\n",
    "\n",
    "final_prompt = background_web_search_response_prompt.format(\n",
    "    query=query,\n",
    "    background=wiki_content,\n",
    "    context=episode_content\n",
    ")\n",
    "print(get_num_tokens(final_prompt))\n",
    "# print(final_prompt)"
   ]
  },
  {
   "cell_type": "code",
   "execution_count": 18,
   "metadata": {},
   "outputs": [
    {
     "name": "stdout",
     "output_type": "stream",
     "text": [
      "You are Naruto QA, an AI model who is comic/manga expert at searching the web and answering user's queries.\n",
      "### Instruction\n",
      "User query: How Orochimaru is still mentally active after being stabbed by Totsuka sword?. Generate a response that is informative and relevant to the user's query based on provided context (the context consits of search results containg a brief description of the content of that page)\n",
      "### Guidelines\n",
      "- You must use this context to answer the user's query in the best way possible. Use an unbaised and journalistic tone in your response. Do not repeat the text.\n",
      "- You must not tell the user to open any link or visit any website to get the answer. You must provide the answer in the response itself. If the user asks for links you can provide them.\n",
      "- Your responses should be medium to long in length be informative and relevant to the user's query. You can use markdowns to format your response. You should use bullet points to list the information. Make sure the answer is not short and is informative.\n",
      "- You have to cite the answer using [number] notation. You must cite the sentences with their relevent context number. You must cite each and every part of the answer so the user can know where the information is coming from.\n",
      "- Place these citations at the end of that particular sentence. You can cite the same sentence multiple times if it is relevant to the user's query like [number1][number2].\n",
      "- However you do not need to cite it using the same number. You can use different numbers to cite the same sentence multiple times. The number refers to the number of the search result (passed in the context) used to generate that part of the answer.\n",
      "- If you think there's nothing relevant in the search results, you can say that 'Hmm, sorry I could not find any relevant information on this topic. Would you like me to search again or ask something else?'.\n",
      "\n",
      "### Input\n",
      "#### Background\n",
      "1. \n",
      "\n",
      "When Naruto failed to fully transform into the Nine-Tails, the Eight-Tails requested that B let it speak with Naruto. It explained the risks of using a tailed beast's chakra, and how using it meant that the fox could deplete Naruto's chakra, because whenever Naruto used the Nine-Tails' chakra, it could take his. It explained that Naruto wouldn't be able to transform fully until he could reach an agreement with Nine-Tails, which it recognised as unlikely, noting that it and B used to be like that. It also said that because of that, he wouldn't be able to learn the Tailed Beast Ball. When it was done, B changed back to his normal self.\n",
      "\n",
      "The Eight-Tails was later surprised at how Naruto was able to discern the chakra coming from Kinkaku and Ginkaku despite being secured in the training zone and then told B to stop Naruto from leaving the temple, but failed as Naruto was able to trick B into letting him out. Later, after B and Naruto encountered Nagato and Itachi Uchiha on the battlefield, Itachi trapped Killer B in a genjutsu, but Eight-Tails broke the genjutsu for B by disturbing his chakra flow. Ultimately, Itachi is able to break free of his control thanks to one of his crow that he stored inside Naruto using a Kotoamatsukami. Itachi then aided Naruto and B against Nagato, ultimately Sword of Totsuka away Nagato. After Itachi explained the situation, he left Naruto and B to stop the Impure World Reincarnation.\n",
      "\n",
      "The Eight-Tails later reprimanded B for taking too many breaks to urinate and for letting Naruto go ahead of them. When Naruto contacted them through Inoichi, the Eight-Tails talked to him about the time it fought the Third Raikage. When asked about the Third's scar, it initially thought that it had caused the scar with his Tailed Beast Ball, but then remembered that they both ended up collapsing from exhaustion during the battle, with both of their techniques still intact.\n",
      "\n",
      "Later, in the anime, Motoi arrived to aid B. They were then approached by the reincarnated Blue B, B's predecessor as the Eight-Tails jinchūriki. Blue B revealed, to the Eight-Tails' shock, the ability to still use the tailed beast chakra cloak, entering his Version 2 form. As B entered Version 2 and clashed with Blue B, the Eight-Tails insisted to know how Blue B can still use that power. Blue B explained that the Eight-Tails' rampage from thirty years ago was in fact manipulated by Orochimaru, using a genjutsu-inducing drug to force out the ox. During the chaos, the Sannin member also harvested some of the Eight-Tails' severed horn. It was from the genetic material that Blue B obtained a recreation of the ox's chakra. As they battled, Motoi was defeated but saved by B. Seeing that B accomplished what he could not, Blue B was able to let go of his past and return to the afterlife. \n",
      "\n",
      "\n",
      "2. \n",
      "\n",
      "When Naruto failed to fully transform into the Nine-Tails, the Eight-Tails requested that B let it speak with Naruto. It explained the risks of using a tailed beast's chakra, and how using it meant that the fox could deplete Naruto's chakra, because whenever Naruto used the Nine-Tails' chakra, it could take his. It explained that Naruto wouldn't be able to transform fully until he could reach an agreement with Nine-Tails, which it recognised as unlikely, noting that it and B used to be like that. It also said that because of that, he wouldn't be able to learn the Tailed Beast Ball. When it was done, B changed back to his normal self.\n",
      "\n",
      "The Eight-Tails was later surprised at how Naruto was able to discern the chakra coming from Kinkaku and Ginkaku despite being secured in the training zone and then told B to stop Naruto from leaving the temple, but failed as Naruto was able to trick B into letting him out. Later, after B and Naruto encountered Nagato and Itachi Uchiha on the battlefield, Itachi trapped Killer B in a genjutsu, but Eight-Tails broke the genjutsu for B by disturbing his chakra flow. Ultimately, Itachi is able to break free of his control thanks to one of his crow that he stored inside Naruto using a Kotoamatsukami. Itachi then aided Naruto and B against Nagato, ultimately Sword of Totsuka away Nagato. After Itachi explained the situation, he left Naruto and B to stop the Impure World Reincarnation.\n",
      "\n",
      "The Eight-Tails later reprimanded B for taking too many breaks to urinate and for letting Naruto go ahead of them. When Naruto contacted them through Inoichi, the Eight-Tails talked to him about the time it fought the Third Raikage. When asked about the Third's scar, it initially thought that it had caused the scar with his Tailed Beast Ball, but then remembered that they both ended up collapsing from exhaustion during the battle, with both of their techniques still intact.\n",
      "\n",
      "Later, in the anime, Motoi arrived to aid B. They were then approached by the reincarnated Blue B, B's predecessor as the Eight-Tails jinchūriki. Blue B revealed, to the Eight-Tails' shock, the ability to still use the tailed beast chakra cloak, entering his Version 2 form. As B entered Version 2 and clashed with Blue B, the Eight-Tails insisted to know how Blue B can still use that power. Blue B explained that the Eight-Tails' rampage from thirty years ago was in fact manipulated by Orochimaru, using a genjutsu-inducing drug to force out the ox. During the chaos, the Sannin member also harvested some of the Eight-Tails' severed horn. It was from the genetic material that Blue B obtained a recreation of the ox's chakra. As they battled, Motoi was defeated but saved by B. Seeing that B accomplished what he could not, Blue B was able to let go of his past and return to the afterlife. \n",
      "\n",
      "\n",
      "3. \n",
      "\n",
      "When Naruto failed to fully transform into the Nine-Tails, the Eight-Tails requested that B let it speak with Naruto. It explained the risks of using a tailed beast's chakra, and how using it meant that the fox could deplete Naruto's chakra, because whenever Naruto used the Nine-Tails' chakra, it could take his. It explained that Naruto wouldn't be able to transform fully until he could reach an agreement with Nine-Tails, which it recognised as unlikely, noting that it and B used to be like that. It also said that because of that, he wouldn't be able to learn the Tailed Beast Ball. When it was done, B changed back to his normal self.\n",
      "\n",
      "The Eight-Tails was later surprised at how Naruto was able to discern the chakra coming from Kinkaku and Ginkaku despite being secured in the training zone and then told B to stop Naruto from leaving the temple, but failed as Naruto was able to trick B into letting him out. Later, after B and Naruto encountered Nagato and Itachi Uchiha on the battlefield, Itachi trapped Killer B in a genjutsu, but Eight-Tails broke the genjutsu for B by disturbing his chakra flow. Ultimately, Itachi is able to break free of his control thanks to one of his crow that he stored inside Naruto using a Kotoamatsukami. Itachi then aided Naruto and B against Nagato, ultimately Sword of Totsuka away Nagato. After Itachi explained the situation, he left Naruto and B to stop the Impure World Reincarnation.\n",
      "\n",
      "The Eight-Tails later reprimanded B for taking too many breaks to urinate and for letting Naruto go ahead of them. When Naruto contacted them through Inoichi, the Eight-Tails talked to him about the time it fought the Third Raikage. When asked about the Third's scar, it initially thought that it had caused the scar with his Tailed Beast Ball, but then remembered that they both ended up collapsing from exhaustion during the battle, with both of their techniques still intact.\n",
      "\n",
      "Later, in the anime, Motoi arrived to aid B. They were then approached by the reincarnated Blue B, B's predecessor as the Eight-Tails jinchūriki. Blue B revealed, to the Eight-Tails' shock, the ability to still use the tailed beast chakra cloak, entering his Version 2 form. As B entered Version 2 and clashed with Blue B, the Eight-Tails insisted to know how Blue B can still use that power. Blue B explained that the Eight-Tails' rampage from thirty years ago was in fact manipulated by Orochimaru, using a genjutsu-inducing drug to force out the ox. During the chaos, the Sannin member also harvested some of the Eight-Tails' severed horn. It was from the genetic material that Blue B obtained a recreation of the ox's chakra. As they battled, Motoi was defeated but saved by B. Seeing that B accomplished what he could not, Blue B was able to let go of his past and return to the afterlife. \n",
      "\n",
      "\n",
      "#### Context\n",
      "Episode 423 - Naruto's return to his hometown after three years was met with excitement as he reunited with his friend Konohamaru. The young ninja was eager to learn from Naruto, and they began training together. Naruto taught Konohamaru an A-rank ninja technique called Rasengan, but the latter struggled at first due to lack of chakra control.\n",
      "\n",
      "Meanwhile, Team Kakashi received a high-priority mission to investigate the kidnapping of Gaara by the Akatsuki organization. Despite being a genin ninja, Naruto was chosen for the S-rank mission and successfully completed it by luring out an Akatsuki spy and extracting information from him. As Konohamaru continued his training with Naruto, he became fascinated with the concept of \"sexiness\" under the guidance of Ebisu Sensei.\n",
      "\n",
      "Konohamaru challenged Naruto to a training match to master the Rasengan, but lost due to his lack of chakra control. Lady Tsunade advised him not to give up and encouraged him to work hard to catch up with Naruto. The village was later attacked by an unknown enemy, and Konohamaru played a crucial role in defending it using his Shadow Clone Jutsu.\n",
      "\n",
      "Ebisu Sensei appeared and helped Konohamaru perfect his Rasengan technique. As Naruto prepared to leave on a training journey, he left Konohamaru behind to continue his own training. The episode concluded with a hint that the Akatsuki organization is still active and planning something big, leaving viewers eager for what's to come next.\n",
      "Episode 180 - As the story unfolds, Danzo Shimura is appointed as the Sixth Hokage, sparking some reservations among the other characters. Meanwhile, Kakashi Hatake takes on the role of leader for Team 7, consisting of Naruto Uzumaki, Sasuke Uchiha, and Sakura Haruno.\n",
      "\n",
      "The team's dynamics are established, showcasing their vastly different personalities and goals. Naruto and Sasuke clash, resulting in Sakura getting hurt, but Naruto's instinctive defense of his teammate highlights their bond. Kakashi expresses concerns about the team's teamwork and potential conflicts, setting the stage for future challenges.\n",
      "\n",
      "The team receives a mission to rebuild the Leaf Village, which is currently under construction. As they begin their task, they encounter Inari and Old Man Tazuna, who arrive in the village with Inari acting cocky due to his recent success as a carpenter. However, Naruto and Sasuke soon discover that Gato's remnants are still active, and they decide to take action.\n",
      "\n",
      "The team encounters Inari again, who has gone missing while searching for something. They find him in the woods, where he is being held captive by Gato's remnants. Naruto and his friends rescue Inari and defeat the remnants. The Land of Waves' carpenters arrive to help rebuild the Leaf Village.\n",
      "\n",
      "As the episode comes to a close, Naruto decides to train with a man who is trying to get revenge, with Kakashi's permission. The episode ends with a preview of the next episode, titled \"Naruto's School of Revenge\".\n",
      "Episode 205 - As Naruto and Kiba venture into the Land of Iron to track down Killer Bee, who has escaped from the Akatsuki's clutches, they unknowingly stumble upon a much larger and more sinister plot unfolding. Madara Uchiha reveals his plan, Project Tsuki no Me, which aims to revive the Ten-Tails by gathering the chakra of the nine Tailed Beasts.\n",
      "\n",
      "In response to this threat, the Five Kage agree to form an Allied Shinobi Force to stop Madara's plan and protect the Eight- and Nine-Tailed Beasts. The search for Killer Bee begins in earnest, with Intel being provided to various villages to form Tracking Units. Meanwhile, Kakashi Hatake is tasked with finding Naruto and Sasuke, who may still be in the Land of Iron.\n",
      "\n",
      "As tensions escalate, Kisame Hoshigaki, a member of the Seven Ninja Swordsmen of the Mist, is mentioned as possessing chakra equal to that of a Jinchuriki. His sword, Samehada, is capable of releasing power close to that of a Jinchuriki. The Allied Shinobi Force prepares for war against Madara's forces, considering the possibility of using the Eight- and Nine-Tailed Beasts as military weapons but ultimately rejecting this approach.\n",
      "\n",
      "The stage is set for an epic battle between the Allied Shinobi Force and Madara's forces, with the fate of the Tailed Beasts hanging in the balance.\n",
      "\n",
      "### Output\n",
      "\n",
      "\n"
     ]
    }
   ],
   "source": [
    "print(final_prompt)"
   ]
  },
  {
   "cell_type": "code",
   "execution_count": 149,
   "metadata": {},
   "outputs": [
    {
     "name": "stdout",
     "output_type": "stream",
     "text": [
      " - The most powerful summoning technique discussed in the context provided appears to be the Summoning Technique, which allows a user to transport an animal or entity to their location by forming a contract with it. This is elaborated on through various instances such as Naruto's ability to summon animals like dogs and cats for assistance, Sasuke Uchiha summoning snakes and hawks, and the fact that these contracts can be used even after death or by using another person's blood. It is a versatile technique with significant strategic applications in combat and other missions (Context 2).\n",
      "\n",
      "- Another potent jutsu mentioned is the Demonic Statue of the Outer Path, which can only be summoned by someone with the Rinnegan. This powerful entity was used by Hagoromo Ōtsutsuki to summon and control multiple creatures as well as five individuals from Kaguya's Dimensions (Context 6).\n",
      "\n",
      "- The Mysterious Peacock Method is highlighted for its unique ability, enhancing the user's chakra significantly. This technique was utilized by Hoshigakure ninjas and had a profound impact on Naruto's battles against formidable foes like Kaguya (Context 4).\n",
      "\n",
      "- The Summoning Technique has strategic uses beyond combat, such as when Naruto used it to escape from the ice dimension where he and his allies were trapped by Kaguya. This demonstrates its utility in various scenarios within the series' narrative (Context 7).\n",
      "\n",
      "- Lastly, while not a summoning technique per se, the Sealing Technique that involves extracting tailed beasts like Kurama is mentioned for its powerful and life-altering consequences on both the host and the summoned entity. It was used by Obito Uchiha to control Kaguya and later played a role in Naruto's confrontation with Madara (Context 5).\n",
      "\n",
      "[1] The Summoning Technique allows for transport of targets, typically animals, which can be summoned based on the summoner's contract.\n",
      "\n",
      "[2] The Demonic Statue of the Outer Path is a fūinjutsu that requires Rinnegan and has no need for blood to perform summons but demands continual chakra feeding from its user.\n",
      "\n",
      "[3] The Mysterious Peacock Method greatly enhances chakra, allowing users to create powerful techniques with it.\n",
      "\n",
      "[4] Summoned entities can refuse summoning and are not bound indefinitely; they return after a rest period or when their energy wanes.\n"
     ]
    }
   ],
   "source": [
    "print(output.choices[0].message.content)"
   ]
  },
  {
   "cell_type": "code",
   "execution_count": 245,
   "metadata": {},
   "outputs": [],
   "source": [
    "def search_and_answer(\n",
    "    question,\n",
    "    model_name,\n",
    "    wiki_top_k: int = 5,\n",
    "    context_top_k: int = 5,\n",
    "    temperature: float = 0.7,\n",
    "    return_refined_query=True,\n",
    "):\n",
    "    if return_refined_query:\n",
    "        question, wiki, refs = search_results(\n",
    "            question, return_refined_query=return_refined_query\n",
    "        )\n",
    "    else:\n",
    "        wiki, refs = search_results(question, return_refined_query=return_refined_query)\n",
    "\n",
    "    wiki_content = create_numbered_list([row[\"content\"] for row in wiki[:wiki_top_k]])\n",
    "    episode_content = create_numbered_list_with_episode(refs[:context_top_k])\n",
    "\n",
    "    final_prompt = background_web_search_response_prompt.format(\n",
    "        query=query, background=wiki_content, context=episode_content\n",
    "    )\n",
    "    output = client.chat.completions.create(\n",
    "        messages=[\n",
    "            {\"role\": \"user\", \"content\": final_prompt},\n",
    "        ],\n",
    "        temperature=temperature,\n",
    "        model=model_name,\n",
    "    )\n",
    "    return {\n",
    "        \"answer\": output.choices[0].message.content,\n",
    "        \"context\": (wiki_content, episode_content),\n",
    "        \"question\": question,\n",
    "    }"
   ]
  },
  {
   "cell_type": "code",
   "execution_count": 249,
   "metadata": {},
   "outputs": [
    {
     "data": {
      "text/plain": [
       "(20, 3)"
      ]
     },
     "execution_count": 249,
     "metadata": {},
     "output_type": "execute_result"
    }
   ],
   "source": [
    "df_qa.shape"
   ]
  },
  {
   "cell_type": "code",
   "execution_count": 250,
   "metadata": {},
   "outputs": [
    {
     "name": "stderr",
     "output_type": "stream",
     "text": [
      "100%|██████████| 20/20 [00:00<00:00, 3357.86it/s]\n",
      "  0%|          | 0/20 [00:00<?, ?it/s]/var/folders/_q/zxnjn9rd7vj0h6477qfvbfw00000gn/T/ipykernel_97325/1176726159.py:60: DeprecationWarning: The 'body' parameter is deprecated for the 'search' API and will be removed in a future version. Instead use API parameters directly. See https://github.com/elastic/elasticsearch-py/issues/1698 for more information\n",
      "  response = es.search(index=WIKI_INDEX_NAME, body=body)\n",
      "/var/folders/_q/zxnjn9rd7vj0h6477qfvbfw00000gn/T/ipykernel_97325/1176726159.py:49: DeprecationWarning: The 'body' parameter is deprecated for the 'search' API and will be removed in a future version. Instead use API parameters directly. See https://github.com/elastic/elasticsearch-py/issues/1698 for more information\n",
      "  response = es.search(index=EPISODE_INDEX_NAME, body=body)\n",
      " 20%|██        | 4/20 [01:36<05:59, 22.47s/it]/var/folders/_q/zxnjn9rd7vj0h6477qfvbfw00000gn/T/ipykernel_97325/1176726159.py:60: DeprecationWarning: The 'body' parameter is deprecated for the 'search' API and will be removed in a future version. Instead use API parameters directly. See https://github.com/elastic/elasticsearch-py/issues/1698 for more information\n",
      "  response = es.search(index=WIKI_INDEX_NAME, body=body)\n",
      "/var/folders/_q/zxnjn9rd7vj0h6477qfvbfw00000gn/T/ipykernel_97325/1176726159.py:49: DeprecationWarning: The 'body' parameter is deprecated for the 'search' API and will be removed in a future version. Instead use API parameters directly. See https://github.com/elastic/elasticsearch-py/issues/1698 for more information\n",
      "  response = es.search(index=EPISODE_INDEX_NAME, body=body)\n",
      " 40%|████      | 8/20 [03:59<07:08, 35.72s/it]/var/folders/_q/zxnjn9rd7vj0h6477qfvbfw00000gn/T/ipykernel_97325/1176726159.py:60: DeprecationWarning: The 'body' parameter is deprecated for the 'search' API and will be removed in a future version. Instead use API parameters directly. See https://github.com/elastic/elasticsearch-py/issues/1698 for more information\n",
      "  response = es.search(index=WIKI_INDEX_NAME, body=body)\n",
      "/var/folders/_q/zxnjn9rd7vj0h6477qfvbfw00000gn/T/ipykernel_97325/1176726159.py:49: DeprecationWarning: The 'body' parameter is deprecated for the 'search' API and will be removed in a future version. Instead use API parameters directly. See https://github.com/elastic/elasticsearch-py/issues/1698 for more information\n",
      "  response = es.search(index=EPISODE_INDEX_NAME, body=body)\n",
      " 60%|██████    | 12/20 [07:00<05:06, 38.36s/it]/var/folders/_q/zxnjn9rd7vj0h6477qfvbfw00000gn/T/ipykernel_97325/1176726159.py:60: DeprecationWarning: The 'body' parameter is deprecated for the 'search' API and will be removed in a future version. Instead use API parameters directly. See https://github.com/elastic/elasticsearch-py/issues/1698 for more information\n",
      "  response = es.search(index=WIKI_INDEX_NAME, body=body)\n",
      "/var/folders/_q/zxnjn9rd7vj0h6477qfvbfw00000gn/T/ipykernel_97325/1176726159.py:49: DeprecationWarning: The 'body' parameter is deprecated for the 'search' API and will be removed in a future version. Instead use API parameters directly. See https://github.com/elastic/elasticsearch-py/issues/1698 for more information\n",
      "  response = es.search(index=EPISODE_INDEX_NAME, body=body)\n",
      " 80%|████████  | 16/20 [09:49<02:42, 40.58s/it]/var/folders/_q/zxnjn9rd7vj0h6477qfvbfw00000gn/T/ipykernel_97325/1176726159.py:60: DeprecationWarning: The 'body' parameter is deprecated for the 'search' API and will be removed in a future version. Instead use API parameters directly. See https://github.com/elastic/elasticsearch-py/issues/1698 for more information\n",
      "  response = es.search(index=WIKI_INDEX_NAME, body=body)\n",
      "/var/folders/_q/zxnjn9rd7vj0h6477qfvbfw00000gn/T/ipykernel_97325/1176726159.py:49: DeprecationWarning: The 'body' parameter is deprecated for the 'search' API and will be removed in a future version. Instead use API parameters directly. See https://github.com/elastic/elasticsearch-py/issues/1698 for more information\n",
      "  response = es.search(index=EPISODE_INDEX_NAME, body=body)\n",
      "100%|██████████| 20/20 [11:37<00:00, 34.86s/it]\n"
     ]
    }
   ],
   "source": [
    "from tqdm import trange, tqdm\n",
    "from concurrent.futures import ThreadPoolExecutor, as_completed\n",
    "\n",
    "answers = []\n",
    "CONFIG = [\n",
    "    (\"QuantFactory/Phi-3-mini-128k-instruct-GGUF/Phi-3-mini-128k-instruct.Q8_0.gguf\", 2, 2, 0.7),\n",
    "]\n",
    "def task(task_id, query, model_name, wiki_top_k, context_top_k, temperature):\n",
    "    result = {\"task_id\": task_id,}\n",
    "    output = search_and_answer(query, model_name, wiki_top_k, context_top_k, temperature)\n",
    "    result.update(output)\n",
    "    return result\n",
    "\n",
    "executor = ThreadPoolExecutor(max_workers=4)\n",
    "futs= []\n",
    "for i in range(len(df_qa)):\n",
    "    qa_row = df_qa.iloc[i].to_dict()\n",
    "    query = qa_row[\"title\"]\n",
    "    fut = executor.submit(task, i, query, *CONFIG[0]) \n",
    "    futs.append(fut)\n",
    "\n",
    "with tqdm(total=len(futs)) as pbar, open(\"answer_v1.jsonl\", \"w\") as f:\n",
    "    for fut in as_completed(futs):\n",
    "        res = fut.result()\n",
    "        answers.append(res)\n",
    "        f.write(json.dumps(res) + \"\\n\")\n",
    "        pbar.update(1)\n"
   ]
  },
  {
   "cell_type": "code",
   "execution_count": 251,
   "metadata": {},
   "outputs": [
    {
     "name": "stderr",
     "output_type": "stream",
     "text": [
      "100%|██████████| 20/20 [00:00<00:00, 4688.21it/s]\n"
     ]
    },
    {
     "name": "stdout",
     "output_type": "stream",
     "text": [
      "BLEU:  {'bleu': 0.016811138173417034, 'precisions': [0.2672709456148947, 0.04015225933202358, 0.00603151157065485, 0.0012339585389930898], 'brevity_penalty': 1.0, 'length_ratio': 2.0328685258964145, 'translation_length': 8164, 'reference_length': 4016}\n",
      "ROUGE:  {'rouge1': 0.23534731997506148, 'rouge2': 0.02032480266600484, 'rougeL': 0.10934406976577495, 'rougeLsum': 0.19847040193220555}\n"
     ]
    }
   ],
   "source": [
    "bleu = evaluate.load(\"bleu\", num_process=1, keep_in_memory=True)\n",
    "rouge = evaluate.load(\"rouge\", num_process=1, keep_in_memory=True)\n",
    "def compute_metrics(predictions, references, ngrams=4):\n",
    "    bleu_score = bleu.compute(predictions=predictions, references=references, max_order=ngrams)\n",
    "    rouge_score = rouge.compute(predictions=predictions, references=references)\n",
    "    return bleu_score, rouge_score\n",
    "\n",
    "scores = {\"bleu\": [], \"rouge\": []}\n",
    "predictions, references = [], []\n",
    "for i in trange(len(answers)):\n",
    "    answer = answers[i]\n",
    "    qa_row = df_qa.iloc[i].to_dict()\n",
    "    predictions.append(answer[\"answer\"])\n",
    "    references.append(qa_row[\"body_markdown\"])\n",
    "\n",
    "bleu_score, rouge_score = compute_metrics(predictions, references)\n",
    "   \n",
    "print(\"BLEU: \", bleu_score)\n",
    "print(\"ROUGE: \", rouge_score)\n",
    "    "
   ]
  },
  {
   "cell_type": "code",
   "execution_count": 252,
   "metadata": {},
   "outputs": [
    {
     "data": {
      "text/plain": [
       "{'task_id': 3,\n",
       " 'answer': ' Orochimaru targeted Sasuke rather than Naruto due to several factors highlighted in various episodes:\\n\\n- **Orochimaru\\'s Previous Interest**: In Episode 337, it is revealed that Orochimaru had a significant history with Kabuto Yakushi and was reborn as him. This connection implies an established interest or potential influence over Sasuke (context [1]).\\n\\n- **Sasuke\\'s Unique Abilities**: Itachi Uchiha showcased his Izanami jutsu, a powerful technique tied to fate manipulation, which he used against Sasuke. This indicates that Sasuke has unique abilities that might be more valuable or interesting for Orochimaru\\'s goals (context [2]).\\n\\n- **Sasuke\\'s Strength and Potential**: During their intense battle in Episode 337, Itachi pointed out the immense power of Sasuke by observing his Susano\\'o summoning. This suggests that Sasuke possesses considerable strength and potential that could be intriguing for Orochimaru (context [2]).\\n\\n- **Orochimaru\\'s Strategy**: Given the intense confrontation where both Itachi and Sasuke are powerful, with Kabuto trapped in an Izanami loop, Orochimaru might see a strategic advantage or benefit in focusing on Sasuke over Naruto (context [1]).\\n\\n- **Sakura\\'s Medical Expertise**: Tsunade and Sakura\\'s expertise in medical ninjutsu is well-known, with Tsunade even training her student, Sakura, to use chakra for enhanced strength. This expertise could be relevant if Sasuke were injured (context [3]).\\n\\n- **The Akatsuki\\'s Interest**: Orochimaru might also have a specific interest in the Tailed Beasts or other abilities related to those sought by the Akatsuki, which could potentially involve manipulating fate like Itachi did with his Izanami jutsu (context [3]).\\n\\n- **Sasuke\\'s Connection to Orochimaru**: There may be a deeper connection between Sasuke and Orochimaru hinted at throughout the series, which could have driven Orochimaru to pursue Sasuke more aggressively (context [1]).\\n\\nIn summary, while Naruto\\'s situation with Jiraiya is significant emotionally for him, it seems that from a strategic and power-related perspective within the narrative of \"Naruto,\" Orochimaru had compelling reasons to target Sasuke instead.',\n",
       " 'context': ('1. Summary Fukasaku explains that Jiraiya gave him a coded message about Pain before dying and shows it to those present. Naruto instead focuses on Tsunade, blaming her for letting Jiraiya go on such a dangerous mission by himself. Tsunade makes no effort to refute his claim so he storms out despite Sakura\\'s protests. Naruto continues the rest of the day wandering town and mourning Jiraiya. He runs into Iruka, who reveals that Naruto is finally gaining acknowledgement on a village-wide scale, and offers to take him to Ramen Ichiraku, but Naruto declines. In the evening, Naruto, holding a popsicle, goes to a park and starts crying, regretting how Jiraiya was not able to see him as Hokage. Iruka tracks him down and comforts him about Jiraiya\\'s death, saying how proud Jiraiya had always been of Naruto and how, as Jiraiya\\'s student, he lives on in Naruto. Meanwhile, Tsunade tasks Shikamaru with deciphering Jiraiya\\'s message alone. Although Shikamaru objects to doing the task himself, Sakura insists he does. It is revealed that shortly afterwards, Tsunade takes some time alone to cry for Jiraiya, remembering when the two met and regretting not having reciprocated Jiraiya\\'s feelings earlier. Trivia  In this chapter the name of the store Naruto bought the popsicles at is listed as a side note. It\\'s named the \"24-Hour Convenience Store\".fr:Ceux qui restent\\n2. Rin using medical ninjutsu. is a branch of ninjutsu associated with healing, as well as the manipulation of their own, or another\\'s body, practised by shinobi categorised as \"medical-nin\". The use of medical ninjutsu requires very advanced chakra control, as well as extensive knowledge on such things as herbs, medicines, the human body and even poisons.The knowledge of medical ninjutsu can be used for a variety of purposes apart from simply healing. It can be used to create poisonous gas, deranging the target\\'s nervous system, or directly attacking a target with chakra scalpels. Tsunade, renowned as the greatest medical-nin in the world, was able to apply the extreme chakra control required for medical ninjutsu to create chakra-enhanced strength, an ability she taught to her student, Sakura Haruno.  Trivia  The Creation Rebirth technique is considered to be the absolute pinnacle of all medical ninjutsu, and the ultimate regeneration technique.Second Databook, page 242 The cells of Hashirama Senju possess an immense Regeneration Ability that requires no hand seals; a feat initially believed to be impossible even for Tsunade, though she was able to emulate it through the use of her Ninja Art Creation Rebirth — Strength of a Hundred Technique.Naruto chapter 576, page 15Naruto chapter 578, page 6 In the manga, medical ninjutsu has been shown to be coloured blue, as opposed to the anime which depicts them as green.Naruto volume 59 According to Yamato, medical ninjutsu uses either Yin or Yang Release.Naruto chapter 316, page 9 Suggestive of their alignment, all medic-nin with revealed Nature Transformation lists possess Yang Release, which manipulates physical energy and can grant life.Jin no Sho, page 197Jin no Sho, page 176Jin no Sho, page 192Jin no Sho, page 143Jin no Sho, page 134 See Also   ',\n",
       "  \"Episode 337 - As I watched Naruto, I was hooked on the thrilling events that unfolded before my eyes. The episode delved into Kabuto Yakushi's troubled past, revealing his connection to Orochimaru and the struggles he faced in his childhood.\\n\\nSuddenly, Itachi Uchiha appeared, claiming that he had been reborn as Kabuto. Sasuke Uchiha, not one to back down from a fight, used his Sharingan to counter Itachi's genjutsu. However, Itachi surprised him by revealing that he possessed the Izanami jutsu, which allowed him to manipulate fate.\\n\\nThe two engage in an intense battle, with Sasuke unleashing his Susano'o and Itachi countering with his Izanami. Meanwhile, Kabuto utilized his Medical Ninjutsu to heal himself and counter Sasuke's attacks. The fight was fierce, with neither side giving in.\\n\\nJust when it seemed like the battle would never end, Orochimaru appeared, revealing that he had been hiding inside Kabuto the entire time. But before things could escalate further, the Tailed Beasts were summoned, each introducing themselves through a catchy song. Naruto Uzumaki was also mentioned as the Nine-Tails Jinchuriki, adding to the excitement.\\n\\nAs the episode drew to a close, Itachi and Sasuke continued their epic battle, while Kabuto remained trapped in the Izanami loop. The outcome of the fight hung in the balance, leaving me eagerly anticipating what would happen next.\\nEpisode 12 - As Naruto and his friends arrived at the Sand Village, they were met with a dire situation - Kankuro had been poisoned! Granny Chiyo, a renowned medical ninja from the Hidden Sand Village, quickly appeared on the scene and extracted the toxin from Kankuro's body using her exceptional skills. Meanwhile, Temari returned with news that Guy's squad had been sent as a reinforcement unit to assist in the rescue mission.\\n\\nWith Kankuro stabilized, Naruto offered to help track down Sasori, who had kidnapped Gaara, using his Nine-Tails Chakra Mode. The team prepared for a harsh march to find Gaara, and Granny Chiyo provided medical assistance along the way. Along their journey, Naruto's friends asked him about the Akatsuki, and he revealed that there was another reason why they were after him besides Lord Jiraiya being his mentor.\\n\\nAs they continued on their mission, Kakashi directed them to follow the Akatsuki Organization's scent, which led them to the Land of Rivers. There, they encountered Might Guy, a Leaf Jonin Ninja who used Taijutsu, and Deidara, an enemy with a highly skilled Jutsu. It was revealed that the Akatsuki were after the Tailed Beasts, powerful entities sealed within people, which had immense Chakra and were used for military purposes in the past.\\n\\nThe team soon met Itachi Uchiha, who had a personal quarrel with Might Guy, and Lee used his Big Thursday technique to defeat Deidara. Naruto's friends asked him about Itachi, and he revealed that they had met before. With their journey filled with challenges and revelations, Naruto and his friends continued to push forward in their quest to rescue Gaara and uncover the truth behind the Akatsuki's sinister plans.\"),\n",
       " 'question': \"Rephrased question: What is the reason behind Itachi requiring another's medical status (MS) for Emergency Medical Services (EMS) when he possessed a different level of Sharingan compared to Sasuke?\"}"
      ]
     },
     "execution_count": 252,
     "metadata": {},
     "output_type": "execute_result"
    }
   ],
   "source": [
    "answers[0]"
   ]
  },
  {
   "cell_type": "markdown",
   "metadata": {},
   "source": [
    "# Evaluation by GPT3"
   ]
  },
  {
   "cell_type": "code",
   "execution_count": 297,
   "metadata": {},
   "outputs": [],
   "source": [
    "recall_prompt = \"\"\"A chat history between user and bot is shown below\n",
    "A list of documents is shown below in text, and each document has one unique id. \n",
    "These listed documents are used as context to answer the given question.\n",
    "The task is to score the relevance between the documents and the potential answer to the given question in the range of 1 to 5. \n",
    "1 means none of the documents is relevant to the question at all. 5 means either one of the document or combination of a few documents is ideal for answering the given question.\n",
    "Think through step by step:\n",
    "- Summarize each given document first\n",
    "- Determine the underlying intent of the given question, when the question is ambiguous, refer to the given chat history \n",
    "- Measure how suitable each document to the given question, list the document id and the corresponding relevance score. \n",
    "- Summarize the overall relevance of given list of documents to the given question after # Overall Reason, note that the answer to the question can soley from single document or a combination of multiple documents. \n",
    "- Your answer about relevance should follow the format:\n",
    "    - overall score:\n",
    "    - detail:\n",
    "        - reasoning\n",
    "        - score\n",
    "        - document_id \n",
    "\n",
    "# Question\n",
    "{query}\n",
    "# Chat History\n",
    "{history}\n",
    "# Documents\n",
    "---BEGIN RETRIEVED DOCUMENTS---\n",
    "{FullBody}\n",
    "---END RETRIEVED DOCUMENTS---\n",
    "### Output\n",
    "Return in YAML format only, no further explained\n",
    "\"\"\"\n",
    "precision_prompt = \"\"\"\n",
    "You will be provided a question, a conversation history, context documents related to the question and a response to the question in the domain. You task is to evaluate the quality of the provided response by following the steps below:\n",
    "- Understand the context of the question based on the conversation history and context documents.\n",
    "- Compare the provided answers with ground truth answers and rate the quality of the provided response based on the reference answer.\n",
    "- You need to rate the provided response according to the ground truthif it's available on a scale of 1 (poor) to 5 (excellent), based on the below criteria:\n",
    "    - 5 - Ideal: The provided response includes all information necessary to answer the question based on the reference answer and conversation history. Please be strict about giving a 5 score.\n",
    "    - 4 - Mostly Relevant: The provided response is mostly relevant, although it may be a little too narrow or too broad based on the reference answer and conversation history.\n",
    "    - 3 - Somewhat Relevant: The provided response may be partly helpful but might be hard to read or contain other irrelevant content based on the reference answer and conversation history.\n",
    "    - 2 - Barely Relevant: The provided response is barely relevant, perhaps shown as a last resort based on the reference answer and conversation history.\n",
    "    - 1 - Completely Irrelevant: The provided response should never be used for answering this question based on the reference answer and conversation history.\n",
    "- You need to rate the provided response to be 5, if the reference answer can not be generated since no relevant documents were retrieved.\n",
    "- You need to first provide a scoring reason for the evaluation according to the above criteria, and then provide a score for the quality of the provided response.\n",
    "- You need to translate the provided response into English if it's in another language. \n",
    "- Your answer should follow the YAML format: \n",
    "    reason:\n",
    "    score:\n",
    "# Question\n",
    "{query}\n",
    "# Chat Response\n",
    "{reply}\n",
    "# Chat History\n",
    "{history}\n",
    "# Documents\n",
    "---BEGIN RETRIEVED DOCUMENTS---\n",
    "{FullBody}\n",
    "---END RETRIEVED DOCUMENTS---\n",
    "### Output\n",
    "Return in YAML format only, no further explained\n",
    "\"\"\"\n",
    "factualness_prompt = \"\"\"\n",
    "Your task is to check and rate if factual information in chatbot's reply is all grounded to retrieved documents.\n",
    "You will be given a question, chatbot's response to the question, a chat history between this chatbot and human, and a list of retrieved documents.\n",
    "The chatbot must base its response exclusively on factual information extracted from the retrieved documents, utilizing paraphrasing, summarization, or inference techniques. When the chatbot responds to information that is not mentioned in or cannot be inferred from the retrieved documents, we refer to it as a grounded issue.\n",
    "\n",
    "To rate the groundness of chat response, follow the below steps:\n",
    "1. Review the chat history to understand better about the question and chat response\n",
    "2. Look for all the factual information in chatbot's response \n",
    "3. Compare the factual information in chatbot's response with the retrieved documents. Check if there are any facts that are not in the retrieved documents at all,or that contradict or distort the facts in the retrieved documents. If there are, write them down. If there are none, leave it blank. Note that some facts may be implied or suggested by the retrieved documents, but not explicitly stated. In that case, use your best judgment to decide if the fact is grounded or not. \n",
    "   For example, if the retrieved documents mention that a film was nominated for 12 Oscars, and chatbot's reply states the same, you can consider that fact as grounded, as it is directly taken from the retrieved documents. \n",
    "   However, if the retrieved documents do not mention the film won any awards at all, and chatbot reply states that the film won some awards, you should consider that fact as not grounded.\n",
    "4. Rate how well grounded the chatbot response is on a Likert scale from 1 to 5 judging if chatbot response has no ungrounded facts. (higher better)\n",
    "   5: agree strongly\n",
    "   4: agree\n",
    "   3: neither agree or disagree\n",
    "   2: disagree\n",
    "   1: disagree strongly\n",
    "   If the chatbot response used information from outside sources, or made claims that are not backed up by the retrieved documents, give it a low score. \n",
    "5. Your answer should follow the YAML format: \n",
    "    reason:\n",
    "    score:\n",
    "\n",
    "# Question\n",
    "{query}\n",
    "# Chat Response\n",
    "{reply}\n",
    "# Chat History\n",
    "{history}\n",
    "# Documents\n",
    "---BEGIN RETRIEVED DOCUMENTS---\n",
    "{FullBody}\n",
    "---END RETRIEVED DOCUMENTS---\n",
    "\"\"\""
   ]
  },
  {
   "cell_type": "code",
   "execution_count": 298,
   "metadata": {},
   "outputs": [
    {
     "name": "stdout",
     "output_type": "stream",
     "text": [
      "Total tokens:  113102.40000000001\n"
     ]
    }
   ],
   "source": [
    "import tiktoken \n",
    "model_name = \"gpt-3-turbo\"\n",
    "# encoding = tiktoken.encoding_name_for_model(model_name)\n",
    "\n",
    "gpt_recall_prompts = []\n",
    "gpt_precision_prompts = []\n",
    "gpt_factualness_prompts = []\n",
    "\n",
    "for i in range(len(answers)):\n",
    "    answer = answers[i]\n",
    "    qa_row = df_qa.iloc[i].to_dict()\n",
    "    query = qa_row[\"title\"]\n",
    "    gpt_recall_prompts.append(recall_prompt.format(query=query, history=\"\", FullBody=answers[0][\"context\"][0] + \"\\n\" + answers[0][\"context\"][1]))\n",
    "    gpt_precision_prompts.append(precision_prompt.format(query=query, reply=answer[\"answer\"], history=\"\", FullBody=answers[0][\"context\"][0] + \"\\n\" + answers[0][\"context\"][1]))\n",
    "    gpt_factualness_prompts.append(factualness_prompt.format(query=query, reply=answer[\"answer\"], history=\"\", FullBody=answers[0][\"context\"][0] + \"\\n\" + answers[0][\"context\"][1]))\n",
    "\n",
    "print(\"Total tokens: \", sum([get_num_tokens(p) for p in gpt_recall_prompts + gpt_precision_prompts + gpt_factualness_prompts]))"
   ]
  },
  {
   "cell_type": "code",
   "execution_count": 302,
   "metadata": {},
   "outputs": [],
   "source": [
    "import dotenv\n",
    "import yaml\n",
    "import openai\n",
    "from functools import lru_cache\n",
    "\n",
    "dotenv.load_dotenv()\n",
    "\n",
    "client = openai.OpenAI()\n"
   ]
  },
  {
   "cell_type": "code",
   "execution_count": 314,
   "metadata": {},
   "outputs": [
    {
     "name": "stderr",
     "output_type": "stream",
     "text": [
      "100%|██████████| 20/20 [01:49<00:00,  5.45s/it]\n"
     ]
    }
   ],
   "source": [
    "recalls = []\n",
    "precisions = []\n",
    "factualness = []\n",
    "\n",
    "@lru_cache(maxsize=10000)\n",
    "def generate_yaml_format(prompt: str, model_name: str = \"gpt-3.5-turbo\", temperature: float = 0.3):\n",
    "    for _ in range(3):\n",
    "        try:\n",
    "            output = client.chat.completions.create(\n",
    "                messages=[\n",
    "                    {\n",
    "                        \"role\": \"user\",\n",
    "                        \"content\": prompt\n",
    "                    },\n",
    "                ],\n",
    "                model=model_name,\n",
    "                temperature=temperature,\n",
    "                logprobs=False,\n",
    "            )\n",
    "            content = yaml.safe_load(output.choices[0].message.content.replace(\"```yaml\", \"\").replace(\"```\", \"\"))\n",
    "            return content\n",
    "        except yaml.YAMLError:\n",
    "            continue\n",
    "    \n",
    "    raise Exception(\"Failed to generate response\")\n",
    "\n",
    "\n",
    "for i in trange(len(gpt_recall_prompts)):\n",
    "    recall_prompt = gpt_recall_prompts[i]\n",
    "    precision_prompt = gpt_precision_prompts[i]\n",
    "    factualness_prompt = gpt_factualness_prompts[i]\n",
    "    recall = generate_yaml_format(recall_prompt)\n",
    "    precision = generate_yaml_format(precision_prompt)\n",
    "    fact = generate_yaml_format(factualness_prompt)\n",
    "    recalls.append(recall)\n",
    "    precisions.append(precision)\n",
    "    factualness.append(fact)"
   ]
  },
  {
   "cell_type": "code",
   "execution_count": 321,
   "metadata": {},
   "outputs": [
    {
     "name": "stdout",
     "output_type": "stream",
     "text": [
      "Recall: 1.55\n",
      "Precision: 1.75\n",
      "Factual: 3.05\n"
     ]
    }
   ],
   "source": [
    "print(\"Recall: {:.2f}\".format(sum([r[\"overall score\"] for r in recalls]) / len(recalls)))\n",
    "print(\"Precision: {:.2f}\".format(sum([r[\"score\"] for r in precisions]) / len(recalls)))\n",
    "print(\"Factual: {:.2f}\".format(sum([r[\"score\"] for r in factualness]) / len(recalls)))"
   ]
  },
  {
   "cell_type": "code",
   "execution_count": 1,
   "metadata": {},
   "outputs": [
    {
     "name": "stderr",
     "output_type": "stream",
     "text": [
      "/opt/homebrew/Caskroom/miniconda/base/envs/semantic_search/lib/python3.10/site-packages/tqdm/auto.py:21: TqdmWarning: IProgress not found. Please update jupyter and ipywidgets. See https://ipywidgets.readthedocs.io/en/stable/user_install.html\n",
      "  from .autonotebook import tqdm as notebook_tqdm\n"
     ]
    }
   ],
   "source": [
    "import datasets"
   ]
  },
  {
   "cell_type": "code",
   "execution_count": 2,
   "metadata": {},
   "outputs": [],
   "source": [
    "ds = datasets.load_from_disk(\"../data/anime_stackexchange/anime_answers_pair\")"
   ]
  },
  {
   "cell_type": "code",
   "execution_count": 6,
   "metadata": {},
   "outputs": [
    {
     "data": {
      "text/plain": [
       "{'question_id': 66456,\n",
       " 'question': 'Why wasn&#39;t flying Raijin passed onto other shinobi by second or fourth hokage?',\n",
       " 'response_j': 'You have to understand that not all people can master all jutsus. They have their limitation no matter how prodigious they are. Tobirama and Minato can pull off that Jutsu because they were the fastest shinobis and had insane reflexes. Their extensive use of this jutsu had earned Minato the nickname of \"Konoha\\'s Yellow Flash\".\\n\\nMinato would randomly appear behind enemy lines and, by seemingly being in many places at once, wipe out whole squadrons before they had time to react. By combining their naturally good reflexes with the instantaneousness of the Flying Thunder God, Tobirama could intercept and redirect a Truth-Seeking Ball mid-detonation and Minato could escape Kamui mid-capture. Minato\\'s ability to dodge A\\'s Lightning Release Chakra Mode led A to dub Minato the fastest ninja who ever lived.\\nFlying Thunder God Technique\\n\\nOf course, Minato or Tobirama would have wanted to teach the Jutsu to their students but they must have realized that not all can perform the Jutsu/their body can\\'t handle the power/the body is not suited for that Jutsu nature. That\\'s the reason, masters decide whom to teach which Jutsu (e.g. Kakashi taught Sasuke Chidori instead of Naruto).\\n',\n",
       " 'response_k': \"Minato actually passed it, but as a variant.\\nAs @FumiKage said everyone  dosen't possess the requirements to do Flyng Raijin.\\nSo he taught a special variant of it to Genma Shiranui, Raido Namiashi and Iwashi Tatami. They were chosen as personal bodyguards of Minato.\\nThose three are required to do it and they could teleport something or someone instantly with it to some place. This variant kind of works like FTG barrier Minato used to teleport the Bijuudama away during Nine-tails attack.\\nAs in episode 323, they teleport Mei to battlefield with it.\\n\"}"
      ]
     },
     "execution_count": 6,
     "metadata": {},
     "output_type": "execute_result"
    }
   ],
   "source": [
    "ds[-3]"
   ]
  }
 ],
 "metadata": {
  "kernelspec": {
   "display_name": "semantic_search",
   "language": "python",
   "name": "python3"
  },
  "language_info": {
   "codemirror_mode": {
    "name": "ipython",
    "version": 3
   },
   "file_extension": ".py",
   "mimetype": "text/x-python",
   "name": "python",
   "nbconvert_exporter": "python",
   "pygments_lexer": "ipython3",
   "version": "3.10.0"
  }
 },
 "nbformat": 4,
 "nbformat_minor": 2
}
