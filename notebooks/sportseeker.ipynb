{
 "cells": [
  {
   "cell_type": "code",
   "execution_count": 1,
   "metadata": {},
   "outputs": [
    {
     "name": "stderr",
     "output_type": "stream",
     "text": [
      "/opt/homebrew/Caskroom/miniconda/base/envs/semantic_search/lib/python3.10/site-packages/tqdm/auto.py:22: TqdmWarning: IProgress not found. Please update jupyter and ipywidgets. See https://ipywidgets.readthedocs.io/en/stable/user_install.html\n",
      "  from .autonotebook import tqdm as notebook_tqdm\n"
     ]
    }
   ],
   "source": [
    "from glob import glob\n",
    "import json\n",
    "import random\n",
    "import mwparserfromhell\n",
    "from tqdm import trange\n",
    "from transformers import AutoModel, AutoTokenizer, pipeline\n",
    "from sentence_transformers import SentenceTransformer\n",
    "import numpy as np"
   ]
  },
  {
   "cell_type": "code",
   "execution_count": 2,
   "metadata": {},
   "outputs": [],
   "source": [
    "output = []\n",
    "with open(\"../data/sportseeker/all_pages.json\") as f:\n",
    "    for line in f:\n",
    "        output.append(json.loads(line.strip()))"
   ]
  },
  {
   "cell_type": "code",
   "execution_count": 5,
   "metadata": {},
   "outputs": [],
   "source": [
    "# Two steps\n",
    "# Step 1: Create a dictionary of tags\n",
    "# Create entity class: jutsu, character, clan, team\n",
    "# We extract tag from each item in output[\"tags\"], create a dictionary of tags\n",
    "# Step 2: Create annotation\n",
    "# For each content in output, we annotate position of text that match with tags\n",
    "# Example:\n",
    "# text: Adamantine Sealing Chains is a form of Fuinjutsu, also known as a Sealing Jutsu. This technique belongs to the Uzumaki and is a Hiden Technique.\n",
    "# tags: {\"jutsu\": [Adamantine Sealing Chains, Fuinjutsu, Sealing Jutsu], \"clan\": [Uzumaki]}\n",
    "# results: {\"Adamantine Sealing Chains\": {start_word: 0, end_word: 3}}\n",
    "\n"
   ]
  },
  {
   "cell_type": "code",
   "execution_count": 3,
   "metadata": {},
   "outputs": [],
   "source": [
    "def create_tag_dictionary(outputs):\n",
    "  \"\"\"\n",
    "  This function creates a dictionary of tags from the output data.\n",
    "\n",
    "  Args:\n",
    "      output: A dictionary containing a \"tags\" key with a list of tags.\n",
    "\n",
    "  Returns:\n",
    "      A dictionary where keys are entity types (\"jutsu\", \"character\", \"clan\", \"team\")\n",
    "      and values are lists of tags belonging to that type.\n",
    "  \"\"\"\n",
    "  from collections import defaultdict\n",
    "  tags_dict = defaultdict(list)\n",
    "  \n",
    "  for i in range(len(outputs)):\n",
    "    if \"tag\" not in outputs[i]:\n",
    "        continue\n",
    "    tag = outputs[i][\"tag\"]\n",
    "    tags_dict[tag].append(outputs[i][\"title\"])\n",
    "\n",
    "  return tags_dict"
   ]
  },
  {
   "cell_type": "code",
   "execution_count": 4,
   "metadata": {},
   "outputs": [],
   "source": [
    "def annotate_text(text, tags_dict):\n",
    "  \"\"\"\n",
    "  This function annotates the positions of tags within a text.\n",
    "\n",
    "  Args:\n",
    "      text: The text to be annotated.\n",
    "      tags_dict: The dictionary containing entity types and their tags.\n",
    "\n",
    "  Returns:\n",
    "      A dictionary where keys are tags and values are dictionaries with \"start_word\" and \"end_word\" keys indicating the position of the tag in the text.  \n",
    "  \"\"\"\n",
    "  annotations = {}\n",
    "  for entity_type, tags in tags_dict.items():\n",
    "    for tag in tags:\n",
    "      start_pos = text.find(tag)\n",
    "      if start_pos != -1:\n",
    "        end_pos = start_pos + len(tag)\n",
    "        annotations[tag] = {\"start_word\": start_pos, \"end_word\": end_pos, \"entity_type\": entity_type}\n",
    "  return annotations"
   ]
  },
  {
   "cell_type": "code",
   "execution_count": 5,
   "metadata": {},
   "outputs": [],
   "source": [
    "# annotate_text(output[1][\"text\"], tags_dict)\n",
    "tags_dict = create_tag_dictionary(output)\n",
    "json.dump(tags_dict, open(\"tags_dict.json\", \"w\"), indent=2)"
   ]
  },
  {
   "cell_type": "code",
   "execution_count": 6,
   "metadata": {},
   "outputs": [
    {
     "name": "stdout",
     "output_type": "stream",
     "text": [
      "sample:  {'Fire Style Jutsu': {'start_word': 755, 'end_word': 771, 'entity_type': 'jutsu'}, 'Itachi Uchiha': {'start_word': 1758, 'end_word': 1771, 'entity_type': 'characters'}, 'Jiraiya': {'start_word': 2966, 'end_word': 2973, 'entity_type': 'characters'}, 'Kabuto Yakushi': {'start_word': 5377, 'end_word': 5391, 'entity_type': 'characters'}, 'Madara Uchiha': {'start_word': 1497, 'end_word': 1510, 'entity_type': 'characters'}, 'Naruto Uzumaki': {'start_word': 4284, 'end_word': 4298, 'entity_type': 'characters'}, 'Ni': {'start_word': 1747, 'end_word': 1749, 'entity_type': 'characters'}, 'Sasuke Uchiha': {'start_word': 1773, 'end_word': 1786, 'entity_type': 'characters'}}\n"
     ]
    }
   ],
   "source": [
    "print(\"sample: \", annotate_text(output[1][\"text\"], tags_dict))"
   ]
  },
  {
   "cell_type": "code",
   "execution_count": 7,
   "metadata": {},
   "outputs": [],
   "source": [
    "prompt_template = \"\"\"Below is an instruction that describes a task, paired with an input that provides further context. Write a response that appropriately completes the request.\n",
    "### Instruction:\n",
    "{}\n",
    "\n",
    "### Input:\n",
    "{}\n",
    "\n",
    "### Response:\n",
    "{}\"\"\""
   ]
  },
  {
   "cell_type": "code",
   "execution_count": 8,
   "metadata": {},
   "outputs": [],
   "source": [
    "prompts = []\n",
    "instructions = [\n",
    "    \"Describe about this {entity_type}\", \n",
    "    \"What is the {entity_type}?\", \n",
    "    \"Provide additional information about the {entity_type}\",]\n",
    "for i in range(len(output)):\n",
    "    instruction = random.choice(instructions).format(entity_type=output[i][\"tag\"])\n",
    "    prompt = {\"instruction\": instruction, \"input\": output[i][\"title\"], \"response\": output[i][\"text\"]}\n",
    "    prompts.append(prompt)"
   ]
  },
  {
   "cell_type": "code",
   "execution_count": 16,
   "metadata": {},
   "outputs": [],
   "source": [
    "ner_instruction = \"Identify the entity type of the following text, return JSON response with the entity type and the position of the entity in the text.\"\n",
    "ner_prompts = []\n",
    "for i in range(len(output)):\n",
    "    annotation = json.dumps(annotate_text(output[i][\"text\"], tags_dict))\n",
    "    prompt = {\"instruction\": ner_instruction, \"input\": output[i][\"text\"], \"response\": annotation}\n",
    "    ner_prompts.append(prompt)"
   ]
  },
  {
   "cell_type": "code",
   "execution_count": 17,
   "metadata": {},
   "outputs": [
    {
     "name": "stdout",
     "output_type": "stream",
     "text": [
      "{'instruction': 'Identify the entity type of the following text, return JSON response with the entity type and the position of the entity in the text.', 'input': 'Adamantine Sealing Chains is a form of Fuinjutsu, also known as a Sealing Jutsu. This technique belongs to the Uzumaki and is a Hiden Technique..While casting this Jutsu, the opponent is chained down by the user using chains which appear out of their torso. The chain which leaves the opponent’s body is fully controlled by the user and not only that, these chains wrap the enemy and entangle them in those chains..Apart from binding the targets down, these chains also neutralise the opponent’s chakra. It can also form an incredibly strong barrier, which almost seems impregnable. Even Hiruzen Sarutobi could not pierce it..Adamantine Sealing Chains is a Hiden Jutsu, which means that it is a Jutsu that is exclusive to a clan that has been passed down orally through tradition. It is kept secret and is not allowed to be taught to people outside the clan..In this case, the Adamantine Sealing Chains is a Hiden Jutsu belonging to the Uzumaki Clan. Even though this technique is a Hiden Jutsu of the Uzumaki clan, it feels more like Kushina Uzumaki’s signature Jutsu\\\\ which is proven when Kurama almost instantly recognizes her presence despite her not being physically present..Karin Uzumaki is also seen performing this Jutsu, but with her own variation of it called the Adamantine Attacking Chains. She uses it to destroy a wooden statue created by Tobi and many of its hands. She did not have the ability to use this technique before and awakened it during the war..This Jutsu is used in historical moments in the anime. Before Naruto’s parents died, Kushina used the Adamantine Sealing Chains to hold the Nine-tails in order to stop it from rampaging. Later on, when Naruto attempts to take control of the Nine-tails’ Chakra, Kushina appears once again to help him with these sealing chains..Karin awakens her Uzumaki strength during the war, unlocking the Adamantine Sealing Chains. However, she uses it for a different purpose; to attack the wooden statue..Naruto is almost overwhelmed by Kurama’s hatred but is saved by Kushina. She uses her Adamantine Sealing Chains to nullify Kurama and his Chakra. Naruto meets his mother for the first time..Kushina uses the Adamantine Sealing Chains to hold the Nine-tails down. She also uses her chains in the form of a shield, keeping the opponents as far away as possible..A. Despite being an Uzumaki, Naruto can not use the Adamantine Sealing Chains as of now. This is because it is a Hiden Jutsu and it probably requires someone to teach the Jutsu to Naruto in order to activate it..A. As of the information available now, it is impossible to break out of the Adamantine Sealing Chains. However, it is unknown what the response would be towards someone like an Otsutsuki, but it could chain down the Nine-tails with ease..A. Karin can not use a complete Adamantine Sealing Chains, making hers an incomplete version called Adamantine Attacking Chains. This version can not seal opponents, but rather attacks them.', 'response': '{\"Adamantine Sealing Chains\": {\"start_word\": 0, \"end_word\": 25, \"entity_type\": \"jutsu\"}, \"Fuinjutsu\": {\"start_word\": 39, \"end_word\": 48, \"entity_type\": \"jutsu\"}, \"Kushina Uzumaki\": {\"start_word\": 1035, \"end_word\": 1050, \"entity_type\": \"characters\"}, \"Ni\": {\"start_word\": 1612, \"end_word\": 1614, \"entity_type\": \"characters\"}}'}\n",
      "----\n",
      "{'instruction': 'Identify the entity type of the following text, return JSON response with the entity type and the position of the entity in the text.', 'input': \"A shinobi in the Naruto series can employ one of the five primary chakra natures: FireRelease, Water Release, Earth Release, Wind Release, or Lightning Release. Only a few shinobi possess the ability to use all five chakra natures. Because they can cause great harm, fire release techniques are regarded as among the most dangerous..Most fire-style jutsus involve a stream of flames coming from the user's mouth. It may appear as a massive wall of flames, or in rare instances, as a dragon. Fire-StyleJutsu can only be used by shinobi who have the Fire Release chakra nature..Disclaimer: This article will contain spoilers for the popular series Naruto and Naruto Shippuden. Readers are advised to read at their discretion..The ability to emit fire using Fire Style Jutsu stretches back to the Ancient Era. IndraOtsutsuki was observed employing fire release techniques when he first created hand signs. After hand signals became extensively used, numerous people were able to use different fire release techniques. Numerous potent fire-release jutsu were developed over time..Shinobi of the Hidden Leaf Village frequently use fire release jutsu. One of the Three Legendary Sannin of the Hidden Leaf, Jiraya, often used fire-style jutsu. Fire Style: Toad Oil Bomb was one of his signature jutsus..The legendary Uchiha clan of the Hidden Leaf was well-known for its proficiency with fire-style jutsu methods. Members of this clan were primarily adept at fire-style jutsu and possessed fire release. Madara Uchiha, also referred to as The Ghost of the Uchiha, was capable of building a large firewall that took the combined water-style jutsu of more than a dozen shinobi to overcome in his battle against the Allied Shinobi Forces in the FourthGreat Ninja War. Itachi Uchiha, Sasuke Uchiha, and Obito Uchiha are the other renowned Uchiha clan members with an unparalleled skill set in Fire Style Jutsus..Fire Style: Great Fireball Jutsu is the signature jutsu of the Uchiha clan. In this technique, the user infuses chakra into their chest and then releases it from their body, turning the chakra into a great fireball. The destructive power and range of the jutsu differs from user to user. The more the chakra used, the greater the size and destructive power of the fireball..Fire Style: Burning Ash was one of the signature moves of Asuma Sarutobi, a Jonin of the Hidden Leaf Village. The user of this jutsu engulfs the area in chakra-infused gunpowder combined with ash by spewing it from their mouth. The user can then ignite the ash with a spark causing an explosion which in turn burns its target surrounded by the ash. The spewed ash also serves as a smokescreen as it hinders the target visually. Although very useful, it is also very dangerous as the user must be capable of judging the air current, otherwise they could engulf their allies in the ash..Sage Art: Goemon is one of Jiraya’s most powerful jutsus. It is a combination attack that is performed by Jiraiya with the help of Lord Fukasaku and Lady Shima when he is in Honoured Sage Mode. All three work in sync to perform this jutsu. Jiraiya releases a large amount of toad oil and Lord Fukasaku unleashes a Wind Release. At the same moment, Lady Shima uses a Fire Release jutsu which ignites the oil, and the Wind Release technique enrages the flames to a greater extent. Within moments, the surrounding area is engulfed in boiling oil, creating an inferno that reduces everything to cinders..It is a technique used by Jiraiya with Gamabunta. Gamabunta spews a large amount of toad oil aimed at the enemy which Jiraiya then ignites with his Fire Style: Flame Bullet, boosting its range and destructive power..Amaterasu is a legendary Uchiha technique that Itachi and Sasuke Uchiha often used in their battles. Amaterasu is a Fire Style Jutsu that creates ever-burning black flames that do not extinguish until their target is turned into ashes. Itachi and Sasuke acquired this technique after they awakened their Mangekyo Sharingan. It is said that one who possesses the Mangekyo Sharingan can use this jutsu, but Itachi and Sasuke are the only characters who have used this technique..Inferno Style is a variation of the Fire Style unique to Sasuke. Inferno Style: Honoikazuchi is a technique used by Sasuke against Naruto Uzumaki. He pulled Naruto using UniversalPull and then attacked him with a burst of black flames, knocking him down and causing great damage..Inferno Style: Susanoo Flame Control is a high-ranking Fire Style jutsu. It is an application of Inferno Style: Flame Control with Susanoo. In this, Sasuke uses Flame Control to forge various weapons with black flames which can be wielded by the Susanoo..Fire Style: Majestic Destroyer Flame was one of the most powerful Fire Style Jutsus possessed by Madara Uchiha. Madara creates a wall of fire so large that it engulfs everything in its path, leaving nothing but ashes. During the Fourth Great Ninja War, a combined Water Style jutsu of more than a dozen Allied Force shinobi was required to counter this jutsu..A. Fire release is one of the five basic chakra natures in the popular Naruto series. Shinobi who possess fire-release chakra nature can perform fire-style jutsu..A. Madara Uchiha uses Fire Style: Majestic Flame Destroyer, also known as Katon: Goka Mekkyaku, against the Allied Shinobi Forces after being brought back to life by Kabuto Yakushi using Reanimation Jutsu.\", 'response': '{\"Fire Style Jutsu\": {\"start_word\": 755, \"end_word\": 771, \"entity_type\": \"jutsu\"}, \"Itachi Uchiha\": {\"start_word\": 1758, \"end_word\": 1771, \"entity_type\": \"characters\"}, \"Jiraiya\": {\"start_word\": 2966, \"end_word\": 2973, \"entity_type\": \"characters\"}, \"Kabuto Yakushi\": {\"start_word\": 5377, \"end_word\": 5391, \"entity_type\": \"characters\"}, \"Madara Uchiha\": {\"start_word\": 1497, \"end_word\": 1510, \"entity_type\": \"characters\"}, \"Naruto Uzumaki\": {\"start_word\": 4284, \"end_word\": 4298, \"entity_type\": \"characters\"}, \"Ni\": {\"start_word\": 1747, \"end_word\": 1749, \"entity_type\": \"characters\"}, \"Sasuke Uchiha\": {\"start_word\": 1773, \"end_word\": 1786, \"entity_type\": \"characters\"}}'}\n",
      "----\n",
      "{'instruction': 'Identify the entity type of the following text, return JSON response with the entity type and the position of the entity in the text.', 'input': \"Body Coating is a technique possessed by Black Zetsu in the popular manga Naruto and its anime adaptation. Body Coating is an extraordinary power unique to Black Zetsu that enables it to cover a target with its body using its pliable nature..Disclaimer: This article will contain spoilers for the popular series Naruto and Naruto Shippuden. Readers are advised to read at their discretion..The information related to the history of the creation of Body Coating is shrouded with mystery. This ninjutsu was first seen during the Fourth Great Ninja War. Black Zetsu used it on Obito Uchiha to force him to perform Gedo Art of Rinne Rebirth against his will..This is a unique ability of Black Zetsu, which allows him to coat the target's body and control them through his plastic body. This method is mainly used to prevent the target from moving by covering its body, and compelling it to do what he wants by exerting his will straight through them. Black Zetsu can utilize the target's techniques, Kekkei Genkai, and any other abilities they might have while possessing the target's body. Through this method, Black Zetsu can control the victim and stabilize their life force. Black Zetsu could prolong Obito’s life after using Rinne-Rebirth Jutsu, also known as Gedo Art of Rinne Rebirth, which can bring dead souls back in exchange for the user’s own life..Once Black Zetsu performs this technique and connects himself with the target, he can absorb his chakra and even distribute it among others. He can also show the target a set of events he recorded. Although this technique is almost perfect, it has a fatal drawback. If the target's will is strong enough, they can reject Black Zetsu’s influence and take advantage of it. Obito was able to deny Black Zetsu’s influence. He was able to fool Madara Uchiha into believing that he was still under the influence of Black Zetsu, and successfully landed a surprise attack on him..As shown in the anime, Black Zetsu is immune to the effects of Infinite Tsukuyomi. Surprisingly, this immunity was transferred to the Body Coating target as Obito was also resistant to Infinite Tsukuyomi..A. Black Zetsu is one of the major antagonists in the popular Naruto series. He was the will incarnate of Kaguya Otsutsuki. He considered himself to be her third son. He was the villainous counterpart of the Sage of the Six Paths..A. White Zetsu is a fictional character with unique abilities in the popular Naruto series. He played the role of an antagonist in the series. He was a member of the Akatsuki and gathered intel for the organization.\", 'response': '{\"Black Zetsu\": {\"start_word\": 41, \"end_word\": 52, \"entity_type\": \"characters\"}, \"Madara Uchiha\": {\"start_word\": 1796, \"end_word\": 1809, \"entity_type\": \"characters\"}, \"Ni\": {\"start_word\": 540, \"end_word\": 542, \"entity_type\": \"characters\"}, \"White Zetsu\": {\"start_word\": 2368, \"end_word\": 2379, \"entity_type\": \"characters\"}}'}\n",
      "----\n",
      "{'instruction': 'Identify the entity type of the following text, return JSON response with the entity type and the position of the entity in the text.', 'input': 'Boruto Uzumaki is a fictional character from the ongoing manga and its anime adaptation, Boruto: Naruto Next Generations. Boruto is the son of Naruto Uzumaki, the Seventh Hokage of the Village Hidden in the Leaves, and the protagonist of the series..Disclaimer: This article will contain detailed information about Boruto and may contain spoilers for some readers. Readers are advised to proceed at their own discretion..Boruto is a gifted child as he is the firstborn of Naruto Uzumaki and Hinata Hyuga and comes from a lineage of strong shinobi. Unlike his father, Boruto is a skilled shinobi from a young age and is able to learn and master new ninjutsu with ease in comparison to the young shinobi of his age. In the anime, Boruto has showcased many interesting and hard jutsus..Here are some of his most popular jutsu:.Vanishing Rasengan is a variation of the original A rank jutsu, Rasengan that Boruto created this without knowing. When Boruto was training to master Rasengan, he subconsciously added his Lightning Release nature which resulted in the creation of Vanishing Rasengan. When Boruto throws it at his opponent, it glides and disappears in the middle which adds an element of surprise when it strikes its target..This is another variation of Rasengan unique to Boruto. Boruto compresses and condenses his Rasengan to its limit, which increases its destructive power exponentially. It is able to penetrate its target with little resistance, but it also causes a great recoil which strains the user’s arm. As it possess a threat to its user, this technique is classified as a Forbidden Jutsu..It is a technique that Boruto utilized on multiple occasions. Boruto uses his shadow clone jutsu and Wind Release to accelerate his movements. The user’s speed is escalated at such speed that it creates a tunnel vision..Water Release: Surging Sea is an offensive water release ninjutsu. Boruto concentrates his chakra in his stomach and then uses his water-release chakra nature to expel large quantities of water from his mouth..Shadow Clone is a forbidden jutsu of the Hidden Leaf Village. This is a specialty of Naruto Uzumaki as well as of Boruto. Although it is Boruto’s specialty, he is not yet able to create shadow clones at the scale Naruto can create. Still, among his peers, Boruto is the most skillful shinobi in Shadow Clone Technique..Sexy Jutsu is yet another ninjutsu that Boruto inherited from his father, Naruto Uzumaki. It is a variation of the TransformationJutsu. Transformation jutsu allows the user to transform into anything. By using this technique as a base, Boruto transforms into an attractive nude girl by using this technique. In the Time Travel Arc, he makes his debut using the Sexy Jutsu. In a later arc, Boruto uses Sexy Jutsu to gather intel on a mission with his team..Here is a list of all the jutsus that Boruto has utilized so far:.A. Boruto Uzumaki is the protagonist of the ongoing manga and its anime adaptation, Boruto: Naruto Next Generations. He is the firstborn son of Naruto Uzumaki and Hinata Hyuga in the series..A. Boruto is voiced in Japanese by Yuko Sanpei in Boruto: Naruto Next Generations and Kokoro Kikuchi voiced him in The Last: Naruto the Movie. In the English dub version of the anime, Boruto is voiced by Amanda Celine Miller.', 'response': '{\"Hinata Hyuga\": {\"start_word\": 491, \"end_word\": 503, \"entity_type\": \"characters\"}, \"Naruto Uzumaki\": {\"start_word\": 143, \"end_word\": 157, \"entity_type\": \"characters\"}}'}\n",
      "----\n",
      "{'instruction': 'Identify the entity type of the following text, return JSON response with the entity type and the position of the entity in the text.', 'input': \"Earth Release is a part of the five basic nature transformations. It is affiliated with the snake hand seal. It consists of the usual earthen materials like dirt, stone, or clay. It can be used as an offense and defense..Earth Release consists of earthen materials like dirt, stone, and clay. Most Earth styles users, place their hands on the ground and use their chakra to change the form of the terrain. Some of them create it within their mouths and release it from their mouths..Some techniques of Earth Release include changing terrains around themselves and their enemies. They can also be joined together and be used as a projectile or be broken up and turned into weapons to inflict harm on their enemies. They can also capture their opponents in rock domes and can also sand pits like quicksand to sink their opponents. They can create walls for defense purposes and create underground tunnels to escape..Earth Release is very commonly used by Iwagakure ninjas, who can make variations of it..Earth Release is strong against Water Release and weak against Lightning Release, this is due to the impurities in the earth that can conduct electricity. This can be prevented if the Earth is made up of quartz, which is impossible. When Earth Release is combined with other natures certain Kekkai Genkai are produced..Earth and water make Wood Release, earth and lightening make Magnet Release, earth and lightening make Explosion Release and earth and water make Mud Release.it is also said that some of Earth Release are involved in Crystal Release..It is made with ceramic clay that is found in the Ceramic Village and this helps the user knead their chakra into materials. The chakra influences the amount of power that will be in the attack. These explosives are Palm-sized and are easy to prepare before combat. They can also be made in various sizes and shapes..The Wood Release allows the user to convert their chakra into a source of life. The vegetation can sprout from the user's body or grow in their surroundings. The wood constructs can range from cages to complete houses..The wood doesn’t need to take a normal form, it can also allow the users to use it as a barrier against brute force. It can also let the user perform intricate things like changing their physical selves and taking on another person’s appearance..Magnet Release users can generate Magnetic force which they can apply to other substances for various purposes. It can be mounded into weapons and can also be used to crush targets. When the object becomes magnetized it becomes an easier target as all magnetic weapons get attracted to it. If it keeps getting transferred then the magnetic effect gets weakened..Not a lot of people have heard about mud release as the Wood release is more popular. Mud Release users are considered dirty because this ability always leaves their hands constantly muddy and dirty. The mud when hardened is used to make the clay used for an explosion in Hanasaki ceramics..Crystal Release is quite rare as the users can convert anything to pink, blue, red, or jade-colored crystals and can also turn them into weapons. They can also be used to capture and drain out the lifeforms too. They can also manipulate other Crystal structures too. Their weakness is that they can't crystallize raw energy or chakra and they need specific conditions to be formed..Kakuzu is a member of the Akatsuki. He can use Earth Release as he has the heart of Takigakure’s kinjutsu named Jiongu and can also control all five chakra elements due to his other hearts. Even though he has a lot of deadly attacks and moves, Kakuzu's Earth Release isn't as powerful as others..Yamato was the test subject of Orochimaru who had inserted Hashirama Senju’s cells into him. He was a member of Anbu before leading Team 7. Just like Hashirama he can use Wood Release and can also use many of Hashirama's techniques too..Kurotsuchi is the Fourth Tsuchikage's granddaughter. As being from Iwagakure she can harness Earth Release quite well and has a lot of deadly Earth Release techniques in-store while fighting her enemies..Oniki is the Third Tsuchikage of Iwagakure who is seen in the series as an old man who has back pain. Even though he is old, his fighting spirit is quite young and high which makes him capable of unleashing various deadly Earth Release techniques and also Dust Release..The Third Hokage of Konohagakure aka Hiruzen Sarutobi can also use Earth Release. He has mastered all the Earth-Style techniques present in Konohagakure. Even though he's quite old, he is still very powerful and can be seen using Earth Release in his fight against Orochimaru..Konohagakure's first Hokage, Hashirama Senju, was the person who made Wood Release. He is the only one who could use it as it came to him naturally. It is a Kekkai Genkai which consists of a combination of Earth and Water. With his mastery in this, he was also known as the 'God Of Shinobi.'.A. Yea, Naruto has been seen using Earth-style jutsu as it makes an Earth-style wall to defend against Boruto..A. Yes, if Earth Release is mixed in with Rasengan then it produces an orange Rasengan which is quite deadly..A. Without a doubt, Hashirama Senju is the strongest Earth Release user to ever exist. He was also the one who could harness and use Wood Release jutsu.\", 'response': '{\"Han\": {\"start_word\": 2971, \"end_word\": 2974, \"entity_type\": \"characters\"}, \"Hashirama Senju\": {\"start_word\": 3727, \"end_word\": 3742, \"entity_type\": \"characters\"}, \"Orochimaru\": {\"start_word\": 3699, \"end_word\": 3709, \"entity_type\": \"characters\"}, \"Yamato\": {\"start_word\": 3668, \"end_word\": 3674, \"entity_type\": \"characters\"}}'}\n",
      "----\n",
      "{'instruction': 'Identify the entity type of the following text, return JSON response with the entity type and the position of the entity in the text.', 'input': 'In the Naruto series, there are five basic chakra natures that a shinobi can use, Fire Release, Water Release, Earth Release, Wind Release and Lightning Release. There is only a handful of shinobi who are capable of using all five chakra natures. Fire release techniques are considered to be one the most vital techniques as they are capable of mass destruction..Fire style jutsus are commonly a stream of fire originating from the jutsu caster’s mouth. It can be a giant wall of fire, or in some cases, it can also take the shape of a dragon. Only the shinobi who possess the Fire Release chakra nature can perform fire-style jutsu..Disclaimer: This article will contain spoilers for the popular series Naruto and Naruto Shippuden. Readers are advised to read at their discretion..Fire release dates back to the Ancient Era. When he first invented hand signs, Indra Otsutsuki was seen using fire release techniques. After the use of hand signs was widely accepted, many individuals could perform various fire release techniques. As time passed on, many powerful fire-release jutsu were invented..Fire release jutsu are relatively common among shinobi of the Hidden Leaf Village. Jiraya, one of the Three Legendary Sannin of the Hidden Leaf, used fire-style jutsu on multiple occasions..Uchihaclan was renowned for its mastery of fire-style jutsu techniques. Members of this clan primarily possessed fire release and excelled in fire-style jutsu. Madara Uchiha, also known as The Ghost of the Uchiha, could create a big firewall that required a combined water-style jutsu of more than a dozen shinobi to counter it..Itachi Uchiha was one of the greatest shinobi in shinobi history. He was a prodigy of the Uchiha Clan and proved his worth at a very young age. Being an Uchiha, he possessed fire release. When his father, FugakuUchiha, showed him the hand signs for Fire Style: Fireball Jutsu, he was able to instantly use that jutsu with unmatched mastery. After he awakened the Mangekyo Sharingan, he showcased his utilization of Amaterasu, the pinnacle of fire release techniques..Madara Uchiha was undoubtedly one the strongest Uchiha to ever live as his prowess knew no bounds. He was able to defeat five Kage of the Hidden Villages simultaneously with ease. During the Fourth Great Ninja War, he used Fire Style: Majestic Flame Destroyer, which required a combined water style technique of more than a dozen shinobi to counter. He was undoubtedly one of the strongest FIre Style users..Ever since he was a genin, Sasuke Uchiha has showcased his mastery over fire-style jutsus. After he awakened his Mangekyo Sharingan, he could also use Amaterasu. Sasuke also possesses a unique ability, Inferno Style or Flame Control. With this ability, he can control the flames of Amaterasu with such excellency that even Itachi Uchiha could not master..As a genin, Obito used his Fire Style: Fireball Jutsu on defensive and offensive missions. During the war, he showcased his mastery of fire style techniques through his Fire Style: Blast Wave Wild Dance..A. Fire release is one of the five basic chakra natures in the popular Naruto series. Shinobi who possess fire-release chakra nature can perform fire-style jutsu..A. Madara Uchiha uses Fire Style: Majestic Flame Destroyer, also known as Katon: Goka Mekkyaku, against the Allied Shinobi Forces after being brought back to life by Kabuto Yakushi using Reanimation Jutsu.', 'response': '{\"Indra Otsutsuki\": {\"start_word\": 861, \"end_word\": 876, \"entity_type\": \"characters\"}, \"Itachi Uchiha\": {\"start_word\": 1616, \"end_word\": 1629, \"entity_type\": \"characters\"}, \"Kabuto Yakushi\": {\"start_word\": 3379, \"end_word\": 3393, \"entity_type\": \"characters\"}, \"Madara Uchiha\": {\"start_word\": 1447, \"end_word\": 1460, \"entity_type\": \"characters\"}, \"Ni\": {\"start_word\": 2287, \"end_word\": 2289, \"entity_type\": \"characters\"}, \"Sasuke Uchiha\": {\"start_word\": 2518, \"end_word\": 2531, \"entity_type\": \"characters\"}}'}\n",
      "----\n",
      "{'instruction': 'Identify the entity type of the following text, return JSON response with the entity type and the position of the entity in the text.', 'input': 'A fire style jutsu that has been iconic to the Uchiha clan for generations, Fire Style: Fireball Jutsu (Katon: Gōkakyū no Jutsu) is used mostly by the Uchihas throughout the series. This jutsu is created by storing chakra in your mouth and then converting it into fire as you blow it out. The more chakra you store, the larger and more intense it is. It often leaves a crater behind so most of the displays and practices are done near or over water bodies..Fireball jutsu is a signature ability of the Uchiha. It is not known who exactly created it, but it is seen used even by Madara Uchiha, which means that it is an age-old ninjutsu. This technique is kind of a rite of passage for the Uchiha and thus it is required for an Uchiha to learn it before they are recognized as one..Sasuke Uchiha is seen practising this jutsu in the anime and uses it on multiple occasions. He uses it even as an adult. His brother, Itachi Uchiha mastered the technique on his first try. Obito Uchiha is also seen using this jutsu, although in a weakened state as a child during a competition..Every jutsu has its own variations, modified by the user. For rasengan, there is the Odama Rasengan, Rasenshuriken and more. Fireball jutsu also has such modifications in the anime, manga and games. Here are some of the variations:.This jutsu forms a sea of flames which engulfs a large area. It is used by Madara Uchiha. Unlike the fireball jutsu which is round, this is more flat and in a rectangular fashion..This jutsu is only a little different from the great fire annihilation. While the Great Fire Annihilation covers more area, this jutsu works in a similar fashion but covers much lesser area with greater intensity. This is also used by Madara Uchiha..Another variation of the Fireball Jutsu used by Madara Uchiha. He spits out smaller bits of intense flames at the sky, causing it to rain fire in a large area..This is the same Fireball Jutsu, but Susanoo is using it to make it seem like a tailed beast bomb. While it is much weaker than a tailed beast bomb, it is still enough to wipe out an entire army. This variation is seen used by Sasuke Uchiha..During the bell test, Kakashi is seen to be visibly surprised at Sasuke being able to use the Fireball Jutsu. This scene helped the viewers perceive how much ahead Sasuke was compared to the rest of the team..Madara is a fan favourite character despite being one of the major villains in Naruto. He fights the entire allied shinobi forces all by himself and is seen using a variation of the fireball jutsu to try and incinerate all of them..During the fight between Itachi and Sasuke, Itachi unleashes a fireball jutsu of an intensity that was never seen before. The way he weaves hand signs mid air and releases a jutsu so powerful is something that a lot of Naruto fans freaked out over during the fight..Q. Is Fireball Jutsu Uchiha only?.A. Fireball Jutsu is a technique that is unique to the Uchiha clan in the manga. However, this is not the case in the anime. Various characters are seen using the Fireball Jutsu outside the Uchiha clan, including Kakashi Hatake, one of the main characters..Q. Can Naruto use Fireball Jutsu?.A. While Naruto doesn’t know how to use the fireball jutsu as of now, he can use it if he learns how to. It is a technique that can be used by anyone with enough practice, irrespective of their chakra nature..Q. Can Kakashi use Fireball jutsu?.Yes, Kakashi can use the fireball jutsu. However, this is canon only in the anime. No one is seen using the fireball jutsu apart from the Uchiha in the manga.', 'response': '{\"Rasenshuriken\": {\"start_word\": 1177, \"end_word\": 1190, \"entity_type\": \"jutsu\"}, \"Itachi Uchiha\": {\"start_word\": 915, \"end_word\": 928, \"entity_type\": \"characters\"}, \"Madara Uchiha\": {\"start_word\": 578, \"end_word\": 591, \"entity_type\": \"characters\"}, \"Sasuke Uchiha\": {\"start_word\": 781, \"end_word\": 794, \"entity_type\": \"characters\"}}'}\n",
      "----\n",
      "{'instruction': 'Identify the entity type of the following text, return JSON response with the entity type and the position of the entity in the text.', 'input': \"Flying Thunder God Technique is a Jutsu from Naruto that is used by Minato Namikaze. It is a space-time Ninjutsu that was created by Tobirama Senju and mastered by Minato Namikaze..Disclaimer: This page contains spoilers for Naruto, Naruto Shippuden and Boruto..To cast the Flying Thunder God Technique, one must first write down its formula in the place they intend to teleport to. The best part about this Jutsu's formula is that it is never erased. Once it is applied on a person, it doesn’t vanish even after they are dead..Flying Thunder God Technique is introduced in the anime as Minato Namikaze’s signature Jutsu. He is seen using it in his fight against Tobi while he attacked the village, creating many fans for this Jutsu and its usage..The Flying Thunder God Technique was invented by Tobirama Senju as he was regarded as one of the fastest Shinobi of his time. He had incredible reflexes, which was complementary to this technique. He had his own network of the Flying Thunder God Jutsu which only he had access to..Minato Namikaze learnt the Flying Thunder God Technique and made it his own. He was regarded as ‘The Yellow Flash of the Leaf’, who would teleport from one place to another. He would defeat whole armies on his own, and people were given a run on sight command during the war when they saw him..Minato also had a Flying Thunder God Jutsu network of his own which he would use to teleport to and from different places. Minato marked many projectile weapons like Kunais with the formula which would let him teleport to that mark on the map. This is seen used effectively during the confrontation with Killer B’s party and during the face-off against Tobi..Flying Thunder God Jutsu is effective not only offensively, but also defensively. Since both Tobirama and Minato are naturally incredibly fast, they have really good reaction time which lets them use this defensively as well. If they sensed a threat, they could quickly teleport to a safer location. The two of them also linked both of their Flying Thunder God Technique networks during the Fourth Great Shinobi War..All jutsu have inspired some other Jutsu. Some people add their nature into the Jutsu to modify it. Some change the way it is used to change its properties. Flying Thunder God Jutsu also has a few variations..When two Flying Thunder God Jutsu Technique users are involved in the same team in a battle, they can mark each other to switch positions mid battle. This technique was used against Obito by Minato and Tobirama..This variation combines a sword with the Flying Thunder God Jutsu. Tobirama teleports to the opponent with their blade in their hand, simultaneously teleporting to and slashing the opponent. Since it is a space-time Jutsu, even Sharingan wielders can not catch up to this variation..Minato throws a Kunai at the opponent. After the Kunai reaches the target location, he teleports to the opponent and attacks them from their blind spot..Minato creates a barrier made of the Flying Thunder God Technique. Anything that comes in contact with the barrier is teleported away from the location..Minato throws 6 Kunai in a circular fashion toward the enemy. He then teleports to them, defeating the opponents. This is especially effective against a group of enemies..One of the best stand-offs in the entire series. Minato does not know who the mysterious masked man before him is, but he knows he needs to protect the village at all costs..Tobirama uses the Flying Thunder God Slash against Izuna, Madara Uchiha’s brother. He kills Izuna in a single slash as even his Sharingan couldn’t pick it up..Minato fights Raikage and Killer B. Although his teammates warn them to run, Killer B and Raikage stays back to fight Minato..A. To date, only two Shinobi are seen using the Flying Thunder God Technique. They are the second and fourth Hokage, Tobirama Senju and Minato Namikaze..A. To cast the Flying Thunder God Technique, one must first write down its formula in the place they intend to teleport to. The best part about this Jutsu's formula is that it is never erased. Once it is applied on a person, it doesn’t vanish even after they are dead..A. Naruto can not use the Flying Thunder God technique. However, he is incredibly fast, which can be often mistaken for using the technique.\", 'response': '{\"Madara Uchiha\": {\"start_word\": 3512, \"end_word\": 3525, \"entity_type\": \"characters\"}, \"Ni\": {\"start_word\": 104, \"end_word\": 106, \"entity_type\": \"characters\"}}'}\n",
      "----\n",
      "{'instruction': 'Identify the entity type of the following text, return JSON response with the entity type and the position of the entity in the text.', 'input': 'Kinjutsu, also known as Forbidden Jutsu, is a classification of Jutsu. Jutsus that are so powerful or dangerous for the user are banned to be used or taught are classified as Forbidden Jutsus. This classification of jutsu came into existence after the end of WarringState Period. The newly formed villages came to an agreement to forbid the use of certain jutsus to maintain peace between villages and keep the bloodshed to a minimum..Kinjustsu can be any form of jutsu from Ninjutsu to Taijustu. One of the signature moves of the protagonist of the show, Naruto Uzumaki, is Multi Shadow Clone Jutsu which is also a forbidden jutsu..Disclaimer: This article will contain spoilers for the popular series Naruto and Naruto Shippuden. Readers are advised to read at their discretion..When the concept of the Hidden Village System was introduced and marked the end of the Warring State Period, it was mutually agreed upon by the leaders of the Hidden Villages to ban the use of certain jutsus and to forbid their teachings. They hoped that this would help in maintaining peace between the nations and reduce unnecessary bloodshed..Although teachings and use of these jutsus are forbidden, hidden villages still possess the knowledge of these jutsus and how to use them. This knowledge is passed down from generation to generation. Naruto Uzumaki learned the Multi Shadow Clone Jutsu from the Scroll of Seal..Scroll of Seal is a document with details and instructions for all the Hidden Leaf Kinjutsu and is passed down from generation to generation and it is the duty of the Hokage to protect it from the wrong hands..There are several reasons why a jutsu can be classified as Forbidden Jutsu. Some of those reasons are.Fury is a forbidden jutsu developed by En no Gyoja, leader of the Tsuchigumo clan at the time. This jutsu creates an explosion big enough to wipe out a village in an instant. The Third Hokage and En no Gyoja formed a pact and forbid the use of this technique in exchange for protection from the Hidden Leaf in the hour of need..Reaper Death is a sealing jutsu and is classified as a forbidden jutsu. This is a technique developed by the Uzumaki Clan. It summons a Shinigami to seal any target’s soul. MinatoNamikaze, the Fourth Hokage, sealed half of Nine-Tails chakra using this technique. The use of this powerful jutsu comes at a cost. Along with the target, the Shinigami seals away the soul of the user as well..Edo Tensei is a forbidden jutsu which defies the laws of nature. It was developed by the Second Hokage, Tobirama Senju. This jutsu binds the soul of a deceased individual to a living vessel. This allows the user to reanimate any dead individual with his/her DNA and use them to do user’s bidding. It was classified as Kinjutsu because it defied the laws of nature and caused the death of the living vessel.', 'response': '{\"Shadow Clone Jutsu\": {\"start_word\": 581, \"end_word\": 599, \"entity_type\": \"jutsu\"}, \"Naruto Uzumaki\": {\"start_word\": 556, \"end_word\": 570, \"entity_type\": \"characters\"}, \"Ni\": {\"start_word\": 475, \"end_word\": 477, \"entity_type\": \"characters\"}}'}\n",
      "----\n",
      "{'instruction': 'Identify the entity type of the following text, return JSON response with the entity type and the position of the entity in the text.', 'input': \"Four Red Yang Formation, also known as Ninja Art: Four Crimson Ray Formation, is a barrier technique in the popular manga series and its anime adaptation, Naruto Shippuden. It is a very strong jutsu that requires 4 shinobi with Kage-level caliber to perform. It is an A rank jutsu which is classified as Barrier Ninjutsu. It is said to be significantly stronger than the Four Violet Flames Formation which was seen in the Konoha Attack Arc and during the Fourth Great Ninja War..Disclaimer: This article will contain spoilers for the popular series Naruto and Naruto Shippuden. Readers are advised to read at their discretion..The information related to the history of the creation of Four Red Yang Formation is shrouded with mystery. This barrier ninjutsu was first seen during the Fourth Great Ninja War. It was created by the previous Four Hokage of the Hidden Leaf Village, namely Hashirama Senju, Tobirama Senju, Hiruzen Sarutobi and Minato Namikaze..The previous Hokages used this formation to trap the Ten-Tails and restrict its movements as this barrier ninjutsu is of high caliber and has great defensive capabilities. It appears solid in shape but possesses elastic properties as well. When attacked with Ten-Tails Tailed Beast Bomb, the barrier distorted its shape and forced the explosion’s brute force upwards. After the explosion, the barrier regained its shape and remained intact whilst leaving the Ten-Tails burnt from its own attack..The users of this barrier are perfectly capable of creating gateways into the barrier as showcased by Hashirama Senju. This barrier requires a great amount of chakra and limits the user's capabilities. After activating the barrier, Tobirama Senju, the Second Hokage was only able to form two shadow clones..During the Fourth Great Ninja War, Kushina Uzumaki and Tsunade Senju, one of the three legendary Sannin, were shown capable of performing the Four Red Yang Formation in Tsunade’s Infinite Tsukuyomi dream..A. Obito Uchiha used the Six Red Yang Formation, also known as the Six Crimson Ray Formation, in the Fourth Great Ninja War. Obito was able to achieve this feat after he became the Ten-Tails Jinchuiki and gained SIx Paths powers. Obito created this barrier by placing six black rods from his hands in six locations..A. Six Red Yang Formation, also known as the Six Crimson Ray Formation, is considered the most powerful and extremely potent barrier ninjutsu in the Naruto series. In order to perform this barrier ninjutsu, the user must have Six Paths powers. Obito Uchiha used this barrier during the Fourth Great Ninja War after he became the Ten-Tails Jinchuriki and gained Six Paths chakra..A. Four Violet Flames Formation, also known as Ninja Art: Four Flames Formation, is barrier ninjutsu in the popular Naruto series. This barrier ninjutsu requires 4 shinobi at four creation points to be performed. When activated, a solid barrier of purple flames is formed between the users. If anyone comes in contact with it, are engulfed with purple flames. This prevents anyone from entering or exiting the barrier.\", 'response': '{\"Four Red Yang Formation\": {\"start_word\": 0, \"end_word\": 23, \"entity_type\": \"jutsu\"}, \"Hashirama Senju\": {\"start_word\": 885, \"end_word\": 900, \"entity_type\": \"characters\"}, \"Kushina Uzumaki\": {\"start_word\": 1794, \"end_word\": 1809, \"entity_type\": \"characters\"}, \"Ni\": {\"start_word\": 39, \"end_word\": 41, \"entity_type\": \"characters\"}, \"Tsunade\": {\"start_word\": 1814, \"end_word\": 1821, \"entity_type\": \"characters\"}}'}\n",
      "----\n"
     ]
    }
   ],
   "source": [
    "for i in range(10):\n",
    "    print(ner_prompts[i])\n",
    "    print(\"----\")"
   ]
  },
  {
   "cell_type": "code",
   "execution_count": 18,
   "metadata": {},
   "outputs": [],
   "source": [
    "with open(\"prompt_sportseeker.txt\", \"w\") as f:\n",
    "    for prompt in prompts:\n",
    "        f.write(json.dumps(prompt) + \"\\n\")\n",
    "    for prompt in ner_prompts:\n",
    "        f.write(json.dumps(prompt) + \"\\n\")"
   ]
  },
  {
   "cell_type": "code",
   "execution_count": 19,
   "metadata": {},
   "outputs": [
    {
     "name": "stderr",
     "output_type": "stream",
     "text": [
      "Map: 100%|██████████| 1782/1782 [00:00<00:00, 27010.15 examples/s]\n"
     ]
    }
   ],
   "source": [
    "from datasets import Dataset\n",
    "\n",
    "def formatting_prompts_func(example):\n",
    "    instruction = example[\"instruction\"]\n",
    "    input       = example[\"input\"]\n",
    "    output      = example[\"response\"]\n",
    "    text = prompt_template.format(instruction, input, output)\n",
    "    return { \"text\" : text}\n",
    "\n",
    "data = []\n",
    "with open(\"prompt_sportseeker.txt\") as f:\n",
    "    for line in f:\n",
    "        data.append(json.loads(line))\n",
    "        \n",
    "ds = Dataset.from_list(data)\n",
    "dataset = ds.map(formatting_prompts_func, batched = False,)"
   ]
  },
  {
   "cell_type": "code",
   "execution_count": 26,
   "metadata": {},
   "outputs": [],
   "source": [
    "from nltk.tokenize import sent_tokenize"
   ]
  },
  {
   "cell_type": "code",
   "execution_count": 27,
   "metadata": {},
   "outputs": [
    {
     "data": {
      "text/plain": [
       "['Adamantine Sealing Chains is a form of Fuinjutsu, also known as a Sealing Jutsu.',\n",
       " 'This technique belongs to the Uzumaki and is a Hiden Technique..While casting this Jutsu, the opponent is chained down by the user using chains which appear out of their torso.',\n",
       " 'The chain which leaves the opponent’s body is fully controlled by the user and not only that, these chains wrap the enemy and entangle them in those chains..Apart from binding the targets down, these chains also neutralise the opponent’s chakra.',\n",
       " 'It can also form an incredibly strong barrier, which almost seems impregnable.',\n",
       " 'Even Hiruzen Sarutobi could not pierce it..Adamantine Sealing Chains is a Hiden Jutsu, which means that it is a Jutsu that is exclusive to a clan that has been passed down orally through tradition.',\n",
       " 'It is kept secret and is not allowed to be taught to people outside the clan..In this case, the Adamantine Sealing Chains is a Hiden Jutsu belonging to the Uzumaki Clan.',\n",
       " 'Even though this technique is a Hiden Jutsu of the Uzumaki clan, it feels more like Kushina Uzumaki’s signature Jutsu\\\\ which is proven when Kurama almost instantly recognizes her presence despite her not being physically present..Karin Uzumaki is also seen performing this Jutsu, but with her own variation of it called the Adamantine Attacking Chains.',\n",
       " 'She uses it to destroy a wooden statue created by Tobi and many of its hands.',\n",
       " 'She did not have the ability to use this technique before and awakened it during the war..This Jutsu is used in historical moments in the anime.',\n",
       " 'Before Naruto’s parents died, Kushina used the Adamantine Sealing Chains to hold the Nine-tails in order to stop it from rampaging.',\n",
       " 'Later on, when Naruto attempts to take control of the Nine-tails’ Chakra, Kushina appears once again to help him with these sealing chains..Karin awakens her Uzumaki strength during the war, unlocking the Adamantine Sealing Chains.',\n",
       " 'However, she uses it for a different purpose; to attack the wooden statue..Naruto is almost overwhelmed by Kurama’s hatred but is saved by Kushina.',\n",
       " 'She uses her Adamantine Sealing Chains to nullify Kurama and his Chakra.',\n",
       " 'Naruto meets his mother for the first time..Kushina uses the Adamantine Sealing Chains to hold the Nine-tails down.',\n",
       " 'She also uses her chains in the form of a shield, keeping the opponents as far away as possible..A.',\n",
       " 'Despite being an Uzumaki, Naruto can not use the Adamantine Sealing Chains as of now.',\n",
       " 'This is because it is a Hiden Jutsu and it probably requires someone to teach the Jutsu to Naruto in order to activate it..A.',\n",
       " 'As of the information available now, it is impossible to break out of the Adamantine Sealing Chains.',\n",
       " 'However, it is unknown what the response would be towards someone like an Otsutsuki, but it could chain down the Nine-tails with ease..A. Karin can not use a complete Adamantine Sealing Chains, making hers an incomplete version called Adamantine Attacking Chains.',\n",
       " 'This version can not seal opponents, but rather attacks them.']"
      ]
     },
     "execution_count": 27,
     "metadata": {},
     "output_type": "execute_result"
    }
   ],
   "source": [
    "sent_tokenize(prompts[0][\"response\"])"
   ]
  },
  {
   "cell_type": "code",
   "execution_count": 12,
   "metadata": {},
   "outputs": [
    {
     "data": {
      "text/plain": [
       "{'instruction': 'Identify the entity type of the following text, return JSON response with the entity type and the position of the entity in the text.',\n",
       " 'input': 'Adamantine Sealing Chains is a form of Fuinjutsu, also known as a Sealing Jutsu. This technique belongs to the Uzumaki and is a Hiden Technique..While casting this Jutsu, the opponent is chained down by the user using chains which appear out of their torso. The chain which leaves the opponent’s body is fully controlled by the user and not only that, these chains wrap the enemy and entangle them in those chains..Apart from binding the targets down, these chains also neutralise the opponent’s chakra. It can also form an incredibly strong barrier, which almost seems impregnable. Even Hiruzen Sarutobi could not pierce it..Adamantine Sealing Chains is a Hiden Jutsu, which means that it is a Jutsu that is exclusive to a clan that has been passed down orally through tradition. It is kept secret and is not allowed to be taught to people outside the clan..In this case, the Adamantine Sealing Chains is a Hiden Jutsu belonging to the Uzumaki Clan. Even though this technique is a Hiden Jutsu of the Uzumaki clan, it feels more like Kushina Uzumaki’s signature Jutsu\\\\ which is proven when Kurama almost instantly recognizes her presence despite her not being physically present..Karin Uzumaki is also seen performing this Jutsu, but with her own variation of it called the Adamantine Attacking Chains. She uses it to destroy a wooden statue created by Tobi and many of its hands. She did not have the ability to use this technique before and awakened it during the war..This Jutsu is used in historical moments in the anime. Before Naruto’s parents died, Kushina used the Adamantine Sealing Chains to hold the Nine-tails in order to stop it from rampaging. Later on, when Naruto attempts to take control of the Nine-tails’ Chakra, Kushina appears once again to help him with these sealing chains..Karin awakens her Uzumaki strength during the war, unlocking the Adamantine Sealing Chains. However, she uses it for a different purpose; to attack the wooden statue..Naruto is almost overwhelmed by Kurama’s hatred but is saved by Kushina. She uses her Adamantine Sealing Chains to nullify Kurama and his Chakra. Naruto meets his mother for the first time..Kushina uses the Adamantine Sealing Chains to hold the Nine-tails down. She also uses her chains in the form of a shield, keeping the opponents as far away as possible..A. Despite being an Uzumaki, Naruto can not use the Adamantine Sealing Chains as of now. This is because it is a Hiden Jutsu and it probably requires someone to teach the Jutsu to Naruto in order to activate it..A. As of the information available now, it is impossible to break out of the Adamantine Sealing Chains. However, it is unknown what the response would be towards someone like an Otsutsuki, but it could chain down the Nine-tails with ease..A. Karin can not use a complete Adamantine Sealing Chains, making hers an incomplete version called Adamantine Attacking Chains. This version can not seal opponents, but rather attacks them.',\n",
       " 'response': {'Adamantine Sealing Chains': {'start_word': 0,\n",
       "   'end_word': 25,\n",
       "   'entity_type': 'jutsu'},\n",
       "  'Fuinjutsu': {'start_word': 39, 'end_word': 48, 'entity_type': 'jutsu'},\n",
       "  'Kushina Uzumaki': {'start_word': 1035,\n",
       "   'end_word': 1050,\n",
       "   'entity_type': 'characters'},\n",
       "  'Ni': {'start_word': 1612, 'end_word': 1614, 'entity_type': 'characters'}}}"
      ]
     },
     "execution_count": 12,
     "metadata": {},
     "output_type": "execute_result"
    }
   ],
   "source": [
    "ner_prompts[0]"
   ]
  },
  {
   "cell_type": "code",
   "execution_count": null,
   "metadata": {},
   "outputs": [],
   "source": []
  }
 ],
 "metadata": {
  "kernelspec": {
   "display_name": "semantic_search",
   "language": "python",
   "name": "python3"
  },
  "language_info": {
   "codemirror_mode": {
    "name": "ipython",
    "version": 3
   },
   "file_extension": ".py",
   "mimetype": "text/x-python",
   "name": "python",
   "nbconvert_exporter": "python",
   "pygments_lexer": "ipython3",
   "version": "3.10.0"
  }
 },
 "nbformat": 4,
 "nbformat_minor": 2
}
