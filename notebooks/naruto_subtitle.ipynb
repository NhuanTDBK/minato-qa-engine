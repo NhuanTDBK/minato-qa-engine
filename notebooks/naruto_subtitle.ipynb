{
 "cells": [
  {
   "cell_type": "code",
   "execution_count": 1,
   "metadata": {},
   "outputs": [],
   "source": [
    "import re\n",
    "import json\n",
    "import pysrt\n",
    "import pandas as pd\n",
    "from bs4 import BeautifulSoup\n",
    "\n",
    "def parse_ass_file(file_path):\n",
    "    events = []\n",
    "    with open(file_path, 'r', encoding='utf-8') as file:\n",
    "        lines = file.readlines()\n",
    "\n",
    "    event_section = False\n",
    "    for line in lines:\n",
    "        if line.strip().startswith('[Events]'):\n",
    "            event_section = True\n",
    "            continue\n",
    "        if event_section:\n",
    "            if line.strip().startswith('Dialogue:'):\n",
    "                # Structure Format: Layer, Start, End, Style, Name, MarginL, MarginR, MarginV, Effect, Text\n",
    "                line = BeautifulSoup(line).get_text()\n",
    "                events.append(line.strip().replace(\"\\\\N\", \"\\n\").split(\",\", maxsplit=9))\n",
    "                    \n",
    "    return events\n",
    "\n",
    "def extract_subtitles(file_path):\n",
    "    # Load the SRT file\n",
    "    subtitles = pysrt.open(file_path)\n",
    "\n",
    "    # Extract the text from each subtitle\n",
    "    subtitle_texts = [BeautifulSoup(sub.text).get_text().replace(\"\\n\", \" \") for sub in subtitles]\n",
    "\n",
    "    return subtitle_texts\n",
    "\n",
    "# Use the function\n",
    "# subtitles = extract_subtitles(\"/Users/nhuantran/Downloads/Naruto English Subtitles 1-135/(SB-RAW)NARUTO E008 (R2DVD 960x728 x264 AC3).en.srt\")\n",
    "# content = \"\\n\".join(subtitles)"
   ]
  },
  {
   "cell_type": "code",
   "execution_count": 2,
   "metadata": {},
   "outputs": [],
   "source": [
    "def get_chain(\n",
    "    llm_url,\n",
    "    model_name,\n",
    "    template,\n",
    "    api_key=None,\n",
    "    temperature: float = 0.5,\n",
    "    max_tokens: int = -1,\n",
    "    template_format=\"f-string\",\n",
    "):\n",
    "    client = ChatOpenAI(\n",
    "        temperature=temperature,\n",
    "        base_url=llm_url,\n",
    "        model_name=model_name,\n",
    "        api_key=api_key,\n",
    "        max_tokens=max_tokens,\n",
    "    )\n",
    "    map_prompt = PromptTemplate.from_template(template, template_format=template_format)\n",
    "    return LLMChain(llm=client, prompt=map_prompt)\n",
    "\n",
    "\n",
    "class ChainsList:\n",
    "    def __init__(self, chains, document_variable: str = \"content\") -> None:\n",
    "        self.chains = chains\n",
    "        self.document_variable = document_variable\n",
    "\n",
    "    def invoke(self, input, return_intermediate_steps=False):\n",
    "        outputs = []\n",
    "        for chain in self.chains:\n",
    "            output = chain.invoke(input)\n",
    "            outputs.append(output)\n",
    "            input[self.document_variable] = output[\"text\"]\n",
    "\n",
    "        return outputs[-1] if not return_intermediate_steps else outputs"
   ]
  },
  {
   "cell_type": "code",
   "execution_count": 3,
   "metadata": {},
   "outputs": [],
   "source": [
    "from langchain_community.chat_models import ChatOpenAI\n",
    "from langchain.prompts import PromptTemplate\n",
    "from langchain.chains import LLMChain"
   ]
  },
  {
   "cell_type": "code",
   "execution_count": 4,
   "metadata": {},
   "outputs": [],
   "source": [
    "llm_url = \"http://localhost:1234/v1\"\n",
    "api_key = \"lm-studio\"\n",
    "model_name = \"MaziyarPanahi/Mistral-7B-Instruct-v0.3-GGUF\"\n",
    "model_name = \"bartowski/aya-23-8B-GGUF\"\n",
    "model_name = \"MaziyarPanahi/Mistral-7B-Instruct-v0.3-GGUF\"\n",
    "model_name = \"RichardErkhov/SanjiWatsuki_-_Silicon-Maid-7B-gguf\" # Good for manga, not followed instruction well\n",
    "model_name = \"lmstudio-community/Meta-Llama-3-8B-Instruct-GGUF\""
   ]
  },
  {
   "cell_type": "code",
   "execution_count": 5,
   "metadata": {},
   "outputs": [],
   "source": [
    "subtitles = extract_subtitles(\"/Users/nhuantran/Downloads/Naruto English Subtitles 1-135/(SB-RAW)NARUTO E008 (R2DVD 960x728 x264 AC3).en.srt\")\n",
    "content = \"\\n\".join(subtitles)"
   ]
  },
  {
   "cell_type": "code",
   "execution_count": 6,
   "metadata": {},
   "outputs": [
    {
     "name": "stdout",
     "output_type": "stream",
     "text": [
      "C'mon!\n",
      "Running like a fugitive,\n",
      "Being chased by something\n",
      "Inside my heart is pounding\n",
      "My throat dry like it's withering\n",
      "For no single one,\n",
      "To none does belong,\n",
      "This time is ours, right now...\n",
      "Unraveling the pain,\n",
      "Unraveling our hearts,\n",
      "Unraveling shadows\n",
      "Stifling our breath,\n",
      "Reaching for beyond,\n",
      "Tearing through the dark\n",
      "In fighting and in love\n",
      "To the distant light above,\n",
      "Yes, we are on the way\n",
      "I wanna rock...\n",
      "Rockin' my heart\n",
      "Such intensity...\n",
      "If I take a breath or move my eyes I will be marked and killed -\n",
      "that's what I'm feeling...\n",
      "If I'm stuck like this for an hour, I'll go mad.\n",
      "Facing a Jonin intent to kill...\n",
      "This sensation is like having my life held in limbo...\n",
      "No way! I'd rather die to escape this feeling!\n",
      "Sasuke...\n",
      "Don't worry. I'll protect you all with my life.\n",
      "I absolutely won't allow my comrades to get killed.\n",
      "I don't know about that...\n",
      "It's over.\n",
      "Sensei! Behind you!!\n",
      "Die!!\n",
      "The Water Clone Jutsu...?\n",
      "It can't be.\n",
      "Don't move!\n",
      "The Oath of Pain\n",
      "It's over.\n",
      "W-Wow!!\n",
      "Did you say it's over?\n",
      "You don't understand, do you?\n",
      "You won't be able to beat me just by making like a monkey...\n",
      "No chance.\n",
      "But, I must say you're good.\n",
      "My Water Clone Jutsu was being copied at that point...\n",
      "I absolutely won't allow my comrades to get killed.\n",
      "By letting the clone talk as if it were you, you succeeded in distracting me.\n",
      "And you used Hidden Mist Jutsu to hide yourself to see what I was doing...\n",
      "But...\n",
      "I'm not a fool.\n",
      "That one was a fake too!\n",
      "Now!\n",
      "Makibishi spikes!\n",
      "How foolish!\n",
      "Sensei!\n",
      "Oh, I can't believe that Kakashi Sensei got...\n",
      "kicked away like that...\n",
      "His Taijutsu skills are also extremely good.\n",
      "W-What's with this water...? It's awfully heavy.\n",
      "Humph... Fool!\n",
      "It's the Water Prison Jutsu!\n",
      "Darn it.\n",
      "My temporary escape into the water...\n",
      "was a huge mistake!\n",
      "You're caught...\n",
      "It's a special prison that makes it impossible for you to escape!\n",
      "It makes things harder having you able to act.\n",
      "Now... Kakashi.\n",
      "I'll have to settle things with you later.\n",
      "First, I will finish those guys off.\n",
      "Water Clone Jutsu...\n",
      "Didn't expect this level of skill...\n",
      "You're acting big, wearing a headband like a Ninja...\n",
      "But... a real Ninja is one\n",
      "who has hovered between life and death numerous times.\n",
      "In other words,\n",
      "only those who are worth being listed in my Bingo Book\n",
      "deserve to be called Ninja.\n",
      "Guys like you can't be called real Ninja.\n",
      "He's disappeared again!\n",
      "You're just a kid!\n",
      "Naruto!\n",
      "You three! Take Tazuna and run!\n",
      "You have no chance against this guy!\n",
      "As long as he has me trapped in this Water Prison,\n",
      "he won't be able to move from here.\n",
      "And he shouldn't be able to use the Water Clone Jutsu\n",
      "if he's far enough away from his real body.\n",
      "In any case, just run for now!\n",
      "Run away?\n",
      "You've got to be kidding me.\n",
      "That option was gone from the moment you got caught.\n",
      "Even if we ran,\n",
      "without you, sooner or later we'd be defeated by Zabuza...\n",
      "and we'd all be destroyed.\n",
      "Even if we were to reform the Manji defense,\n",
      "it would be impossible to block his attacks.\n",
      "In the end...\n",
      "we'll have...\n",
      "no options left.\n",
      "In order for us to survive, our only option is to rescue you.\n",
      "We'll just have to do it!\n",
      "There!\n",
      "Too easy.\n",
      "Sasuke!\n",
      "Sasuke...\n",
      "T-This is the Jonin level... A real Ninja...\n",
      "We've got to run... At this rate...\n",
      "Seriously! Seriously!\n",
      "We'll be killed!!\n",
      "I'm going to swear on the pain of my left hand!\n",
      "I'll never get into another situation from which I'll have to be rescued...\n",
      "I'll never be afraid or be a coward.\n",
      "Are you hurt... scaredy cat?\n",
      "I won't lose to Sasuke.\n",
      "Can I borrow that Leaf headband for a while?\n",
      "This?\n",
      "This is worn only by those who have graduated from Ninja Academy.\n",
      "Naruto, come over here. I'd like to give you something.\n",
      "Congratulations on your graduation.\n",
      "That's because you're all squirts\n",
      "who don't have the qualifications to become Ninjas.\n",
      "Missions are all risky assignments.\n",
      "You pass!\n",
      "I'm not that little prankster that you think I am!\n",
      "I'm going to surpass the Hokage!\n",
      "And so I'm going to get the entire Village\n",
      "to acknowledge my existence!\n",
      "That's right...\n",
      "I am a Ninja now. And...\n",
      "I decided that I was not going to run anymore!\n",
      "That I wouldn't run away!\n",
      "Y-You fool! Stop it!\n",
      "Oh, Naruto! What are you thinking?!\n",
      "Humph! Fool...\n",
      "What are you thinking... charging off on your own?!\n",
      "Even Sasuke is no match for him...\n",
      "No matter how hard we try, we Genin are no match for him...\n",
      "Huh?!\n",
      "The headband...?!\n",
      "Hey! You, with no brows...\n",
      "Record in your Bingo Book...\n",
      "about the man who will one day become the Leaf Village's Hokage.\n",
      "Leaf-style Ninja...\n",
      "Naruto Uzumaki!!\n",
      "Naruto...\n",
      "When I first saw that little kid, he seemed so unreliable...\n",
      "Sasuke! Lend me your ear!\n",
      "What is it?\n",
      "I have a plan.\n",
      "You want to discuss plans under these circumstances?\n",
      "This guy!\n",
      "Humph! You are talking of teamwork?\n",
      "W-What is this feeling?\n",
      "Was Naruto so?\n",
      "Now...\n",
      "Let's get wild...\n",
      "Now, let's get wild!\n",
      "Such loud snorting, but do you have a winning plan?\n",
      "T-This isn't good...\n",
      "What are you guys doing! I told you to run!\n",
      "It was obvious what was going to happen once I was caught!\n",
      "Hurny! Run!\n",
      "Listen to me! Our mission is to protect Tazuna!\n",
      "Have you forgotten that?!\n",
      "Old man...\n",
      "Well...\n",
      "This is a seed that I planted...\n",
      "I can't say that I want my life to be spared.\n",
      "Sorry, you guys...\n",
      "Fight as much as you want!\n",
      "You hear that?\n",
      "Are you ready?\n",
      "You guys really haven't learned anything, have you?\n",
      "W-What?!\n",
      "You're still playing at being Ninja?\n",
      "When I was your age,\n",
      "this hand was already stained red with blood!\n",
      "Zabuza, the Demon!\n",
      "Ohh? It seems that you've heard of me.\n",
      "A long time ago, in the Mist Village, often called the town of Blood Mist,\n",
      "Ninja candidates faced their biggest hurdle.\n",
      "So you also know about that graduation exam...\n",
      "That graduation exam?\n",
      "What is it?\n",
      "This graduation exam that you're talking about...\n",
      "The students killed each other.\n",
      "What?\n",
      "Classmates who had shared rice from the same pot\n",
      "formed pairs and tried to kill each other.\n",
      "It didn't end until one of them died.\n",
      "Partners who used to talk about each other's dreams and aspirations...\n",
      "How cruel...\n",
      "Ten years ago,\n",
      "the Mist Village's graduation exam was forced to undergo drastic reform.\n",
      "That was because an evil demon had appeared on the scene the previous year.\n",
      "Reform?\n",
      "What about the reform?\n",
      "What had that evil demon done?\n",
      "With no scruples or hesitation...\n",
      "a young boy who didn't even have the qualifications for being a Ninja,\n",
      "annihilated over a hundred examinees.\n",
      "That sure was... fun...\n",
      "Sasuke!\n",
      "Die!\n",
      "Darn!\n",
      "Shadow Clone Jutsu!\n",
      "Ah... Shadow Clone Jutsu, and there are quite a few of them.\n",
      "Here I go!\n",
      "It's impossible, after all...\n",
      "There is no way that you can defeat the guy!\n",
      "There is only one way left to defeat this guy!\n",
      "Sasuke!\n",
      "I see!\n",
      "So that's your plan, Naruto!\n",
      "That's pretty good for you!\n",
      "Demon Wind Shuriken,\n",
      "Windmill of Shadows...\n",
      "A Shuriken won't work on me.\n",
      "I see. This time it's aiming for my real body...\n",
      "But...\n",
      "It's not so easy!\n",
      "A Shuriken in the Shuriken's shadow!\n",
      "This is... The Shadow Shuriken Jutsu!\n",
      "A second Shuriken in his blind spot!\n",
      "But...\n",
      "Still too naïve...\n",
      "He dodged it!!\n",
      "Here it is!\n",
      "Yes! The plan worked!!\n",
      "That Zabuza had no clue as to what I was thinking,\n",
      "and I fooled him!\n",
      "Ninja must be able to see through the obvious.\n",
      "Did you see that - the Leaf style fighting of Naruto Uzumaki?!\n",
      "Kakashi Sensei, the rest is up to you.\n",
      "Next episode: \"Kakashi, Sharingan Warrior!\"\n",
      "I'm going to kick butt once again!\n"
     ]
    }
   ],
   "source": [
    "print(content)"
   ]
  },
  {
   "cell_type": "code",
   "execution_count": 7,
   "metadata": {},
   "outputs": [],
   "source": [
    "import jinja2\n",
    "from typing import List\n",
    "from pydantic import BaseModel, Field, RootModel\n",
    "class CharacterLine(BaseModel):\n",
    "    character: str\n",
    "    line: str = Field(description=\"Character line\")\n",
    "\n",
    "class ContextOutput(BaseModel):\n",
    "    context: str\n",
    "    character_lines: List[CharacterLine]\n",
    "\n",
    "ListContextOutput = RootModel[List[ContextOutput]]\n",
    "\n",
    "JSON_FORMAT_INSTRUCTIONS = jinja2.Template(\"\"\"The output should be formatted as a JSON instance that conforms to the given JSON schema below.\n",
    "                                           \n",
    "# Examples\n",
    "## Schema\n",
    "```\n",
    "{\"properties\": {\"habit\": { \"description\": \"A common daily habit\", \"type\": \"string\" }, \"sustainable_alternative\": { \"description\": \"An environmentally friendly alternative to the habit\", \"type\": \"string\"}}}, \"required\": [\"habit\", \"sustainable_alternative\"]}}\n",
    "```\n",
    "## Well formatted instance\n",
    "```\n",
    "{\n",
    "    \"habit\": \"Using disposable water bottles for daily hydration\",\n",
    "    \"sustainable_alternative\": \"Fire Style: Majestic Flame Destroyer\"\n",
    "}\n",
    "```\n",
    "Please follow the standard JSON formatting conventions with correct indentations, and make sure that the data types adhere strictly to the following JSON schema:\n",
    "```\n",
    "{{schema}}\n",
    "```\n",
    "Use escape double quotes in a string is by using backslashes (\\)\n",
    "Make sure to always enclose the JSON output in triple backticks (```). Please do not add anything other than valid JSON output!\"\"\")\n",
    "def get_format_instructions(cls: BaseModel) -> str:\n",
    "    schema = cls.schema()\n",
    "\n",
    "    # Remove extraneous fields.\n",
    "    reduced_schema = schema\n",
    "    if \"title\" in reduced_schema:\n",
    "        del reduced_schema[\"title\"]\n",
    "    if \"type\" in reduced_schema:\n",
    "        del reduced_schema[\"type\"]\n",
    "    # Ensure yaml in context is well-formed with double quotes.\n",
    "    schema_str = json.dumps(reduced_schema)\n",
    "    return JSON_FORMAT_INSTRUCTIONS.render(schema=schema_str)\n",
    "\n",
    "def get_chain(\n",
    "    llm_url,\n",
    "    model_name,\n",
    "    template,\n",
    "    api_key=None,\n",
    "    temperature: float = 0.5,\n",
    "    max_tokens: int = -1,\n",
    "    template_format=\"f-string\",\n",
    "):\n",
    "    client = ChatOpenAI(\n",
    "        temperature=temperature,\n",
    "        base_url=llm_url,\n",
    "        model_name=model_name,\n",
    "        api_key=api_key,\n",
    "        max_tokens=max_tokens,\n",
    "    )\n",
    "    map_prompt = PromptTemplate.from_template(template, template_format=template_format)\n",
    "    return LLMChain(llm=client, prompt=map_prompt)"
   ]
  },
  {
   "cell_type": "code",
   "execution_count": 9,
   "metadata": {},
   "outputs": [],
   "source": [
    "dialogue_extractor_prompt = f\"\"\"\n",
    "You are manga nerd and you are watching Naruto\n",
    "### Instruction\n",
    "Extract characters and content in the following dialogue\n",
    "### Steps by steps\n",
    "- Analyze all lines in the dialogue\n",
    "- Guess the context and which lines belong to characters in the following dialogue\n",
    "- Return at most 7 contexts only\n",
    "- Return in JSON only, no further explain\n",
    "\n",
    "### Guideline\n",
    "- Both contents are in English\n",
    "- Context should be informative, concise. Focus on who, where, when, why\n",
    "- Character line should be exactly quoted from the dialogue\n",
    "\n",
    "### Example Schema\n",
    "{get_format_instructions(ListContextOutput)}\n",
    "### Input\n",
    "\"\"\" + \"{{content}}\""
   ]
  },
  {
   "cell_type": "code",
   "execution_count": 11,
   "metadata": {},
   "outputs": [
    {
     "name": "stdout",
     "output_type": "stream",
     "text": [
      "\n",
      "You are manga nerd and you are watching Naruto\n",
      "### Instruction\n",
      "Extract characters and content in the following dialogue\n",
      "### Steps by steps\n",
      "- Analyze all lines in the dialogue\n",
      "- Guess the context and which lines belong to characters in the following dialogue\n",
      "- Return at most 7 contexts only\n",
      "- Return in JSON only, no further explain\n",
      "\n",
      "### Guideline\n",
      "- Both contents are in English\n",
      "- Context should be informative, concise. Focus on who, where, when, why\n",
      "- Character line should be exactly quoted from the dialogue\n",
      "\n",
      "### Example Schema\n",
      "The output should be formatted as a JSON instance that conforms to the given JSON schema below.\n",
      "                                           \n",
      "# Examples\n",
      "## Schema\n",
      "```\n",
      "{\"properties\": {\"habit\": { \"description\": \"A common daily habit\", \"type\": \"string\" }, \"sustainable_alternative\": { \"description\": \"An environmentally friendly alternative to the habit\", \"type\": \"string\"}}}, \"required\": [\"habit\", \"sustainable_alternative\"]}}\n",
      "```\n",
      "## Well formatted instance\n",
      "```\n",
      "{\n",
      "    \"habit\": \"Using disposable water bottles for daily hydration\",\n",
      "    \"sustainable_alternative\": \"Fire Style: Majestic Flame Destroyer\"\n",
      "}\n",
      "```\n",
      "Please follow the standard JSON formatting conventions with correct indentations, and make sure that the data types adhere strictly to the following JSON schema:\n",
      "```\n",
      "{\"$defs\": {\"CharacterLine\": {\"properties\": {\"character\": {\"title\": \"Character\", \"type\": \"string\"}, \"line\": {\"description\": \"Character line\", \"title\": \"Line\", \"type\": \"string\"}}, \"required\": [\"character\", \"line\"], \"title\": \"CharacterLine\", \"type\": \"object\"}, \"ContextOutput\": {\"properties\": {\"context\": {\"title\": \"Context\", \"type\": \"string\"}, \"character_lines\": {\"items\": {\"$ref\": \"#/$defs/CharacterLine\"}, \"title\": \"Character Lines\", \"type\": \"array\"}}, \"required\": [\"context\", \"character_lines\"], \"title\": \"ContextOutput\", \"type\": \"object\"}}, \"items\": {\"$ref\": \"#/$defs/ContextOutput\"}}\n",
      "```\n",
      "Use escape double quotes in a string is by using backslashes (\\)\n",
      "Make sure to always enclose the JSON output in triple backticks (```). Please do not add anything other than valid JSON output!\n",
      "### Input\n",
      "C'mon!\n",
      "Running like a fugitive,\n",
      "Being chased by something\n",
      "Inside my heart is pounding\n",
      "My throat dry like it's withering\n",
      "For no single one,\n",
      "To none does belong,\n",
      "This time is ours, right now...\n",
      "Unraveling the pain,\n",
      "Unraveling our hearts,\n",
      "Unraveling shadows\n",
      "Stifling our breath,\n",
      "Reaching for beyond,\n",
      "Tearing through the dark\n",
      "In fighting and in love\n",
      "To the distant light above,\n",
      "Yes, we are on the way\n",
      "I wanna rock...\n",
      "Rockin' my heart\n",
      "Such intensity...\n",
      "If I take a breath or move my eyes I will be marked and killed -\n",
      "that's what I'm feeling...\n",
      "If I'm stuck like this for an hour, I'll go mad.\n",
      "Facing a Jonin intent to kill...\n",
      "This sensation is like having my life held in limbo...\n",
      "No way! I'd rather die to escape this feeling!\n",
      "Sasuke...\n",
      "Don't worry. I'll protect you all with my life.\n",
      "I absolutely won't allow my comrades to get killed.\n",
      "I don't know about that...\n",
      "It's over.\n",
      "Sensei! Behind you!!\n",
      "Die!!\n",
      "The Water Clone Jutsu...?\n",
      "It can't be.\n",
      "Don't move!\n",
      "The Oath of Pain\n",
      "It's over.\n",
      "W-Wow!!\n",
      "Did you say it's over?\n",
      "You don't understand, do you?\n",
      "You won't be able to beat me just by making like a monkey...\n",
      "No chance.\n",
      "But, I must say you're good.\n",
      "My Water Clone Jutsu was being copied at that point...\n",
      "I absolutely won't allow my comrades to get killed.\n",
      "By letting the clone talk as if it were you, you succeeded in distracting me.\n",
      "And you used Hidden Mist Jutsu to hide yourself to see what I was doing...\n",
      "But...\n",
      "I'm not a fool.\n",
      "That one was a fake too!\n",
      "Now!\n",
      "Makibishi spikes!\n",
      "How foolish!\n",
      "Sensei!\n",
      "Oh, I can't believe that Kakashi Sensei got...\n",
      "kicked away like that...\n",
      "His Taijutsu skills are also extremely good.\n",
      "W-What's with this water...? It's awfully heavy.\n",
      "Humph... Fool!\n",
      "It's the Water Prison Jutsu!\n",
      "Darn it.\n",
      "My temporary escape into the water...\n",
      "was a huge mistake!\n",
      "You're caught...\n",
      "It's a special prison that makes it impossible for you to escape!\n",
      "It makes things harder having you able to act.\n",
      "Now... Kakashi.\n",
      "I'll have to settle things with you later.\n",
      "First, I will finish those guys off.\n",
      "Water Clone Jutsu...\n",
      "Didn't expect this level of skill...\n",
      "You're acting big, wearing a headband like a Ninja...\n",
      "But... a real Ninja is one\n",
      "who has hovered between life and death numerous times.\n",
      "In other words,\n",
      "only those who are worth being listed in my Bingo Book\n",
      "deserve to be called Ninja.\n",
      "Guys like you can't be called real Ninja.\n",
      "He's disappeared again!\n",
      "You're just a kid!\n",
      "Naruto!\n",
      "You three! Take Tazuna and run!\n",
      "You have no chance against this guy!\n",
      "As long as he has me trapped in this Water Prison,\n",
      "he won't be able to move from here.\n",
      "And he shouldn't be able to use the Water Clone Jutsu\n",
      "if he's far enough away from his real body.\n",
      "In any case, just run for now!\n",
      "Run away?\n",
      "You've got to be kidding me.\n",
      "That option was gone from the moment you got caught.\n",
      "Even if we ran,\n",
      "without you, sooner or later we'd be defeated by Zabuza...\n",
      "and we'd all be destroyed.\n",
      "Even if we were to reform the Manji defense,\n",
      "it would be impossible to block his attacks.\n",
      "In the end...\n",
      "we'll have...\n",
      "no options left.\n",
      "In order for us to survive, our only option is to rescue you.\n",
      "We'll just have to do it!\n",
      "There!\n",
      "Too easy.\n",
      "Sasuke!\n",
      "Sasuke...\n",
      "T-This is the Jonin level... A real Ninja...\n",
      "We've got to run... At this rate...\n",
      "Seriously! Seriously!\n",
      "We'll be killed!!\n",
      "I'm going to swear on the pain of my left hand!\n",
      "I'll never get into another situation from which I'll have to be rescued...\n",
      "I'll never be afraid or be a coward.\n",
      "Are you hurt... scaredy cat?\n",
      "I won't lose to Sasuke.\n",
      "Can I borrow that Leaf headband for a while?\n",
      "This?\n",
      "This is worn only by those who have graduated from Ninja Academy.\n",
      "Naruto, come over here. I'd like to give you something.\n",
      "Congratulations on your graduation.\n",
      "That's because you're all squirts\n",
      "who don't have the qualifications to become Ninjas.\n",
      "Missions are all risky assignments.\n",
      "You pass!\n",
      "I'm not that little prankster that you think I am!\n",
      "I'm going to surpass the Hokage!\n",
      "And so I'm going to get the entire Village\n",
      "to acknowledge my existence!\n",
      "That's right...\n",
      "I am a Ninja now. And...\n",
      "I decided that I was not going to run anymore!\n",
      "That I wouldn't run away!\n",
      "Y-You fool! Stop it!\n",
      "Oh, Naruto! What are you thinking?!\n",
      "Humph! Fool...\n",
      "What are you thinking... charging off on your own?!\n",
      "Even Sasuke is no match for him...\n",
      "No matter how hard we try, we Genin are no match for him...\n",
      "Huh?!\n",
      "The headband...?!\n",
      "Hey! You, with no brows...\n",
      "Record in your Bingo Book...\n",
      "about the man who will one day become the Leaf Village's Hokage.\n",
      "Leaf-style Ninja...\n",
      "Naruto Uzumaki!!\n",
      "Naruto...\n",
      "When I first saw that little kid, he seemed so unreliable...\n",
      "Sasuke! Lend me your ear!\n",
      "What is it?\n",
      "I have a plan.\n",
      "You want to discuss plans under these circumstances?\n",
      "This guy!\n",
      "Humph! You are talking of teamwork?\n",
      "W-What is this feeling?\n",
      "Was Naruto so?\n",
      "Now...\n",
      "Let's get wild...\n",
      "Now, let's get wild!\n",
      "Such loud snorting, but do you have a winning plan?\n",
      "T-This isn't good...\n",
      "What are you guys doing! I told you to run!\n",
      "It was obvious what was going to happen once I was caught!\n",
      "Hurny! Run!\n",
      "Listen to me! Our mission is to protect Tazuna!\n",
      "Have you forgotten that?!\n",
      "Old man...\n",
      "Well...\n",
      "This is a seed that I planted...\n",
      "I can't say that I want my life to be spared.\n",
      "Sorry, you guys...\n",
      "Fight as much as you want!\n",
      "You hear that?\n",
      "Are you ready?\n",
      "You guys really haven't learned anything, have you?\n",
      "W-What?!\n",
      "You're still playing at being Ninja?\n",
      "When I was your age,\n",
      "this hand was already stained red with blood!\n",
      "Zabuza, the Demon!\n",
      "Ohh? It seems that you've heard of me.\n",
      "A long time ago, in the Mist Village, often called the town of Blood Mist,\n",
      "Ninja candidates faced their biggest hurdle.\n",
      "So you also know about that graduation exam...\n",
      "That graduation exam?\n",
      "What is it?\n",
      "This graduation exam that you're talking about...\n",
      "The students killed each other.\n",
      "What?\n",
      "Classmates who had shared rice from the same pot\n",
      "formed pairs and tried to kill each other.\n",
      "It didn't end until one of them died.\n",
      "Partners who used to talk about each other's dreams and aspirations...\n",
      "How cruel...\n",
      "Ten years ago,\n",
      "the Mist Village's graduation exam was forced to undergo drastic reform.\n",
      "That was because an evil demon had appeared on the scene the previous year.\n",
      "Reform?\n",
      "What about the reform?\n",
      "What had that evil demon done?\n",
      "With no scruples or hesitation...\n",
      "a young boy who didn't even have the qualifications for being a Ninja,\n",
      "annihilated over a hundred examinees.\n",
      "That sure was... fun...\n",
      "Sasuke!\n",
      "Die!\n",
      "Darn!\n",
      "Shadow Clone Jutsu!\n",
      "Ah... Shadow Clone Jutsu, and there are quite a few of them.\n",
      "Here I go!\n",
      "It's impossible, after all...\n",
      "There is no way that you can defeat the guy!\n",
      "There is only one way left to defeat this guy!\n",
      "Sasuke!\n",
      "I see!\n",
      "So that's your plan, Naruto!\n",
      "That's pretty good for you!\n",
      "Demon Wind Shuriken,\n",
      "Windmill of Shadows...\n",
      "A Shuriken won't work on me.\n",
      "I see. This time it's aiming for my real body...\n",
      "But...\n",
      "It's not so easy!\n",
      "A Shuriken in the Shuriken's shadow!\n",
      "This is... The Shadow Shuriken Jutsu!\n",
      "A second Shuriken in his blind spot!\n",
      "But...\n",
      "Still too naïve...\n",
      "He dodged it!!\n",
      "Here it is!\n",
      "Yes! The plan worked!!\n",
      "That Zabuza had no clue as to what I was thinking,\n",
      "and I fooled him!\n",
      "Ninja must be able to see through the obvious.\n",
      "Did you see that - the Leaf style fighting of Naruto Uzumaki?!\n",
      "Kakashi Sensei, the rest is up to you.\n",
      "Next episode: \"Kakashi, Sharingan Warrior!\"\n",
      "I'm going to kick butt once again!\n"
     ]
    }
   ],
   "source": [
    "print(jinja2.Template(dialogue_extractor_prompt).render(content=content))"
   ]
  },
  {
   "cell_type": "code",
   "execution_count": 50,
   "metadata": {},
   "outputs": [],
   "source": [
    "api_key=\"M8lfE1LIxpckoMXmMi2uW1tzPW2kZAwI\"\n",
    "llm_url = \"https://api.deepinfra.com/v1/openai\"\n",
    "model_name = \"meta-llama/Meta-Llama-3-70B-Instruct\"\n",
    "dialogue_extractor = get_chain(llm_url=llm_url, model_name=model_name, api_key=api_key,template=dialogue_extractor_prompt, temperature=0.5, max_tokens=8096, template_format=\"jinja2\")"
   ]
  },
  {
   "cell_type": "code",
   "execution_count": 48,
   "metadata": {},
   "outputs": [
    {
     "name": "stdout",
     "output_type": "stream",
     "text": [
      "/Users/nhuantran/Downloads/Naruto English Subtitles 1-135/(SB-RAW)NARUTO E001 (R2DVD 960x728 x264 AC3).en.srt\n",
      "/Users/nhuantran/Downloads/Naruto English Subtitles 1-135/(SB-RAW)NARUTO E002 (R2DVD 960x728 x264 AC3).en.srt\n",
      "/Users/nhuantran/Downloads/Naruto English Subtitles 1-135/(SB-RAW)NARUTO E003 (R2DVD 960x728 x264 AC3).en.srt\n",
      "/Users/nhuantran/Downloads/Naruto English Subtitles 1-135/(SB-RAW)NARUTO E004 (R2DVD 960x728 x264 AC3).en.srt\n",
      "/Users/nhuantran/Downloads/Naruto English Subtitles 1-135/(SB-RAW)NARUTO E005 (R2DVD 960x728 x264 AC3).en.srt\n",
      "/Users/nhuantran/Downloads/Naruto English Subtitles 1-135/(SB-RAW)NARUTO E006 (R2DVD 960x728 x264 AC3).en.srt\n",
      "/Users/nhuantran/Downloads/Naruto English Subtitles 1-135/(SB-RAW)NARUTO E007 (R2DVD 960x728 x264 AC3).en.srt\n",
      "/Users/nhuantran/Downloads/Naruto English Subtitles 1-135/(SB-RAW)NARUTO E008 (R2DVD 960x728 x264 AC3).en.srt\n",
      "/Users/nhuantran/Downloads/Naruto English Subtitles 1-135/(SB-RAW)NARUTO E009 (R2DVD 960x728 x264 AC3).en.srt\n",
      "/Users/nhuantran/Downloads/Naruto English Subtitles 1-135/(SB-RAW)NARUTO E010 (R2DVD 960x728 x264 AC3).en.srt\n",
      "/Users/nhuantran/Downloads/Naruto English Subtitles 1-135/(SB-RAW)NARUTO E011 (R2DVD 960x728 x264 AC3).en.srt\n",
      "/Users/nhuantran/Downloads/Naruto English Subtitles 1-135/(SB-RAW)NARUTO E012 (R2DVD 960x728 x264 AC3).en.srt\n",
      "Expecting value: line 18 column 6 (char 331)\n",
      "/Users/nhuantran/Downloads/Naruto English Subtitles 1-135/(SB-RAW)NARUTO E013 (R2DVD 960x728 x264 AC3).en.srt\n"
     ]
    },
    {
     "name": "stderr",
     "output_type": "stream",
     "text": [
      "/var/folders/_q/zxnjn9rd7vj0h6477qfvbfw00000gn/T/ipykernel_60634/2588088363.py:29: MarkupResemblesLocatorWarning: The input looks more like a filename than markup. You may want to open this file and pass the filehandle into Beautiful Soup.\n",
      "  subtitle_texts = [BeautifulSoup(sub.text).get_text().replace(\"\\n\", \" \") for sub in subtitles]\n"
     ]
    },
    {
     "name": "stdout",
     "output_type": "stream",
     "text": [
      "/Users/nhuantran/Downloads/Naruto English Subtitles 1-135/(SB-RAW)NARUTO E014 (R2DVD 960x728 x264 AC3).en.srt\n",
      "/Users/nhuantran/Downloads/Naruto English Subtitles 1-135/(SB-RAW)NARUTO E015 (R2DVD 960x728 x264 AC3).en.srt\n",
      "/Users/nhuantran/Downloads/Naruto English Subtitles 1-135/(SB-RAW)NARUTO E016 (R2DVD 960x728 x264 AC3).en.srt\n",
      "/Users/nhuantran/Downloads/Naruto English Subtitles 1-135/(SB-RAW)NARUTO E017 (R2DVD 960x728 x264 AC3).en.srt\n",
      "Expecting value: line 18 column 6 (char 336)\n",
      "/Users/nhuantran/Downloads/Naruto English Subtitles 1-135/(SB-RAW)NARUTO E018 (R2DVD 960x728 x264 AC3).en.srt\n",
      "/Users/nhuantran/Downloads/Naruto English Subtitles 1-135/(SB-RAW)NARUTO E019 (R2DVD 960x728 x264 AC3).en.srt\n",
      "/Users/nhuantran/Downloads/Naruto English Subtitles 1-135/(SB-RAW)NARUTO E020 (R2DVD 960x728 x264 AC3).en.srt\n",
      "Expecting ',' delimiter: line 83 column 1 (char 1898)\n",
      "/Users/nhuantran/Downloads/Naruto English Subtitles 1-135/(SB-RAW)NARUTO E021 (R2DVD 960x728 x264 AC3).en.srt\n",
      "/Users/nhuantran/Downloads/Naruto English Subtitles 1-135/(SB-RAW)NARUTO E022 (R2DVD 960x728 x264 AC3).en.srt\n",
      "/Users/nhuantran/Downloads/Naruto English Subtitles 1-135/(SB-RAW)NARUTO E023 (R2DVD 960x728 x264 AC3).en.srt\n",
      "/Users/nhuantran/Downloads/Naruto English Subtitles 1-135/(SB-RAW)NARUTO E024 (R2DVD 960x728 x264 AC3).en.srt\n",
      "/Users/nhuantran/Downloads/Naruto English Subtitles 1-135/(SB-RAW)NARUTO E025 (R2DVD 960x728 x264 AC3).en.srt\n",
      "/Users/nhuantran/Downloads/Naruto English Subtitles 1-135/(SB-RAW)NARUTO E026 (R2DVD 960x728 x264 AC3).en.srt\n",
      "/Users/nhuantran/Downloads/Naruto English Subtitles 1-135/(SB-RAW)NARUTO E027 (R2DVD 960x728 x264 AC3).en.srt\n",
      "/Users/nhuantran/Downloads/Naruto English Subtitles 1-135/(SB-RAW)NARUTO E028 (R2DVD 960x728 x264 AC3).en.srt\n",
      "/Users/nhuantran/Downloads/Naruto English Subtitles 1-135/(SB-RAW)NARUTO E029 (R2DVD 960x728 x264 AC3).en.srt\n",
      "/Users/nhuantran/Downloads/Naruto English Subtitles 1-135/(SB-RAW)NARUTO E030 (R2DVD 960x728 x264 AC3).en.srt\n",
      "/Users/nhuantran/Downloads/Naruto English Subtitles 1-135/(SB-RAW)NARUTO E031 (R2DVD 960x728 x264 AC3).en.srt\n",
      "/Users/nhuantran/Downloads/Naruto English Subtitles 1-135/(SB-RAW)NARUTO E032 (R2DVD 960x728 x264 AC3).en.srt\n",
      "/Users/nhuantran/Downloads/Naruto English Subtitles 1-135/(SB-RAW)NARUTO E033 (R2DVD 960x728 x264 AC3).en.srt\n",
      "/Users/nhuantran/Downloads/Naruto English Subtitles 1-135/(SB-RAW)NARUTO E034 (R2DVD 960x728 x264 AC3).en.srt\n",
      "/Users/nhuantran/Downloads/Naruto English Subtitles 1-135/(SB-RAW)NARUTO E035 (R2DVD 960x728 x264 AC3).en.srt\n",
      "/Users/nhuantran/Downloads/Naruto English Subtitles 1-135/(SB-RAW)NARUTO E036 (R2DVD 960x728 x264 AC3).en.srt\n",
      "/Users/nhuantran/Downloads/Naruto English Subtitles 1-135/(SB-RAW)NARUTO E037 (R2DVD 960x728 x264 AC3).en.srt\n",
      "/Users/nhuantran/Downloads/Naruto English Subtitles 1-135/(SB-RAW)NARUTO E038 (R2DVD 960x728 x264 AC3).en.srt\n",
      "/Users/nhuantran/Downloads/Naruto English Subtitles 1-135/(SB-RAW)NARUTO E039 (R2DVD 960x728 x264 AC3).en.srt\n",
      "/Users/nhuantran/Downloads/Naruto English Subtitles 1-135/(SB-RAW)NARUTO E040 (R2DVD 960x728 x264 AC3).en.srt\n",
      "/Users/nhuantran/Downloads/Naruto English Subtitles 1-135/(SB-RAW)NARUTO E041 (R2DVD 960x728 x264 AC3).en.srt\n",
      "/Users/nhuantran/Downloads/Naruto English Subtitles 1-135/(SB-RAW)NARUTO E042 (R2DVD 960x728 x264 AC3).en.srt\n",
      "/Users/nhuantran/Downloads/Naruto English Subtitles 1-135/(SB-RAW)NARUTO E043 (R2DVD 960x728 x264 AC3).en.srt\n",
      "/Users/nhuantran/Downloads/Naruto English Subtitles 1-135/(SB-RAW)NARUTO E044 (R2DVD 960x728 x264 AC3).en.srt\n",
      "/Users/nhuantran/Downloads/Naruto English Subtitles 1-135/(SB-RAW)NARUTO E045 (R2DVD 960x728 x264 AC3).en.srt\n",
      "/Users/nhuantran/Downloads/Naruto English Subtitles 1-135/(SB-RAW)NARUTO E046 (R2DVD 960x728 x264 AC3).en.srt\n",
      "/Users/nhuantran/Downloads/Naruto English Subtitles 1-135/(SB-RAW)NARUTO E047 (R2DVD 960x728 x264 AC3).en.srt\n",
      "Expecting ',' delimiter: line 79 column 1 (char 2050)\n",
      "/Users/nhuantran/Downloads/Naruto English Subtitles 1-135/(SB-RAW)NARUTO E048 (R2DVD 960x728 x264 AC3).en.srt\n",
      "/Users/nhuantran/Downloads/Naruto English Subtitles 1-135/(SB-RAW)NARUTO E049 (R2DVD 960x728 x264 AC3).en.srt\n",
      "/Users/nhuantran/Downloads/Naruto English Subtitles 1-135/(SB-RAW)NARUTO E050 (R2DVD 960x728 x264 AC3).en.srt\n",
      "/Users/nhuantran/Downloads/Naruto English Subtitles 1-135/(SB-RAW)NARUTO E051 (R2DVD 960x728 x264 AC3).en.srt\n",
      "/Users/nhuantran/Downloads/Naruto English Subtitles 1-135/(SB-RAW)NARUTO E052 (R2DVD 960x728 x264 AC3).en.srt\n",
      "/Users/nhuantran/Downloads/Naruto English Subtitles 1-135/(SB-RAW)NARUTO E053 (R2DVD 960x728 x264 AC3).en.srt\n",
      "/Users/nhuantran/Downloads/Naruto English Subtitles 1-135/(SB-RAW)NARUTO E054 (R2DVD 960x728 x264 AC3).en.srt\n",
      "/Users/nhuantran/Downloads/Naruto English Subtitles 1-135/(SB-RAW)NARUTO E055 (R2DVD 960x728 x264 AC3).en.srt\n",
      "/Users/nhuantran/Downloads/Naruto English Subtitles 1-135/(SB-RAW)NARUTO E056 (R2DVD 960x728 x264 AC3).en.srt\n",
      "/Users/nhuantran/Downloads/Naruto English Subtitles 1-135/(SB-RAW)NARUTO E057 (R2DVD 960x728 x264 AC3).en.srt\n",
      "/Users/nhuantran/Downloads/Naruto English Subtitles 1-135/(SB-RAW)NARUTO E058 (R2DVD 960x728 x264 AC3).en.srt\n",
      "/Users/nhuantran/Downloads/Naruto English Subtitles 1-135/(SB-RAW)NARUTO E059 (R2DVD 960x728 x264 AC3).en.srt\n",
      "/Users/nhuantran/Downloads/Naruto English Subtitles 1-135/(SB-RAW)NARUTO E060 (R2DVD 960x728 x264 AC3).en.srt\n",
      "/Users/nhuantran/Downloads/Naruto English Subtitles 1-135/(SB-RAW)NARUTO E061 (R2DVD 960x728 x264 AC3).en.srt\n",
      "/Users/nhuantran/Downloads/Naruto English Subtitles 1-135/(SB-RAW)NARUTO E062 (R2DVD 960x728 x264 AC3).en.srt\n",
      "/Users/nhuantran/Downloads/Naruto English Subtitles 1-135/(SB-RAW)NARUTO E063 (R2DVD 960x728 x264 AC3).en.srt\n",
      "/Users/nhuantran/Downloads/Naruto English Subtitles 1-135/(SB-RAW)NARUTO E064 (R2DVD 960x728 x264 AC3).en.srt\n",
      "/Users/nhuantran/Downloads/Naruto English Subtitles 1-135/(SB-RAW)NARUTO E065 (R2DVD 960x728 x264 AC3).en.srt\n",
      "/Users/nhuantran/Downloads/Naruto English Subtitles 1-135/(SB-RAW)NARUTO E066 (R2DVD 960x728 x264 AC3).en.srt\n",
      "/Users/nhuantran/Downloads/Naruto English Subtitles 1-135/(SB-RAW)NARUTO E067 (R2DVD 960x728 x264 AC3).en.srt\n",
      "/Users/nhuantran/Downloads/Naruto English Subtitles 1-135/(SB-RAW)NARUTO E068 (R2DVD 960x728 x264 AC3).en.srt\n",
      "/Users/nhuantran/Downloads/Naruto English Subtitles 1-135/(SB-RAW)NARUTO E069 (R2DVD 960x728 x264 AC3).en.srt\n",
      "/Users/nhuantran/Downloads/Naruto English Subtitles 1-135/(SB-RAW)NARUTO E070 (R2DVD 960x728 x264 AC3).en.srt\n",
      "/Users/nhuantran/Downloads/Naruto English Subtitles 1-135/(SB-RAW)NARUTO E071 (R2DVD 960x728 x264 AC3).en.srt\n",
      "/Users/nhuantran/Downloads/Naruto English Subtitles 1-135/(SB-RAW)NARUTO E072 (R2DVD 960x728 x264 AC3).en.srt\n",
      "/Users/nhuantran/Downloads/Naruto English Subtitles 1-135/(SB-RAW)NARUTO E073 (R2DVD 960x728 x264 AC3).en.srt\n",
      "/Users/nhuantran/Downloads/Naruto English Subtitles 1-135/(SB-RAW)NARUTO E074 (R2DVD 960x728 x264 AC3).en.srt\n",
      "/Users/nhuantran/Downloads/Naruto English Subtitles 1-135/(SB-RAW)NARUTO E075 (R2DVD 960x728 x264 AC3).en.srt\n",
      "/Users/nhuantran/Downloads/Naruto English Subtitles 1-135/(SB-RAW)NARUTO E076 (R2DVD 960x728 x264 AC3).en.srt\n",
      "/Users/nhuantran/Downloads/Naruto English Subtitles 1-135/(SB-RAW)NARUTO E077 (R2DVD 960x728 x264 AC3).en.srt\n",
      "/Users/nhuantran/Downloads/Naruto English Subtitles 1-135/(SB-RAW)NARUTO E078 (R2DVD 960x728 x264 AC3).en.srt\n",
      "/Users/nhuantran/Downloads/Naruto English Subtitles 1-135/(SB-RAW)NARUTO E079 (R2DVD 960x728 x264 AC3).en.srt\n",
      "/Users/nhuantran/Downloads/Naruto English Subtitles 1-135/(SB-RAW)NARUTO E080 (R2DVD 960x728 x264 AC3).en.srt\n",
      "/Users/nhuantran/Downloads/Naruto English Subtitles 1-135/(SB-RAW)NARUTO E081 (R2DVD 960x728 x264 AC3).en.srt\n",
      "/Users/nhuantran/Downloads/Naruto English Subtitles 1-135/(SB-RAW)NARUTO E082 (R2DVD 960x728 x264 AC3).en.srt\n",
      "/Users/nhuantran/Downloads/Naruto English Subtitles 1-135/(SB-RAW)NARUTO E083 (R2DVD 960x728 x264 AC3).en.srt\n",
      "/Users/nhuantran/Downloads/Naruto English Subtitles 1-135/(SB-RAW)NARUTO E084 (R2DVD 960x728 x264 AC3).en.srt\n",
      "/Users/nhuantran/Downloads/Naruto English Subtitles 1-135/(SB-RAW)NARUTO E085 (R2DVD 960x728 x264 AC3).en.srt\n",
      "/Users/nhuantran/Downloads/Naruto English Subtitles 1-135/(SB-RAW)NARUTO E086 (R2DVD 960x728 x264 AC3).en.srt\n",
      "/Users/nhuantran/Downloads/Naruto English Subtitles 1-135/(SB-RAW)NARUTO E087 (R2DVD 960x728 x264 AC3).en.srt\n",
      "/Users/nhuantran/Downloads/Naruto English Subtitles 1-135/(SB-RAW)NARUTO E088 (R2DVD 960x728 x264 AC3).en.srt\n",
      "/Users/nhuantran/Downloads/Naruto English Subtitles 1-135/(SB-RAW)NARUTO E089 (R2DVD 960x728 x264 AC3).en.srt\n",
      "/Users/nhuantran/Downloads/Naruto English Subtitles 1-135/(SB-RAW)NARUTO E090 (R2DVD 960x728 x264 AC3).en.srt\n",
      "/Users/nhuantran/Downloads/Naruto English Subtitles 1-135/(SB-RAW)NARUTO E091 (R2DVD 960x728 x264 AC3).en.srt\n",
      "/Users/nhuantran/Downloads/Naruto English Subtitles 1-135/(SB-RAW)NARUTO E092 (R2DVD 960x728 x264 AC3).en.srt\n",
      "/Users/nhuantran/Downloads/Naruto English Subtitles 1-135/(SB-RAW)NARUTO E093 (R2DVD 960x728 x264 AC3).en.srt\n",
      "/Users/nhuantran/Downloads/Naruto English Subtitles 1-135/(SB-RAW)NARUTO E094 (R2DVD 960x728 x264 AC3).en.srt\n",
      "/Users/nhuantran/Downloads/Naruto English Subtitles 1-135/(SB-RAW)NARUTO E095 (R2DVD 960x728 x264 AC3).en.srt\n",
      "/Users/nhuantran/Downloads/Naruto English Subtitles 1-135/(SB-RAW)NARUTO E096 (R2DVD 960x728 x264 AC3).en.srt\n",
      "/Users/nhuantran/Downloads/Naruto English Subtitles 1-135/(SB-RAW)NARUTO E097 (R2DVD 960x728 x264 AC3).en.srt\n",
      "/Users/nhuantran/Downloads/Naruto English Subtitles 1-135/(SB-RAW)NARUTO E098 (R2DVD 960x728 x264 AC3).en.srt\n",
      "/Users/nhuantran/Downloads/Naruto English Subtitles 1-135/(SB-RAW)NARUTO E099 (R2DVD 960x728 x264 AC3).en.srt\n",
      "/Users/nhuantran/Downloads/Naruto English Subtitles 1-135/(SB-RAW)NARUTO E100 (R2DVD 960x728 x264 AC3).en.srt\n",
      "/Users/nhuantran/Downloads/Naruto English Subtitles 1-135/(SB-RAW)NARUTO E101 (R2DVD 960x728 x264 AC3).en.srt\n",
      "/Users/nhuantran/Downloads/Naruto English Subtitles 1-135/(SB-RAW)NARUTO E102 (R2DVD 960x728 x264 AC3).en.srt\n",
      "/Users/nhuantran/Downloads/Naruto English Subtitles 1-135/(SB-RAW)NARUTO E103 (R2DVD 960x728 x264 AC3).en.srt\n",
      "/Users/nhuantran/Downloads/Naruto English Subtitles 1-135/(SB-RAW)NARUTO E104 (R2DVD 960x728 x264 AC3).en.srt\n",
      "/Users/nhuantran/Downloads/Naruto English Subtitles 1-135/(SB-RAW)NARUTO E105 (R2DVD 960x728 x264 AC3).en.srt\n",
      "/Users/nhuantran/Downloads/Naruto English Subtitles 1-135/(SB-RAW)NARUTO E106 (R2DVD 960x728 x264 AC3).en.srt\n",
      "/Users/nhuantran/Downloads/Naruto English Subtitles 1-135/(SB-RAW)NARUTO E107 (R2DVD 960x728 x264 AC3).en.srt\n",
      "/Users/nhuantran/Downloads/Naruto English Subtitles 1-135/(SB-RAW)NARUTO E108 (R2DVD 960x728 x264 AC3).en.srt\n",
      "/Users/nhuantran/Downloads/Naruto English Subtitles 1-135/(SB-RAW)NARUTO E109 (R2DVD 960x728 x264 AC3).en.srt\n",
      "/Users/nhuantran/Downloads/Naruto English Subtitles 1-135/(SB-RAW)NARUTO E110 (R2DVD 960x728 x264 AC3).en.srt\n",
      "/Users/nhuantran/Downloads/Naruto English Subtitles 1-135/(SB-RAW)NARUTO E111 (R2DVD 960x728 x264 AC3).en.srt\n",
      "/Users/nhuantran/Downloads/Naruto English Subtitles 1-135/(SB-RAW)NARUTO E112 (R2DVD 960x728 x264 AC3).en.srt\n",
      "/Users/nhuantran/Downloads/Naruto English Subtitles 1-135/(SB-RAW)NARUTO E113 (R2DVD 960x728 x264 AC3).en.srt\n",
      "/Users/nhuantran/Downloads/Naruto English Subtitles 1-135/(SB-RAW)NARUTO E114 (R2DVD 960x728 x264 AC3).en.srt\n",
      "/Users/nhuantran/Downloads/Naruto English Subtitles 1-135/(SB-RAW)NARUTO E115 (R2DVD 960x728 x264 AC3).en.srt\n",
      "/Users/nhuantran/Downloads/Naruto English Subtitles 1-135/(SB-RAW)NARUTO E116 (R2DVD 960x728 x264 AC3).en.srt\n",
      "/Users/nhuantran/Downloads/Naruto English Subtitles 1-135/(SB-RAW)NARUTO E117 (R2DVD 960x728 x264 AC3).en.srt\n",
      "/Users/nhuantran/Downloads/Naruto English Subtitles 1-135/(SB-RAW)NARUTO E118 (R2DVD 960x728 x264 AC3).en.srt\n",
      "/Users/nhuantran/Downloads/Naruto English Subtitles 1-135/(SB-RAW)NARUTO E119 (R2DVD 960x728 x264 AC3).en.srt\n",
      "/Users/nhuantran/Downloads/Naruto English Subtitles 1-135/(SB-RAW)NARUTO E120 (R2DVD 960x728 x264 AC3).en.srt\n",
      "/Users/nhuantran/Downloads/Naruto English Subtitles 1-135/(SB-RAW)NARUTO E121 (R2DVD 960x728 x264 AC3).en.srt\n",
      "/Users/nhuantran/Downloads/Naruto English Subtitles 1-135/(SB-RAW)NARUTO E122 (R2DVD 960x728 x264 AC3).en.srt\n",
      "/Users/nhuantran/Downloads/Naruto English Subtitles 1-135/(SB-RAW)NARUTO E123 (R2DVD 960x728 x264 AC3).en.srt\n",
      "/Users/nhuantran/Downloads/Naruto English Subtitles 1-135/(SB-RAW)NARUTO E124 (R2DVD 960x728 x264 AC3).en.srt\n",
      "/Users/nhuantran/Downloads/Naruto English Subtitles 1-135/(SB-RAW)NARUTO E125 (R2DVD 960x728 x264 AC3).en.srt\n",
      "/Users/nhuantran/Downloads/Naruto English Subtitles 1-135/(SB-RAW)NARUTO E126 (R2DVD 960x728 x264 AC3).en.srt\n",
      "/Users/nhuantran/Downloads/Naruto English Subtitles 1-135/(SB-RAW)NARUTO E127 (R2DVD 960x728 x264 AC3).en.srt\n",
      "/Users/nhuantran/Downloads/Naruto English Subtitles 1-135/(SB-RAW)NARUTO E128 (R2DVD 960x728 x264 AC3).en.srt\n",
      "/Users/nhuantran/Downloads/Naruto English Subtitles 1-135/(SB-RAW)NARUTO E129 (R2DVD 960x728 x264 AC3).en.srt\n",
      "/Users/nhuantran/Downloads/Naruto English Subtitles 1-135/(SB-RAW)NARUTO E130 (R2DVD 960x728 x264 AC3).en.srt\n",
      "/Users/nhuantran/Downloads/Naruto English Subtitles 1-135/(SB-RAW)NARUTO E131 (R2DVD 960x728 x264 AC3).en.srt\n",
      "/Users/nhuantran/Downloads/Naruto English Subtitles 1-135/(SB-RAW)NARUTO E132 (R2DVD 960x728 x264 AC3).en.srt\n",
      "/Users/nhuantran/Downloads/Naruto English Subtitles 1-135/(SB-RAW)NARUTO E133 (R2DVD 960x728 x264 AC3).en.srt\n",
      "/Users/nhuantran/Downloads/Naruto English Subtitles 1-135/(SB-RAW)NARUTO E134 (R2DVD 960x728 x264 AC3).en.srt\n",
      "/Users/nhuantran/Downloads/Naruto English Subtitles 1-135/(SB-RAW)NARUTO E135 (R2DVD 960x728 x264 AC3).en.srt\n",
      "Expecting ',' delimiter: line 42 column 1 (char 2034)\n"
     ]
    }
   ],
   "source": [
    "from glob import glob\n",
    "\n",
    "with open(\"../data/naruto_dialogue_junior.json\", \"a+\") as f:\n",
    "    for i, fpath in enumerate(\n",
    "        sorted(glob(\"/Users/nhuantran/Downloads/Naruto English Subtitles 1-135/*.srt\"))\n",
    "    ):\n",
    "        print(fpath)\n",
    "        episode_number = str(i + 1).zfill(3)\n",
    "        subtitles = extract_subtitles(fpath)\n",
    "        content = \"\\n\".join(subtitles)\n",
    "        for _ in range(3):\n",
    "            try:\n",
    "                output = dialogue_extractor.invoke(content)\n",
    "                context_output = json.loads(output[\"text\"].replace(\"```\", \"\"))\n",
    "                for i in range(len(context_output)):\n",
    "                    context_output[i][\"episode_number\"] = episode_number\n",
    "                    f.write(json.dumps(context_output[i]) + \"\\n\")\n",
    "            except Exception as e:\n",
    "                print(e)\n",
    "                continue"
   ]
  },
  {
   "cell_type": "code",
   "execution_count": 64,
   "metadata": {},
   "outputs": [],
   "source": [
    "# from glob import glob\n",
    "\n",
    "# from tqdm import tqdm\n",
    "# from glob import glob\n",
    "\n",
    "# pattern = r\"\\[HorribleSubs\\] Naruto Shippuuden - (\\d{3}) \\[\\d{3}p\\].ass\"\n",
    "\n",
    "# folder_path = \"/Users/nhuantran/Downloads/Naruto Shippuuden English Subs/\"\n",
    "# output_name = \"../data/naruto_shippuuden_dialogue.json\"\n",
    "# with open(output_name, \"w\") as f:\n",
    "#     for idx, fpath in tqdm(enumerate(glob(folder_path+\"/*.ass\"))):\n",
    "#         print(\"Process \", fpath)\n",
    "#         dialogues = parse_ass_file(fpath)\n",
    "#         df_dialogue = pd.DataFrame(dialogues, columns=[\"Layer\", \"Start\", \"End\", \"Style\", \"Name\", \"MarginL\", \"MarginR\", \"MarginV\", \"Effect\",\"Text\"])\n",
    "#         content = \"\\n\".join(df_dialogue[\"Text\"].tolist())\n",
    "\n",
    "#         file_name = fpath.split(\"/\")[-1]\n",
    "#         match = re.search(pattern, file_name)\n",
    "#         episode_number = match.group(1)\n",
    "#         for _ in range(3):\n",
    "#             try:\n",
    "#                 output = dialogue_extractor.invoke(content)\n",
    "#                 context_output = json.loads(output[\"text\"].replace(\"```\", \"\"))\n",
    "#                 for i in range(len(context_output)):\n",
    "#                     context_output[i][\"episode_number\"] = episode_number\n",
    "#                     f.write(json.dumps(context_output[i]) + \"\\n\")\n",
    "#             except Exception as e:\n",
    "#                 print(e)\n",
    "#                 continue"
   ]
  },
  {
   "cell_type": "markdown",
   "metadata": {},
   "source": [
    "## Summarize all episodes"
   ]
  },
  {
   "cell_type": "code",
   "execution_count": 58,
   "metadata": {},
   "outputs": [
    {
     "name": "stderr",
     "output_type": "stream",
     "text": [
      "0it [00:00, ?it/s]"
     ]
    },
    {
     "name": "stderr",
     "output_type": "stream",
     "text": [
      "426it [00:00, 3257.18it/s]\n"
     ]
    }
   ],
   "source": [
    "from tqdm import tqdm\n",
    "from glob import glob\n",
    "\n",
    "pattern = r\"\\[HorribleSubs\\] Naruto Shippuuden - (\\d{3}) \\[\\d{3}p\\].ass\"\n",
    "\n",
    "folder_path = \"/Users/nhuantran/Downloads/Naruto Shippuuden English Subs/\"\n",
    "output_name = \"../data/naruto_shippuuden_subtitle.json\"\n",
    "with open(output_name, \"a+\") as f:\n",
    "    for idx, fpath in tqdm(enumerate(glob(folder_path+\"/*.ass\"))):\n",
    "        # print(\"Process \", fpath)\n",
    "        if idx < 300:\n",
    "            continue\n",
    "        dialogues = parse_ass_file(fpath)\n",
    "        df_dialogue = pd.DataFrame(dialogues, columns=[\"Layer\", \"Start\", \"End\", \"Style\", \"Name\", \"MarginL\", \"MarginR\", \"MarginV\", \"Effect\",\"Text\"])\n",
    "        content = \"\\n\".join(df_dialogue[\"Text\"].tolist())\n",
    "\n",
    "        file_name = fpath.split(\"/\")[-1]\n",
    "        match = re.search(pattern, file_name)\n",
    "        episode_number = match.group(1)\n",
    "        f.write(json.dumps({\"episode_number\": episode_number, \"content\": content}) + \"\\n\")\n",
    "        f.flush()"
   ]
  },
  {
   "cell_type": "code",
   "execution_count": 62,
   "metadata": {},
   "outputs": [
    {
     "data": {
      "text/plain": [
       "'{\\\\i1}A Place to Return to\\n\\n\\nOww!\\nTry to bear with it.\\nThis should ease the pain a bit.\\nThank you, Sakura...\\n{\\\\i1}The wound is deep.\\n{\\\\i1}I\\'ll do what I can here...\\nSakura...\\nHow is Yuukimaru doing?\\nShizune Senpai and the others\\nare tending to him now.\\nThis is terrible. His Chakra Network is...\\nYes, he\\'s suffered a lot of damage...\\nEven with treatment,\\nit\\'d be impossible to restore him\\nto normal completely.\\nIt seems the power to control\\nthe Three-Tails took quite a toll\\non Yuukimaru\\'s body.\\nThe Jutsu reduced his life...?\\nYes.\\nI can\\'t be certain until we conduct\\na thorough examination,\\nbut it\\'s likely that Yuukimaru no longer\\nhas the powers he once had.\\nWe\\'ve now lost our only chance\\nof controlling the Three-Tails...\\nPerhaps, for this child,\\nit\\'s better that way...\\nShizune, how is Yuukimaru?\\nHe\\'ll live. He\\'s still asleep...\\nThank goodness he made it.\\nYeah...\\nBut...\\nI wasn\\'t able to help him\\nat all in the end...\\nWhat?\\nI foolishly told him \"wherever someone\\nthinks about you is the place to return to...\"\\nBut right before his eyes,\\nhe lost that very place to return to.\\nThat wasn\\'t your fault.\\nBut still...\\n{\\\\i1}You are the one I should return to,\\n{\\\\i1}after all...\\n{\\\\i1}And I\\'m the one\\n{\\\\i1}you should return to, Guren.\\n{\\\\i1}I promise you...\\n{\\\\i1}I will never leave your side.\\n{\\\\i1}I will always think of you.\\n{\\\\i1}Uh-huh...\\n{\\\\i1}And I will always think of you, Guren.\\n{\\\\i1}From now, and forever...\\nNaruto...\\nI\\'m sorry. Yuukimaru...\\nAnd that is the situation, Lady Tsunade.\\nI see... I understand.\\nKatsuyu, order everyone to return.\\nAre you sure?\\nWe have no choice.\\nIt would be impossible to\\nhave them continue their mission.\\nNow that the child has lost his powers,\\nOrochimaru can no longer\\ndo anything to the Tailed Beast.\\nWe\\'ll pull back for now, regroup,\\nand come up with a new plan.\\nBut Orochimaru is not the only one\\nwho is after the Three-Tails...\\nI\\'m perfectly aware of that.\\nBut the Three-Tails is an adversary\\nthat has given us\\na great deal of trouble up to this point.\\nEven the Akatsuki won\\'t\\nhave an easy time.\\nI\\'ll send Ninja to\\nreplace them immediately.\\nOnce they arrive,\\nhave them tell everyone to withdraw!\\nRight away.\\nThose are Lady Tsunade\\'s orders.\\nUnderstood.\\nWe\\'ll inform everyone immediately.\\nWe have new orders from Lady Hokage.\\nWe will abort our current mission.\\nOur orders are to return to\\nthe village immediately.\\n- What?\\n- Huh?!\\nThat was sudden.\\nHey c\\'mon, is it okay to leave\\nthe Three-Tails?\\nWe won\\'t have to worry about that.\\nThey\\'re sending Ninja to replace us\\nand maintain the watch.\\nBut still...!\\nThere\\'s nothing we can do\\neven if we remain here.\\nEveryone has suffered too many wounds.\\nLady Tsunade has decided that\\nit would be more effective\\nif we brought back the information\\nwe\\'ve gained this time around\\nand apply it to our next plan instead.\\nWe\\'ll move out tomorrow morning.\\nI want you all to get a good night\\'s rest\\nbefore we move out.\\n{\\\\i1}Guren...\\n{\\\\i1}Guren...\\n{\\\\i1}Gozu?\\n{\\\\i1}Why\\'re you...\\n{\\\\i1}Why\\'re you saving me...?\\n{\\\\i1}Do you remember...that day?\\n{\\\\i1}I was placed in solitary after losing control\\n{\\\\i1}during Orochimaru\\'s experiment...\\n{\\\\i1}I was hardly given any water\\n{\\\\i1}or food to speak of.\\n{\\\\i1}I was on the verge of dying from thirst.\\n{\\\\i1}Then you came and kindly gave me\\n{\\\\i1}a ladleful of water.\\n{\\\\i1}Because of that, I was able to survive.\\n{\\\\i1}Ever since that day, I...\\n{\\\\i1}I don\\'t even remember.\\n{\\\\i1}I must\\'ve been feeling generous.\\n{\\\\i1}Even if that were so,\\n{\\\\i1}I\\'ve always admired you since then...\\nGuren...\\nO-Ow...\\nHuh?!\\nYuukimaru?!\\nDamn!\\nSenpai.\\nDamn! Where could he have gone?!\\nHis body\\'s...\\nin no condition to...!\\nYuukimaru...\\nDamn!\\nA grass whistle?\\nCould it be Yuukimaru?!\\nCome back! Yuukimaru--!\\nYuukimaru!\\nWhere are you, Yuukimaru?!\\nDamn! It\\'s my fault...!\\nYuukimaru...\\nThis is...!\\nWhy would he leave behind something\\nas important as...?\\nThere isn\\'t even a single crack...\\n{\\\\i1}I see. So that\\'s it...\\nYuukimaru disappeared?\\nHow could he even move\\nin his condition?\\nHey, Naruto.\\nYou were in the room with him.\\nDidn\\'t you notice?\\nNo, I guess not.\\nHuh?! How can you call yourself\\na Ninja?!\\nJust what you\\'d expect from a Genin!\\nShut up!\\nYou were asleep, too, you know!\\nWhy you...!\\nDon\\'t put me in the same league\\nas a stamina freak like you!\\nArguing won\\'t do any good!\\nBut I\\'m worried about Yuukimaru.\\nHe has nowhere to go, and...\\nWe can\\'t just ignore him!\\nLet\\'s all look for him!\\nI agree!\\nThat won\\'t be necessary.\\nThe reason is...\\nbecause a child who lost his power\\nto control the Three-Tails\\nis no longer a threat to us.\\nThat\\'s not the issue here!\\nNo, Shino is right.\\nWe\\'re under no obligation to look\\nfor a child who ran away.\\nAnd besides,\\nwe\\'ve been ordered to return.\\nBut that\\'s...!\\nAre you okay with that, Naruto?!\\nYeah, there\\'s nothing to worry about.\\nHe can handle himself.\\nNaruto...?\\nWe\\'d better be on our way.\\nSorry to keep you all waiting, Kakashi.\\nI was hoping we could have\\nshaken up the Akatsuki...\\nI\\'m sorry. I didn\\'t count on\\nthe Leaf Ninja interfering.\\nAnd so, did that woman...\\nGuren die?\\nRegretfully, yes.\\nShe possessed very interesting powers...\\nLike you mean that...\\nMaybe you were the one who killed her?\\nHeaven forbid.\\nWell, never mind.\\nWe can find any number of replacements\\nfor someone of her ability.\\nBut Yuukimaru...\\nLeave it.\\nAt this point...\\nLord Orochimaru!\\nI\\'ll bring your medicine right away!\\n{\\\\i1}That host body has reached its limit...\\nAt this point, it has lost all meaning...\\nBecause soon,\\nI will possess {\\\\i1}his{\\\\i0}  body...\\nWhat\\'s the matter, Naruto?\\nNo, it\\'s nothing...\\nIs that the regular report?\\nYeah...\\nA fog is forming.\\nAccording to the unit we\\'re taking over for,\\nit\\'s apparently created by\\nthe Three-Tails.\\nIt induces hallucinations, so be careful.\\nThat\\'s news to me, hmm...\\nYou! That costume...\\nDam--!\\nHumph...\\nOh wow! Deidara Senpai,\\nthat was awesome!\\nThat\\'s the last of the lookouts.\\nYour info was way off.\\n\"A force separate from\\nthe Leaf Ninja was engaged\\nin a vigorous clash over the Three-Tails.\"\\nWasn\\'t that what you said?\\nWell, that\\'s how it was supposed to be...\\nThat\\'s odd.\\nBut oh well, it\\'s good that we got rid\\nof the ones in our way.\\nLet\\'s make our quota right now\\nwhile we have the chance!\\nYou\\'re a hundred years too young\\nto be giving me orders, hmm...\\nH-H-Hey, Senpai!\\nWeren\\'t you listening to the story\\nabout the hallucinations?\\nWho do you think you\\'re speaking to?\\nDon\\'t underestimate my art.\\nSheesh, he\\'s got a short temper...\\nThat\\'s a huge lake to find\\nthe Three-Tails in.\\nIt\\'d be faster if it appeared on its own.\\nOh! On closer inspection,\\nit looks something like a huge turtle.\\nA powerful one...\\nSo that\\'s the Three-Tails...\\nI think I\\'ll leave it for you to handle,\\nDeidara Senpai.\\nTobi, you formally became\\na member of Akatsuki, right?\\nYou take care of the rest, hmm!\\nNo way...\\nIt\\'s coming!\\nIf it\\'s a water creature,\\nshouldn\\'t we have let Kisame handle it?!\\nI\\'d say they assigned\\nthe wrong person for the job!\\nPitiful, I\\'d say.\\nNow!\\nIs something the matter?\\nNo...\\nIt appears everyone has entered\\nthe Land of Fire safely.\\nI see. Good work.\\nYou may now return, Katsuyu.\\nYes.\\nI did it! Banzai! Banzaai!\\nDeidara, did you see my Jutsu?!\\nJust one time, and bam!\\nYou can understand why\\nI was given this important assignment\\nright after formally becoming a member\\nof Akatsuki, can\\'t you?!\\nNo... It was probably my clay bomb\\ndoing its artistic work.\\nYou have my artistry to thank, hmm.\\nDon\\'t get so carried away that\\nyou forgot that I lent you a hand!\\nIf you\\'re a member of Akatsuki,\\ndon\\'t talk so much and act more cool.\\nIn other words, \"cool = art\"!\\nListen, art is a passionate moment\\ncoming from cool emotions--!\\nSenpai, you talk a lot.\\nI was joking...!\\nWhat is it?\\nIt\\'s just that...\\ncontact from the unit that headed for\\nthe lake is rather late, don\\'t you think?\\nLet\\'s file a report, just in case.\\nListen, Tobi.\\nYou shouldn\\'t press your luck!\\nThe Three-Tails was just weak\\nbecause it didn\\'t have a Jinchuriki host.\\nIt didn\\'t have a mind to control its power.\\nHey, Tobi.\\nYou don\\'t have to be so cool\\nas to stop talking altogether.\\nAt least answer me...\\nHmm?!\\nOh that\\'s the spot...\\nOh my...\\nThis is the perfect wake up\\nfor you, I\\'d say. You bastard!\\nWow, it feels like I hadn\\'t\\nbeen back in ages.\\nWe had one mission after another...\\nDinner tonight is at Ichiraku!\\nSay, Naruto.\\nHuh?\\nAbout Yuukimaru...\\nAre you sure it was best that way?\\nYou used to worry so much about him.\\nThat\\'s okay.\\nBesides, even if we went looking for him,\\nhe wouldn\\'t be easy to find anyway.\\nWhat do you mean?\\nThe Pervy Sage\\'s words\\nwere true, after all.\\nHe said wherever someone cares\\nabout you is the place you return to.\\nIf you believe, and keep thinking,\\nabout that person...\\nyour feelings will surely get across, he said.\\nWhat? Is this...what I think it is?\\nSo...we should keep thinking, too.\\nWe need to create a place\\nthat Sasuke can return to.\\nRight.\\nSo that\\'s your move...\\nJust as I expected.\\n\\n\\nYou are weaker than me...\\n\\n\\nThere\\'s no longer any need for me\\nto give you my body.\\n\\n\\nYou Uchiha fledgling...!\\n\\n\\nIf I hadn\\'t been a fledgling,\\nyou\\'d have had no chance at me, right?\\n\\n\\nSilence!\\n\\n\\nI don\\'t like the way you do things.\\n\\n\\nYou continue to toy with others\\nfor your own pathetic reasons...\\n\\n\\nYou make me sick!\\n\\n\\nNext time: \"The Serpent\\'s Pupil\"\\n\\n\\nTune in again!\\n\\n'"
      ]
     },
     "execution_count": 62,
     "metadata": {},
     "output_type": "execute_result"
    }
   ],
   "source": [
    "content"
   ]
  },
  {
   "cell_type": "code",
   "execution_count": null,
   "metadata": {},
   "outputs": [],
   "source": [
    "from tqdm import tqdm\n",
    "from glob import glob\n",
    "\n",
    "pattern = r\"\\[HorribleSubs\\] Naruto Shippuuden - (\\d{3}) \\[\\d{3}p\\].ass\"\n",
    "\n",
    "folder_path = \"/Users/nhuantran/Downloads/Naruto Shippuuden English Subs/\"\n",
    "output_name = \"../data/naruto_shippuuden_subtitle_summarize_by_episode.json\"\n",
    "with open(output_name, \"w\") as f:\n",
    "    for idx, fpath in tqdm(enumerate(glob(folder_path+\"/*.ass\"))):\n",
    "        print(\"Process \", fpath)\n",
    "        dialogues = parse_ass_file(fpath)\n",
    "        df_dialogue = pd.DataFrame(dialogues, columns=[\"Layer\", \"Start\", \"End\", \"Style\", \"Name\", \"MarginL\", \"MarginR\", \"MarginV\", \"Effect\",\"Text\"])\n",
    "        content = \"\\n\".join(df_dialogue[\"Text\"].tolist())\n",
    "\n",
    "        file_name = fpath.split(\"/\")[-1]\n",
    "        match = re.search(pattern, file_name)\n",
    "        episode_number = match.group(1)\n",
    "        output = llm_chain.invoke(content)\n",
    "        f.write(json.dumps({\"episode_number\": episode_number, \"content\": output[\"text\"]}) + \"\\n\")\n",
    "\n",
    "        if idx > 0 and idx % 10 == 0:\n",
    "            f.flush()"
   ]
  },
  {
   "cell_type": "code",
   "execution_count": 4,
   "metadata": {},
   "outputs": [],
   "source": [
    "# Query some dialogue"
   ]
  },
  {
   "cell_type": "code",
   "execution_count": 3,
   "metadata": {},
   "outputs": [],
   "source": [
    "episodes = {}\n",
    "with open(\"../data/naruto_shippuuden_subtitle_summarize_by_episode.json\") as f:\n",
    "    for line in f:\n",
    "        tmp = json.loads(line.strip())\n",
    "        episodes[tmp[\"episode_number\"]] = tmp[\"content\"]"
   ]
  },
  {
   "cell_type": "code",
   "execution_count": 4,
   "metadata": {},
   "outputs": [
    {
     "name": "stdout",
     "output_type": "stream",
     "text": [
      "Characters:\n",
      "- Madara Uchiha: A character from the past who reveals the truth about Itachi to Sasuke. He was a leader of the Uchiha clan and had a strong influence on the events that led to Itachi's actions.\n",
      "- Itachi Uchiha: The older brother of Sasuke, who was accused of betraying the Hidden Leaf Village. He is known for annihilating his own clan and deserting the village.\n",
      "- Sasuke Uchiha: A main character in Naruto Shippuden, seeking to avenge his family's death by killing Itachi.\n",
      "- Hashirama Senju: The leader of the Senju clan and the first Hokage, who played a significant role in shaping the history of the Hidden Leaf Village.\n",
      "- Third Hokage: A character who opposed the mistreatment of the Uchiha clan but was not able to change the council's decision.\n",
      "- Danzo: A member of the Anbu Black Ops who played a significant role in the discrimination against the Uchiha clan.\n",
      "\n",
      "Events:\n",
      "Description: Madara Uchiha reveals the truth about Itachi and the history of the Uchiha clan to Sasuke.\n",
      "Characters_involved: Madara Uchiha, Sasuke Uchiha, Itachi Uchiha, Hashirama Senju, Third Hokage, Danzo.\n",
      "Reason_for_events: The events revolve around the rivalry between the Uchiha and Senju clans, the formation of the Hidden Leaf Village, and the subsequent discrimination against the Uchiha clan that led to Itachi's actions.\n",
      "Location: The conversation takes place in the Hidden Leaf Village.\n",
      "Jutsu: No specific jutsu is mentioned in this particular subtitle.\n",
      "\n",
      "Reason_for_events_description: The events were a result of the power struggle and animosity between the Uchiha and Senju clans, which continued even after the formation of the Hidden Leaf Village. The truce between the clans caused Madara to oppose it, fearing for the future of the Uchiha clan. When the village's leadership changed hands, the Uchiha clan was marginalized and eventually accused of betrayal, leading to Itachi's actions.\n",
      "Discrimination against the Uchiha clan began after the attack of the Nine-Tails Fox Demon, where they were suspected of revolting and seeking power. The situation worsened when Itachi, a spy planted within the clan, was tasked with monitoring his own family. As a result, Itachi suffered greatly and eventually annihilated his clan.\n",
      "\n",
      "Location_description: The conversation takes place in the Hidden Leaf Village, which is the main setting of Naruto Shippuden. This location holds significance as it is where the rivalry between the Uchiha and Senju clans led to the events that shaped the story.\n"
     ]
    }
   ],
   "source": [
    "print(episodes[\"140\"])"
   ]
  },
  {
   "cell_type": "markdown",
   "metadata": {},
   "source": [
    "# Convert into sub-prompt"
   ]
  },
  {
   "cell_type": "code",
   "execution_count": 38,
   "metadata": {},
   "outputs": [],
   "source": [
    "def get_chain(\n",
    "    llm_url, model_name, template, temperature: float = 0.5, max_tokens: int = -1, template_format=\"f-string\"\n",
    "):\n",
    "    client = ChatOpenAI(\n",
    "        temperature=temperature,\n",
    "        base_url=llm_url,\n",
    "        model_name=model_name,\n",
    "        api_key=api_key,\n",
    "        max_tokens=max_tokens,\n",
    "    )\n",
    "    map_prompt = PromptTemplate.from_template(template, template_format=template_format)\n",
    "    return LLMChain(llm=client, prompt=map_prompt)\n",
    "\n",
    "\n",
    "class ChainsList:\n",
    "    def __init__(self, chains, document_variable: str = \"content\") -> None:\n",
    "        self.chains = chains\n",
    "        self.document_variable = document_variable\n",
    "\n",
    "    def invoke(self, input, return_intermediate_steps=False):\n",
    "        outputs = []\n",
    "        for chain in self.chains:\n",
    "            output = chain.invoke(input)\n",
    "            outputs.append(output)\n",
    "            input[self.document_variable] = output[\"text\"]\n",
    "\n",
    "        return outputs[-1] if not return_intermediate_steps else outputs"
   ]
  },
  {
   "cell_type": "code",
   "execution_count": 22,
   "metadata": {},
   "outputs": [],
   "source": [
    "event_template = \"\"\"You are manga nerd and you are watching Naruto\n",
    "# Instruction\n",
    "Convert the dialog to narrative and formal style for each event. Return in list of dialogues with number\n",
    "\n",
    "# Guideline\n",
    "- Both contents are in English\n",
    "- Be informative, concise\n",
    "\n",
    "### Input\n",
    "{content}\n",
    "\n",
    "### Response\n",
    "\"\"\"\n",
    "\n",
    "plot_template = \"\"\"You are manga nerd and you are watching Naruto\n",
    "# Instruction\n",
    "Convert the dialogue into a plot\n",
    "\n",
    "# Guideline\n",
    "- Both contents are in English\n",
    "- Be informative, concise\n",
    "\n",
    "### Input\n",
    "{content}\n",
    "\n",
    "### Response\n",
    "\"\"\"\n",
    "\n",
    "character_template = \"\"\"You are manga nerd and you are watching Naruto\n",
    "### Instruction\n",
    "Extract characters from the dialogue. Return Python list only. No furthur explained\n",
    "\n",
    "### Guideline\n",
    "- Both contents are in English\n",
    "- Be informative, concise\n",
    "\n",
    "### Input\n",
    "{content}\n",
    "\n",
    "### Response\n",
    "\"\"\"\n",
    "\n",
    "events_template = \"\"\"You are manga nerd and you are watching Naruto. You are asked to summarize the events in the subtitle.\n",
    "### Instruction\n",
    "#### Summarize events in this subtitle\n",
    "In clear and concise language, summarize chunk of sentences will take about the interactive events among the characters.\n",
    "\n",
    "#### Generate \n",
    "Generate summary events, characters info, why it happened, where it happened and how it happened\n",
    "\n",
    "### Guideline\n",
    "- Both contents are in English\n",
    "- Be informative, concise\n",
    "- Return in list with number.\n",
    "    1. \n",
    "    2. \n",
    "\n",
    "### Input\n",
    "{content}\n",
    "\n",
    "### Response\n",
    "\"\"\"\n",
    "\n",
    "rewrite_template = \"\"\"You are manga nerd and you are watching Naruto. You are asked to summarize the events in the subtitle.\n",
    "### Instruction\n",
    "Re-write this summary into coherence paragraphs.\n",
    "\n",
    "### Guideline\n",
    "- Both contents are in English\n",
    "- Be informative, concise\n",
    "\n",
    "### Input\n",
    "{content}\n",
    "\n",
    "### Response\n",
    "\"\"\"\n",
    "\n",
    "incremental_events_template = \"\"\"You are manga nerd and you are watching Naruto. You are asked to summarize the events in the subtitle.\n",
    "### Instruction\n",
    "#### Summarize events in this subtitle\n",
    "In clear and concise language, summarize chunk of sentences will take about the interactive events among the characters.\n",
    "\n",
    "\n",
    "### Steps by steps\n",
    "1. Analyze plots, events from previous episode if provided \n",
    "2. Identify plots, events, characters from the subtitle\n",
    "3. Then, check again those are factually consistent with the reviews.\n",
    "3. Generate summary events, characters info, why it happened, where it happened and how it happened\n",
    "\n",
    "### Guideline\n",
    "- Return only, no furthur explain or self-explain\n",
    "- Both contents are in English\n",
    "- Be informative, concise\n",
    "- Return in list with number. Example: \n",
    "    1. Event is \n",
    "    2. Naruto trains\n",
    "\n",
    "### Previous Episode summary\n",
    "{prev}\n",
    "    \n",
    "### Input\n",
    "{content}\n",
    "\n",
    "### Response\n",
    "\"\"\""
   ]
  },
  {
   "cell_type": "code",
   "execution_count": 30,
   "metadata": {},
   "outputs": [],
   "source": [
    "model_name = \"lmstudio-community/Meta-Llama-3-8B-Instruct-GGUF/Meta-Llama-3-8B-Instruct-Q8_0.gguf\"\n",
    "plot_llm_chain = get_chain(llm_url, model_name, incremental_events_template)\n",
    "rewrite_llm_chain = get_chain(llm_url, model_name, rewrite_template)\n",
    "chain_list = ChainsList([plot_llm_chain, rewrite_llm_chain])"
   ]
  },
  {
   "cell_type": "code",
   "execution_count": 38,
   "metadata": {},
   "outputs": [
    {
     "name": "stdout",
     "output_type": "stream",
     "text": [
      "/Users/nhuantran/Downloads/Naruto English Subtitles 1-135/(SB-RAW)NARUTO E001 (R2DVD 960x728 x264 AC3).en.srt\n",
      "/Users/nhuantran/Downloads/Naruto English Subtitles 1-135/(SB-RAW)NARUTO E002 (R2DVD 960x728 x264 AC3).en.srt\n",
      "/Users/nhuantran/Downloads/Naruto English Subtitles 1-135/(SB-RAW)NARUTO E003 (R2DVD 960x728 x264 AC3).en.srt\n",
      "/Users/nhuantran/Downloads/Naruto English Subtitles 1-135/(SB-RAW)NARUTO E004 (R2DVD 960x728 x264 AC3).en.srt\n",
      "/Users/nhuantran/Downloads/Naruto English Subtitles 1-135/(SB-RAW)NARUTO E005 (R2DVD 960x728 x264 AC3).en.srt\n",
      "/Users/nhuantran/Downloads/Naruto English Subtitles 1-135/(SB-RAW)NARUTO E006 (R2DVD 960x728 x264 AC3).en.srt\n",
      "/Users/nhuantran/Downloads/Naruto English Subtitles 1-135/(SB-RAW)NARUTO E007 (R2DVD 960x728 x264 AC3).en.srt\n",
      "/Users/nhuantran/Downloads/Naruto English Subtitles 1-135/(SB-RAW)NARUTO E008 (R2DVD 960x728 x264 AC3).en.srt\n",
      "/Users/nhuantran/Downloads/Naruto English Subtitles 1-135/(SB-RAW)NARUTO E009 (R2DVD 960x728 x264 AC3).en.srt\n",
      "/Users/nhuantran/Downloads/Naruto English Subtitles 1-135/(SB-RAW)NARUTO E010 (R2DVD 960x728 x264 AC3).en.srt\n",
      "/Users/nhuantran/Downloads/Naruto English Subtitles 1-135/(SB-RAW)NARUTO E011 (R2DVD 960x728 x264 AC3).en.srt\n",
      "/Users/nhuantran/Downloads/Naruto English Subtitles 1-135/(SB-RAW)NARUTO E012 (R2DVD 960x728 x264 AC3).en.srt\n",
      "/Users/nhuantran/Downloads/Naruto English Subtitles 1-135/(SB-RAW)NARUTO E013 (R2DVD 960x728 x264 AC3).en.srt\n",
      "/Users/nhuantran/Downloads/Naruto English Subtitles 1-135/(SB-RAW)NARUTO E014 (R2DVD 960x728 x264 AC3).en.srt\n",
      "/Users/nhuantran/Downloads/Naruto English Subtitles 1-135/(SB-RAW)NARUTO E015 (R2DVD 960x728 x264 AC3).en.srt\n",
      "/Users/nhuantran/Downloads/Naruto English Subtitles 1-135/(SB-RAW)NARUTO E016 (R2DVD 960x728 x264 AC3).en.srt\n",
      "/Users/nhuantran/Downloads/Naruto English Subtitles 1-135/(SB-RAW)NARUTO E017 (R2DVD 960x728 x264 AC3).en.srt\n",
      "/Users/nhuantran/Downloads/Naruto English Subtitles 1-135/(SB-RAW)NARUTO E018 (R2DVD 960x728 x264 AC3).en.srt\n",
      "/Users/nhuantran/Downloads/Naruto English Subtitles 1-135/(SB-RAW)NARUTO E019 (R2DVD 960x728 x264 AC3).en.srt\n",
      "/Users/nhuantran/Downloads/Naruto English Subtitles 1-135/(SB-RAW)NARUTO E020 (R2DVD 960x728 x264 AC3).en.srt\n",
      "/Users/nhuantran/Downloads/Naruto English Subtitles 1-135/(SB-RAW)NARUTO E021 (R2DVD 960x728 x264 AC3).en.srt\n",
      "/Users/nhuantran/Downloads/Naruto English Subtitles 1-135/(SB-RAW)NARUTO E022 (R2DVD 960x728 x264 AC3).en.srt\n",
      "/Users/nhuantran/Downloads/Naruto English Subtitles 1-135/(SB-RAW)NARUTO E023 (R2DVD 960x728 x264 AC3).en.srt\n",
      "/Users/nhuantran/Downloads/Naruto English Subtitles 1-135/(SB-RAW)NARUTO E024 (R2DVD 960x728 x264 AC3).en.srt\n",
      "/Users/nhuantran/Downloads/Naruto English Subtitles 1-135/(SB-RAW)NARUTO E025 (R2DVD 960x728 x264 AC3).en.srt\n",
      "/Users/nhuantran/Downloads/Naruto English Subtitles 1-135/(SB-RAW)NARUTO E026 (R2DVD 960x728 x264 AC3).en.srt\n",
      "/Users/nhuantran/Downloads/Naruto English Subtitles 1-135/(SB-RAW)NARUTO E027 (R2DVD 960x728 x264 AC3).en.srt\n",
      "/Users/nhuantran/Downloads/Naruto English Subtitles 1-135/(SB-RAW)NARUTO E028 (R2DVD 960x728 x264 AC3).en.srt\n",
      "/Users/nhuantran/Downloads/Naruto English Subtitles 1-135/(SB-RAW)NARUTO E029 (R2DVD 960x728 x264 AC3).en.srt\n",
      "/Users/nhuantran/Downloads/Naruto English Subtitles 1-135/(SB-RAW)NARUTO E030 (R2DVD 960x728 x264 AC3).en.srt\n",
      "/Users/nhuantran/Downloads/Naruto English Subtitles 1-135/(SB-RAW)NARUTO E031 (R2DVD 960x728 x264 AC3).en.srt\n",
      "/Users/nhuantran/Downloads/Naruto English Subtitles 1-135/(SB-RAW)NARUTO E032 (R2DVD 960x728 x264 AC3).en.srt\n",
      "/Users/nhuantran/Downloads/Naruto English Subtitles 1-135/(SB-RAW)NARUTO E033 (R2DVD 960x728 x264 AC3).en.srt\n",
      "/Users/nhuantran/Downloads/Naruto English Subtitles 1-135/(SB-RAW)NARUTO E034 (R2DVD 960x728 x264 AC3).en.srt\n",
      "/Users/nhuantran/Downloads/Naruto English Subtitles 1-135/(SB-RAW)NARUTO E035 (R2DVD 960x728 x264 AC3).en.srt\n",
      "/Users/nhuantran/Downloads/Naruto English Subtitles 1-135/(SB-RAW)NARUTO E036 (R2DVD 960x728 x264 AC3).en.srt\n",
      "/Users/nhuantran/Downloads/Naruto English Subtitles 1-135/(SB-RAW)NARUTO E037 (R2DVD 960x728 x264 AC3).en.srt\n",
      "/Users/nhuantran/Downloads/Naruto English Subtitles 1-135/(SB-RAW)NARUTO E038 (R2DVD 960x728 x264 AC3).en.srt\n",
      "/Users/nhuantran/Downloads/Naruto English Subtitles 1-135/(SB-RAW)NARUTO E039 (R2DVD 960x728 x264 AC3).en.srt\n",
      "/Users/nhuantran/Downloads/Naruto English Subtitles 1-135/(SB-RAW)NARUTO E040 (R2DVD 960x728 x264 AC3).en.srt\n",
      "/Users/nhuantran/Downloads/Naruto English Subtitles 1-135/(SB-RAW)NARUTO E041 (R2DVD 960x728 x264 AC3).en.srt\n",
      "/Users/nhuantran/Downloads/Naruto English Subtitles 1-135/(SB-RAW)NARUTO E042 (R2DVD 960x728 x264 AC3).en.srt\n",
      "/Users/nhuantran/Downloads/Naruto English Subtitles 1-135/(SB-RAW)NARUTO E043 (R2DVD 960x728 x264 AC3).en.srt\n",
      "/Users/nhuantran/Downloads/Naruto English Subtitles 1-135/(SB-RAW)NARUTO E044 (R2DVD 960x728 x264 AC3).en.srt\n",
      "/Users/nhuantran/Downloads/Naruto English Subtitles 1-135/(SB-RAW)NARUTO E045 (R2DVD 960x728 x264 AC3).en.srt\n",
      "/Users/nhuantran/Downloads/Naruto English Subtitles 1-135/(SB-RAW)NARUTO E046 (R2DVD 960x728 x264 AC3).en.srt\n",
      "/Users/nhuantran/Downloads/Naruto English Subtitles 1-135/(SB-RAW)NARUTO E047 (R2DVD 960x728 x264 AC3).en.srt\n",
      "/Users/nhuantran/Downloads/Naruto English Subtitles 1-135/(SB-RAW)NARUTO E048 (R2DVD 960x728 x264 AC3).en.srt\n",
      "/Users/nhuantran/Downloads/Naruto English Subtitles 1-135/(SB-RAW)NARUTO E049 (R2DVD 960x728 x264 AC3).en.srt\n",
      "/Users/nhuantran/Downloads/Naruto English Subtitles 1-135/(SB-RAW)NARUTO E050 (R2DVD 960x728 x264 AC3).en.srt\n",
      "/Users/nhuantran/Downloads/Naruto English Subtitles 1-135/(SB-RAW)NARUTO E051 (R2DVD 960x728 x264 AC3).en.srt\n",
      "/Users/nhuantran/Downloads/Naruto English Subtitles 1-135/(SB-RAW)NARUTO E052 (R2DVD 960x728 x264 AC3).en.srt\n",
      "/Users/nhuantran/Downloads/Naruto English Subtitles 1-135/(SB-RAW)NARUTO E053 (R2DVD 960x728 x264 AC3).en.srt\n",
      "/Users/nhuantran/Downloads/Naruto English Subtitles 1-135/(SB-RAW)NARUTO E054 (R2DVD 960x728 x264 AC3).en.srt\n",
      "/Users/nhuantran/Downloads/Naruto English Subtitles 1-135/(SB-RAW)NARUTO E055 (R2DVD 960x728 x264 AC3).en.srt\n",
      "/Users/nhuantran/Downloads/Naruto English Subtitles 1-135/(SB-RAW)NARUTO E056 (R2DVD 960x728 x264 AC3).en.srt\n",
      "/Users/nhuantran/Downloads/Naruto English Subtitles 1-135/(SB-RAW)NARUTO E057 (R2DVD 960x728 x264 AC3).en.srt\n",
      "/Users/nhuantran/Downloads/Naruto English Subtitles 1-135/(SB-RAW)NARUTO E058 (R2DVD 960x728 x264 AC3).en.srt\n",
      "/Users/nhuantran/Downloads/Naruto English Subtitles 1-135/(SB-RAW)NARUTO E059 (R2DVD 960x728 x264 AC3).en.srt\n",
      "/Users/nhuantran/Downloads/Naruto English Subtitles 1-135/(SB-RAW)NARUTO E060 (R2DVD 960x728 x264 AC3).en.srt\n",
      "/Users/nhuantran/Downloads/Naruto English Subtitles 1-135/(SB-RAW)NARUTO E061 (R2DVD 960x728 x264 AC3).en.srt\n",
      "/Users/nhuantran/Downloads/Naruto English Subtitles 1-135/(SB-RAW)NARUTO E062 (R2DVD 960x728 x264 AC3).en.srt\n",
      "/Users/nhuantran/Downloads/Naruto English Subtitles 1-135/(SB-RAW)NARUTO E063 (R2DVD 960x728 x264 AC3).en.srt\n",
      "/Users/nhuantran/Downloads/Naruto English Subtitles 1-135/(SB-RAW)NARUTO E064 (R2DVD 960x728 x264 AC3).en.srt\n",
      "/Users/nhuantran/Downloads/Naruto English Subtitles 1-135/(SB-RAW)NARUTO E065 (R2DVD 960x728 x264 AC3).en.srt\n",
      "/Users/nhuantran/Downloads/Naruto English Subtitles 1-135/(SB-RAW)NARUTO E066 (R2DVD 960x728 x264 AC3).en.srt\n",
      "/Users/nhuantran/Downloads/Naruto English Subtitles 1-135/(SB-RAW)NARUTO E067 (R2DVD 960x728 x264 AC3).en.srt\n",
      "/Users/nhuantran/Downloads/Naruto English Subtitles 1-135/(SB-RAW)NARUTO E068 (R2DVD 960x728 x264 AC3).en.srt\n",
      "/Users/nhuantran/Downloads/Naruto English Subtitles 1-135/(SB-RAW)NARUTO E069 (R2DVD 960x728 x264 AC3).en.srt\n",
      "/Users/nhuantran/Downloads/Naruto English Subtitles 1-135/(SB-RAW)NARUTO E070 (R2DVD 960x728 x264 AC3).en.srt\n",
      "/Users/nhuantran/Downloads/Naruto English Subtitles 1-135/(SB-RAW)NARUTO E071 (R2DVD 960x728 x264 AC3).en.srt\n",
      "/Users/nhuantran/Downloads/Naruto English Subtitles 1-135/(SB-RAW)NARUTO E072 (R2DVD 960x728 x264 AC3).en.srt\n",
      "/Users/nhuantran/Downloads/Naruto English Subtitles 1-135/(SB-RAW)NARUTO E073 (R2DVD 960x728 x264 AC3).en.srt\n",
      "/Users/nhuantran/Downloads/Naruto English Subtitles 1-135/(SB-RAW)NARUTO E074 (R2DVD 960x728 x264 AC3).en.srt\n",
      "/Users/nhuantran/Downloads/Naruto English Subtitles 1-135/(SB-RAW)NARUTO E075 (R2DVD 960x728 x264 AC3).en.srt\n",
      "/Users/nhuantran/Downloads/Naruto English Subtitles 1-135/(SB-RAW)NARUTO E076 (R2DVD 960x728 x264 AC3).en.srt\n",
      "/Users/nhuantran/Downloads/Naruto English Subtitles 1-135/(SB-RAW)NARUTO E077 (R2DVD 960x728 x264 AC3).en.srt\n",
      "/Users/nhuantran/Downloads/Naruto English Subtitles 1-135/(SB-RAW)NARUTO E078 (R2DVD 960x728 x264 AC3).en.srt\n",
      "/Users/nhuantran/Downloads/Naruto English Subtitles 1-135/(SB-RAW)NARUTO E079 (R2DVD 960x728 x264 AC3).en.srt\n",
      "/Users/nhuantran/Downloads/Naruto English Subtitles 1-135/(SB-RAW)NARUTO E080 (R2DVD 960x728 x264 AC3).en.srt\n",
      "/Users/nhuantran/Downloads/Naruto English Subtitles 1-135/(SB-RAW)NARUTO E081 (R2DVD 960x728 x264 AC3).en.srt\n",
      "/Users/nhuantran/Downloads/Naruto English Subtitles 1-135/(SB-RAW)NARUTO E082 (R2DVD 960x728 x264 AC3).en.srt\n",
      "/Users/nhuantran/Downloads/Naruto English Subtitles 1-135/(SB-RAW)NARUTO E083 (R2DVD 960x728 x264 AC3).en.srt\n",
      "/Users/nhuantran/Downloads/Naruto English Subtitles 1-135/(SB-RAW)NARUTO E084 (R2DVD 960x728 x264 AC3).en.srt\n",
      "/Users/nhuantran/Downloads/Naruto English Subtitles 1-135/(SB-RAW)NARUTO E085 (R2DVD 960x728 x264 AC3).en.srt\n",
      "/Users/nhuantran/Downloads/Naruto English Subtitles 1-135/(SB-RAW)NARUTO E086 (R2DVD 960x728 x264 AC3).en.srt\n",
      "/Users/nhuantran/Downloads/Naruto English Subtitles 1-135/(SB-RAW)NARUTO E087 (R2DVD 960x728 x264 AC3).en.srt\n",
      "/Users/nhuantran/Downloads/Naruto English Subtitles 1-135/(SB-RAW)NARUTO E088 (R2DVD 960x728 x264 AC3).en.srt\n",
      "/Users/nhuantran/Downloads/Naruto English Subtitles 1-135/(SB-RAW)NARUTO E089 (R2DVD 960x728 x264 AC3).en.srt\n",
      "/Users/nhuantran/Downloads/Naruto English Subtitles 1-135/(SB-RAW)NARUTO E090 (R2DVD 960x728 x264 AC3).en.srt\n",
      "/Users/nhuantran/Downloads/Naruto English Subtitles 1-135/(SB-RAW)NARUTO E091 (R2DVD 960x728 x264 AC3).en.srt\n",
      "/Users/nhuantran/Downloads/Naruto English Subtitles 1-135/(SB-RAW)NARUTO E092 (R2DVD 960x728 x264 AC3).en.srt\n",
      "/Users/nhuantran/Downloads/Naruto English Subtitles 1-135/(SB-RAW)NARUTO E093 (R2DVD 960x728 x264 AC3).en.srt\n",
      "/Users/nhuantran/Downloads/Naruto English Subtitles 1-135/(SB-RAW)NARUTO E094 (R2DVD 960x728 x264 AC3).en.srt\n",
      "/Users/nhuantran/Downloads/Naruto English Subtitles 1-135/(SB-RAW)NARUTO E095 (R2DVD 960x728 x264 AC3).en.srt\n",
      "/Users/nhuantran/Downloads/Naruto English Subtitles 1-135/(SB-RAW)NARUTO E096 (R2DVD 960x728 x264 AC3).en.srt\n",
      "/Users/nhuantran/Downloads/Naruto English Subtitles 1-135/(SB-RAW)NARUTO E097 (R2DVD 960x728 x264 AC3).en.srt\n",
      "/Users/nhuantran/Downloads/Naruto English Subtitles 1-135/(SB-RAW)NARUTO E098 (R2DVD 960x728 x264 AC3).en.srt\n",
      "/Users/nhuantran/Downloads/Naruto English Subtitles 1-135/(SB-RAW)NARUTO E099 (R2DVD 960x728 x264 AC3).en.srt\n",
      "/Users/nhuantran/Downloads/Naruto English Subtitles 1-135/(SB-RAW)NARUTO E100 (R2DVD 960x728 x264 AC3).en.srt\n",
      "/Users/nhuantran/Downloads/Naruto English Subtitles 1-135/(SB-RAW)NARUTO E101 (R2DVD 960x728 x264 AC3).en.srt\n",
      "/Users/nhuantran/Downloads/Naruto English Subtitles 1-135/(SB-RAW)NARUTO E102 (R2DVD 960x728 x264 AC3).en.srt\n",
      "/Users/nhuantran/Downloads/Naruto English Subtitles 1-135/(SB-RAW)NARUTO E103 (R2DVD 960x728 x264 AC3).en.srt\n",
      "/Users/nhuantran/Downloads/Naruto English Subtitles 1-135/(SB-RAW)NARUTO E104 (R2DVD 960x728 x264 AC3).en.srt\n",
      "/Users/nhuantran/Downloads/Naruto English Subtitles 1-135/(SB-RAW)NARUTO E105 (R2DVD 960x728 x264 AC3).en.srt\n",
      "/Users/nhuantran/Downloads/Naruto English Subtitles 1-135/(SB-RAW)NARUTO E106 (R2DVD 960x728 x264 AC3).en.srt\n",
      "/Users/nhuantran/Downloads/Naruto English Subtitles 1-135/(SB-RAW)NARUTO E107 (R2DVD 960x728 x264 AC3).en.srt\n",
      "/Users/nhuantran/Downloads/Naruto English Subtitles 1-135/(SB-RAW)NARUTO E108 (R2DVD 960x728 x264 AC3).en.srt\n",
      "/Users/nhuantran/Downloads/Naruto English Subtitles 1-135/(SB-RAW)NARUTO E109 (R2DVD 960x728 x264 AC3).en.srt\n",
      "/Users/nhuantran/Downloads/Naruto English Subtitles 1-135/(SB-RAW)NARUTO E110 (R2DVD 960x728 x264 AC3).en.srt\n",
      "/Users/nhuantran/Downloads/Naruto English Subtitles 1-135/(SB-RAW)NARUTO E111 (R2DVD 960x728 x264 AC3).en.srt\n",
      "/Users/nhuantran/Downloads/Naruto English Subtitles 1-135/(SB-RAW)NARUTO E112 (R2DVD 960x728 x264 AC3).en.srt\n",
      "/Users/nhuantran/Downloads/Naruto English Subtitles 1-135/(SB-RAW)NARUTO E113 (R2DVD 960x728 x264 AC3).en.srt\n",
      "/Users/nhuantran/Downloads/Naruto English Subtitles 1-135/(SB-RAW)NARUTO E114 (R2DVD 960x728 x264 AC3).en.srt\n",
      "/Users/nhuantran/Downloads/Naruto English Subtitles 1-135/(SB-RAW)NARUTO E115 (R2DVD 960x728 x264 AC3).en.srt\n",
      "/Users/nhuantran/Downloads/Naruto English Subtitles 1-135/(SB-RAW)NARUTO E116 (R2DVD 960x728 x264 AC3).en.srt\n",
      "/Users/nhuantran/Downloads/Naruto English Subtitles 1-135/(SB-RAW)NARUTO E117 (R2DVD 960x728 x264 AC3).en.srt\n",
      "/Users/nhuantran/Downloads/Naruto English Subtitles 1-135/(SB-RAW)NARUTO E118 (R2DVD 960x728 x264 AC3).en.srt\n",
      "/Users/nhuantran/Downloads/Naruto English Subtitles 1-135/(SB-RAW)NARUTO E119 (R2DVD 960x728 x264 AC3).en.srt\n",
      "/Users/nhuantran/Downloads/Naruto English Subtitles 1-135/(SB-RAW)NARUTO E120 (R2DVD 960x728 x264 AC3).en.srt\n",
      "/Users/nhuantran/Downloads/Naruto English Subtitles 1-135/(SB-RAW)NARUTO E121 (R2DVD 960x728 x264 AC3).en.srt\n",
      "/Users/nhuantran/Downloads/Naruto English Subtitles 1-135/(SB-RAW)NARUTO E122 (R2DVD 960x728 x264 AC3).en.srt\n",
      "/Users/nhuantran/Downloads/Naruto English Subtitles 1-135/(SB-RAW)NARUTO E123 (R2DVD 960x728 x264 AC3).en.srt\n",
      "/Users/nhuantran/Downloads/Naruto English Subtitles 1-135/(SB-RAW)NARUTO E124 (R2DVD 960x728 x264 AC3).en.srt\n",
      "/Users/nhuantran/Downloads/Naruto English Subtitles 1-135/(SB-RAW)NARUTO E125 (R2DVD 960x728 x264 AC3).en.srt\n",
      "/Users/nhuantran/Downloads/Naruto English Subtitles 1-135/(SB-RAW)NARUTO E126 (R2DVD 960x728 x264 AC3).en.srt\n",
      "/Users/nhuantran/Downloads/Naruto English Subtitles 1-135/(SB-RAW)NARUTO E127 (R2DVD 960x728 x264 AC3).en.srt\n",
      "/Users/nhuantran/Downloads/Naruto English Subtitles 1-135/(SB-RAW)NARUTO E128 (R2DVD 960x728 x264 AC3).en.srt\n",
      "/Users/nhuantran/Downloads/Naruto English Subtitles 1-135/(SB-RAW)NARUTO E129 (R2DVD 960x728 x264 AC3).en.srt\n",
      "/Users/nhuantran/Downloads/Naruto English Subtitles 1-135/(SB-RAW)NARUTO E130 (R2DVD 960x728 x264 AC3).en.srt\n",
      "/Users/nhuantran/Downloads/Naruto English Subtitles 1-135/(SB-RAW)NARUTO E131 (R2DVD 960x728 x264 AC3).en.srt\n",
      "/Users/nhuantran/Downloads/Naruto English Subtitles 1-135/(SB-RAW)NARUTO E132 (R2DVD 960x728 x264 AC3).en.srt\n",
      "/Users/nhuantran/Downloads/Naruto English Subtitles 1-135/(SB-RAW)NARUTO E133 (R2DVD 960x728 x264 AC3).en.srt\n",
      "/Users/nhuantran/Downloads/Naruto English Subtitles 1-135/(SB-RAW)NARUTO E134 (R2DVD 960x728 x264 AC3).en.srt\n",
      "/Users/nhuantran/Downloads/Naruto English Subtitles 1-135/(SB-RAW)NARUTO E135 (R2DVD 960x728 x264 AC3).en.srt\n"
     ]
    }
   ],
   "source": [
    "from glob import glob\n",
    "\n",
    "prev, current = \"\", \"\"\n",
    "\n",
    "with open(\"../data/naruto_subtitle_summarize_by_episode.json\", \"w\") as f:\n",
    "    for i, fpath in enumerate(\n",
    "        sorted(glob(\"/Users/nhuantran/Downloads/Naruto English Subtitles 1-135/*.srt\"))\n",
    "    ):\n",
    "        print(fpath)\n",
    "        episode_number = str(i + 1).zfill(3)\n",
    "        subtitles = extract_subtitles(fpath)\n",
    "        content = \"\\n\".join(subtitles)\n",
    "        output = chain_list.invoke({\"content\": content, \"prev\": prev})\n",
    "        prev = output[\"text\"]\n",
    "        f.write(\n",
    "            json.dumps({\"episode_number\": episode_number, \"content\": output[\"text\"]})\n",
    "            + \"\\n\"\n",
    "        )"
   ]
  },
  {
   "cell_type": "code",
   "execution_count": 45,
   "metadata": {},
   "outputs": [],
   "source": [
    "season_one_path = \"../data/naruto_subtitle_summarize_by_episode.json\"\n",
    "lines = [json.loads(l) for l in open(season_one_path).readlines()]"
   ]
  },
  {
   "cell_type": "code",
   "execution_count": 74,
   "metadata": {},
   "outputs": [],
   "source": [
    "last_content = \"-\".join([lines[i][\"content\"] for i in range(-6, 0, 1)])"
   ]
  },
  {
   "cell_type": "code",
   "execution_count": 75,
   "metadata": {},
   "outputs": [
    {
     "name": "stderr",
     "output_type": "stream",
     "text": [
      "0it [00:00, ?it/s]"
     ]
    },
    {
     "name": "stdout",
     "output_type": "stream",
     "text": [
      "Process  /Users/nhuantran/Downloads/Naruto Shippuuden English Subs/[HorribleSubs] Naruto Shippuuden - 001 [480p].ass\n"
     ]
    },
    {
     "name": "stderr",
     "output_type": "stream",
     "text": [
      "1it [01:03, 63.38s/it]"
     ]
    },
    {
     "name": "stdout",
     "output_type": "stream",
     "text": [
      "Process  /Users/nhuantran/Downloads/Naruto Shippuuden English Subs/[HorribleSubs] Naruto Shippuuden - 002 [480p].ass\n"
     ]
    },
    {
     "name": "stderr",
     "output_type": "stream",
     "text": [
      "2it [01:52, 54.99s/it]"
     ]
    },
    {
     "name": "stdout",
     "output_type": "stream",
     "text": [
      "Process  /Users/nhuantran/Downloads/Naruto Shippuuden English Subs/[HorribleSubs] Naruto Shippuuden - 003 [480p].ass\n"
     ]
    },
    {
     "name": "stderr",
     "output_type": "stream",
     "text": [
      "3it [02:31, 47.48s/it]"
     ]
    },
    {
     "name": "stdout",
     "output_type": "stream",
     "text": [
      "Process  /Users/nhuantran/Downloads/Naruto Shippuuden English Subs/[HorribleSubs] Naruto Shippuuden - 004 [480p].ass\n"
     ]
    },
    {
     "name": "stderr",
     "output_type": "stream",
     "text": [
      "4it [03:12, 45.08s/it]"
     ]
    },
    {
     "name": "stdout",
     "output_type": "stream",
     "text": [
      "Process  /Users/nhuantran/Downloads/Naruto Shippuuden English Subs/[HorribleSubs] Naruto Shippuuden - 005 [480p].ass\n"
     ]
    },
    {
     "name": "stderr",
     "output_type": "stream",
     "text": [
      "5it [03:55, 44.47s/it]"
     ]
    },
    {
     "name": "stdout",
     "output_type": "stream",
     "text": [
      "Process  /Users/nhuantran/Downloads/Naruto Shippuuden English Subs/[HorribleSubs] Naruto Shippuuden - 006 [480p].ass\n"
     ]
    },
    {
     "name": "stderr",
     "output_type": "stream",
     "text": [
      "6it [04:40, 44.40s/it]"
     ]
    },
    {
     "name": "stdout",
     "output_type": "stream",
     "text": [
      "Process  /Users/nhuantran/Downloads/Naruto Shippuuden English Subs/[HorribleSubs] Naruto Shippuuden - 007 [480p].ass\n"
     ]
    },
    {
     "name": "stderr",
     "output_type": "stream",
     "text": [
      "7it [05:20, 42.94s/it]"
     ]
    },
    {
     "name": "stdout",
     "output_type": "stream",
     "text": [
      "Process  /Users/nhuantran/Downloads/Naruto Shippuuden English Subs/[HorribleSubs] Naruto Shippuuden - 008 [480p].ass\n"
     ]
    },
    {
     "name": "stderr",
     "output_type": "stream",
     "text": [
      "8it [06:03, 43.22s/it]"
     ]
    },
    {
     "name": "stdout",
     "output_type": "stream",
     "text": [
      "Process  /Users/nhuantran/Downloads/Naruto Shippuuden English Subs/[HorribleSubs] Naruto Shippuuden - 009 [480p].ass\n"
     ]
    },
    {
     "name": "stderr",
     "output_type": "stream",
     "text": [
      "9it [06:49, 44.13s/it]"
     ]
    },
    {
     "name": "stdout",
     "output_type": "stream",
     "text": [
      "Process  /Users/nhuantran/Downloads/Naruto Shippuuden English Subs/[HorribleSubs] Naruto Shippuuden - 010 [480p].ass\n"
     ]
    },
    {
     "name": "stderr",
     "output_type": "stream",
     "text": [
      "10it [07:28, 42.30s/it]"
     ]
    },
    {
     "name": "stdout",
     "output_type": "stream",
     "text": [
      "Process  /Users/nhuantran/Downloads/Naruto Shippuuden English Subs/[HorribleSubs] Naruto Shippuuden - 011 [480p].ass\n"
     ]
    },
    {
     "name": "stderr",
     "output_type": "stream",
     "text": [
      "11it [08:19, 44.95s/it]"
     ]
    },
    {
     "name": "stdout",
     "output_type": "stream",
     "text": [
      "Process  /Users/nhuantran/Downloads/Naruto Shippuuden English Subs/[HorribleSubs] Naruto Shippuuden - 012 [480p].ass\n"
     ]
    },
    {
     "name": "stderr",
     "output_type": "stream",
     "text": [
      "12it [09:07, 46.12s/it]"
     ]
    },
    {
     "name": "stdout",
     "output_type": "stream",
     "text": [
      "Process  /Users/nhuantran/Downloads/Naruto Shippuuden English Subs/[HorribleSubs] Naruto Shippuuden - 013 [480p].ass\n"
     ]
    },
    {
     "name": "stderr",
     "output_type": "stream",
     "text": [
      "13it [10:03, 49.07s/it]"
     ]
    },
    {
     "name": "stdout",
     "output_type": "stream",
     "text": [
      "Process  /Users/nhuantran/Downloads/Naruto Shippuuden English Subs/[HorribleSubs] Naruto Shippuuden - 014 [480p].ass\n"
     ]
    },
    {
     "name": "stderr",
     "output_type": "stream",
     "text": [
      "14it [10:52, 48.96s/it]"
     ]
    },
    {
     "name": "stdout",
     "output_type": "stream",
     "text": [
      "Process  /Users/nhuantran/Downloads/Naruto Shippuuden English Subs/[HorribleSubs] Naruto Shippuuden - 015 [480p].ass\n"
     ]
    },
    {
     "name": "stderr",
     "output_type": "stream",
     "text": [
      "15it [11:52, 52.28s/it]"
     ]
    },
    {
     "name": "stdout",
     "output_type": "stream",
     "text": [
      "Process  /Users/nhuantran/Downloads/Naruto Shippuuden English Subs/[HorribleSubs] Naruto Shippuuden - 016 [480p].ass\n"
     ]
    },
    {
     "name": "stderr",
     "output_type": "stream",
     "text": [
      "16it [12:53, 55.04s/it]"
     ]
    },
    {
     "name": "stdout",
     "output_type": "stream",
     "text": [
      "Process  /Users/nhuantran/Downloads/Naruto Shippuuden English Subs/[HorribleSubs] Naruto Shippuuden - 017 [480p].ass\n"
     ]
    },
    {
     "name": "stderr",
     "output_type": "stream",
     "text": [
      "17it [13:53, 56.46s/it]"
     ]
    },
    {
     "name": "stdout",
     "output_type": "stream",
     "text": [
      "Process  /Users/nhuantran/Downloads/Naruto Shippuuden English Subs/[HorribleSubs] Naruto Shippuuden - 018 [480p].ass\n"
     ]
    },
    {
     "name": "stderr",
     "output_type": "stream",
     "text": [
      "18it [14:38, 52.87s/it]"
     ]
    },
    {
     "name": "stdout",
     "output_type": "stream",
     "text": [
      "Process  /Users/nhuantran/Downloads/Naruto Shippuuden English Subs/[HorribleSubs] Naruto Shippuuden - 019 [480p].ass\n"
     ]
    },
    {
     "name": "stderr",
     "output_type": "stream",
     "text": [
      "19it [15:24, 50.81s/it]"
     ]
    },
    {
     "name": "stdout",
     "output_type": "stream",
     "text": [
      "Process  /Users/nhuantran/Downloads/Naruto Shippuuden English Subs/[HorribleSubs] Naruto Shippuuden - 020 [480p].ass\n"
     ]
    },
    {
     "name": "stderr",
     "output_type": "stream",
     "text": [
      "20it [16:00, 46.47s/it]"
     ]
    },
    {
     "name": "stdout",
     "output_type": "stream",
     "text": [
      "Process  /Users/nhuantran/Downloads/Naruto Shippuuden English Subs/[HorribleSubs] Naruto Shippuuden - 021 [480p].ass\n"
     ]
    },
    {
     "name": "stderr",
     "output_type": "stream",
     "text": [
      "21it [16:46, 46.43s/it]"
     ]
    },
    {
     "name": "stdout",
     "output_type": "stream",
     "text": [
      "Process  /Users/nhuantran/Downloads/Naruto Shippuuden English Subs/[HorribleSubs] Naruto Shippuuden - 022 [480p].ass\n"
     ]
    },
    {
     "name": "stderr",
     "output_type": "stream",
     "text": [
      "22it [17:23, 43.47s/it]"
     ]
    },
    {
     "name": "stdout",
     "output_type": "stream",
     "text": [
      "Process  /Users/nhuantran/Downloads/Naruto Shippuuden English Subs/[HorribleSubs] Naruto Shippuuden - 023 [480p].ass\n"
     ]
    },
    {
     "name": "stderr",
     "output_type": "stream",
     "text": [
      "23it [18:01, 41.78s/it]"
     ]
    },
    {
     "name": "stdout",
     "output_type": "stream",
     "text": [
      "Process  /Users/nhuantran/Downloads/Naruto Shippuuden English Subs/[HorribleSubs] Naruto Shippuuden - 024 [480p].ass\n"
     ]
    },
    {
     "name": "stderr",
     "output_type": "stream",
     "text": [
      "24it [18:41, 41.30s/it]"
     ]
    },
    {
     "name": "stdout",
     "output_type": "stream",
     "text": [
      "Process  /Users/nhuantran/Downloads/Naruto Shippuuden English Subs/[HorribleSubs] Naruto Shippuuden - 025 [480p].ass\n"
     ]
    },
    {
     "name": "stderr",
     "output_type": "stream",
     "text": [
      "25it [19:23, 41.59s/it]"
     ]
    },
    {
     "name": "stdout",
     "output_type": "stream",
     "text": [
      "Process  /Users/nhuantran/Downloads/Naruto Shippuuden English Subs/[HorribleSubs] Naruto Shippuuden - 026 [480p].ass\n"
     ]
    },
    {
     "name": "stderr",
     "output_type": "stream",
     "text": [
      "26it [20:01, 40.58s/it]"
     ]
    },
    {
     "name": "stdout",
     "output_type": "stream",
     "text": [
      "Process  /Users/nhuantran/Downloads/Naruto Shippuuden English Subs/[HorribleSubs] Naruto Shippuuden - 027 [480p].ass\n"
     ]
    },
    {
     "name": "stderr",
     "output_type": "stream",
     "text": [
      "27it [20:53, 43.94s/it]"
     ]
    },
    {
     "name": "stdout",
     "output_type": "stream",
     "text": [
      "Process  /Users/nhuantran/Downloads/Naruto Shippuuden English Subs/[HorribleSubs] Naruto Shippuuden - 028 [480p].ass\n"
     ]
    },
    {
     "name": "stderr",
     "output_type": "stream",
     "text": [
      "28it [21:36, 43.50s/it]"
     ]
    },
    {
     "name": "stdout",
     "output_type": "stream",
     "text": [
      "Process  /Users/nhuantran/Downloads/Naruto Shippuuden English Subs/[HorribleSubs] Naruto Shippuuden - 029 [480p].ass\n"
     ]
    },
    {
     "name": "stderr",
     "output_type": "stream",
     "text": [
      "29it [22:23, 44.54s/it]"
     ]
    },
    {
     "name": "stdout",
     "output_type": "stream",
     "text": [
      "Process  /Users/nhuantran/Downloads/Naruto Shippuuden English Subs/[HorribleSubs] Naruto Shippuuden - 030 [480p].ass\n"
     ]
    },
    {
     "name": "stderr",
     "output_type": "stream",
     "text": [
      "30it [23:01, 42.76s/it]"
     ]
    },
    {
     "name": "stdout",
     "output_type": "stream",
     "text": [
      "Process  /Users/nhuantran/Downloads/Naruto Shippuuden English Subs/[HorribleSubs] Naruto Shippuuden - 031 [480p].ass\n"
     ]
    },
    {
     "name": "stderr",
     "output_type": "stream",
     "text": [
      "31it [23:34, 39.59s/it]"
     ]
    },
    {
     "name": "stdout",
     "output_type": "stream",
     "text": [
      "Process  /Users/nhuantran/Downloads/Naruto Shippuuden English Subs/[HorribleSubs] Naruto Shippuuden - 032 [480p].ass\n"
     ]
    },
    {
     "name": "stderr",
     "output_type": "stream",
     "text": [
      "32it [24:11, 39.07s/it]"
     ]
    },
    {
     "name": "stdout",
     "output_type": "stream",
     "text": [
      "Process  /Users/nhuantran/Downloads/Naruto Shippuuden English Subs/[HorribleSubs] Naruto Shippuuden - 033 [480p].ass\n"
     ]
    },
    {
     "name": "stderr",
     "output_type": "stream",
     "text": [
      "33it [25:01, 42.21s/it]"
     ]
    },
    {
     "name": "stdout",
     "output_type": "stream",
     "text": [
      "Process  /Users/nhuantran/Downloads/Naruto Shippuuden English Subs/[HorribleSubs] Naruto Shippuuden - 034 [480p].ass\n"
     ]
    },
    {
     "name": "stderr",
     "output_type": "stream",
     "text": [
      "34it [25:35, 39.80s/it]"
     ]
    },
    {
     "name": "stdout",
     "output_type": "stream",
     "text": [
      "Process  /Users/nhuantran/Downloads/Naruto Shippuuden English Subs/[HorribleSubs] Naruto Shippuuden - 035 [480p].ass\n"
     ]
    },
    {
     "name": "stderr",
     "output_type": "stream",
     "text": [
      "35it [26:26, 43.01s/it]"
     ]
    },
    {
     "name": "stdout",
     "output_type": "stream",
     "text": [
      "Process  /Users/nhuantran/Downloads/Naruto Shippuuden English Subs/[HorribleSubs] Naruto Shippuuden - 036 [480p].ass\n"
     ]
    },
    {
     "name": "stderr",
     "output_type": "stream",
     "text": [
      "36it [27:14, 44.63s/it]"
     ]
    },
    {
     "name": "stdout",
     "output_type": "stream",
     "text": [
      "Process  /Users/nhuantran/Downloads/Naruto Shippuuden English Subs/[HorribleSubs] Naruto Shippuuden - 037 [480p].ass\n"
     ]
    },
    {
     "name": "stderr",
     "output_type": "stream",
     "text": [
      "37it [27:53, 42.97s/it]"
     ]
    },
    {
     "name": "stdout",
     "output_type": "stream",
     "text": [
      "Process  /Users/nhuantran/Downloads/Naruto Shippuuden English Subs/[HorribleSubs] Naruto Shippuuden - 038 [480p].ass\n"
     ]
    },
    {
     "name": "stderr",
     "output_type": "stream",
     "text": [
      "38it [28:31, 41.58s/it]"
     ]
    },
    {
     "name": "stdout",
     "output_type": "stream",
     "text": [
      "Process  /Users/nhuantran/Downloads/Naruto Shippuuden English Subs/[HorribleSubs] Naruto Shippuuden - 039 [480p].ass\n"
     ]
    },
    {
     "name": "stderr",
     "output_type": "stream",
     "text": [
      "39it [29:11, 41.07s/it]"
     ]
    },
    {
     "name": "stdout",
     "output_type": "stream",
     "text": [
      "Process  /Users/nhuantran/Downloads/Naruto Shippuuden English Subs/[HorribleSubs] Naruto Shippuuden - 040 [480p].ass\n"
     ]
    },
    {
     "name": "stderr",
     "output_type": "stream",
     "text": [
      "40it [29:52, 40.90s/it]"
     ]
    },
    {
     "name": "stdout",
     "output_type": "stream",
     "text": [
      "Process  /Users/nhuantran/Downloads/Naruto Shippuuden English Subs/[HorribleSubs] Naruto Shippuuden - 041 [480p].ass\n"
     ]
    },
    {
     "name": "stderr",
     "output_type": "stream",
     "text": [
      "41it [30:25, 38.47s/it]"
     ]
    },
    {
     "name": "stdout",
     "output_type": "stream",
     "text": [
      "Process  /Users/nhuantran/Downloads/Naruto Shippuuden English Subs/[HorribleSubs] Naruto Shippuuden - 042 [480p].ass\n"
     ]
    },
    {
     "name": "stderr",
     "output_type": "stream",
     "text": [
      "42it [31:01, 37.90s/it]"
     ]
    },
    {
     "name": "stdout",
     "output_type": "stream",
     "text": [
      "Process  /Users/nhuantran/Downloads/Naruto Shippuuden English Subs/[HorribleSubs] Naruto Shippuuden - 043 [480p].ass\n"
     ]
    },
    {
     "name": "stderr",
     "output_type": "stream",
     "text": [
      "43it [31:29, 35.01s/it]"
     ]
    },
    {
     "name": "stdout",
     "output_type": "stream",
     "text": [
      "Process  /Users/nhuantran/Downloads/Naruto Shippuuden English Subs/[HorribleSubs] Naruto Shippuuden - 044 [480p].ass\n"
     ]
    },
    {
     "name": "stderr",
     "output_type": "stream",
     "text": [
      "44it [32:10, 36.73s/it]"
     ]
    },
    {
     "name": "stdout",
     "output_type": "stream",
     "text": [
      "Process  /Users/nhuantran/Downloads/Naruto Shippuuden English Subs/[HorribleSubs] Naruto Shippuuden - 045 [480p].ass\n"
     ]
    },
    {
     "name": "stderr",
     "output_type": "stream",
     "text": [
      "45it [33:03, 41.41s/it]"
     ]
    },
    {
     "name": "stdout",
     "output_type": "stream",
     "text": [
      "Process  /Users/nhuantran/Downloads/Naruto Shippuuden English Subs/[HorribleSubs] Naruto Shippuuden - 046 [480p].ass\n"
     ]
    },
    {
     "name": "stderr",
     "output_type": "stream",
     "text": [
      "46it [33:54, 44.55s/it]"
     ]
    },
    {
     "name": "stdout",
     "output_type": "stream",
     "text": [
      "Process  /Users/nhuantran/Downloads/Naruto Shippuuden English Subs/[HorribleSubs] Naruto Shippuuden - 047 [480p].ass\n"
     ]
    },
    {
     "name": "stderr",
     "output_type": "stream",
     "text": [
      "47it [35:05, 52.39s/it]"
     ]
    },
    {
     "name": "stdout",
     "output_type": "stream",
     "text": [
      "Process  /Users/nhuantran/Downloads/Naruto Shippuuden English Subs/[HorribleSubs] Naruto Shippuuden - 048 [480p].ass\n"
     ]
    },
    {
     "name": "stderr",
     "output_type": "stream",
     "text": [
      "48it [35:44, 48.35s/it]"
     ]
    },
    {
     "name": "stdout",
     "output_type": "stream",
     "text": [
      "Process  /Users/nhuantran/Downloads/Naruto Shippuuden English Subs/[HorribleSubs] Naruto Shippuuden - 049 [480p].ass\n"
     ]
    },
    {
     "name": "stderr",
     "output_type": "stream",
     "text": [
      "49it [36:14, 42.78s/it]"
     ]
    },
    {
     "name": "stdout",
     "output_type": "stream",
     "text": [
      "Process  /Users/nhuantran/Downloads/Naruto Shippuuden English Subs/[HorribleSubs] Naruto Shippuuden - 050 [480p].ass\n"
     ]
    },
    {
     "name": "stderr",
     "output_type": "stream",
     "text": [
      "50it [36:54, 42.01s/it]"
     ]
    },
    {
     "name": "stdout",
     "output_type": "stream",
     "text": [
      "Process  /Users/nhuantran/Downloads/Naruto Shippuuden English Subs/[HorribleSubs] Naruto Shippuuden - 051 [480p].ass\n"
     ]
    },
    {
     "name": "stderr",
     "output_type": "stream",
     "text": [
      "51it [37:43, 44.01s/it]"
     ]
    },
    {
     "name": "stdout",
     "output_type": "stream",
     "text": [
      "Process  /Users/nhuantran/Downloads/Naruto Shippuuden English Subs/[HorribleSubs] Naruto Shippuuden - 052 [480p].ass\n"
     ]
    },
    {
     "name": "stderr",
     "output_type": "stream",
     "text": [
      "52it [38:22, 42.70s/it]"
     ]
    },
    {
     "name": "stdout",
     "output_type": "stream",
     "text": [
      "Process  /Users/nhuantran/Downloads/Naruto Shippuuden English Subs/[HorribleSubs] Naruto Shippuuden - 053 [480p].ass\n"
     ]
    },
    {
     "name": "stderr",
     "output_type": "stream",
     "text": [
      "53it [39:10, 44.20s/it]"
     ]
    },
    {
     "name": "stdout",
     "output_type": "stream",
     "text": [
      "Process  /Users/nhuantran/Downloads/Naruto Shippuuden English Subs/[HorribleSubs] Naruto Shippuuden - 054 [480p].ass\n"
     ]
    },
    {
     "name": "stderr",
     "output_type": "stream",
     "text": [
      "54it [39:53, 43.93s/it]"
     ]
    },
    {
     "name": "stdout",
     "output_type": "stream",
     "text": [
      "Process  /Users/nhuantran/Downloads/Naruto Shippuuden English Subs/[HorribleSubs] Naruto Shippuuden - 055 [480p].ass\n"
     ]
    },
    {
     "name": "stderr",
     "output_type": "stream",
     "text": [
      "55it [40:45, 46.23s/it]"
     ]
    },
    {
     "name": "stdout",
     "output_type": "stream",
     "text": [
      "Process  /Users/nhuantran/Downloads/Naruto Shippuuden English Subs/[HorribleSubs] Naruto Shippuuden - 056 [480p].ass\n"
     ]
    },
    {
     "name": "stderr",
     "output_type": "stream",
     "text": [
      "56it [41:37, 47.93s/it]"
     ]
    },
    {
     "name": "stdout",
     "output_type": "stream",
     "text": [
      "Process  /Users/nhuantran/Downloads/Naruto Shippuuden English Subs/[HorribleSubs] Naruto Shippuuden - 057 [480p].ass\n"
     ]
    },
    {
     "name": "stderr",
     "output_type": "stream",
     "text": [
      "57it [42:19, 46.25s/it]"
     ]
    },
    {
     "name": "stdout",
     "output_type": "stream",
     "text": [
      "Process  /Users/nhuantran/Downloads/Naruto Shippuuden English Subs/[HorribleSubs] Naruto Shippuuden - 058 [480p].ass\n"
     ]
    },
    {
     "name": "stderr",
     "output_type": "stream",
     "text": [
      "58it [43:07, 46.86s/it]"
     ]
    },
    {
     "name": "stdout",
     "output_type": "stream",
     "text": [
      "Process  /Users/nhuantran/Downloads/Naruto Shippuuden English Subs/[HorribleSubs] Naruto Shippuuden - 059 [480p].ass\n"
     ]
    },
    {
     "name": "stderr",
     "output_type": "stream",
     "text": [
      "59it [43:56, 47.44s/it]"
     ]
    },
    {
     "name": "stdout",
     "output_type": "stream",
     "text": [
      "Process  /Users/nhuantran/Downloads/Naruto Shippuuden English Subs/[HorribleSubs] Naruto Shippuuden - 060 [480p].ass\n"
     ]
    },
    {
     "name": "stderr",
     "output_type": "stream",
     "text": [
      "60it [44:44, 47.64s/it]"
     ]
    },
    {
     "name": "stdout",
     "output_type": "stream",
     "text": [
      "Process  /Users/nhuantran/Downloads/Naruto Shippuuden English Subs/[HorribleSubs] Naruto Shippuuden - 061 [480p].ass\n"
     ]
    },
    {
     "name": "stderr",
     "output_type": "stream",
     "text": [
      "61it [45:38, 49.33s/it]"
     ]
    },
    {
     "name": "stdout",
     "output_type": "stream",
     "text": [
      "Process  /Users/nhuantran/Downloads/Naruto Shippuuden English Subs/[HorribleSubs] Naruto Shippuuden - 062 [480p].ass\n"
     ]
    },
    {
     "name": "stderr",
     "output_type": "stream",
     "text": [
      "62it [46:28, 49.50s/it]"
     ]
    },
    {
     "name": "stdout",
     "output_type": "stream",
     "text": [
      "Process  /Users/nhuantran/Downloads/Naruto Shippuuden English Subs/[HorribleSubs] Naruto Shippuuden - 063 [480p].ass\n"
     ]
    },
    {
     "name": "stderr",
     "output_type": "stream",
     "text": [
      "63it [47:22, 50.98s/it]"
     ]
    },
    {
     "name": "stdout",
     "output_type": "stream",
     "text": [
      "Process  /Users/nhuantran/Downloads/Naruto Shippuuden English Subs/[HorribleSubs] Naruto Shippuuden - 064 [480p].ass\n"
     ]
    },
    {
     "name": "stderr",
     "output_type": "stream",
     "text": [
      "64it [48:15, 51.50s/it]"
     ]
    },
    {
     "name": "stdout",
     "output_type": "stream",
     "text": [
      "Process  /Users/nhuantran/Downloads/Naruto Shippuuden English Subs/[HorribleSubs] Naruto Shippuuden - 065 [480p].ass\n"
     ]
    },
    {
     "name": "stderr",
     "output_type": "stream",
     "text": [
      "65it [49:09, 52.31s/it]"
     ]
    },
    {
     "name": "stdout",
     "output_type": "stream",
     "text": [
      "Process  /Users/nhuantran/Downloads/Naruto Shippuuden English Subs/[HorribleSubs] Naruto Shippuuden - 066 [480p].ass\n"
     ]
    },
    {
     "name": "stderr",
     "output_type": "stream",
     "text": [
      "66it [50:06, 53.87s/it]"
     ]
    },
    {
     "name": "stdout",
     "output_type": "stream",
     "text": [
      "Process  /Users/nhuantran/Downloads/Naruto Shippuuden English Subs/[HorribleSubs] Naruto Shippuuden - 067 [480p].ass\n"
     ]
    },
    {
     "name": "stderr",
     "output_type": "stream",
     "text": [
      "67it [50:43, 48.69s/it]"
     ]
    },
    {
     "name": "stdout",
     "output_type": "stream",
     "text": [
      "Process  /Users/nhuantran/Downloads/Naruto Shippuuden English Subs/[HorribleSubs] Naruto Shippuuden - 068 [480p].ass\n"
     ]
    },
    {
     "name": "stderr",
     "output_type": "stream",
     "text": [
      "68it [51:32, 48.68s/it]"
     ]
    },
    {
     "name": "stdout",
     "output_type": "stream",
     "text": [
      "Process  /Users/nhuantran/Downloads/Naruto Shippuuden English Subs/[HorribleSubs] Naruto Shippuuden - 069 [480p].ass\n"
     ]
    },
    {
     "name": "stderr",
     "output_type": "stream",
     "text": [
      "69it [52:20, 48.72s/it]"
     ]
    },
    {
     "name": "stdout",
     "output_type": "stream",
     "text": [
      "Process  /Users/nhuantran/Downloads/Naruto Shippuuden English Subs/[HorribleSubs] Naruto Shippuuden - 070 [480p].ass\n"
     ]
    },
    {
     "name": "stderr",
     "output_type": "stream",
     "text": [
      "70it [53:04, 47.26s/it]"
     ]
    },
    {
     "name": "stdout",
     "output_type": "stream",
     "text": [
      "Process  /Users/nhuantran/Downloads/Naruto Shippuuden English Subs/[HorribleSubs] Naruto Shippuuden - 071 [480p].ass\n"
     ]
    },
    {
     "name": "stderr",
     "output_type": "stream",
     "text": [
      "71it [54:03, 50.62s/it]"
     ]
    },
    {
     "name": "stdout",
     "output_type": "stream",
     "text": [
      "Process  /Users/nhuantran/Downloads/Naruto Shippuuden English Subs/[HorribleSubs] Naruto Shippuuden - 072 [480p].ass\n"
     ]
    },
    {
     "name": "stderr",
     "output_type": "stream",
     "text": [
      "72it [55:07, 54.77s/it]"
     ]
    },
    {
     "name": "stdout",
     "output_type": "stream",
     "text": [
      "Process  /Users/nhuantran/Downloads/Naruto Shippuuden English Subs/[HorribleSubs] Naruto Shippuuden - 073 [480p].ass\n"
     ]
    },
    {
     "name": "stderr",
     "output_type": "stream",
     "text": [
      "73it [55:49, 50.79s/it]"
     ]
    },
    {
     "name": "stdout",
     "output_type": "stream",
     "text": [
      "Process  /Users/nhuantran/Downloads/Naruto Shippuuden English Subs/[HorribleSubs] Naruto Shippuuden - 074 [480p].ass\n"
     ]
    },
    {
     "name": "stderr",
     "output_type": "stream",
     "text": [
      "74it [56:31, 48.17s/it]"
     ]
    },
    {
     "name": "stdout",
     "output_type": "stream",
     "text": [
      "Process  /Users/nhuantran/Downloads/Naruto Shippuuden English Subs/[HorribleSubs] Naruto Shippuuden - 075 [480p].ass\n"
     ]
    },
    {
     "name": "stderr",
     "output_type": "stream",
     "text": [
      "75it [57:26, 50.22s/it]"
     ]
    },
    {
     "name": "stdout",
     "output_type": "stream",
     "text": [
      "Process  /Users/nhuantran/Downloads/Naruto Shippuuden English Subs/[HorribleSubs] Naruto Shippuuden - 076 [480p].ass\n"
     ]
    },
    {
     "name": "stderr",
     "output_type": "stream",
     "text": [
      "76it [58:08, 47.81s/it]"
     ]
    },
    {
     "name": "stdout",
     "output_type": "stream",
     "text": [
      "Process  /Users/nhuantran/Downloads/Naruto Shippuuden English Subs/[HorribleSubs] Naruto Shippuuden - 077 [480p].ass\n"
     ]
    },
    {
     "name": "stderr",
     "output_type": "stream",
     "text": [
      "77it [58:59, 48.84s/it]"
     ]
    },
    {
     "name": "stdout",
     "output_type": "stream",
     "text": [
      "Process  /Users/nhuantran/Downloads/Naruto Shippuuden English Subs/[HorribleSubs] Naruto Shippuuden - 078 [480p].ass\n"
     ]
    },
    {
     "name": "stderr",
     "output_type": "stream",
     "text": [
      "78it [59:52, 50.07s/it]"
     ]
    },
    {
     "name": "stdout",
     "output_type": "stream",
     "text": [
      "Process  /Users/nhuantran/Downloads/Naruto Shippuuden English Subs/[HorribleSubs] Naruto Shippuuden - 079 [480p].ass\n"
     ]
    },
    {
     "name": "stderr",
     "output_type": "stream",
     "text": [
      "79it [1:00:37, 48.60s/it]"
     ]
    },
    {
     "name": "stdout",
     "output_type": "stream",
     "text": [
      "Process  /Users/nhuantran/Downloads/Naruto Shippuuden English Subs/[HorribleSubs] Naruto Shippuuden - 080 [720p].ass\n"
     ]
    },
    {
     "name": "stderr",
     "output_type": "stream",
     "text": [
      "80it [1:01:14, 44.90s/it]"
     ]
    },
    {
     "name": "stdout",
     "output_type": "stream",
     "text": [
      "Process  /Users/nhuantran/Downloads/Naruto Shippuuden English Subs/[HorribleSubs] Naruto Shippuuden - 081 [720p].ass\n"
     ]
    },
    {
     "name": "stderr",
     "output_type": "stream",
     "text": [
      "81it [1:01:55, 43.75s/it]"
     ]
    },
    {
     "name": "stdout",
     "output_type": "stream",
     "text": [
      "Process  /Users/nhuantran/Downloads/Naruto Shippuuden English Subs/[HorribleSubs] Naruto Shippuuden - 082 [720p].ass\n"
     ]
    },
    {
     "name": "stderr",
     "output_type": "stream",
     "text": [
      "82it [1:02:31, 41.61s/it]"
     ]
    },
    {
     "name": "stdout",
     "output_type": "stream",
     "text": [
      "Process  /Users/nhuantran/Downloads/Naruto Shippuuden English Subs/[HorribleSubs] Naruto Shippuuden - 083 [720p].ass\n"
     ]
    },
    {
     "name": "stderr",
     "output_type": "stream",
     "text": [
      "83it [1:03:10, 40.67s/it]"
     ]
    },
    {
     "name": "stdout",
     "output_type": "stream",
     "text": [
      "Process  /Users/nhuantran/Downloads/Naruto Shippuuden English Subs/[HorribleSubs] Naruto Shippuuden - 084 [720p].ass\n"
     ]
    },
    {
     "name": "stderr",
     "output_type": "stream",
     "text": [
      "84it [1:03:57, 42.70s/it]"
     ]
    },
    {
     "name": "stdout",
     "output_type": "stream",
     "text": [
      "Process  /Users/nhuantran/Downloads/Naruto Shippuuden English Subs/[HorribleSubs] Naruto Shippuuden - 085 [720p].ass\n"
     ]
    },
    {
     "name": "stderr",
     "output_type": "stream",
     "text": [
      "85it [1:04:54, 47.07s/it]"
     ]
    },
    {
     "name": "stdout",
     "output_type": "stream",
     "text": [
      "Process  /Users/nhuantran/Downloads/Naruto Shippuuden English Subs/[HorribleSubs] Naruto Shippuuden - 086 [720p].ass\n"
     ]
    },
    {
     "name": "stderr",
     "output_type": "stream",
     "text": [
      "86it [1:05:49, 49.33s/it]"
     ]
    },
    {
     "name": "stdout",
     "output_type": "stream",
     "text": [
      "Process  /Users/nhuantran/Downloads/Naruto Shippuuden English Subs/[HorribleSubs] Naruto Shippuuden - 087 [720p].ass\n"
     ]
    },
    {
     "name": "stderr",
     "output_type": "stream",
     "text": [
      "87it [1:06:30, 46.83s/it]"
     ]
    },
    {
     "name": "stdout",
     "output_type": "stream",
     "text": [
      "Process  /Users/nhuantran/Downloads/Naruto Shippuuden English Subs/[HorribleSubs] Naruto Shippuuden - 088 [720p].ass\n"
     ]
    },
    {
     "name": "stderr",
     "output_type": "stream",
     "text": [
      "88it [1:07:02, 42.51s/it]"
     ]
    },
    {
     "name": "stdout",
     "output_type": "stream",
     "text": [
      "Process  /Users/nhuantran/Downloads/Naruto Shippuuden English Subs/[HorribleSubs] Naruto Shippuuden - 089 [720p].ass\n"
     ]
    },
    {
     "name": "stderr",
     "output_type": "stream",
     "text": [
      "89it [1:07:53, 44.86s/it]"
     ]
    },
    {
     "name": "stdout",
     "output_type": "stream",
     "text": [
      "Process  /Users/nhuantran/Downloads/Naruto Shippuuden English Subs/[HorribleSubs] Naruto Shippuuden - 090 [720p].ass\n"
     ]
    },
    {
     "name": "stderr",
     "output_type": "stream",
     "text": [
      "90it [1:08:54, 49.84s/it]"
     ]
    },
    {
     "name": "stdout",
     "output_type": "stream",
     "text": [
      "Process  /Users/nhuantran/Downloads/Naruto Shippuuden English Subs/[HorribleSubs] Naruto Shippuuden - 091 [720p].ass\n"
     ]
    },
    {
     "name": "stderr",
     "output_type": "stream",
     "text": [
      "91it [1:09:47, 50.81s/it]"
     ]
    },
    {
     "name": "stdout",
     "output_type": "stream",
     "text": [
      "Process  /Users/nhuantran/Downloads/Naruto Shippuuden English Subs/[HorribleSubs] Naruto Shippuuden - 092 [720p].ass\n"
     ]
    },
    {
     "name": "stderr",
     "output_type": "stream",
     "text": [
      "92it [1:10:36, 50.15s/it]"
     ]
    },
    {
     "name": "stdout",
     "output_type": "stream",
     "text": [
      "Process  /Users/nhuantran/Downloads/Naruto Shippuuden English Subs/[HorribleSubs] Naruto Shippuuden - 093 [720p].ass\n"
     ]
    },
    {
     "name": "stderr",
     "output_type": "stream",
     "text": [
      "93it [1:11:30, 51.25s/it]"
     ]
    },
    {
     "name": "stdout",
     "output_type": "stream",
     "text": [
      "Process  /Users/nhuantran/Downloads/Naruto Shippuuden English Subs/[HorribleSubs] Naruto Shippuuden - 094 [720p].ass\n"
     ]
    },
    {
     "name": "stderr",
     "output_type": "stream",
     "text": [
      "94it [1:12:17, 50.04s/it]"
     ]
    },
    {
     "name": "stdout",
     "output_type": "stream",
     "text": [
      "Process  /Users/nhuantran/Downloads/Naruto Shippuuden English Subs/[HorribleSubs] Naruto Shippuuden - 095 [720p].ass\n"
     ]
    },
    {
     "name": "stderr",
     "output_type": "stream",
     "text": [
      "95it [1:13:28, 56.18s/it]"
     ]
    },
    {
     "name": "stdout",
     "output_type": "stream",
     "text": [
      "Process  /Users/nhuantran/Downloads/Naruto Shippuuden English Subs/[HorribleSubs] Naruto Shippuuden - 096 [720p].ass\n"
     ]
    },
    {
     "name": "stderr",
     "output_type": "stream",
     "text": [
      "96it [1:14:25, 56.56s/it]"
     ]
    },
    {
     "name": "stdout",
     "output_type": "stream",
     "text": [
      "Process  /Users/nhuantran/Downloads/Naruto Shippuuden English Subs/[HorribleSubs] Naruto Shippuuden - 097 [720p].ass\n"
     ]
    },
    {
     "name": "stderr",
     "output_type": "stream",
     "text": [
      "97it [1:15:16, 54.76s/it]"
     ]
    },
    {
     "name": "stdout",
     "output_type": "stream",
     "text": [
      "Process  /Users/nhuantran/Downloads/Naruto Shippuuden English Subs/[HorribleSubs] Naruto Shippuuden - 098 [720p].ass\n"
     ]
    },
    {
     "name": "stderr",
     "output_type": "stream",
     "text": [
      "98it [1:15:58, 50.99s/it]"
     ]
    },
    {
     "name": "stdout",
     "output_type": "stream",
     "text": [
      "Process  /Users/nhuantran/Downloads/Naruto Shippuuden English Subs/[HorribleSubs] Naruto Shippuuden - 099 [720p].ass\n"
     ]
    },
    {
     "name": "stderr",
     "output_type": "stream",
     "text": [
      "99it [1:16:44, 49.59s/it]"
     ]
    },
    {
     "name": "stdout",
     "output_type": "stream",
     "text": [
      "Process  /Users/nhuantran/Downloads/Naruto Shippuuden English Subs/[HorribleSubs] Naruto Shippuuden - 100 [720p].ass\n"
     ]
    },
    {
     "name": "stderr",
     "output_type": "stream",
     "text": [
      "100it [1:17:25, 47.09s/it]"
     ]
    },
    {
     "name": "stdout",
     "output_type": "stream",
     "text": [
      "Process  /Users/nhuantran/Downloads/Naruto Shippuuden English Subs/[HorribleSubs] Naruto Shippuuden - 101 [720p].ass\n"
     ]
    },
    {
     "name": "stderr",
     "output_type": "stream",
     "text": [
      "101it [1:18:10, 46.35s/it]"
     ]
    },
    {
     "name": "stdout",
     "output_type": "stream",
     "text": [
      "Process  /Users/nhuantran/Downloads/Naruto Shippuuden English Subs/[HorribleSubs] Naruto Shippuuden - 102 [720p].ass\n"
     ]
    },
    {
     "name": "stderr",
     "output_type": "stream",
     "text": [
      "102it [1:19:05, 48.84s/it]"
     ]
    },
    {
     "name": "stdout",
     "output_type": "stream",
     "text": [
      "Process  /Users/nhuantran/Downloads/Naruto Shippuuden English Subs/[HorribleSubs] Naruto Shippuuden - 103 [720p].ass\n"
     ]
    },
    {
     "name": "stderr",
     "output_type": "stream",
     "text": [
      "103it [1:19:52, 48.52s/it]"
     ]
    },
    {
     "name": "stdout",
     "output_type": "stream",
     "text": [
      "Process  /Users/nhuantran/Downloads/Naruto Shippuuden English Subs/[HorribleSubs] Naruto Shippuuden - 104 [720p].ass\n"
     ]
    },
    {
     "name": "stderr",
     "output_type": "stream",
     "text": [
      "104it [1:20:48, 50.71s/it]"
     ]
    },
    {
     "name": "stdout",
     "output_type": "stream",
     "text": [
      "Process  /Users/nhuantran/Downloads/Naruto Shippuuden English Subs/[HorribleSubs] Naruto Shippuuden - 105 [720p].ass\n"
     ]
    },
    {
     "name": "stderr",
     "output_type": "stream",
     "text": [
      "105it [1:21:31, 48.32s/it]"
     ]
    },
    {
     "name": "stdout",
     "output_type": "stream",
     "text": [
      "Process  /Users/nhuantran/Downloads/Naruto Shippuuden English Subs/[HorribleSubs] Naruto Shippuuden - 106 [720p].ass\n"
     ]
    },
    {
     "name": "stderr",
     "output_type": "stream",
     "text": [
      "106it [1:22:16, 47.48s/it]"
     ]
    },
    {
     "name": "stdout",
     "output_type": "stream",
     "text": [
      "Process  /Users/nhuantran/Downloads/Naruto Shippuuden English Subs/[HorribleSubs] Naruto Shippuuden - 107 [720p].ass\n"
     ]
    },
    {
     "name": "stderr",
     "output_type": "stream",
     "text": [
      "107it [1:23:03, 47.36s/it]"
     ]
    },
    {
     "name": "stdout",
     "output_type": "stream",
     "text": [
      "Process  /Users/nhuantran/Downloads/Naruto Shippuuden English Subs/[HorribleSubs] Naruto Shippuuden - 108 [720p].ass\n"
     ]
    },
    {
     "name": "stderr",
     "output_type": "stream",
     "text": [
      "108it [1:24:00, 50.23s/it]"
     ]
    },
    {
     "name": "stdout",
     "output_type": "stream",
     "text": [
      "Process  /Users/nhuantran/Downloads/Naruto Shippuuden English Subs/[HorribleSubs] Naruto Shippuuden - 109 [720p].ass\n"
     ]
    },
    {
     "name": "stderr",
     "output_type": "stream",
     "text": [
      "109it [1:24:43, 47.89s/it]"
     ]
    },
    {
     "name": "stdout",
     "output_type": "stream",
     "text": [
      "Process  /Users/nhuantran/Downloads/Naruto Shippuuden English Subs/[HorribleSubs] Naruto Shippuuden - 110 [720p].ass\n"
     ]
    },
    {
     "name": "stderr",
     "output_type": "stream",
     "text": [
      "110it [1:25:47, 52.65s/it]"
     ]
    },
    {
     "name": "stdout",
     "output_type": "stream",
     "text": [
      "Process  /Users/nhuantran/Downloads/Naruto Shippuuden English Subs/[HorribleSubs] Naruto Shippuuden - 111 [720p].ass\n"
     ]
    },
    {
     "name": "stderr",
     "output_type": "stream",
     "text": [
      "111it [1:26:36, 51.72s/it]"
     ]
    },
    {
     "name": "stdout",
     "output_type": "stream",
     "text": [
      "Process  /Users/nhuantran/Downloads/Naruto Shippuuden English Subs/[HorribleSubs] Naruto Shippuuden - 112 [720p].ass\n"
     ]
    },
    {
     "name": "stderr",
     "output_type": "stream",
     "text": [
      "112it [1:27:16, 48.21s/it]"
     ]
    },
    {
     "name": "stdout",
     "output_type": "stream",
     "text": [
      "Process  /Users/nhuantran/Downloads/Naruto Shippuuden English Subs/[HorribleSubs] Naruto Shippuuden - 113 [720p].ass\n"
     ]
    },
    {
     "name": "stderr",
     "output_type": "stream",
     "text": [
      "113it [1:27:56, 45.67s/it]"
     ]
    },
    {
     "name": "stdout",
     "output_type": "stream",
     "text": [
      "Process  /Users/nhuantran/Downloads/Naruto Shippuuden English Subs/[HorribleSubs] Naruto Shippuuden - 114 [720p].ass\n"
     ]
    },
    {
     "name": "stderr",
     "output_type": "stream",
     "text": [
      "114it [1:28:40, 45.08s/it]"
     ]
    },
    {
     "name": "stdout",
     "output_type": "stream",
     "text": [
      "Process  /Users/nhuantran/Downloads/Naruto Shippuuden English Subs/[HorribleSubs] Naruto Shippuuden - 115 [720p].ass\n"
     ]
    },
    {
     "name": "stderr",
     "output_type": "stream",
     "text": [
      "115it [1:29:31, 46.90s/it]"
     ]
    },
    {
     "name": "stdout",
     "output_type": "stream",
     "text": [
      "Process  /Users/nhuantran/Downloads/Naruto Shippuuden English Subs/[HorribleSubs] Naruto Shippuuden - 116 [720p].ass\n"
     ]
    },
    {
     "name": "stderr",
     "output_type": "stream",
     "text": [
      "116it [1:30:17, 46.57s/it]"
     ]
    },
    {
     "name": "stdout",
     "output_type": "stream",
     "text": [
      "Process  /Users/nhuantran/Downloads/Naruto Shippuuden English Subs/[HorribleSubs] Naruto Shippuuden - 117 [720p].ass\n"
     ]
    },
    {
     "name": "stderr",
     "output_type": "stream",
     "text": [
      "117it [1:31:03, 46.65s/it]"
     ]
    },
    {
     "name": "stdout",
     "output_type": "stream",
     "text": [
      "Process  /Users/nhuantran/Downloads/Naruto Shippuuden English Subs/[HorribleSubs] Naruto Shippuuden - 118 [720p].ass\n"
     ]
    },
    {
     "name": "stderr",
     "output_type": "stream",
     "text": [
      "118it [1:31:54, 47.74s/it]"
     ]
    },
    {
     "name": "stdout",
     "output_type": "stream",
     "text": [
      "Process  /Users/nhuantran/Downloads/Naruto Shippuuden English Subs/[HorribleSubs] Naruto Shippuuden - 119 [720p].ass\n"
     ]
    },
    {
     "name": "stderr",
     "output_type": "stream",
     "text": [
      "119it [1:32:47, 49.28s/it]"
     ]
    },
    {
     "name": "stdout",
     "output_type": "stream",
     "text": [
      "Process  /Users/nhuantran/Downloads/Naruto Shippuuden English Subs/[HorribleSubs] Naruto Shippuuden - 120 [720p].ass\n"
     ]
    },
    {
     "name": "stderr",
     "output_type": "stream",
     "text": [
      "120it [1:33:31, 47.92s/it]"
     ]
    },
    {
     "name": "stdout",
     "output_type": "stream",
     "text": [
      "Process  /Users/nhuantran/Downloads/Naruto Shippuuden English Subs/[HorribleSubs] Naruto Shippuuden - 121 [720p].ass\n"
     ]
    },
    {
     "name": "stderr",
     "output_type": "stream",
     "text": [
      "121it [1:34:27, 50.20s/it]"
     ]
    },
    {
     "name": "stdout",
     "output_type": "stream",
     "text": [
      "Process  /Users/nhuantran/Downloads/Naruto Shippuuden English Subs/[HorribleSubs] Naruto Shippuuden - 122 [720p].ass\n"
     ]
    },
    {
     "name": "stderr",
     "output_type": "stream",
     "text": [
      "122it [1:35:14, 49.38s/it]"
     ]
    },
    {
     "name": "stdout",
     "output_type": "stream",
     "text": [
      "Process  /Users/nhuantran/Downloads/Naruto Shippuuden English Subs/[HorribleSubs] Naruto Shippuuden - 123 [720p].ass\n"
     ]
    },
    {
     "name": "stderr",
     "output_type": "stream",
     "text": [
      "123it [1:36:02, 48.88s/it]"
     ]
    },
    {
     "name": "stdout",
     "output_type": "stream",
     "text": [
      "Process  /Users/nhuantran/Downloads/Naruto Shippuuden English Subs/[HorribleSubs] Naruto Shippuuden - 124 [720p].ass\n"
     ]
    },
    {
     "name": "stderr",
     "output_type": "stream",
     "text": [
      "124it [1:36:45, 46.97s/it]"
     ]
    },
    {
     "name": "stdout",
     "output_type": "stream",
     "text": [
      "Process  /Users/nhuantran/Downloads/Naruto Shippuuden English Subs/[HorribleSubs] Naruto Shippuuden - 125 [720p].ass\n"
     ]
    },
    {
     "name": "stderr",
     "output_type": "stream",
     "text": [
      "125it [1:37:43, 50.32s/it]"
     ]
    },
    {
     "name": "stdout",
     "output_type": "stream",
     "text": [
      "Process  /Users/nhuantran/Downloads/Naruto Shippuuden English Subs/[HorribleSubs] Naruto Shippuuden - 126 [720p].ass\n"
     ]
    },
    {
     "name": "stderr",
     "output_type": "stream",
     "text": [
      "126it [1:38:32, 50.00s/it]"
     ]
    },
    {
     "name": "stdout",
     "output_type": "stream",
     "text": [
      "Process  /Users/nhuantran/Downloads/Naruto Shippuuden English Subs/[HorribleSubs] Naruto Shippuuden - 127 [720p].ass\n"
     ]
    },
    {
     "name": "stderr",
     "output_type": "stream",
     "text": [
      "127it [1:39:20, 49.57s/it]"
     ]
    },
    {
     "name": "stdout",
     "output_type": "stream",
     "text": [
      "Process  /Users/nhuantran/Downloads/Naruto Shippuuden English Subs/[HorribleSubs] Naruto Shippuuden - 128 [720p].ass\n"
     ]
    },
    {
     "name": "stderr",
     "output_type": "stream",
     "text": [
      "128it [1:40:08, 49.10s/it]"
     ]
    },
    {
     "name": "stdout",
     "output_type": "stream",
     "text": [
      "Process  /Users/nhuantran/Downloads/Naruto Shippuuden English Subs/[HorribleSubs] Naruto Shippuuden - 129 [720p].ass\n"
     ]
    },
    {
     "name": "stderr",
     "output_type": "stream",
     "text": [
      "129it [1:40:50, 46.72s/it]"
     ]
    },
    {
     "name": "stdout",
     "output_type": "stream",
     "text": [
      "Process  /Users/nhuantran/Downloads/Naruto Shippuuden English Subs/[HorribleSubs] Naruto Shippuuden - 130 [720p].ass\n"
     ]
    },
    {
     "name": "stderr",
     "output_type": "stream",
     "text": [
      "130it [1:41:35, 46.36s/it]"
     ]
    },
    {
     "name": "stdout",
     "output_type": "stream",
     "text": [
      "Process  /Users/nhuantran/Downloads/Naruto Shippuuden English Subs/[HorribleSubs] Naruto Shippuuden - 131 [720p].ass\n"
     ]
    },
    {
     "name": "stderr",
     "output_type": "stream",
     "text": [
      "131it [1:42:18, 45.18s/it]"
     ]
    },
    {
     "name": "stdout",
     "output_type": "stream",
     "text": [
      "Process  /Users/nhuantran/Downloads/Naruto Shippuuden English Subs/[HorribleSubs] Naruto Shippuuden - 132 [720p].ass\n"
     ]
    },
    {
     "name": "stderr",
     "output_type": "stream",
     "text": [
      "132it [1:43:12, 48.07s/it]"
     ]
    },
    {
     "name": "stdout",
     "output_type": "stream",
     "text": [
      "Process  /Users/nhuantran/Downloads/Naruto Shippuuden English Subs/[HorribleSubs] Naruto Shippuuden - 133 [720p].ass\n"
     ]
    },
    {
     "name": "stderr",
     "output_type": "stream",
     "text": [
      "133it [1:44:07, 49.92s/it]"
     ]
    },
    {
     "name": "stdout",
     "output_type": "stream",
     "text": [
      "Process  /Users/nhuantran/Downloads/Naruto Shippuuden English Subs/[HorribleSubs] Naruto Shippuuden - 134 [720p].ass\n"
     ]
    },
    {
     "name": "stderr",
     "output_type": "stream",
     "text": [
      "134it [1:45:10, 53.93s/it]"
     ]
    },
    {
     "name": "stdout",
     "output_type": "stream",
     "text": [
      "Process  /Users/nhuantran/Downloads/Naruto Shippuuden English Subs/[HorribleSubs] Naruto Shippuuden - 135 [720p].ass\n"
     ]
    },
    {
     "name": "stderr",
     "output_type": "stream",
     "text": [
      "135it [1:45:57, 51.95s/it]"
     ]
    },
    {
     "name": "stdout",
     "output_type": "stream",
     "text": [
      "Process  /Users/nhuantran/Downloads/Naruto Shippuuden English Subs/[HorribleSubs] Naruto Shippuuden - 136 [720p].ass\n"
     ]
    },
    {
     "name": "stderr",
     "output_type": "stream",
     "text": [
      "136it [1:46:41, 49.59s/it]"
     ]
    },
    {
     "name": "stdout",
     "output_type": "stream",
     "text": [
      "Process  /Users/nhuantran/Downloads/Naruto Shippuuden English Subs/[HorribleSubs] Naruto Shippuuden - 137 [720p].ass\n"
     ]
    },
    {
     "name": "stderr",
     "output_type": "stream",
     "text": [
      "137it [1:47:19, 46.10s/it]"
     ]
    },
    {
     "name": "stdout",
     "output_type": "stream",
     "text": [
      "Process  /Users/nhuantran/Downloads/Naruto Shippuuden English Subs/[HorribleSubs] Naruto Shippuuden - 138 [720p].ass\n"
     ]
    },
    {
     "name": "stderr",
     "output_type": "stream",
     "text": [
      "138it [1:48:08, 46.80s/it]"
     ]
    },
    {
     "name": "stdout",
     "output_type": "stream",
     "text": [
      "Process  /Users/nhuantran/Downloads/Naruto Shippuuden English Subs/[HorribleSubs] Naruto Shippuuden - 139 [720p].ass\n"
     ]
    },
    {
     "name": "stderr",
     "output_type": "stream",
     "text": [
      "139it [1:48:55, 46.88s/it]"
     ]
    },
    {
     "name": "stdout",
     "output_type": "stream",
     "text": [
      "Process  /Users/nhuantran/Downloads/Naruto Shippuuden English Subs/[HorribleSubs] Naruto Shippuuden - 140 [720p].ass\n"
     ]
    },
    {
     "name": "stderr",
     "output_type": "stream",
     "text": [
      "140it [1:49:45, 47.88s/it]"
     ]
    },
    {
     "name": "stdout",
     "output_type": "stream",
     "text": [
      "Process  /Users/nhuantran/Downloads/Naruto Shippuuden English Subs/[HorribleSubs] Naruto Shippuuden - 141 [720p].ass\n"
     ]
    },
    {
     "name": "stderr",
     "output_type": "stream",
     "text": [
      "141it [1:50:38, 49.34s/it]"
     ]
    },
    {
     "name": "stdout",
     "output_type": "stream",
     "text": [
      "Process  /Users/nhuantran/Downloads/Naruto Shippuuden English Subs/[HorribleSubs] Naruto Shippuuden - 142 [720p].ass\n"
     ]
    },
    {
     "name": "stderr",
     "output_type": "stream",
     "text": [
      "142it [1:51:16, 45.90s/it]"
     ]
    },
    {
     "name": "stdout",
     "output_type": "stream",
     "text": [
      "Process  /Users/nhuantran/Downloads/Naruto Shippuuden English Subs/[HorribleSubs] Naruto Shippuuden - 143 [720p].ass\n"
     ]
    },
    {
     "name": "stderr",
     "output_type": "stream",
     "text": [
      "143it [1:52:02, 45.93s/it]"
     ]
    },
    {
     "name": "stdout",
     "output_type": "stream",
     "text": [
      "Process  /Users/nhuantran/Downloads/Naruto Shippuuden English Subs/[HorribleSubs] Naruto Shippuuden - 144 [720p].ass\n"
     ]
    },
    {
     "name": "stderr",
     "output_type": "stream",
     "text": [
      "144it [1:52:43, 44.50s/it]"
     ]
    },
    {
     "name": "stdout",
     "output_type": "stream",
     "text": [
      "Process  /Users/nhuantran/Downloads/Naruto Shippuuden English Subs/[HorribleSubs] Naruto Shippuuden - 145 [720p].ass\n"
     ]
    },
    {
     "name": "stderr",
     "output_type": "stream",
     "text": [
      "145it [1:53:18, 41.68s/it]"
     ]
    },
    {
     "name": "stdout",
     "output_type": "stream",
     "text": [
      "Process  /Users/nhuantran/Downloads/Naruto Shippuuden English Subs/[HorribleSubs] Naruto Shippuuden - 146 [720p].ass\n"
     ]
    },
    {
     "name": "stderr",
     "output_type": "stream",
     "text": [
      "146it [1:54:03, 42.77s/it]"
     ]
    },
    {
     "name": "stdout",
     "output_type": "stream",
     "text": [
      "Process  /Users/nhuantran/Downloads/Naruto Shippuuden English Subs/[HorribleSubs] Naruto Shippuuden - 147 [720p].ass\n"
     ]
    },
    {
     "name": "stderr",
     "output_type": "stream",
     "text": [
      "147it [1:54:52, 44.43s/it]"
     ]
    },
    {
     "name": "stdout",
     "output_type": "stream",
     "text": [
      "Process  /Users/nhuantran/Downloads/Naruto Shippuuden English Subs/[HorribleSubs] Naruto Shippuuden - 148 [720p].ass\n"
     ]
    },
    {
     "name": "stderr",
     "output_type": "stream",
     "text": [
      "148it [1:55:39, 45.24s/it]"
     ]
    },
    {
     "name": "stdout",
     "output_type": "stream",
     "text": [
      "Process  /Users/nhuantran/Downloads/Naruto Shippuuden English Subs/[HorribleSubs] Naruto Shippuuden - 149 [720p].ass\n"
     ]
    },
    {
     "name": "stderr",
     "output_type": "stream",
     "text": [
      "149it [1:56:36, 48.97s/it]"
     ]
    },
    {
     "name": "stdout",
     "output_type": "stream",
     "text": [
      "Process  /Users/nhuantran/Downloads/Naruto Shippuuden English Subs/[HorribleSubs] Naruto Shippuuden - 150 [720p].ass\n"
     ]
    },
    {
     "name": "stderr",
     "output_type": "stream",
     "text": [
      "150it [1:57:22, 48.08s/it]"
     ]
    },
    {
     "name": "stdout",
     "output_type": "stream",
     "text": [
      "Process  /Users/nhuantran/Downloads/Naruto Shippuuden English Subs/[HorribleSubs] Naruto Shippuuden - 151 [720p].ass\n"
     ]
    },
    {
     "name": "stderr",
     "output_type": "stream",
     "text": [
      "151it [1:58:00, 45.04s/it]"
     ]
    },
    {
     "name": "stdout",
     "output_type": "stream",
     "text": [
      "Process  /Users/nhuantran/Downloads/Naruto Shippuuden English Subs/[HorribleSubs] Naruto Shippuuden - 152 [720p].ass\n"
     ]
    },
    {
     "name": "stderr",
     "output_type": "stream",
     "text": [
      "152it [1:58:47, 45.63s/it]"
     ]
    },
    {
     "name": "stdout",
     "output_type": "stream",
     "text": [
      "Process  /Users/nhuantran/Downloads/Naruto Shippuuden English Subs/[HorribleSubs] Naruto Shippuuden - 153 [720p].ass\n"
     ]
    },
    {
     "name": "stderr",
     "output_type": "stream",
     "text": [
      "153it [1:59:30, 44.70s/it]"
     ]
    },
    {
     "name": "stdout",
     "output_type": "stream",
     "text": [
      "Process  /Users/nhuantran/Downloads/Naruto Shippuuden English Subs/[HorribleSubs] Naruto Shippuuden - 154 [720p].ass\n"
     ]
    },
    {
     "name": "stderr",
     "output_type": "stream",
     "text": [
      "154it [2:00:16, 45.12s/it]"
     ]
    },
    {
     "name": "stdout",
     "output_type": "stream",
     "text": [
      "Process  /Users/nhuantran/Downloads/Naruto Shippuuden English Subs/[HorribleSubs] Naruto Shippuuden - 155 [720p].ass\n"
     ]
    },
    {
     "name": "stderr",
     "output_type": "stream",
     "text": [
      "155it [2:01:05, 46.20s/it]"
     ]
    },
    {
     "name": "stdout",
     "output_type": "stream",
     "text": [
      "Process  /Users/nhuantran/Downloads/Naruto Shippuuden English Subs/[HorribleSubs] Naruto Shippuuden - 156 [720p].ass\n"
     ]
    },
    {
     "name": "stderr",
     "output_type": "stream",
     "text": [
      "156it [2:01:35, 41.53s/it]"
     ]
    },
    {
     "name": "stdout",
     "output_type": "stream",
     "text": [
      "Process  /Users/nhuantran/Downloads/Naruto Shippuuden English Subs/[HorribleSubs] Naruto Shippuuden - 157 [720p].ass\n"
     ]
    },
    {
     "name": "stderr",
     "output_type": "stream",
     "text": [
      "157it [2:02:22, 43.06s/it]"
     ]
    },
    {
     "name": "stdout",
     "output_type": "stream",
     "text": [
      "Process  /Users/nhuantran/Downloads/Naruto Shippuuden English Subs/[HorribleSubs] Naruto Shippuuden - 158 [720p].ass\n"
     ]
    },
    {
     "name": "stderr",
     "output_type": "stream",
     "text": [
      "158it [2:03:07, 43.54s/it]"
     ]
    },
    {
     "name": "stdout",
     "output_type": "stream",
     "text": [
      "Process  /Users/nhuantran/Downloads/Naruto Shippuuden English Subs/[HorribleSubs] Naruto Shippuuden - 159 [720p].ass\n"
     ]
    },
    {
     "name": "stderr",
     "output_type": "stream",
     "text": [
      "159it [2:04:02, 47.10s/it]"
     ]
    },
    {
     "name": "stdout",
     "output_type": "stream",
     "text": [
      "Process  /Users/nhuantran/Downloads/Naruto Shippuuden English Subs/[HorribleSubs] Naruto Shippuuden - 160 [720p].ass\n"
     ]
    },
    {
     "name": "stderr",
     "output_type": "stream",
     "text": [
      "160it [2:04:56, 49.27s/it]"
     ]
    },
    {
     "name": "stdout",
     "output_type": "stream",
     "text": [
      "Process  /Users/nhuantran/Downloads/Naruto Shippuuden English Subs/[HorribleSubs] Naruto Shippuuden - 161 [720p].ass\n"
     ]
    },
    {
     "name": "stderr",
     "output_type": "stream",
     "text": [
      "161it [2:05:47, 49.80s/it]"
     ]
    },
    {
     "name": "stdout",
     "output_type": "stream",
     "text": [
      "Process  /Users/nhuantran/Downloads/Naruto Shippuuden English Subs/[HorribleSubs] Naruto Shippuuden - 162 [720p].ass\n"
     ]
    },
    {
     "name": "stderr",
     "output_type": "stream",
     "text": [
      "162it [2:06:30, 47.67s/it]"
     ]
    },
    {
     "name": "stdout",
     "output_type": "stream",
     "text": [
      "Process  /Users/nhuantran/Downloads/Naruto Shippuuden English Subs/[HorribleSubs] Naruto Shippuuden - 163 [720p].ass\n"
     ]
    },
    {
     "name": "stderr",
     "output_type": "stream",
     "text": [
      "163it [2:07:20, 48.37s/it]"
     ]
    },
    {
     "name": "stdout",
     "output_type": "stream",
     "text": [
      "Process  /Users/nhuantran/Downloads/Naruto Shippuuden English Subs/[HorribleSubs] Naruto Shippuuden - 164 [720p].ass\n"
     ]
    },
    {
     "name": "stderr",
     "output_type": "stream",
     "text": [
      "164it [2:08:07, 47.88s/it]"
     ]
    },
    {
     "name": "stdout",
     "output_type": "stream",
     "text": [
      "Process  /Users/nhuantran/Downloads/Naruto Shippuuden English Subs/[HorribleSubs] Naruto Shippuuden - 165 [720p].ass\n"
     ]
    },
    {
     "name": "stderr",
     "output_type": "stream",
     "text": [
      "165it [2:08:55, 48.07s/it]"
     ]
    },
    {
     "name": "stdout",
     "output_type": "stream",
     "text": [
      "Process  /Users/nhuantran/Downloads/Naruto Shippuuden English Subs/[HorribleSubs] Naruto Shippuuden - 166 [720p].ass\n"
     ]
    },
    {
     "name": "stderr",
     "output_type": "stream",
     "text": [
      "166it [2:09:35, 45.69s/it]"
     ]
    },
    {
     "name": "stdout",
     "output_type": "stream",
     "text": [
      "Process  /Users/nhuantran/Downloads/Naruto Shippuuden English Subs/[HorribleSubs] Naruto Shippuuden - 167 [720p].ass\n"
     ]
    },
    {
     "name": "stderr",
     "output_type": "stream",
     "text": [
      "167it [2:10:02, 39.93s/it]"
     ]
    },
    {
     "name": "stdout",
     "output_type": "stream",
     "text": [
      "Process  /Users/nhuantran/Downloads/Naruto Shippuuden English Subs/[HorribleSubs] Naruto Shippuuden - 168 [720p].ass\n"
     ]
    },
    {
     "name": "stderr",
     "output_type": "stream",
     "text": [
      "168it [2:10:56, 44.14s/it]"
     ]
    },
    {
     "name": "stdout",
     "output_type": "stream",
     "text": [
      "Process  /Users/nhuantran/Downloads/Naruto Shippuuden English Subs/[HorribleSubs] Naruto Shippuuden - 169 [720p].ass\n"
     ]
    },
    {
     "name": "stderr",
     "output_type": "stream",
     "text": [
      "169it [2:11:55, 48.55s/it]"
     ]
    },
    {
     "name": "stdout",
     "output_type": "stream",
     "text": [
      "Process  /Users/nhuantran/Downloads/Naruto Shippuuden English Subs/[HorribleSubs] Naruto Shippuuden - 170 [720p].ass\n"
     ]
    },
    {
     "name": "stderr",
     "output_type": "stream",
     "text": [
      "170it [2:12:55, 52.12s/it]"
     ]
    },
    {
     "name": "stdout",
     "output_type": "stream",
     "text": [
      "Process  /Users/nhuantran/Downloads/Naruto Shippuuden English Subs/[HorribleSubs] Naruto Shippuuden - 171 [720p].ass\n"
     ]
    },
    {
     "name": "stderr",
     "output_type": "stream",
     "text": [
      "171it [2:13:47, 52.06s/it]"
     ]
    },
    {
     "name": "stdout",
     "output_type": "stream",
     "text": [
      "Process  /Users/nhuantran/Downloads/Naruto Shippuuden English Subs/[HorribleSubs] Naruto Shippuuden - 172 [720p].ass\n"
     ]
    },
    {
     "name": "stderr",
     "output_type": "stream",
     "text": [
      "172it [2:14:28, 48.58s/it]"
     ]
    },
    {
     "name": "stdout",
     "output_type": "stream",
     "text": [
      "Process  /Users/nhuantran/Downloads/Naruto Shippuuden English Subs/[HorribleSubs] Naruto Shippuuden - 173 [720p].ass\n"
     ]
    },
    {
     "name": "stderr",
     "output_type": "stream",
     "text": [
      "173it [2:15:21, 50.14s/it]"
     ]
    },
    {
     "name": "stdout",
     "output_type": "stream",
     "text": [
      "Process  /Users/nhuantran/Downloads/Naruto Shippuuden English Subs/[HorribleSubs] Naruto Shippuuden - 174 [720p].ass\n"
     ]
    },
    {
     "name": "stderr",
     "output_type": "stream",
     "text": [
      "174it [2:16:06, 48.59s/it]"
     ]
    },
    {
     "name": "stdout",
     "output_type": "stream",
     "text": [
      "Process  /Users/nhuantran/Downloads/Naruto Shippuuden English Subs/[HorribleSubs] Naruto Shippuuden - 175 [720p].ass\n"
     ]
    },
    {
     "name": "stderr",
     "output_type": "stream",
     "text": [
      "175it [2:17:02, 50.61s/it]"
     ]
    },
    {
     "name": "stdout",
     "output_type": "stream",
     "text": [
      "Process  /Users/nhuantran/Downloads/Naruto Shippuuden English Subs/[HorribleSubs] Naruto Shippuuden - 176 [720p].ass\n"
     ]
    },
    {
     "name": "stderr",
     "output_type": "stream",
     "text": [
      "176it [2:17:48, 49.25s/it]"
     ]
    },
    {
     "name": "stdout",
     "output_type": "stream",
     "text": [
      "Process  /Users/nhuantran/Downloads/Naruto Shippuuden English Subs/[HorribleSubs] Naruto Shippuuden - 177 [720p].ass\n"
     ]
    },
    {
     "name": "stderr",
     "output_type": "stream",
     "text": [
      "177it [2:18:47, 52.30s/it]"
     ]
    },
    {
     "name": "stdout",
     "output_type": "stream",
     "text": [
      "Process  /Users/nhuantran/Downloads/Naruto Shippuuden English Subs/[HorribleSubs] Naruto Shippuuden - 178 [720p].ass\n"
     ]
    },
    {
     "name": "stderr",
     "output_type": "stream",
     "text": [
      "178it [2:19:38, 51.90s/it]"
     ]
    },
    {
     "name": "stdout",
     "output_type": "stream",
     "text": [
      "Process  /Users/nhuantran/Downloads/Naruto Shippuuden English Subs/[HorribleSubs] Naruto Shippuuden - 179 [720p].ass\n"
     ]
    },
    {
     "name": "stderr",
     "output_type": "stream",
     "text": [
      "179it [2:20:20, 48.92s/it]"
     ]
    },
    {
     "name": "stdout",
     "output_type": "stream",
     "text": [
      "Process  /Users/nhuantran/Downloads/Naruto Shippuuden English Subs/[HorribleSubs] Naruto Shippuuden - 180 [720p].ass\n"
     ]
    },
    {
     "name": "stderr",
     "output_type": "stream",
     "text": [
      "180it [2:21:07, 48.19s/it]"
     ]
    },
    {
     "name": "stdout",
     "output_type": "stream",
     "text": [
      "Process  /Users/nhuantran/Downloads/Naruto Shippuuden English Subs/[HorribleSubs] Naruto Shippuuden - 181 [720p].ass\n"
     ]
    },
    {
     "name": "stderr",
     "output_type": "stream",
     "text": [
      "181it [2:21:53, 47.81s/it]"
     ]
    },
    {
     "name": "stdout",
     "output_type": "stream",
     "text": [
      "Process  /Users/nhuantran/Downloads/Naruto Shippuuden English Subs/[HorribleSubs] Naruto Shippuuden - 182 [720p].ass\n"
     ]
    },
    {
     "name": "stderr",
     "output_type": "stream",
     "text": [
      "182it [2:22:47, 49.60s/it]"
     ]
    },
    {
     "name": "stdout",
     "output_type": "stream",
     "text": [
      "Process  /Users/nhuantran/Downloads/Naruto Shippuuden English Subs/[HorribleSubs] Naruto Shippuuden - 183 [720p].ass\n"
     ]
    },
    {
     "name": "stderr",
     "output_type": "stream",
     "text": [
      "183it [2:23:25, 45.94s/it]"
     ]
    },
    {
     "name": "stdout",
     "output_type": "stream",
     "text": [
      "Process  /Users/nhuantran/Downloads/Naruto Shippuuden English Subs/[HorribleSubs] Naruto Shippuuden - 184 [720p].ass\n"
     ]
    },
    {
     "name": "stderr",
     "output_type": "stream",
     "text": [
      "184it [2:24:09, 45.49s/it]"
     ]
    },
    {
     "name": "stdout",
     "output_type": "stream",
     "text": [
      "Process  /Users/nhuantran/Downloads/Naruto Shippuuden English Subs/[HorribleSubs] Naruto Shippuuden - 185 [720p].ass\n"
     ]
    },
    {
     "name": "stderr",
     "output_type": "stream",
     "text": [
      "185it [2:25:16, 51.78s/it]"
     ]
    },
    {
     "name": "stdout",
     "output_type": "stream",
     "text": [
      "Process  /Users/nhuantran/Downloads/Naruto Shippuuden English Subs/[HorribleSubs] Naruto Shippuuden - 186 [720p].ass\n"
     ]
    },
    {
     "name": "stderr",
     "output_type": "stream",
     "text": [
      "186it [2:26:16, 54.32s/it]"
     ]
    },
    {
     "name": "stdout",
     "output_type": "stream",
     "text": [
      "Process  /Users/nhuantran/Downloads/Naruto Shippuuden English Subs/[HorribleSubs] Naruto Shippuuden - 187 [720p].ass\n"
     ]
    },
    {
     "name": "stderr",
     "output_type": "stream",
     "text": [
      "187it [2:27:17, 56.44s/it]"
     ]
    },
    {
     "name": "stdout",
     "output_type": "stream",
     "text": [
      "Process  /Users/nhuantran/Downloads/Naruto Shippuuden English Subs/[HorribleSubs] Naruto Shippuuden - 188 [720p].ass\n"
     ]
    },
    {
     "name": "stderr",
     "output_type": "stream",
     "text": [
      "188it [2:27:56, 51.25s/it]"
     ]
    },
    {
     "name": "stdout",
     "output_type": "stream",
     "text": [
      "Process  /Users/nhuantran/Downloads/Naruto Shippuuden English Subs/[HorribleSubs] Naruto Shippuuden - 189 [720p].ass\n"
     ]
    },
    {
     "name": "stderr",
     "output_type": "stream",
     "text": [
      "189it [2:28:45, 50.53s/it]"
     ]
    },
    {
     "name": "stdout",
     "output_type": "stream",
     "text": [
      "Process  /Users/nhuantran/Downloads/Naruto Shippuuden English Subs/[HorribleSubs] Naruto Shippuuden - 190 [720p].ass\n"
     ]
    },
    {
     "name": "stderr",
     "output_type": "stream",
     "text": [
      "190it [2:29:33, 49.65s/it]"
     ]
    },
    {
     "name": "stdout",
     "output_type": "stream",
     "text": [
      "Process  /Users/nhuantran/Downloads/Naruto Shippuuden English Subs/[HorribleSubs] Naruto Shippuuden - 191 [720p].ass\n"
     ]
    },
    {
     "name": "stderr",
     "output_type": "stream",
     "text": [
      "191it [2:30:30, 51.97s/it]"
     ]
    },
    {
     "name": "stdout",
     "output_type": "stream",
     "text": [
      "Process  /Users/nhuantran/Downloads/Naruto Shippuuden English Subs/[HorribleSubs] Naruto Shippuuden - 192 [720p].ass\n"
     ]
    },
    {
     "name": "stderr",
     "output_type": "stream",
     "text": [
      "192it [2:31:15, 49.72s/it]"
     ]
    },
    {
     "name": "stdout",
     "output_type": "stream",
     "text": [
      "Process  /Users/nhuantran/Downloads/Naruto Shippuuden English Subs/[HorribleSubs] Naruto Shippuuden - 193 [720p].ass\n"
     ]
    },
    {
     "name": "stderr",
     "output_type": "stream",
     "text": [
      "193it [2:31:59, 48.12s/it]"
     ]
    },
    {
     "name": "stdout",
     "output_type": "stream",
     "text": [
      "Process  /Users/nhuantran/Downloads/Naruto Shippuuden English Subs/[HorribleSubs] Naruto Shippuuden - 194 [720p].ass\n"
     ]
    },
    {
     "name": "stderr",
     "output_type": "stream",
     "text": [
      "194it [2:32:34, 44.08s/it]"
     ]
    },
    {
     "name": "stdout",
     "output_type": "stream",
     "text": [
      "Process  /Users/nhuantran/Downloads/Naruto Shippuuden English Subs/[HorribleSubs] Naruto Shippuuden - 195 [720p].ass\n"
     ]
    },
    {
     "name": "stderr",
     "output_type": "stream",
     "text": [
      "195it [2:33:36, 49.44s/it]"
     ]
    },
    {
     "name": "stdout",
     "output_type": "stream",
     "text": [
      "Process  /Users/nhuantran/Downloads/Naruto Shippuuden English Subs/[HorribleSubs] Naruto Shippuuden - 196 [720p].ass\n"
     ]
    },
    {
     "name": "stderr",
     "output_type": "stream",
     "text": [
      "196it [2:34:42, 54.55s/it]"
     ]
    },
    {
     "name": "stdout",
     "output_type": "stream",
     "text": [
      "Process  /Users/nhuantran/Downloads/Naruto Shippuuden English Subs/[HorribleSubs] Naruto Shippuuden - 197 [720p].ass\n"
     ]
    },
    {
     "name": "stderr",
     "output_type": "stream",
     "text": [
      "197it [2:35:45, 57.03s/it]"
     ]
    },
    {
     "name": "stdout",
     "output_type": "stream",
     "text": [
      "Process  /Users/nhuantran/Downloads/Naruto Shippuuden English Subs/[HorribleSubs] Naruto Shippuuden - 198 [720p].ass\n"
     ]
    },
    {
     "name": "stderr",
     "output_type": "stream",
     "text": [
      "198it [2:36:37, 55.56s/it]"
     ]
    },
    {
     "name": "stdout",
     "output_type": "stream",
     "text": [
      "Process  /Users/nhuantran/Downloads/Naruto Shippuuden English Subs/[HorribleSubs] Naruto Shippuuden - 199 [720p].ass\n"
     ]
    },
    {
     "name": "stderr",
     "output_type": "stream",
     "text": [
      "199it [2:37:25, 53.18s/it]"
     ]
    },
    {
     "name": "stdout",
     "output_type": "stream",
     "text": [
      "Process  /Users/nhuantran/Downloads/Naruto Shippuuden English Subs/[HorribleSubs] Naruto Shippuuden - 200 [720p].ass\n"
     ]
    },
    {
     "name": "stderr",
     "output_type": "stream",
     "text": [
      "200it [2:38:15, 52.34s/it]"
     ]
    },
    {
     "name": "stdout",
     "output_type": "stream",
     "text": [
      "Process  /Users/nhuantran/Downloads/Naruto Shippuuden English Subs/[HorribleSubs] Naruto Shippuuden - 201 [720p].ass\n"
     ]
    },
    {
     "name": "stderr",
     "output_type": "stream",
     "text": [
      "201it [2:39:06, 52.01s/it]"
     ]
    },
    {
     "name": "stdout",
     "output_type": "stream",
     "text": [
      "Process  /Users/nhuantran/Downloads/Naruto Shippuuden English Subs/[HorribleSubs] Naruto Shippuuden - 202 [720p].ass\n"
     ]
    },
    {
     "name": "stderr",
     "output_type": "stream",
     "text": [
      "202it [2:39:50, 49.59s/it]"
     ]
    },
    {
     "name": "stdout",
     "output_type": "stream",
     "text": [
      "Process  /Users/nhuantran/Downloads/Naruto Shippuuden English Subs/[HorribleSubs] Naruto Shippuuden - 203 [720p].ass\n"
     ]
    },
    {
     "name": "stderr",
     "output_type": "stream",
     "text": [
      "203it [2:40:41, 49.84s/it]"
     ]
    },
    {
     "name": "stdout",
     "output_type": "stream",
     "text": [
      "Process  /Users/nhuantran/Downloads/Naruto Shippuuden English Subs/[HorribleSubs] Naruto Shippuuden - 204 [720p].ass\n"
     ]
    },
    {
     "name": "stderr",
     "output_type": "stream",
     "text": [
      "204it [2:41:21, 47.08s/it]"
     ]
    },
    {
     "name": "stdout",
     "output_type": "stream",
     "text": [
      "Process  /Users/nhuantran/Downloads/Naruto Shippuuden English Subs/[HorribleSubs] Naruto Shippuuden - 205 [720p].ass\n"
     ]
    },
    {
     "name": "stderr",
     "output_type": "stream",
     "text": [
      "205it [2:42:10, 47.59s/it]"
     ]
    },
    {
     "name": "stdout",
     "output_type": "stream",
     "text": [
      "Process  /Users/nhuantran/Downloads/Naruto Shippuuden English Subs/[HorribleSubs] Naruto Shippuuden - 206 [720p].ass\n"
     ]
    },
    {
     "name": "stderr",
     "output_type": "stream",
     "text": [
      "206it [2:42:58, 47.63s/it]"
     ]
    },
    {
     "name": "stdout",
     "output_type": "stream",
     "text": [
      "Process  /Users/nhuantran/Downloads/Naruto Shippuuden English Subs/[HorribleSubs] Naruto Shippuuden - 207 [720p].ass\n"
     ]
    },
    {
     "name": "stderr",
     "output_type": "stream",
     "text": [
      "207it [2:43:55, 50.60s/it]"
     ]
    },
    {
     "name": "stdout",
     "output_type": "stream",
     "text": [
      "Process  /Users/nhuantran/Downloads/Naruto Shippuuden English Subs/[HorribleSubs] Naruto Shippuuden - 208 [720p].ass\n"
     ]
    },
    {
     "name": "stderr",
     "output_type": "stream",
     "text": [
      "208it [2:44:44, 50.03s/it]"
     ]
    },
    {
     "name": "stdout",
     "output_type": "stream",
     "text": [
      "Process  /Users/nhuantran/Downloads/Naruto Shippuuden English Subs/[HorribleSubs] Naruto Shippuuden - 209 [720p].ass\n"
     ]
    },
    {
     "name": "stderr",
     "output_type": "stream",
     "text": [
      "209it [2:45:29, 48.49s/it]"
     ]
    },
    {
     "name": "stdout",
     "output_type": "stream",
     "text": [
      "Process  /Users/nhuantran/Downloads/Naruto Shippuuden English Subs/[HorribleSubs] Naruto Shippuuden - 210 [720p].ass\n"
     ]
    },
    {
     "name": "stderr",
     "output_type": "stream",
     "text": [
      "210it [2:46:24, 50.41s/it]"
     ]
    },
    {
     "name": "stdout",
     "output_type": "stream",
     "text": [
      "Process  /Users/nhuantran/Downloads/Naruto Shippuuden English Subs/[HorribleSubs] Naruto Shippuuden - 211 [720p].ass\n"
     ]
    },
    {
     "name": "stderr",
     "output_type": "stream",
     "text": [
      "211it [2:47:09, 48.89s/it]"
     ]
    },
    {
     "name": "stdout",
     "output_type": "stream",
     "text": [
      "Process  /Users/nhuantran/Downloads/Naruto Shippuuden English Subs/[HorribleSubs] Naruto Shippuuden - 212 [720p].ass\n"
     ]
    },
    {
     "name": "stderr",
     "output_type": "stream",
     "text": [
      "212it [2:47:54, 47.55s/it]"
     ]
    },
    {
     "name": "stdout",
     "output_type": "stream",
     "text": [
      "Process  /Users/nhuantran/Downloads/Naruto Shippuuden English Subs/[HorribleSubs] Naruto Shippuuden - 213 [720p].ass\n"
     ]
    },
    {
     "name": "stderr",
     "output_type": "stream",
     "text": [
      "213it [2:48:48, 49.62s/it]"
     ]
    },
    {
     "name": "stdout",
     "output_type": "stream",
     "text": [
      "Process  /Users/nhuantran/Downloads/Naruto Shippuuden English Subs/[HorribleSubs] Naruto Shippuuden - 214 [720p].ass\n"
     ]
    },
    {
     "name": "stderr",
     "output_type": "stream",
     "text": [
      "214it [2:49:32, 47.90s/it]"
     ]
    },
    {
     "name": "stdout",
     "output_type": "stream",
     "text": [
      "Process  /Users/nhuantran/Downloads/Naruto Shippuuden English Subs/[HorribleSubs] Naruto Shippuuden - 215 [720p].ass\n"
     ]
    },
    {
     "name": "stderr",
     "output_type": "stream",
     "text": [
      "215it [2:50:21, 48.40s/it]"
     ]
    },
    {
     "name": "stdout",
     "output_type": "stream",
     "text": [
      "Process  /Users/nhuantran/Downloads/Naruto Shippuuden English Subs/[HorribleSubs] Naruto Shippuuden - 216 [720p].ass\n"
     ]
    },
    {
     "name": "stderr",
     "output_type": "stream",
     "text": [
      "216it [2:51:10, 48.30s/it]"
     ]
    },
    {
     "name": "stdout",
     "output_type": "stream",
     "text": [
      "Process  /Users/nhuantran/Downloads/Naruto Shippuuden English Subs/[HorribleSubs] Naruto Shippuuden - 217 [720p].ass\n"
     ]
    },
    {
     "name": "stderr",
     "output_type": "stream",
     "text": [
      "217it [2:51:59, 48.78s/it]"
     ]
    },
    {
     "name": "stdout",
     "output_type": "stream",
     "text": [
      "Process  /Users/nhuantran/Downloads/Naruto Shippuuden English Subs/[HorribleSubs] Naruto Shippuuden - 218 [720p].ass\n"
     ]
    },
    {
     "name": "stderr",
     "output_type": "stream",
     "text": [
      "218it [2:52:54, 50.54s/it]"
     ]
    },
    {
     "name": "stdout",
     "output_type": "stream",
     "text": [
      "Process  /Users/nhuantran/Downloads/Naruto Shippuuden English Subs/[HorribleSubs] Naruto Shippuuden - 219 [720p].ass\n"
     ]
    },
    {
     "name": "stderr",
     "output_type": "stream",
     "text": [
      "219it [2:53:44, 50.20s/it]"
     ]
    },
    {
     "name": "stdout",
     "output_type": "stream",
     "text": [
      "Process  /Users/nhuantran/Downloads/Naruto Shippuuden English Subs/[HorribleSubs] Naruto Shippuuden - 220 [720p].ass\n"
     ]
    },
    {
     "name": "stderr",
     "output_type": "stream",
     "text": [
      "220it [2:54:30, 49.24s/it]"
     ]
    },
    {
     "name": "stdout",
     "output_type": "stream",
     "text": [
      "Process  /Users/nhuantran/Downloads/Naruto Shippuuden English Subs/[HorribleSubs] Naruto Shippuuden - 221 [720p].ass\n"
     ]
    },
    {
     "name": "stderr",
     "output_type": "stream",
     "text": [
      "221it [2:55:28, 51.82s/it]"
     ]
    },
    {
     "name": "stdout",
     "output_type": "stream",
     "text": [
      "Process  /Users/nhuantran/Downloads/Naruto Shippuuden English Subs/[HorribleSubs] Naruto Shippuuden - 222 [720p].ass\n"
     ]
    },
    {
     "name": "stderr",
     "output_type": "stream",
     "text": [
      "222it [2:56:23, 52.63s/it]"
     ]
    },
    {
     "name": "stdout",
     "output_type": "stream",
     "text": [
      "Process  /Users/nhuantran/Downloads/Naruto Shippuuden English Subs/[HorribleSubs] Naruto Shippuuden - 223 [720p].ass\n"
     ]
    },
    {
     "name": "stderr",
     "output_type": "stream",
     "text": [
      "223it [2:56:55, 46.37s/it]"
     ]
    },
    {
     "name": "stdout",
     "output_type": "stream",
     "text": [
      "Process  /Users/nhuantran/Downloads/Naruto Shippuuden English Subs/[HorribleSubs] Naruto Shippuuden - 224 [720p].ass\n"
     ]
    },
    {
     "name": "stderr",
     "output_type": "stream",
     "text": [
      "224it [2:57:46, 47.75s/it]"
     ]
    },
    {
     "name": "stdout",
     "output_type": "stream",
     "text": [
      "Process  /Users/nhuantran/Downloads/Naruto Shippuuden English Subs/[HorribleSubs] Naruto Shippuuden - 225 [720p].ass\n"
     ]
    },
    {
     "name": "stderr",
     "output_type": "stream",
     "text": [
      "225it [2:58:22, 44.49s/it]"
     ]
    },
    {
     "name": "stdout",
     "output_type": "stream",
     "text": [
      "Process  /Users/nhuantran/Downloads/Naruto Shippuuden English Subs/[HorribleSubs] Naruto Shippuuden - 226 [720p].ass\n"
     ]
    },
    {
     "name": "stderr",
     "output_type": "stream",
     "text": [
      "226it [2:59:03, 43.31s/it]"
     ]
    },
    {
     "name": "stdout",
     "output_type": "stream",
     "text": [
      "Process  /Users/nhuantran/Downloads/Naruto Shippuuden English Subs/[HorribleSubs] Naruto Shippuuden - 227 [720p].ass\n"
     ]
    },
    {
     "name": "stderr",
     "output_type": "stream",
     "text": [
      "227it [2:59:40, 41.29s/it]"
     ]
    },
    {
     "name": "stdout",
     "output_type": "stream",
     "text": [
      "Process  /Users/nhuantran/Downloads/Naruto Shippuuden English Subs/[HorribleSubs] Naruto Shippuuden - 228 [720p].ass\n"
     ]
    },
    {
     "name": "stderr",
     "output_type": "stream",
     "text": [
      "228it [3:00:19, 40.59s/it]"
     ]
    },
    {
     "name": "stdout",
     "output_type": "stream",
     "text": [
      "Process  /Users/nhuantran/Downloads/Naruto Shippuuden English Subs/[HorribleSubs] Naruto Shippuuden - 229 [720p].ass\n"
     ]
    },
    {
     "name": "stderr",
     "output_type": "stream",
     "text": [
      "229it [3:01:07, 42.94s/it]"
     ]
    },
    {
     "name": "stdout",
     "output_type": "stream",
     "text": [
      "Process  /Users/nhuantran/Downloads/Naruto Shippuuden English Subs/[HorribleSubs] Naruto Shippuuden - 230 [720p].ass\n"
     ]
    },
    {
     "name": "stderr",
     "output_type": "stream",
     "text": [
      "230it [3:01:54, 44.09s/it]"
     ]
    },
    {
     "name": "stdout",
     "output_type": "stream",
     "text": [
      "Process  /Users/nhuantran/Downloads/Naruto Shippuuden English Subs/[HorribleSubs] Naruto Shippuuden - 231 [720p].ass\n"
     ]
    },
    {
     "name": "stderr",
     "output_type": "stream",
     "text": [
      "231it [3:02:37, 43.78s/it]"
     ]
    },
    {
     "name": "stdout",
     "output_type": "stream",
     "text": [
      "Process  /Users/nhuantran/Downloads/Naruto Shippuuden English Subs/[HorribleSubs] Naruto Shippuuden - 232 [720p].ass\n"
     ]
    },
    {
     "name": "stderr",
     "output_type": "stream",
     "text": [
      "232it [3:03:18, 43.14s/it]"
     ]
    },
    {
     "name": "stdout",
     "output_type": "stream",
     "text": [
      "Process  /Users/nhuantran/Downloads/Naruto Shippuuden English Subs/[HorribleSubs] Naruto Shippuuden - 233 [720p].ass\n"
     ]
    },
    {
     "name": "stderr",
     "output_type": "stream",
     "text": [
      "233it [3:04:05, 44.03s/it]"
     ]
    },
    {
     "name": "stdout",
     "output_type": "stream",
     "text": [
      "Process  /Users/nhuantran/Downloads/Naruto Shippuuden English Subs/[HorribleSubs] Naruto Shippuuden - 234 [720p].ass\n"
     ]
    },
    {
     "name": "stderr",
     "output_type": "stream",
     "text": [
      "234it [3:04:39, 41.29s/it]"
     ]
    },
    {
     "name": "stdout",
     "output_type": "stream",
     "text": [
      "Process  /Users/nhuantran/Downloads/Naruto Shippuuden English Subs/[HorribleSubs] Naruto Shippuuden - 235 [720p].ass\n"
     ]
    },
    {
     "name": "stderr",
     "output_type": "stream",
     "text": [
      "235it [3:05:21, 41.22s/it]"
     ]
    },
    {
     "name": "stdout",
     "output_type": "stream",
     "text": [
      "Process  /Users/nhuantran/Downloads/Naruto Shippuuden English Subs/[HorribleSubs] Naruto Shippuuden - 236 [720p].ass\n"
     ]
    },
    {
     "name": "stderr",
     "output_type": "stream",
     "text": [
      "236it [3:06:11, 43.94s/it]"
     ]
    },
    {
     "name": "stdout",
     "output_type": "stream",
     "text": [
      "Process  /Users/nhuantran/Downloads/Naruto Shippuuden English Subs/[HorribleSubs] Naruto Shippuuden - 237 [720p].ass\n"
     ]
    },
    {
     "name": "stderr",
     "output_type": "stream",
     "text": [
      "237it [3:06:55, 43.99s/it]"
     ]
    },
    {
     "name": "stdout",
     "output_type": "stream",
     "text": [
      "Process  /Users/nhuantran/Downloads/Naruto Shippuuden English Subs/[HorribleSubs] Naruto Shippuuden - 238 [720p].ass\n"
     ]
    },
    {
     "name": "stderr",
     "output_type": "stream",
     "text": [
      "238it [3:07:31, 41.63s/it]"
     ]
    },
    {
     "name": "stdout",
     "output_type": "stream",
     "text": [
      "Process  /Users/nhuantran/Downloads/Naruto Shippuuden English Subs/[HorribleSubs] Naruto Shippuuden - 239 [720p].ass\n"
     ]
    },
    {
     "name": "stderr",
     "output_type": "stream",
     "text": [
      "239it [3:08:18, 43.19s/it]"
     ]
    },
    {
     "name": "stdout",
     "output_type": "stream",
     "text": [
      "Process  /Users/nhuantran/Downloads/Naruto Shippuuden English Subs/[HorribleSubs] Naruto Shippuuden - 240 [720p].ass\n"
     ]
    },
    {
     "name": "stderr",
     "output_type": "stream",
     "text": [
      "240it [3:09:06, 44.61s/it]"
     ]
    },
    {
     "name": "stdout",
     "output_type": "stream",
     "text": [
      "Process  /Users/nhuantran/Downloads/Naruto Shippuuden English Subs/[HorribleSubs] Naruto Shippuuden - 241 [720p].ass\n"
     ]
    },
    {
     "name": "stderr",
     "output_type": "stream",
     "text": [
      "241it [3:09:57, 46.48s/it]"
     ]
    },
    {
     "name": "stdout",
     "output_type": "stream",
     "text": [
      "Process  /Users/nhuantran/Downloads/Naruto Shippuuden English Subs/[HorribleSubs] Naruto Shippuuden - 242 [720p].ass\n"
     ]
    },
    {
     "name": "stderr",
     "output_type": "stream",
     "text": [
      "242it [3:10:46, 47.47s/it]"
     ]
    },
    {
     "name": "stdout",
     "output_type": "stream",
     "text": [
      "Process  /Users/nhuantran/Downloads/Naruto Shippuuden English Subs/[HorribleSubs] Naruto Shippuuden - 243 [720p].ass\n"
     ]
    },
    {
     "name": "stderr",
     "output_type": "stream",
     "text": [
      "243it [3:11:45, 50.80s/it]"
     ]
    },
    {
     "name": "stdout",
     "output_type": "stream",
     "text": [
      "Process  /Users/nhuantran/Downloads/Naruto Shippuuden English Subs/[HorribleSubs] Naruto Shippuuden - 244 [720p].ass\n"
     ]
    },
    {
     "name": "stderr",
     "output_type": "stream",
     "text": [
      "244it [3:12:38, 51.51s/it]"
     ]
    },
    {
     "name": "stdout",
     "output_type": "stream",
     "text": [
      "Process  /Users/nhuantran/Downloads/Naruto Shippuuden English Subs/[HorribleSubs] Naruto Shippuuden - 245 [720p].ass\n"
     ]
    },
    {
     "name": "stderr",
     "output_type": "stream",
     "text": [
      "245it [3:13:47, 56.80s/it]"
     ]
    },
    {
     "name": "stdout",
     "output_type": "stream",
     "text": [
      "Process  /Users/nhuantran/Downloads/Naruto Shippuuden English Subs/[HorribleSubs] Naruto Shippuuden - 246 [720p].ass\n"
     ]
    },
    {
     "name": "stderr",
     "output_type": "stream",
     "text": [
      "246it [3:14:47, 57.69s/it]"
     ]
    },
    {
     "name": "stdout",
     "output_type": "stream",
     "text": [
      "Process  /Users/nhuantran/Downloads/Naruto Shippuuden English Subs/[HorribleSubs] Naruto Shippuuden - 247 [720p].ass\n"
     ]
    },
    {
     "name": "stderr",
     "output_type": "stream",
     "text": [
      "247it [3:15:28, 52.54s/it]"
     ]
    },
    {
     "name": "stdout",
     "output_type": "stream",
     "text": [
      "Process  /Users/nhuantran/Downloads/Naruto Shippuuden English Subs/[HorribleSubs] Naruto Shippuuden - 248 [720p].ass\n"
     ]
    },
    {
     "name": "stderr",
     "output_type": "stream",
     "text": [
      "248it [3:16:15, 51.05s/it]"
     ]
    },
    {
     "name": "stdout",
     "output_type": "stream",
     "text": [
      "Process  /Users/nhuantran/Downloads/Naruto Shippuuden English Subs/[HorribleSubs] Naruto Shippuuden - 249 [720p].ass\n"
     ]
    },
    {
     "name": "stderr",
     "output_type": "stream",
     "text": [
      "249it [3:17:03, 50.03s/it]"
     ]
    },
    {
     "name": "stdout",
     "output_type": "stream",
     "text": [
      "Process  /Users/nhuantran/Downloads/Naruto Shippuuden English Subs/[HorribleSubs] Naruto Shippuuden - 250 [720p].ass\n"
     ]
    },
    {
     "name": "stderr",
     "output_type": "stream",
     "text": [
      "250it [3:17:56, 50.98s/it]"
     ]
    },
    {
     "name": "stdout",
     "output_type": "stream",
     "text": [
      "Process  /Users/nhuantran/Downloads/Naruto Shippuuden English Subs/[HorribleSubs] Naruto Shippuuden - 251 [720p].ass\n"
     ]
    },
    {
     "name": "stderr",
     "output_type": "stream",
     "text": [
      "251it [3:18:48, 51.30s/it]"
     ]
    },
    {
     "name": "stdout",
     "output_type": "stream",
     "text": [
      "Process  /Users/nhuantran/Downloads/Naruto Shippuuden English Subs/[HorribleSubs] Naruto Shippuuden - 252 [720p].ass\n"
     ]
    },
    {
     "name": "stderr",
     "output_type": "stream",
     "text": [
      "252it [3:19:48, 54.01s/it]"
     ]
    },
    {
     "name": "stdout",
     "output_type": "stream",
     "text": [
      "Process  /Users/nhuantran/Downloads/Naruto Shippuuden English Subs/[HorribleSubs] Naruto Shippuuden - 253 [720p].ass\n"
     ]
    },
    {
     "name": "stderr",
     "output_type": "stream",
     "text": [
      "253it [3:20:27, 49.48s/it]"
     ]
    },
    {
     "name": "stdout",
     "output_type": "stream",
     "text": [
      "Process  /Users/nhuantran/Downloads/Naruto Shippuuden English Subs/[HorribleSubs] Naruto Shippuuden - 254 [720p].ass\n"
     ]
    },
    {
     "name": "stderr",
     "output_type": "stream",
     "text": [
      "254it [3:21:29, 53.04s/it]"
     ]
    },
    {
     "name": "stdout",
     "output_type": "stream",
     "text": [
      "Process  /Users/nhuantran/Downloads/Naruto Shippuuden English Subs/[HorribleSubs] Naruto Shippuuden - 255 [720p].ass\n"
     ]
    },
    {
     "name": "stderr",
     "output_type": "stream",
     "text": [
      "255it [3:22:34, 56.77s/it]"
     ]
    },
    {
     "name": "stdout",
     "output_type": "stream",
     "text": [
      "Process  /Users/nhuantran/Downloads/Naruto Shippuuden English Subs/[HorribleSubs] Naruto Shippuuden - 256 [720p].ass\n"
     ]
    },
    {
     "name": "stderr",
     "output_type": "stream",
     "text": [
      "256it [3:23:21, 53.72s/it]"
     ]
    },
    {
     "name": "stdout",
     "output_type": "stream",
     "text": [
      "Process  /Users/nhuantran/Downloads/Naruto Shippuuden English Subs/[HorribleSubs] Naruto Shippuuden - 257 [720p].ass\n"
     ]
    },
    {
     "name": "stderr",
     "output_type": "stream",
     "text": [
      "257it [3:23:53, 47.18s/it]"
     ]
    },
    {
     "name": "stdout",
     "output_type": "stream",
     "text": [
      "Process  /Users/nhuantran/Downloads/Naruto Shippuuden English Subs/[HorribleSubs] Naruto Shippuuden - 258 [720p].ass\n"
     ]
    },
    {
     "name": "stderr",
     "output_type": "stream",
     "text": [
      "258it [3:24:38, 46.73s/it]"
     ]
    },
    {
     "name": "stdout",
     "output_type": "stream",
     "text": [
      "Process  /Users/nhuantran/Downloads/Naruto Shippuuden English Subs/[HorribleSubs] Naruto Shippuuden - 259 [720p].ass\n"
     ]
    },
    {
     "name": "stderr",
     "output_type": "stream",
     "text": [
      "259it [3:25:33, 49.13s/it]"
     ]
    },
    {
     "name": "stdout",
     "output_type": "stream",
     "text": [
      "Process  /Users/nhuantran/Downloads/Naruto Shippuuden English Subs/[HorribleSubs] Naruto Shippuuden - 260 [720p].ass\n"
     ]
    },
    {
     "name": "stderr",
     "output_type": "stream",
     "text": [
      "260it [3:26:26, 50.27s/it]"
     ]
    },
    {
     "name": "stdout",
     "output_type": "stream",
     "text": [
      "Process  /Users/nhuantran/Downloads/Naruto Shippuuden English Subs/[HorribleSubs] Naruto Shippuuden - 261 [720p].ass\n"
     ]
    },
    {
     "name": "stderr",
     "output_type": "stream",
     "text": [
      "261it [3:27:17, 50.37s/it]"
     ]
    },
    {
     "name": "stdout",
     "output_type": "stream",
     "text": [
      "Process  /Users/nhuantran/Downloads/Naruto Shippuuden English Subs/[HorribleSubs] Naruto Shippuuden - 262 [720p].ass\n"
     ]
    },
    {
     "name": "stderr",
     "output_type": "stream",
     "text": [
      "262it [3:28:10, 51.30s/it]"
     ]
    },
    {
     "name": "stdout",
     "output_type": "stream",
     "text": [
      "Process  /Users/nhuantran/Downloads/Naruto Shippuuden English Subs/[HorribleSubs] Naruto Shippuuden - 263 [720p].ass\n"
     ]
    },
    {
     "name": "stderr",
     "output_type": "stream",
     "text": [
      "263it [3:29:08, 53.44s/it]"
     ]
    },
    {
     "name": "stdout",
     "output_type": "stream",
     "text": [
      "Process  /Users/nhuantran/Downloads/Naruto Shippuuden English Subs/[HorribleSubs] Naruto Shippuuden - 264 [720p].ass\n"
     ]
    },
    {
     "name": "stderr",
     "output_type": "stream",
     "text": [
      "264it [3:30:32, 62.44s/it]"
     ]
    },
    {
     "name": "stdout",
     "output_type": "stream",
     "text": [
      "Process  /Users/nhuantran/Downloads/Naruto Shippuuden English Subs/[HorribleSubs] Naruto Shippuuden - 265 [720p].ass\n"
     ]
    },
    {
     "name": "stderr",
     "output_type": "stream",
     "text": [
      "265it [3:31:34, 62.27s/it]"
     ]
    },
    {
     "name": "stdout",
     "output_type": "stream",
     "text": [
      "Process  /Users/nhuantran/Downloads/Naruto Shippuuden English Subs/[HorribleSubs] Naruto Shippuuden - 266 [720p].ass\n"
     ]
    },
    {
     "name": "stderr",
     "output_type": "stream",
     "text": [
      "266it [3:32:20, 57.55s/it]"
     ]
    },
    {
     "name": "stdout",
     "output_type": "stream",
     "text": [
      "Process  /Users/nhuantran/Downloads/Naruto Shippuuden English Subs/[HorribleSubs] Naruto Shippuuden - 267 [720p].ass\n"
     ]
    },
    {
     "name": "stderr",
     "output_type": "stream",
     "text": [
      "267it [3:33:02, 52.88s/it]"
     ]
    },
    {
     "name": "stdout",
     "output_type": "stream",
     "text": [
      "Process  /Users/nhuantran/Downloads/Naruto Shippuuden English Subs/[HorribleSubs] Naruto Shippuuden - 268 [720p].ass\n"
     ]
    },
    {
     "name": "stderr",
     "output_type": "stream",
     "text": [
      "268it [3:33:51, 51.52s/it]"
     ]
    },
    {
     "name": "stdout",
     "output_type": "stream",
     "text": [
      "Process  /Users/nhuantran/Downloads/Naruto Shippuuden English Subs/[HorribleSubs] Naruto Shippuuden - 269 [720p].ass\n"
     ]
    },
    {
     "name": "stderr",
     "output_type": "stream",
     "text": [
      "269it [3:34:55, 55.36s/it]"
     ]
    },
    {
     "name": "stdout",
     "output_type": "stream",
     "text": [
      "Process  /Users/nhuantran/Downloads/Naruto Shippuuden English Subs/[HorribleSubs] Naruto Shippuuden - 270 [720p].ass\n"
     ]
    },
    {
     "name": "stderr",
     "output_type": "stream",
     "text": [
      "270it [3:36:08, 60.60s/it]"
     ]
    },
    {
     "name": "stdout",
     "output_type": "stream",
     "text": [
      "Process  /Users/nhuantran/Downloads/Naruto Shippuuden English Subs/[HorribleSubs] Naruto Shippuuden - 271 [720p].ass\n"
     ]
    },
    {
     "name": "stderr",
     "output_type": "stream",
     "text": [
      "271it [3:37:06, 59.76s/it]"
     ]
    },
    {
     "name": "stdout",
     "output_type": "stream",
     "text": [
      "Process  /Users/nhuantran/Downloads/Naruto Shippuuden English Subs/[HorribleSubs] Naruto Shippuuden - 272 [720p].ass\n"
     ]
    },
    {
     "name": "stderr",
     "output_type": "stream",
     "text": [
      "272it [3:38:15, 62.67s/it]"
     ]
    },
    {
     "name": "stdout",
     "output_type": "stream",
     "text": [
      "Process  /Users/nhuantran/Downloads/Naruto Shippuuden English Subs/[HorribleSubs] Naruto Shippuuden - 273 [720p].ass\n"
     ]
    },
    {
     "name": "stderr",
     "output_type": "stream",
     "text": [
      "273it [3:39:21, 63.60s/it]"
     ]
    },
    {
     "name": "stdout",
     "output_type": "stream",
     "text": [
      "Process  /Users/nhuantran/Downloads/Naruto Shippuuden English Subs/[HorribleSubs] Naruto Shippuuden - 274 [720p].ass\n"
     ]
    },
    {
     "name": "stderr",
     "output_type": "stream",
     "text": [
      "274it [3:40:36, 67.09s/it]"
     ]
    },
    {
     "name": "stdout",
     "output_type": "stream",
     "text": [
      "Process  /Users/nhuantran/Downloads/Naruto Shippuuden English Subs/[HorribleSubs] Naruto Shippuuden - 275 [720p].ass\n"
     ]
    },
    {
     "name": "stderr",
     "output_type": "stream",
     "text": [
      "275it [3:41:39, 65.72s/it]"
     ]
    },
    {
     "name": "stdout",
     "output_type": "stream",
     "text": [
      "Process  /Users/nhuantran/Downloads/Naruto Shippuuden English Subs/[HorribleSubs] Naruto Shippuuden - 276 [720p].ass\n"
     ]
    },
    {
     "name": "stderr",
     "output_type": "stream",
     "text": [
      "276it [3:42:36, 63.32s/it]"
     ]
    },
    {
     "name": "stdout",
     "output_type": "stream",
     "text": [
      "Process  /Users/nhuantran/Downloads/Naruto Shippuuden English Subs/[HorribleSubs] Naruto Shippuuden - 277 [720p].ass\n"
     ]
    },
    {
     "name": "stderr",
     "output_type": "stream",
     "text": [
      "277it [3:43:32, 61.11s/it]"
     ]
    },
    {
     "name": "stdout",
     "output_type": "stream",
     "text": [
      "Process  /Users/nhuantran/Downloads/Naruto Shippuuden English Subs/[HorribleSubs] Naruto Shippuuden - 278 [720p].ass\n"
     ]
    },
    {
     "name": "stderr",
     "output_type": "stream",
     "text": [
      "278it [3:44:19, 56.74s/it]"
     ]
    },
    {
     "name": "stdout",
     "output_type": "stream",
     "text": [
      "Process  /Users/nhuantran/Downloads/Naruto Shippuuden English Subs/[HorribleSubs] Naruto Shippuuden - 279 [720p].ass\n"
     ]
    },
    {
     "name": "stderr",
     "output_type": "stream",
     "text": [
      "279it [3:45:18, 57.54s/it]"
     ]
    },
    {
     "name": "stdout",
     "output_type": "stream",
     "text": [
      "Process  /Users/nhuantran/Downloads/Naruto Shippuuden English Subs/[HorribleSubs] Naruto Shippuuden - 280 [720p].ass\n"
     ]
    },
    {
     "name": "stderr",
     "output_type": "stream",
     "text": [
      "280it [3:46:09, 55.48s/it]"
     ]
    },
    {
     "name": "stdout",
     "output_type": "stream",
     "text": [
      "Process  /Users/nhuantran/Downloads/Naruto Shippuuden English Subs/[HorribleSubs] Naruto Shippuuden - 281 [720p].ass\n"
     ]
    },
    {
     "name": "stderr",
     "output_type": "stream",
     "text": [
      "281it [3:47:00, 54.26s/it]"
     ]
    },
    {
     "name": "stdout",
     "output_type": "stream",
     "text": [
      "Process  /Users/nhuantran/Downloads/Naruto Shippuuden English Subs/[HorribleSubs] Naruto Shippuuden - 282 [720p].ass\n"
     ]
    },
    {
     "name": "stderr",
     "output_type": "stream",
     "text": [
      "282it [3:47:58, 55.13s/it]"
     ]
    },
    {
     "name": "stdout",
     "output_type": "stream",
     "text": [
      "Process  /Users/nhuantran/Downloads/Naruto Shippuuden English Subs/[HorribleSubs] Naruto Shippuuden - 283 [720p].ass\n"
     ]
    },
    {
     "name": "stderr",
     "output_type": "stream",
     "text": [
      "283it [3:49:06, 59.12s/it]"
     ]
    },
    {
     "name": "stdout",
     "output_type": "stream",
     "text": [
      "Process  /Users/nhuantran/Downloads/Naruto Shippuuden English Subs/[HorribleSubs] Naruto Shippuuden - 284 [720p].ass\n"
     ]
    },
    {
     "name": "stderr",
     "output_type": "stream",
     "text": [
      "284it [3:50:10, 60.50s/it]"
     ]
    },
    {
     "name": "stdout",
     "output_type": "stream",
     "text": [
      "Process  /Users/nhuantran/Downloads/Naruto Shippuuden English Subs/[HorribleSubs] Naruto Shippuuden - 285 [720p].ass\n"
     ]
    },
    {
     "name": "stderr",
     "output_type": "stream",
     "text": [
      "285it [3:51:06, 59.18s/it]"
     ]
    },
    {
     "name": "stdout",
     "output_type": "stream",
     "text": [
      "Process  /Users/nhuantran/Downloads/Naruto Shippuuden English Subs/[HorribleSubs] Naruto Shippuuden - 286 [720p].ass\n"
     ]
    },
    {
     "name": "stderr",
     "output_type": "stream",
     "text": [
      "286it [3:52:05, 59.18s/it]"
     ]
    },
    {
     "name": "stdout",
     "output_type": "stream",
     "text": [
      "Process  /Users/nhuantran/Downloads/Naruto Shippuuden English Subs/[HorribleSubs] Naruto Shippuuden - 287 [720p].ass\n"
     ]
    },
    {
     "name": "stderr",
     "output_type": "stream",
     "text": [
      "287it [3:52:49, 54.72s/it]"
     ]
    },
    {
     "name": "stdout",
     "output_type": "stream",
     "text": [
      "Process  /Users/nhuantran/Downloads/Naruto Shippuuden English Subs/[HorribleSubs] Naruto Shippuuden - 288 [720p].ass\n"
     ]
    },
    {
     "name": "stderr",
     "output_type": "stream",
     "text": [
      "288it [3:53:34, 51.70s/it]"
     ]
    },
    {
     "name": "stdout",
     "output_type": "stream",
     "text": [
      "Process  /Users/nhuantran/Downloads/Naruto Shippuuden English Subs/[HorribleSubs] Naruto Shippuuden - 289 [720p].ass\n"
     ]
    },
    {
     "name": "stderr",
     "output_type": "stream",
     "text": [
      "289it [3:54:19, 49.85s/it]"
     ]
    },
    {
     "name": "stdout",
     "output_type": "stream",
     "text": [
      "Process  /Users/nhuantran/Downloads/Naruto Shippuuden English Subs/[HorribleSubs] Naruto Shippuuden - 290 [720p].ass\n"
     ]
    },
    {
     "name": "stderr",
     "output_type": "stream",
     "text": [
      "290it [3:54:57, 46.14s/it]"
     ]
    },
    {
     "name": "stdout",
     "output_type": "stream",
     "text": [
      "Process  /Users/nhuantran/Downloads/Naruto Shippuuden English Subs/[HorribleSubs] Naruto Shippuuden - 291 [720p].ass\n"
     ]
    },
    {
     "name": "stderr",
     "output_type": "stream",
     "text": [
      "291it [3:55:39, 45.02s/it]"
     ]
    },
    {
     "name": "stdout",
     "output_type": "stream",
     "text": [
      "Process  /Users/nhuantran/Downloads/Naruto Shippuuden English Subs/[HorribleSubs] Naruto Shippuuden - 292 [720p].ass\n"
     ]
    },
    {
     "name": "stderr",
     "output_type": "stream",
     "text": [
      "292it [3:56:17, 42.81s/it]"
     ]
    },
    {
     "name": "stdout",
     "output_type": "stream",
     "text": [
      "Process  /Users/nhuantran/Downloads/Naruto Shippuuden English Subs/[HorribleSubs] Naruto Shippuuden - 293 [720p].ass\n"
     ]
    },
    {
     "name": "stderr",
     "output_type": "stream",
     "text": [
      "293it [3:56:57, 42.10s/it]"
     ]
    },
    {
     "name": "stdout",
     "output_type": "stream",
     "text": [
      "Process  /Users/nhuantran/Downloads/Naruto Shippuuden English Subs/[HorribleSubs] Naruto Shippuuden - 294 [720p].ass\n"
     ]
    },
    {
     "name": "stderr",
     "output_type": "stream",
     "text": [
      "294it [3:57:50, 45.34s/it]"
     ]
    },
    {
     "name": "stdout",
     "output_type": "stream",
     "text": [
      "Process  /Users/nhuantran/Downloads/Naruto Shippuuden English Subs/[HorribleSubs] Naruto Shippuuden - 295 [720p].ass\n"
     ]
    },
    {
     "name": "stderr",
     "output_type": "stream",
     "text": [
      "295it [3:58:38, 46.16s/it]"
     ]
    },
    {
     "name": "stdout",
     "output_type": "stream",
     "text": [
      "Process  /Users/nhuantran/Downloads/Naruto Shippuuden English Subs/[HorribleSubs] Naruto Shippuuden - 296 [720p].ass\n"
     ]
    },
    {
     "name": "stderr",
     "output_type": "stream",
     "text": [
      "296it [3:59:30, 47.81s/it]"
     ]
    },
    {
     "name": "stdout",
     "output_type": "stream",
     "text": [
      "Process  /Users/nhuantran/Downloads/Naruto Shippuuden English Subs/[HorribleSubs] Naruto Shippuuden - 297 [720p].ass\n"
     ]
    },
    {
     "name": "stderr",
     "output_type": "stream",
     "text": [
      "297it [4:00:12, 46.04s/it]"
     ]
    },
    {
     "name": "stdout",
     "output_type": "stream",
     "text": [
      "Process  /Users/nhuantran/Downloads/Naruto Shippuuden English Subs/[HorribleSubs] Naruto Shippuuden - 298 [720p].ass\n"
     ]
    },
    {
     "name": "stderr",
     "output_type": "stream",
     "text": [
      "298it [4:00:59, 46.31s/it]"
     ]
    },
    {
     "name": "stdout",
     "output_type": "stream",
     "text": [
      "Process  /Users/nhuantran/Downloads/Naruto Shippuuden English Subs/[HorribleSubs] Naruto Shippuuden - 299 [720p].ass\n"
     ]
    },
    {
     "name": "stderr",
     "output_type": "stream",
     "text": [
      "299it [4:02:01, 50.96s/it]"
     ]
    },
    {
     "name": "stdout",
     "output_type": "stream",
     "text": [
      "Process  /Users/nhuantran/Downloads/Naruto Shippuuden English Subs/[HorribleSubs] Naruto Shippuuden - 300 [720p].ass\n"
     ]
    },
    {
     "name": "stderr",
     "output_type": "stream",
     "text": [
      "300it [4:03:03, 54.29s/it]"
     ]
    },
    {
     "name": "stdout",
     "output_type": "stream",
     "text": [
      "Process  /Users/nhuantran/Downloads/Naruto Shippuuden English Subs/[HorribleSubs] Naruto Shippuuden - 301 [720p].ass\n"
     ]
    },
    {
     "name": "stderr",
     "output_type": "stream",
     "text": [
      "301it [4:04:09, 57.92s/it]"
     ]
    },
    {
     "name": "stdout",
     "output_type": "stream",
     "text": [
      "Process  /Users/nhuantran/Downloads/Naruto Shippuuden English Subs/[HorribleSubs] Naruto Shippuuden - 302 [720p].ass\n"
     ]
    },
    {
     "name": "stderr",
     "output_type": "stream",
     "text": [
      "302it [4:05:04, 56.97s/it]"
     ]
    },
    {
     "name": "stdout",
     "output_type": "stream",
     "text": [
      "Process  /Users/nhuantran/Downloads/Naruto Shippuuden English Subs/[HorribleSubs] Naruto Shippuuden - 303 [720p].ass\n"
     ]
    },
    {
     "name": "stderr",
     "output_type": "stream",
     "text": [
      "303it [4:06:16, 61.51s/it]"
     ]
    },
    {
     "name": "stdout",
     "output_type": "stream",
     "text": [
      "Process  /Users/nhuantran/Downloads/Naruto Shippuuden English Subs/[HorribleSubs] Naruto Shippuuden - 304 [720p].ass\n"
     ]
    },
    {
     "name": "stderr",
     "output_type": "stream",
     "text": [
      "304it [4:07:16, 61.03s/it]"
     ]
    },
    {
     "name": "stdout",
     "output_type": "stream",
     "text": [
      "Process  /Users/nhuantran/Downloads/Naruto Shippuuden English Subs/[HorribleSubs] Naruto Shippuuden - 305 [720p].ass\n"
     ]
    },
    {
     "name": "stderr",
     "output_type": "stream",
     "text": [
      "305it [4:08:14, 60.03s/it]"
     ]
    },
    {
     "name": "stdout",
     "output_type": "stream",
     "text": [
      "Process  /Users/nhuantran/Downloads/Naruto Shippuuden English Subs/[HorribleSubs] Naruto Shippuuden - 306 [720p].ass\n"
     ]
    },
    {
     "name": "stderr",
     "output_type": "stream",
     "text": [
      "306it [4:08:59, 55.63s/it]"
     ]
    },
    {
     "name": "stdout",
     "output_type": "stream",
     "text": [
      "Process  /Users/nhuantran/Downloads/Naruto Shippuuden English Subs/[HorribleSubs] Naruto Shippuuden - 307 [720p].ass\n"
     ]
    },
    {
     "name": "stderr",
     "output_type": "stream",
     "text": [
      "307it [4:09:47, 53.32s/it]"
     ]
    },
    {
     "name": "stdout",
     "output_type": "stream",
     "text": [
      "Process  /Users/nhuantran/Downloads/Naruto Shippuuden English Subs/[HorribleSubs] Naruto Shippuuden - 308 [720p].ass\n"
     ]
    },
    {
     "name": "stderr",
     "output_type": "stream",
     "text": [
      "308it [4:10:26, 49.00s/it]"
     ]
    },
    {
     "name": "stdout",
     "output_type": "stream",
     "text": [
      "Process  /Users/nhuantran/Downloads/Naruto Shippuuden English Subs/[HorribleSubs] Naruto Shippuuden - 309 [720p].ass\n"
     ]
    },
    {
     "name": "stderr",
     "output_type": "stream",
     "text": [
      "309it [4:11:11, 47.71s/it]"
     ]
    },
    {
     "name": "stdout",
     "output_type": "stream",
     "text": [
      "Process  /Users/nhuantran/Downloads/Naruto Shippuuden English Subs/[HorribleSubs] Naruto Shippuuden - 310 [720p].ass\n"
     ]
    },
    {
     "name": "stderr",
     "output_type": "stream",
     "text": [
      "310it [4:11:56, 46.99s/it]"
     ]
    },
    {
     "name": "stdout",
     "output_type": "stream",
     "text": [
      "Process  /Users/nhuantran/Downloads/Naruto Shippuuden English Subs/[HorribleSubs] Naruto Shippuuden - 311 [720p].ass\n"
     ]
    },
    {
     "name": "stderr",
     "output_type": "stream",
     "text": [
      "311it [4:12:45, 47.70s/it]"
     ]
    },
    {
     "name": "stdout",
     "output_type": "stream",
     "text": [
      "Process  /Users/nhuantran/Downloads/Naruto Shippuuden English Subs/[HorribleSubs] Naruto Shippuuden - 312 [720p].ass\n"
     ]
    },
    {
     "name": "stderr",
     "output_type": "stream",
     "text": [
      "312it [4:13:35, 48.28s/it]"
     ]
    },
    {
     "name": "stdout",
     "output_type": "stream",
     "text": [
      "Process  /Users/nhuantran/Downloads/Naruto Shippuuden English Subs/[HorribleSubs] Naruto Shippuuden - 313 [720p].ass\n"
     ]
    },
    {
     "name": "stderr",
     "output_type": "stream",
     "text": [
      "313it [4:14:07, 43.31s/it]"
     ]
    },
    {
     "name": "stdout",
     "output_type": "stream",
     "text": [
      "Process  /Users/nhuantran/Downloads/Naruto Shippuuden English Subs/[HorribleSubs] Naruto Shippuuden - 314 [720p].ass\n"
     ]
    },
    {
     "name": "stderr",
     "output_type": "stream",
     "text": [
      "314it [4:14:43, 41.25s/it]"
     ]
    },
    {
     "name": "stdout",
     "output_type": "stream",
     "text": [
      "Process  /Users/nhuantran/Downloads/Naruto Shippuuden English Subs/[HorribleSubs] Naruto Shippuuden - 315 [720p].ass\n"
     ]
    },
    {
     "name": "stderr",
     "output_type": "stream",
     "text": [
      "315it [4:15:27, 42.03s/it]"
     ]
    },
    {
     "name": "stdout",
     "output_type": "stream",
     "text": [
      "Process  /Users/nhuantran/Downloads/Naruto Shippuuden English Subs/[HorribleSubs] Naruto Shippuuden - 316 [720p].ass\n"
     ]
    },
    {
     "name": "stderr",
     "output_type": "stream",
     "text": [
      "316it [4:16:23, 46.14s/it]"
     ]
    },
    {
     "name": "stdout",
     "output_type": "stream",
     "text": [
      "Process  /Users/nhuantran/Downloads/Naruto Shippuuden English Subs/[HorribleSubs] Naruto Shippuuden - 317 [720p].ass\n"
     ]
    },
    {
     "name": "stderr",
     "output_type": "stream",
     "text": [
      "317it [4:17:10, 46.52s/it]"
     ]
    },
    {
     "name": "stdout",
     "output_type": "stream",
     "text": [
      "Process  /Users/nhuantran/Downloads/Naruto Shippuuden English Subs/[HorribleSubs] Naruto Shippuuden - 318 [720p].ass\n"
     ]
    },
    {
     "name": "stderr",
     "output_type": "stream",
     "text": [
      "318it [4:17:56, 46.30s/it]"
     ]
    },
    {
     "name": "stdout",
     "output_type": "stream",
     "text": [
      "Process  /Users/nhuantran/Downloads/Naruto Shippuuden English Subs/[HorribleSubs] Naruto Shippuuden - 319 [720p].ass\n"
     ]
    },
    {
     "name": "stderr",
     "output_type": "stream",
     "text": [
      "319it [4:18:37, 44.72s/it]"
     ]
    },
    {
     "name": "stdout",
     "output_type": "stream",
     "text": [
      "Process  /Users/nhuantran/Downloads/Naruto Shippuuden English Subs/[HorribleSubs] Naruto Shippuuden - 320 [720p].ass\n"
     ]
    },
    {
     "name": "stderr",
     "output_type": "stream",
     "text": [
      "320it [4:19:16, 43.11s/it]"
     ]
    },
    {
     "name": "stdout",
     "output_type": "stream",
     "text": [
      "Process  /Users/nhuantran/Downloads/Naruto Shippuuden English Subs/[HorribleSubs] Naruto Shippuuden - 321 [720p].ass\n"
     ]
    },
    {
     "name": "stderr",
     "output_type": "stream",
     "text": [
      "321it [4:20:06, 45.24s/it]"
     ]
    },
    {
     "name": "stdout",
     "output_type": "stream",
     "text": [
      "Process  /Users/nhuantran/Downloads/Naruto Shippuuden English Subs/[HorribleSubs] Naruto Shippuuden - 322 [720p].ass\n"
     ]
    },
    {
     "name": "stderr",
     "output_type": "stream",
     "text": [
      "322it [4:21:01, 48.03s/it]"
     ]
    },
    {
     "name": "stdout",
     "output_type": "stream",
     "text": [
      "Process  /Users/nhuantran/Downloads/Naruto Shippuuden English Subs/[HorribleSubs] Naruto Shippuuden - 323 [720p].ass\n"
     ]
    },
    {
     "name": "stderr",
     "output_type": "stream",
     "text": [
      "323it [4:21:48, 47.85s/it]"
     ]
    },
    {
     "name": "stdout",
     "output_type": "stream",
     "text": [
      "Process  /Users/nhuantran/Downloads/Naruto Shippuuden English Subs/[HorribleSubs] Naruto Shippuuden - 324 [720p].ass\n"
     ]
    },
    {
     "name": "stderr",
     "output_type": "stream",
     "text": [
      "324it [4:22:34, 47.08s/it]"
     ]
    },
    {
     "name": "stdout",
     "output_type": "stream",
     "text": [
      "Process  /Users/nhuantran/Downloads/Naruto Shippuuden English Subs/[HorribleSubs] Naruto Shippuuden - 325 [720p].ass\n"
     ]
    },
    {
     "name": "stderr",
     "output_type": "stream",
     "text": [
      "325it [4:23:25, 48.42s/it]"
     ]
    },
    {
     "name": "stdout",
     "output_type": "stream",
     "text": [
      "Process  /Users/nhuantran/Downloads/Naruto Shippuuden English Subs/[HorribleSubs] Naruto Shippuuden - 326 [720p].ass\n"
     ]
    },
    {
     "name": "stderr",
     "output_type": "stream",
     "text": [
      "326it [4:24:21, 50.59s/it]"
     ]
    },
    {
     "name": "stdout",
     "output_type": "stream",
     "text": [
      "Process  /Users/nhuantran/Downloads/Naruto Shippuuden English Subs/[HorribleSubs] Naruto Shippuuden - 327 [720p].ass\n"
     ]
    },
    {
     "name": "stderr",
     "output_type": "stream",
     "text": [
      "327it [4:25:03, 48.00s/it]"
     ]
    },
    {
     "name": "stdout",
     "output_type": "stream",
     "text": [
      "Process  /Users/nhuantran/Downloads/Naruto Shippuuden English Subs/[HorribleSubs] Naruto Shippuuden - 328 [720p].ass\n"
     ]
    },
    {
     "name": "stderr",
     "output_type": "stream",
     "text": [
      "328it [4:25:51, 47.95s/it]"
     ]
    },
    {
     "name": "stdout",
     "output_type": "stream",
     "text": [
      "Process  /Users/nhuantran/Downloads/Naruto Shippuuden English Subs/[HorribleSubs] Naruto Shippuuden - 329 [720p].ass\n"
     ]
    },
    {
     "name": "stderr",
     "output_type": "stream",
     "text": [
      "329it [4:26:47, 50.45s/it]"
     ]
    },
    {
     "name": "stdout",
     "output_type": "stream",
     "text": [
      "Process  /Users/nhuantran/Downloads/Naruto Shippuuden English Subs/[HorribleSubs] Naruto Shippuuden - 330 [720p].ass\n"
     ]
    },
    {
     "name": "stderr",
     "output_type": "stream",
     "text": [
      "330it [4:27:50, 54.24s/it]"
     ]
    },
    {
     "name": "stdout",
     "output_type": "stream",
     "text": [
      "Process  /Users/nhuantran/Downloads/Naruto Shippuuden English Subs/[HorribleSubs] Naruto Shippuuden - 331 [720p].ass\n"
     ]
    },
    {
     "name": "stderr",
     "output_type": "stream",
     "text": [
      "331it [4:28:42, 53.57s/it]"
     ]
    },
    {
     "name": "stdout",
     "output_type": "stream",
     "text": [
      "Process  /Users/nhuantran/Downloads/Naruto Shippuuden English Subs/[HorribleSubs] Naruto Shippuuden - 332 [720p].ass\n"
     ]
    },
    {
     "name": "stderr",
     "output_type": "stream",
     "text": [
      "332it [4:29:33, 52.84s/it]"
     ]
    },
    {
     "name": "stdout",
     "output_type": "stream",
     "text": [
      "Process  /Users/nhuantran/Downloads/Naruto Shippuuden English Subs/[HorribleSubs] Naruto Shippuuden - 333 [720p].ass\n"
     ]
    },
    {
     "name": "stderr",
     "output_type": "stream",
     "text": [
      "333it [4:30:31, 54.26s/it]"
     ]
    },
    {
     "name": "stdout",
     "output_type": "stream",
     "text": [
      "Process  /Users/nhuantran/Downloads/Naruto Shippuuden English Subs/[HorribleSubs] Naruto Shippuuden - 334 [720p].ass\n"
     ]
    },
    {
     "name": "stderr",
     "output_type": "stream",
     "text": [
      "334it [4:31:30, 55.73s/it]"
     ]
    },
    {
     "name": "stdout",
     "output_type": "stream",
     "text": [
      "Process  /Users/nhuantran/Downloads/Naruto Shippuuden English Subs/[HorribleSubs] Naruto Shippuuden - 335 [720p].ass\n"
     ]
    },
    {
     "name": "stderr",
     "output_type": "stream",
     "text": [
      "335it [4:32:38, 59.45s/it]"
     ]
    },
    {
     "name": "stdout",
     "output_type": "stream",
     "text": [
      "Process  /Users/nhuantran/Downloads/Naruto Shippuuden English Subs/[HorribleSubs] Naruto Shippuuden - 336 [720p].ass\n"
     ]
    },
    {
     "name": "stderr",
     "output_type": "stream",
     "text": [
      "336it [4:33:23, 55.22s/it]"
     ]
    },
    {
     "name": "stdout",
     "output_type": "stream",
     "text": [
      "Process  /Users/nhuantran/Downloads/Naruto Shippuuden English Subs/[HorribleSubs] Naruto Shippuuden - 337 [720p].ass\n"
     ]
    },
    {
     "name": "stderr",
     "output_type": "stream",
     "text": [
      "337it [4:34:08, 52.15s/it]"
     ]
    },
    {
     "name": "stdout",
     "output_type": "stream",
     "text": [
      "Process  /Users/nhuantran/Downloads/Naruto Shippuuden English Subs/[HorribleSubs] Naruto Shippuuden - 338 [720p].ass\n"
     ]
    },
    {
     "name": "stderr",
     "output_type": "stream",
     "text": [
      "338it [4:35:01, 52.22s/it]"
     ]
    },
    {
     "name": "stdout",
     "output_type": "stream",
     "text": [
      "Process  /Users/nhuantran/Downloads/Naruto Shippuuden English Subs/[HorribleSubs] Naruto Shippuuden - 339 [720p].ass\n"
     ]
    },
    {
     "name": "stderr",
     "output_type": "stream",
     "text": [
      "339it [4:35:40, 48.49s/it]"
     ]
    },
    {
     "name": "stdout",
     "output_type": "stream",
     "text": [
      "Process  /Users/nhuantran/Downloads/Naruto Shippuuden English Subs/[HorribleSubs] Naruto Shippuuden - 340 [720p].ass\n"
     ]
    },
    {
     "name": "stderr",
     "output_type": "stream",
     "text": [
      "340it [4:36:41, 52.20s/it]"
     ]
    },
    {
     "name": "stdout",
     "output_type": "stream",
     "text": [
      "Process  /Users/nhuantran/Downloads/Naruto Shippuuden English Subs/[HorribleSubs] Naruto Shippuuden - 341 [720p].ass\n"
     ]
    },
    {
     "name": "stderr",
     "output_type": "stream",
     "text": [
      "341it [4:37:42, 54.74s/it]"
     ]
    },
    {
     "name": "stdout",
     "output_type": "stream",
     "text": [
      "Process  /Users/nhuantran/Downloads/Naruto Shippuuden English Subs/[HorribleSubs] Naruto Shippuuden - 342 [720p].ass\n"
     ]
    },
    {
     "name": "stderr",
     "output_type": "stream",
     "text": [
      "342it [4:38:30, 52.68s/it]"
     ]
    },
    {
     "name": "stdout",
     "output_type": "stream",
     "text": [
      "Process  /Users/nhuantran/Downloads/Naruto Shippuuden English Subs/[HorribleSubs] Naruto Shippuuden - 343 [720p].ass\n"
     ]
    },
    {
     "name": "stderr",
     "output_type": "stream",
     "text": [
      "343it [4:39:09, 48.71s/it]"
     ]
    },
    {
     "name": "stdout",
     "output_type": "stream",
     "text": [
      "Process  /Users/nhuantran/Downloads/Naruto Shippuuden English Subs/[HorribleSubs] Naruto Shippuuden - 344 [720p].ass\n"
     ]
    },
    {
     "name": "stderr",
     "output_type": "stream",
     "text": [
      "344it [4:40:11, 52.69s/it]"
     ]
    },
    {
     "name": "stdout",
     "output_type": "stream",
     "text": [
      "Process  /Users/nhuantran/Downloads/Naruto Shippuuden English Subs/[HorribleSubs] Naruto Shippuuden - 345 [720p].ass\n"
     ]
    },
    {
     "name": "stderr",
     "output_type": "stream",
     "text": [
      "345it [4:40:58, 51.01s/it]"
     ]
    },
    {
     "name": "stdout",
     "output_type": "stream",
     "text": [
      "Process  /Users/nhuantran/Downloads/Naruto Shippuuden English Subs/[HorribleSubs] Naruto Shippuuden - 346 [720p].ass\n"
     ]
    },
    {
     "name": "stderr",
     "output_type": "stream",
     "text": [
      "346it [4:41:48, 50.68s/it]"
     ]
    },
    {
     "name": "stdout",
     "output_type": "stream",
     "text": [
      "Process  /Users/nhuantran/Downloads/Naruto Shippuuden English Subs/[HorribleSubs] Naruto Shippuuden - 347 [720p].ass\n"
     ]
    },
    {
     "name": "stderr",
     "output_type": "stream",
     "text": [
      "347it [4:42:39, 50.57s/it]"
     ]
    },
    {
     "name": "stdout",
     "output_type": "stream",
     "text": [
      "Process  /Users/nhuantran/Downloads/Naruto Shippuuden English Subs/[HorribleSubs] Naruto Shippuuden - 348 [720p].ass\n"
     ]
    },
    {
     "name": "stderr",
     "output_type": "stream",
     "text": [
      "348it [4:43:33, 51.84s/it]"
     ]
    },
    {
     "name": "stdout",
     "output_type": "stream",
     "text": [
      "Process  /Users/nhuantran/Downloads/Naruto Shippuuden English Subs/[HorribleSubs] Naruto Shippuuden - 349 [720p].ass\n"
     ]
    },
    {
     "name": "stderr",
     "output_type": "stream",
     "text": [
      "349it [4:44:08, 46.73s/it]"
     ]
    },
    {
     "name": "stdout",
     "output_type": "stream",
     "text": [
      "Process  /Users/nhuantran/Downloads/Naruto Shippuuden English Subs/[HorribleSubs] Naruto Shippuuden - 350 [720p].ass\n"
     ]
    },
    {
     "name": "stderr",
     "output_type": "stream",
     "text": [
      "350it [4:44:50, 45.33s/it]"
     ]
    },
    {
     "name": "stdout",
     "output_type": "stream",
     "text": [
      "Process  /Users/nhuantran/Downloads/Naruto Shippuuden English Subs/[HorribleSubs] Naruto Shippuuden - 351 [720p].ass\n"
     ]
    },
    {
     "name": "stderr",
     "output_type": "stream",
     "text": [
      "351it [4:45:39, 46.36s/it]"
     ]
    },
    {
     "name": "stdout",
     "output_type": "stream",
     "text": [
      "Process  /Users/nhuantran/Downloads/Naruto Shippuuden English Subs/[HorribleSubs] Naruto Shippuuden - 352 [720p].ass\n"
     ]
    },
    {
     "name": "stderr",
     "output_type": "stream",
     "text": [
      "352it [4:46:17, 43.74s/it]"
     ]
    },
    {
     "name": "stdout",
     "output_type": "stream",
     "text": [
      "Process  /Users/nhuantran/Downloads/Naruto Shippuuden English Subs/[HorribleSubs] Naruto Shippuuden - 353 [720p].ass\n"
     ]
    },
    {
     "name": "stderr",
     "output_type": "stream",
     "text": [
      "353it [4:47:09, 46.43s/it]"
     ]
    },
    {
     "name": "stdout",
     "output_type": "stream",
     "text": [
      "Process  /Users/nhuantran/Downloads/Naruto Shippuuden English Subs/[HorribleSubs] Naruto Shippuuden - 354 [720p].ass\n"
     ]
    },
    {
     "name": "stderr",
     "output_type": "stream",
     "text": [
      "354it [4:47:46, 43.40s/it]"
     ]
    },
    {
     "name": "stdout",
     "output_type": "stream",
     "text": [
      "Process  /Users/nhuantran/Downloads/Naruto Shippuuden English Subs/[HorribleSubs] Naruto Shippuuden - 355 [720p].ass\n"
     ]
    },
    {
     "name": "stderr",
     "output_type": "stream",
     "text": [
      "355it [4:48:29, 43.34s/it]"
     ]
    },
    {
     "name": "stdout",
     "output_type": "stream",
     "text": [
      "Process  /Users/nhuantran/Downloads/Naruto Shippuuden English Subs/[HorribleSubs] Naruto Shippuuden - 356 [720p].ass\n"
     ]
    },
    {
     "name": "stderr",
     "output_type": "stream",
     "text": [
      "356it [4:49:18, 45.15s/it]"
     ]
    },
    {
     "name": "stdout",
     "output_type": "stream",
     "text": [
      "Process  /Users/nhuantran/Downloads/Naruto Shippuuden English Subs/[HorribleSubs] Naruto Shippuuden - 357 [720p].ass\n"
     ]
    },
    {
     "name": "stderr",
     "output_type": "stream",
     "text": [
      "357it [4:50:21, 50.50s/it]"
     ]
    },
    {
     "name": "stdout",
     "output_type": "stream",
     "text": [
      "Process  /Users/nhuantran/Downloads/Naruto Shippuuden English Subs/[HorribleSubs] Naruto Shippuuden - 358 [720p].ass\n"
     ]
    },
    {
     "name": "stderr",
     "output_type": "stream",
     "text": [
      "358it [4:51:27, 55.05s/it]"
     ]
    },
    {
     "name": "stdout",
     "output_type": "stream",
     "text": [
      "Process  /Users/nhuantran/Downloads/Naruto Shippuuden English Subs/[HorribleSubs] Naruto Shippuuden - 359 [720p].ass\n"
     ]
    },
    {
     "name": "stderr",
     "output_type": "stream",
     "text": [
      "359it [4:52:18, 53.86s/it]"
     ]
    },
    {
     "name": "stdout",
     "output_type": "stream",
     "text": [
      "Process  /Users/nhuantran/Downloads/Naruto Shippuuden English Subs/[HorribleSubs] Naruto Shippuuden - 360 [720p].ass\n"
     ]
    },
    {
     "name": "stderr",
     "output_type": "stream",
     "text": [
      "360it [4:53:05, 51.80s/it]"
     ]
    },
    {
     "name": "stdout",
     "output_type": "stream",
     "text": [
      "Process  /Users/nhuantran/Downloads/Naruto Shippuuden English Subs/[HorribleSubs] Naruto Shippuuden - 361 [720p].ass\n"
     ]
    },
    {
     "name": "stderr",
     "output_type": "stream",
     "text": [
      "361it [4:54:02, 53.38s/it]"
     ]
    },
    {
     "name": "stdout",
     "output_type": "stream",
     "text": [
      "Process  /Users/nhuantran/Downloads/Naruto Shippuuden English Subs/[HorribleSubs] Naruto Shippuuden - 362 [720p].ass\n"
     ]
    },
    {
     "name": "stderr",
     "output_type": "stream",
     "text": [
      "362it [4:54:53, 52.75s/it]"
     ]
    },
    {
     "name": "stdout",
     "output_type": "stream",
     "text": [
      "Process  /Users/nhuantran/Downloads/Naruto Shippuuden English Subs/[HorribleSubs] Naruto Shippuuden - 363 [720p].ass\n"
     ]
    },
    {
     "name": "stderr",
     "output_type": "stream",
     "text": [
      "363it [4:55:43, 51.91s/it]"
     ]
    },
    {
     "name": "stdout",
     "output_type": "stream",
     "text": [
      "Process  /Users/nhuantran/Downloads/Naruto Shippuuden English Subs/[HorribleSubs] Naruto Shippuuden - 364 [720p].ass\n"
     ]
    },
    {
     "name": "stderr",
     "output_type": "stream",
     "text": [
      "364it [4:56:32, 50.98s/it]"
     ]
    },
    {
     "name": "stdout",
     "output_type": "stream",
     "text": [
      "Process  /Users/nhuantran/Downloads/Naruto Shippuuden English Subs/[HorribleSubs] Naruto Shippuuden - 365 [720p].ass\n"
     ]
    },
    {
     "name": "stderr",
     "output_type": "stream",
     "text": [
      "365it [4:57:34, 54.36s/it]"
     ]
    },
    {
     "name": "stdout",
     "output_type": "stream",
     "text": [
      "Process  /Users/nhuantran/Downloads/Naruto Shippuuden English Subs/[HorribleSubs] Naruto Shippuuden - 366 [720p].ass\n"
     ]
    },
    {
     "name": "stderr",
     "output_type": "stream",
     "text": [
      "366it [4:58:49, 60.56s/it]"
     ]
    },
    {
     "name": "stdout",
     "output_type": "stream",
     "text": [
      "Process  /Users/nhuantran/Downloads/Naruto Shippuuden English Subs/[HorribleSubs] Naruto Shippuuden - 367 [720p].ass\n"
     ]
    },
    {
     "name": "stderr",
     "output_type": "stream",
     "text": [
      "367it [4:59:42, 58.24s/it]"
     ]
    },
    {
     "name": "stdout",
     "output_type": "stream",
     "text": [
      "Process  /Users/nhuantran/Downloads/Naruto Shippuuden English Subs/[HorribleSubs] Naruto Shippuuden - 368 [720p].ass\n"
     ]
    },
    {
     "name": "stderr",
     "output_type": "stream",
     "text": [
      "368it [5:00:19, 51.87s/it]"
     ]
    },
    {
     "name": "stdout",
     "output_type": "stream",
     "text": [
      "Process  /Users/nhuantran/Downloads/Naruto Shippuuden English Subs/[HorribleSubs] Naruto Shippuuden - 369 [720p].ass\n"
     ]
    },
    {
     "name": "stderr",
     "output_type": "stream",
     "text": [
      "369it [5:01:06, 50.38s/it]"
     ]
    },
    {
     "name": "stdout",
     "output_type": "stream",
     "text": [
      "Process  /Users/nhuantran/Downloads/Naruto Shippuuden English Subs/[HorribleSubs] Naruto Shippuuden - 370 [720p].ass\n"
     ]
    },
    {
     "name": "stderr",
     "output_type": "stream",
     "text": [
      "370it [5:02:15, 55.89s/it]"
     ]
    },
    {
     "name": "stdout",
     "output_type": "stream",
     "text": [
      "Process  /Users/nhuantran/Downloads/Naruto Shippuuden English Subs/[HorribleSubs] Naruto Shippuuden - 371 [720p].ass\n"
     ]
    },
    {
     "name": "stderr",
     "output_type": "stream",
     "text": [
      "371it [5:03:04, 53.99s/it]"
     ]
    },
    {
     "name": "stdout",
     "output_type": "stream",
     "text": [
      "Process  /Users/nhuantran/Downloads/Naruto Shippuuden English Subs/[HorribleSubs] Naruto Shippuuden - 372 [720p].ass\n"
     ]
    },
    {
     "name": "stderr",
     "output_type": "stream",
     "text": [
      "372it [5:03:54, 52.68s/it]"
     ]
    },
    {
     "name": "stdout",
     "output_type": "stream",
     "text": [
      "Process  /Users/nhuantran/Downloads/Naruto Shippuuden English Subs/[HorribleSubs] Naruto Shippuuden - 373 [720p].ass\n"
     ]
    },
    {
     "name": "stderr",
     "output_type": "stream",
     "text": [
      "373it [5:04:39, 50.39s/it]"
     ]
    },
    {
     "name": "stdout",
     "output_type": "stream",
     "text": [
      "Process  /Users/nhuantran/Downloads/Naruto Shippuuden English Subs/[HorribleSubs] Naruto Shippuuden - 374 [720p].ass\n"
     ]
    },
    {
     "name": "stderr",
     "output_type": "stream",
     "text": [
      "374it [5:05:24, 48.65s/it]"
     ]
    },
    {
     "name": "stdout",
     "output_type": "stream",
     "text": [
      "Process  /Users/nhuantran/Downloads/Naruto Shippuuden English Subs/[HorribleSubs] Naruto Shippuuden - 375 [720p].ass\n"
     ]
    },
    {
     "name": "stderr",
     "output_type": "stream",
     "text": [
      "375it [5:06:25, 52.41s/it]"
     ]
    },
    {
     "name": "stdout",
     "output_type": "stream",
     "text": [
      "Process  /Users/nhuantran/Downloads/Naruto Shippuuden English Subs/[HorribleSubs] Naruto Shippuuden - 376 [720p].ass\n"
     ]
    },
    {
     "name": "stderr",
     "output_type": "stream",
     "text": [
      "376it [5:07:08, 49.64s/it]"
     ]
    },
    {
     "name": "stdout",
     "output_type": "stream",
     "text": [
      "Process  /Users/nhuantran/Downloads/Naruto Shippuuden English Subs/[HorribleSubs] Naruto Shippuuden - 377 [720p].ass\n"
     ]
    },
    {
     "name": "stderr",
     "output_type": "stream",
     "text": [
      "377it [5:07:55, 48.95s/it]"
     ]
    },
    {
     "name": "stdout",
     "output_type": "stream",
     "text": [
      "Process  /Users/nhuantran/Downloads/Naruto Shippuuden English Subs/[HorribleSubs] Naruto Shippuuden - 378 [720p].ass\n"
     ]
    },
    {
     "name": "stderr",
     "output_type": "stream",
     "text": [
      "378it [5:08:31, 45.08s/it]"
     ]
    },
    {
     "name": "stdout",
     "output_type": "stream",
     "text": [
      "Process  /Users/nhuantran/Downloads/Naruto Shippuuden English Subs/[HorribleSubs] Naruto Shippuuden - 379 [720p].ass\n"
     ]
    },
    {
     "name": "stderr",
     "output_type": "stream",
     "text": [
      "379it [5:09:24, 47.37s/it]"
     ]
    },
    {
     "name": "stdout",
     "output_type": "stream",
     "text": [
      "Process  /Users/nhuantran/Downloads/Naruto Shippuuden English Subs/[HorribleSubs] Naruto Shippuuden - 380 [720p].ass\n"
     ]
    },
    {
     "name": "stderr",
     "output_type": "stream",
     "text": [
      "380it [5:10:04, 45.21s/it]"
     ]
    },
    {
     "name": "stdout",
     "output_type": "stream",
     "text": [
      "Process  /Users/nhuantran/Downloads/Naruto Shippuuden English Subs/[HorribleSubs] Naruto Shippuuden - 381 [720p].ass\n"
     ]
    },
    {
     "name": "stderr",
     "output_type": "stream",
     "text": [
      "381it [5:10:48, 44.86s/it]"
     ]
    },
    {
     "name": "stdout",
     "output_type": "stream",
     "text": [
      "Process  /Users/nhuantran/Downloads/Naruto Shippuuden English Subs/[HorribleSubs] Naruto Shippuuden - 382 [720p].ass\n"
     ]
    },
    {
     "name": "stderr",
     "output_type": "stream",
     "text": [
      "382it [5:11:41, 47.31s/it]"
     ]
    },
    {
     "name": "stdout",
     "output_type": "stream",
     "text": [
      "Process  /Users/nhuantran/Downloads/Naruto Shippuuden English Subs/[HorribleSubs] Naruto Shippuuden - 383 [720p].ass\n"
     ]
    },
    {
     "name": "stderr",
     "output_type": "stream",
     "text": [
      "383it [5:12:38, 50.13s/it]"
     ]
    },
    {
     "name": "stdout",
     "output_type": "stream",
     "text": [
      "Process  /Users/nhuantran/Downloads/Naruto Shippuuden English Subs/[HorribleSubs] Naruto Shippuuden - 384 [720p].ass\n"
     ]
    },
    {
     "name": "stderr",
     "output_type": "stream",
     "text": [
      "384it [5:13:20, 47.76s/it]"
     ]
    },
    {
     "name": "stdout",
     "output_type": "stream",
     "text": [
      "Process  /Users/nhuantran/Downloads/Naruto Shippuuden English Subs/[HorribleSubs] Naruto Shippuuden - 385 [720p].ass\n"
     ]
    },
    {
     "name": "stderr",
     "output_type": "stream",
     "text": [
      "385it [5:13:57, 44.45s/it]"
     ]
    },
    {
     "name": "stdout",
     "output_type": "stream",
     "text": [
      "Process  /Users/nhuantran/Downloads/Naruto Shippuuden English Subs/[HorribleSubs] Naruto Shippuuden - 386 [720p].ass\n"
     ]
    },
    {
     "name": "stderr",
     "output_type": "stream",
     "text": [
      "386it [5:14:35, 42.62s/it]"
     ]
    },
    {
     "name": "stdout",
     "output_type": "stream",
     "text": [
      "Process  /Users/nhuantran/Downloads/Naruto Shippuuden English Subs/[HorribleSubs] Naruto Shippuuden - 387 [720p].ass\n"
     ]
    },
    {
     "name": "stderr",
     "output_type": "stream",
     "text": [
      "387it [5:15:20, 43.14s/it]"
     ]
    },
    {
     "name": "stdout",
     "output_type": "stream",
     "text": [
      "Process  /Users/nhuantran/Downloads/Naruto Shippuuden English Subs/[HorribleSubs] Naruto Shippuuden - 388 [720p].ass\n"
     ]
    },
    {
     "name": "stderr",
     "output_type": "stream",
     "text": [
      "388it [5:16:08, 44.67s/it]"
     ]
    },
    {
     "name": "stdout",
     "output_type": "stream",
     "text": [
      "Process  /Users/nhuantran/Downloads/Naruto Shippuuden English Subs/[HorribleSubs] Naruto Shippuuden - 389 [720p].ass\n"
     ]
    },
    {
     "name": "stderr",
     "output_type": "stream",
     "text": [
      "389it [5:16:48, 43.28s/it]"
     ]
    },
    {
     "name": "stdout",
     "output_type": "stream",
     "text": [
      "Process  /Users/nhuantran/Downloads/Naruto Shippuuden English Subs/[HorribleSubs] Naruto Shippuuden - 390 [720p].ass\n"
     ]
    },
    {
     "name": "stderr",
     "output_type": "stream",
     "text": [
      "390it [5:17:33, 43.73s/it]"
     ]
    },
    {
     "name": "stdout",
     "output_type": "stream",
     "text": [
      "Process  /Users/nhuantran/Downloads/Naruto Shippuuden English Subs/[HorribleSubs] Naruto Shippuuden - 391 [720p].ass\n"
     ]
    },
    {
     "name": "stderr",
     "output_type": "stream",
     "text": [
      "391it [5:18:15, 43.30s/it]"
     ]
    },
    {
     "name": "stdout",
     "output_type": "stream",
     "text": [
      "Process  /Users/nhuantran/Downloads/Naruto Shippuuden English Subs/[HorribleSubs] Naruto Shippuuden - 392 [720p].ass\n"
     ]
    },
    {
     "name": "stderr",
     "output_type": "stream",
     "text": [
      "392it [5:19:05, 45.38s/it]"
     ]
    },
    {
     "name": "stdout",
     "output_type": "stream",
     "text": [
      "Process  /Users/nhuantran/Downloads/Naruto Shippuuden English Subs/[HorribleSubs] Naruto Shippuuden - 393 [720p].ass\n"
     ]
    },
    {
     "name": "stderr",
     "output_type": "stream",
     "text": [
      "393it [5:19:53, 46.22s/it]"
     ]
    },
    {
     "name": "stdout",
     "output_type": "stream",
     "text": [
      "Process  /Users/nhuantran/Downloads/Naruto Shippuuden English Subs/[HorribleSubs] Naruto Shippuuden - 394 [720p].ass\n"
     ]
    },
    {
     "name": "stderr",
     "output_type": "stream",
     "text": [
      "394it [5:20:38, 45.63s/it]"
     ]
    },
    {
     "name": "stdout",
     "output_type": "stream",
     "text": [
      "Process  /Users/nhuantran/Downloads/Naruto Shippuuden English Subs/[HorribleSubs] Naruto Shippuuden - 395 [720p].ass\n"
     ]
    },
    {
     "name": "stderr",
     "output_type": "stream",
     "text": [
      "395it [5:21:27, 46.79s/it]"
     ]
    },
    {
     "name": "stdout",
     "output_type": "stream",
     "text": [
      "Process  /Users/nhuantran/Downloads/Naruto Shippuuden English Subs/[HorribleSubs] Naruto Shippuuden - 396 [720p].ass\n"
     ]
    },
    {
     "name": "stderr",
     "output_type": "stream",
     "text": [
      "396it [5:22:14, 46.91s/it]"
     ]
    },
    {
     "name": "stdout",
     "output_type": "stream",
     "text": [
      "Process  /Users/nhuantran/Downloads/Naruto Shippuuden English Subs/[HorribleSubs] Naruto Shippuuden - 397 [720p].ass\n"
     ]
    },
    {
     "name": "stderr",
     "output_type": "stream",
     "text": [
      "397it [5:23:08, 48.91s/it]"
     ]
    },
    {
     "name": "stdout",
     "output_type": "stream",
     "text": [
      "Process  /Users/nhuantran/Downloads/Naruto Shippuuden English Subs/[HorribleSubs] Naruto Shippuuden - 398 [720p].ass\n"
     ]
    },
    {
     "name": "stderr",
     "output_type": "stream",
     "text": [
      "398it [5:23:42, 44.44s/it]"
     ]
    },
    {
     "name": "stdout",
     "output_type": "stream",
     "text": [
      "Process  /Users/nhuantran/Downloads/Naruto Shippuuden English Subs/[HorribleSubs] Naruto Shippuuden - 399 [720p].ass\n"
     ]
    },
    {
     "name": "stderr",
     "output_type": "stream",
     "text": [
      "399it [5:24:31, 45.66s/it]"
     ]
    },
    {
     "name": "stdout",
     "output_type": "stream",
     "text": [
      "Process  /Users/nhuantran/Downloads/Naruto Shippuuden English Subs/[HorribleSubs] Naruto Shippuuden - 400 [720p].ass\n"
     ]
    },
    {
     "name": "stderr",
     "output_type": "stream",
     "text": [
      "400it [5:25:20, 46.95s/it]"
     ]
    },
    {
     "name": "stdout",
     "output_type": "stream",
     "text": [
      "Process  /Users/nhuantran/Downloads/Naruto Shippuuden English Subs/[HorribleSubs] Naruto Shippuuden - 401 [720p].ass\n"
     ]
    },
    {
     "name": "stderr",
     "output_type": "stream",
     "text": [
      "401it [5:26:08, 46.98s/it]"
     ]
    },
    {
     "name": "stdout",
     "output_type": "stream",
     "text": [
      "Process  /Users/nhuantran/Downloads/Naruto Shippuuden English Subs/[HorribleSubs] Naruto Shippuuden - 402 [720p].ass\n"
     ]
    },
    {
     "name": "stderr",
     "output_type": "stream",
     "text": [
      "402it [5:26:40, 42.72s/it]"
     ]
    },
    {
     "name": "stdout",
     "output_type": "stream",
     "text": [
      "Process  /Users/nhuantran/Downloads/Naruto Shippuuden English Subs/[HorribleSubs] Naruto Shippuuden - 403 [720p].ass\n"
     ]
    },
    {
     "name": "stderr",
     "output_type": "stream",
     "text": [
      "403it [5:27:18, 41.19s/it]"
     ]
    },
    {
     "name": "stdout",
     "output_type": "stream",
     "text": [
      "Process  /Users/nhuantran/Downloads/Naruto Shippuuden English Subs/[HorribleSubs] Naruto Shippuuden - 404 [720p].ass\n"
     ]
    },
    {
     "name": "stderr",
     "output_type": "stream",
     "text": [
      "404it [5:28:08, 43.75s/it]"
     ]
    },
    {
     "name": "stdout",
     "output_type": "stream",
     "text": [
      "Process  /Users/nhuantran/Downloads/Naruto Shippuuden English Subs/[HorribleSubs] Naruto Shippuuden - 405 [720p].ass\n"
     ]
    },
    {
     "name": "stderr",
     "output_type": "stream",
     "text": [
      "405it [5:28:57, 45.57s/it]"
     ]
    },
    {
     "name": "stdout",
     "output_type": "stream",
     "text": [
      "Process  /Users/nhuantran/Downloads/Naruto Shippuuden English Subs/[HorribleSubs] Naruto Shippuuden - 406 [720p].ass\n"
     ]
    },
    {
     "name": "stderr",
     "output_type": "stream",
     "text": [
      "406it [5:29:58, 50.03s/it]"
     ]
    },
    {
     "name": "stdout",
     "output_type": "stream",
     "text": [
      "Process  /Users/nhuantran/Downloads/Naruto Shippuuden English Subs/[HorribleSubs] Naruto Shippuuden - 407 [720p].ass\n"
     ]
    },
    {
     "name": "stderr",
     "output_type": "stream",
     "text": [
      "407it [5:30:52, 51.27s/it]"
     ]
    },
    {
     "name": "stdout",
     "output_type": "stream",
     "text": [
      "Process  /Users/nhuantran/Downloads/Naruto Shippuuden English Subs/[HorribleSubs] Naruto Shippuuden - 408 [720p].ass\n"
     ]
    },
    {
     "name": "stderr",
     "output_type": "stream",
     "text": [
      "408it [5:31:39, 50.01s/it]"
     ]
    },
    {
     "name": "stdout",
     "output_type": "stream",
     "text": [
      "Process  /Users/nhuantran/Downloads/Naruto Shippuuden English Subs/[HorribleSubs] Naruto Shippuuden - 409 [720p].ass\n"
     ]
    },
    {
     "name": "stderr",
     "output_type": "stream",
     "text": [
      "409it [5:32:32, 50.86s/it]"
     ]
    },
    {
     "name": "stdout",
     "output_type": "stream",
     "text": [
      "Process  /Users/nhuantran/Downloads/Naruto Shippuuden English Subs/[HorribleSubs] Naruto Shippuuden - 410 [720p].ass\n"
     ]
    },
    {
     "name": "stderr",
     "output_type": "stream",
     "text": [
      "410it [5:33:21, 50.15s/it]"
     ]
    },
    {
     "name": "stdout",
     "output_type": "stream",
     "text": [
      "Process  /Users/nhuantran/Downloads/Naruto Shippuuden English Subs/[HorribleSubs] Naruto Shippuuden - 411 [720p].ass\n"
     ]
    },
    {
     "name": "stderr",
     "output_type": "stream",
     "text": [
      "411it [5:34:03, 47.82s/it]"
     ]
    },
    {
     "name": "stdout",
     "output_type": "stream",
     "text": [
      "Process  /Users/nhuantran/Downloads/Naruto Shippuuden English Subs/[HorribleSubs] Naruto Shippuuden - 412 [720p].ass\n"
     ]
    },
    {
     "name": "stderr",
     "output_type": "stream",
     "text": [
      "412it [5:34:48, 47.02s/it]"
     ]
    },
    {
     "name": "stdout",
     "output_type": "stream",
     "text": [
      "Process  /Users/nhuantran/Downloads/Naruto Shippuuden English Subs/[HorribleSubs] Naruto Shippuuden - 413 [720p].ass\n"
     ]
    },
    {
     "name": "stderr",
     "output_type": "stream",
     "text": [
      "413it [5:35:50, 51.42s/it]"
     ]
    },
    {
     "name": "stdout",
     "output_type": "stream",
     "text": [
      "Process  /Users/nhuantran/Downloads/Naruto Shippuuden English Subs/[HorribleSubs] Naruto Shippuuden - 414 [720p].ass\n"
     ]
    },
    {
     "name": "stderr",
     "output_type": "stream",
     "text": [
      "414it [5:36:33, 48.86s/it]"
     ]
    },
    {
     "name": "stdout",
     "output_type": "stream",
     "text": [
      "Process  /Users/nhuantran/Downloads/Naruto Shippuuden English Subs/[HorribleSubs] Naruto Shippuuden - 415 [720p].ass\n"
     ]
    },
    {
     "name": "stderr",
     "output_type": "stream",
     "text": [
      "415it [5:37:16, 47.08s/it]"
     ]
    },
    {
     "name": "stdout",
     "output_type": "stream",
     "text": [
      "Process  /Users/nhuantran/Downloads/Naruto Shippuuden English Subs/[HorribleSubs] Naruto Shippuuden - 416 [720p].ass\n"
     ]
    },
    {
     "name": "stderr",
     "output_type": "stream",
     "text": [
      "416it [5:37:56, 45.09s/it]"
     ]
    },
    {
     "name": "stdout",
     "output_type": "stream",
     "text": [
      "Process  /Users/nhuantran/Downloads/Naruto Shippuuden English Subs/[HorribleSubs] Naruto Shippuuden - 417 [720p].ass\n"
     ]
    },
    {
     "name": "stderr",
     "output_type": "stream",
     "text": [
      "417it [5:38:48, 47.02s/it]"
     ]
    },
    {
     "name": "stdout",
     "output_type": "stream",
     "text": [
      "Process  /Users/nhuantran/Downloads/Naruto Shippuuden English Subs/[HorribleSubs] Naruto Shippuuden - 418 [720p].ass\n"
     ]
    },
    {
     "name": "stderr",
     "output_type": "stream",
     "text": [
      "418it [5:39:33, 46.43s/it]"
     ]
    },
    {
     "name": "stdout",
     "output_type": "stream",
     "text": [
      "Process  /Users/nhuantran/Downloads/Naruto Shippuuden English Subs/[HorribleSubs] Naruto Shippuuden - 419 [720p].ass\n"
     ]
    },
    {
     "name": "stderr",
     "output_type": "stream",
     "text": [
      "419it [5:40:19, 46.44s/it]"
     ]
    },
    {
     "name": "stdout",
     "output_type": "stream",
     "text": [
      "Process  /Users/nhuantran/Downloads/Naruto Shippuuden English Subs/[HorribleSubs] Naruto Shippuuden - 420 [720p].ass\n"
     ]
    },
    {
     "name": "stderr",
     "output_type": "stream",
     "text": [
      "420it [5:41:15, 49.35s/it]"
     ]
    },
    {
     "name": "stdout",
     "output_type": "stream",
     "text": [
      "Process  /Users/nhuantran/Downloads/Naruto Shippuuden English Subs/[HorribleSubs] Naruto Shippuuden - 421 [720p].ass\n"
     ]
    },
    {
     "name": "stderr",
     "output_type": "stream",
     "text": [
      "421it [5:42:06, 49.70s/it]"
     ]
    },
    {
     "name": "stdout",
     "output_type": "stream",
     "text": [
      "Process  /Users/nhuantran/Downloads/Naruto Shippuuden English Subs/[HorribleSubs] Naruto Shippuuden - 422 [720p].ass\n"
     ]
    },
    {
     "name": "stderr",
     "output_type": "stream",
     "text": [
      "422it [5:42:56, 49.90s/it]"
     ]
    },
    {
     "name": "stdout",
     "output_type": "stream",
     "text": [
      "Process  /Users/nhuantran/Downloads/Naruto Shippuuden English Subs/[HorribleSubs] Naruto Shippuuden - 423 [720p].ass\n"
     ]
    },
    {
     "name": "stderr",
     "output_type": "stream",
     "text": [
      "423it [5:43:42, 48.81s/it]"
     ]
    },
    {
     "name": "stdout",
     "output_type": "stream",
     "text": [
      "Process  /Users/nhuantran/Downloads/Naruto Shippuuden English Subs/[HorribleSubs] Naruto Shippuuden - 424 [720p].ass\n"
     ]
    },
    {
     "name": "stderr",
     "output_type": "stream",
     "text": [
      "424it [5:44:24, 46.54s/it]"
     ]
    },
    {
     "name": "stdout",
     "output_type": "stream",
     "text": [
      "Process  /Users/nhuantran/Downloads/Naruto Shippuuden English Subs/[HorribleSubs] Naruto Shippuuden - 425 [720p].ass\n"
     ]
    },
    {
     "name": "stderr",
     "output_type": "stream",
     "text": [
      "425it [5:45:22, 50.02s/it]"
     ]
    },
    {
     "name": "stdout",
     "output_type": "stream",
     "text": [
      "Process  /Users/nhuantran/Downloads/Naruto Shippuuden English Subs/[HorribleSubs] Naruto Shippuuden - 426 [720p].ass\n"
     ]
    },
    {
     "name": "stderr",
     "output_type": "stream",
     "text": [
      "426it [5:45:54, 48.72s/it]\n"
     ]
    }
   ],
   "source": [
    "from tqdm import tqdm\n",
    "from glob import glob\n",
    "\n",
    "pattern = r\"\\[HorribleSubs\\] Naruto Shippuuden - (\\d{3}) \\[\\d{3}p\\].ass\"\n",
    "prev = last_content\n",
    "folder_path = \"/Users/nhuantran/Downloads/Naruto Shippuuden English Subs/\"\n",
    "output_name = \"../data/naruto_shippuuden_subtitle.json\"\n",
    "with open(output_name, \"w\") as f:\n",
    "    for idx, fpath in tqdm(enumerate(sorted(glob(folder_path+\"/*.ass\")))):\n",
    "        print(\"Process \", fpath)\n",
    "        dialogues = parse_ass_file(fpath)\n",
    "        df_dialogue = pd.DataFrame(dialogues, columns=[\"Layer\", \"Start\", \"End\", \"Style\", \"Name\", \"MarginL\", \"MarginR\", \"MarginV\", \"Effect\",\"Text\"])\n",
    "        content = \"-\".join(df_dialogue[\"Text\"].tolist())\n",
    "\n",
    "        file_name = fpath.split(\"/\")[-1]\n",
    "        match = re.search(pattern, file_name)\n",
    "        episode_number = match.group(1)\n",
    "        output = chain_list.invoke({\"content\": content, \"prev\": prev})\n",
    "        prev = output[\"text\"]\n",
    "        f.write(\n",
    "            json.dumps({\"episode_number\": episode_number, \"content\": output[\"text\"]})\n",
    "            + \"\\n\"\n",
    "        )\n",
    "\n",
    "        if idx > 0 and idx % 10 == 0:\n",
    "            f.flush()"
   ]
  },
  {
   "cell_type": "code",
   "execution_count": 81,
   "metadata": {},
   "outputs": [],
   "source": [
    "from elasticsearch import Elasticsearch\n",
    "from tqdm import tqdm\n",
    "es_client = Elasticsearch()"
   ]
  },
  {
   "cell_type": "code",
   "execution_count": 82,
   "metadata": {},
   "outputs": [
    {
     "name": "stderr",
     "output_type": "stream",
     "text": [
      "  0%|          | 0/135 [00:00<?, ?it/s]/var/folders/_q/zxnjn9rd7vj0h6477qfvbfw00000gn/T/ipykernel_64085/4082663910.py:11: DeprecationWarning: The 'body' parameter is deprecated for the 'index' API and will be removed in a future version. Instead use the 'document' parameter. See https://github.com/elastic/elasticsearch-py/issues/1698 for more information\n",
      "  es_client.index(index=\"naruto_episode\", body={\"content\": summarize_episode_content, \"dialogue\": content, \"type\": \"small\", \"episode_number\": episode_number})\n",
      "100%|██████████| 135/135 [00:00<00:00, 142.04it/s]\n"
     ]
    }
   ],
   "source": [
    "season_one_path = \"../data/naruto_subtitle_summarize_by_episode.json\"\n",
    "season_one_dialogue_format_path = \"/Users/nhuantran/Downloads/Naruto English Subtitles 1-135/(SB-RAW)NARUTO E{episode} (R2DVD 960x728 x264 AC3).en.srt\"\n",
    "lines = [json.loads(l) for l in open(season_one_path).readlines()]\n",
    "\n",
    "for line in tqdm(lines):\n",
    "    episode_number = line[\"episode_number\"]\n",
    "    summarize_episode_content  = line[\"content\"]\n",
    "    fpath = season_one_dialogue_format_path.format(episode=episode_number)\n",
    "    subtitles = extract_subtitles(fpath)\n",
    "    content = \"-\".join(subtitles)\n",
    "    es_client.index(index=\"naruto_episode\", body={\"content\": summarize_episode_content, \"dialogue\": content, \"type\": \"small\", \"episode_number\": episode_number})"
   ]
  },
  {
   "cell_type": "code",
   "execution_count": 83,
   "metadata": {},
   "outputs": [
    {
     "name": "stderr",
     "output_type": "stream",
     "text": [
      "  0%|          | 0/426 [00:00<?, ?it/s]/var/folders/_q/zxnjn9rd7vj0h6477qfvbfw00000gn/T/ipykernel_64085/3202105387.py:8: DeprecationWarning: The 'body' parameter is deprecated for the 'index' API and will be removed in a future version. Instead use the 'document' parameter. See https://github.com/elastic/elasticsearch-py/issues/1698 for more information\n",
      "  es_client.index(index=\"naruto_episode\", body={\"content\": summarize_episode_content, \"type\": \"shippuden\", \"episode_number\": episode_number})\n",
      "100%|██████████| 426/426 [00:00<00:00, 617.66it/s]\n"
     ]
    }
   ],
   "source": [
    "season_two_path = \"../data/naruto_shippuuden_subtitle.json\"\n",
    "season_one_dialogue_format_path = \"/Users/nhuantran/Downloads/Naruto English Subtitles 1-135/(SB-RAW)NARUTO E{episode} (R2DVD 960x728 x264 AC3).en.srt\"\n",
    "lines = [json.loads(l) for l in open(season_two_path).readlines()]\n",
    "\n",
    "for line in tqdm(lines):\n",
    "    episode_number = int(line[\"episode_number\"])\n",
    "    summarize_episode_content = line[\"content\"]\n",
    "    es_client.index(index=\"naruto_episode\", body={\"content\": summarize_episode_content, \"type\": \"shippuden\", \"episode_number\": episode_number})"
   ]
  }
 ],
 "metadata": {
  "kernelspec": {
   "display_name": "semantic_search",
   "language": "python",
   "name": "python3"
  },
  "language_info": {
   "codemirror_mode": {
    "name": "ipython",
    "version": 3
   },
   "file_extension": ".py",
   "mimetype": "text/x-python",
   "name": "python",
   "nbconvert_exporter": "python",
   "pygments_lexer": "ipython3",
   "version": "3.10.0"
  }
 },
 "nbformat": 4,
 "nbformat_minor": 2
}
