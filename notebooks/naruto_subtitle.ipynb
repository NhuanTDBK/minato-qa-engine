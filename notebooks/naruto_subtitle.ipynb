{
 "cells": [
  {
   "cell_type": "code",
   "execution_count": 1,
   "metadata": {},
   "outputs": [],
   "source": [
    "import re\n",
    "import json\n",
    "import pysrt\n",
    "import pandas as pd\n",
    "\n",
    "def parse_ass_file(file_path):\n",
    "    events = []\n",
    "    with open(file_path, 'r', encoding='utf-8') as file:\n",
    "        lines = file.readlines()\n",
    "\n",
    "    event_section = False\n",
    "    for line in lines:\n",
    "        if line.strip().startswith('[Events]'):\n",
    "            event_section = True\n",
    "            continue\n",
    "        if event_section:\n",
    "            if line.strip().startswith('Dialogue:'):\n",
    "                # Structure Format: Layer, Start, End, Style, Name, MarginL, MarginR, MarginV, Effect, Text\n",
    "                events.append(line.strip().replace(\"\\\\N\", \"\\n\").split(\",\", maxsplit=9))\n",
    "                    \n",
    "    return events\n",
    "\n",
    "def extract_subtitles(file_path):\n",
    "    # Load the SRT file\n",
    "    subtitles = pysrt.open(file_path)\n",
    "\n",
    "    # Extract the text from each subtitle\n",
    "    subtitle_texts = [sub.text for sub in subtitles]\n",
    "\n",
    "    return subtitle_texts\n",
    "\n",
    "# Use the function\n",
    "# subtitles = extract_subtitles(\"/Users/nhuantran/Downloads/Naruto English Subtitles 1-135/(SB-RAW)NARUTO E008 (R2DVD 960x728 x264 AC3).en.srt\")\n",
    "# content = \"\\n\".join(subtitles)"
   ]
  },
  {
   "cell_type": "code",
   "execution_count": 2,
   "metadata": {},
   "outputs": [],
   "source": [
    "from langchain_community.chat_models import ChatOpenAI\n",
    "from langchain.prompts import PromptTemplate\n",
    "from langchain.chains import LLMChain"
   ]
  },
  {
   "cell_type": "code",
   "execution_count": 3,
   "metadata": {},
   "outputs": [],
   "source": [
    "llm_url = \"http://localhost:1234/v1\"\n",
    "api_key = \"lm-studio\"\n",
    "model_name = \"MaziyarPanahi/Mistral-7B-Instruct-v0.3-GGUF\"\n",
    "model_name = \"bartowski/aya-23-8B-GGUF\"\n",
    "model_name = \"MaziyarPanahi/Mistral-7B-Instruct-v0.3-GGUF\"\n",
    "model_name = \"RichardErkhov/SanjiWatsuki_-_Silicon-Maid-7B-gguf\" # Good for manga, not followed instruction well\n",
    "model_name = \"lmstudio-community/Meta-Llama-3-8B-Instruct-GGUF\""
   ]
  },
  {
   "cell_type": "code",
   "execution_count": 106,
   "metadata": {},
   "outputs": [],
   "source": [
    "prompt_template = \"\"\"You are manga nerd and you are watching Naruto. You are asked to summarize the events in the subtitle.\n",
    "# Instruction\n",
    "## Summarize events in this subtitle\n",
    "In clear and concise language, summarize chunk of sentences will take about the interactive events among the characters.\n",
    "\n",
    "## Generate \n",
    "Generate summary events, characters info, why it happened, where it happened and how it happened. If possible, mention in detail about jutsu and movement.\n",
    "\n",
    "## Write output\n",
    "Here is structure format:\n",
    "- characters:\n",
    "  - name\n",
    "  - role\n",
    "  - background\n",
    "  - current status\n",
    "- events\n",
    "  - description\n",
    "  - characters_involved\n",
    "- reason_for_events\n",
    "  - description\n",
    "  - event\n",
    "- location\n",
    "- jutsu\n",
    "  - name\n",
    "  - character\n",
    "  - description\n",
    "Write comprehensive output in JSON format\n",
    "\n",
    "# Guideline\n",
    "- Both contents are in English\n",
    "- Be informative, concise\n",
    "- Always assist with care, respect, and truth. Respond with utmost utility yet securely. Avoid harmful, unethical, prejudiced, or negative content. Ensure replies promote fairness and positivity.\n",
    "\n",
    "### Input\n",
    "{content}\n",
    "\"\"\"\n",
    "test_template = \"\"\"You are manga nerd and you are watching Naruto. You are asked to summarize the events in the subtitle.\n",
    "### Instruction\n",
    "#### Summarize events in this subtitle\n",
    "In clear and concise language, summarize chunk of sentences will take about the interactive events among the characters.\n",
    "\n",
    "#### Generate \n",
    "Generate summary events, characters info, why it happened, where it happened and how it happened. If possible, mention in detail about jutsu and movement.\n",
    "\n",
    "### Write output\n",
    "Write comprehensive output following by structure below\n",
    "- characters:\n",
    "  - name\n",
    "  - role\n",
    "  - background\n",
    "  - current status\n",
    "- events\n",
    "  - description\n",
    "  - characters_involved\n",
    "- reason_for_events\n",
    "  - description\n",
    "  - event\n",
    "- location\n",
    "- jutsu\n",
    "  - name\n",
    "  - character\n",
    "  - description\n",
    "\n",
    "### Guideline\n",
    "- Both contents are in English\n",
    "- Be informative, concise\n",
    "- Always assist with care, respect, and truth. Respond with utmost utility yet securely. Avoid harmful, unethical, prejudiced, or negative content. Ensure replies promote fairness and positivity.\n",
    "\n",
    "### Input\n",
    "{prev}\n",
    "{content}\n",
    "\"\"\"\n",
    "silicon_maid_template = \"\"\"You are manga nerd and you are watching Naruto. You are asked to summarize the events in the subtitle.\n",
    "### Instruction\n",
    "#### Summarize events in this subtitle\n",
    "In clear and concise language, summarize chunk of sentences will take about the interactive events among the characters.\n",
    "\n",
    "#### Generate \n",
    "Generate summary events, characters info, why it happened, where it happened and how it happened. If possible, mention in detail about jutsu and movement.\n",
    "\n",
    "### Write output\n",
    "Write comprehensive output following by structure below\n",
    "- characters:\n",
    "  - name\n",
    "  - role\n",
    "  - background\n",
    "  - current status\n",
    "- events\n",
    "  - description\n",
    "  - characters_involved\n",
    "- reason_for_events\n",
    "  - description\n",
    "  - event\n",
    "- location\n",
    "- jutsu\n",
    "  - name\n",
    "  - character\n",
    "  - description\n",
    "\n",
    "### Guideline\n",
    "- Both contents are in English\n",
    "- Be informative, concise\n",
    "- Always assist with care, respect, and truth. Respond with utmost utility yet securely. Avoid harmful, unethical, prejudiced, or negative content. Ensure replies promote fairness and positivity.\n",
    "\n",
    "### Input\n",
    "{content}\n",
    "\n",
    "### Response\n",
    "\"\"\"\n",
    "\n",
    "chain_of_density_template = \"\"\"\n",
    "I will provide you with piece of content (e.g. articles, papers, documentation, etc.)\n",
    "You will generate increasingly concise, entity-dense summaries of the content.\n",
    "\n",
    "Repeat the following 2 steps 5 times.\n",
    "\n",
    "Step 1. Identify 1-3 informative Entities (\";\" delimited) from the Article which are missing from the previously generated summary.\n",
    "\n",
    "Step 2. Write a new, denser summary of identical length which covers every entity and detail from the previous summary plus the Missing Entities.\n",
    "\n",
    "A Missing Entity is:\n",
    "\n",
    "Relevant: to the main story.\n",
    "Specific: descriptive yet concise (5 words or fewer).\n",
    "Novel: not in the previous summary.\n",
    "Faithful: present in the content piece.\n",
    "Anywhere: located anywhere in the Article.\n",
    "\n",
    "Guidelines:\n",
    "\n",
    "The first summary should be long (5 sentences, - 80 words) yet highly non-specific, containing little information beyond the entities marked as missing. Use overly verbose language and fillers (e.g., \"this article discusses\") to reach - 80 words.\n",
    "Make every word count: re-write the previous summary to improve flow and make space for additional entities.\n",
    "Make space with fusion, compression, and removal of uninformative phrases like \"the article discusses\".\n",
    "The summaries should become highly dense and concise yet self-contained, e.g., easily understood without the Article.\n",
    "Missing entities can appear anywhere in the new summary.\n",
    "Never drop entities from the previous summary. If space cannot be made, add fewer new entities.\n",
    "Remember, use the exact same number of words for each summary.\n",
    "Answer in JSON. The JSON should be a list (length 5) of dictionaries whose keys are \"Missing_Entities\" and \"Denser_Summary\"\n",
    "\n",
    "### Input\n",
    "{content}\n",
    "\"\"\"\n",
    "\n",
    "def get_chain(llm_url, model_name, template, temperature: float = 0.5, max_tokens: int = -1):\n",
    "    client = ChatOpenAI(\n",
    "            temperature=temperature,\n",
    "            base_url=llm_url,\n",
    "            model_name=model_name,\n",
    "            api_key=api_key,\n",
    "            max_tokens=max_tokens,\n",
    "        )\n",
    "    map_prompt = PromptTemplate.from_template(template)\n",
    "    return LLMChain(llm=client, prompt=map_prompt)"
   ]
  },
  {
   "cell_type": "code",
   "execution_count": 19,
   "metadata": {},
   "outputs": [],
   "source": [
    "# llm_chain = get_chain(llm_url, model_name, prompt_template)\n",
    "# llm_chain = get_chain(llm_url, model_name, silicon_maid_template)\n",
    "llm_chain = get_chain(llm_url, model_name, chain_of_density_template, temperature=0.1)"
   ]
  },
  {
   "cell_type": "code",
   "execution_count": 98,
   "metadata": {},
   "outputs": [],
   "source": [
    "# previous_episodes = 1\n",
    "prev, content = \"\" , \"\"\n",
    "current_episode = 132\n",
    "# for episode in range(current_episode - previous_episodes, current_episode):\n",
    "#     ass_file_path = \"/Users/nhuantran/Downloads/Naruto Shippuuden English Subs/[HorribleSubs] Naruto Shippuuden - {episode} [720p].ass\".format(episode=episode)\n",
    "#     dialogues = parse_ass_file(ass_file_path)\n",
    "#     df_dialogue = pd.DataFrame(dialogues, columns=[\"Layer\", \"Start\", \"End\", \"Style\", \"Name\", \"MarginL\", \"MarginR\", \"MarginV\", \"Effect\",\"Text\"])\n",
    "#     prev += \"\\n\".join(df_dialogue[\"Text\"].tolist())\n",
    "\n",
    "ass_file_path = \"/Users/nhuantran/Downloads/Naruto Shippuuden English Subs/[HorribleSubs] Naruto Shippuuden - {episode} [720p].ass\".format(episode=current_episode)\n",
    "dialogues = parse_ass_file(ass_file_path)\n",
    "df_dialogue = pd.DataFrame(dialogues, columns=[\"Layer\", \"Start\", \"End\", \"Style\", \"Name\", \"MarginL\", \"MarginR\", \"MarginV\", \"Effect\",\"Text\"])\n",
    "content += \"\\n\".join(df_dialogue[\"Text\"].tolist())\n",
    "# # prompt_render = test_template.format(prev=prev, content=content)\n",
    "# # print(llm_chain.invoke(content)[\"text\"])"
   ]
  },
  {
   "cell_type": "code",
   "execution_count": 6,
   "metadata": {},
   "outputs": [],
   "source": [
    "subtitles = extract_subtitles(\"/Users/nhuantran/Downloads/Naruto English Subtitles 1-135/(SB-RAW)NARUTO E001 (R2DVD 960x728 x264 AC3).en.srt\")\n",
    "content = \"\\n\".join(subtitles)"
   ]
  },
  {
   "cell_type": "code",
   "execution_count": null,
   "metadata": {},
   "outputs": [],
   "source": []
  },
  {
   "cell_type": "markdown",
   "metadata": {},
   "source": [
    "## Chain of density\n",
    "Does not work well, skip it"
   ]
  },
  {
   "cell_type": "code",
   "execution_count": 60,
   "metadata": {},
   "outputs": [],
   "source": [
    "chain_of_density_template = \"\"\"\n",
    "### Instruction\n",
    "I will provide you with piece of content (e.g. articles, papers, documentation, etc.)\n",
    "You will generate increasingly concise, entity-dense summaries of the content.\n",
    "\n",
    "Repeat the following 2 steps 5 times.\n",
    "\n",
    "Step 1. Identify 1-3 informative Entities (\";\" delimited) from the Article which are missing from the previously generated summary.\n",
    "\n",
    "Step 2. Write a new, denser summary of identical length which covers every entity and detail from the previous summary plus the Missing Entities.\n",
    "\n",
    "A Missing Entity is:\n",
    "\n",
    "Relevant: to the main story.\n",
    "Specific: descriptive yet concise (5 words or fewer).\n",
    "Novel: not in the previous summary.\n",
    "Faithful: present in the content piece.\n",
    "Anywhere: located anywhere in the Article.\n",
    "\n",
    "### Guidelines:\n",
    "\n",
    "The first summary should be long (5 sentences) yet highly non-specific, containing little information beyond the entities marked as missing. Use overly verbose language and fillers (e.g., \"this article discusses\") to reach - 80 words.\n",
    "Make every word count: re-write the previous summary to improve flow and make space for additional entities.\n",
    "Make space with fusion, compression, and removal of uninformative phrases like \"the article discusses\".\n",
    "The summaries should become highly dense and concise yet self-contained, e.g., easily understood without the Article.\n",
    "Missing entities can appear anywhere in the new summary.\n",
    "Never drop entities from the previous summary. If space cannot be made, add fewer new entities.\n",
    "Remember, use the exact same number of words for each summary.\n",
    "\n",
    "Answer in YAML. The YAML should be a list (length 5) of dictionaries whose keys are \"Missing_Entities\" and \"Denser_Summary\". YAML output only, no further explanation needed.\n",
    "\n",
    "# Example Output\n",
    "- Missing_Entities: \"Naruto; Sasuke; Sakura\"\n",
    "  Denser_Summary: Summary\n",
    "\"\"\""
   ]
  },
  {
   "cell_type": "code",
   "execution_count": 61,
   "metadata": {},
   "outputs": [],
   "source": [
    "import json\n",
    "import yaml\n",
    "\n",
    "\n",
    "def extract_entities(summary):\n",
    "    try:\n",
    "        yaml_output = summary[summary.find(\"-\") :]\n",
    "        outputs = yaml.safe_load(yaml_output)\n",
    "        return [output[\"Missing_Entities\"] for output in outputs]\n",
    "    except Exception as e:\n",
    "        print(summary, e)\n",
    "        return []\n",
    "\n",
    "\n",
    "def summarize_cod(client, article, summary_steps=3, temperature=0.1):\n",
    "    summary_chain = []\n",
    "    output = client.create(\n",
    "        model=model_name,\n",
    "        messages=[\n",
    "            {\n",
    "                \"role\": \"system\",\n",
    "                \"content\": silicon_maid_template.format(content=article)\n",
    "            },\n",
    "        ],\n",
    "        temperature=temperature\n",
    "    )\n",
    "    prev_summary = None\n",
    "    summary_chain.append(output.choices[0].message.content)\n",
    "\n",
    "    for i in range(summary_steps):\n",
    "        missing_entities = extract_entities(prev_summary) if prev_summary else []\n",
    "        missing_entities = \";\".join(missing_entities)\n",
    "        output = client.create(\n",
    "            model=model_name,\n",
    "            temperature=temperature,\n",
    "            messages=[\n",
    "                {\n",
    "                    \"role\": \"system\",\n",
    "                    \"content\": chain_of_density_template,\n",
    "                },\n",
    "                {   \n",
    "                    \"role\": \"user\", \n",
    "                    \"content\": f\"Here is the Article: {article}\"\n",
    "                },\n",
    "                {\n",
    "                    \"role\": \"user\",\n",
    "                    \"content\": f\"Here is the previous summary: {summary_chain[-1]}\",\n",
    "                },\n",
    "                {\n",
    "                    \"role\": \"user\",\n",
    "                    \"content\": f\"Missing Entities: {missing_entities}\",\n",
    "                },\n",
    "            ],\n",
    "        )\n",
    "        output_summary = output.choices[0].message.content\n",
    "        prev_summary = output_summary\n",
    "        summary_chain.append(output_summary)\n",
    "\n",
    "    return summary_chain"
   ]
  },
  {
   "cell_type": "code",
   "execution_count": 62,
   "metadata": {},
   "outputs": [
    {
     "name": "stdout",
     "output_type": "stream",
     "text": [
      "Here are the missing entities:\n",
      "\n",
      "* Tsunade (Naruto's friend and Jiraiya's student)\n",
      "* Pa (one of the Six Paths of Pain, mentioned as a singer in the radio broadcast)\n",
      "\n",
      "Let me know if you'd like me to proceed with generating a denser summary! 'NoneType' object is not iterable\n"
     ]
    },
    {
     "data": {
      "text/plain": [
       "[\"Here is a summary of the events and characters mentioned in this subtitle:\\n\\n**Characters:**\\n\\n* Naruto Uzumaki (main character)\\n* Jiraiya (mentor of Naruto, appears as a radio DJ)\\n* Nagato (one of the Six Paths of Pain, has Rinnegan eye)\\n* Other members of the Six Paths of Pain (three unnamed clones with Rinnegan eyes)\\n\\n**Events:**\\n\\n* The Six Paths of Pain, led by Nagato, attack Jiraiya and Naruto\\n* Jiraiya uses a genjutsu to bind the Six Paths' movements, but they are able to absorb his jutsu\\n* Naruto and Jiraiya retreat and plan their next move\\n* They discover that each of the Six Paths has only one type of ability, and that Nagato is using a jutsu to revive dead members\\n* Jiraiya uses a genjutsu to paralyze the Six Paths, but Nagato reveals that he can still move his main body\\n* Naruto and Jiraiya are trapped in a genjutsu paralysis, unable to move\\n\\n**Reason for Events:**\\n\\n* The Six Paths of Pain are seeking to destroy the ninja world, and Nagato believes that this is the only way to bring about peace\\n* Jiraiya wants to protect his students, Naruto and Tsunade, from harm\\n* Nagato's past as a student of Jiraiya is revealed, and it is implied that he was deeply affected by Jiraiya's teachings\\n\\n**Location:**\\n\\n* The battle takes place in a swampy area\\n\\n**Jutsu:**\\n\\n* Sage Art: Bath of Boiling Oil (used by Naruto)\\n* Sage Mode attack (blocked by Nagato)\\n* Kebari Senbon (used by Naruto, blocked by Nagato)\\n* Genjutsu paralysis (used by Jiraiya to bind the Six Paths' movements)\\n* Fire Style: Giant Flame Bombs (used by Naruto)\\n\\nPlease let me know if you would like me to clarify anything!\",\n",
       " \"Here are the missing entities:\\n\\n* Tsunade (Naruto's friend and Jiraiya's student)\\n* Pa (one of the Six Paths of Pain, mentioned as a singer in the radio broadcast)\\n\\nLet me know if you'd like me to proceed with generating a denser summary!\",\n",
       " 'Here is the next iteration:\\n\\n- Missing_Entities: \"Nagato; Six Paths of Pain\"\\n  Denser_Summary:',\n",
       " '- Missing_Entities: \"Nagato; Six Paths of Pain\"\\n  Denser_Summary: As Jiraiya and his students, Naruto and Sakura, face off against the mysterious Rinnegan users, they begin to uncover the truth behind their abilities. The trio discovers that each of the six Rinnegan bearers possesses a unique ability, but can only use one at a time. They also learn that the eyes are linked, allowing them to share images and coordinate their attacks. Jiraiya reveals his plan to use a genjutsu to bind the opponents\\' psyches, making it difficult for them to move or attack. However, Nagato, one of the Rinnegan bearers, uses his ability to absorb Jiraiya\\'s jutsu and counterattack. The battle continues with Jiraiya using his Shadow Clone technique to distract the enemies while his students try to figure out their next move.']"
      ]
     },
     "execution_count": 62,
     "metadata": {},
     "output_type": "execute_result"
    }
   ],
   "source": [
    "summarize_cod(llm_chain.llm.client, content, summary_steps=3, temperature=0.3)"
   ]
  },
  {
   "cell_type": "markdown",
   "metadata": {},
   "source": [
    "## Summarize all episodes"
   ]
  },
  {
   "cell_type": "code",
   "execution_count": 102,
   "metadata": {},
   "outputs": [
    {
     "name": "stderr",
     "output_type": "stream",
     "text": [
      "426it [00:00, 1439.27it/s]\n"
     ]
    }
   ],
   "source": [
    "from tqdm import tqdm\n",
    "from glob import glob\n",
    "\n",
    "pattern = r\"\\[HorribleSubs\\] Naruto Shippuuden - (\\d{3}) \\[\\d{3}p\\].ass\"\n",
    "\n",
    "folder_path = \"/Users/nhuantran/Downloads/Naruto Shippuuden English Subs/\"\n",
    "output_name = \"../data/naruto_shippuuden_subtitle.json\"\n",
    "with open(output_name, \"w\") as f:\n",
    "    for idx, fpath in tqdm(enumerate(glob(folder_path+\"/*.ass\"))):\n",
    "        # print(\"Process \", fpath)\n",
    "        dialogues = parse_ass_file(fpath)\n",
    "        df_dialogue = pd.DataFrame(dialogues, columns=[\"Layer\", \"Start\", \"End\", \"Style\", \"Name\", \"MarginL\", \"MarginR\", \"MarginV\", \"Effect\",\"Text\"])\n",
    "        content = \"\\n\".join(df_dialogue[\"Text\"].tolist())\n",
    "\n",
    "        file_name = fpath.split(\"/\")[-1]\n",
    "        match = re.search(pattern, file_name)\n",
    "        episode_number = match.group(1)\n",
    "        f.write(json.dumps({\"episode_number\": episode_number, \"content\": content}) + \"\\n\")\n",
    "        # output = llm_chain.invoke(content)\n",
    "        # f.write(json.dumps({\"episode_number\": episode_number, \"content\": output[\"text\"]}) + \"\\n\")\n",
    "        # break\n",
    "\n",
    "        # if idx > 0 and idx % 10 == 0:\n",
    "        #     f.flush()"
   ]
  },
  {
   "cell_type": "code",
   "execution_count": null,
   "metadata": {},
   "outputs": [],
   "source": [
    "from tqdm import tqdm\n",
    "from glob import glob\n",
    "\n",
    "pattern = r\"\\[HorribleSubs\\] Naruto Shippuuden - (\\d{3}) \\[\\d{3}p\\].ass\"\n",
    "\n",
    "folder_path = \"/Users/nhuantran/Downloads/Naruto Shippuuden English Subs/\"\n",
    "output_name = \"../data/naruto_shippuuden_subtitle_summarize_by_episode.json\"\n",
    "with open(output_name, \"w\") as f:\n",
    "    for idx, fpath in tqdm(enumerate(glob(folder_path+\"/*.ass\"))):\n",
    "        print(\"Process \", fpath)\n",
    "        dialogues = parse_ass_file(fpath)\n",
    "        df_dialogue = pd.DataFrame(dialogues, columns=[\"Layer\", \"Start\", \"End\", \"Style\", \"Name\", \"MarginL\", \"MarginR\", \"MarginV\", \"Effect\",\"Text\"])\n",
    "        content = \"\\n\".join(df_dialogue[\"Text\"].tolist())\n",
    "\n",
    "        file_name = fpath.split(\"/\")[-1]\n",
    "        match = re.search(pattern, file_name)\n",
    "        episode_number = match.group(1)\n",
    "        output = llm_chain.invoke(content)\n",
    "        f.write(json.dumps({\"episode_number\": episode_number, \"content\": output[\"text\"]}) + \"\\n\")\n",
    "\n",
    "        if idx > 0 and idx % 10 == 0:\n",
    "            f.flush()"
   ]
  },
  {
   "cell_type": "code",
   "execution_count": 4,
   "metadata": {},
   "outputs": [],
   "source": [
    "# Query some dialogue"
   ]
  },
  {
   "cell_type": "code",
   "execution_count": 3,
   "metadata": {},
   "outputs": [],
   "source": [
    "episodes = {}\n",
    "with open(\"../data/naruto_shippuuden_subtitle_summarize_by_episode.json\") as f:\n",
    "    for line in f:\n",
    "        tmp = json.loads(line.strip())\n",
    "        episodes[tmp[\"episode_number\"]] = tmp[\"content\"]"
   ]
  },
  {
   "cell_type": "code",
   "execution_count": 4,
   "metadata": {},
   "outputs": [
    {
     "name": "stdout",
     "output_type": "stream",
     "text": [
      "Characters:\n",
      "- Madara Uchiha: A character from the past who reveals the truth about Itachi to Sasuke. He was a leader of the Uchiha clan and had a strong influence on the events that led to Itachi's actions.\n",
      "- Itachi Uchiha: The older brother of Sasuke, who was accused of betraying the Hidden Leaf Village. He is known for annihilating his own clan and deserting the village.\n",
      "- Sasuke Uchiha: A main character in Naruto Shippuden, seeking to avenge his family's death by killing Itachi.\n",
      "- Hashirama Senju: The leader of the Senju clan and the first Hokage, who played a significant role in shaping the history of the Hidden Leaf Village.\n",
      "- Third Hokage: A character who opposed the mistreatment of the Uchiha clan but was not able to change the council's decision.\n",
      "- Danzo: A member of the Anbu Black Ops who played a significant role in the discrimination against the Uchiha clan.\n",
      "\n",
      "Events:\n",
      "Description: Madara Uchiha reveals the truth about Itachi and the history of the Uchiha clan to Sasuke.\n",
      "Characters_involved: Madara Uchiha, Sasuke Uchiha, Itachi Uchiha, Hashirama Senju, Third Hokage, Danzo.\n",
      "Reason_for_events: The events revolve around the rivalry between the Uchiha and Senju clans, the formation of the Hidden Leaf Village, and the subsequent discrimination against the Uchiha clan that led to Itachi's actions.\n",
      "Location: The conversation takes place in the Hidden Leaf Village.\n",
      "Jutsu: No specific jutsu is mentioned in this particular subtitle.\n",
      "\n",
      "Reason_for_events_description: The events were a result of the power struggle and animosity between the Uchiha and Senju clans, which continued even after the formation of the Hidden Leaf Village. The truce between the clans caused Madara to oppose it, fearing for the future of the Uchiha clan. When the village's leadership changed hands, the Uchiha clan was marginalized and eventually accused of betrayal, leading to Itachi's actions.\n",
      "Discrimination against the Uchiha clan began after the attack of the Nine-Tails Fox Demon, where they were suspected of revolting and seeking power. The situation worsened when Itachi, a spy planted within the clan, was tasked with monitoring his own family. As a result, Itachi suffered greatly and eventually annihilated his clan.\n",
      "\n",
      "Location_description: The conversation takes place in the Hidden Leaf Village, which is the main setting of Naruto Shippuden. This location holds significance as it is where the rivalry between the Uchiha and Senju clans led to the events that shaped the story.\n"
     ]
    }
   ],
   "source": [
    "print(episodes[\"140\"])"
   ]
  },
  {
   "cell_type": "code",
   "execution_count": 18,
   "metadata": {},
   "outputs": [],
   "source": [
    "import mistletoe"
   ]
  },
  {
   "cell_type": "code",
   "execution_count": 19,
   "metadata": {},
   "outputs": [],
   "source": [
    "rendered = mistletoe.markdown(episodes[\"140\"])"
   ]
  },
  {
   "cell_type": "code",
   "execution_count": 5,
   "metadata": {},
   "outputs": [
    {
     "name": "stderr",
     "output_type": "stream",
     "text": [
      "/opt/homebrew/Caskroom/miniconda/base/envs/semantic_search/lib/python3.10/site-packages/sentence_transformers/cross_encoder/CrossEncoder.py:11: TqdmWarning: IProgress not found. Please update jupyter and ipywidgets. See https://ipywidgets.readthedocs.io/en/stable/user_install.html\n",
      "  from tqdm.autonotebook import tqdm, trange\n",
      "/opt/homebrew/Caskroom/miniconda/base/envs/semantic_search/lib/python3.10/site-packages/huggingface_hub/file_download.py:1132: FutureWarning: `resume_download` is deprecated and will be removed in version 1.0.0. Downloads always resume when possible. If you want to force a new download, use `force_download=True`.\n",
      "  warnings.warn(\n",
      "<All keys matched successfully>\n"
     ]
    }
   ],
   "source": [
    "import numpy as np\n",
    "from sentence_transformers import SentenceTransformer, util\n",
    "from optimum.onnxruntime import ORTModelForFeatureExtraction\n",
    "model = SentenceTransformer(\"nomic-ai/nomic-embed-text-v1.5\", device=\"mps\", trust_remote_code=True)"
   ]
  },
  {
   "cell_type": "code",
   "execution_count": 6,
   "metadata": {},
   "outputs": [
    {
     "name": "stderr",
     "output_type": "stream",
     "text": [
      "Batches: 100%|██████████| 14/14 [00:26<00:00,  1.88s/it]\n"
     ]
    }
   ],
   "source": [
    "embeddings = model.encode([episodes[key] for key in episodes.keys()], convert_to_tensor=True, batch_size=32, show_progress_bar=True, normalize_embeddings=True)"
   ]
  },
  {
   "cell_type": "code",
   "execution_count": 7,
   "metadata": {},
   "outputs": [],
   "source": [
    "def search_in_dialogue(index, question, top_k=5):\n",
    "    question_embedding = model.encode([question], convert_to_numpy=True, normalize_embeddings=True)\n",
    "    scores, question_indices = index.search(question_embedding, top_k)\n",
    "    return question_indices[0], scores[0]"
   ]
  },
  {
   "cell_type": "code",
   "execution_count": 8,
   "metadata": {},
   "outputs": [],
   "source": [
    "import faiss\n",
    "index = faiss.IndexFlatIP(embeddings.shape[1])\n",
    "index.add(embeddings.detach().cpu().numpy())"
   ]
  },
  {
   "cell_type": "code",
   "execution_count": 14,
   "metadata": {},
   "outputs": [
    {
     "name": "stdout",
     "output_type": "stream",
     "text": [
      "299 0.6416271\n",
      "Characters:\n",
      "- Nagato (Pain): A powerful ninja with the ability to absorb ninjutsu and control corpses using his Rinnegan. He uses jutsu such as Jigokudo, Planetary Devastation, and Reanimation Jutsu.\n",
      "- Itachi Uchiha: A strong and skilled ninja known for his Totsuka Blade, which can seal away anything it pierces into an eternal genjutsu. He wields powerful Shuriken jutsu and Susano'o.\n",
      "- Naruto Uzumaki: The protagonist with the Nine Tails Chakra Mode, Shadow Clone Jutsu, and strong determination.\n",
      "- Killer Bee: A powerful summoner and friend of Naruto who summons a giant clam.\n",
      "\n",
      "Events:\n",
      "- Nagato uses his absorption jutsu to attack Itachi, who responds with his Shuriken jutsu, hitting Nagato's Rinnegan.\n",
      "- The characters engage in a battle, discussing their jutsu and strategies. Itachi reveals the weaknesses in Nagato's Reanimation Jutsu.\n",
      "- Naruto arrives on the scene and uses his Shadow Clone Jutsu to fight against the reanimated ninjas while urging others to stop the Reanimation Jutsu.\n",
      "- Killer Bee joins the battle, using his giant clam summoning jutsu.\n",
      "- Itachi confronts Nagato again, ultimately defeating him with his Totsuka Blade, sealing him in an eternal genjutsu.\n",
      "- The characters discuss the importance of teamwork and not shouldering responsibilities alone.\n",
      "\n",
      "Reason_for_events:\n",
      "The reason for these events is the ongoing battle between the allies (Itachi, Naruto, and Killer Bee) and Pain's forces. They aim to stop Pain's Reanimation Jutsu, which forces unwilling ninjas to fight against their will. The characters discuss their jutsu and strategies, ultimately defeating Pain and emphasizing the importance of teamwork and not taking on too much responsibility alone.\n",
      "\n",
      "Location:\n",
      "The events take place in a battleground where the characters are fighting against Pain's forces.\n",
      "\n",
      "Jutsu:\n",
      "- Jigokudo (Hell Prison Jutsu): A jutsu that repels and absorbs ninjutsu, used by Nagato to control corpses.\n",
      "- Planetary Devastation: A jutsu that creates a black sphere with enormous gravitational pull, used by Nagato to capture and crush enemies.\n",
      "- Reanimation Jutsu: A powerful jutsu that brings the dead back to life as mindless puppets, used by Nagato.\n",
      "- Totsuka Blade (Sakegari Blade): A sword with a sealing jutsu imbued in it, used by Itachi to seal enemies in eternal genjutsu.\n",
      "- Susano'o: A powerful summoned entity created by Itachi, resembling a god of storms and sea.\n",
      "- Shadow Clone Jutsu: Naruto's ability to create multiple copies of himself to fight alongside him or perform tasks simultaneously.\n",
      "- Nine Tails Chakra Mode: Naruto's transformation into his powerful half-demon state, granting him increased strength and speed.\n",
      "- Summoning Jutsu (Giant Clam): Killer Bee's ability to summon a giant clam as a powerful ally in battle.\n",
      "98 0.6142144\n",
      "The events revolve around a battle between the characters from the Hidden Leaf Village and an unknown enemy who possesses the Crystal Style Jutsu. Naruto, Kakashi, Sakura, Sai, Shino, and others are involved in this interaction. The reason for these events is that the enemy's jutsu can crystallize all materials, including biological fluids, which poses a significant threat to the protagonists. They realize they must be cautious and split into two groups to track down their opponents.\n",
      "\n",
      "The location of these events is not explicitly mentioned but seems to take place in a field where the enemy was previously captured. Jutsu involved include Collaboration Ninjutsu with a toad, Wind Style: Toad Water Pistol, Crystal Style: Burst Crystal Falling Dragon, and Shadow Clone Jutsu.\n",
      "\n",
      "The events lead to the discovery of Guren's connection to the enemy and the revelation that they are trying to bring forth the Three-Tailed Beast. The episode ends with a cliffhanger as the Tailed Beast appears.\n",
      "\n",
      "Characters involved:\n",
      "- Naruto (Kidnap victim initially, later helps in battle)\n",
      "- Kakashi Sensei (Team leader, strategist)\n",
      "- Sakura (Medical ninja, supports team)\n",
      "- Sai (Intel ninja, gathers information)\n",
      "- Shino (Insect specialist, contributes with his Parasitic Insects)\n",
      "- Guren (Enemy, possesses Crystal Style Jutsu)\n",
      "- Kabuto (Guren's friend, has a hidden agenda)\n",
      "\n",
      "The events lead to the discovery of Guren's connection to the enemy and the revelation that they are trying to bring forth the Three-Tailed Beast. The episode ends with a cliffhanger as the Tailed Beast appears.\n",
      "261 0.6130025\n",
      "Characters:\n",
      "- Gaara (Commander-in-Chief, Fourth Company Captain)\n",
      "- Kitsuchi (Second Company Captain)\n",
      "- Mifune (Fifth Company Captain)\n",
      "- Anko Mitarashi (Captain Anko)\n",
      "- Kabuto Yakushi (Hidden Leaf Ninja)\n",
      "- Orochimaru (Deceased ninja, mentioned)\n",
      "- Lord Hiruzen (Previously mentioned)\n",
      "- Lord Killer Bee (Mentioned)\n",
      "- Hokage (Fifth Hokage, mentioned)\n",
      "- Ganryu (Mentioned)\n",
      "- Jinchuriki (Naruto, mentioned)\n",
      "\n",
      "Events:\n",
      "Description: The subplot revolves around the main battle regiment and their preparations for war. It involves various characters discussing their roles, strategies, and feelings about the upcoming conflict with Akatsuki.\n",
      "Characters Involved: Gaara, Kitsuchi, Mifune, Anko Mitarashi, Kabuto Yakushi, Orochimaru, Lord Hiruzen, Lord Killer Bee, Hokage, Ganryu, Jinchuriki (Naruto).\n",
      "Reason for Events: The Akatsuki have summoned dead ninjas back to life using a Forbidden Jutsu and are planning to use them in battle. This has forced the main battle regiment to come together and strategize against this new threat.\n",
      "Location: Unspecified but they are preparing for war and expect enemy territory soon.\n",
      "Jutsu: No specific jutsu is mentioned in this subplot, but it's implied that various ninja techniques will be used during the upcoming battle.\n",
      "348 0.60644376\n",
      "Characters:\n",
      "- Yahiko (leader of the Akatsuki)\n",
      "- Nagato (member of the Akatsuki with Rinnegan)\n",
      "- Konan (member of the Akatsuki, close to Yahiko)\n",
      "- Madara Uchiha (enemy trying to manipulate Nagato)\n",
      "- Kyusuke the Swift (ANBU Black Ops member)\n",
      "- Kakashi (Naruto's teacher)\n",
      "- Minato Sensei (future Fourth Hokage)\n",
      "\n",
      "Events:\n",
      "Description: The Akatsuki members discuss their weariness from fighting and their ideals. They receive a message from Hanzo, who approves of their peace efforts and asks for a personal meeting. Yahiko and Nagato go to the meeting while others try to catch up with them. However, an enemy named Madara Uchiha tries to manipulate Nagato's Rinnegan to make him abandon his ideals.\n",
      "\n",
      "Characters_involved: Yahiko, Nagato, Konan, Madara Uchiha, Kyusuke the Swift, Hanzo.\n",
      "\n",
      "Reason_for_events: The Akatsuki members are tired of fighting and want to focus on their peace efforts. They receive confirmation from Hanzo that their methods are appreciated, which boosts their morale. However, an external force (Madara Uchiha) tries to disrupt this progress by forcing Nagato to see reality in a different light.\n",
      "\n",
      "Location: The events take place at the meeting with Hanzo and various locations within the Hidden Rain village.\n",
      "\n",
      "Jutsu:\n",
      "- Water Prison Jutsu: A powerful jutsu used to trap an enemy. In this case, it's modified to create cement, which is stronger.\n",
      "- Gedo Statue (Summoning Jutsu): A summoning technique that allows a user to summon the Ten Tails' husk, a powerful creature.\n",
      "- Teleportation Jutsu: A technique used by Nagato to transport Yahiko and Konan to a safe location.\n",
      "\n",
      "Summary: The Akatsuki members are weary of fighting but maintain their ideals. They receive approval from Hanzo for their peace efforts, leading to a meeting with him. However, Madara Uchiha tries to manipulate Nagato's Rinnegan to make him abandon his dreams. Despite the challenges, Yahiko and Nagato attend the meeting, while others try to reach them. In the end, Nagato uses a powerful jutsu to protect Yahiko and Konan, sending them to a safe place.\n",
      "185 0.5963768\n",
      "Characters:\n",
      "- Naruto: A young ninja who is the protagonist of the series. He is known for his high energy and determination.\n",
      "- Kotetsu Hagane (Captain): A character assigned to lead a specially formed team on a mission. He is serious about his duties but has a friendly side as well.\n",
      "- Izumo: A member of the team who is skilled with insects, providing support in various ways.\n",
      "- Lee: Another member of the team, known for his speed and agility.\n",
      "- Shino: A character from the Aburame clan, known for his ability to control insects. He has a calm and collected personality.\n",
      "- Condor (Ostrich): The main antagonist in this episode, an ostrich with exceptional abilities such as talking and using jutsu.\n",
      "\n",
      "Events:\n",
      "The story revolves around Naruto and his team being assigned a mission to capture an escaped ostrich called Condor. They face various challenges, including the ostrich's intelligence, ability to use jutsu, and having clones. The team members have to work together, using their individual skills to overcome these obstacles.\n",
      "\n",
      "Reason for Events:\n",
      "The ostrich, Condor, escaped into a restricted area known as Training Ground Zero. It was chosen as his hiding place due to its unique environment and the fact that it's no longer used for training. The team is assigned this mission because of their specific skills that can help capture the ostrich.\n",
      "\n",
      "Location:\n",
      "Training Ground Zero, which is now a preserve for fierce and unusual beasts from throughout the world. It was once a popular place for conducting Chunin Exams but has been closed off due to its changed ecology.\n",
      "\n",
      "Jutsu:\n",
      "- Shadow Clone Jutsu: Used by Condor to create clones of himself, causing confusion for the team.\n",
      "- Water Style: Syrup Trap: Izumo uses this jutsu to trap one of the ostrich clones.\n",
      "- Ostrich Meteor Blast: A powerful attack used by Condor against the team.\n",
      "\n",
      "In summary, Naruto and his team are assigned a mission to capture an escaped ostrich named Condor in the restricted Training Ground Zero. The ostrich is highly intelligent and skilled, making it difficult for the team. They must use their individual abilities to work together and overcome these obstacles.\n"
     ]
    }
   ],
   "source": [
    "indices, scores = search_in_dialogue(index, \"Jiraiya\")\n",
    "for idx, score in zip(indices, scores):\n",
    "    print(idx, score)\n",
    "    # format 3 digits\n",
    "    print(episodes[str(idx).zfill(3)])"
   ]
  },
  {
   "cell_type": "markdown",
   "metadata": {},
   "source": [
    "# Convert into sub-prompt"
   ]
  },
  {
   "cell_type": "code",
   "execution_count": 29,
   "metadata": {},
   "outputs": [],
   "source": [
    "def get_chain(\n",
    "    llm_url, model_name, template, temperature: float = 0.5, max_tokens: int = -1\n",
    "):\n",
    "    client = ChatOpenAI(\n",
    "        temperature=temperature,\n",
    "        base_url=llm_url,\n",
    "        model_name=model_name,\n",
    "        api_key=api_key,\n",
    "        max_tokens=max_tokens,\n",
    "    )\n",
    "    map_prompt = PromptTemplate.from_template(template)\n",
    "    return LLMChain(llm=client, prompt=map_prompt)\n",
    "\n",
    "\n",
    "class ChainsList:\n",
    "    def __init__(self, chains, document_variable: str = \"content\") -> None:\n",
    "        self.chains = chains\n",
    "        self.document_variable = document_variable\n",
    "\n",
    "    def invoke(self, input, return_intermediate_steps=False):\n",
    "        outputs = []\n",
    "        for chain in self.chains:\n",
    "            output = chain.invoke(input)\n",
    "            outputs.append(output)\n",
    "            input[self.document_variable] = output[\"text\"]\n",
    "\n",
    "        return outputs[-1] if not return_intermediate_steps else outputs"
   ]
  },
  {
   "cell_type": "code",
   "execution_count": 22,
   "metadata": {},
   "outputs": [],
   "source": [
    "event_template = \"\"\"You are manga nerd and you are watching Naruto\n",
    "# Instruction\n",
    "Convert the dialog to narrative and formal style for each event. Return in list of dialogues with number\n",
    "\n",
    "# Guideline\n",
    "- Both contents are in English\n",
    "- Be informative, concise\n",
    "\n",
    "### Input\n",
    "{content}\n",
    "\n",
    "### Response\n",
    "\"\"\"\n",
    "\n",
    "plot_template = \"\"\"You are manga nerd and you are watching Naruto\n",
    "# Instruction\n",
    "Convert the dialogue into a plot\n",
    "\n",
    "# Guideline\n",
    "- Both contents are in English\n",
    "- Be informative, concise\n",
    "\n",
    "### Input\n",
    "{content}\n",
    "\n",
    "### Response\n",
    "\"\"\"\n",
    "\n",
    "character_template = \"\"\"You are manga nerd and you are watching Naruto\n",
    "### Instruction\n",
    "Extract characters from the dialogue. Return Python list only. No furthur explained\n",
    "\n",
    "### Guideline\n",
    "- Both contents are in English\n",
    "- Be informative, concise\n",
    "\n",
    "### Input\n",
    "{content}\n",
    "\n",
    "### Response\n",
    "\"\"\"\n",
    "\n",
    "events_template = \"\"\"You are manga nerd and you are watching Naruto. You are asked to summarize the events in the subtitle.\n",
    "### Instruction\n",
    "#### Summarize events in this subtitle\n",
    "In clear and concise language, summarize chunk of sentences will take about the interactive events among the characters.\n",
    "\n",
    "#### Generate \n",
    "Generate summary events, characters info, why it happened, where it happened and how it happened\n",
    "\n",
    "### Guideline\n",
    "- Both contents are in English\n",
    "- Be informative, concise\n",
    "- Return in list with number.\n",
    "    1. \n",
    "    2. \n",
    "\n",
    "### Input\n",
    "{content}\n",
    "\n",
    "### Response\n",
    "\"\"\"\n",
    "\n",
    "rewrite_template = \"\"\"You are manga nerd and you are watching Naruto. You are asked to summarize the events in the subtitle.\n",
    "### Instruction\n",
    "Re-write this summary into coherence paragraphs.\n",
    "\n",
    "### Guideline\n",
    "- Both contents are in English\n",
    "- Be informative, concise\n",
    "\n",
    "### Input\n",
    "{content}\n",
    "\n",
    "### Response\n",
    "\"\"\"\n",
    "\n",
    "incremental_events_template = \"\"\"You are manga nerd and you are watching Naruto. You are asked to summarize the events in the subtitle.\n",
    "### Instruction\n",
    "#### Summarize events in this subtitle\n",
    "In clear and concise language, summarize chunk of sentences will take about the interactive events among the characters.\n",
    "\n",
    "\n",
    "### Steps by steps\n",
    "1. Analyze plots, events from previous episode if provided \n",
    "2. Identify plots, events, characters from the subtitle\n",
    "3. Then, check again those are factually consistent with the reviews.\n",
    "3. Generate summary events, characters info, why it happened, where it happened and how it happened\n",
    "\n",
    "### Guideline\n",
    "- Return only, no furthur explain or self-explain\n",
    "- Both contents are in English\n",
    "- Be informative, concise\n",
    "- Return in list with number. Example: \n",
    "    1. Event is \n",
    "    2. Naruto trains\n",
    "\n",
    "### Previous Episode summary\n",
    "{prev}\n",
    "    \n",
    "### Input\n",
    "{content}\n",
    "\n",
    "### Response\n",
    "\"\"\""
   ]
  },
  {
   "cell_type": "code",
   "execution_count": 30,
   "metadata": {},
   "outputs": [],
   "source": [
    "model_name = \"lmstudio-community/Meta-Llama-3-8B-Instruct-GGUF/Meta-Llama-3-8B-Instruct-Q8_0.gguf\"\n",
    "plot_llm_chain = get_chain(llm_url, model_name, incremental_events_template)\n",
    "rewrite_llm_chain = get_chain(llm_url, model_name, rewrite_template)\n",
    "chain_list = ChainsList([plot_llm_chain, rewrite_llm_chain])"
   ]
  },
  {
   "cell_type": "code",
   "execution_count": 38,
   "metadata": {},
   "outputs": [
    {
     "name": "stdout",
     "output_type": "stream",
     "text": [
      "/Users/nhuantran/Downloads/Naruto English Subtitles 1-135/(SB-RAW)NARUTO E001 (R2DVD 960x728 x264 AC3).en.srt\n",
      "/Users/nhuantran/Downloads/Naruto English Subtitles 1-135/(SB-RAW)NARUTO E002 (R2DVD 960x728 x264 AC3).en.srt\n",
      "/Users/nhuantran/Downloads/Naruto English Subtitles 1-135/(SB-RAW)NARUTO E003 (R2DVD 960x728 x264 AC3).en.srt\n",
      "/Users/nhuantran/Downloads/Naruto English Subtitles 1-135/(SB-RAW)NARUTO E004 (R2DVD 960x728 x264 AC3).en.srt\n",
      "/Users/nhuantran/Downloads/Naruto English Subtitles 1-135/(SB-RAW)NARUTO E005 (R2DVD 960x728 x264 AC3).en.srt\n",
      "/Users/nhuantran/Downloads/Naruto English Subtitles 1-135/(SB-RAW)NARUTO E006 (R2DVD 960x728 x264 AC3).en.srt\n",
      "/Users/nhuantran/Downloads/Naruto English Subtitles 1-135/(SB-RAW)NARUTO E007 (R2DVD 960x728 x264 AC3).en.srt\n",
      "/Users/nhuantran/Downloads/Naruto English Subtitles 1-135/(SB-RAW)NARUTO E008 (R2DVD 960x728 x264 AC3).en.srt\n",
      "/Users/nhuantran/Downloads/Naruto English Subtitles 1-135/(SB-RAW)NARUTO E009 (R2DVD 960x728 x264 AC3).en.srt\n",
      "/Users/nhuantran/Downloads/Naruto English Subtitles 1-135/(SB-RAW)NARUTO E010 (R2DVD 960x728 x264 AC3).en.srt\n",
      "/Users/nhuantran/Downloads/Naruto English Subtitles 1-135/(SB-RAW)NARUTO E011 (R2DVD 960x728 x264 AC3).en.srt\n",
      "/Users/nhuantran/Downloads/Naruto English Subtitles 1-135/(SB-RAW)NARUTO E012 (R2DVD 960x728 x264 AC3).en.srt\n",
      "/Users/nhuantran/Downloads/Naruto English Subtitles 1-135/(SB-RAW)NARUTO E013 (R2DVD 960x728 x264 AC3).en.srt\n",
      "/Users/nhuantran/Downloads/Naruto English Subtitles 1-135/(SB-RAW)NARUTO E014 (R2DVD 960x728 x264 AC3).en.srt\n",
      "/Users/nhuantran/Downloads/Naruto English Subtitles 1-135/(SB-RAW)NARUTO E015 (R2DVD 960x728 x264 AC3).en.srt\n",
      "/Users/nhuantran/Downloads/Naruto English Subtitles 1-135/(SB-RAW)NARUTO E016 (R2DVD 960x728 x264 AC3).en.srt\n",
      "/Users/nhuantran/Downloads/Naruto English Subtitles 1-135/(SB-RAW)NARUTO E017 (R2DVD 960x728 x264 AC3).en.srt\n",
      "/Users/nhuantran/Downloads/Naruto English Subtitles 1-135/(SB-RAW)NARUTO E018 (R2DVD 960x728 x264 AC3).en.srt\n",
      "/Users/nhuantran/Downloads/Naruto English Subtitles 1-135/(SB-RAW)NARUTO E019 (R2DVD 960x728 x264 AC3).en.srt\n",
      "/Users/nhuantran/Downloads/Naruto English Subtitles 1-135/(SB-RAW)NARUTO E020 (R2DVD 960x728 x264 AC3).en.srt\n",
      "/Users/nhuantran/Downloads/Naruto English Subtitles 1-135/(SB-RAW)NARUTO E021 (R2DVD 960x728 x264 AC3).en.srt\n",
      "/Users/nhuantran/Downloads/Naruto English Subtitles 1-135/(SB-RAW)NARUTO E022 (R2DVD 960x728 x264 AC3).en.srt\n",
      "/Users/nhuantran/Downloads/Naruto English Subtitles 1-135/(SB-RAW)NARUTO E023 (R2DVD 960x728 x264 AC3).en.srt\n",
      "/Users/nhuantran/Downloads/Naruto English Subtitles 1-135/(SB-RAW)NARUTO E024 (R2DVD 960x728 x264 AC3).en.srt\n",
      "/Users/nhuantran/Downloads/Naruto English Subtitles 1-135/(SB-RAW)NARUTO E025 (R2DVD 960x728 x264 AC3).en.srt\n",
      "/Users/nhuantran/Downloads/Naruto English Subtitles 1-135/(SB-RAW)NARUTO E026 (R2DVD 960x728 x264 AC3).en.srt\n",
      "/Users/nhuantran/Downloads/Naruto English Subtitles 1-135/(SB-RAW)NARUTO E027 (R2DVD 960x728 x264 AC3).en.srt\n",
      "/Users/nhuantran/Downloads/Naruto English Subtitles 1-135/(SB-RAW)NARUTO E028 (R2DVD 960x728 x264 AC3).en.srt\n",
      "/Users/nhuantran/Downloads/Naruto English Subtitles 1-135/(SB-RAW)NARUTO E029 (R2DVD 960x728 x264 AC3).en.srt\n",
      "/Users/nhuantran/Downloads/Naruto English Subtitles 1-135/(SB-RAW)NARUTO E030 (R2DVD 960x728 x264 AC3).en.srt\n",
      "/Users/nhuantran/Downloads/Naruto English Subtitles 1-135/(SB-RAW)NARUTO E031 (R2DVD 960x728 x264 AC3).en.srt\n",
      "/Users/nhuantran/Downloads/Naruto English Subtitles 1-135/(SB-RAW)NARUTO E032 (R2DVD 960x728 x264 AC3).en.srt\n",
      "/Users/nhuantran/Downloads/Naruto English Subtitles 1-135/(SB-RAW)NARUTO E033 (R2DVD 960x728 x264 AC3).en.srt\n",
      "/Users/nhuantran/Downloads/Naruto English Subtitles 1-135/(SB-RAW)NARUTO E034 (R2DVD 960x728 x264 AC3).en.srt\n",
      "/Users/nhuantran/Downloads/Naruto English Subtitles 1-135/(SB-RAW)NARUTO E035 (R2DVD 960x728 x264 AC3).en.srt\n",
      "/Users/nhuantran/Downloads/Naruto English Subtitles 1-135/(SB-RAW)NARUTO E036 (R2DVD 960x728 x264 AC3).en.srt\n",
      "/Users/nhuantran/Downloads/Naruto English Subtitles 1-135/(SB-RAW)NARUTO E037 (R2DVD 960x728 x264 AC3).en.srt\n",
      "/Users/nhuantran/Downloads/Naruto English Subtitles 1-135/(SB-RAW)NARUTO E038 (R2DVD 960x728 x264 AC3).en.srt\n",
      "/Users/nhuantran/Downloads/Naruto English Subtitles 1-135/(SB-RAW)NARUTO E039 (R2DVD 960x728 x264 AC3).en.srt\n",
      "/Users/nhuantran/Downloads/Naruto English Subtitles 1-135/(SB-RAW)NARUTO E040 (R2DVD 960x728 x264 AC3).en.srt\n",
      "/Users/nhuantran/Downloads/Naruto English Subtitles 1-135/(SB-RAW)NARUTO E041 (R2DVD 960x728 x264 AC3).en.srt\n",
      "/Users/nhuantran/Downloads/Naruto English Subtitles 1-135/(SB-RAW)NARUTO E042 (R2DVD 960x728 x264 AC3).en.srt\n",
      "/Users/nhuantran/Downloads/Naruto English Subtitles 1-135/(SB-RAW)NARUTO E043 (R2DVD 960x728 x264 AC3).en.srt\n",
      "/Users/nhuantran/Downloads/Naruto English Subtitles 1-135/(SB-RAW)NARUTO E044 (R2DVD 960x728 x264 AC3).en.srt\n",
      "/Users/nhuantran/Downloads/Naruto English Subtitles 1-135/(SB-RAW)NARUTO E045 (R2DVD 960x728 x264 AC3).en.srt\n",
      "/Users/nhuantran/Downloads/Naruto English Subtitles 1-135/(SB-RAW)NARUTO E046 (R2DVD 960x728 x264 AC3).en.srt\n",
      "/Users/nhuantran/Downloads/Naruto English Subtitles 1-135/(SB-RAW)NARUTO E047 (R2DVD 960x728 x264 AC3).en.srt\n",
      "/Users/nhuantran/Downloads/Naruto English Subtitles 1-135/(SB-RAW)NARUTO E048 (R2DVD 960x728 x264 AC3).en.srt\n",
      "/Users/nhuantran/Downloads/Naruto English Subtitles 1-135/(SB-RAW)NARUTO E049 (R2DVD 960x728 x264 AC3).en.srt\n",
      "/Users/nhuantran/Downloads/Naruto English Subtitles 1-135/(SB-RAW)NARUTO E050 (R2DVD 960x728 x264 AC3).en.srt\n",
      "/Users/nhuantran/Downloads/Naruto English Subtitles 1-135/(SB-RAW)NARUTO E051 (R2DVD 960x728 x264 AC3).en.srt\n",
      "/Users/nhuantran/Downloads/Naruto English Subtitles 1-135/(SB-RAW)NARUTO E052 (R2DVD 960x728 x264 AC3).en.srt\n",
      "/Users/nhuantran/Downloads/Naruto English Subtitles 1-135/(SB-RAW)NARUTO E053 (R2DVD 960x728 x264 AC3).en.srt\n",
      "/Users/nhuantran/Downloads/Naruto English Subtitles 1-135/(SB-RAW)NARUTO E054 (R2DVD 960x728 x264 AC3).en.srt\n",
      "/Users/nhuantran/Downloads/Naruto English Subtitles 1-135/(SB-RAW)NARUTO E055 (R2DVD 960x728 x264 AC3).en.srt\n",
      "/Users/nhuantran/Downloads/Naruto English Subtitles 1-135/(SB-RAW)NARUTO E056 (R2DVD 960x728 x264 AC3).en.srt\n",
      "/Users/nhuantran/Downloads/Naruto English Subtitles 1-135/(SB-RAW)NARUTO E057 (R2DVD 960x728 x264 AC3).en.srt\n",
      "/Users/nhuantran/Downloads/Naruto English Subtitles 1-135/(SB-RAW)NARUTO E058 (R2DVD 960x728 x264 AC3).en.srt\n",
      "/Users/nhuantran/Downloads/Naruto English Subtitles 1-135/(SB-RAW)NARUTO E059 (R2DVD 960x728 x264 AC3).en.srt\n",
      "/Users/nhuantran/Downloads/Naruto English Subtitles 1-135/(SB-RAW)NARUTO E060 (R2DVD 960x728 x264 AC3).en.srt\n",
      "/Users/nhuantran/Downloads/Naruto English Subtitles 1-135/(SB-RAW)NARUTO E061 (R2DVD 960x728 x264 AC3).en.srt\n",
      "/Users/nhuantran/Downloads/Naruto English Subtitles 1-135/(SB-RAW)NARUTO E062 (R2DVD 960x728 x264 AC3).en.srt\n",
      "/Users/nhuantran/Downloads/Naruto English Subtitles 1-135/(SB-RAW)NARUTO E063 (R2DVD 960x728 x264 AC3).en.srt\n",
      "/Users/nhuantran/Downloads/Naruto English Subtitles 1-135/(SB-RAW)NARUTO E064 (R2DVD 960x728 x264 AC3).en.srt\n",
      "/Users/nhuantran/Downloads/Naruto English Subtitles 1-135/(SB-RAW)NARUTO E065 (R2DVD 960x728 x264 AC3).en.srt\n",
      "/Users/nhuantran/Downloads/Naruto English Subtitles 1-135/(SB-RAW)NARUTO E066 (R2DVD 960x728 x264 AC3).en.srt\n",
      "/Users/nhuantran/Downloads/Naruto English Subtitles 1-135/(SB-RAW)NARUTO E067 (R2DVD 960x728 x264 AC3).en.srt\n",
      "/Users/nhuantran/Downloads/Naruto English Subtitles 1-135/(SB-RAW)NARUTO E068 (R2DVD 960x728 x264 AC3).en.srt\n",
      "/Users/nhuantran/Downloads/Naruto English Subtitles 1-135/(SB-RAW)NARUTO E069 (R2DVD 960x728 x264 AC3).en.srt\n",
      "/Users/nhuantran/Downloads/Naruto English Subtitles 1-135/(SB-RAW)NARUTO E070 (R2DVD 960x728 x264 AC3).en.srt\n",
      "/Users/nhuantran/Downloads/Naruto English Subtitles 1-135/(SB-RAW)NARUTO E071 (R2DVD 960x728 x264 AC3).en.srt\n",
      "/Users/nhuantran/Downloads/Naruto English Subtitles 1-135/(SB-RAW)NARUTO E072 (R2DVD 960x728 x264 AC3).en.srt\n",
      "/Users/nhuantran/Downloads/Naruto English Subtitles 1-135/(SB-RAW)NARUTO E073 (R2DVD 960x728 x264 AC3).en.srt\n",
      "/Users/nhuantran/Downloads/Naruto English Subtitles 1-135/(SB-RAW)NARUTO E074 (R2DVD 960x728 x264 AC3).en.srt\n",
      "/Users/nhuantran/Downloads/Naruto English Subtitles 1-135/(SB-RAW)NARUTO E075 (R2DVD 960x728 x264 AC3).en.srt\n",
      "/Users/nhuantran/Downloads/Naruto English Subtitles 1-135/(SB-RAW)NARUTO E076 (R2DVD 960x728 x264 AC3).en.srt\n",
      "/Users/nhuantran/Downloads/Naruto English Subtitles 1-135/(SB-RAW)NARUTO E077 (R2DVD 960x728 x264 AC3).en.srt\n",
      "/Users/nhuantran/Downloads/Naruto English Subtitles 1-135/(SB-RAW)NARUTO E078 (R2DVD 960x728 x264 AC3).en.srt\n",
      "/Users/nhuantran/Downloads/Naruto English Subtitles 1-135/(SB-RAW)NARUTO E079 (R2DVD 960x728 x264 AC3).en.srt\n",
      "/Users/nhuantran/Downloads/Naruto English Subtitles 1-135/(SB-RAW)NARUTO E080 (R2DVD 960x728 x264 AC3).en.srt\n",
      "/Users/nhuantran/Downloads/Naruto English Subtitles 1-135/(SB-RAW)NARUTO E081 (R2DVD 960x728 x264 AC3).en.srt\n",
      "/Users/nhuantran/Downloads/Naruto English Subtitles 1-135/(SB-RAW)NARUTO E082 (R2DVD 960x728 x264 AC3).en.srt\n",
      "/Users/nhuantran/Downloads/Naruto English Subtitles 1-135/(SB-RAW)NARUTO E083 (R2DVD 960x728 x264 AC3).en.srt\n",
      "/Users/nhuantran/Downloads/Naruto English Subtitles 1-135/(SB-RAW)NARUTO E084 (R2DVD 960x728 x264 AC3).en.srt\n",
      "/Users/nhuantran/Downloads/Naruto English Subtitles 1-135/(SB-RAW)NARUTO E085 (R2DVD 960x728 x264 AC3).en.srt\n",
      "/Users/nhuantran/Downloads/Naruto English Subtitles 1-135/(SB-RAW)NARUTO E086 (R2DVD 960x728 x264 AC3).en.srt\n",
      "/Users/nhuantran/Downloads/Naruto English Subtitles 1-135/(SB-RAW)NARUTO E087 (R2DVD 960x728 x264 AC3).en.srt\n",
      "/Users/nhuantran/Downloads/Naruto English Subtitles 1-135/(SB-RAW)NARUTO E088 (R2DVD 960x728 x264 AC3).en.srt\n",
      "/Users/nhuantran/Downloads/Naruto English Subtitles 1-135/(SB-RAW)NARUTO E089 (R2DVD 960x728 x264 AC3).en.srt\n",
      "/Users/nhuantran/Downloads/Naruto English Subtitles 1-135/(SB-RAW)NARUTO E090 (R2DVD 960x728 x264 AC3).en.srt\n",
      "/Users/nhuantran/Downloads/Naruto English Subtitles 1-135/(SB-RAW)NARUTO E091 (R2DVD 960x728 x264 AC3).en.srt\n",
      "/Users/nhuantran/Downloads/Naruto English Subtitles 1-135/(SB-RAW)NARUTO E092 (R2DVD 960x728 x264 AC3).en.srt\n",
      "/Users/nhuantran/Downloads/Naruto English Subtitles 1-135/(SB-RAW)NARUTO E093 (R2DVD 960x728 x264 AC3).en.srt\n",
      "/Users/nhuantran/Downloads/Naruto English Subtitles 1-135/(SB-RAW)NARUTO E094 (R2DVD 960x728 x264 AC3).en.srt\n",
      "/Users/nhuantran/Downloads/Naruto English Subtitles 1-135/(SB-RAW)NARUTO E095 (R2DVD 960x728 x264 AC3).en.srt\n",
      "/Users/nhuantran/Downloads/Naruto English Subtitles 1-135/(SB-RAW)NARUTO E096 (R2DVD 960x728 x264 AC3).en.srt\n",
      "/Users/nhuantran/Downloads/Naruto English Subtitles 1-135/(SB-RAW)NARUTO E097 (R2DVD 960x728 x264 AC3).en.srt\n",
      "/Users/nhuantran/Downloads/Naruto English Subtitles 1-135/(SB-RAW)NARUTO E098 (R2DVD 960x728 x264 AC3).en.srt\n",
      "/Users/nhuantran/Downloads/Naruto English Subtitles 1-135/(SB-RAW)NARUTO E099 (R2DVD 960x728 x264 AC3).en.srt\n",
      "/Users/nhuantran/Downloads/Naruto English Subtitles 1-135/(SB-RAW)NARUTO E100 (R2DVD 960x728 x264 AC3).en.srt\n",
      "/Users/nhuantran/Downloads/Naruto English Subtitles 1-135/(SB-RAW)NARUTO E101 (R2DVD 960x728 x264 AC3).en.srt\n",
      "/Users/nhuantran/Downloads/Naruto English Subtitles 1-135/(SB-RAW)NARUTO E102 (R2DVD 960x728 x264 AC3).en.srt\n",
      "/Users/nhuantran/Downloads/Naruto English Subtitles 1-135/(SB-RAW)NARUTO E103 (R2DVD 960x728 x264 AC3).en.srt\n",
      "/Users/nhuantran/Downloads/Naruto English Subtitles 1-135/(SB-RAW)NARUTO E104 (R2DVD 960x728 x264 AC3).en.srt\n",
      "/Users/nhuantran/Downloads/Naruto English Subtitles 1-135/(SB-RAW)NARUTO E105 (R2DVD 960x728 x264 AC3).en.srt\n",
      "/Users/nhuantran/Downloads/Naruto English Subtitles 1-135/(SB-RAW)NARUTO E106 (R2DVD 960x728 x264 AC3).en.srt\n",
      "/Users/nhuantran/Downloads/Naruto English Subtitles 1-135/(SB-RAW)NARUTO E107 (R2DVD 960x728 x264 AC3).en.srt\n",
      "/Users/nhuantran/Downloads/Naruto English Subtitles 1-135/(SB-RAW)NARUTO E108 (R2DVD 960x728 x264 AC3).en.srt\n",
      "/Users/nhuantran/Downloads/Naruto English Subtitles 1-135/(SB-RAW)NARUTO E109 (R2DVD 960x728 x264 AC3).en.srt\n",
      "/Users/nhuantran/Downloads/Naruto English Subtitles 1-135/(SB-RAW)NARUTO E110 (R2DVD 960x728 x264 AC3).en.srt\n",
      "/Users/nhuantran/Downloads/Naruto English Subtitles 1-135/(SB-RAW)NARUTO E111 (R2DVD 960x728 x264 AC3).en.srt\n",
      "/Users/nhuantran/Downloads/Naruto English Subtitles 1-135/(SB-RAW)NARUTO E112 (R2DVD 960x728 x264 AC3).en.srt\n",
      "/Users/nhuantran/Downloads/Naruto English Subtitles 1-135/(SB-RAW)NARUTO E113 (R2DVD 960x728 x264 AC3).en.srt\n",
      "/Users/nhuantran/Downloads/Naruto English Subtitles 1-135/(SB-RAW)NARUTO E114 (R2DVD 960x728 x264 AC3).en.srt\n",
      "/Users/nhuantran/Downloads/Naruto English Subtitles 1-135/(SB-RAW)NARUTO E115 (R2DVD 960x728 x264 AC3).en.srt\n",
      "/Users/nhuantran/Downloads/Naruto English Subtitles 1-135/(SB-RAW)NARUTO E116 (R2DVD 960x728 x264 AC3).en.srt\n",
      "/Users/nhuantran/Downloads/Naruto English Subtitles 1-135/(SB-RAW)NARUTO E117 (R2DVD 960x728 x264 AC3).en.srt\n",
      "/Users/nhuantran/Downloads/Naruto English Subtitles 1-135/(SB-RAW)NARUTO E118 (R2DVD 960x728 x264 AC3).en.srt\n",
      "/Users/nhuantran/Downloads/Naruto English Subtitles 1-135/(SB-RAW)NARUTO E119 (R2DVD 960x728 x264 AC3).en.srt\n",
      "/Users/nhuantran/Downloads/Naruto English Subtitles 1-135/(SB-RAW)NARUTO E120 (R2DVD 960x728 x264 AC3).en.srt\n",
      "/Users/nhuantran/Downloads/Naruto English Subtitles 1-135/(SB-RAW)NARUTO E121 (R2DVD 960x728 x264 AC3).en.srt\n",
      "/Users/nhuantran/Downloads/Naruto English Subtitles 1-135/(SB-RAW)NARUTO E122 (R2DVD 960x728 x264 AC3).en.srt\n",
      "/Users/nhuantran/Downloads/Naruto English Subtitles 1-135/(SB-RAW)NARUTO E123 (R2DVD 960x728 x264 AC3).en.srt\n",
      "/Users/nhuantran/Downloads/Naruto English Subtitles 1-135/(SB-RAW)NARUTO E124 (R2DVD 960x728 x264 AC3).en.srt\n",
      "/Users/nhuantran/Downloads/Naruto English Subtitles 1-135/(SB-RAW)NARUTO E125 (R2DVD 960x728 x264 AC3).en.srt\n",
      "/Users/nhuantran/Downloads/Naruto English Subtitles 1-135/(SB-RAW)NARUTO E126 (R2DVD 960x728 x264 AC3).en.srt\n",
      "/Users/nhuantran/Downloads/Naruto English Subtitles 1-135/(SB-RAW)NARUTO E127 (R2DVD 960x728 x264 AC3).en.srt\n",
      "/Users/nhuantran/Downloads/Naruto English Subtitles 1-135/(SB-RAW)NARUTO E128 (R2DVD 960x728 x264 AC3).en.srt\n",
      "/Users/nhuantran/Downloads/Naruto English Subtitles 1-135/(SB-RAW)NARUTO E129 (R2DVD 960x728 x264 AC3).en.srt\n",
      "/Users/nhuantran/Downloads/Naruto English Subtitles 1-135/(SB-RAW)NARUTO E130 (R2DVD 960x728 x264 AC3).en.srt\n",
      "/Users/nhuantran/Downloads/Naruto English Subtitles 1-135/(SB-RAW)NARUTO E131 (R2DVD 960x728 x264 AC3).en.srt\n",
      "/Users/nhuantran/Downloads/Naruto English Subtitles 1-135/(SB-RAW)NARUTO E132 (R2DVD 960x728 x264 AC3).en.srt\n",
      "/Users/nhuantran/Downloads/Naruto English Subtitles 1-135/(SB-RAW)NARUTO E133 (R2DVD 960x728 x264 AC3).en.srt\n",
      "/Users/nhuantran/Downloads/Naruto English Subtitles 1-135/(SB-RAW)NARUTO E134 (R2DVD 960x728 x264 AC3).en.srt\n",
      "/Users/nhuantran/Downloads/Naruto English Subtitles 1-135/(SB-RAW)NARUTO E135 (R2DVD 960x728 x264 AC3).en.srt\n"
     ]
    }
   ],
   "source": [
    "from glob import glob\n",
    "\n",
    "prev, current = \"\", \"\"\n",
    "\n",
    "with open(\"../data/naruto_subtitle_summarize_by_episode.json\", \"w\") as f:\n",
    "    for i, fpath in enumerate(\n",
    "        sorted(glob(\"/Users/nhuantran/Downloads/Naruto English Subtitles 1-135/*.srt\"))\n",
    "    ):\n",
    "        print(fpath)\n",
    "        episode_number = str(i + 1).zfill(3)\n",
    "        subtitles = extract_subtitles(fpath)\n",
    "        content = \"\\n\".join(subtitles)\n",
    "        output = chain_list.invoke({\"content\": content, \"prev\": prev})\n",
    "        prev = output[\"text\"]\n",
    "        f.write(\n",
    "            json.dumps({\"episode_number\": episode_number, \"content\": output[\"text\"]})\n",
    "            + \"\\n\"\n",
    "        )"
   ]
  },
  {
   "cell_type": "code",
   "execution_count": 45,
   "metadata": {},
   "outputs": [],
   "source": [
    "season_one_path = \"../data/naruto_subtitle_summarize_by_episode.json\"\n",
    "lines = [json.loads(l) for l in open(season_one_path).readlines()]"
   ]
  },
  {
   "cell_type": "code",
   "execution_count": 74,
   "metadata": {},
   "outputs": [],
   "source": [
    "last_content = \"-\".join([lines[i][\"content\"] for i in range(-6, 0, 1)])"
   ]
  },
  {
   "cell_type": "code",
   "execution_count": 75,
   "metadata": {},
   "outputs": [
    {
     "name": "stderr",
     "output_type": "stream",
     "text": [
      "0it [00:00, ?it/s]"
     ]
    },
    {
     "name": "stdout",
     "output_type": "stream",
     "text": [
      "Process  /Users/nhuantran/Downloads/Naruto Shippuuden English Subs/[HorribleSubs] Naruto Shippuuden - 001 [480p].ass\n"
     ]
    },
    {
     "name": "stderr",
     "output_type": "stream",
     "text": [
      "1it [01:03, 63.38s/it]"
     ]
    },
    {
     "name": "stdout",
     "output_type": "stream",
     "text": [
      "Process  /Users/nhuantran/Downloads/Naruto Shippuuden English Subs/[HorribleSubs] Naruto Shippuuden - 002 [480p].ass\n"
     ]
    },
    {
     "name": "stderr",
     "output_type": "stream",
     "text": [
      "2it [01:52, 54.99s/it]"
     ]
    },
    {
     "name": "stdout",
     "output_type": "stream",
     "text": [
      "Process  /Users/nhuantran/Downloads/Naruto Shippuuden English Subs/[HorribleSubs] Naruto Shippuuden - 003 [480p].ass\n"
     ]
    },
    {
     "name": "stderr",
     "output_type": "stream",
     "text": [
      "3it [02:31, 47.48s/it]"
     ]
    },
    {
     "name": "stdout",
     "output_type": "stream",
     "text": [
      "Process  /Users/nhuantran/Downloads/Naruto Shippuuden English Subs/[HorribleSubs] Naruto Shippuuden - 004 [480p].ass\n"
     ]
    },
    {
     "name": "stderr",
     "output_type": "stream",
     "text": [
      "4it [03:12, 45.08s/it]"
     ]
    },
    {
     "name": "stdout",
     "output_type": "stream",
     "text": [
      "Process  /Users/nhuantran/Downloads/Naruto Shippuuden English Subs/[HorribleSubs] Naruto Shippuuden - 005 [480p].ass\n"
     ]
    },
    {
     "name": "stderr",
     "output_type": "stream",
     "text": [
      "5it [03:55, 44.47s/it]"
     ]
    },
    {
     "name": "stdout",
     "output_type": "stream",
     "text": [
      "Process  /Users/nhuantran/Downloads/Naruto Shippuuden English Subs/[HorribleSubs] Naruto Shippuuden - 006 [480p].ass\n"
     ]
    },
    {
     "name": "stderr",
     "output_type": "stream",
     "text": [
      "6it [04:40, 44.40s/it]"
     ]
    },
    {
     "name": "stdout",
     "output_type": "stream",
     "text": [
      "Process  /Users/nhuantran/Downloads/Naruto Shippuuden English Subs/[HorribleSubs] Naruto Shippuuden - 007 [480p].ass\n"
     ]
    },
    {
     "name": "stderr",
     "output_type": "stream",
     "text": [
      "7it [05:20, 42.94s/it]"
     ]
    },
    {
     "name": "stdout",
     "output_type": "stream",
     "text": [
      "Process  /Users/nhuantran/Downloads/Naruto Shippuuden English Subs/[HorribleSubs] Naruto Shippuuden - 008 [480p].ass\n"
     ]
    },
    {
     "name": "stderr",
     "output_type": "stream",
     "text": [
      "8it [06:03, 43.22s/it]"
     ]
    },
    {
     "name": "stdout",
     "output_type": "stream",
     "text": [
      "Process  /Users/nhuantran/Downloads/Naruto Shippuuden English Subs/[HorribleSubs] Naruto Shippuuden - 009 [480p].ass\n"
     ]
    },
    {
     "name": "stderr",
     "output_type": "stream",
     "text": [
      "9it [06:49, 44.13s/it]"
     ]
    },
    {
     "name": "stdout",
     "output_type": "stream",
     "text": [
      "Process  /Users/nhuantran/Downloads/Naruto Shippuuden English Subs/[HorribleSubs] Naruto Shippuuden - 010 [480p].ass\n"
     ]
    },
    {
     "name": "stderr",
     "output_type": "stream",
     "text": [
      "10it [07:28, 42.30s/it]"
     ]
    },
    {
     "name": "stdout",
     "output_type": "stream",
     "text": [
      "Process  /Users/nhuantran/Downloads/Naruto Shippuuden English Subs/[HorribleSubs] Naruto Shippuuden - 011 [480p].ass\n"
     ]
    },
    {
     "name": "stderr",
     "output_type": "stream",
     "text": [
      "11it [08:19, 44.95s/it]"
     ]
    },
    {
     "name": "stdout",
     "output_type": "stream",
     "text": [
      "Process  /Users/nhuantran/Downloads/Naruto Shippuuden English Subs/[HorribleSubs] Naruto Shippuuden - 012 [480p].ass\n"
     ]
    },
    {
     "name": "stderr",
     "output_type": "stream",
     "text": [
      "12it [09:07, 46.12s/it]"
     ]
    },
    {
     "name": "stdout",
     "output_type": "stream",
     "text": [
      "Process  /Users/nhuantran/Downloads/Naruto Shippuuden English Subs/[HorribleSubs] Naruto Shippuuden - 013 [480p].ass\n"
     ]
    },
    {
     "name": "stderr",
     "output_type": "stream",
     "text": [
      "13it [10:03, 49.07s/it]"
     ]
    },
    {
     "name": "stdout",
     "output_type": "stream",
     "text": [
      "Process  /Users/nhuantran/Downloads/Naruto Shippuuden English Subs/[HorribleSubs] Naruto Shippuuden - 014 [480p].ass\n"
     ]
    },
    {
     "name": "stderr",
     "output_type": "stream",
     "text": [
      "14it [10:52, 48.96s/it]"
     ]
    },
    {
     "name": "stdout",
     "output_type": "stream",
     "text": [
      "Process  /Users/nhuantran/Downloads/Naruto Shippuuden English Subs/[HorribleSubs] Naruto Shippuuden - 015 [480p].ass\n"
     ]
    },
    {
     "name": "stderr",
     "output_type": "stream",
     "text": [
      "15it [11:52, 52.28s/it]"
     ]
    },
    {
     "name": "stdout",
     "output_type": "stream",
     "text": [
      "Process  /Users/nhuantran/Downloads/Naruto Shippuuden English Subs/[HorribleSubs] Naruto Shippuuden - 016 [480p].ass\n"
     ]
    },
    {
     "name": "stderr",
     "output_type": "stream",
     "text": [
      "16it [12:53, 55.04s/it]"
     ]
    },
    {
     "name": "stdout",
     "output_type": "stream",
     "text": [
      "Process  /Users/nhuantran/Downloads/Naruto Shippuuden English Subs/[HorribleSubs] Naruto Shippuuden - 017 [480p].ass\n"
     ]
    },
    {
     "name": "stderr",
     "output_type": "stream",
     "text": [
      "17it [13:53, 56.46s/it]"
     ]
    },
    {
     "name": "stdout",
     "output_type": "stream",
     "text": [
      "Process  /Users/nhuantran/Downloads/Naruto Shippuuden English Subs/[HorribleSubs] Naruto Shippuuden - 018 [480p].ass\n"
     ]
    },
    {
     "name": "stderr",
     "output_type": "stream",
     "text": [
      "18it [14:38, 52.87s/it]"
     ]
    },
    {
     "name": "stdout",
     "output_type": "stream",
     "text": [
      "Process  /Users/nhuantran/Downloads/Naruto Shippuuden English Subs/[HorribleSubs] Naruto Shippuuden - 019 [480p].ass\n"
     ]
    },
    {
     "name": "stderr",
     "output_type": "stream",
     "text": [
      "19it [15:24, 50.81s/it]"
     ]
    },
    {
     "name": "stdout",
     "output_type": "stream",
     "text": [
      "Process  /Users/nhuantran/Downloads/Naruto Shippuuden English Subs/[HorribleSubs] Naruto Shippuuden - 020 [480p].ass\n"
     ]
    },
    {
     "name": "stderr",
     "output_type": "stream",
     "text": [
      "20it [16:00, 46.47s/it]"
     ]
    },
    {
     "name": "stdout",
     "output_type": "stream",
     "text": [
      "Process  /Users/nhuantran/Downloads/Naruto Shippuuden English Subs/[HorribleSubs] Naruto Shippuuden - 021 [480p].ass\n"
     ]
    },
    {
     "name": "stderr",
     "output_type": "stream",
     "text": [
      "21it [16:46, 46.43s/it]"
     ]
    },
    {
     "name": "stdout",
     "output_type": "stream",
     "text": [
      "Process  /Users/nhuantran/Downloads/Naruto Shippuuden English Subs/[HorribleSubs] Naruto Shippuuden - 022 [480p].ass\n"
     ]
    },
    {
     "name": "stderr",
     "output_type": "stream",
     "text": [
      "22it [17:23, 43.47s/it]"
     ]
    },
    {
     "name": "stdout",
     "output_type": "stream",
     "text": [
      "Process  /Users/nhuantran/Downloads/Naruto Shippuuden English Subs/[HorribleSubs] Naruto Shippuuden - 023 [480p].ass\n"
     ]
    },
    {
     "name": "stderr",
     "output_type": "stream",
     "text": [
      "23it [18:01, 41.78s/it]"
     ]
    },
    {
     "name": "stdout",
     "output_type": "stream",
     "text": [
      "Process  /Users/nhuantran/Downloads/Naruto Shippuuden English Subs/[HorribleSubs] Naruto Shippuuden - 024 [480p].ass\n"
     ]
    },
    {
     "name": "stderr",
     "output_type": "stream",
     "text": [
      "24it [18:41, 41.30s/it]"
     ]
    },
    {
     "name": "stdout",
     "output_type": "stream",
     "text": [
      "Process  /Users/nhuantran/Downloads/Naruto Shippuuden English Subs/[HorribleSubs] Naruto Shippuuden - 025 [480p].ass\n"
     ]
    },
    {
     "name": "stderr",
     "output_type": "stream",
     "text": [
      "25it [19:23, 41.59s/it]"
     ]
    },
    {
     "name": "stdout",
     "output_type": "stream",
     "text": [
      "Process  /Users/nhuantran/Downloads/Naruto Shippuuden English Subs/[HorribleSubs] Naruto Shippuuden - 026 [480p].ass\n"
     ]
    },
    {
     "name": "stderr",
     "output_type": "stream",
     "text": [
      "26it [20:01, 40.58s/it]"
     ]
    },
    {
     "name": "stdout",
     "output_type": "stream",
     "text": [
      "Process  /Users/nhuantran/Downloads/Naruto Shippuuden English Subs/[HorribleSubs] Naruto Shippuuden - 027 [480p].ass\n"
     ]
    },
    {
     "name": "stderr",
     "output_type": "stream",
     "text": [
      "27it [20:53, 43.94s/it]"
     ]
    },
    {
     "name": "stdout",
     "output_type": "stream",
     "text": [
      "Process  /Users/nhuantran/Downloads/Naruto Shippuuden English Subs/[HorribleSubs] Naruto Shippuuden - 028 [480p].ass\n"
     ]
    },
    {
     "name": "stderr",
     "output_type": "stream",
     "text": [
      "28it [21:36, 43.50s/it]"
     ]
    },
    {
     "name": "stdout",
     "output_type": "stream",
     "text": [
      "Process  /Users/nhuantran/Downloads/Naruto Shippuuden English Subs/[HorribleSubs] Naruto Shippuuden - 029 [480p].ass\n"
     ]
    },
    {
     "name": "stderr",
     "output_type": "stream",
     "text": [
      "29it [22:23, 44.54s/it]"
     ]
    },
    {
     "name": "stdout",
     "output_type": "stream",
     "text": [
      "Process  /Users/nhuantran/Downloads/Naruto Shippuuden English Subs/[HorribleSubs] Naruto Shippuuden - 030 [480p].ass\n"
     ]
    },
    {
     "name": "stderr",
     "output_type": "stream",
     "text": [
      "30it [23:01, 42.76s/it]"
     ]
    },
    {
     "name": "stdout",
     "output_type": "stream",
     "text": [
      "Process  /Users/nhuantran/Downloads/Naruto Shippuuden English Subs/[HorribleSubs] Naruto Shippuuden - 031 [480p].ass\n"
     ]
    },
    {
     "name": "stderr",
     "output_type": "stream",
     "text": [
      "31it [23:34, 39.59s/it]"
     ]
    },
    {
     "name": "stdout",
     "output_type": "stream",
     "text": [
      "Process  /Users/nhuantran/Downloads/Naruto Shippuuden English Subs/[HorribleSubs] Naruto Shippuuden - 032 [480p].ass\n"
     ]
    },
    {
     "name": "stderr",
     "output_type": "stream",
     "text": [
      "32it [24:11, 39.07s/it]"
     ]
    },
    {
     "name": "stdout",
     "output_type": "stream",
     "text": [
      "Process  /Users/nhuantran/Downloads/Naruto Shippuuden English Subs/[HorribleSubs] Naruto Shippuuden - 033 [480p].ass\n"
     ]
    },
    {
     "name": "stderr",
     "output_type": "stream",
     "text": [
      "33it [25:01, 42.21s/it]"
     ]
    },
    {
     "name": "stdout",
     "output_type": "stream",
     "text": [
      "Process  /Users/nhuantran/Downloads/Naruto Shippuuden English Subs/[HorribleSubs] Naruto Shippuuden - 034 [480p].ass\n"
     ]
    },
    {
     "name": "stderr",
     "output_type": "stream",
     "text": [
      "34it [25:35, 39.80s/it]"
     ]
    },
    {
     "name": "stdout",
     "output_type": "stream",
     "text": [
      "Process  /Users/nhuantran/Downloads/Naruto Shippuuden English Subs/[HorribleSubs] Naruto Shippuuden - 035 [480p].ass\n"
     ]
    },
    {
     "name": "stderr",
     "output_type": "stream",
     "text": [
      "35it [26:26, 43.01s/it]"
     ]
    },
    {
     "name": "stdout",
     "output_type": "stream",
     "text": [
      "Process  /Users/nhuantran/Downloads/Naruto Shippuuden English Subs/[HorribleSubs] Naruto Shippuuden - 036 [480p].ass\n"
     ]
    },
    {
     "name": "stderr",
     "output_type": "stream",
     "text": [
      "36it [27:14, 44.63s/it]"
     ]
    },
    {
     "name": "stdout",
     "output_type": "stream",
     "text": [
      "Process  /Users/nhuantran/Downloads/Naruto Shippuuden English Subs/[HorribleSubs] Naruto Shippuuden - 037 [480p].ass\n"
     ]
    },
    {
     "name": "stderr",
     "output_type": "stream",
     "text": [
      "37it [27:53, 42.97s/it]"
     ]
    },
    {
     "name": "stdout",
     "output_type": "stream",
     "text": [
      "Process  /Users/nhuantran/Downloads/Naruto Shippuuden English Subs/[HorribleSubs] Naruto Shippuuden - 038 [480p].ass\n"
     ]
    },
    {
     "name": "stderr",
     "output_type": "stream",
     "text": [
      "38it [28:31, 41.58s/it]"
     ]
    },
    {
     "name": "stdout",
     "output_type": "stream",
     "text": [
      "Process  /Users/nhuantran/Downloads/Naruto Shippuuden English Subs/[HorribleSubs] Naruto Shippuuden - 039 [480p].ass\n"
     ]
    },
    {
     "name": "stderr",
     "output_type": "stream",
     "text": [
      "39it [29:11, 41.07s/it]"
     ]
    },
    {
     "name": "stdout",
     "output_type": "stream",
     "text": [
      "Process  /Users/nhuantran/Downloads/Naruto Shippuuden English Subs/[HorribleSubs] Naruto Shippuuden - 040 [480p].ass\n"
     ]
    },
    {
     "name": "stderr",
     "output_type": "stream",
     "text": [
      "40it [29:52, 40.90s/it]"
     ]
    },
    {
     "name": "stdout",
     "output_type": "stream",
     "text": [
      "Process  /Users/nhuantran/Downloads/Naruto Shippuuden English Subs/[HorribleSubs] Naruto Shippuuden - 041 [480p].ass\n"
     ]
    },
    {
     "name": "stderr",
     "output_type": "stream",
     "text": [
      "41it [30:25, 38.47s/it]"
     ]
    },
    {
     "name": "stdout",
     "output_type": "stream",
     "text": [
      "Process  /Users/nhuantran/Downloads/Naruto Shippuuden English Subs/[HorribleSubs] Naruto Shippuuden - 042 [480p].ass\n"
     ]
    },
    {
     "name": "stderr",
     "output_type": "stream",
     "text": [
      "42it [31:01, 37.90s/it]"
     ]
    },
    {
     "name": "stdout",
     "output_type": "stream",
     "text": [
      "Process  /Users/nhuantran/Downloads/Naruto Shippuuden English Subs/[HorribleSubs] Naruto Shippuuden - 043 [480p].ass\n"
     ]
    },
    {
     "name": "stderr",
     "output_type": "stream",
     "text": [
      "43it [31:29, 35.01s/it]"
     ]
    },
    {
     "name": "stdout",
     "output_type": "stream",
     "text": [
      "Process  /Users/nhuantran/Downloads/Naruto Shippuuden English Subs/[HorribleSubs] Naruto Shippuuden - 044 [480p].ass\n"
     ]
    },
    {
     "name": "stderr",
     "output_type": "stream",
     "text": [
      "44it [32:10, 36.73s/it]"
     ]
    },
    {
     "name": "stdout",
     "output_type": "stream",
     "text": [
      "Process  /Users/nhuantran/Downloads/Naruto Shippuuden English Subs/[HorribleSubs] Naruto Shippuuden - 045 [480p].ass\n"
     ]
    },
    {
     "name": "stderr",
     "output_type": "stream",
     "text": [
      "45it [33:03, 41.41s/it]"
     ]
    },
    {
     "name": "stdout",
     "output_type": "stream",
     "text": [
      "Process  /Users/nhuantran/Downloads/Naruto Shippuuden English Subs/[HorribleSubs] Naruto Shippuuden - 046 [480p].ass\n"
     ]
    },
    {
     "name": "stderr",
     "output_type": "stream",
     "text": [
      "46it [33:54, 44.55s/it]"
     ]
    },
    {
     "name": "stdout",
     "output_type": "stream",
     "text": [
      "Process  /Users/nhuantran/Downloads/Naruto Shippuuden English Subs/[HorribleSubs] Naruto Shippuuden - 047 [480p].ass\n"
     ]
    },
    {
     "name": "stderr",
     "output_type": "stream",
     "text": [
      "47it [35:05, 52.39s/it]"
     ]
    },
    {
     "name": "stdout",
     "output_type": "stream",
     "text": [
      "Process  /Users/nhuantran/Downloads/Naruto Shippuuden English Subs/[HorribleSubs] Naruto Shippuuden - 048 [480p].ass\n"
     ]
    },
    {
     "name": "stderr",
     "output_type": "stream",
     "text": [
      "48it [35:44, 48.35s/it]"
     ]
    },
    {
     "name": "stdout",
     "output_type": "stream",
     "text": [
      "Process  /Users/nhuantran/Downloads/Naruto Shippuuden English Subs/[HorribleSubs] Naruto Shippuuden - 049 [480p].ass\n"
     ]
    },
    {
     "name": "stderr",
     "output_type": "stream",
     "text": [
      "49it [36:14, 42.78s/it]"
     ]
    },
    {
     "name": "stdout",
     "output_type": "stream",
     "text": [
      "Process  /Users/nhuantran/Downloads/Naruto Shippuuden English Subs/[HorribleSubs] Naruto Shippuuden - 050 [480p].ass\n"
     ]
    },
    {
     "name": "stderr",
     "output_type": "stream",
     "text": [
      "50it [36:54, 42.01s/it]"
     ]
    },
    {
     "name": "stdout",
     "output_type": "stream",
     "text": [
      "Process  /Users/nhuantran/Downloads/Naruto Shippuuden English Subs/[HorribleSubs] Naruto Shippuuden - 051 [480p].ass\n"
     ]
    },
    {
     "name": "stderr",
     "output_type": "stream",
     "text": [
      "51it [37:43, 44.01s/it]"
     ]
    },
    {
     "name": "stdout",
     "output_type": "stream",
     "text": [
      "Process  /Users/nhuantran/Downloads/Naruto Shippuuden English Subs/[HorribleSubs] Naruto Shippuuden - 052 [480p].ass\n"
     ]
    },
    {
     "name": "stderr",
     "output_type": "stream",
     "text": [
      "52it [38:22, 42.70s/it]"
     ]
    },
    {
     "name": "stdout",
     "output_type": "stream",
     "text": [
      "Process  /Users/nhuantran/Downloads/Naruto Shippuuden English Subs/[HorribleSubs] Naruto Shippuuden - 053 [480p].ass\n"
     ]
    },
    {
     "name": "stderr",
     "output_type": "stream",
     "text": [
      "53it [39:10, 44.20s/it]"
     ]
    },
    {
     "name": "stdout",
     "output_type": "stream",
     "text": [
      "Process  /Users/nhuantran/Downloads/Naruto Shippuuden English Subs/[HorribleSubs] Naruto Shippuuden - 054 [480p].ass\n"
     ]
    },
    {
     "name": "stderr",
     "output_type": "stream",
     "text": [
      "54it [39:53, 43.93s/it]"
     ]
    },
    {
     "name": "stdout",
     "output_type": "stream",
     "text": [
      "Process  /Users/nhuantran/Downloads/Naruto Shippuuden English Subs/[HorribleSubs] Naruto Shippuuden - 055 [480p].ass\n"
     ]
    },
    {
     "name": "stderr",
     "output_type": "stream",
     "text": [
      "55it [40:45, 46.23s/it]"
     ]
    },
    {
     "name": "stdout",
     "output_type": "stream",
     "text": [
      "Process  /Users/nhuantran/Downloads/Naruto Shippuuden English Subs/[HorribleSubs] Naruto Shippuuden - 056 [480p].ass\n"
     ]
    },
    {
     "name": "stderr",
     "output_type": "stream",
     "text": [
      "56it [41:37, 47.93s/it]"
     ]
    },
    {
     "name": "stdout",
     "output_type": "stream",
     "text": [
      "Process  /Users/nhuantran/Downloads/Naruto Shippuuden English Subs/[HorribleSubs] Naruto Shippuuden - 057 [480p].ass\n"
     ]
    },
    {
     "name": "stderr",
     "output_type": "stream",
     "text": [
      "57it [42:19, 46.25s/it]"
     ]
    },
    {
     "name": "stdout",
     "output_type": "stream",
     "text": [
      "Process  /Users/nhuantran/Downloads/Naruto Shippuuden English Subs/[HorribleSubs] Naruto Shippuuden - 058 [480p].ass\n"
     ]
    },
    {
     "name": "stderr",
     "output_type": "stream",
     "text": [
      "58it [43:07, 46.86s/it]"
     ]
    },
    {
     "name": "stdout",
     "output_type": "stream",
     "text": [
      "Process  /Users/nhuantran/Downloads/Naruto Shippuuden English Subs/[HorribleSubs] Naruto Shippuuden - 059 [480p].ass\n"
     ]
    },
    {
     "name": "stderr",
     "output_type": "stream",
     "text": [
      "59it [43:56, 47.44s/it]"
     ]
    },
    {
     "name": "stdout",
     "output_type": "stream",
     "text": [
      "Process  /Users/nhuantran/Downloads/Naruto Shippuuden English Subs/[HorribleSubs] Naruto Shippuuden - 060 [480p].ass\n"
     ]
    },
    {
     "name": "stderr",
     "output_type": "stream",
     "text": [
      "60it [44:44, 47.64s/it]"
     ]
    },
    {
     "name": "stdout",
     "output_type": "stream",
     "text": [
      "Process  /Users/nhuantran/Downloads/Naruto Shippuuden English Subs/[HorribleSubs] Naruto Shippuuden - 061 [480p].ass\n"
     ]
    },
    {
     "name": "stderr",
     "output_type": "stream",
     "text": [
      "61it [45:38, 49.33s/it]"
     ]
    },
    {
     "name": "stdout",
     "output_type": "stream",
     "text": [
      "Process  /Users/nhuantran/Downloads/Naruto Shippuuden English Subs/[HorribleSubs] Naruto Shippuuden - 062 [480p].ass\n"
     ]
    },
    {
     "name": "stderr",
     "output_type": "stream",
     "text": [
      "62it [46:28, 49.50s/it]"
     ]
    },
    {
     "name": "stdout",
     "output_type": "stream",
     "text": [
      "Process  /Users/nhuantran/Downloads/Naruto Shippuuden English Subs/[HorribleSubs] Naruto Shippuuden - 063 [480p].ass\n"
     ]
    },
    {
     "name": "stderr",
     "output_type": "stream",
     "text": [
      "63it [47:22, 50.98s/it]"
     ]
    },
    {
     "name": "stdout",
     "output_type": "stream",
     "text": [
      "Process  /Users/nhuantran/Downloads/Naruto Shippuuden English Subs/[HorribleSubs] Naruto Shippuuden - 064 [480p].ass\n"
     ]
    },
    {
     "name": "stderr",
     "output_type": "stream",
     "text": [
      "64it [48:15, 51.50s/it]"
     ]
    },
    {
     "name": "stdout",
     "output_type": "stream",
     "text": [
      "Process  /Users/nhuantran/Downloads/Naruto Shippuuden English Subs/[HorribleSubs] Naruto Shippuuden - 065 [480p].ass\n"
     ]
    },
    {
     "name": "stderr",
     "output_type": "stream",
     "text": [
      "65it [49:09, 52.31s/it]"
     ]
    },
    {
     "name": "stdout",
     "output_type": "stream",
     "text": [
      "Process  /Users/nhuantran/Downloads/Naruto Shippuuden English Subs/[HorribleSubs] Naruto Shippuuden - 066 [480p].ass\n"
     ]
    },
    {
     "name": "stderr",
     "output_type": "stream",
     "text": [
      "66it [50:06, 53.87s/it]"
     ]
    },
    {
     "name": "stdout",
     "output_type": "stream",
     "text": [
      "Process  /Users/nhuantran/Downloads/Naruto Shippuuden English Subs/[HorribleSubs] Naruto Shippuuden - 067 [480p].ass\n"
     ]
    },
    {
     "name": "stderr",
     "output_type": "stream",
     "text": [
      "67it [50:43, 48.69s/it]"
     ]
    },
    {
     "name": "stdout",
     "output_type": "stream",
     "text": [
      "Process  /Users/nhuantran/Downloads/Naruto Shippuuden English Subs/[HorribleSubs] Naruto Shippuuden - 068 [480p].ass\n"
     ]
    },
    {
     "name": "stderr",
     "output_type": "stream",
     "text": [
      "68it [51:32, 48.68s/it]"
     ]
    },
    {
     "name": "stdout",
     "output_type": "stream",
     "text": [
      "Process  /Users/nhuantran/Downloads/Naruto Shippuuden English Subs/[HorribleSubs] Naruto Shippuuden - 069 [480p].ass\n"
     ]
    },
    {
     "name": "stderr",
     "output_type": "stream",
     "text": [
      "69it [52:20, 48.72s/it]"
     ]
    },
    {
     "name": "stdout",
     "output_type": "stream",
     "text": [
      "Process  /Users/nhuantran/Downloads/Naruto Shippuuden English Subs/[HorribleSubs] Naruto Shippuuden - 070 [480p].ass\n"
     ]
    },
    {
     "name": "stderr",
     "output_type": "stream",
     "text": [
      "70it [53:04, 47.26s/it]"
     ]
    },
    {
     "name": "stdout",
     "output_type": "stream",
     "text": [
      "Process  /Users/nhuantran/Downloads/Naruto Shippuuden English Subs/[HorribleSubs] Naruto Shippuuden - 071 [480p].ass\n"
     ]
    },
    {
     "name": "stderr",
     "output_type": "stream",
     "text": [
      "71it [54:03, 50.62s/it]"
     ]
    },
    {
     "name": "stdout",
     "output_type": "stream",
     "text": [
      "Process  /Users/nhuantran/Downloads/Naruto Shippuuden English Subs/[HorribleSubs] Naruto Shippuuden - 072 [480p].ass\n"
     ]
    },
    {
     "name": "stderr",
     "output_type": "stream",
     "text": [
      "72it [55:07, 54.77s/it]"
     ]
    },
    {
     "name": "stdout",
     "output_type": "stream",
     "text": [
      "Process  /Users/nhuantran/Downloads/Naruto Shippuuden English Subs/[HorribleSubs] Naruto Shippuuden - 073 [480p].ass\n"
     ]
    },
    {
     "name": "stderr",
     "output_type": "stream",
     "text": [
      "73it [55:49, 50.79s/it]"
     ]
    },
    {
     "name": "stdout",
     "output_type": "stream",
     "text": [
      "Process  /Users/nhuantran/Downloads/Naruto Shippuuden English Subs/[HorribleSubs] Naruto Shippuuden - 074 [480p].ass\n"
     ]
    },
    {
     "name": "stderr",
     "output_type": "stream",
     "text": [
      "74it [56:31, 48.17s/it]"
     ]
    },
    {
     "name": "stdout",
     "output_type": "stream",
     "text": [
      "Process  /Users/nhuantran/Downloads/Naruto Shippuuden English Subs/[HorribleSubs] Naruto Shippuuden - 075 [480p].ass\n"
     ]
    },
    {
     "name": "stderr",
     "output_type": "stream",
     "text": [
      "75it [57:26, 50.22s/it]"
     ]
    },
    {
     "name": "stdout",
     "output_type": "stream",
     "text": [
      "Process  /Users/nhuantran/Downloads/Naruto Shippuuden English Subs/[HorribleSubs] Naruto Shippuuden - 076 [480p].ass\n"
     ]
    },
    {
     "name": "stderr",
     "output_type": "stream",
     "text": [
      "76it [58:08, 47.81s/it]"
     ]
    },
    {
     "name": "stdout",
     "output_type": "stream",
     "text": [
      "Process  /Users/nhuantran/Downloads/Naruto Shippuuden English Subs/[HorribleSubs] Naruto Shippuuden - 077 [480p].ass\n"
     ]
    },
    {
     "name": "stderr",
     "output_type": "stream",
     "text": [
      "77it [58:59, 48.84s/it]"
     ]
    },
    {
     "name": "stdout",
     "output_type": "stream",
     "text": [
      "Process  /Users/nhuantran/Downloads/Naruto Shippuuden English Subs/[HorribleSubs] Naruto Shippuuden - 078 [480p].ass\n"
     ]
    },
    {
     "name": "stderr",
     "output_type": "stream",
     "text": [
      "78it [59:52, 50.07s/it]"
     ]
    },
    {
     "name": "stdout",
     "output_type": "stream",
     "text": [
      "Process  /Users/nhuantran/Downloads/Naruto Shippuuden English Subs/[HorribleSubs] Naruto Shippuuden - 079 [480p].ass\n"
     ]
    },
    {
     "name": "stderr",
     "output_type": "stream",
     "text": [
      "79it [1:00:37, 48.60s/it]"
     ]
    },
    {
     "name": "stdout",
     "output_type": "stream",
     "text": [
      "Process  /Users/nhuantran/Downloads/Naruto Shippuuden English Subs/[HorribleSubs] Naruto Shippuuden - 080 [720p].ass\n"
     ]
    },
    {
     "name": "stderr",
     "output_type": "stream",
     "text": [
      "80it [1:01:14, 44.90s/it]"
     ]
    },
    {
     "name": "stdout",
     "output_type": "stream",
     "text": [
      "Process  /Users/nhuantran/Downloads/Naruto Shippuuden English Subs/[HorribleSubs] Naruto Shippuuden - 081 [720p].ass\n"
     ]
    },
    {
     "name": "stderr",
     "output_type": "stream",
     "text": [
      "81it [1:01:55, 43.75s/it]"
     ]
    },
    {
     "name": "stdout",
     "output_type": "stream",
     "text": [
      "Process  /Users/nhuantran/Downloads/Naruto Shippuuden English Subs/[HorribleSubs] Naruto Shippuuden - 082 [720p].ass\n"
     ]
    },
    {
     "name": "stderr",
     "output_type": "stream",
     "text": [
      "82it [1:02:31, 41.61s/it]"
     ]
    },
    {
     "name": "stdout",
     "output_type": "stream",
     "text": [
      "Process  /Users/nhuantran/Downloads/Naruto Shippuuden English Subs/[HorribleSubs] Naruto Shippuuden - 083 [720p].ass\n"
     ]
    },
    {
     "name": "stderr",
     "output_type": "stream",
     "text": [
      "83it [1:03:10, 40.67s/it]"
     ]
    },
    {
     "name": "stdout",
     "output_type": "stream",
     "text": [
      "Process  /Users/nhuantran/Downloads/Naruto Shippuuden English Subs/[HorribleSubs] Naruto Shippuuden - 084 [720p].ass\n"
     ]
    },
    {
     "name": "stderr",
     "output_type": "stream",
     "text": [
      "84it [1:03:57, 42.70s/it]"
     ]
    },
    {
     "name": "stdout",
     "output_type": "stream",
     "text": [
      "Process  /Users/nhuantran/Downloads/Naruto Shippuuden English Subs/[HorribleSubs] Naruto Shippuuden - 085 [720p].ass\n"
     ]
    },
    {
     "name": "stderr",
     "output_type": "stream",
     "text": [
      "85it [1:04:54, 47.07s/it]"
     ]
    },
    {
     "name": "stdout",
     "output_type": "stream",
     "text": [
      "Process  /Users/nhuantran/Downloads/Naruto Shippuuden English Subs/[HorribleSubs] Naruto Shippuuden - 086 [720p].ass\n"
     ]
    },
    {
     "name": "stderr",
     "output_type": "stream",
     "text": [
      "86it [1:05:49, 49.33s/it]"
     ]
    },
    {
     "name": "stdout",
     "output_type": "stream",
     "text": [
      "Process  /Users/nhuantran/Downloads/Naruto Shippuuden English Subs/[HorribleSubs] Naruto Shippuuden - 087 [720p].ass\n"
     ]
    },
    {
     "name": "stderr",
     "output_type": "stream",
     "text": [
      "87it [1:06:30, 46.83s/it]"
     ]
    },
    {
     "name": "stdout",
     "output_type": "stream",
     "text": [
      "Process  /Users/nhuantran/Downloads/Naruto Shippuuden English Subs/[HorribleSubs] Naruto Shippuuden - 088 [720p].ass\n"
     ]
    },
    {
     "name": "stderr",
     "output_type": "stream",
     "text": [
      "88it [1:07:02, 42.51s/it]"
     ]
    },
    {
     "name": "stdout",
     "output_type": "stream",
     "text": [
      "Process  /Users/nhuantran/Downloads/Naruto Shippuuden English Subs/[HorribleSubs] Naruto Shippuuden - 089 [720p].ass\n"
     ]
    },
    {
     "name": "stderr",
     "output_type": "stream",
     "text": [
      "89it [1:07:53, 44.86s/it]"
     ]
    },
    {
     "name": "stdout",
     "output_type": "stream",
     "text": [
      "Process  /Users/nhuantran/Downloads/Naruto Shippuuden English Subs/[HorribleSubs] Naruto Shippuuden - 090 [720p].ass\n"
     ]
    },
    {
     "name": "stderr",
     "output_type": "stream",
     "text": [
      "90it [1:08:54, 49.84s/it]"
     ]
    },
    {
     "name": "stdout",
     "output_type": "stream",
     "text": [
      "Process  /Users/nhuantran/Downloads/Naruto Shippuuden English Subs/[HorribleSubs] Naruto Shippuuden - 091 [720p].ass\n"
     ]
    },
    {
     "name": "stderr",
     "output_type": "stream",
     "text": [
      "91it [1:09:47, 50.81s/it]"
     ]
    },
    {
     "name": "stdout",
     "output_type": "stream",
     "text": [
      "Process  /Users/nhuantran/Downloads/Naruto Shippuuden English Subs/[HorribleSubs] Naruto Shippuuden - 092 [720p].ass\n"
     ]
    },
    {
     "name": "stderr",
     "output_type": "stream",
     "text": [
      "92it [1:10:36, 50.15s/it]"
     ]
    },
    {
     "name": "stdout",
     "output_type": "stream",
     "text": [
      "Process  /Users/nhuantran/Downloads/Naruto Shippuuden English Subs/[HorribleSubs] Naruto Shippuuden - 093 [720p].ass\n"
     ]
    },
    {
     "name": "stderr",
     "output_type": "stream",
     "text": [
      "93it [1:11:30, 51.25s/it]"
     ]
    },
    {
     "name": "stdout",
     "output_type": "stream",
     "text": [
      "Process  /Users/nhuantran/Downloads/Naruto Shippuuden English Subs/[HorribleSubs] Naruto Shippuuden - 094 [720p].ass\n"
     ]
    },
    {
     "name": "stderr",
     "output_type": "stream",
     "text": [
      "94it [1:12:17, 50.04s/it]"
     ]
    },
    {
     "name": "stdout",
     "output_type": "stream",
     "text": [
      "Process  /Users/nhuantran/Downloads/Naruto Shippuuden English Subs/[HorribleSubs] Naruto Shippuuden - 095 [720p].ass\n"
     ]
    },
    {
     "name": "stderr",
     "output_type": "stream",
     "text": [
      "95it [1:13:28, 56.18s/it]"
     ]
    },
    {
     "name": "stdout",
     "output_type": "stream",
     "text": [
      "Process  /Users/nhuantran/Downloads/Naruto Shippuuden English Subs/[HorribleSubs] Naruto Shippuuden - 096 [720p].ass\n"
     ]
    },
    {
     "name": "stderr",
     "output_type": "stream",
     "text": [
      "96it [1:14:25, 56.56s/it]"
     ]
    },
    {
     "name": "stdout",
     "output_type": "stream",
     "text": [
      "Process  /Users/nhuantran/Downloads/Naruto Shippuuden English Subs/[HorribleSubs] Naruto Shippuuden - 097 [720p].ass\n"
     ]
    },
    {
     "name": "stderr",
     "output_type": "stream",
     "text": [
      "97it [1:15:16, 54.76s/it]"
     ]
    },
    {
     "name": "stdout",
     "output_type": "stream",
     "text": [
      "Process  /Users/nhuantran/Downloads/Naruto Shippuuden English Subs/[HorribleSubs] Naruto Shippuuden - 098 [720p].ass\n"
     ]
    },
    {
     "name": "stderr",
     "output_type": "stream",
     "text": [
      "98it [1:15:58, 50.99s/it]"
     ]
    },
    {
     "name": "stdout",
     "output_type": "stream",
     "text": [
      "Process  /Users/nhuantran/Downloads/Naruto Shippuuden English Subs/[HorribleSubs] Naruto Shippuuden - 099 [720p].ass\n"
     ]
    },
    {
     "name": "stderr",
     "output_type": "stream",
     "text": [
      "99it [1:16:44, 49.59s/it]"
     ]
    },
    {
     "name": "stdout",
     "output_type": "stream",
     "text": [
      "Process  /Users/nhuantran/Downloads/Naruto Shippuuden English Subs/[HorribleSubs] Naruto Shippuuden - 100 [720p].ass\n"
     ]
    },
    {
     "name": "stderr",
     "output_type": "stream",
     "text": [
      "100it [1:17:25, 47.09s/it]"
     ]
    },
    {
     "name": "stdout",
     "output_type": "stream",
     "text": [
      "Process  /Users/nhuantran/Downloads/Naruto Shippuuden English Subs/[HorribleSubs] Naruto Shippuuden - 101 [720p].ass\n"
     ]
    },
    {
     "name": "stderr",
     "output_type": "stream",
     "text": [
      "101it [1:18:10, 46.35s/it]"
     ]
    },
    {
     "name": "stdout",
     "output_type": "stream",
     "text": [
      "Process  /Users/nhuantran/Downloads/Naruto Shippuuden English Subs/[HorribleSubs] Naruto Shippuuden - 102 [720p].ass\n"
     ]
    },
    {
     "name": "stderr",
     "output_type": "stream",
     "text": [
      "102it [1:19:05, 48.84s/it]"
     ]
    },
    {
     "name": "stdout",
     "output_type": "stream",
     "text": [
      "Process  /Users/nhuantran/Downloads/Naruto Shippuuden English Subs/[HorribleSubs] Naruto Shippuuden - 103 [720p].ass\n"
     ]
    },
    {
     "name": "stderr",
     "output_type": "stream",
     "text": [
      "103it [1:19:52, 48.52s/it]"
     ]
    },
    {
     "name": "stdout",
     "output_type": "stream",
     "text": [
      "Process  /Users/nhuantran/Downloads/Naruto Shippuuden English Subs/[HorribleSubs] Naruto Shippuuden - 104 [720p].ass\n"
     ]
    },
    {
     "name": "stderr",
     "output_type": "stream",
     "text": [
      "104it [1:20:48, 50.71s/it]"
     ]
    },
    {
     "name": "stdout",
     "output_type": "stream",
     "text": [
      "Process  /Users/nhuantran/Downloads/Naruto Shippuuden English Subs/[HorribleSubs] Naruto Shippuuden - 105 [720p].ass\n"
     ]
    },
    {
     "name": "stderr",
     "output_type": "stream",
     "text": [
      "105it [1:21:31, 48.32s/it]"
     ]
    },
    {
     "name": "stdout",
     "output_type": "stream",
     "text": [
      "Process  /Users/nhuantran/Downloads/Naruto Shippuuden English Subs/[HorribleSubs] Naruto Shippuuden - 106 [720p].ass\n"
     ]
    },
    {
     "name": "stderr",
     "output_type": "stream",
     "text": [
      "106it [1:22:16, 47.48s/it]"
     ]
    },
    {
     "name": "stdout",
     "output_type": "stream",
     "text": [
      "Process  /Users/nhuantran/Downloads/Naruto Shippuuden English Subs/[HorribleSubs] Naruto Shippuuden - 107 [720p].ass\n"
     ]
    },
    {
     "name": "stderr",
     "output_type": "stream",
     "text": [
      "107it [1:23:03, 47.36s/it]"
     ]
    },
    {
     "name": "stdout",
     "output_type": "stream",
     "text": [
      "Process  /Users/nhuantran/Downloads/Naruto Shippuuden English Subs/[HorribleSubs] Naruto Shippuuden - 108 [720p].ass\n"
     ]
    },
    {
     "name": "stderr",
     "output_type": "stream",
     "text": [
      "108it [1:24:00, 50.23s/it]"
     ]
    },
    {
     "name": "stdout",
     "output_type": "stream",
     "text": [
      "Process  /Users/nhuantran/Downloads/Naruto Shippuuden English Subs/[HorribleSubs] Naruto Shippuuden - 109 [720p].ass\n"
     ]
    },
    {
     "name": "stderr",
     "output_type": "stream",
     "text": [
      "109it [1:24:43, 47.89s/it]"
     ]
    },
    {
     "name": "stdout",
     "output_type": "stream",
     "text": [
      "Process  /Users/nhuantran/Downloads/Naruto Shippuuden English Subs/[HorribleSubs] Naruto Shippuuden - 110 [720p].ass\n"
     ]
    },
    {
     "name": "stderr",
     "output_type": "stream",
     "text": [
      "110it [1:25:47, 52.65s/it]"
     ]
    },
    {
     "name": "stdout",
     "output_type": "stream",
     "text": [
      "Process  /Users/nhuantran/Downloads/Naruto Shippuuden English Subs/[HorribleSubs] Naruto Shippuuden - 111 [720p].ass\n"
     ]
    },
    {
     "name": "stderr",
     "output_type": "stream",
     "text": [
      "111it [1:26:36, 51.72s/it]"
     ]
    },
    {
     "name": "stdout",
     "output_type": "stream",
     "text": [
      "Process  /Users/nhuantran/Downloads/Naruto Shippuuden English Subs/[HorribleSubs] Naruto Shippuuden - 112 [720p].ass\n"
     ]
    },
    {
     "name": "stderr",
     "output_type": "stream",
     "text": [
      "112it [1:27:16, 48.21s/it]"
     ]
    },
    {
     "name": "stdout",
     "output_type": "stream",
     "text": [
      "Process  /Users/nhuantran/Downloads/Naruto Shippuuden English Subs/[HorribleSubs] Naruto Shippuuden - 113 [720p].ass\n"
     ]
    },
    {
     "name": "stderr",
     "output_type": "stream",
     "text": [
      "113it [1:27:56, 45.67s/it]"
     ]
    },
    {
     "name": "stdout",
     "output_type": "stream",
     "text": [
      "Process  /Users/nhuantran/Downloads/Naruto Shippuuden English Subs/[HorribleSubs] Naruto Shippuuden - 114 [720p].ass\n"
     ]
    },
    {
     "name": "stderr",
     "output_type": "stream",
     "text": [
      "114it [1:28:40, 45.08s/it]"
     ]
    },
    {
     "name": "stdout",
     "output_type": "stream",
     "text": [
      "Process  /Users/nhuantran/Downloads/Naruto Shippuuden English Subs/[HorribleSubs] Naruto Shippuuden - 115 [720p].ass\n"
     ]
    },
    {
     "name": "stderr",
     "output_type": "stream",
     "text": [
      "115it [1:29:31, 46.90s/it]"
     ]
    },
    {
     "name": "stdout",
     "output_type": "stream",
     "text": [
      "Process  /Users/nhuantran/Downloads/Naruto Shippuuden English Subs/[HorribleSubs] Naruto Shippuuden - 116 [720p].ass\n"
     ]
    },
    {
     "name": "stderr",
     "output_type": "stream",
     "text": [
      "116it [1:30:17, 46.57s/it]"
     ]
    },
    {
     "name": "stdout",
     "output_type": "stream",
     "text": [
      "Process  /Users/nhuantran/Downloads/Naruto Shippuuden English Subs/[HorribleSubs] Naruto Shippuuden - 117 [720p].ass\n"
     ]
    },
    {
     "name": "stderr",
     "output_type": "stream",
     "text": [
      "117it [1:31:03, 46.65s/it]"
     ]
    },
    {
     "name": "stdout",
     "output_type": "stream",
     "text": [
      "Process  /Users/nhuantran/Downloads/Naruto Shippuuden English Subs/[HorribleSubs] Naruto Shippuuden - 118 [720p].ass\n"
     ]
    },
    {
     "name": "stderr",
     "output_type": "stream",
     "text": [
      "118it [1:31:54, 47.74s/it]"
     ]
    },
    {
     "name": "stdout",
     "output_type": "stream",
     "text": [
      "Process  /Users/nhuantran/Downloads/Naruto Shippuuden English Subs/[HorribleSubs] Naruto Shippuuden - 119 [720p].ass\n"
     ]
    },
    {
     "name": "stderr",
     "output_type": "stream",
     "text": [
      "119it [1:32:47, 49.28s/it]"
     ]
    },
    {
     "name": "stdout",
     "output_type": "stream",
     "text": [
      "Process  /Users/nhuantran/Downloads/Naruto Shippuuden English Subs/[HorribleSubs] Naruto Shippuuden - 120 [720p].ass\n"
     ]
    },
    {
     "name": "stderr",
     "output_type": "stream",
     "text": [
      "120it [1:33:31, 47.92s/it]"
     ]
    },
    {
     "name": "stdout",
     "output_type": "stream",
     "text": [
      "Process  /Users/nhuantran/Downloads/Naruto Shippuuden English Subs/[HorribleSubs] Naruto Shippuuden - 121 [720p].ass\n"
     ]
    },
    {
     "name": "stderr",
     "output_type": "stream",
     "text": [
      "121it [1:34:27, 50.20s/it]"
     ]
    },
    {
     "name": "stdout",
     "output_type": "stream",
     "text": [
      "Process  /Users/nhuantran/Downloads/Naruto Shippuuden English Subs/[HorribleSubs] Naruto Shippuuden - 122 [720p].ass\n"
     ]
    },
    {
     "name": "stderr",
     "output_type": "stream",
     "text": [
      "122it [1:35:14, 49.38s/it]"
     ]
    },
    {
     "name": "stdout",
     "output_type": "stream",
     "text": [
      "Process  /Users/nhuantran/Downloads/Naruto Shippuuden English Subs/[HorribleSubs] Naruto Shippuuden - 123 [720p].ass\n"
     ]
    },
    {
     "name": "stderr",
     "output_type": "stream",
     "text": [
      "123it [1:36:02, 48.88s/it]"
     ]
    },
    {
     "name": "stdout",
     "output_type": "stream",
     "text": [
      "Process  /Users/nhuantran/Downloads/Naruto Shippuuden English Subs/[HorribleSubs] Naruto Shippuuden - 124 [720p].ass\n"
     ]
    },
    {
     "name": "stderr",
     "output_type": "stream",
     "text": [
      "124it [1:36:45, 46.97s/it]"
     ]
    },
    {
     "name": "stdout",
     "output_type": "stream",
     "text": [
      "Process  /Users/nhuantran/Downloads/Naruto Shippuuden English Subs/[HorribleSubs] Naruto Shippuuden - 125 [720p].ass\n"
     ]
    },
    {
     "name": "stderr",
     "output_type": "stream",
     "text": [
      "125it [1:37:43, 50.32s/it]"
     ]
    },
    {
     "name": "stdout",
     "output_type": "stream",
     "text": [
      "Process  /Users/nhuantran/Downloads/Naruto Shippuuden English Subs/[HorribleSubs] Naruto Shippuuden - 126 [720p].ass\n"
     ]
    },
    {
     "name": "stderr",
     "output_type": "stream",
     "text": [
      "126it [1:38:32, 50.00s/it]"
     ]
    },
    {
     "name": "stdout",
     "output_type": "stream",
     "text": [
      "Process  /Users/nhuantran/Downloads/Naruto Shippuuden English Subs/[HorribleSubs] Naruto Shippuuden - 127 [720p].ass\n"
     ]
    },
    {
     "name": "stderr",
     "output_type": "stream",
     "text": [
      "127it [1:39:20, 49.57s/it]"
     ]
    },
    {
     "name": "stdout",
     "output_type": "stream",
     "text": [
      "Process  /Users/nhuantran/Downloads/Naruto Shippuuden English Subs/[HorribleSubs] Naruto Shippuuden - 128 [720p].ass\n"
     ]
    },
    {
     "name": "stderr",
     "output_type": "stream",
     "text": [
      "128it [1:40:08, 49.10s/it]"
     ]
    },
    {
     "name": "stdout",
     "output_type": "stream",
     "text": [
      "Process  /Users/nhuantran/Downloads/Naruto Shippuuden English Subs/[HorribleSubs] Naruto Shippuuden - 129 [720p].ass\n"
     ]
    },
    {
     "name": "stderr",
     "output_type": "stream",
     "text": [
      "129it [1:40:50, 46.72s/it]"
     ]
    },
    {
     "name": "stdout",
     "output_type": "stream",
     "text": [
      "Process  /Users/nhuantran/Downloads/Naruto Shippuuden English Subs/[HorribleSubs] Naruto Shippuuden - 130 [720p].ass\n"
     ]
    },
    {
     "name": "stderr",
     "output_type": "stream",
     "text": [
      "130it [1:41:35, 46.36s/it]"
     ]
    },
    {
     "name": "stdout",
     "output_type": "stream",
     "text": [
      "Process  /Users/nhuantran/Downloads/Naruto Shippuuden English Subs/[HorribleSubs] Naruto Shippuuden - 131 [720p].ass\n"
     ]
    },
    {
     "name": "stderr",
     "output_type": "stream",
     "text": [
      "131it [1:42:18, 45.18s/it]"
     ]
    },
    {
     "name": "stdout",
     "output_type": "stream",
     "text": [
      "Process  /Users/nhuantran/Downloads/Naruto Shippuuden English Subs/[HorribleSubs] Naruto Shippuuden - 132 [720p].ass\n"
     ]
    },
    {
     "name": "stderr",
     "output_type": "stream",
     "text": [
      "132it [1:43:12, 48.07s/it]"
     ]
    },
    {
     "name": "stdout",
     "output_type": "stream",
     "text": [
      "Process  /Users/nhuantran/Downloads/Naruto Shippuuden English Subs/[HorribleSubs] Naruto Shippuuden - 133 [720p].ass\n"
     ]
    },
    {
     "name": "stderr",
     "output_type": "stream",
     "text": [
      "133it [1:44:07, 49.92s/it]"
     ]
    },
    {
     "name": "stdout",
     "output_type": "stream",
     "text": [
      "Process  /Users/nhuantran/Downloads/Naruto Shippuuden English Subs/[HorribleSubs] Naruto Shippuuden - 134 [720p].ass\n"
     ]
    },
    {
     "name": "stderr",
     "output_type": "stream",
     "text": [
      "134it [1:45:10, 53.93s/it]"
     ]
    },
    {
     "name": "stdout",
     "output_type": "stream",
     "text": [
      "Process  /Users/nhuantran/Downloads/Naruto Shippuuden English Subs/[HorribleSubs] Naruto Shippuuden - 135 [720p].ass\n"
     ]
    },
    {
     "name": "stderr",
     "output_type": "stream",
     "text": [
      "135it [1:45:57, 51.95s/it]"
     ]
    },
    {
     "name": "stdout",
     "output_type": "stream",
     "text": [
      "Process  /Users/nhuantran/Downloads/Naruto Shippuuden English Subs/[HorribleSubs] Naruto Shippuuden - 136 [720p].ass\n"
     ]
    },
    {
     "name": "stderr",
     "output_type": "stream",
     "text": [
      "136it [1:46:41, 49.59s/it]"
     ]
    },
    {
     "name": "stdout",
     "output_type": "stream",
     "text": [
      "Process  /Users/nhuantran/Downloads/Naruto Shippuuden English Subs/[HorribleSubs] Naruto Shippuuden - 137 [720p].ass\n"
     ]
    },
    {
     "name": "stderr",
     "output_type": "stream",
     "text": [
      "137it [1:47:19, 46.10s/it]"
     ]
    },
    {
     "name": "stdout",
     "output_type": "stream",
     "text": [
      "Process  /Users/nhuantran/Downloads/Naruto Shippuuden English Subs/[HorribleSubs] Naruto Shippuuden - 138 [720p].ass\n"
     ]
    },
    {
     "name": "stderr",
     "output_type": "stream",
     "text": [
      "138it [1:48:08, 46.80s/it]"
     ]
    },
    {
     "name": "stdout",
     "output_type": "stream",
     "text": [
      "Process  /Users/nhuantran/Downloads/Naruto Shippuuden English Subs/[HorribleSubs] Naruto Shippuuden - 139 [720p].ass\n"
     ]
    },
    {
     "name": "stderr",
     "output_type": "stream",
     "text": [
      "139it [1:48:55, 46.88s/it]"
     ]
    },
    {
     "name": "stdout",
     "output_type": "stream",
     "text": [
      "Process  /Users/nhuantran/Downloads/Naruto Shippuuden English Subs/[HorribleSubs] Naruto Shippuuden - 140 [720p].ass\n"
     ]
    },
    {
     "name": "stderr",
     "output_type": "stream",
     "text": [
      "140it [1:49:45, 47.88s/it]"
     ]
    },
    {
     "name": "stdout",
     "output_type": "stream",
     "text": [
      "Process  /Users/nhuantran/Downloads/Naruto Shippuuden English Subs/[HorribleSubs] Naruto Shippuuden - 141 [720p].ass\n"
     ]
    },
    {
     "name": "stderr",
     "output_type": "stream",
     "text": [
      "141it [1:50:38, 49.34s/it]"
     ]
    },
    {
     "name": "stdout",
     "output_type": "stream",
     "text": [
      "Process  /Users/nhuantran/Downloads/Naruto Shippuuden English Subs/[HorribleSubs] Naruto Shippuuden - 142 [720p].ass\n"
     ]
    },
    {
     "name": "stderr",
     "output_type": "stream",
     "text": [
      "142it [1:51:16, 45.90s/it]"
     ]
    },
    {
     "name": "stdout",
     "output_type": "stream",
     "text": [
      "Process  /Users/nhuantran/Downloads/Naruto Shippuuden English Subs/[HorribleSubs] Naruto Shippuuden - 143 [720p].ass\n"
     ]
    },
    {
     "name": "stderr",
     "output_type": "stream",
     "text": [
      "143it [1:52:02, 45.93s/it]"
     ]
    },
    {
     "name": "stdout",
     "output_type": "stream",
     "text": [
      "Process  /Users/nhuantran/Downloads/Naruto Shippuuden English Subs/[HorribleSubs] Naruto Shippuuden - 144 [720p].ass\n"
     ]
    },
    {
     "name": "stderr",
     "output_type": "stream",
     "text": [
      "144it [1:52:43, 44.50s/it]"
     ]
    },
    {
     "name": "stdout",
     "output_type": "stream",
     "text": [
      "Process  /Users/nhuantran/Downloads/Naruto Shippuuden English Subs/[HorribleSubs] Naruto Shippuuden - 145 [720p].ass\n"
     ]
    },
    {
     "name": "stderr",
     "output_type": "stream",
     "text": [
      "145it [1:53:18, 41.68s/it]"
     ]
    },
    {
     "name": "stdout",
     "output_type": "stream",
     "text": [
      "Process  /Users/nhuantran/Downloads/Naruto Shippuuden English Subs/[HorribleSubs] Naruto Shippuuden - 146 [720p].ass\n"
     ]
    },
    {
     "name": "stderr",
     "output_type": "stream",
     "text": [
      "146it [1:54:03, 42.77s/it]"
     ]
    },
    {
     "name": "stdout",
     "output_type": "stream",
     "text": [
      "Process  /Users/nhuantran/Downloads/Naruto Shippuuden English Subs/[HorribleSubs] Naruto Shippuuden - 147 [720p].ass\n"
     ]
    },
    {
     "name": "stderr",
     "output_type": "stream",
     "text": [
      "147it [1:54:52, 44.43s/it]"
     ]
    },
    {
     "name": "stdout",
     "output_type": "stream",
     "text": [
      "Process  /Users/nhuantran/Downloads/Naruto Shippuuden English Subs/[HorribleSubs] Naruto Shippuuden - 148 [720p].ass\n"
     ]
    },
    {
     "name": "stderr",
     "output_type": "stream",
     "text": [
      "148it [1:55:39, 45.24s/it]"
     ]
    },
    {
     "name": "stdout",
     "output_type": "stream",
     "text": [
      "Process  /Users/nhuantran/Downloads/Naruto Shippuuden English Subs/[HorribleSubs] Naruto Shippuuden - 149 [720p].ass\n"
     ]
    },
    {
     "name": "stderr",
     "output_type": "stream",
     "text": [
      "149it [1:56:36, 48.97s/it]"
     ]
    },
    {
     "name": "stdout",
     "output_type": "stream",
     "text": [
      "Process  /Users/nhuantran/Downloads/Naruto Shippuuden English Subs/[HorribleSubs] Naruto Shippuuden - 150 [720p].ass\n"
     ]
    },
    {
     "name": "stderr",
     "output_type": "stream",
     "text": [
      "150it [1:57:22, 48.08s/it]"
     ]
    },
    {
     "name": "stdout",
     "output_type": "stream",
     "text": [
      "Process  /Users/nhuantran/Downloads/Naruto Shippuuden English Subs/[HorribleSubs] Naruto Shippuuden - 151 [720p].ass\n"
     ]
    },
    {
     "name": "stderr",
     "output_type": "stream",
     "text": [
      "151it [1:58:00, 45.04s/it]"
     ]
    },
    {
     "name": "stdout",
     "output_type": "stream",
     "text": [
      "Process  /Users/nhuantran/Downloads/Naruto Shippuuden English Subs/[HorribleSubs] Naruto Shippuuden - 152 [720p].ass\n"
     ]
    },
    {
     "name": "stderr",
     "output_type": "stream",
     "text": [
      "152it [1:58:47, 45.63s/it]"
     ]
    },
    {
     "name": "stdout",
     "output_type": "stream",
     "text": [
      "Process  /Users/nhuantran/Downloads/Naruto Shippuuden English Subs/[HorribleSubs] Naruto Shippuuden - 153 [720p].ass\n"
     ]
    },
    {
     "name": "stderr",
     "output_type": "stream",
     "text": [
      "153it [1:59:30, 44.70s/it]"
     ]
    },
    {
     "name": "stdout",
     "output_type": "stream",
     "text": [
      "Process  /Users/nhuantran/Downloads/Naruto Shippuuden English Subs/[HorribleSubs] Naruto Shippuuden - 154 [720p].ass\n"
     ]
    },
    {
     "name": "stderr",
     "output_type": "stream",
     "text": [
      "154it [2:00:16, 45.12s/it]"
     ]
    },
    {
     "name": "stdout",
     "output_type": "stream",
     "text": [
      "Process  /Users/nhuantran/Downloads/Naruto Shippuuden English Subs/[HorribleSubs] Naruto Shippuuden - 155 [720p].ass\n"
     ]
    },
    {
     "name": "stderr",
     "output_type": "stream",
     "text": [
      "155it [2:01:05, 46.20s/it]"
     ]
    },
    {
     "name": "stdout",
     "output_type": "stream",
     "text": [
      "Process  /Users/nhuantran/Downloads/Naruto Shippuuden English Subs/[HorribleSubs] Naruto Shippuuden - 156 [720p].ass\n"
     ]
    },
    {
     "name": "stderr",
     "output_type": "stream",
     "text": [
      "156it [2:01:35, 41.53s/it]"
     ]
    },
    {
     "name": "stdout",
     "output_type": "stream",
     "text": [
      "Process  /Users/nhuantran/Downloads/Naruto Shippuuden English Subs/[HorribleSubs] Naruto Shippuuden - 157 [720p].ass\n"
     ]
    },
    {
     "name": "stderr",
     "output_type": "stream",
     "text": [
      "157it [2:02:22, 43.06s/it]"
     ]
    },
    {
     "name": "stdout",
     "output_type": "stream",
     "text": [
      "Process  /Users/nhuantran/Downloads/Naruto Shippuuden English Subs/[HorribleSubs] Naruto Shippuuden - 158 [720p].ass\n"
     ]
    },
    {
     "name": "stderr",
     "output_type": "stream",
     "text": [
      "158it [2:03:07, 43.54s/it]"
     ]
    },
    {
     "name": "stdout",
     "output_type": "stream",
     "text": [
      "Process  /Users/nhuantran/Downloads/Naruto Shippuuden English Subs/[HorribleSubs] Naruto Shippuuden - 159 [720p].ass\n"
     ]
    },
    {
     "name": "stderr",
     "output_type": "stream",
     "text": [
      "159it [2:04:02, 47.10s/it]"
     ]
    },
    {
     "name": "stdout",
     "output_type": "stream",
     "text": [
      "Process  /Users/nhuantran/Downloads/Naruto Shippuuden English Subs/[HorribleSubs] Naruto Shippuuden - 160 [720p].ass\n"
     ]
    },
    {
     "name": "stderr",
     "output_type": "stream",
     "text": [
      "160it [2:04:56, 49.27s/it]"
     ]
    },
    {
     "name": "stdout",
     "output_type": "stream",
     "text": [
      "Process  /Users/nhuantran/Downloads/Naruto Shippuuden English Subs/[HorribleSubs] Naruto Shippuuden - 161 [720p].ass\n"
     ]
    },
    {
     "name": "stderr",
     "output_type": "stream",
     "text": [
      "161it [2:05:47, 49.80s/it]"
     ]
    },
    {
     "name": "stdout",
     "output_type": "stream",
     "text": [
      "Process  /Users/nhuantran/Downloads/Naruto Shippuuden English Subs/[HorribleSubs] Naruto Shippuuden - 162 [720p].ass\n"
     ]
    },
    {
     "name": "stderr",
     "output_type": "stream",
     "text": [
      "162it [2:06:30, 47.67s/it]"
     ]
    },
    {
     "name": "stdout",
     "output_type": "stream",
     "text": [
      "Process  /Users/nhuantran/Downloads/Naruto Shippuuden English Subs/[HorribleSubs] Naruto Shippuuden - 163 [720p].ass\n"
     ]
    },
    {
     "name": "stderr",
     "output_type": "stream",
     "text": [
      "163it [2:07:20, 48.37s/it]"
     ]
    },
    {
     "name": "stdout",
     "output_type": "stream",
     "text": [
      "Process  /Users/nhuantran/Downloads/Naruto Shippuuden English Subs/[HorribleSubs] Naruto Shippuuden - 164 [720p].ass\n"
     ]
    },
    {
     "name": "stderr",
     "output_type": "stream",
     "text": [
      "164it [2:08:07, 47.88s/it]"
     ]
    },
    {
     "name": "stdout",
     "output_type": "stream",
     "text": [
      "Process  /Users/nhuantran/Downloads/Naruto Shippuuden English Subs/[HorribleSubs] Naruto Shippuuden - 165 [720p].ass\n"
     ]
    },
    {
     "name": "stderr",
     "output_type": "stream",
     "text": [
      "165it [2:08:55, 48.07s/it]"
     ]
    },
    {
     "name": "stdout",
     "output_type": "stream",
     "text": [
      "Process  /Users/nhuantran/Downloads/Naruto Shippuuden English Subs/[HorribleSubs] Naruto Shippuuden - 166 [720p].ass\n"
     ]
    },
    {
     "name": "stderr",
     "output_type": "stream",
     "text": [
      "166it [2:09:35, 45.69s/it]"
     ]
    },
    {
     "name": "stdout",
     "output_type": "stream",
     "text": [
      "Process  /Users/nhuantran/Downloads/Naruto Shippuuden English Subs/[HorribleSubs] Naruto Shippuuden - 167 [720p].ass\n"
     ]
    },
    {
     "name": "stderr",
     "output_type": "stream",
     "text": [
      "167it [2:10:02, 39.93s/it]"
     ]
    },
    {
     "name": "stdout",
     "output_type": "stream",
     "text": [
      "Process  /Users/nhuantran/Downloads/Naruto Shippuuden English Subs/[HorribleSubs] Naruto Shippuuden - 168 [720p].ass\n"
     ]
    },
    {
     "name": "stderr",
     "output_type": "stream",
     "text": [
      "168it [2:10:56, 44.14s/it]"
     ]
    },
    {
     "name": "stdout",
     "output_type": "stream",
     "text": [
      "Process  /Users/nhuantran/Downloads/Naruto Shippuuden English Subs/[HorribleSubs] Naruto Shippuuden - 169 [720p].ass\n"
     ]
    },
    {
     "name": "stderr",
     "output_type": "stream",
     "text": [
      "169it [2:11:55, 48.55s/it]"
     ]
    },
    {
     "name": "stdout",
     "output_type": "stream",
     "text": [
      "Process  /Users/nhuantran/Downloads/Naruto Shippuuden English Subs/[HorribleSubs] Naruto Shippuuden - 170 [720p].ass\n"
     ]
    },
    {
     "name": "stderr",
     "output_type": "stream",
     "text": [
      "170it [2:12:55, 52.12s/it]"
     ]
    },
    {
     "name": "stdout",
     "output_type": "stream",
     "text": [
      "Process  /Users/nhuantran/Downloads/Naruto Shippuuden English Subs/[HorribleSubs] Naruto Shippuuden - 171 [720p].ass\n"
     ]
    },
    {
     "name": "stderr",
     "output_type": "stream",
     "text": [
      "171it [2:13:47, 52.06s/it]"
     ]
    },
    {
     "name": "stdout",
     "output_type": "stream",
     "text": [
      "Process  /Users/nhuantran/Downloads/Naruto Shippuuden English Subs/[HorribleSubs] Naruto Shippuuden - 172 [720p].ass\n"
     ]
    },
    {
     "name": "stderr",
     "output_type": "stream",
     "text": [
      "172it [2:14:28, 48.58s/it]"
     ]
    },
    {
     "name": "stdout",
     "output_type": "stream",
     "text": [
      "Process  /Users/nhuantran/Downloads/Naruto Shippuuden English Subs/[HorribleSubs] Naruto Shippuuden - 173 [720p].ass\n"
     ]
    },
    {
     "name": "stderr",
     "output_type": "stream",
     "text": [
      "173it [2:15:21, 50.14s/it]"
     ]
    },
    {
     "name": "stdout",
     "output_type": "stream",
     "text": [
      "Process  /Users/nhuantran/Downloads/Naruto Shippuuden English Subs/[HorribleSubs] Naruto Shippuuden - 174 [720p].ass\n"
     ]
    },
    {
     "name": "stderr",
     "output_type": "stream",
     "text": [
      "174it [2:16:06, 48.59s/it]"
     ]
    },
    {
     "name": "stdout",
     "output_type": "stream",
     "text": [
      "Process  /Users/nhuantran/Downloads/Naruto Shippuuden English Subs/[HorribleSubs] Naruto Shippuuden - 175 [720p].ass\n"
     ]
    },
    {
     "name": "stderr",
     "output_type": "stream",
     "text": [
      "175it [2:17:02, 50.61s/it]"
     ]
    },
    {
     "name": "stdout",
     "output_type": "stream",
     "text": [
      "Process  /Users/nhuantran/Downloads/Naruto Shippuuden English Subs/[HorribleSubs] Naruto Shippuuden - 176 [720p].ass\n"
     ]
    },
    {
     "name": "stderr",
     "output_type": "stream",
     "text": [
      "176it [2:17:48, 49.25s/it]"
     ]
    },
    {
     "name": "stdout",
     "output_type": "stream",
     "text": [
      "Process  /Users/nhuantran/Downloads/Naruto Shippuuden English Subs/[HorribleSubs] Naruto Shippuuden - 177 [720p].ass\n"
     ]
    },
    {
     "name": "stderr",
     "output_type": "stream",
     "text": [
      "177it [2:18:47, 52.30s/it]"
     ]
    },
    {
     "name": "stdout",
     "output_type": "stream",
     "text": [
      "Process  /Users/nhuantran/Downloads/Naruto Shippuuden English Subs/[HorribleSubs] Naruto Shippuuden - 178 [720p].ass\n"
     ]
    },
    {
     "name": "stderr",
     "output_type": "stream",
     "text": [
      "178it [2:19:38, 51.90s/it]"
     ]
    },
    {
     "name": "stdout",
     "output_type": "stream",
     "text": [
      "Process  /Users/nhuantran/Downloads/Naruto Shippuuden English Subs/[HorribleSubs] Naruto Shippuuden - 179 [720p].ass\n"
     ]
    },
    {
     "name": "stderr",
     "output_type": "stream",
     "text": [
      "179it [2:20:20, 48.92s/it]"
     ]
    },
    {
     "name": "stdout",
     "output_type": "stream",
     "text": [
      "Process  /Users/nhuantran/Downloads/Naruto Shippuuden English Subs/[HorribleSubs] Naruto Shippuuden - 180 [720p].ass\n"
     ]
    },
    {
     "name": "stderr",
     "output_type": "stream",
     "text": [
      "180it [2:21:07, 48.19s/it]"
     ]
    },
    {
     "name": "stdout",
     "output_type": "stream",
     "text": [
      "Process  /Users/nhuantran/Downloads/Naruto Shippuuden English Subs/[HorribleSubs] Naruto Shippuuden - 181 [720p].ass\n"
     ]
    },
    {
     "name": "stderr",
     "output_type": "stream",
     "text": [
      "181it [2:21:53, 47.81s/it]"
     ]
    },
    {
     "name": "stdout",
     "output_type": "stream",
     "text": [
      "Process  /Users/nhuantran/Downloads/Naruto Shippuuden English Subs/[HorribleSubs] Naruto Shippuuden - 182 [720p].ass\n"
     ]
    },
    {
     "name": "stderr",
     "output_type": "stream",
     "text": [
      "182it [2:22:47, 49.60s/it]"
     ]
    },
    {
     "name": "stdout",
     "output_type": "stream",
     "text": [
      "Process  /Users/nhuantran/Downloads/Naruto Shippuuden English Subs/[HorribleSubs] Naruto Shippuuden - 183 [720p].ass\n"
     ]
    },
    {
     "name": "stderr",
     "output_type": "stream",
     "text": [
      "183it [2:23:25, 45.94s/it]"
     ]
    },
    {
     "name": "stdout",
     "output_type": "stream",
     "text": [
      "Process  /Users/nhuantran/Downloads/Naruto Shippuuden English Subs/[HorribleSubs] Naruto Shippuuden - 184 [720p].ass\n"
     ]
    },
    {
     "name": "stderr",
     "output_type": "stream",
     "text": [
      "184it [2:24:09, 45.49s/it]"
     ]
    },
    {
     "name": "stdout",
     "output_type": "stream",
     "text": [
      "Process  /Users/nhuantran/Downloads/Naruto Shippuuden English Subs/[HorribleSubs] Naruto Shippuuden - 185 [720p].ass\n"
     ]
    },
    {
     "name": "stderr",
     "output_type": "stream",
     "text": [
      "185it [2:25:16, 51.78s/it]"
     ]
    },
    {
     "name": "stdout",
     "output_type": "stream",
     "text": [
      "Process  /Users/nhuantran/Downloads/Naruto Shippuuden English Subs/[HorribleSubs] Naruto Shippuuden - 186 [720p].ass\n"
     ]
    },
    {
     "name": "stderr",
     "output_type": "stream",
     "text": [
      "186it [2:26:16, 54.32s/it]"
     ]
    },
    {
     "name": "stdout",
     "output_type": "stream",
     "text": [
      "Process  /Users/nhuantran/Downloads/Naruto Shippuuden English Subs/[HorribleSubs] Naruto Shippuuden - 187 [720p].ass\n"
     ]
    },
    {
     "name": "stderr",
     "output_type": "stream",
     "text": [
      "187it [2:27:17, 56.44s/it]"
     ]
    },
    {
     "name": "stdout",
     "output_type": "stream",
     "text": [
      "Process  /Users/nhuantran/Downloads/Naruto Shippuuden English Subs/[HorribleSubs] Naruto Shippuuden - 188 [720p].ass\n"
     ]
    },
    {
     "name": "stderr",
     "output_type": "stream",
     "text": [
      "188it [2:27:56, 51.25s/it]"
     ]
    },
    {
     "name": "stdout",
     "output_type": "stream",
     "text": [
      "Process  /Users/nhuantran/Downloads/Naruto Shippuuden English Subs/[HorribleSubs] Naruto Shippuuden - 189 [720p].ass\n"
     ]
    },
    {
     "name": "stderr",
     "output_type": "stream",
     "text": [
      "189it [2:28:45, 50.53s/it]"
     ]
    },
    {
     "name": "stdout",
     "output_type": "stream",
     "text": [
      "Process  /Users/nhuantran/Downloads/Naruto Shippuuden English Subs/[HorribleSubs] Naruto Shippuuden - 190 [720p].ass\n"
     ]
    },
    {
     "name": "stderr",
     "output_type": "stream",
     "text": [
      "190it [2:29:33, 49.65s/it]"
     ]
    },
    {
     "name": "stdout",
     "output_type": "stream",
     "text": [
      "Process  /Users/nhuantran/Downloads/Naruto Shippuuden English Subs/[HorribleSubs] Naruto Shippuuden - 191 [720p].ass\n"
     ]
    },
    {
     "name": "stderr",
     "output_type": "stream",
     "text": [
      "191it [2:30:30, 51.97s/it]"
     ]
    },
    {
     "name": "stdout",
     "output_type": "stream",
     "text": [
      "Process  /Users/nhuantran/Downloads/Naruto Shippuuden English Subs/[HorribleSubs] Naruto Shippuuden - 192 [720p].ass\n"
     ]
    },
    {
     "name": "stderr",
     "output_type": "stream",
     "text": [
      "192it [2:31:15, 49.72s/it]"
     ]
    },
    {
     "name": "stdout",
     "output_type": "stream",
     "text": [
      "Process  /Users/nhuantran/Downloads/Naruto Shippuuden English Subs/[HorribleSubs] Naruto Shippuuden - 193 [720p].ass\n"
     ]
    },
    {
     "name": "stderr",
     "output_type": "stream",
     "text": [
      "193it [2:31:59, 48.12s/it]"
     ]
    },
    {
     "name": "stdout",
     "output_type": "stream",
     "text": [
      "Process  /Users/nhuantran/Downloads/Naruto Shippuuden English Subs/[HorribleSubs] Naruto Shippuuden - 194 [720p].ass\n"
     ]
    },
    {
     "name": "stderr",
     "output_type": "stream",
     "text": [
      "194it [2:32:34, 44.08s/it]"
     ]
    },
    {
     "name": "stdout",
     "output_type": "stream",
     "text": [
      "Process  /Users/nhuantran/Downloads/Naruto Shippuuden English Subs/[HorribleSubs] Naruto Shippuuden - 195 [720p].ass\n"
     ]
    },
    {
     "name": "stderr",
     "output_type": "stream",
     "text": [
      "195it [2:33:36, 49.44s/it]"
     ]
    },
    {
     "name": "stdout",
     "output_type": "stream",
     "text": [
      "Process  /Users/nhuantran/Downloads/Naruto Shippuuden English Subs/[HorribleSubs] Naruto Shippuuden - 196 [720p].ass\n"
     ]
    },
    {
     "name": "stderr",
     "output_type": "stream",
     "text": [
      "196it [2:34:42, 54.55s/it]"
     ]
    },
    {
     "name": "stdout",
     "output_type": "stream",
     "text": [
      "Process  /Users/nhuantran/Downloads/Naruto Shippuuden English Subs/[HorribleSubs] Naruto Shippuuden - 197 [720p].ass\n"
     ]
    },
    {
     "name": "stderr",
     "output_type": "stream",
     "text": [
      "197it [2:35:45, 57.03s/it]"
     ]
    },
    {
     "name": "stdout",
     "output_type": "stream",
     "text": [
      "Process  /Users/nhuantran/Downloads/Naruto Shippuuden English Subs/[HorribleSubs] Naruto Shippuuden - 198 [720p].ass\n"
     ]
    },
    {
     "name": "stderr",
     "output_type": "stream",
     "text": [
      "198it [2:36:37, 55.56s/it]"
     ]
    },
    {
     "name": "stdout",
     "output_type": "stream",
     "text": [
      "Process  /Users/nhuantran/Downloads/Naruto Shippuuden English Subs/[HorribleSubs] Naruto Shippuuden - 199 [720p].ass\n"
     ]
    },
    {
     "name": "stderr",
     "output_type": "stream",
     "text": [
      "199it [2:37:25, 53.18s/it]"
     ]
    },
    {
     "name": "stdout",
     "output_type": "stream",
     "text": [
      "Process  /Users/nhuantran/Downloads/Naruto Shippuuden English Subs/[HorribleSubs] Naruto Shippuuden - 200 [720p].ass\n"
     ]
    },
    {
     "name": "stderr",
     "output_type": "stream",
     "text": [
      "200it [2:38:15, 52.34s/it]"
     ]
    },
    {
     "name": "stdout",
     "output_type": "stream",
     "text": [
      "Process  /Users/nhuantran/Downloads/Naruto Shippuuden English Subs/[HorribleSubs] Naruto Shippuuden - 201 [720p].ass\n"
     ]
    },
    {
     "name": "stderr",
     "output_type": "stream",
     "text": [
      "201it [2:39:06, 52.01s/it]"
     ]
    },
    {
     "name": "stdout",
     "output_type": "stream",
     "text": [
      "Process  /Users/nhuantran/Downloads/Naruto Shippuuden English Subs/[HorribleSubs] Naruto Shippuuden - 202 [720p].ass\n"
     ]
    },
    {
     "name": "stderr",
     "output_type": "stream",
     "text": [
      "202it [2:39:50, 49.59s/it]"
     ]
    },
    {
     "name": "stdout",
     "output_type": "stream",
     "text": [
      "Process  /Users/nhuantran/Downloads/Naruto Shippuuden English Subs/[HorribleSubs] Naruto Shippuuden - 203 [720p].ass\n"
     ]
    },
    {
     "name": "stderr",
     "output_type": "stream",
     "text": [
      "203it [2:40:41, 49.84s/it]"
     ]
    },
    {
     "name": "stdout",
     "output_type": "stream",
     "text": [
      "Process  /Users/nhuantran/Downloads/Naruto Shippuuden English Subs/[HorribleSubs] Naruto Shippuuden - 204 [720p].ass\n"
     ]
    },
    {
     "name": "stderr",
     "output_type": "stream",
     "text": [
      "204it [2:41:21, 47.08s/it]"
     ]
    },
    {
     "name": "stdout",
     "output_type": "stream",
     "text": [
      "Process  /Users/nhuantran/Downloads/Naruto Shippuuden English Subs/[HorribleSubs] Naruto Shippuuden - 205 [720p].ass\n"
     ]
    },
    {
     "name": "stderr",
     "output_type": "stream",
     "text": [
      "205it [2:42:10, 47.59s/it]"
     ]
    },
    {
     "name": "stdout",
     "output_type": "stream",
     "text": [
      "Process  /Users/nhuantran/Downloads/Naruto Shippuuden English Subs/[HorribleSubs] Naruto Shippuuden - 206 [720p].ass\n"
     ]
    },
    {
     "name": "stderr",
     "output_type": "stream",
     "text": [
      "206it [2:42:58, 47.63s/it]"
     ]
    },
    {
     "name": "stdout",
     "output_type": "stream",
     "text": [
      "Process  /Users/nhuantran/Downloads/Naruto Shippuuden English Subs/[HorribleSubs] Naruto Shippuuden - 207 [720p].ass\n"
     ]
    },
    {
     "name": "stderr",
     "output_type": "stream",
     "text": [
      "207it [2:43:55, 50.60s/it]"
     ]
    },
    {
     "name": "stdout",
     "output_type": "stream",
     "text": [
      "Process  /Users/nhuantran/Downloads/Naruto Shippuuden English Subs/[HorribleSubs] Naruto Shippuuden - 208 [720p].ass\n"
     ]
    },
    {
     "name": "stderr",
     "output_type": "stream",
     "text": [
      "208it [2:44:44, 50.03s/it]"
     ]
    },
    {
     "name": "stdout",
     "output_type": "stream",
     "text": [
      "Process  /Users/nhuantran/Downloads/Naruto Shippuuden English Subs/[HorribleSubs] Naruto Shippuuden - 209 [720p].ass\n"
     ]
    },
    {
     "name": "stderr",
     "output_type": "stream",
     "text": [
      "209it [2:45:29, 48.49s/it]"
     ]
    },
    {
     "name": "stdout",
     "output_type": "stream",
     "text": [
      "Process  /Users/nhuantran/Downloads/Naruto Shippuuden English Subs/[HorribleSubs] Naruto Shippuuden - 210 [720p].ass\n"
     ]
    },
    {
     "name": "stderr",
     "output_type": "stream",
     "text": [
      "210it [2:46:24, 50.41s/it]"
     ]
    },
    {
     "name": "stdout",
     "output_type": "stream",
     "text": [
      "Process  /Users/nhuantran/Downloads/Naruto Shippuuden English Subs/[HorribleSubs] Naruto Shippuuden - 211 [720p].ass\n"
     ]
    },
    {
     "name": "stderr",
     "output_type": "stream",
     "text": [
      "211it [2:47:09, 48.89s/it]"
     ]
    },
    {
     "name": "stdout",
     "output_type": "stream",
     "text": [
      "Process  /Users/nhuantran/Downloads/Naruto Shippuuden English Subs/[HorribleSubs] Naruto Shippuuden - 212 [720p].ass\n"
     ]
    },
    {
     "name": "stderr",
     "output_type": "stream",
     "text": [
      "212it [2:47:54, 47.55s/it]"
     ]
    },
    {
     "name": "stdout",
     "output_type": "stream",
     "text": [
      "Process  /Users/nhuantran/Downloads/Naruto Shippuuden English Subs/[HorribleSubs] Naruto Shippuuden - 213 [720p].ass\n"
     ]
    },
    {
     "name": "stderr",
     "output_type": "stream",
     "text": [
      "213it [2:48:48, 49.62s/it]"
     ]
    },
    {
     "name": "stdout",
     "output_type": "stream",
     "text": [
      "Process  /Users/nhuantran/Downloads/Naruto Shippuuden English Subs/[HorribleSubs] Naruto Shippuuden - 214 [720p].ass\n"
     ]
    },
    {
     "name": "stderr",
     "output_type": "stream",
     "text": [
      "214it [2:49:32, 47.90s/it]"
     ]
    },
    {
     "name": "stdout",
     "output_type": "stream",
     "text": [
      "Process  /Users/nhuantran/Downloads/Naruto Shippuuden English Subs/[HorribleSubs] Naruto Shippuuden - 215 [720p].ass\n"
     ]
    },
    {
     "name": "stderr",
     "output_type": "stream",
     "text": [
      "215it [2:50:21, 48.40s/it]"
     ]
    },
    {
     "name": "stdout",
     "output_type": "stream",
     "text": [
      "Process  /Users/nhuantran/Downloads/Naruto Shippuuden English Subs/[HorribleSubs] Naruto Shippuuden - 216 [720p].ass\n"
     ]
    },
    {
     "name": "stderr",
     "output_type": "stream",
     "text": [
      "216it [2:51:10, 48.30s/it]"
     ]
    },
    {
     "name": "stdout",
     "output_type": "stream",
     "text": [
      "Process  /Users/nhuantran/Downloads/Naruto Shippuuden English Subs/[HorribleSubs] Naruto Shippuuden - 217 [720p].ass\n"
     ]
    },
    {
     "name": "stderr",
     "output_type": "stream",
     "text": [
      "217it [2:51:59, 48.78s/it]"
     ]
    },
    {
     "name": "stdout",
     "output_type": "stream",
     "text": [
      "Process  /Users/nhuantran/Downloads/Naruto Shippuuden English Subs/[HorribleSubs] Naruto Shippuuden - 218 [720p].ass\n"
     ]
    },
    {
     "name": "stderr",
     "output_type": "stream",
     "text": [
      "218it [2:52:54, 50.54s/it]"
     ]
    },
    {
     "name": "stdout",
     "output_type": "stream",
     "text": [
      "Process  /Users/nhuantran/Downloads/Naruto Shippuuden English Subs/[HorribleSubs] Naruto Shippuuden - 219 [720p].ass\n"
     ]
    },
    {
     "name": "stderr",
     "output_type": "stream",
     "text": [
      "219it [2:53:44, 50.20s/it]"
     ]
    },
    {
     "name": "stdout",
     "output_type": "stream",
     "text": [
      "Process  /Users/nhuantran/Downloads/Naruto Shippuuden English Subs/[HorribleSubs] Naruto Shippuuden - 220 [720p].ass\n"
     ]
    },
    {
     "name": "stderr",
     "output_type": "stream",
     "text": [
      "220it [2:54:30, 49.24s/it]"
     ]
    },
    {
     "name": "stdout",
     "output_type": "stream",
     "text": [
      "Process  /Users/nhuantran/Downloads/Naruto Shippuuden English Subs/[HorribleSubs] Naruto Shippuuden - 221 [720p].ass\n"
     ]
    },
    {
     "name": "stderr",
     "output_type": "stream",
     "text": [
      "221it [2:55:28, 51.82s/it]"
     ]
    },
    {
     "name": "stdout",
     "output_type": "stream",
     "text": [
      "Process  /Users/nhuantran/Downloads/Naruto Shippuuden English Subs/[HorribleSubs] Naruto Shippuuden - 222 [720p].ass\n"
     ]
    },
    {
     "name": "stderr",
     "output_type": "stream",
     "text": [
      "222it [2:56:23, 52.63s/it]"
     ]
    },
    {
     "name": "stdout",
     "output_type": "stream",
     "text": [
      "Process  /Users/nhuantran/Downloads/Naruto Shippuuden English Subs/[HorribleSubs] Naruto Shippuuden - 223 [720p].ass\n"
     ]
    },
    {
     "name": "stderr",
     "output_type": "stream",
     "text": [
      "223it [2:56:55, 46.37s/it]"
     ]
    },
    {
     "name": "stdout",
     "output_type": "stream",
     "text": [
      "Process  /Users/nhuantran/Downloads/Naruto Shippuuden English Subs/[HorribleSubs] Naruto Shippuuden - 224 [720p].ass\n"
     ]
    },
    {
     "name": "stderr",
     "output_type": "stream",
     "text": [
      "224it [2:57:46, 47.75s/it]"
     ]
    },
    {
     "name": "stdout",
     "output_type": "stream",
     "text": [
      "Process  /Users/nhuantran/Downloads/Naruto Shippuuden English Subs/[HorribleSubs] Naruto Shippuuden - 225 [720p].ass\n"
     ]
    },
    {
     "name": "stderr",
     "output_type": "stream",
     "text": [
      "225it [2:58:22, 44.49s/it]"
     ]
    },
    {
     "name": "stdout",
     "output_type": "stream",
     "text": [
      "Process  /Users/nhuantran/Downloads/Naruto Shippuuden English Subs/[HorribleSubs] Naruto Shippuuden - 226 [720p].ass\n"
     ]
    },
    {
     "name": "stderr",
     "output_type": "stream",
     "text": [
      "226it [2:59:03, 43.31s/it]"
     ]
    },
    {
     "name": "stdout",
     "output_type": "stream",
     "text": [
      "Process  /Users/nhuantran/Downloads/Naruto Shippuuden English Subs/[HorribleSubs] Naruto Shippuuden - 227 [720p].ass\n"
     ]
    },
    {
     "name": "stderr",
     "output_type": "stream",
     "text": [
      "227it [2:59:40, 41.29s/it]"
     ]
    },
    {
     "name": "stdout",
     "output_type": "stream",
     "text": [
      "Process  /Users/nhuantran/Downloads/Naruto Shippuuden English Subs/[HorribleSubs] Naruto Shippuuden - 228 [720p].ass\n"
     ]
    },
    {
     "name": "stderr",
     "output_type": "stream",
     "text": [
      "228it [3:00:19, 40.59s/it]"
     ]
    },
    {
     "name": "stdout",
     "output_type": "stream",
     "text": [
      "Process  /Users/nhuantran/Downloads/Naruto Shippuuden English Subs/[HorribleSubs] Naruto Shippuuden - 229 [720p].ass\n"
     ]
    },
    {
     "name": "stderr",
     "output_type": "stream",
     "text": [
      "229it [3:01:07, 42.94s/it]"
     ]
    },
    {
     "name": "stdout",
     "output_type": "stream",
     "text": [
      "Process  /Users/nhuantran/Downloads/Naruto Shippuuden English Subs/[HorribleSubs] Naruto Shippuuden - 230 [720p].ass\n"
     ]
    },
    {
     "name": "stderr",
     "output_type": "stream",
     "text": [
      "230it [3:01:54, 44.09s/it]"
     ]
    },
    {
     "name": "stdout",
     "output_type": "stream",
     "text": [
      "Process  /Users/nhuantran/Downloads/Naruto Shippuuden English Subs/[HorribleSubs] Naruto Shippuuden - 231 [720p].ass\n"
     ]
    },
    {
     "name": "stderr",
     "output_type": "stream",
     "text": [
      "231it [3:02:37, 43.78s/it]"
     ]
    },
    {
     "name": "stdout",
     "output_type": "stream",
     "text": [
      "Process  /Users/nhuantran/Downloads/Naruto Shippuuden English Subs/[HorribleSubs] Naruto Shippuuden - 232 [720p].ass\n"
     ]
    },
    {
     "name": "stderr",
     "output_type": "stream",
     "text": [
      "232it [3:03:18, 43.14s/it]"
     ]
    },
    {
     "name": "stdout",
     "output_type": "stream",
     "text": [
      "Process  /Users/nhuantran/Downloads/Naruto Shippuuden English Subs/[HorribleSubs] Naruto Shippuuden - 233 [720p].ass\n"
     ]
    },
    {
     "name": "stderr",
     "output_type": "stream",
     "text": [
      "233it [3:04:05, 44.03s/it]"
     ]
    },
    {
     "name": "stdout",
     "output_type": "stream",
     "text": [
      "Process  /Users/nhuantran/Downloads/Naruto Shippuuden English Subs/[HorribleSubs] Naruto Shippuuden - 234 [720p].ass\n"
     ]
    },
    {
     "name": "stderr",
     "output_type": "stream",
     "text": [
      "234it [3:04:39, 41.29s/it]"
     ]
    },
    {
     "name": "stdout",
     "output_type": "stream",
     "text": [
      "Process  /Users/nhuantran/Downloads/Naruto Shippuuden English Subs/[HorribleSubs] Naruto Shippuuden - 235 [720p].ass\n"
     ]
    },
    {
     "name": "stderr",
     "output_type": "stream",
     "text": [
      "235it [3:05:21, 41.22s/it]"
     ]
    },
    {
     "name": "stdout",
     "output_type": "stream",
     "text": [
      "Process  /Users/nhuantran/Downloads/Naruto Shippuuden English Subs/[HorribleSubs] Naruto Shippuuden - 236 [720p].ass\n"
     ]
    },
    {
     "name": "stderr",
     "output_type": "stream",
     "text": [
      "236it [3:06:11, 43.94s/it]"
     ]
    },
    {
     "name": "stdout",
     "output_type": "stream",
     "text": [
      "Process  /Users/nhuantran/Downloads/Naruto Shippuuden English Subs/[HorribleSubs] Naruto Shippuuden - 237 [720p].ass\n"
     ]
    },
    {
     "name": "stderr",
     "output_type": "stream",
     "text": [
      "237it [3:06:55, 43.99s/it]"
     ]
    },
    {
     "name": "stdout",
     "output_type": "stream",
     "text": [
      "Process  /Users/nhuantran/Downloads/Naruto Shippuuden English Subs/[HorribleSubs] Naruto Shippuuden - 238 [720p].ass\n"
     ]
    },
    {
     "name": "stderr",
     "output_type": "stream",
     "text": [
      "238it [3:07:31, 41.63s/it]"
     ]
    },
    {
     "name": "stdout",
     "output_type": "stream",
     "text": [
      "Process  /Users/nhuantran/Downloads/Naruto Shippuuden English Subs/[HorribleSubs] Naruto Shippuuden - 239 [720p].ass\n"
     ]
    },
    {
     "name": "stderr",
     "output_type": "stream",
     "text": [
      "239it [3:08:18, 43.19s/it]"
     ]
    },
    {
     "name": "stdout",
     "output_type": "stream",
     "text": [
      "Process  /Users/nhuantran/Downloads/Naruto Shippuuden English Subs/[HorribleSubs] Naruto Shippuuden - 240 [720p].ass\n"
     ]
    },
    {
     "name": "stderr",
     "output_type": "stream",
     "text": [
      "240it [3:09:06, 44.61s/it]"
     ]
    },
    {
     "name": "stdout",
     "output_type": "stream",
     "text": [
      "Process  /Users/nhuantran/Downloads/Naruto Shippuuden English Subs/[HorribleSubs] Naruto Shippuuden - 241 [720p].ass\n"
     ]
    },
    {
     "name": "stderr",
     "output_type": "stream",
     "text": [
      "241it [3:09:57, 46.48s/it]"
     ]
    },
    {
     "name": "stdout",
     "output_type": "stream",
     "text": [
      "Process  /Users/nhuantran/Downloads/Naruto Shippuuden English Subs/[HorribleSubs] Naruto Shippuuden - 242 [720p].ass\n"
     ]
    },
    {
     "name": "stderr",
     "output_type": "stream",
     "text": [
      "242it [3:10:46, 47.47s/it]"
     ]
    },
    {
     "name": "stdout",
     "output_type": "stream",
     "text": [
      "Process  /Users/nhuantran/Downloads/Naruto Shippuuden English Subs/[HorribleSubs] Naruto Shippuuden - 243 [720p].ass\n"
     ]
    },
    {
     "name": "stderr",
     "output_type": "stream",
     "text": [
      "243it [3:11:45, 50.80s/it]"
     ]
    },
    {
     "name": "stdout",
     "output_type": "stream",
     "text": [
      "Process  /Users/nhuantran/Downloads/Naruto Shippuuden English Subs/[HorribleSubs] Naruto Shippuuden - 244 [720p].ass\n"
     ]
    },
    {
     "name": "stderr",
     "output_type": "stream",
     "text": [
      "244it [3:12:38, 51.51s/it]"
     ]
    },
    {
     "name": "stdout",
     "output_type": "stream",
     "text": [
      "Process  /Users/nhuantran/Downloads/Naruto Shippuuden English Subs/[HorribleSubs] Naruto Shippuuden - 245 [720p].ass\n"
     ]
    },
    {
     "name": "stderr",
     "output_type": "stream",
     "text": [
      "245it [3:13:47, 56.80s/it]"
     ]
    },
    {
     "name": "stdout",
     "output_type": "stream",
     "text": [
      "Process  /Users/nhuantran/Downloads/Naruto Shippuuden English Subs/[HorribleSubs] Naruto Shippuuden - 246 [720p].ass\n"
     ]
    },
    {
     "name": "stderr",
     "output_type": "stream",
     "text": [
      "246it [3:14:47, 57.69s/it]"
     ]
    },
    {
     "name": "stdout",
     "output_type": "stream",
     "text": [
      "Process  /Users/nhuantran/Downloads/Naruto Shippuuden English Subs/[HorribleSubs] Naruto Shippuuden - 247 [720p].ass\n"
     ]
    },
    {
     "name": "stderr",
     "output_type": "stream",
     "text": [
      "247it [3:15:28, 52.54s/it]"
     ]
    },
    {
     "name": "stdout",
     "output_type": "stream",
     "text": [
      "Process  /Users/nhuantran/Downloads/Naruto Shippuuden English Subs/[HorribleSubs] Naruto Shippuuden - 248 [720p].ass\n"
     ]
    },
    {
     "name": "stderr",
     "output_type": "stream",
     "text": [
      "248it [3:16:15, 51.05s/it]"
     ]
    },
    {
     "name": "stdout",
     "output_type": "stream",
     "text": [
      "Process  /Users/nhuantran/Downloads/Naruto Shippuuden English Subs/[HorribleSubs] Naruto Shippuuden - 249 [720p].ass\n"
     ]
    },
    {
     "name": "stderr",
     "output_type": "stream",
     "text": [
      "249it [3:17:03, 50.03s/it]"
     ]
    },
    {
     "name": "stdout",
     "output_type": "stream",
     "text": [
      "Process  /Users/nhuantran/Downloads/Naruto Shippuuden English Subs/[HorribleSubs] Naruto Shippuuden - 250 [720p].ass\n"
     ]
    },
    {
     "name": "stderr",
     "output_type": "stream",
     "text": [
      "250it [3:17:56, 50.98s/it]"
     ]
    },
    {
     "name": "stdout",
     "output_type": "stream",
     "text": [
      "Process  /Users/nhuantran/Downloads/Naruto Shippuuden English Subs/[HorribleSubs] Naruto Shippuuden - 251 [720p].ass\n"
     ]
    },
    {
     "name": "stderr",
     "output_type": "stream",
     "text": [
      "251it [3:18:48, 51.30s/it]"
     ]
    },
    {
     "name": "stdout",
     "output_type": "stream",
     "text": [
      "Process  /Users/nhuantran/Downloads/Naruto Shippuuden English Subs/[HorribleSubs] Naruto Shippuuden - 252 [720p].ass\n"
     ]
    },
    {
     "name": "stderr",
     "output_type": "stream",
     "text": [
      "252it [3:19:48, 54.01s/it]"
     ]
    },
    {
     "name": "stdout",
     "output_type": "stream",
     "text": [
      "Process  /Users/nhuantran/Downloads/Naruto Shippuuden English Subs/[HorribleSubs] Naruto Shippuuden - 253 [720p].ass\n"
     ]
    },
    {
     "name": "stderr",
     "output_type": "stream",
     "text": [
      "253it [3:20:27, 49.48s/it]"
     ]
    },
    {
     "name": "stdout",
     "output_type": "stream",
     "text": [
      "Process  /Users/nhuantran/Downloads/Naruto Shippuuden English Subs/[HorribleSubs] Naruto Shippuuden - 254 [720p].ass\n"
     ]
    },
    {
     "name": "stderr",
     "output_type": "stream",
     "text": [
      "254it [3:21:29, 53.04s/it]"
     ]
    },
    {
     "name": "stdout",
     "output_type": "stream",
     "text": [
      "Process  /Users/nhuantran/Downloads/Naruto Shippuuden English Subs/[HorribleSubs] Naruto Shippuuden - 255 [720p].ass\n"
     ]
    },
    {
     "name": "stderr",
     "output_type": "stream",
     "text": [
      "255it [3:22:34, 56.77s/it]"
     ]
    },
    {
     "name": "stdout",
     "output_type": "stream",
     "text": [
      "Process  /Users/nhuantran/Downloads/Naruto Shippuuden English Subs/[HorribleSubs] Naruto Shippuuden - 256 [720p].ass\n"
     ]
    },
    {
     "name": "stderr",
     "output_type": "stream",
     "text": [
      "256it [3:23:21, 53.72s/it]"
     ]
    },
    {
     "name": "stdout",
     "output_type": "stream",
     "text": [
      "Process  /Users/nhuantran/Downloads/Naruto Shippuuden English Subs/[HorribleSubs] Naruto Shippuuden - 257 [720p].ass\n"
     ]
    },
    {
     "name": "stderr",
     "output_type": "stream",
     "text": [
      "257it [3:23:53, 47.18s/it]"
     ]
    },
    {
     "name": "stdout",
     "output_type": "stream",
     "text": [
      "Process  /Users/nhuantran/Downloads/Naruto Shippuuden English Subs/[HorribleSubs] Naruto Shippuuden - 258 [720p].ass\n"
     ]
    },
    {
     "name": "stderr",
     "output_type": "stream",
     "text": [
      "258it [3:24:38, 46.73s/it]"
     ]
    },
    {
     "name": "stdout",
     "output_type": "stream",
     "text": [
      "Process  /Users/nhuantran/Downloads/Naruto Shippuuden English Subs/[HorribleSubs] Naruto Shippuuden - 259 [720p].ass\n"
     ]
    },
    {
     "name": "stderr",
     "output_type": "stream",
     "text": [
      "259it [3:25:33, 49.13s/it]"
     ]
    },
    {
     "name": "stdout",
     "output_type": "stream",
     "text": [
      "Process  /Users/nhuantran/Downloads/Naruto Shippuuden English Subs/[HorribleSubs] Naruto Shippuuden - 260 [720p].ass\n"
     ]
    },
    {
     "name": "stderr",
     "output_type": "stream",
     "text": [
      "260it [3:26:26, 50.27s/it]"
     ]
    },
    {
     "name": "stdout",
     "output_type": "stream",
     "text": [
      "Process  /Users/nhuantran/Downloads/Naruto Shippuuden English Subs/[HorribleSubs] Naruto Shippuuden - 261 [720p].ass\n"
     ]
    },
    {
     "name": "stderr",
     "output_type": "stream",
     "text": [
      "261it [3:27:17, 50.37s/it]"
     ]
    },
    {
     "name": "stdout",
     "output_type": "stream",
     "text": [
      "Process  /Users/nhuantran/Downloads/Naruto Shippuuden English Subs/[HorribleSubs] Naruto Shippuuden - 262 [720p].ass\n"
     ]
    },
    {
     "name": "stderr",
     "output_type": "stream",
     "text": [
      "262it [3:28:10, 51.30s/it]"
     ]
    },
    {
     "name": "stdout",
     "output_type": "stream",
     "text": [
      "Process  /Users/nhuantran/Downloads/Naruto Shippuuden English Subs/[HorribleSubs] Naruto Shippuuden - 263 [720p].ass\n"
     ]
    },
    {
     "name": "stderr",
     "output_type": "stream",
     "text": [
      "263it [3:29:08, 53.44s/it]"
     ]
    },
    {
     "name": "stdout",
     "output_type": "stream",
     "text": [
      "Process  /Users/nhuantran/Downloads/Naruto Shippuuden English Subs/[HorribleSubs] Naruto Shippuuden - 264 [720p].ass\n"
     ]
    },
    {
     "name": "stderr",
     "output_type": "stream",
     "text": [
      "264it [3:30:32, 62.44s/it]"
     ]
    },
    {
     "name": "stdout",
     "output_type": "stream",
     "text": [
      "Process  /Users/nhuantran/Downloads/Naruto Shippuuden English Subs/[HorribleSubs] Naruto Shippuuden - 265 [720p].ass\n"
     ]
    },
    {
     "name": "stderr",
     "output_type": "stream",
     "text": [
      "265it [3:31:34, 62.27s/it]"
     ]
    },
    {
     "name": "stdout",
     "output_type": "stream",
     "text": [
      "Process  /Users/nhuantran/Downloads/Naruto Shippuuden English Subs/[HorribleSubs] Naruto Shippuuden - 266 [720p].ass\n"
     ]
    },
    {
     "name": "stderr",
     "output_type": "stream",
     "text": [
      "266it [3:32:20, 57.55s/it]"
     ]
    },
    {
     "name": "stdout",
     "output_type": "stream",
     "text": [
      "Process  /Users/nhuantran/Downloads/Naruto Shippuuden English Subs/[HorribleSubs] Naruto Shippuuden - 267 [720p].ass\n"
     ]
    },
    {
     "name": "stderr",
     "output_type": "stream",
     "text": [
      "267it [3:33:02, 52.88s/it]"
     ]
    },
    {
     "name": "stdout",
     "output_type": "stream",
     "text": [
      "Process  /Users/nhuantran/Downloads/Naruto Shippuuden English Subs/[HorribleSubs] Naruto Shippuuden - 268 [720p].ass\n"
     ]
    },
    {
     "name": "stderr",
     "output_type": "stream",
     "text": [
      "268it [3:33:51, 51.52s/it]"
     ]
    },
    {
     "name": "stdout",
     "output_type": "stream",
     "text": [
      "Process  /Users/nhuantran/Downloads/Naruto Shippuuden English Subs/[HorribleSubs] Naruto Shippuuden - 269 [720p].ass\n"
     ]
    },
    {
     "name": "stderr",
     "output_type": "stream",
     "text": [
      "269it [3:34:55, 55.36s/it]"
     ]
    },
    {
     "name": "stdout",
     "output_type": "stream",
     "text": [
      "Process  /Users/nhuantran/Downloads/Naruto Shippuuden English Subs/[HorribleSubs] Naruto Shippuuden - 270 [720p].ass\n"
     ]
    },
    {
     "name": "stderr",
     "output_type": "stream",
     "text": [
      "270it [3:36:08, 60.60s/it]"
     ]
    },
    {
     "name": "stdout",
     "output_type": "stream",
     "text": [
      "Process  /Users/nhuantran/Downloads/Naruto Shippuuden English Subs/[HorribleSubs] Naruto Shippuuden - 271 [720p].ass\n"
     ]
    },
    {
     "name": "stderr",
     "output_type": "stream",
     "text": [
      "271it [3:37:06, 59.76s/it]"
     ]
    },
    {
     "name": "stdout",
     "output_type": "stream",
     "text": [
      "Process  /Users/nhuantran/Downloads/Naruto Shippuuden English Subs/[HorribleSubs] Naruto Shippuuden - 272 [720p].ass\n"
     ]
    },
    {
     "name": "stderr",
     "output_type": "stream",
     "text": [
      "272it [3:38:15, 62.67s/it]"
     ]
    },
    {
     "name": "stdout",
     "output_type": "stream",
     "text": [
      "Process  /Users/nhuantran/Downloads/Naruto Shippuuden English Subs/[HorribleSubs] Naruto Shippuuden - 273 [720p].ass\n"
     ]
    },
    {
     "name": "stderr",
     "output_type": "stream",
     "text": [
      "273it [3:39:21, 63.60s/it]"
     ]
    },
    {
     "name": "stdout",
     "output_type": "stream",
     "text": [
      "Process  /Users/nhuantran/Downloads/Naruto Shippuuden English Subs/[HorribleSubs] Naruto Shippuuden - 274 [720p].ass\n"
     ]
    },
    {
     "name": "stderr",
     "output_type": "stream",
     "text": [
      "274it [3:40:36, 67.09s/it]"
     ]
    },
    {
     "name": "stdout",
     "output_type": "stream",
     "text": [
      "Process  /Users/nhuantran/Downloads/Naruto Shippuuden English Subs/[HorribleSubs] Naruto Shippuuden - 275 [720p].ass\n"
     ]
    },
    {
     "name": "stderr",
     "output_type": "stream",
     "text": [
      "275it [3:41:39, 65.72s/it]"
     ]
    },
    {
     "name": "stdout",
     "output_type": "stream",
     "text": [
      "Process  /Users/nhuantran/Downloads/Naruto Shippuuden English Subs/[HorribleSubs] Naruto Shippuuden - 276 [720p].ass\n"
     ]
    },
    {
     "name": "stderr",
     "output_type": "stream",
     "text": [
      "276it [3:42:36, 63.32s/it]"
     ]
    },
    {
     "name": "stdout",
     "output_type": "stream",
     "text": [
      "Process  /Users/nhuantran/Downloads/Naruto Shippuuden English Subs/[HorribleSubs] Naruto Shippuuden - 277 [720p].ass\n"
     ]
    },
    {
     "name": "stderr",
     "output_type": "stream",
     "text": [
      "277it [3:43:32, 61.11s/it]"
     ]
    },
    {
     "name": "stdout",
     "output_type": "stream",
     "text": [
      "Process  /Users/nhuantran/Downloads/Naruto Shippuuden English Subs/[HorribleSubs] Naruto Shippuuden - 278 [720p].ass\n"
     ]
    },
    {
     "name": "stderr",
     "output_type": "stream",
     "text": [
      "278it [3:44:19, 56.74s/it]"
     ]
    },
    {
     "name": "stdout",
     "output_type": "stream",
     "text": [
      "Process  /Users/nhuantran/Downloads/Naruto Shippuuden English Subs/[HorribleSubs] Naruto Shippuuden - 279 [720p].ass\n"
     ]
    },
    {
     "name": "stderr",
     "output_type": "stream",
     "text": [
      "279it [3:45:18, 57.54s/it]"
     ]
    },
    {
     "name": "stdout",
     "output_type": "stream",
     "text": [
      "Process  /Users/nhuantran/Downloads/Naruto Shippuuden English Subs/[HorribleSubs] Naruto Shippuuden - 280 [720p].ass\n"
     ]
    },
    {
     "name": "stderr",
     "output_type": "stream",
     "text": [
      "280it [3:46:09, 55.48s/it]"
     ]
    },
    {
     "name": "stdout",
     "output_type": "stream",
     "text": [
      "Process  /Users/nhuantran/Downloads/Naruto Shippuuden English Subs/[HorribleSubs] Naruto Shippuuden - 281 [720p].ass\n"
     ]
    },
    {
     "name": "stderr",
     "output_type": "stream",
     "text": [
      "281it [3:47:00, 54.26s/it]"
     ]
    },
    {
     "name": "stdout",
     "output_type": "stream",
     "text": [
      "Process  /Users/nhuantran/Downloads/Naruto Shippuuden English Subs/[HorribleSubs] Naruto Shippuuden - 282 [720p].ass\n"
     ]
    },
    {
     "name": "stderr",
     "output_type": "stream",
     "text": [
      "282it [3:47:58, 55.13s/it]"
     ]
    },
    {
     "name": "stdout",
     "output_type": "stream",
     "text": [
      "Process  /Users/nhuantran/Downloads/Naruto Shippuuden English Subs/[HorribleSubs] Naruto Shippuuden - 283 [720p].ass\n"
     ]
    },
    {
     "name": "stderr",
     "output_type": "stream",
     "text": [
      "283it [3:49:06, 59.12s/it]"
     ]
    },
    {
     "name": "stdout",
     "output_type": "stream",
     "text": [
      "Process  /Users/nhuantran/Downloads/Naruto Shippuuden English Subs/[HorribleSubs] Naruto Shippuuden - 284 [720p].ass\n"
     ]
    },
    {
     "name": "stderr",
     "output_type": "stream",
     "text": [
      "284it [3:50:10, 60.50s/it]"
     ]
    },
    {
     "name": "stdout",
     "output_type": "stream",
     "text": [
      "Process  /Users/nhuantran/Downloads/Naruto Shippuuden English Subs/[HorribleSubs] Naruto Shippuuden - 285 [720p].ass\n"
     ]
    },
    {
     "name": "stderr",
     "output_type": "stream",
     "text": [
      "285it [3:51:06, 59.18s/it]"
     ]
    },
    {
     "name": "stdout",
     "output_type": "stream",
     "text": [
      "Process  /Users/nhuantran/Downloads/Naruto Shippuuden English Subs/[HorribleSubs] Naruto Shippuuden - 286 [720p].ass\n"
     ]
    },
    {
     "name": "stderr",
     "output_type": "stream",
     "text": [
      "286it [3:52:05, 59.18s/it]"
     ]
    },
    {
     "name": "stdout",
     "output_type": "stream",
     "text": [
      "Process  /Users/nhuantran/Downloads/Naruto Shippuuden English Subs/[HorribleSubs] Naruto Shippuuden - 287 [720p].ass\n"
     ]
    },
    {
     "name": "stderr",
     "output_type": "stream",
     "text": [
      "287it [3:52:49, 54.72s/it]"
     ]
    },
    {
     "name": "stdout",
     "output_type": "stream",
     "text": [
      "Process  /Users/nhuantran/Downloads/Naruto Shippuuden English Subs/[HorribleSubs] Naruto Shippuuden - 288 [720p].ass\n"
     ]
    },
    {
     "name": "stderr",
     "output_type": "stream",
     "text": [
      "288it [3:53:34, 51.70s/it]"
     ]
    },
    {
     "name": "stdout",
     "output_type": "stream",
     "text": [
      "Process  /Users/nhuantran/Downloads/Naruto Shippuuden English Subs/[HorribleSubs] Naruto Shippuuden - 289 [720p].ass\n"
     ]
    },
    {
     "name": "stderr",
     "output_type": "stream",
     "text": [
      "289it [3:54:19, 49.85s/it]"
     ]
    },
    {
     "name": "stdout",
     "output_type": "stream",
     "text": [
      "Process  /Users/nhuantran/Downloads/Naruto Shippuuden English Subs/[HorribleSubs] Naruto Shippuuden - 290 [720p].ass\n"
     ]
    },
    {
     "name": "stderr",
     "output_type": "stream",
     "text": [
      "290it [3:54:57, 46.14s/it]"
     ]
    },
    {
     "name": "stdout",
     "output_type": "stream",
     "text": [
      "Process  /Users/nhuantran/Downloads/Naruto Shippuuden English Subs/[HorribleSubs] Naruto Shippuuden - 291 [720p].ass\n"
     ]
    },
    {
     "name": "stderr",
     "output_type": "stream",
     "text": [
      "291it [3:55:39, 45.02s/it]"
     ]
    },
    {
     "name": "stdout",
     "output_type": "stream",
     "text": [
      "Process  /Users/nhuantran/Downloads/Naruto Shippuuden English Subs/[HorribleSubs] Naruto Shippuuden - 292 [720p].ass\n"
     ]
    },
    {
     "name": "stderr",
     "output_type": "stream",
     "text": [
      "292it [3:56:17, 42.81s/it]"
     ]
    },
    {
     "name": "stdout",
     "output_type": "stream",
     "text": [
      "Process  /Users/nhuantran/Downloads/Naruto Shippuuden English Subs/[HorribleSubs] Naruto Shippuuden - 293 [720p].ass\n"
     ]
    },
    {
     "name": "stderr",
     "output_type": "stream",
     "text": [
      "293it [3:56:57, 42.10s/it]"
     ]
    },
    {
     "name": "stdout",
     "output_type": "stream",
     "text": [
      "Process  /Users/nhuantran/Downloads/Naruto Shippuuden English Subs/[HorribleSubs] Naruto Shippuuden - 294 [720p].ass\n"
     ]
    },
    {
     "name": "stderr",
     "output_type": "stream",
     "text": [
      "294it [3:57:50, 45.34s/it]"
     ]
    },
    {
     "name": "stdout",
     "output_type": "stream",
     "text": [
      "Process  /Users/nhuantran/Downloads/Naruto Shippuuden English Subs/[HorribleSubs] Naruto Shippuuden - 295 [720p].ass\n"
     ]
    },
    {
     "name": "stderr",
     "output_type": "stream",
     "text": [
      "295it [3:58:38, 46.16s/it]"
     ]
    },
    {
     "name": "stdout",
     "output_type": "stream",
     "text": [
      "Process  /Users/nhuantran/Downloads/Naruto Shippuuden English Subs/[HorribleSubs] Naruto Shippuuden - 296 [720p].ass\n"
     ]
    },
    {
     "name": "stderr",
     "output_type": "stream",
     "text": [
      "296it [3:59:30, 47.81s/it]"
     ]
    },
    {
     "name": "stdout",
     "output_type": "stream",
     "text": [
      "Process  /Users/nhuantran/Downloads/Naruto Shippuuden English Subs/[HorribleSubs] Naruto Shippuuden - 297 [720p].ass\n"
     ]
    },
    {
     "name": "stderr",
     "output_type": "stream",
     "text": [
      "297it [4:00:12, 46.04s/it]"
     ]
    },
    {
     "name": "stdout",
     "output_type": "stream",
     "text": [
      "Process  /Users/nhuantran/Downloads/Naruto Shippuuden English Subs/[HorribleSubs] Naruto Shippuuden - 298 [720p].ass\n"
     ]
    },
    {
     "name": "stderr",
     "output_type": "stream",
     "text": [
      "298it [4:00:59, 46.31s/it]"
     ]
    },
    {
     "name": "stdout",
     "output_type": "stream",
     "text": [
      "Process  /Users/nhuantran/Downloads/Naruto Shippuuden English Subs/[HorribleSubs] Naruto Shippuuden - 299 [720p].ass\n"
     ]
    },
    {
     "name": "stderr",
     "output_type": "stream",
     "text": [
      "299it [4:02:01, 50.96s/it]"
     ]
    },
    {
     "name": "stdout",
     "output_type": "stream",
     "text": [
      "Process  /Users/nhuantran/Downloads/Naruto Shippuuden English Subs/[HorribleSubs] Naruto Shippuuden - 300 [720p].ass\n"
     ]
    },
    {
     "name": "stderr",
     "output_type": "stream",
     "text": [
      "300it [4:03:03, 54.29s/it]"
     ]
    },
    {
     "name": "stdout",
     "output_type": "stream",
     "text": [
      "Process  /Users/nhuantran/Downloads/Naruto Shippuuden English Subs/[HorribleSubs] Naruto Shippuuden - 301 [720p].ass\n"
     ]
    },
    {
     "name": "stderr",
     "output_type": "stream",
     "text": [
      "301it [4:04:09, 57.92s/it]"
     ]
    },
    {
     "name": "stdout",
     "output_type": "stream",
     "text": [
      "Process  /Users/nhuantran/Downloads/Naruto Shippuuden English Subs/[HorribleSubs] Naruto Shippuuden - 302 [720p].ass\n"
     ]
    },
    {
     "name": "stderr",
     "output_type": "stream",
     "text": [
      "302it [4:05:04, 56.97s/it]"
     ]
    },
    {
     "name": "stdout",
     "output_type": "stream",
     "text": [
      "Process  /Users/nhuantran/Downloads/Naruto Shippuuden English Subs/[HorribleSubs] Naruto Shippuuden - 303 [720p].ass\n"
     ]
    },
    {
     "name": "stderr",
     "output_type": "stream",
     "text": [
      "303it [4:06:16, 61.51s/it]"
     ]
    },
    {
     "name": "stdout",
     "output_type": "stream",
     "text": [
      "Process  /Users/nhuantran/Downloads/Naruto Shippuuden English Subs/[HorribleSubs] Naruto Shippuuden - 304 [720p].ass\n"
     ]
    },
    {
     "name": "stderr",
     "output_type": "stream",
     "text": [
      "304it [4:07:16, 61.03s/it]"
     ]
    },
    {
     "name": "stdout",
     "output_type": "stream",
     "text": [
      "Process  /Users/nhuantran/Downloads/Naruto Shippuuden English Subs/[HorribleSubs] Naruto Shippuuden - 305 [720p].ass\n"
     ]
    },
    {
     "name": "stderr",
     "output_type": "stream",
     "text": [
      "305it [4:08:14, 60.03s/it]"
     ]
    },
    {
     "name": "stdout",
     "output_type": "stream",
     "text": [
      "Process  /Users/nhuantran/Downloads/Naruto Shippuuden English Subs/[HorribleSubs] Naruto Shippuuden - 306 [720p].ass\n"
     ]
    },
    {
     "name": "stderr",
     "output_type": "stream",
     "text": [
      "306it [4:08:59, 55.63s/it]"
     ]
    },
    {
     "name": "stdout",
     "output_type": "stream",
     "text": [
      "Process  /Users/nhuantran/Downloads/Naruto Shippuuden English Subs/[HorribleSubs] Naruto Shippuuden - 307 [720p].ass\n"
     ]
    },
    {
     "name": "stderr",
     "output_type": "stream",
     "text": [
      "307it [4:09:47, 53.32s/it]"
     ]
    },
    {
     "name": "stdout",
     "output_type": "stream",
     "text": [
      "Process  /Users/nhuantran/Downloads/Naruto Shippuuden English Subs/[HorribleSubs] Naruto Shippuuden - 308 [720p].ass\n"
     ]
    },
    {
     "name": "stderr",
     "output_type": "stream",
     "text": [
      "308it [4:10:26, 49.00s/it]"
     ]
    },
    {
     "name": "stdout",
     "output_type": "stream",
     "text": [
      "Process  /Users/nhuantran/Downloads/Naruto Shippuuden English Subs/[HorribleSubs] Naruto Shippuuden - 309 [720p].ass\n"
     ]
    },
    {
     "name": "stderr",
     "output_type": "stream",
     "text": [
      "309it [4:11:11, 47.71s/it]"
     ]
    },
    {
     "name": "stdout",
     "output_type": "stream",
     "text": [
      "Process  /Users/nhuantran/Downloads/Naruto Shippuuden English Subs/[HorribleSubs] Naruto Shippuuden - 310 [720p].ass\n"
     ]
    },
    {
     "name": "stderr",
     "output_type": "stream",
     "text": [
      "310it [4:11:56, 46.99s/it]"
     ]
    },
    {
     "name": "stdout",
     "output_type": "stream",
     "text": [
      "Process  /Users/nhuantran/Downloads/Naruto Shippuuden English Subs/[HorribleSubs] Naruto Shippuuden - 311 [720p].ass\n"
     ]
    },
    {
     "name": "stderr",
     "output_type": "stream",
     "text": [
      "311it [4:12:45, 47.70s/it]"
     ]
    },
    {
     "name": "stdout",
     "output_type": "stream",
     "text": [
      "Process  /Users/nhuantran/Downloads/Naruto Shippuuden English Subs/[HorribleSubs] Naruto Shippuuden - 312 [720p].ass\n"
     ]
    },
    {
     "name": "stderr",
     "output_type": "stream",
     "text": [
      "312it [4:13:35, 48.28s/it]"
     ]
    },
    {
     "name": "stdout",
     "output_type": "stream",
     "text": [
      "Process  /Users/nhuantran/Downloads/Naruto Shippuuden English Subs/[HorribleSubs] Naruto Shippuuden - 313 [720p].ass\n"
     ]
    },
    {
     "name": "stderr",
     "output_type": "stream",
     "text": [
      "313it [4:14:07, 43.31s/it]"
     ]
    },
    {
     "name": "stdout",
     "output_type": "stream",
     "text": [
      "Process  /Users/nhuantran/Downloads/Naruto Shippuuden English Subs/[HorribleSubs] Naruto Shippuuden - 314 [720p].ass\n"
     ]
    },
    {
     "name": "stderr",
     "output_type": "stream",
     "text": [
      "314it [4:14:43, 41.25s/it]"
     ]
    },
    {
     "name": "stdout",
     "output_type": "stream",
     "text": [
      "Process  /Users/nhuantran/Downloads/Naruto Shippuuden English Subs/[HorribleSubs] Naruto Shippuuden - 315 [720p].ass\n"
     ]
    },
    {
     "name": "stderr",
     "output_type": "stream",
     "text": [
      "315it [4:15:27, 42.03s/it]"
     ]
    },
    {
     "name": "stdout",
     "output_type": "stream",
     "text": [
      "Process  /Users/nhuantran/Downloads/Naruto Shippuuden English Subs/[HorribleSubs] Naruto Shippuuden - 316 [720p].ass\n"
     ]
    },
    {
     "name": "stderr",
     "output_type": "stream",
     "text": [
      "316it [4:16:23, 46.14s/it]"
     ]
    },
    {
     "name": "stdout",
     "output_type": "stream",
     "text": [
      "Process  /Users/nhuantran/Downloads/Naruto Shippuuden English Subs/[HorribleSubs] Naruto Shippuuden - 317 [720p].ass\n"
     ]
    },
    {
     "name": "stderr",
     "output_type": "stream",
     "text": [
      "317it [4:17:10, 46.52s/it]"
     ]
    },
    {
     "name": "stdout",
     "output_type": "stream",
     "text": [
      "Process  /Users/nhuantran/Downloads/Naruto Shippuuden English Subs/[HorribleSubs] Naruto Shippuuden - 318 [720p].ass\n"
     ]
    },
    {
     "name": "stderr",
     "output_type": "stream",
     "text": [
      "318it [4:17:56, 46.30s/it]"
     ]
    },
    {
     "name": "stdout",
     "output_type": "stream",
     "text": [
      "Process  /Users/nhuantran/Downloads/Naruto Shippuuden English Subs/[HorribleSubs] Naruto Shippuuden - 319 [720p].ass\n"
     ]
    },
    {
     "name": "stderr",
     "output_type": "stream",
     "text": [
      "319it [4:18:37, 44.72s/it]"
     ]
    },
    {
     "name": "stdout",
     "output_type": "stream",
     "text": [
      "Process  /Users/nhuantran/Downloads/Naruto Shippuuden English Subs/[HorribleSubs] Naruto Shippuuden - 320 [720p].ass\n"
     ]
    },
    {
     "name": "stderr",
     "output_type": "stream",
     "text": [
      "320it [4:19:16, 43.11s/it]"
     ]
    },
    {
     "name": "stdout",
     "output_type": "stream",
     "text": [
      "Process  /Users/nhuantran/Downloads/Naruto Shippuuden English Subs/[HorribleSubs] Naruto Shippuuden - 321 [720p].ass\n"
     ]
    },
    {
     "name": "stderr",
     "output_type": "stream",
     "text": [
      "321it [4:20:06, 45.24s/it]"
     ]
    },
    {
     "name": "stdout",
     "output_type": "stream",
     "text": [
      "Process  /Users/nhuantran/Downloads/Naruto Shippuuden English Subs/[HorribleSubs] Naruto Shippuuden - 322 [720p].ass\n"
     ]
    },
    {
     "name": "stderr",
     "output_type": "stream",
     "text": [
      "322it [4:21:01, 48.03s/it]"
     ]
    },
    {
     "name": "stdout",
     "output_type": "stream",
     "text": [
      "Process  /Users/nhuantran/Downloads/Naruto Shippuuden English Subs/[HorribleSubs] Naruto Shippuuden - 323 [720p].ass\n"
     ]
    },
    {
     "name": "stderr",
     "output_type": "stream",
     "text": [
      "323it [4:21:48, 47.85s/it]"
     ]
    },
    {
     "name": "stdout",
     "output_type": "stream",
     "text": [
      "Process  /Users/nhuantran/Downloads/Naruto Shippuuden English Subs/[HorribleSubs] Naruto Shippuuden - 324 [720p].ass\n"
     ]
    },
    {
     "name": "stderr",
     "output_type": "stream",
     "text": [
      "324it [4:22:34, 47.08s/it]"
     ]
    },
    {
     "name": "stdout",
     "output_type": "stream",
     "text": [
      "Process  /Users/nhuantran/Downloads/Naruto Shippuuden English Subs/[HorribleSubs] Naruto Shippuuden - 325 [720p].ass\n"
     ]
    },
    {
     "name": "stderr",
     "output_type": "stream",
     "text": [
      "325it [4:23:25, 48.42s/it]"
     ]
    },
    {
     "name": "stdout",
     "output_type": "stream",
     "text": [
      "Process  /Users/nhuantran/Downloads/Naruto Shippuuden English Subs/[HorribleSubs] Naruto Shippuuden - 326 [720p].ass\n"
     ]
    },
    {
     "name": "stderr",
     "output_type": "stream",
     "text": [
      "326it [4:24:21, 50.59s/it]"
     ]
    },
    {
     "name": "stdout",
     "output_type": "stream",
     "text": [
      "Process  /Users/nhuantran/Downloads/Naruto Shippuuden English Subs/[HorribleSubs] Naruto Shippuuden - 327 [720p].ass\n"
     ]
    },
    {
     "name": "stderr",
     "output_type": "stream",
     "text": [
      "327it [4:25:03, 48.00s/it]"
     ]
    },
    {
     "name": "stdout",
     "output_type": "stream",
     "text": [
      "Process  /Users/nhuantran/Downloads/Naruto Shippuuden English Subs/[HorribleSubs] Naruto Shippuuden - 328 [720p].ass\n"
     ]
    },
    {
     "name": "stderr",
     "output_type": "stream",
     "text": [
      "328it [4:25:51, 47.95s/it]"
     ]
    },
    {
     "name": "stdout",
     "output_type": "stream",
     "text": [
      "Process  /Users/nhuantran/Downloads/Naruto Shippuuden English Subs/[HorribleSubs] Naruto Shippuuden - 329 [720p].ass\n"
     ]
    },
    {
     "name": "stderr",
     "output_type": "stream",
     "text": [
      "329it [4:26:47, 50.45s/it]"
     ]
    },
    {
     "name": "stdout",
     "output_type": "stream",
     "text": [
      "Process  /Users/nhuantran/Downloads/Naruto Shippuuden English Subs/[HorribleSubs] Naruto Shippuuden - 330 [720p].ass\n"
     ]
    },
    {
     "name": "stderr",
     "output_type": "stream",
     "text": [
      "330it [4:27:50, 54.24s/it]"
     ]
    },
    {
     "name": "stdout",
     "output_type": "stream",
     "text": [
      "Process  /Users/nhuantran/Downloads/Naruto Shippuuden English Subs/[HorribleSubs] Naruto Shippuuden - 331 [720p].ass\n"
     ]
    },
    {
     "name": "stderr",
     "output_type": "stream",
     "text": [
      "331it [4:28:42, 53.57s/it]"
     ]
    },
    {
     "name": "stdout",
     "output_type": "stream",
     "text": [
      "Process  /Users/nhuantran/Downloads/Naruto Shippuuden English Subs/[HorribleSubs] Naruto Shippuuden - 332 [720p].ass\n"
     ]
    },
    {
     "name": "stderr",
     "output_type": "stream",
     "text": [
      "332it [4:29:33, 52.84s/it]"
     ]
    },
    {
     "name": "stdout",
     "output_type": "stream",
     "text": [
      "Process  /Users/nhuantran/Downloads/Naruto Shippuuden English Subs/[HorribleSubs] Naruto Shippuuden - 333 [720p].ass\n"
     ]
    },
    {
     "name": "stderr",
     "output_type": "stream",
     "text": [
      "333it [4:30:31, 54.26s/it]"
     ]
    },
    {
     "name": "stdout",
     "output_type": "stream",
     "text": [
      "Process  /Users/nhuantran/Downloads/Naruto Shippuuden English Subs/[HorribleSubs] Naruto Shippuuden - 334 [720p].ass\n"
     ]
    },
    {
     "name": "stderr",
     "output_type": "stream",
     "text": [
      "334it [4:31:30, 55.73s/it]"
     ]
    },
    {
     "name": "stdout",
     "output_type": "stream",
     "text": [
      "Process  /Users/nhuantran/Downloads/Naruto Shippuuden English Subs/[HorribleSubs] Naruto Shippuuden - 335 [720p].ass\n"
     ]
    },
    {
     "name": "stderr",
     "output_type": "stream",
     "text": [
      "335it [4:32:38, 59.45s/it]"
     ]
    },
    {
     "name": "stdout",
     "output_type": "stream",
     "text": [
      "Process  /Users/nhuantran/Downloads/Naruto Shippuuden English Subs/[HorribleSubs] Naruto Shippuuden - 336 [720p].ass\n"
     ]
    },
    {
     "name": "stderr",
     "output_type": "stream",
     "text": [
      "336it [4:33:23, 55.22s/it]"
     ]
    },
    {
     "name": "stdout",
     "output_type": "stream",
     "text": [
      "Process  /Users/nhuantran/Downloads/Naruto Shippuuden English Subs/[HorribleSubs] Naruto Shippuuden - 337 [720p].ass\n"
     ]
    },
    {
     "name": "stderr",
     "output_type": "stream",
     "text": [
      "337it [4:34:08, 52.15s/it]"
     ]
    },
    {
     "name": "stdout",
     "output_type": "stream",
     "text": [
      "Process  /Users/nhuantran/Downloads/Naruto Shippuuden English Subs/[HorribleSubs] Naruto Shippuuden - 338 [720p].ass\n"
     ]
    },
    {
     "name": "stderr",
     "output_type": "stream",
     "text": [
      "338it [4:35:01, 52.22s/it]"
     ]
    },
    {
     "name": "stdout",
     "output_type": "stream",
     "text": [
      "Process  /Users/nhuantran/Downloads/Naruto Shippuuden English Subs/[HorribleSubs] Naruto Shippuuden - 339 [720p].ass\n"
     ]
    },
    {
     "name": "stderr",
     "output_type": "stream",
     "text": [
      "339it [4:35:40, 48.49s/it]"
     ]
    },
    {
     "name": "stdout",
     "output_type": "stream",
     "text": [
      "Process  /Users/nhuantran/Downloads/Naruto Shippuuden English Subs/[HorribleSubs] Naruto Shippuuden - 340 [720p].ass\n"
     ]
    },
    {
     "name": "stderr",
     "output_type": "stream",
     "text": [
      "340it [4:36:41, 52.20s/it]"
     ]
    },
    {
     "name": "stdout",
     "output_type": "stream",
     "text": [
      "Process  /Users/nhuantran/Downloads/Naruto Shippuuden English Subs/[HorribleSubs] Naruto Shippuuden - 341 [720p].ass\n"
     ]
    },
    {
     "name": "stderr",
     "output_type": "stream",
     "text": [
      "341it [4:37:42, 54.74s/it]"
     ]
    },
    {
     "name": "stdout",
     "output_type": "stream",
     "text": [
      "Process  /Users/nhuantran/Downloads/Naruto Shippuuden English Subs/[HorribleSubs] Naruto Shippuuden - 342 [720p].ass\n"
     ]
    },
    {
     "name": "stderr",
     "output_type": "stream",
     "text": [
      "342it [4:38:30, 52.68s/it]"
     ]
    },
    {
     "name": "stdout",
     "output_type": "stream",
     "text": [
      "Process  /Users/nhuantran/Downloads/Naruto Shippuuden English Subs/[HorribleSubs] Naruto Shippuuden - 343 [720p].ass\n"
     ]
    },
    {
     "name": "stderr",
     "output_type": "stream",
     "text": [
      "343it [4:39:09, 48.71s/it]"
     ]
    },
    {
     "name": "stdout",
     "output_type": "stream",
     "text": [
      "Process  /Users/nhuantran/Downloads/Naruto Shippuuden English Subs/[HorribleSubs] Naruto Shippuuden - 344 [720p].ass\n"
     ]
    },
    {
     "name": "stderr",
     "output_type": "stream",
     "text": [
      "344it [4:40:11, 52.69s/it]"
     ]
    },
    {
     "name": "stdout",
     "output_type": "stream",
     "text": [
      "Process  /Users/nhuantran/Downloads/Naruto Shippuuden English Subs/[HorribleSubs] Naruto Shippuuden - 345 [720p].ass\n"
     ]
    },
    {
     "name": "stderr",
     "output_type": "stream",
     "text": [
      "345it [4:40:58, 51.01s/it]"
     ]
    },
    {
     "name": "stdout",
     "output_type": "stream",
     "text": [
      "Process  /Users/nhuantran/Downloads/Naruto Shippuuden English Subs/[HorribleSubs] Naruto Shippuuden - 346 [720p].ass\n"
     ]
    },
    {
     "name": "stderr",
     "output_type": "stream",
     "text": [
      "346it [4:41:48, 50.68s/it]"
     ]
    },
    {
     "name": "stdout",
     "output_type": "stream",
     "text": [
      "Process  /Users/nhuantran/Downloads/Naruto Shippuuden English Subs/[HorribleSubs] Naruto Shippuuden - 347 [720p].ass\n"
     ]
    },
    {
     "name": "stderr",
     "output_type": "stream",
     "text": [
      "347it [4:42:39, 50.57s/it]"
     ]
    },
    {
     "name": "stdout",
     "output_type": "stream",
     "text": [
      "Process  /Users/nhuantran/Downloads/Naruto Shippuuden English Subs/[HorribleSubs] Naruto Shippuuden - 348 [720p].ass\n"
     ]
    },
    {
     "name": "stderr",
     "output_type": "stream",
     "text": [
      "348it [4:43:33, 51.84s/it]"
     ]
    },
    {
     "name": "stdout",
     "output_type": "stream",
     "text": [
      "Process  /Users/nhuantran/Downloads/Naruto Shippuuden English Subs/[HorribleSubs] Naruto Shippuuden - 349 [720p].ass\n"
     ]
    },
    {
     "name": "stderr",
     "output_type": "stream",
     "text": [
      "349it [4:44:08, 46.73s/it]"
     ]
    },
    {
     "name": "stdout",
     "output_type": "stream",
     "text": [
      "Process  /Users/nhuantran/Downloads/Naruto Shippuuden English Subs/[HorribleSubs] Naruto Shippuuden - 350 [720p].ass\n"
     ]
    },
    {
     "name": "stderr",
     "output_type": "stream",
     "text": [
      "350it [4:44:50, 45.33s/it]"
     ]
    },
    {
     "name": "stdout",
     "output_type": "stream",
     "text": [
      "Process  /Users/nhuantran/Downloads/Naruto Shippuuden English Subs/[HorribleSubs] Naruto Shippuuden - 351 [720p].ass\n"
     ]
    },
    {
     "name": "stderr",
     "output_type": "stream",
     "text": [
      "351it [4:45:39, 46.36s/it]"
     ]
    },
    {
     "name": "stdout",
     "output_type": "stream",
     "text": [
      "Process  /Users/nhuantran/Downloads/Naruto Shippuuden English Subs/[HorribleSubs] Naruto Shippuuden - 352 [720p].ass\n"
     ]
    },
    {
     "name": "stderr",
     "output_type": "stream",
     "text": [
      "352it [4:46:17, 43.74s/it]"
     ]
    },
    {
     "name": "stdout",
     "output_type": "stream",
     "text": [
      "Process  /Users/nhuantran/Downloads/Naruto Shippuuden English Subs/[HorribleSubs] Naruto Shippuuden - 353 [720p].ass\n"
     ]
    },
    {
     "name": "stderr",
     "output_type": "stream",
     "text": [
      "353it [4:47:09, 46.43s/it]"
     ]
    },
    {
     "name": "stdout",
     "output_type": "stream",
     "text": [
      "Process  /Users/nhuantran/Downloads/Naruto Shippuuden English Subs/[HorribleSubs] Naruto Shippuuden - 354 [720p].ass\n"
     ]
    },
    {
     "name": "stderr",
     "output_type": "stream",
     "text": [
      "354it [4:47:46, 43.40s/it]"
     ]
    },
    {
     "name": "stdout",
     "output_type": "stream",
     "text": [
      "Process  /Users/nhuantran/Downloads/Naruto Shippuuden English Subs/[HorribleSubs] Naruto Shippuuden - 355 [720p].ass\n"
     ]
    },
    {
     "name": "stderr",
     "output_type": "stream",
     "text": [
      "355it [4:48:29, 43.34s/it]"
     ]
    },
    {
     "name": "stdout",
     "output_type": "stream",
     "text": [
      "Process  /Users/nhuantran/Downloads/Naruto Shippuuden English Subs/[HorribleSubs] Naruto Shippuuden - 356 [720p].ass\n"
     ]
    },
    {
     "name": "stderr",
     "output_type": "stream",
     "text": [
      "356it [4:49:18, 45.15s/it]"
     ]
    },
    {
     "name": "stdout",
     "output_type": "stream",
     "text": [
      "Process  /Users/nhuantran/Downloads/Naruto Shippuuden English Subs/[HorribleSubs] Naruto Shippuuden - 357 [720p].ass\n"
     ]
    },
    {
     "name": "stderr",
     "output_type": "stream",
     "text": [
      "357it [4:50:21, 50.50s/it]"
     ]
    },
    {
     "name": "stdout",
     "output_type": "stream",
     "text": [
      "Process  /Users/nhuantran/Downloads/Naruto Shippuuden English Subs/[HorribleSubs] Naruto Shippuuden - 358 [720p].ass\n"
     ]
    },
    {
     "name": "stderr",
     "output_type": "stream",
     "text": [
      "358it [4:51:27, 55.05s/it]"
     ]
    },
    {
     "name": "stdout",
     "output_type": "stream",
     "text": [
      "Process  /Users/nhuantran/Downloads/Naruto Shippuuden English Subs/[HorribleSubs] Naruto Shippuuden - 359 [720p].ass\n"
     ]
    },
    {
     "name": "stderr",
     "output_type": "stream",
     "text": [
      "359it [4:52:18, 53.86s/it]"
     ]
    },
    {
     "name": "stdout",
     "output_type": "stream",
     "text": [
      "Process  /Users/nhuantran/Downloads/Naruto Shippuuden English Subs/[HorribleSubs] Naruto Shippuuden - 360 [720p].ass\n"
     ]
    },
    {
     "name": "stderr",
     "output_type": "stream",
     "text": [
      "360it [4:53:05, 51.80s/it]"
     ]
    },
    {
     "name": "stdout",
     "output_type": "stream",
     "text": [
      "Process  /Users/nhuantran/Downloads/Naruto Shippuuden English Subs/[HorribleSubs] Naruto Shippuuden - 361 [720p].ass\n"
     ]
    },
    {
     "name": "stderr",
     "output_type": "stream",
     "text": [
      "361it [4:54:02, 53.38s/it]"
     ]
    },
    {
     "name": "stdout",
     "output_type": "stream",
     "text": [
      "Process  /Users/nhuantran/Downloads/Naruto Shippuuden English Subs/[HorribleSubs] Naruto Shippuuden - 362 [720p].ass\n"
     ]
    },
    {
     "name": "stderr",
     "output_type": "stream",
     "text": [
      "362it [4:54:53, 52.75s/it]"
     ]
    },
    {
     "name": "stdout",
     "output_type": "stream",
     "text": [
      "Process  /Users/nhuantran/Downloads/Naruto Shippuuden English Subs/[HorribleSubs] Naruto Shippuuden - 363 [720p].ass\n"
     ]
    },
    {
     "name": "stderr",
     "output_type": "stream",
     "text": [
      "363it [4:55:43, 51.91s/it]"
     ]
    },
    {
     "name": "stdout",
     "output_type": "stream",
     "text": [
      "Process  /Users/nhuantran/Downloads/Naruto Shippuuden English Subs/[HorribleSubs] Naruto Shippuuden - 364 [720p].ass\n"
     ]
    },
    {
     "name": "stderr",
     "output_type": "stream",
     "text": [
      "364it [4:56:32, 50.98s/it]"
     ]
    },
    {
     "name": "stdout",
     "output_type": "stream",
     "text": [
      "Process  /Users/nhuantran/Downloads/Naruto Shippuuden English Subs/[HorribleSubs] Naruto Shippuuden - 365 [720p].ass\n"
     ]
    },
    {
     "name": "stderr",
     "output_type": "stream",
     "text": [
      "365it [4:57:34, 54.36s/it]"
     ]
    },
    {
     "name": "stdout",
     "output_type": "stream",
     "text": [
      "Process  /Users/nhuantran/Downloads/Naruto Shippuuden English Subs/[HorribleSubs] Naruto Shippuuden - 366 [720p].ass\n"
     ]
    },
    {
     "name": "stderr",
     "output_type": "stream",
     "text": [
      "366it [4:58:49, 60.56s/it]"
     ]
    },
    {
     "name": "stdout",
     "output_type": "stream",
     "text": [
      "Process  /Users/nhuantran/Downloads/Naruto Shippuuden English Subs/[HorribleSubs] Naruto Shippuuden - 367 [720p].ass\n"
     ]
    },
    {
     "name": "stderr",
     "output_type": "stream",
     "text": [
      "367it [4:59:42, 58.24s/it]"
     ]
    },
    {
     "name": "stdout",
     "output_type": "stream",
     "text": [
      "Process  /Users/nhuantran/Downloads/Naruto Shippuuden English Subs/[HorribleSubs] Naruto Shippuuden - 368 [720p].ass\n"
     ]
    },
    {
     "name": "stderr",
     "output_type": "stream",
     "text": [
      "368it [5:00:19, 51.87s/it]"
     ]
    },
    {
     "name": "stdout",
     "output_type": "stream",
     "text": [
      "Process  /Users/nhuantran/Downloads/Naruto Shippuuden English Subs/[HorribleSubs] Naruto Shippuuden - 369 [720p].ass\n"
     ]
    },
    {
     "name": "stderr",
     "output_type": "stream",
     "text": [
      "369it [5:01:06, 50.38s/it]"
     ]
    },
    {
     "name": "stdout",
     "output_type": "stream",
     "text": [
      "Process  /Users/nhuantran/Downloads/Naruto Shippuuden English Subs/[HorribleSubs] Naruto Shippuuden - 370 [720p].ass\n"
     ]
    },
    {
     "name": "stderr",
     "output_type": "stream",
     "text": [
      "370it [5:02:15, 55.89s/it]"
     ]
    },
    {
     "name": "stdout",
     "output_type": "stream",
     "text": [
      "Process  /Users/nhuantran/Downloads/Naruto Shippuuden English Subs/[HorribleSubs] Naruto Shippuuden - 371 [720p].ass\n"
     ]
    },
    {
     "name": "stderr",
     "output_type": "stream",
     "text": [
      "371it [5:03:04, 53.99s/it]"
     ]
    },
    {
     "name": "stdout",
     "output_type": "stream",
     "text": [
      "Process  /Users/nhuantran/Downloads/Naruto Shippuuden English Subs/[HorribleSubs] Naruto Shippuuden - 372 [720p].ass\n"
     ]
    },
    {
     "name": "stderr",
     "output_type": "stream",
     "text": [
      "372it [5:03:54, 52.68s/it]"
     ]
    },
    {
     "name": "stdout",
     "output_type": "stream",
     "text": [
      "Process  /Users/nhuantran/Downloads/Naruto Shippuuden English Subs/[HorribleSubs] Naruto Shippuuden - 373 [720p].ass\n"
     ]
    },
    {
     "name": "stderr",
     "output_type": "stream",
     "text": [
      "373it [5:04:39, 50.39s/it]"
     ]
    },
    {
     "name": "stdout",
     "output_type": "stream",
     "text": [
      "Process  /Users/nhuantran/Downloads/Naruto Shippuuden English Subs/[HorribleSubs] Naruto Shippuuden - 374 [720p].ass\n"
     ]
    },
    {
     "name": "stderr",
     "output_type": "stream",
     "text": [
      "374it [5:05:24, 48.65s/it]"
     ]
    },
    {
     "name": "stdout",
     "output_type": "stream",
     "text": [
      "Process  /Users/nhuantran/Downloads/Naruto Shippuuden English Subs/[HorribleSubs] Naruto Shippuuden - 375 [720p].ass\n"
     ]
    },
    {
     "name": "stderr",
     "output_type": "stream",
     "text": [
      "375it [5:06:25, 52.41s/it]"
     ]
    },
    {
     "name": "stdout",
     "output_type": "stream",
     "text": [
      "Process  /Users/nhuantran/Downloads/Naruto Shippuuden English Subs/[HorribleSubs] Naruto Shippuuden - 376 [720p].ass\n"
     ]
    },
    {
     "name": "stderr",
     "output_type": "stream",
     "text": [
      "376it [5:07:08, 49.64s/it]"
     ]
    },
    {
     "name": "stdout",
     "output_type": "stream",
     "text": [
      "Process  /Users/nhuantran/Downloads/Naruto Shippuuden English Subs/[HorribleSubs] Naruto Shippuuden - 377 [720p].ass\n"
     ]
    },
    {
     "name": "stderr",
     "output_type": "stream",
     "text": [
      "377it [5:07:55, 48.95s/it]"
     ]
    },
    {
     "name": "stdout",
     "output_type": "stream",
     "text": [
      "Process  /Users/nhuantran/Downloads/Naruto Shippuuden English Subs/[HorribleSubs] Naruto Shippuuden - 378 [720p].ass\n"
     ]
    },
    {
     "name": "stderr",
     "output_type": "stream",
     "text": [
      "378it [5:08:31, 45.08s/it]"
     ]
    },
    {
     "name": "stdout",
     "output_type": "stream",
     "text": [
      "Process  /Users/nhuantran/Downloads/Naruto Shippuuden English Subs/[HorribleSubs] Naruto Shippuuden - 379 [720p].ass\n"
     ]
    },
    {
     "name": "stderr",
     "output_type": "stream",
     "text": [
      "379it [5:09:24, 47.37s/it]"
     ]
    },
    {
     "name": "stdout",
     "output_type": "stream",
     "text": [
      "Process  /Users/nhuantran/Downloads/Naruto Shippuuden English Subs/[HorribleSubs] Naruto Shippuuden - 380 [720p].ass\n"
     ]
    },
    {
     "name": "stderr",
     "output_type": "stream",
     "text": [
      "380it [5:10:04, 45.21s/it]"
     ]
    },
    {
     "name": "stdout",
     "output_type": "stream",
     "text": [
      "Process  /Users/nhuantran/Downloads/Naruto Shippuuden English Subs/[HorribleSubs] Naruto Shippuuden - 381 [720p].ass\n"
     ]
    },
    {
     "name": "stderr",
     "output_type": "stream",
     "text": [
      "381it [5:10:48, 44.86s/it]"
     ]
    },
    {
     "name": "stdout",
     "output_type": "stream",
     "text": [
      "Process  /Users/nhuantran/Downloads/Naruto Shippuuden English Subs/[HorribleSubs] Naruto Shippuuden - 382 [720p].ass\n"
     ]
    },
    {
     "name": "stderr",
     "output_type": "stream",
     "text": [
      "382it [5:11:41, 47.31s/it]"
     ]
    },
    {
     "name": "stdout",
     "output_type": "stream",
     "text": [
      "Process  /Users/nhuantran/Downloads/Naruto Shippuuden English Subs/[HorribleSubs] Naruto Shippuuden - 383 [720p].ass\n"
     ]
    },
    {
     "name": "stderr",
     "output_type": "stream",
     "text": [
      "383it [5:12:38, 50.13s/it]"
     ]
    },
    {
     "name": "stdout",
     "output_type": "stream",
     "text": [
      "Process  /Users/nhuantran/Downloads/Naruto Shippuuden English Subs/[HorribleSubs] Naruto Shippuuden - 384 [720p].ass\n"
     ]
    },
    {
     "name": "stderr",
     "output_type": "stream",
     "text": [
      "384it [5:13:20, 47.76s/it]"
     ]
    },
    {
     "name": "stdout",
     "output_type": "stream",
     "text": [
      "Process  /Users/nhuantran/Downloads/Naruto Shippuuden English Subs/[HorribleSubs] Naruto Shippuuden - 385 [720p].ass\n"
     ]
    },
    {
     "name": "stderr",
     "output_type": "stream",
     "text": [
      "385it [5:13:57, 44.45s/it]"
     ]
    },
    {
     "name": "stdout",
     "output_type": "stream",
     "text": [
      "Process  /Users/nhuantran/Downloads/Naruto Shippuuden English Subs/[HorribleSubs] Naruto Shippuuden - 386 [720p].ass\n"
     ]
    },
    {
     "name": "stderr",
     "output_type": "stream",
     "text": [
      "386it [5:14:35, 42.62s/it]"
     ]
    },
    {
     "name": "stdout",
     "output_type": "stream",
     "text": [
      "Process  /Users/nhuantran/Downloads/Naruto Shippuuden English Subs/[HorribleSubs] Naruto Shippuuden - 387 [720p].ass\n"
     ]
    },
    {
     "name": "stderr",
     "output_type": "stream",
     "text": [
      "387it [5:15:20, 43.14s/it]"
     ]
    },
    {
     "name": "stdout",
     "output_type": "stream",
     "text": [
      "Process  /Users/nhuantran/Downloads/Naruto Shippuuden English Subs/[HorribleSubs] Naruto Shippuuden - 388 [720p].ass\n"
     ]
    },
    {
     "name": "stderr",
     "output_type": "stream",
     "text": [
      "388it [5:16:08, 44.67s/it]"
     ]
    },
    {
     "name": "stdout",
     "output_type": "stream",
     "text": [
      "Process  /Users/nhuantran/Downloads/Naruto Shippuuden English Subs/[HorribleSubs] Naruto Shippuuden - 389 [720p].ass\n"
     ]
    },
    {
     "name": "stderr",
     "output_type": "stream",
     "text": [
      "389it [5:16:48, 43.28s/it]"
     ]
    },
    {
     "name": "stdout",
     "output_type": "stream",
     "text": [
      "Process  /Users/nhuantran/Downloads/Naruto Shippuuden English Subs/[HorribleSubs] Naruto Shippuuden - 390 [720p].ass\n"
     ]
    },
    {
     "name": "stderr",
     "output_type": "stream",
     "text": [
      "390it [5:17:33, 43.73s/it]"
     ]
    },
    {
     "name": "stdout",
     "output_type": "stream",
     "text": [
      "Process  /Users/nhuantran/Downloads/Naruto Shippuuden English Subs/[HorribleSubs] Naruto Shippuuden - 391 [720p].ass\n"
     ]
    },
    {
     "name": "stderr",
     "output_type": "stream",
     "text": [
      "391it [5:18:15, 43.30s/it]"
     ]
    },
    {
     "name": "stdout",
     "output_type": "stream",
     "text": [
      "Process  /Users/nhuantran/Downloads/Naruto Shippuuden English Subs/[HorribleSubs] Naruto Shippuuden - 392 [720p].ass\n"
     ]
    },
    {
     "name": "stderr",
     "output_type": "stream",
     "text": [
      "392it [5:19:05, 45.38s/it]"
     ]
    },
    {
     "name": "stdout",
     "output_type": "stream",
     "text": [
      "Process  /Users/nhuantran/Downloads/Naruto Shippuuden English Subs/[HorribleSubs] Naruto Shippuuden - 393 [720p].ass\n"
     ]
    },
    {
     "name": "stderr",
     "output_type": "stream",
     "text": [
      "393it [5:19:53, 46.22s/it]"
     ]
    },
    {
     "name": "stdout",
     "output_type": "stream",
     "text": [
      "Process  /Users/nhuantran/Downloads/Naruto Shippuuden English Subs/[HorribleSubs] Naruto Shippuuden - 394 [720p].ass\n"
     ]
    },
    {
     "name": "stderr",
     "output_type": "stream",
     "text": [
      "394it [5:20:38, 45.63s/it]"
     ]
    },
    {
     "name": "stdout",
     "output_type": "stream",
     "text": [
      "Process  /Users/nhuantran/Downloads/Naruto Shippuuden English Subs/[HorribleSubs] Naruto Shippuuden - 395 [720p].ass\n"
     ]
    },
    {
     "name": "stderr",
     "output_type": "stream",
     "text": [
      "395it [5:21:27, 46.79s/it]"
     ]
    },
    {
     "name": "stdout",
     "output_type": "stream",
     "text": [
      "Process  /Users/nhuantran/Downloads/Naruto Shippuuden English Subs/[HorribleSubs] Naruto Shippuuden - 396 [720p].ass\n"
     ]
    },
    {
     "name": "stderr",
     "output_type": "stream",
     "text": [
      "396it [5:22:14, 46.91s/it]"
     ]
    },
    {
     "name": "stdout",
     "output_type": "stream",
     "text": [
      "Process  /Users/nhuantran/Downloads/Naruto Shippuuden English Subs/[HorribleSubs] Naruto Shippuuden - 397 [720p].ass\n"
     ]
    },
    {
     "name": "stderr",
     "output_type": "stream",
     "text": [
      "397it [5:23:08, 48.91s/it]"
     ]
    },
    {
     "name": "stdout",
     "output_type": "stream",
     "text": [
      "Process  /Users/nhuantran/Downloads/Naruto Shippuuden English Subs/[HorribleSubs] Naruto Shippuuden - 398 [720p].ass\n"
     ]
    },
    {
     "name": "stderr",
     "output_type": "stream",
     "text": [
      "398it [5:23:42, 44.44s/it]"
     ]
    },
    {
     "name": "stdout",
     "output_type": "stream",
     "text": [
      "Process  /Users/nhuantran/Downloads/Naruto Shippuuden English Subs/[HorribleSubs] Naruto Shippuuden - 399 [720p].ass\n"
     ]
    },
    {
     "name": "stderr",
     "output_type": "stream",
     "text": [
      "399it [5:24:31, 45.66s/it]"
     ]
    },
    {
     "name": "stdout",
     "output_type": "stream",
     "text": [
      "Process  /Users/nhuantran/Downloads/Naruto Shippuuden English Subs/[HorribleSubs] Naruto Shippuuden - 400 [720p].ass\n"
     ]
    },
    {
     "name": "stderr",
     "output_type": "stream",
     "text": [
      "400it [5:25:20, 46.95s/it]"
     ]
    },
    {
     "name": "stdout",
     "output_type": "stream",
     "text": [
      "Process  /Users/nhuantran/Downloads/Naruto Shippuuden English Subs/[HorribleSubs] Naruto Shippuuden - 401 [720p].ass\n"
     ]
    },
    {
     "name": "stderr",
     "output_type": "stream",
     "text": [
      "401it [5:26:08, 46.98s/it]"
     ]
    },
    {
     "name": "stdout",
     "output_type": "stream",
     "text": [
      "Process  /Users/nhuantran/Downloads/Naruto Shippuuden English Subs/[HorribleSubs] Naruto Shippuuden - 402 [720p].ass\n"
     ]
    },
    {
     "name": "stderr",
     "output_type": "stream",
     "text": [
      "402it [5:26:40, 42.72s/it]"
     ]
    },
    {
     "name": "stdout",
     "output_type": "stream",
     "text": [
      "Process  /Users/nhuantran/Downloads/Naruto Shippuuden English Subs/[HorribleSubs] Naruto Shippuuden - 403 [720p].ass\n"
     ]
    },
    {
     "name": "stderr",
     "output_type": "stream",
     "text": [
      "403it [5:27:18, 41.19s/it]"
     ]
    },
    {
     "name": "stdout",
     "output_type": "stream",
     "text": [
      "Process  /Users/nhuantran/Downloads/Naruto Shippuuden English Subs/[HorribleSubs] Naruto Shippuuden - 404 [720p].ass\n"
     ]
    },
    {
     "name": "stderr",
     "output_type": "stream",
     "text": [
      "404it [5:28:08, 43.75s/it]"
     ]
    },
    {
     "name": "stdout",
     "output_type": "stream",
     "text": [
      "Process  /Users/nhuantran/Downloads/Naruto Shippuuden English Subs/[HorribleSubs] Naruto Shippuuden - 405 [720p].ass\n"
     ]
    },
    {
     "name": "stderr",
     "output_type": "stream",
     "text": [
      "405it [5:28:57, 45.57s/it]"
     ]
    },
    {
     "name": "stdout",
     "output_type": "stream",
     "text": [
      "Process  /Users/nhuantran/Downloads/Naruto Shippuuden English Subs/[HorribleSubs] Naruto Shippuuden - 406 [720p].ass\n"
     ]
    },
    {
     "name": "stderr",
     "output_type": "stream",
     "text": [
      "406it [5:29:58, 50.03s/it]"
     ]
    },
    {
     "name": "stdout",
     "output_type": "stream",
     "text": [
      "Process  /Users/nhuantran/Downloads/Naruto Shippuuden English Subs/[HorribleSubs] Naruto Shippuuden - 407 [720p].ass\n"
     ]
    },
    {
     "name": "stderr",
     "output_type": "stream",
     "text": [
      "407it [5:30:52, 51.27s/it]"
     ]
    },
    {
     "name": "stdout",
     "output_type": "stream",
     "text": [
      "Process  /Users/nhuantran/Downloads/Naruto Shippuuden English Subs/[HorribleSubs] Naruto Shippuuden - 408 [720p].ass\n"
     ]
    },
    {
     "name": "stderr",
     "output_type": "stream",
     "text": [
      "408it [5:31:39, 50.01s/it]"
     ]
    },
    {
     "name": "stdout",
     "output_type": "stream",
     "text": [
      "Process  /Users/nhuantran/Downloads/Naruto Shippuuden English Subs/[HorribleSubs] Naruto Shippuuden - 409 [720p].ass\n"
     ]
    },
    {
     "name": "stderr",
     "output_type": "stream",
     "text": [
      "409it [5:32:32, 50.86s/it]"
     ]
    },
    {
     "name": "stdout",
     "output_type": "stream",
     "text": [
      "Process  /Users/nhuantran/Downloads/Naruto Shippuuden English Subs/[HorribleSubs] Naruto Shippuuden - 410 [720p].ass\n"
     ]
    },
    {
     "name": "stderr",
     "output_type": "stream",
     "text": [
      "410it [5:33:21, 50.15s/it]"
     ]
    },
    {
     "name": "stdout",
     "output_type": "stream",
     "text": [
      "Process  /Users/nhuantran/Downloads/Naruto Shippuuden English Subs/[HorribleSubs] Naruto Shippuuden - 411 [720p].ass\n"
     ]
    },
    {
     "name": "stderr",
     "output_type": "stream",
     "text": [
      "411it [5:34:03, 47.82s/it]"
     ]
    },
    {
     "name": "stdout",
     "output_type": "stream",
     "text": [
      "Process  /Users/nhuantran/Downloads/Naruto Shippuuden English Subs/[HorribleSubs] Naruto Shippuuden - 412 [720p].ass\n"
     ]
    },
    {
     "name": "stderr",
     "output_type": "stream",
     "text": [
      "412it [5:34:48, 47.02s/it]"
     ]
    },
    {
     "name": "stdout",
     "output_type": "stream",
     "text": [
      "Process  /Users/nhuantran/Downloads/Naruto Shippuuden English Subs/[HorribleSubs] Naruto Shippuuden - 413 [720p].ass\n"
     ]
    },
    {
     "name": "stderr",
     "output_type": "stream",
     "text": [
      "413it [5:35:50, 51.42s/it]"
     ]
    },
    {
     "name": "stdout",
     "output_type": "stream",
     "text": [
      "Process  /Users/nhuantran/Downloads/Naruto Shippuuden English Subs/[HorribleSubs] Naruto Shippuuden - 414 [720p].ass\n"
     ]
    },
    {
     "name": "stderr",
     "output_type": "stream",
     "text": [
      "414it [5:36:33, 48.86s/it]"
     ]
    },
    {
     "name": "stdout",
     "output_type": "stream",
     "text": [
      "Process  /Users/nhuantran/Downloads/Naruto Shippuuden English Subs/[HorribleSubs] Naruto Shippuuden - 415 [720p].ass\n"
     ]
    },
    {
     "name": "stderr",
     "output_type": "stream",
     "text": [
      "415it [5:37:16, 47.08s/it]"
     ]
    },
    {
     "name": "stdout",
     "output_type": "stream",
     "text": [
      "Process  /Users/nhuantran/Downloads/Naruto Shippuuden English Subs/[HorribleSubs] Naruto Shippuuden - 416 [720p].ass\n"
     ]
    },
    {
     "name": "stderr",
     "output_type": "stream",
     "text": [
      "416it [5:37:56, 45.09s/it]"
     ]
    },
    {
     "name": "stdout",
     "output_type": "stream",
     "text": [
      "Process  /Users/nhuantran/Downloads/Naruto Shippuuden English Subs/[HorribleSubs] Naruto Shippuuden - 417 [720p].ass\n"
     ]
    },
    {
     "name": "stderr",
     "output_type": "stream",
     "text": [
      "417it [5:38:48, 47.02s/it]"
     ]
    },
    {
     "name": "stdout",
     "output_type": "stream",
     "text": [
      "Process  /Users/nhuantran/Downloads/Naruto Shippuuden English Subs/[HorribleSubs] Naruto Shippuuden - 418 [720p].ass\n"
     ]
    },
    {
     "name": "stderr",
     "output_type": "stream",
     "text": [
      "418it [5:39:33, 46.43s/it]"
     ]
    },
    {
     "name": "stdout",
     "output_type": "stream",
     "text": [
      "Process  /Users/nhuantran/Downloads/Naruto Shippuuden English Subs/[HorribleSubs] Naruto Shippuuden - 419 [720p].ass\n"
     ]
    },
    {
     "name": "stderr",
     "output_type": "stream",
     "text": [
      "419it [5:40:19, 46.44s/it]"
     ]
    },
    {
     "name": "stdout",
     "output_type": "stream",
     "text": [
      "Process  /Users/nhuantran/Downloads/Naruto Shippuuden English Subs/[HorribleSubs] Naruto Shippuuden - 420 [720p].ass\n"
     ]
    },
    {
     "name": "stderr",
     "output_type": "stream",
     "text": [
      "420it [5:41:15, 49.35s/it]"
     ]
    },
    {
     "name": "stdout",
     "output_type": "stream",
     "text": [
      "Process  /Users/nhuantran/Downloads/Naruto Shippuuden English Subs/[HorribleSubs] Naruto Shippuuden - 421 [720p].ass\n"
     ]
    },
    {
     "name": "stderr",
     "output_type": "stream",
     "text": [
      "421it [5:42:06, 49.70s/it]"
     ]
    },
    {
     "name": "stdout",
     "output_type": "stream",
     "text": [
      "Process  /Users/nhuantran/Downloads/Naruto Shippuuden English Subs/[HorribleSubs] Naruto Shippuuden - 422 [720p].ass\n"
     ]
    },
    {
     "name": "stderr",
     "output_type": "stream",
     "text": [
      "422it [5:42:56, 49.90s/it]"
     ]
    },
    {
     "name": "stdout",
     "output_type": "stream",
     "text": [
      "Process  /Users/nhuantran/Downloads/Naruto Shippuuden English Subs/[HorribleSubs] Naruto Shippuuden - 423 [720p].ass\n"
     ]
    },
    {
     "name": "stderr",
     "output_type": "stream",
     "text": [
      "423it [5:43:42, 48.81s/it]"
     ]
    },
    {
     "name": "stdout",
     "output_type": "stream",
     "text": [
      "Process  /Users/nhuantran/Downloads/Naruto Shippuuden English Subs/[HorribleSubs] Naruto Shippuuden - 424 [720p].ass\n"
     ]
    },
    {
     "name": "stderr",
     "output_type": "stream",
     "text": [
      "424it [5:44:24, 46.54s/it]"
     ]
    },
    {
     "name": "stdout",
     "output_type": "stream",
     "text": [
      "Process  /Users/nhuantran/Downloads/Naruto Shippuuden English Subs/[HorribleSubs] Naruto Shippuuden - 425 [720p].ass\n"
     ]
    },
    {
     "name": "stderr",
     "output_type": "stream",
     "text": [
      "425it [5:45:22, 50.02s/it]"
     ]
    },
    {
     "name": "stdout",
     "output_type": "stream",
     "text": [
      "Process  /Users/nhuantran/Downloads/Naruto Shippuuden English Subs/[HorribleSubs] Naruto Shippuuden - 426 [720p].ass\n"
     ]
    },
    {
     "name": "stderr",
     "output_type": "stream",
     "text": [
      "426it [5:45:54, 48.72s/it]\n"
     ]
    }
   ],
   "source": [
    "from tqdm import tqdm\n",
    "from glob import glob\n",
    "\n",
    "pattern = r\"\\[HorribleSubs\\] Naruto Shippuuden - (\\d{3}) \\[\\d{3}p\\].ass\"\n",
    "prev = last_content\n",
    "folder_path = \"/Users/nhuantran/Downloads/Naruto Shippuuden English Subs/\"\n",
    "output_name = \"../data/naruto_shippuuden_subtitle.json\"\n",
    "with open(output_name, \"w\") as f:\n",
    "    for idx, fpath in tqdm(enumerate(sorted(glob(folder_path+\"/*.ass\")))):\n",
    "        print(\"Process \", fpath)\n",
    "        dialogues = parse_ass_file(fpath)\n",
    "        df_dialogue = pd.DataFrame(dialogues, columns=[\"Layer\", \"Start\", \"End\", \"Style\", \"Name\", \"MarginL\", \"MarginR\", \"MarginV\", \"Effect\",\"Text\"])\n",
    "        content = \"-\".join(df_dialogue[\"Text\"].tolist())\n",
    "\n",
    "        file_name = fpath.split(\"/\")[-1]\n",
    "        match = re.search(pattern, file_name)\n",
    "        episode_number = match.group(1)\n",
    "        output = chain_list.invoke({\"content\": content, \"prev\": prev})\n",
    "        prev = output[\"text\"]\n",
    "        f.write(\n",
    "            json.dumps({\"episode_number\": episode_number, \"content\": output[\"text\"]})\n",
    "            + \"\\n\"\n",
    "        )\n",
    "\n",
    "        if idx > 0 and idx % 10 == 0:\n",
    "            f.flush()"
   ]
  },
  {
   "cell_type": "code",
   "execution_count": 81,
   "metadata": {},
   "outputs": [],
   "source": [
    "from elasticsearch import Elasticsearch\n",
    "from tqdm import tqdm\n",
    "es_client = Elasticsearch()"
   ]
  },
  {
   "cell_type": "code",
   "execution_count": 82,
   "metadata": {},
   "outputs": [
    {
     "name": "stderr",
     "output_type": "stream",
     "text": [
      "  0%|          | 0/135 [00:00<?, ?it/s]/var/folders/_q/zxnjn9rd7vj0h6477qfvbfw00000gn/T/ipykernel_64085/4082663910.py:11: DeprecationWarning: The 'body' parameter is deprecated for the 'index' API and will be removed in a future version. Instead use the 'document' parameter. See https://github.com/elastic/elasticsearch-py/issues/1698 for more information\n",
      "  es_client.index(index=\"naruto_episode\", body={\"content\": summarize_episode_content, \"dialogue\": content, \"type\": \"small\", \"episode_number\": episode_number})\n",
      "100%|██████████| 135/135 [00:00<00:00, 142.04it/s]\n"
     ]
    }
   ],
   "source": [
    "season_one_path = \"../data/naruto_subtitle_summarize_by_episode.json\"\n",
    "season_one_dialogue_format_path = \"/Users/nhuantran/Downloads/Naruto English Subtitles 1-135/(SB-RAW)NARUTO E{episode} (R2DVD 960x728 x264 AC3).en.srt\"\n",
    "lines = [json.loads(l) for l in open(season_one_path).readlines()]\n",
    "\n",
    "for line in tqdm(lines):\n",
    "    episode_number = line[\"episode_number\"]\n",
    "    summarize_episode_content  = line[\"content\"]\n",
    "    fpath = season_one_dialogue_format_path.format(episode=episode_number)\n",
    "    subtitles = extract_subtitles(fpath)\n",
    "    content = \"-\".join(subtitles)\n",
    "    es_client.index(index=\"naruto_episode\", body={\"content\": summarize_episode_content, \"dialogue\": content, \"type\": \"small\", \"episode_number\": episode_number})"
   ]
  },
  {
   "cell_type": "code",
   "execution_count": 83,
   "metadata": {},
   "outputs": [
    {
     "name": "stderr",
     "output_type": "stream",
     "text": [
      "  0%|          | 0/426 [00:00<?, ?it/s]/var/folders/_q/zxnjn9rd7vj0h6477qfvbfw00000gn/T/ipykernel_64085/3202105387.py:8: DeprecationWarning: The 'body' parameter is deprecated for the 'index' API and will be removed in a future version. Instead use the 'document' parameter. See https://github.com/elastic/elasticsearch-py/issues/1698 for more information\n",
      "  es_client.index(index=\"naruto_episode\", body={\"content\": summarize_episode_content, \"type\": \"shippuden\", \"episode_number\": episode_number})\n",
      "100%|██████████| 426/426 [00:00<00:00, 617.66it/s]\n"
     ]
    }
   ],
   "source": [
    "season_two_path = \"../data/naruto_shippuuden_subtitle.json\"\n",
    "season_one_dialogue_format_path = \"/Users/nhuantran/Downloads/Naruto English Subtitles 1-135/(SB-RAW)NARUTO E{episode} (R2DVD 960x728 x264 AC3).en.srt\"\n",
    "lines = [json.loads(l) for l in open(season_two_path).readlines()]\n",
    "\n",
    "for line in tqdm(lines):\n",
    "    episode_number = int(line[\"episode_number\"])\n",
    "    summarize_episode_content = line[\"content\"]\n",
    "    es_client.index(index=\"naruto_episode\", body={\"content\": summarize_episode_content, \"type\": \"shippuden\", \"episode_number\": episode_number})"
   ]
  }
 ],
 "metadata": {
  "kernelspec": {
   "display_name": "semantic_search",
   "language": "python",
   "name": "python3"
  },
  "language_info": {
   "codemirror_mode": {
    "name": "ipython",
    "version": 3
   },
   "file_extension": ".py",
   "mimetype": "text/x-python",
   "name": "python",
   "nbconvert_exporter": "python",
   "pygments_lexer": "ipython3",
   "version": "3.10.0"
  }
 },
 "nbformat": 4,
 "nbformat_minor": 2
}
